{
 "cells": [
  {
   "cell_type": "markdown",
   "metadata": {},
   "source": [
    "This notebook illustrates the use of different apis for model creation in tensotflow. <br>\n",
    "APIs used: <br>\n",
    "1. Sequential api\n",
    "2. Functional api\n",
    "3. Sub-classing api"
   ]
  },
  {
   "cell_type": "markdown",
   "metadata": {},
   "source": [
    "# Iris Dataset"
   ]
  },
  {
   "cell_type": "markdown",
   "metadata": {},
   "source": [
    "The Iris dataset is a classic dataset in the field of machine learning and statistics, often used as a benchmark for classification algorithms. It consists of 150 iris flower samples from three different species: setosa, versicolor, and virginica.\n",
    "\n",
    "The task is to classify iris flowers into their correct species based on four measured features:\n",
    "Sepal length: The length of the flower's sepal in centimeters.\n",
    "Sepal width: The width of the flower's sepal in centimeters.\n",
    "Petal length: The length of the flower's petal in centimeters.\n",
    "Petal width: The width of the flower's petal in centimeters.\n",
    "\n",
    "Build a model that can accurately predict the species of an iris flower given its four measured features. A good model would have a high accuracy rate, meaning it correctly classifies a large percentage of the iris flowers in the dataset."
   ]
  },
  {
   "cell_type": "markdown",
   "metadata": {},
   "source": [
    "### Imports"
   ]
  },
  {
   "cell_type": "code",
   "execution_count": 1,
   "metadata": {},
   "outputs": [
    {
     "name": "stderr",
     "output_type": "stream",
     "text": [
      "C:\\Users\\prapt\\AppData\\Local\\Temp\\ipykernel_15672\\405057623.py:15: FutureWarning: use_inf_as_na option is deprecated and will be removed in a future version. Convert inf values to NaN before operating instead.\n",
      "  pd.options.mode.use_inf_as_na = True\n"
     ]
    }
   ],
   "source": [
    "import os\n",
    "import shutil\n",
    "import wandb\n",
    "import numpy as np\n",
    "import pandas as pd\n",
    "import tensorflow as tf\n",
    "from logzero import logger\n",
    "from functools import partial\n",
    "from sklearn.decomposition import PCA \n",
    "from tensorflow.keras.models import Model\n",
    "from tensorflow.keras.layers import Dense, Input, Concatenate, Layer, Activation\n",
    "from tensorflow.keras.models import Sequential\n",
    "# from wandb.integration.keras import WandbCallback\n",
    "\n",
    "pd.options.mode.use_inf_as_na = True"
   ]
  },
  {
   "cell_type": "markdown",
   "metadata": {},
   "source": [
    "### Data Loading"
   ]
  },
  {
   "cell_type": "code",
   "execution_count": 2,
   "metadata": {},
   "outputs": [],
   "source": [
    "data_config = {\n",
    "    \"data_path\": r\"data\\iris\\iris.data\",\n",
    "    \"preprocess\": True,\n",
    "    \"validate\": True,\n",
    "    \"validation_split\":0.2,\n",
    "    \"test_split\":0.3\n",
    "}"
   ]
  },
  {
   "cell_type": "code",
   "execution_count": 3,
   "metadata": {},
   "outputs": [],
   "source": [
    "class DataPipeline:\n",
    "    def __init__(self):\n",
    "        logger.info('Data Pipeline set up')\n",
    "        self.class_mapping = {\"Iris-setosa\": 0, \"Iris-versicolor\": 1, \"Iris-virginica\": 2}\n",
    "\n",
    "    def load(self, data_path:str):\n",
    "        \"\"\"Loading Iris dataset \"\"\"\n",
    "        dataset_df = pd.read_csv(data_path, names=[ \"sepal_length\", \"sepal_width\", \"petal_length\", \"petal_width\", \"species\"]).sample(frac=1)\n",
    "        dataset_df[\"species\"] = dataset_df[\"species\"].map(self.class_mapping)\n",
    "        dataset_df = pd.concat([dataset_df, pd.get_dummies(dataset_df['species'], prefix='species', drop_first=True, dtype=float)], axis=1)\n",
    "        dataset_df = dataset_df.drop(columns=[\"species\"], axis=1)\n",
    "        \n",
    "        # logger.debug( f\"Dataset: {dataset_df.head(2)}\" )\n",
    "        logger.info( f\"Loaded {len(dataset_df)} records!\" )\n",
    "\n",
    "        return dataset_df\n",
    "\n",
    "    def preprocess(self, dataset):\n",
    "        \"\"\"Pre-process dataset\n",
    "\n",
    "        Args:\n",
    "            dataset (_type_): _description_\n",
    "        \"\"\"\n",
    "        dataset[\"sepal_length\"].apply(lambda x: (x - 5.84)/0.83)\n",
    "        dataset[\"sepal_width\"].apply(lambda x: (x - 3.05)/0.43) \n",
    "        dataset[\"petal_length\"].apply(lambda x: (x - 3.76)/1.76)\n",
    "        dataset[\"petal_width\"].apply(lambda x: (x - 1.20)/0.76) \n",
    "\n",
    "        return dataset\n",
    "\n",
    "    def validate(self, dataset):\n",
    "        \"\"\"Validates dataset\n",
    "\n",
    "        Args:\n",
    "            dataset (tf.data.Dataset/np.ndarray): .\n",
    "\n",
    "        Returns:\n",
    "            isvalid (bool): Is loaded dataset valid\n",
    "            error (str): Error message in case dataset is not valid\n",
    "        \"\"\"\n",
    "        if len(dataset.columns) != 6:\n",
    "            return False, \"Dataset should have the following columns - [ sepal_length, sepal_width, petal_length, petal_width, species]. One or more columns missing.\"\n",
    "        \n",
    "        null_mask = dataset.isnull()\n",
    "        if null_mask.values.any():\n",
    "            return False, f\"Null values found at indices - {zip(np.where(null_mask))}\"\n",
    "        \n",
    "        return True, \"\"\n",
    "\n",
    "    def run(self, config:dict):\n",
    "        \"\"\"Runner for the complete pipeline\n",
    "\n",
    "        Args:\n",
    "            config (dict): .\n",
    "\n",
    "        Raises:\n",
    "            Exception: InValidDatasetException when the data schema is not valid \n",
    "        \"\"\"\n",
    "        dataset = self.load(config[\"data_path\"])\n",
    "        \n",
    "        if config.get(\"validate\", False):\n",
    "            isValid, error = self.validate(dataset)\n",
    "            if not isValid:\n",
    "                raise Exception(error)\n",
    "            else:\n",
    "                logger.info(\"Loaded dataset has a valid schema\")\n",
    "        \n",
    "        split_index = int((1-config[\"test_split\"])*len(dataset))\n",
    "        train_dataset = dataset.iloc[:split_index]\n",
    "        test_dataset = dataset.iloc[split_index:]\n",
    "        logger.debug( f\"Records in: Train split - {len(train_dataset)}, Test split - {len(test_dataset)}\" )\n",
    "\n",
    "        if config.get(\"preprocess\", False):\n",
    "            train_dataset = self.preprocess(train_dataset)\n",
    "            test_dataset = self.preprocess(test_dataset)\n",
    "        \n",
    "        return train_dataset, test_dataset\n"
   ]
  },
  {
   "cell_type": "code",
   "execution_count": 4,
   "metadata": {},
   "outputs": [
    {
     "name": "stderr",
     "output_type": "stream",
     "text": [
      "[I 241022 19:38:49 2685342689:3] Data Pipeline set up\n",
      "[I 241022 19:38:50 2685342689:14] Loaded 150 records!\n",
      "[I 241022 19:38:50 2685342689:66] Loaded dataset has a valid schema\n",
      "[D 241022 19:38:50 2685342689:71] Records in: Train split - 105, Test split - 45\n"
     ]
    }
   ],
   "source": [
    "data_pipeline = DataPipeline()\n",
    "train_dataset, test_dataset = data_pipeline.run(data_config)"
   ]
  },
  {
   "cell_type": "markdown",
   "metadata": {},
   "source": [
    "### Training"
   ]
  },
  {
   "cell_type": "markdown",
   "metadata": {},
   "source": [
    "#### Pipeline"
   ]
  },
  {
   "cell_type": "code",
   "execution_count": 15,
   "metadata": {},
   "outputs": [],
   "source": [
    "class CustomCallback(tf.keras.callbacks.Callback):\n",
    "    def __init__(self, model_tags):\n",
    "        self.accuracy = None\n",
    "        self.title = \"iris-functional_api\"\n",
    "        wandb.run.tags = model_tags\n",
    "\n",
    "    def on_train_begin(self, logs=\n",
    "                       None):\n",
    "        if os.path.exists(f\"models/iris/{self.title}\"):\n",
    "            shutil.rmtree(f\"models/iris/{self.title}\")\n",
    "\n",
    "    def on_epoch_end(self, epoch, logs=None):\n",
    "        wandb.log(logs)\n",
    "\n",
    "        if logs and (not self.accuracy or logs[\"val_acc\"] > self.accuracy):\n",
    "            self.accuracy = logs[\"val_acc\"]\n",
    "            # tf.saved_model.save(self.model, f\"models/iris/{self.title}\")\n",
    "            self.model.save(f\"models/iris/{self.title}.h5\")\n",
    "        \n",
    "    def on_train_end(self, logs=None):\n",
    "        artifact = wandb.run.log_artifact(f\"models/iris/{self.title}.h5\", self.title, type=\"Models\")\n",
    "        wandb.run.link_artifact( artifact=artifact,  target_path=\"praptipatil01/model-registry/Iris\")            "
   ]
  },
  {
   "cell_type": "code",
   "execution_count": 8,
   "metadata": {},
   "outputs": [],
   "source": [
    "class TrainingPipeline:\n",
    "    def __init__(self):\n",
    "        self.sweep_iteration_count = 10\n",
    "        logger.info('Training Pipeline set up')\n",
    "\n",
    "    def experiment(self, dataset):\n",
    "        sweep_id = wandb.sweep(sweep=self.config[\"sweep\"], project=\"Iris-Species-Classification\")\n",
    "        logger.debug(f\"Sweep Id: {sweep_id}\")\n",
    "\n",
    "        wandb.agent(sweep_id, count=self.sweep_iteration_count, function=partial(self.train, dataset))\n",
    "\n",
    "\n",
    "    def train(self, dataset):    \n",
    "        if not wandb.run:\n",
    "            wandb.init(project=\"Iris-Species-Classification\", config=self.config[\"sweep\"])\n",
    "        \n",
    "        if not wandb.config and not self.config:\n",
    "            raise Exception(\"Configuration not provided for training\")\n",
    "\n",
    "        split_index = int((1-self.config.get(\"validation_split\", 0.2)) * len(dataset))\n",
    "        train_dataset = dataset.iloc[:split_index]\n",
    "        val_dataset = dataset.iloc[split_index:]\n",
    "        logger.debug(f\"Number of records: Train -  {len(train_dataset)}, Val - {len(val_dataset)}\")\n",
    "        \n",
    "        self.model = self.model_builder(num_blocks = wandb.config[\"num_blocks\"], units_1=wandb.config[\"units_1\"], units_2 = wandb.config[\"units_2\"])\n",
    "        self.model.summary()\n",
    "        self.model.compile(loss='categorical_crossentropy', optimizer=wandb.config[\"optimizer\"], metrics=[self.config[\"key_metric\"]])\n",
    "        \n",
    "        logger.debug(f\"Model_name: {self.model.name}\")\n",
    "        if \"sequential\" in self.model.name or \"subclass\" in self.model.name:\n",
    "            train_inputs = train_dataset[[\"sepal_length\",\t\"sepal_width\",\t\"petal_length\",\t\"petal_width\"]]\n",
    "            validation_inputs = val_dataset[[\"sepal_length\",\t\"sepal_width\",\t\"petal_length\",\t\"petal_width\"]]\n",
    "        elif \"pca\" in self.model.name:\n",
    "            pca_model = PCA(n_components=2).fit(train_dataset[[\"sepal_length\",\t\"sepal_width\",\t\"petal_length\",\t\"petal_width\"]])\n",
    "            train_inputs = [train_dataset[[\"sepal_length\",\t\"sepal_width\",\t\"petal_length\",\t\"petal_width\"]], pca_model.transform(train_dataset[[\"sepal_length\",\t\"sepal_width\",\t\"petal_length\",\t\"petal_width\"]]) ]\n",
    "            validation_inputs = [val_dataset[[\"sepal_length\",\t\"sepal_width\",\t\"petal_length\",\t\"petal_width\"]], pca_model.transform(val_dataset[[\"sepal_length\",\t\"sepal_width\",\t\"petal_length\",\t\"petal_width\"]]) ]\n",
    "        else: \n",
    "            raise Exception(f\"No input system found for model - {self.model.name}\")\n",
    "\n",
    "        self.model.fit(\n",
    "            # train_dataset[[\"sepal_length\",\t\"sepal_width\",\t\"petal_length\",\t\"petal_width\"]], train_dataset[[\"species_1\", \"species_2\"]], \n",
    "            train_inputs, train_dataset[[\"species_1\", \"species_2\"]], \n",
    "            batch_size=self.config.get(\"batch_size\", 16), \n",
    "            # validation_data = ( val_dataset[[\"sepal_length\",\t\"sepal_width\",\t\"petal_length\",\t\"petal_width\"]], val_dataset[[\"species_1\", \"species_2\"]] ),\n",
    "            validation_data = ( validation_inputs, val_dataset[[\"species_1\", \"species_2\"]] ),\n",
    "            epochs=self.config[\"epochs\"],\n",
    "            callbacks=[CustomCallback( [\"subclass_api\"] )],\n",
    "        )\n",
    "        \n",
    "\n",
    "    def evaluate(self, X, y, model = None):\n",
    "        if model:\n",
    "            self.model  = model\n",
    "\n",
    "        loss, accuracy = self.model.evaluate( X, y )\n",
    "        logger.info(f\"Loss: {round(loss, 6)*100}\")\n",
    "        logger.info(f\"Accuracy: {round(accuracy, 6)*100}\")\n",
    "\n",
    "\n",
    "    def run(self, config:dict, dataset, model_builder=None):\n",
    "        if config[\"mode\"] not in [ \"experiment\", \"train\" ]:\n",
    "            raise Exception('Invalid mode given. Acceptable modes are [ \"experiment\", \"train\" ] ')\n",
    "        \n",
    "        if model_builder:\n",
    "            self.model_builder = model_builder\n",
    "        self.config = config\n",
    "        \n",
    "        if config[\"mode\"] == \"experiment\":\n",
    "            self.experiment(dataset)\n",
    "        elif config[\"mode\"] == \"train\":\n",
    "            self.train(dataset)\n",
    "        \n",
    "        if not wandb.run:\n",
    "            wandb.finish()"
   ]
  },
  {
   "cell_type": "markdown",
   "metadata": {},
   "source": [
    "#### Models"
   ]
  },
  {
   "cell_type": "markdown",
   "metadata": {},
   "source": [
    "##### 1. Sequential Model\n",
    "This is a basic sequential model that uses Dense layers to model the problem"
   ]
  },
  {
   "cell_type": "code",
   "execution_count": 57,
   "metadata": {},
   "outputs": [],
   "source": [
    "def SequentialModel(name, num_blocks=1, *args, **kwargs):\n",
    "    \n",
    "    model_layers = []\n",
    "    for _ in range(num_blocks):\n",
    "        model_layers += [Dense(32, activation='relu', input_shape=(4,)), Dense(16, activation='relu'), ]\n",
    "    \n",
    "    model = Sequential([\n",
    "        *model_layers,\n",
    "        Dense(2, activation='softmax') \n",
    "    ], name=name)\n",
    "\n",
    "    return model"
   ]
  },
  {
   "cell_type": "code",
   "execution_count": 58,
   "metadata": {},
   "outputs": [],
   "source": [
    "train_config = {\n",
    "    \"mode\": \"experiment\",\n",
    "    \"sweep\": {\n",
    "        \"name\": \"wide-net-sequential\",\n",
    "        \"description\": \"This is a widenet sweep to find the write configuration to train the model\",\n",
    "        \"method\": \"bayes\",\n",
    "        \"metric\": {\"goal\": \"minimize\", \"name\": \"validation_loss\"},\n",
    "        \"parameters\": {\n",
    "            \"learning_rate\": {\"min\": 0.0001, \"max\": 0.1},\n",
    "            \"optimizer\": {\"values\": [\"adam\", \"sgd\"]},\n",
    "            \"num_blocks\": { \"min\": 2, \"max\": 10, \"distribution\": \"int_uniform\" }\n",
    "        },\n",
    "    },\n",
    "    \"epochs\": 20,\n",
    "    \"batch_size\": 150,\n",
    "    \"log_frequency\": 1,\n",
    "    \"validation_split\": 0.2,\n",
    "    \"key_metric\": \"acc\",\n",
    "    \"baseline\": 0.75,\n",
    "    \"metrics\": [ \"train_acc\", \"val_acc\" ],\n",
    "}"
   ]
  },
  {
   "cell_type": "code",
   "execution_count": 59,
   "metadata": {},
   "outputs": [
    {
     "name": "stderr",
     "output_type": "stream",
     "text": [
      "[I 241020 17:38:57 236141320:4] Training Pipeline set up\n",
      "c:\\Users\\prapt\\Desktop\\Deep Learning\\DL_Basics\\DL_WS\\Lib\\site-packages\\keras\\src\\layers\\core\\dense.py:87: UserWarning: Do not pass an `input_shape`/`input_dim` argument to a layer. When using Sequential models, prefer using an `Input(shape)` object as the first layer in the model instead.\n",
      "  super().__init__(activity_regularizer=activity_regularizer, **kwargs)\n"
     ]
    },
    {
     "name": "stdout",
     "output_type": "stream",
     "text": [
      "Create sweep with ID: m0d9m9ge\n",
      "Sweep URL: https://wandb.ai/praptipatil01/Iris-Species-Classification/sweeps/m0d9m9ge\n"
     ]
    },
    {
     "name": "stderr",
     "output_type": "stream",
     "text": [
      "[D 241020 17:38:58 236141320:8] Sweep Id: m0d9m9ge\n",
      "wandb: Agent Starting Run: ornouctq with config:\n",
      "wandb: \tlearning_rate: 0.07079218924411446\n",
      "wandb: \tnum_blocks: 9\n",
      "wandb: \toptimizer: adam\n",
      "wandb: WARNING Ignored wandb.init() arg project when running a sweep.\n"
     ]
    },
    {
     "data": {
      "text/html": [
       "Tracking run with wandb version 0.18.5"
      ],
      "text/plain": [
       "<IPython.core.display.HTML object>"
      ]
     },
     "metadata": {},
     "output_type": "display_data"
    },
    {
     "data": {
      "text/html": [
       "Run data is saved locally in <code>c:\\Users\\prapt\\Desktop\\Deep Learning\\DL_Basics\\TensorFlow in Action\\wandb\\run-20241020_173900-ornouctq</code>"
      ],
      "text/plain": [
       "<IPython.core.display.HTML object>"
      ]
     },
     "metadata": {},
     "output_type": "display_data"
    },
    {
     "data": {
      "text/html": [
       "Syncing run <strong><a href='https://wandb.ai/praptipatil01/Iris-Species-Classification/runs/ornouctq' target=\"_blank\">jumping-sweep-1</a></strong> to <a href='https://wandb.ai/praptipatil01/Iris-Species-Classification' target=\"_blank\">Weights & Biases</a> (<a href='https://wandb.me/run' target=\"_blank\">docs</a>)<br/>Sweep page: <a href='https://wandb.ai/praptipatil01/Iris-Species-Classification/sweeps/m0d9m9ge' target=\"_blank\">https://wandb.ai/praptipatil01/Iris-Species-Classification/sweeps/m0d9m9ge</a>"
      ],
      "text/plain": [
       "<IPython.core.display.HTML object>"
      ]
     },
     "metadata": {},
     "output_type": "display_data"
    },
    {
     "data": {
      "text/html": [
       " View project at <a href='https://wandb.ai/praptipatil01/Iris-Species-Classification' target=\"_blank\">https://wandb.ai/praptipatil01/Iris-Species-Classification</a>"
      ],
      "text/plain": [
       "<IPython.core.display.HTML object>"
      ]
     },
     "metadata": {},
     "output_type": "display_data"
    },
    {
     "data": {
      "text/html": [
       " View sweep at <a href='https://wandb.ai/praptipatil01/Iris-Species-Classification/sweeps/m0d9m9ge' target=\"_blank\">https://wandb.ai/praptipatil01/Iris-Species-Classification/sweeps/m0d9m9ge</a>"
      ],
      "text/plain": [
       "<IPython.core.display.HTML object>"
      ]
     },
     "metadata": {},
     "output_type": "display_data"
    },
    {
     "data": {
      "text/html": [
       " View run at <a href='https://wandb.ai/praptipatil01/Iris-Species-Classification/runs/ornouctq' target=\"_blank\">https://wandb.ai/praptipatil01/Iris-Species-Classification/runs/ornouctq</a>"
      ],
      "text/plain": [
       "<IPython.core.display.HTML object>"
      ]
     },
     "metadata": {},
     "output_type": "display_data"
    },
    {
     "name": "stderr",
     "output_type": "stream",
     "text": [
      "[D 241020 17:39:02 236141320:23] Number of records: Train -  84, Val - 21\n"
     ]
    },
    {
     "data": {
      "text/html": [
       "<pre style=\"white-space:pre;overflow-x:auto;line-height:normal;font-family:Menlo,'DejaVu Sans Mono',consolas,'Courier New',monospace\"><span style=\"font-weight: bold\">Model: \"iris-sequential\"</span>\n",
       "</pre>\n"
      ],
      "text/plain": [
       "\u001b[1mModel: \"iris-sequential\"\u001b[0m\n"
      ]
     },
     "metadata": {},
     "output_type": "display_data"
    },
    {
     "data": {
      "text/html": [
       "<pre style=\"white-space:pre;overflow-x:auto;line-height:normal;font-family:Menlo,'DejaVu Sans Mono',consolas,'Courier New',monospace\">┏━━━━━━━━━━━━━━━━━━━━━━━━━━━━━━━━━┳━━━━━━━━━━━━━━━━━━━━━━━━┳━━━━━━━━━━━━━━━┓\n",
       "┃<span style=\"font-weight: bold\"> Layer (type)                    </span>┃<span style=\"font-weight: bold\"> Output Shape           </span>┃<span style=\"font-weight: bold\">       Param # </span>┃\n",
       "┡━━━━━━━━━━━━━━━━━━━━━━━━━━━━━━━━━╇━━━━━━━━━━━━━━━━━━━━━━━━╇━━━━━━━━━━━━━━━┩\n",
       "│ dense_18 (<span style=\"color: #0087ff; text-decoration-color: #0087ff\">Dense</span>)                │ (<span style=\"color: #00d7ff; text-decoration-color: #00d7ff\">None</span>, <span style=\"color: #00af00; text-decoration-color: #00af00\">32</span>)             │           <span style=\"color: #00af00; text-decoration-color: #00af00\">160</span> │\n",
       "├─────────────────────────────────┼────────────────────────┼───────────────┤\n",
       "│ dense_19 (<span style=\"color: #0087ff; text-decoration-color: #0087ff\">Dense</span>)                │ (<span style=\"color: #00d7ff; text-decoration-color: #00d7ff\">None</span>, <span style=\"color: #00af00; text-decoration-color: #00af00\">16</span>)             │           <span style=\"color: #00af00; text-decoration-color: #00af00\">528</span> │\n",
       "├─────────────────────────────────┼────────────────────────┼───────────────┤\n",
       "│ dense_20 (<span style=\"color: #0087ff; text-decoration-color: #0087ff\">Dense</span>)                │ (<span style=\"color: #00d7ff; text-decoration-color: #00d7ff\">None</span>, <span style=\"color: #00af00; text-decoration-color: #00af00\">2</span>)              │            <span style=\"color: #00af00; text-decoration-color: #00af00\">34</span> │\n",
       "└─────────────────────────────────┴────────────────────────┴───────────────┘\n",
       "</pre>\n"
      ],
      "text/plain": [
       "┏━━━━━━━━━━━━━━━━━━━━━━━━━━━━━━━━━┳━━━━━━━━━━━━━━━━━━━━━━━━┳━━━━━━━━━━━━━━━┓\n",
       "┃\u001b[1m \u001b[0m\u001b[1mLayer (type)                   \u001b[0m\u001b[1m \u001b[0m┃\u001b[1m \u001b[0m\u001b[1mOutput Shape          \u001b[0m\u001b[1m \u001b[0m┃\u001b[1m \u001b[0m\u001b[1m      Param #\u001b[0m\u001b[1m \u001b[0m┃\n",
       "┡━━━━━━━━━━━━━━━━━━━━━━━━━━━━━━━━━╇━━━━━━━━━━━━━━━━━━━━━━━━╇━━━━━━━━━━━━━━━┩\n",
       "│ dense_18 (\u001b[38;5;33mDense\u001b[0m)                │ (\u001b[38;5;45mNone\u001b[0m, \u001b[38;5;34m32\u001b[0m)             │           \u001b[38;5;34m160\u001b[0m │\n",
       "├─────────────────────────────────┼────────────────────────┼───────────────┤\n",
       "│ dense_19 (\u001b[38;5;33mDense\u001b[0m)                │ (\u001b[38;5;45mNone\u001b[0m, \u001b[38;5;34m16\u001b[0m)             │           \u001b[38;5;34m528\u001b[0m │\n",
       "├─────────────────────────────────┼────────────────────────┼───────────────┤\n",
       "│ dense_20 (\u001b[38;5;33mDense\u001b[0m)                │ (\u001b[38;5;45mNone\u001b[0m, \u001b[38;5;34m2\u001b[0m)              │            \u001b[38;5;34m34\u001b[0m │\n",
       "└─────────────────────────────────┴────────────────────────┴───────────────┘\n"
      ]
     },
     "metadata": {},
     "output_type": "display_data"
    },
    {
     "data": {
      "text/html": [
       "<pre style=\"white-space:pre;overflow-x:auto;line-height:normal;font-family:Menlo,'DejaVu Sans Mono',consolas,'Courier New',monospace\"><span style=\"font-weight: bold\"> Total params: </span><span style=\"color: #00af00; text-decoration-color: #00af00\">722</span> (2.82 KB)\n",
       "</pre>\n"
      ],
      "text/plain": [
       "\u001b[1m Total params: \u001b[0m\u001b[38;5;34m722\u001b[0m (2.82 KB)\n"
      ]
     },
     "metadata": {},
     "output_type": "display_data"
    },
    {
     "data": {
      "text/html": [
       "<pre style=\"white-space:pre;overflow-x:auto;line-height:normal;font-family:Menlo,'DejaVu Sans Mono',consolas,'Courier New',monospace\"><span style=\"font-weight: bold\"> Trainable params: </span><span style=\"color: #00af00; text-decoration-color: #00af00\">722</span> (2.82 KB)\n",
       "</pre>\n"
      ],
      "text/plain": [
       "\u001b[1m Trainable params: \u001b[0m\u001b[38;5;34m722\u001b[0m (2.82 KB)\n"
      ]
     },
     "metadata": {},
     "output_type": "display_data"
    },
    {
     "data": {
      "text/html": [
       "<pre style=\"white-space:pre;overflow-x:auto;line-height:normal;font-family:Menlo,'DejaVu Sans Mono',consolas,'Courier New',monospace\"><span style=\"font-weight: bold\"> Non-trainable params: </span><span style=\"color: #00af00; text-decoration-color: #00af00\">0</span> (0.00 B)\n",
       "</pre>\n"
      ],
      "text/plain": [
       "\u001b[1m Non-trainable params: \u001b[0m\u001b[38;5;34m0\u001b[0m (0.00 B)\n"
      ]
     },
     "metadata": {},
     "output_type": "display_data"
    },
    {
     "name": "stdout",
     "output_type": "stream",
     "text": [
      "Epoch 1/20\n",
      "1/1 ━━━━━━━━━━━━━━━━━━━━ 0s 1s/step - acc: 0.3214 - loss: 0.5349INFO:tensorflow:Assets written to: models/iris/iris-sequential\\assets\n"
     ]
    },
    {
     "name": "stderr",
     "output_type": "stream",
     "text": [
      "INFO:tensorflow:Assets written to: models/iris/iris-sequential\\assets\n"
     ]
    },
    {
     "name": "stdout",
     "output_type": "stream",
     "text": [
      "1/1 ━━━━━━━━━━━━━━━━━━━━ 2s 2s/step - acc: 0.3214 - loss: 0.5349 - val_acc: 0.2857 - val_loss: 0.3554\n",
      "Epoch 2/20\n",
      "1/1 ━━━━━━━━━━━━━━━━━━━━ 0s 37ms/step - acc: 0.3214 - loss: 0.52 ━━━━━━━━━━━━━━━━━━━━ 0s 87ms/step - acc: 0.3214 - loss: 0.5233 - val_acc: 0.2857 - val_loss: 0.3502\n",
      "Epoch 3/20\n",
      "1/1 ━━━━━━━━━━━━━━━━━━━━ 0s 26ms/step - acc: 0.3214 - loss: 0.51 ━━━━━━━━━━━━━━━━━━━━ 0s 83ms/step - acc: 0.3214 - loss: 0.5124 - val_acc: 0.2857 - val_loss: 0.3457\n",
      "Epoch 4/20\n",
      "1/1 ━━━━━━━━━━━━━━━━━━━━ 0s 50ms/step - acc: 0.3214 - loss: 0.50 ━━━━━━━━━━━━━━━━━━━━ 0s 103ms/step - acc: 0.3214 - loss: 0.5023 - val_acc: 0.2857 - val_loss: 0.3428\n",
      "Epoch 5/20\n",
      "1/1 ━━━━━━━━━━━━━━━━━━━━ 0s 43ms/step - acc: 0.3214 - loss: 0.49 ━━━━━━━━━━━━━━━━━━━━ 0s 111ms/step - acc: 0.3214 - loss: 0.4935 - val_acc: 0.2857 - val_loss: 0.3412\n",
      "Epoch 6/20\n",
      "1/1 ━━━━━━━━━━━━━━━━━━━━ 0s 46ms/step - acc: 0.3214 - loss: 0.48 ━━━━━━━━━━━━━━━━━━━━ 0s 93ms/step - acc: 0.3214 - loss: 0.4869 - val_acc: 0.2857 - val_loss: 0.3405\n",
      "Epoch 7/20\n",
      "1/1 ━━━━━━━━━━━━━━━━━━━━ 0s 36ms/step - acc: 0.3333 - loss: 0.4822INFO:tensorflow:Assets written to: models/iris/iris-sequential\\assets\n"
     ]
    },
    {
     "name": "stderr",
     "output_type": "stream",
     "text": [
      "INFO:tensorflow:Assets written to: models/iris/iris-sequential\\assets\n"
     ]
    },
    {
     "name": "stdout",
     "output_type": "stream",
     "text": [
      "1/1 ━━━━━━━━━━━━━━━━━━━━ 1s 550ms/step - acc: 0.3333 - loss: 0.4822 - val_acc: 0.3333 - val_loss: 0.3404\n",
      "Epoch 8/20\n",
      "1/1 ━━━━━━━━━━━━━━━━━━━━ 0s 83ms/step - acc: 0.3571 - loss: 0.4789INFO:tensorflow:Assets written to: models/iris/iris-sequential\\assets\n"
     ]
    },
    {
     "name": "stderr",
     "output_type": "stream",
     "text": [
      "INFO:tensorflow:Assets written to: models/iris/iris-sequential\\assets\n"
     ]
    },
    {
     "name": "stdout",
     "output_type": "stream",
     "text": [
      "1/1 ━━━━━━━━━━━━━━━━━━━━ 1s 721ms/step - acc: 0.3571 - loss: 0.4789 - val_acc: 0.4286 - val_loss: 0.3404\n",
      "Epoch 9/20\n",
      "1/1 ━━━━━━━━━━━━━━━━━━━━ 0s 65ms/step - acc: 0.4405 - loss: 0.4763INFO:tensorflow:Assets written to: models/iris/iris-sequential\\assets\n"
     ]
    },
    {
     "name": "stderr",
     "output_type": "stream",
     "text": [
      "INFO:tensorflow:Assets written to: models/iris/iris-sequential\\assets\n"
     ]
    },
    {
     "name": "stdout",
     "output_type": "stream",
     "text": [
      "1/1 ━━━━━━━━━━━━━━━━━━━━ 1s 653ms/step - acc: 0.4405 - loss: 0.4763 - val_acc: 0.5714 - val_loss: 0.3406\n",
      "Epoch 10/20\n",
      "1/1 ━━━━━━━━━━━━━━━━━━━━ 0s 63ms/step - acc: 0.5833 - loss: 0.4741INFO:tensorflow:Assets written to: models/iris/iris-sequential\\assets\n"
     ]
    },
    {
     "name": "stderr",
     "output_type": "stream",
     "text": [
      "INFO:tensorflow:Assets written to: models/iris/iris-sequential\\assets\n"
     ]
    },
    {
     "name": "stdout",
     "output_type": "stream",
     "text": [
      "1/1 ━━━━━━━━━━━━━━━━━━━━ 1s 835ms/step - acc: 0.5833 - loss: 0.4741 - val_acc: 0.7619 - val_loss: 0.3407\n",
      "Epoch 11/20\n",
      "1/1 ━━━━━━━━━━━━━━━━━━━━ 0s 67ms/step - acc: 0.6667 - loss: 0.47 ━━━━━━━━━━━━━━━━━━━━ 0s 141ms/step - acc: 0.6667 - loss: 0.4722 - val_acc: 0.7619 - val_loss: 0.3409\n",
      "Epoch 12/20\n",
      "1/1 ━━━━━━━━━━━━━━━━━━━━ 0s 143ms/step - acc: 0.7024 - loss: 0.4707INFO:tensorflow:Assets written to: models/iris/iris-sequential\\assets\n"
     ]
    },
    {
     "name": "stderr",
     "output_type": "stream",
     "text": [
      "INFO:tensorflow:Assets written to: models/iris/iris-sequential\\assets\n"
     ]
    },
    {
     "name": "stdout",
     "output_type": "stream",
     "text": [
      "1/1 ━━━━━━━━━━━━━━━━━━━━ 1s 1s/step - acc: 0.7024 - loss: 0.4707 - val_acc: 0.8571 - val_loss: 0.3411\n",
      "Epoch 13/20\n",
      "1/1 ━━━━━━━━━━━━━━━━━━━━ 0s 76ms/step - acc: 0.8095 - loss: 0.4694INFO:tensorflow:Assets written to: models/iris/iris-sequential\\assets\n"
     ]
    },
    {
     "name": "stderr",
     "output_type": "stream",
     "text": [
      "INFO:tensorflow:Assets written to: models/iris/iris-sequential\\assets\n"
     ]
    },
    {
     "name": "stdout",
     "output_type": "stream",
     "text": [
      "1/1 ━━━━━━━━━━━━━━━━━━━━ 1s 694ms/step - acc: 0.8095 - loss: 0.4694 - val_acc: 0.9048 - val_loss: 0.3413\n",
      "Epoch 14/20\n",
      "1/1 ━━━━━━━━━━━━━━━━━━━━ 0s 56ms/step - acc: 0.8810 - loss: 0.46 ━━━━━━━━━━━━━━━━━━━━ 0s 107ms/step - acc: 0.8810 - loss: 0.4684 - val_acc: 0.9048 - val_loss: 0.3415\n",
      "Epoch 15/20\n",
      "1/1 ━━━━━━━━━━━━━━━━━━━━ 0s 46ms/step - acc: 0.8929 - loss: 0.46 ━━━━━━━━━━━━━━━━━━━━ 0s 100ms/step - acc: 0.8929 - loss: 0.4675 - val_acc: 0.9048 - val_loss: 0.3416\n",
      "Epoch 16/20\n",
      "1/1 ━━━━━━━━━━━━━━━━━━━━ 0s 52ms/step - acc: 0.8810 - loss: 0.46 ━━━━━━━━━━━━━━━━━━━━ 0s 110ms/step - acc: 0.8810 - loss: 0.4667 - val_acc: 0.9048 - val_loss: 0.3417\n",
      "Epoch 17/20\n",
      "1/1 ━━━━━━━━━━━━━━━━━━━━ 0s 55ms/step - acc: 0.9167 - loss: 0.4658INFO:tensorflow:Assets written to: models/iris/iris-sequential\\assets\n"
     ]
    },
    {
     "name": "stderr",
     "output_type": "stream",
     "text": [
      "INFO:tensorflow:Assets written to: models/iris/iris-sequential\\assets\n"
     ]
    },
    {
     "name": "stdout",
     "output_type": "stream",
     "text": [
      "1/1 ━━━━━━━━━━━━━━━━━━━━ 1s 894ms/step - acc: 0.9167 - loss: 0.4658 - val_acc: 0.9524 - val_loss: 0.3419\n",
      "Epoch 18/20\n",
      "1/1 ━━━━━━━━━━━━━━━━━━━━ 0s 52ms/step - acc: 0.8810 - loss: 0.46 ━━━━━━━━━━━━━━━━━━━━ 0s 151ms/step - acc: 0.8810 - loss: 0.4658 - val_acc: 0.9524 - val_loss: 0.3425\n",
      "Epoch 19/20\n",
      "1/1 ━━━━━━━━━━━━━━━━━━━━ 0s 46ms/step - acc: 0.8214 - loss: 0.46 ━━━━━━━━━━━━━━━━━━━━ 0s 101ms/step - acc: 0.8214 - loss: 0.4678 - val_acc: 0.9524 - val_loss: 0.3430\n",
      "Epoch 20/20\n",
      "1/1 ━━━━━━━━━━━━━━━━━━━━ 0s 47ms/step - acc: 0.8095 - loss: 0.46 ━━━━━━━━━━━━━━━━━━━━ 0s 104ms/step - acc: 0.8095 - loss: 0.4681 - val_acc: 0.9048 - val_loss: 0.3443\n"
     ]
    },
    {
     "name": "stderr",
     "output_type": "stream",
     "text": [
      "wandb: Adding directory to artifact (.\\models\\iris\\iris-sequential)... Done. 0.1s\n"
     ]
    },
    {
     "data": {
      "text/html": [
       "<style>\n",
       "    table.wandb td:nth-child(1) { padding: 0 10px; text-align: left ; width: auto;} td:nth-child(2) {text-align: left ; width: 100%}\n",
       "    .wandb-row { display: flex; flex-direction: row; flex-wrap: wrap; justify-content: flex-start; width: 100% }\n",
       "    .wandb-col { display: flex; flex-direction: column; flex-basis: 100%; flex: 1; padding: 10px; }\n",
       "    </style>\n",
       "<div class=\"wandb-row\"><div class=\"wandb-col\"><h3>Run history:</h3><br/><table class=\"wandb\"><tr><td>acc</td><td>▁▁▁▁▁▁▁▁▂▄▅▅▇█████▇▇</td></tr><tr><td>loss</td><td>█▇▆▅▄▃▃▂▂▂▂▁▁▁▁▁▁▁▁▁</td></tr><tr><td>val_acc</td><td>▁▁▁▁▁▁▁▂▄▆▆▇████████</td></tr><tr><td>val_loss</td><td>█▆▃▂▁▁▁▁▁▁▁▁▁▂▂▂▂▂▂▃</td></tr></table><br/></div><div class=\"wandb-col\"><h3>Run summary:</h3><br/><table class=\"wandb\"><tr><td>acc</td><td>0.80952</td></tr><tr><td>loss</td><td>0.46814</td></tr><tr><td>val_acc</td><td>0.90476</td></tr><tr><td>val_loss</td><td>0.34427</td></tr></table><br/></div></div>"
      ],
      "text/plain": [
       "<IPython.core.display.HTML object>"
      ]
     },
     "metadata": {},
     "output_type": "display_data"
    },
    {
     "data": {
      "text/html": [
       " View run <strong style=\"color:#cdcd00\">jumping-sweep-1</strong> at: <a href='https://wandb.ai/praptipatil01/Iris-Species-Classification/runs/ornouctq' target=\"_blank\">https://wandb.ai/praptipatil01/Iris-Species-Classification/runs/ornouctq</a><br/> View project at: <a href='https://wandb.ai/praptipatil01/Iris-Species-Classification' target=\"_blank\">https://wandb.ai/praptipatil01/Iris-Species-Classification</a><br/>Synced 5 W&B file(s), 0 media file(s), 5 artifact file(s) and 0 other file(s)"
      ],
      "text/plain": [
       "<IPython.core.display.HTML object>"
      ]
     },
     "metadata": {},
     "output_type": "display_data"
    },
    {
     "data": {
      "text/html": [
       "Find logs at: <code>.\\wandb\\run-20241020_173900-ornouctq\\logs</code>"
      ],
      "text/plain": [
       "<IPython.core.display.HTML object>"
      ]
     },
     "metadata": {},
     "output_type": "display_data"
    },
    {
     "name": "stderr",
     "output_type": "stream",
     "text": [
      "wandb: Agent Starting Run: e2wwd10p with config:\n",
      "wandb: \tlearning_rate: 0.0619059158379712\n",
      "wandb: \tnum_blocks: 9\n",
      "wandb: \toptimizer: sgd\n",
      "wandb: WARNING Ignored wandb.init() arg project when running a sweep.\n"
     ]
    },
    {
     "data": {
      "text/html": [
       "Tracking run with wandb version 0.18.5"
      ],
      "text/plain": [
       "<IPython.core.display.HTML object>"
      ]
     },
     "metadata": {},
     "output_type": "display_data"
    },
    {
     "data": {
      "text/html": [
       "Run data is saved locally in <code>c:\\Users\\prapt\\Desktop\\Deep Learning\\DL_Basics\\TensorFlow in Action\\wandb\\run-20241020_173926-e2wwd10p</code>"
      ],
      "text/plain": [
       "<IPython.core.display.HTML object>"
      ]
     },
     "metadata": {},
     "output_type": "display_data"
    },
    {
     "data": {
      "text/html": [
       "Syncing run <strong><a href='https://wandb.ai/praptipatil01/Iris-Species-Classification/runs/e2wwd10p' target=\"_blank\">confused-sweep-2</a></strong> to <a href='https://wandb.ai/praptipatil01/Iris-Species-Classification' target=\"_blank\">Weights & Biases</a> (<a href='https://wandb.me/run' target=\"_blank\">docs</a>)<br/>Sweep page: <a href='https://wandb.ai/praptipatil01/Iris-Species-Classification/sweeps/m0d9m9ge' target=\"_blank\">https://wandb.ai/praptipatil01/Iris-Species-Classification/sweeps/m0d9m9ge</a>"
      ],
      "text/plain": [
       "<IPython.core.display.HTML object>"
      ]
     },
     "metadata": {},
     "output_type": "display_data"
    },
    {
     "data": {
      "text/html": [
       " View project at <a href='https://wandb.ai/praptipatil01/Iris-Species-Classification' target=\"_blank\">https://wandb.ai/praptipatil01/Iris-Species-Classification</a>"
      ],
      "text/plain": [
       "<IPython.core.display.HTML object>"
      ]
     },
     "metadata": {},
     "output_type": "display_data"
    },
    {
     "data": {
      "text/html": [
       " View sweep at <a href='https://wandb.ai/praptipatil01/Iris-Species-Classification/sweeps/m0d9m9ge' target=\"_blank\">https://wandb.ai/praptipatil01/Iris-Species-Classification/sweeps/m0d9m9ge</a>"
      ],
      "text/plain": [
       "<IPython.core.display.HTML object>"
      ]
     },
     "metadata": {},
     "output_type": "display_data"
    },
    {
     "data": {
      "text/html": [
       " View run at <a href='https://wandb.ai/praptipatil01/Iris-Species-Classification/runs/e2wwd10p' target=\"_blank\">https://wandb.ai/praptipatil01/Iris-Species-Classification/runs/e2wwd10p</a>"
      ],
      "text/plain": [
       "<IPython.core.display.HTML object>"
      ]
     },
     "metadata": {},
     "output_type": "display_data"
    },
    {
     "name": "stderr",
     "output_type": "stream",
     "text": [
      "[D 241020 17:39:28 236141320:23] Number of records: Train -  84, Val - 21\n"
     ]
    },
    {
     "data": {
      "text/html": [
       "<pre style=\"white-space:pre;overflow-x:auto;line-height:normal;font-family:Menlo,'DejaVu Sans Mono',consolas,'Courier New',monospace\"><span style=\"font-weight: bold\">Model: \"iris-sequential\"</span>\n",
       "</pre>\n"
      ],
      "text/plain": [
       "\u001b[1mModel: \"iris-sequential\"\u001b[0m\n"
      ]
     },
     "metadata": {},
     "output_type": "display_data"
    },
    {
     "data": {
      "text/html": [
       "<pre style=\"white-space:pre;overflow-x:auto;line-height:normal;font-family:Menlo,'DejaVu Sans Mono',consolas,'Courier New',monospace\">┏━━━━━━━━━━━━━━━━━━━━━━━━━━━━━━━━━┳━━━━━━━━━━━━━━━━━━━━━━━━┳━━━━━━━━━━━━━━━┓\n",
       "┃<span style=\"font-weight: bold\"> Layer (type)                    </span>┃<span style=\"font-weight: bold\"> Output Shape           </span>┃<span style=\"font-weight: bold\">       Param # </span>┃\n",
       "┡━━━━━━━━━━━━━━━━━━━━━━━━━━━━━━━━━╇━━━━━━━━━━━━━━━━━━━━━━━━╇━━━━━━━━━━━━━━━┩\n",
       "│ dense_18 (<span style=\"color: #0087ff; text-decoration-color: #0087ff\">Dense</span>)                │ (<span style=\"color: #00d7ff; text-decoration-color: #00d7ff\">None</span>, <span style=\"color: #00af00; text-decoration-color: #00af00\">32</span>)             │           <span style=\"color: #00af00; text-decoration-color: #00af00\">160</span> │\n",
       "├─────────────────────────────────┼────────────────────────┼───────────────┤\n",
       "│ dense_19 (<span style=\"color: #0087ff; text-decoration-color: #0087ff\">Dense</span>)                │ (<span style=\"color: #00d7ff; text-decoration-color: #00d7ff\">None</span>, <span style=\"color: #00af00; text-decoration-color: #00af00\">16</span>)             │           <span style=\"color: #00af00; text-decoration-color: #00af00\">528</span> │\n",
       "├─────────────────────────────────┼────────────────────────┼───────────────┤\n",
       "│ dense_20 (<span style=\"color: #0087ff; text-decoration-color: #0087ff\">Dense</span>)                │ (<span style=\"color: #00d7ff; text-decoration-color: #00d7ff\">None</span>, <span style=\"color: #00af00; text-decoration-color: #00af00\">2</span>)              │            <span style=\"color: #00af00; text-decoration-color: #00af00\">34</span> │\n",
       "└─────────────────────────────────┴────────────────────────┴───────────────┘\n",
       "</pre>\n"
      ],
      "text/plain": [
       "┏━━━━━━━━━━━━━━━━━━━━━━━━━━━━━━━━━┳━━━━━━━━━━━━━━━━━━━━━━━━┳━━━━━━━━━━━━━━━┓\n",
       "┃\u001b[1m \u001b[0m\u001b[1mLayer (type)                   \u001b[0m\u001b[1m \u001b[0m┃\u001b[1m \u001b[0m\u001b[1mOutput Shape          \u001b[0m\u001b[1m \u001b[0m┃\u001b[1m \u001b[0m\u001b[1m      Param #\u001b[0m\u001b[1m \u001b[0m┃\n",
       "┡━━━━━━━━━━━━━━━━━━━━━━━━━━━━━━━━━╇━━━━━━━━━━━━━━━━━━━━━━━━╇━━━━━━━━━━━━━━━┩\n",
       "│ dense_18 (\u001b[38;5;33mDense\u001b[0m)                │ (\u001b[38;5;45mNone\u001b[0m, \u001b[38;5;34m32\u001b[0m)             │           \u001b[38;5;34m160\u001b[0m │\n",
       "├─────────────────────────────────┼────────────────────────┼───────────────┤\n",
       "│ dense_19 (\u001b[38;5;33mDense\u001b[0m)                │ (\u001b[38;5;45mNone\u001b[0m, \u001b[38;5;34m16\u001b[0m)             │           \u001b[38;5;34m528\u001b[0m │\n",
       "├─────────────────────────────────┼────────────────────────┼───────────────┤\n",
       "│ dense_20 (\u001b[38;5;33mDense\u001b[0m)                │ (\u001b[38;5;45mNone\u001b[0m, \u001b[38;5;34m2\u001b[0m)              │            \u001b[38;5;34m34\u001b[0m │\n",
       "└─────────────────────────────────┴────────────────────────┴───────────────┘\n"
      ]
     },
     "metadata": {},
     "output_type": "display_data"
    },
    {
     "data": {
      "text/html": [
       "<pre style=\"white-space:pre;overflow-x:auto;line-height:normal;font-family:Menlo,'DejaVu Sans Mono',consolas,'Courier New',monospace\"><span style=\"font-weight: bold\"> Total params: </span><span style=\"color: #00af00; text-decoration-color: #00af00\">2,168</span> (8.47 KB)\n",
       "</pre>\n"
      ],
      "text/plain": [
       "\u001b[1m Total params: \u001b[0m\u001b[38;5;34m2,168\u001b[0m (8.47 KB)\n"
      ]
     },
     "metadata": {},
     "output_type": "display_data"
    },
    {
     "data": {
      "text/html": [
       "<pre style=\"white-space:pre;overflow-x:auto;line-height:normal;font-family:Menlo,'DejaVu Sans Mono',consolas,'Courier New',monospace\"><span style=\"font-weight: bold\"> Trainable params: </span><span style=\"color: #00af00; text-decoration-color: #00af00\">722</span> (2.82 KB)\n",
       "</pre>\n"
      ],
      "text/plain": [
       "\u001b[1m Trainable params: \u001b[0m\u001b[38;5;34m722\u001b[0m (2.82 KB)\n"
      ]
     },
     "metadata": {},
     "output_type": "display_data"
    },
    {
     "data": {
      "text/html": [
       "<pre style=\"white-space:pre;overflow-x:auto;line-height:normal;font-family:Menlo,'DejaVu Sans Mono',consolas,'Courier New',monospace\"><span style=\"font-weight: bold\"> Non-trainable params: </span><span style=\"color: #00af00; text-decoration-color: #00af00\">0</span> (0.00 B)\n",
       "</pre>\n"
      ],
      "text/plain": [
       "\u001b[1m Non-trainable params: \u001b[0m\u001b[38;5;34m0\u001b[0m (0.00 B)\n"
      ]
     },
     "metadata": {},
     "output_type": "display_data"
    },
    {
     "data": {
      "text/html": [
       "<pre style=\"white-space:pre;overflow-x:auto;line-height:normal;font-family:Menlo,'DejaVu Sans Mono',consolas,'Courier New',monospace\"><span style=\"font-weight: bold\"> Optimizer params: </span><span style=\"color: #00af00; text-decoration-color: #00af00\">1,446</span> (5.65 KB)\n",
       "</pre>\n"
      ],
      "text/plain": [
       "\u001b[1m Optimizer params: \u001b[0m\u001b[38;5;34m1,446\u001b[0m (5.65 KB)\n"
      ]
     },
     "metadata": {},
     "output_type": "display_data"
    },
    {
     "name": "stdout",
     "output_type": "stream",
     "text": [
      "Epoch 1/20\n",
      "1/1 ━━━━━━━━━━━━━━━━━━━━ 0s 542ms/step - acc: 0.7619 - loss: 0.4669INFO:tensorflow:Assets written to: models/iris/iris-sequential\\assets\n"
     ]
    },
    {
     "name": "stderr",
     "output_type": "stream",
     "text": [
      "INFO:tensorflow:Assets written to: models/iris/iris-sequential\\assets\n"
     ]
    },
    {
     "name": "stdout",
     "output_type": "stream",
     "text": [
      "1/1 ━━━━━━━━━━━━━━━━━━━━ 1s 1s/step - acc: 0.7619 - loss: 0.4669 - val_acc: 0.8571 - val_loss: 0.3419\n",
      "Epoch 2/20\n",
      "1/1 ━━━━━━━━━━━━━━━━━━━━ 0s 38ms/step - acc: 0.7619 - loss: 0.46 ━━━━━━━━━━━━━━━━━━━━ 0s 88ms/step - acc: 0.7619 - loss: 0.4620 - val_acc: 0.8571 - val_loss: 0.3430\n",
      "Epoch 3/20\n",
      "1/1 ━━━━━━━━━━━━━━━━━━━━ 0s 34ms/step - acc: 0.7619 - loss: 0.46 ━━━━━━━━━━━━━━━━━━━━ 0s 65ms/step - acc: 0.7619 - loss: 0.4623 - val_acc: 0.8571 - val_loss: 0.3429\n",
      "Epoch 4/20\n",
      "1/1 ━━━━━━━━━━━━━━━━━━━━ 0s 34ms/step - acc: 0.7619 - loss: 0.46 ━━━━━━━━━━━━━━━━━━━━ 0s 78ms/step - acc: 0.7619 - loss: 0.4623 - val_acc: 0.8571 - val_loss: 0.3416\n",
      "Epoch 5/20\n",
      "1/1 ━━━━━━━━━━━━━━━━━━━━ 0s 30ms/step - acc: 0.7619 - loss: 0.46 ━━━━━━━━━━━━━━━━━━━━ 0s 77ms/step - acc: 0.7619 - loss: 0.4607 - val_acc: 0.8571 - val_loss: 0.3423\n",
      "Epoch 6/20\n",
      "1/1 ━━━━━━━━━━━━━━━━━━━━ 0s 34ms/step - acc: 0.7619 - loss: 0.46 ━━━━━━━━━━━━━━━━━━━━ 0s 80ms/step - acc: 0.7619 - loss: 0.4614 - val_acc: 0.8571 - val_loss: 0.3409\n",
      "Epoch 7/20\n",
      "1/1 ━━━━━━━━━━━━━━━━━━━━ 0s 34ms/step - acc: 0.7619 - loss: 0.45 ━━━━━━━━━━━━━━━━━━━━ 0s 74ms/step - acc: 0.7619 - loss: 0.4595 - val_acc: 0.8571 - val_loss: 0.3414\n",
      "Epoch 8/20\n",
      "1/1 ━━━━━━━━━━━━━━━━━━━━ 0s 54ms/step - acc: 0.7619 - loss: 0.46 ━━━━━━━━━━━━━━━━━━━━ 0s 95ms/step - acc: 0.7619 - loss: 0.4601 - val_acc: 0.8571 - val_loss: 0.3406\n",
      "Epoch 9/20\n",
      "1/1 ━━━━━━━━━━━━━━━━━━━━ 0s 55ms/step - acc: 0.7619 - loss: 0.45 ━━━━━━━━━━━━━━━━━━━━ 0s 110ms/step - acc: 0.7619 - loss: 0.4590 - val_acc: 0.8571 - val_loss: 0.3403\n",
      "Epoch 10/20\n",
      "1/1 ━━━━━━━━━━━━━━━━━━━━ 0s 90ms/step - acc: 0.7619 - loss: 0.45 ━━━━━━━━━━━━━━━━━━━━ 0s 148ms/step - acc: 0.7619 - loss: 0.4586 - val_acc: 0.8571 - val_loss: 0.3401\n",
      "Epoch 11/20\n",
      "1/1 ━━━━━━━━━━━━━━━━━━━━ 0s 33ms/step - acc: 0.7619 - loss: 0.45 ━━━━━━━━━━━━━━━━━━━━ 0s 90ms/step - acc: 0.7619 - loss: 0.4585 - val_acc: 0.8571 - val_loss: 0.3400\n",
      "Epoch 12/20\n",
      "1/1 ━━━━━━━━━━━━━━━━━━━━ 0s 38ms/step - acc: 0.7619 - loss: 0.45 ━━━━━━━━━━━━━━━━━━━━ 0s 101ms/step - acc: 0.7619 - loss: 0.4581 - val_acc: 0.8571 - val_loss: 0.3399\n",
      "Epoch 13/20\n",
      "1/1 ━━━━━━━━━━━━━━━━━━━━ 0s 56ms/step - acc: 0.7619 - loss: 0.45 ━━━━━━━━━━━━━━━━━━━━ 0s 112ms/step - acc: 0.7619 - loss: 0.4578 - val_acc: 0.8571 - val_loss: 0.3398\n",
      "Epoch 14/20\n",
      "1/1 ━━━━━━━━━━━━━━━━━━━━ 0s 75ms/step - acc: 0.7619 - loss: 0.45 ━━━━━━━━━━━━━━━━━━━━ 0s 133ms/step - acc: 0.7619 - loss: 0.4577 - val_acc: 0.8571 - val_loss: 0.3396\n",
      "Epoch 15/20\n",
      "1/1 ━━━━━━━━━━━━━━━━━━━━ 0s 45ms/step - acc: 0.7619 - loss: 0.45 ━━━━━━━━━━━━━━━━━━━━ 0s 112ms/step - acc: 0.7619 - loss: 0.4573 - val_acc: 0.8571 - val_loss: 0.3394\n",
      "Epoch 16/20\n",
      "1/1 ━━━━━━━━━━━━━━━━━━━━ 0s 80ms/step - acc: 0.7619 - loss: 0.45 ━━━━━━━━━━━━━━━━━━━━ 0s 147ms/step - acc: 0.7619 - loss: 0.4569 - val_acc: 0.8095 - val_loss: 0.3393\n",
      "Epoch 17/20\n",
      "1/1 ━━━━━━━━━━━━━━━━━━━━ 0s 29ms/step - acc: 0.7619 - loss: 0.45 ━━━━━━━━━━━━━━━━━━━━ 0s 86ms/step - acc: 0.7619 - loss: 0.4567 - val_acc: 0.8095 - val_loss: 0.3391\n",
      "Epoch 18/20\n",
      "1/1 ━━━━━━━━━━━━━━━━━━━━ 0s 36ms/step - acc: 0.7619 - loss: 0.45 ━━━━━━━━━━━━━━━━━━━━ 0s 81ms/step - acc: 0.7619 - loss: 0.4563 - val_acc: 0.8095 - val_loss: 0.3389\n",
      "Epoch 19/20\n",
      "1/1 ━━━━━━━━━━━━━━━━━━━━ 0s 61ms/step - acc: 0.7619 - loss: 0.45 ━━━━━━━━━━━━━━━━━━━━ 0s 123ms/step - acc: 0.7619 - loss: 0.4560 - val_acc: 0.8095 - val_loss: 0.3387\n",
      "Epoch 20/20\n",
      "1/1 ━━━━━━━━━━━━━━━━━━━━ 0s 53ms/step - acc: 0.7619 - loss: 0.45 ━━━━━━━━━━━━━━━━━━━━ 0s 118ms/step - acc: 0.7619 - loss: 0.4557 - val_acc: 0.8095 - val_loss: 0.3386\n"
     ]
    },
    {
     "name": "stderr",
     "output_type": "stream",
     "text": [
      "wandb: Adding directory to artifact (.\\models\\iris\\iris-sequential)... Done. 0.1s\n"
     ]
    },
    {
     "data": {
      "text/html": [
       "<style>\n",
       "    table.wandb td:nth-child(1) { padding: 0 10px; text-align: left ; width: auto;} td:nth-child(2) {text-align: left ; width: 100%}\n",
       "    .wandb-row { display: flex; flex-direction: row; flex-wrap: wrap; justify-content: flex-start; width: 100% }\n",
       "    .wandb-col { display: flex; flex-direction: column; flex-basis: 100%; flex: 1; padding: 10px; }\n",
       "    </style>\n",
       "<div class=\"wandb-row\"><div class=\"wandb-col\"><h3>Run history:</h3><br/><table class=\"wandb\"><tr><td>acc</td><td>▁▁▁▁▁▁▁▁▁▁▁▁▁▁▁▁▁▁▁▁</td></tr><tr><td>loss</td><td>█▅▅▅▄▅▃▄▃▃▃▃▂▂▂▂▂▁▁▁</td></tr><tr><td>val_acc</td><td>███████████████▁▁▁▁▁</td></tr><tr><td>val_loss</td><td>▆██▆▇▅▆▄▄▃▃▃▃▃▂▂▂▂▁▁</td></tr></table><br/></div><div class=\"wandb-col\"><h3>Run summary:</h3><br/><table class=\"wandb\"><tr><td>acc</td><td>0.7619</td></tr><tr><td>loss</td><td>0.45567</td></tr><tr><td>val_acc</td><td>0.80952</td></tr><tr><td>val_loss</td><td>0.33856</td></tr></table><br/></div></div>"
      ],
      "text/plain": [
       "<IPython.core.display.HTML object>"
      ]
     },
     "metadata": {},
     "output_type": "display_data"
    },
    {
     "data": {
      "text/html": [
       " View run <strong style=\"color:#cdcd00\">confused-sweep-2</strong> at: <a href='https://wandb.ai/praptipatil01/Iris-Species-Classification/runs/e2wwd10p' target=\"_blank\">https://wandb.ai/praptipatil01/Iris-Species-Classification/runs/e2wwd10p</a><br/> View project at: <a href='https://wandb.ai/praptipatil01/Iris-Species-Classification' target=\"_blank\">https://wandb.ai/praptipatil01/Iris-Species-Classification</a><br/>Synced 5 W&B file(s), 0 media file(s), 5 artifact file(s) and 0 other file(s)"
      ],
      "text/plain": [
       "<IPython.core.display.HTML object>"
      ]
     },
     "metadata": {},
     "output_type": "display_data"
    },
    {
     "data": {
      "text/html": [
       "Find logs at: <code>.\\wandb\\run-20241020_173926-e2wwd10p\\logs</code>"
      ],
      "text/plain": [
       "<IPython.core.display.HTML object>"
      ]
     },
     "metadata": {},
     "output_type": "display_data"
    },
    {
     "name": "stderr",
     "output_type": "stream",
     "text": [
      "wandb: Sweep Agent: Waiting for job.\n",
      "wandb: Job received.\n",
      "wandb: Agent Starting Run: ff7jejkk with config:\n",
      "wandb: \tlearning_rate: 0.07685050895518455\n",
      "wandb: \tnum_blocks: 4\n",
      "wandb: \toptimizer: adam\n",
      "wandb: WARNING Ignored wandb.init() arg project when running a sweep.\n"
     ]
    },
    {
     "data": {
      "text/html": [
       "Tracking run with wandb version 0.18.5"
      ],
      "text/plain": [
       "<IPython.core.display.HTML object>"
      ]
     },
     "metadata": {},
     "output_type": "display_data"
    },
    {
     "data": {
      "text/html": [
       "Run data is saved locally in <code>c:\\Users\\prapt\\Desktop\\Deep Learning\\DL_Basics\\TensorFlow in Action\\wandb\\run-20241020_173952-ff7jejkk</code>"
      ],
      "text/plain": [
       "<IPython.core.display.HTML object>"
      ]
     },
     "metadata": {},
     "output_type": "display_data"
    },
    {
     "data": {
      "text/html": [
       "Syncing run <strong><a href='https://wandb.ai/praptipatil01/Iris-Species-Classification/runs/ff7jejkk' target=\"_blank\">absurd-sweep-3</a></strong> to <a href='https://wandb.ai/praptipatil01/Iris-Species-Classification' target=\"_blank\">Weights & Biases</a> (<a href='https://wandb.me/run' target=\"_blank\">docs</a>)<br/>Sweep page: <a href='https://wandb.ai/praptipatil01/Iris-Species-Classification/sweeps/m0d9m9ge' target=\"_blank\">https://wandb.ai/praptipatil01/Iris-Species-Classification/sweeps/m0d9m9ge</a>"
      ],
      "text/plain": [
       "<IPython.core.display.HTML object>"
      ]
     },
     "metadata": {},
     "output_type": "display_data"
    },
    {
     "data": {
      "text/html": [
       " View project at <a href='https://wandb.ai/praptipatil01/Iris-Species-Classification' target=\"_blank\">https://wandb.ai/praptipatil01/Iris-Species-Classification</a>"
      ],
      "text/plain": [
       "<IPython.core.display.HTML object>"
      ]
     },
     "metadata": {},
     "output_type": "display_data"
    },
    {
     "data": {
      "text/html": [
       " View sweep at <a href='https://wandb.ai/praptipatil01/Iris-Species-Classification/sweeps/m0d9m9ge' target=\"_blank\">https://wandb.ai/praptipatil01/Iris-Species-Classification/sweeps/m0d9m9ge</a>"
      ],
      "text/plain": [
       "<IPython.core.display.HTML object>"
      ]
     },
     "metadata": {},
     "output_type": "display_data"
    },
    {
     "data": {
      "text/html": [
       " View run at <a href='https://wandb.ai/praptipatil01/Iris-Species-Classification/runs/ff7jejkk' target=\"_blank\">https://wandb.ai/praptipatil01/Iris-Species-Classification/runs/ff7jejkk</a>"
      ],
      "text/plain": [
       "<IPython.core.display.HTML object>"
      ]
     },
     "metadata": {},
     "output_type": "display_data"
    },
    {
     "name": "stderr",
     "output_type": "stream",
     "text": [
      "[D 241020 17:39:54 236141320:23] Number of records: Train -  84, Val - 21\n"
     ]
    },
    {
     "data": {
      "text/html": [
       "<pre style=\"white-space:pre;overflow-x:auto;line-height:normal;font-family:Menlo,'DejaVu Sans Mono',consolas,'Courier New',monospace\"><span style=\"font-weight: bold\">Model: \"iris-sequential\"</span>\n",
       "</pre>\n"
      ],
      "text/plain": [
       "\u001b[1mModel: \"iris-sequential\"\u001b[0m\n"
      ]
     },
     "metadata": {},
     "output_type": "display_data"
    },
    {
     "data": {
      "text/html": [
       "<pre style=\"white-space:pre;overflow-x:auto;line-height:normal;font-family:Menlo,'DejaVu Sans Mono',consolas,'Courier New',monospace\">┏━━━━━━━━━━━━━━━━━━━━━━━━━━━━━━━━━┳━━━━━━━━━━━━━━━━━━━━━━━━┳━━━━━━━━━━━━━━━┓\n",
       "┃<span style=\"font-weight: bold\"> Layer (type)                    </span>┃<span style=\"font-weight: bold\"> Output Shape           </span>┃<span style=\"font-weight: bold\">       Param # </span>┃\n",
       "┡━━━━━━━━━━━━━━━━━━━━━━━━━━━━━━━━━╇━━━━━━━━━━━━━━━━━━━━━━━━╇━━━━━━━━━━━━━━━┩\n",
       "│ dense_18 (<span style=\"color: #0087ff; text-decoration-color: #0087ff\">Dense</span>)                │ (<span style=\"color: #00d7ff; text-decoration-color: #00d7ff\">None</span>, <span style=\"color: #00af00; text-decoration-color: #00af00\">32</span>)             │           <span style=\"color: #00af00; text-decoration-color: #00af00\">160</span> │\n",
       "├─────────────────────────────────┼────────────────────────┼───────────────┤\n",
       "│ dense_19 (<span style=\"color: #0087ff; text-decoration-color: #0087ff\">Dense</span>)                │ (<span style=\"color: #00d7ff; text-decoration-color: #00d7ff\">None</span>, <span style=\"color: #00af00; text-decoration-color: #00af00\">16</span>)             │           <span style=\"color: #00af00; text-decoration-color: #00af00\">528</span> │\n",
       "├─────────────────────────────────┼────────────────────────┼───────────────┤\n",
       "│ dense_20 (<span style=\"color: #0087ff; text-decoration-color: #0087ff\">Dense</span>)                │ (<span style=\"color: #00d7ff; text-decoration-color: #00d7ff\">None</span>, <span style=\"color: #00af00; text-decoration-color: #00af00\">2</span>)              │            <span style=\"color: #00af00; text-decoration-color: #00af00\">34</span> │\n",
       "└─────────────────────────────────┴────────────────────────┴───────────────┘\n",
       "</pre>\n"
      ],
      "text/plain": [
       "┏━━━━━━━━━━━━━━━━━━━━━━━━━━━━━━━━━┳━━━━━━━━━━━━━━━━━━━━━━━━┳━━━━━━━━━━━━━━━┓\n",
       "┃\u001b[1m \u001b[0m\u001b[1mLayer (type)                   \u001b[0m\u001b[1m \u001b[0m┃\u001b[1m \u001b[0m\u001b[1mOutput Shape          \u001b[0m\u001b[1m \u001b[0m┃\u001b[1m \u001b[0m\u001b[1m      Param #\u001b[0m\u001b[1m \u001b[0m┃\n",
       "┡━━━━━━━━━━━━━━━━━━━━━━━━━━━━━━━━━╇━━━━━━━━━━━━━━━━━━━━━━━━╇━━━━━━━━━━━━━━━┩\n",
       "│ dense_18 (\u001b[38;5;33mDense\u001b[0m)                │ (\u001b[38;5;45mNone\u001b[0m, \u001b[38;5;34m32\u001b[0m)             │           \u001b[38;5;34m160\u001b[0m │\n",
       "├─────────────────────────────────┼────────────────────────┼───────────────┤\n",
       "│ dense_19 (\u001b[38;5;33mDense\u001b[0m)                │ (\u001b[38;5;45mNone\u001b[0m, \u001b[38;5;34m16\u001b[0m)             │           \u001b[38;5;34m528\u001b[0m │\n",
       "├─────────────────────────────────┼────────────────────────┼───────────────┤\n",
       "│ dense_20 (\u001b[38;5;33mDense\u001b[0m)                │ (\u001b[38;5;45mNone\u001b[0m, \u001b[38;5;34m2\u001b[0m)              │            \u001b[38;5;34m34\u001b[0m │\n",
       "└─────────────────────────────────┴────────────────────────┴───────────────┘\n"
      ]
     },
     "metadata": {},
     "output_type": "display_data"
    },
    {
     "data": {
      "text/html": [
       "<pre style=\"white-space:pre;overflow-x:auto;line-height:normal;font-family:Menlo,'DejaVu Sans Mono',consolas,'Courier New',monospace\"><span style=\"font-weight: bold\"> Total params: </span><span style=\"color: #00af00; text-decoration-color: #00af00\">724</span> (2.83 KB)\n",
       "</pre>\n"
      ],
      "text/plain": [
       "\u001b[1m Total params: \u001b[0m\u001b[38;5;34m724\u001b[0m (2.83 KB)\n"
      ]
     },
     "metadata": {},
     "output_type": "display_data"
    },
    {
     "data": {
      "text/html": [
       "<pre style=\"white-space:pre;overflow-x:auto;line-height:normal;font-family:Menlo,'DejaVu Sans Mono',consolas,'Courier New',monospace\"><span style=\"font-weight: bold\"> Trainable params: </span><span style=\"color: #00af00; text-decoration-color: #00af00\">722</span> (2.82 KB)\n",
       "</pre>\n"
      ],
      "text/plain": [
       "\u001b[1m Trainable params: \u001b[0m\u001b[38;5;34m722\u001b[0m (2.82 KB)\n"
      ]
     },
     "metadata": {},
     "output_type": "display_data"
    },
    {
     "data": {
      "text/html": [
       "<pre style=\"white-space:pre;overflow-x:auto;line-height:normal;font-family:Menlo,'DejaVu Sans Mono',consolas,'Courier New',monospace\"><span style=\"font-weight: bold\"> Non-trainable params: </span><span style=\"color: #00af00; text-decoration-color: #00af00\">0</span> (0.00 B)\n",
       "</pre>\n"
      ],
      "text/plain": [
       "\u001b[1m Non-trainable params: \u001b[0m\u001b[38;5;34m0\u001b[0m (0.00 B)\n"
      ]
     },
     "metadata": {},
     "output_type": "display_data"
    },
    {
     "data": {
      "text/html": [
       "<pre style=\"white-space:pre;overflow-x:auto;line-height:normal;font-family:Menlo,'DejaVu Sans Mono',consolas,'Courier New',monospace\"><span style=\"font-weight: bold\"> Optimizer params: </span><span style=\"color: #00af00; text-decoration-color: #00af00\">2</span> (12.00 B)\n",
       "</pre>\n"
      ],
      "text/plain": [
       "\u001b[1m Optimizer params: \u001b[0m\u001b[38;5;34m2\u001b[0m (12.00 B)\n"
      ]
     },
     "metadata": {},
     "output_type": "display_data"
    },
    {
     "name": "stdout",
     "output_type": "stream",
     "text": [
      "Epoch 1/20\n",
      "1/1 ━━━━━━━━━━━━━━━━━━━━ 0s 2s/step - acc: 0.7619 - loss: 0.4554INFO:tensorflow:Assets written to: models/iris/iris-sequential\\assets\n"
     ]
    },
    {
     "name": "stderr",
     "output_type": "stream",
     "text": [
      "INFO:tensorflow:Assets written to: models/iris/iris-sequential\\assets\n"
     ]
    },
    {
     "name": "stdout",
     "output_type": "stream",
     "text": [
      "1/1 ━━━━━━━━━━━━━━━━━━━━ 3s 3s/step - acc: 0.7619 - loss: 0.4554 - val_acc: 0.8571 - val_loss: 0.3372\n",
      "Epoch 2/20\n",
      "1/1 ━━━━━━━━━━━━━━━━━━━━ 0s 56ms/step - acc: 0.7738 - loss: 0.4533INFO:tensorflow:Assets written to: models/iris/iris-sequential\\assets\n"
     ]
    },
    {
     "name": "stderr",
     "output_type": "stream",
     "text": [
      "INFO:tensorflow:Assets written to: models/iris/iris-sequential\\assets\n"
     ]
    },
    {
     "name": "stdout",
     "output_type": "stream",
     "text": [
      "1/1 ━━━━━━━━━━━━━━━━━━━━ 1s 522ms/step - acc: 0.7738 - loss: 0.4533 - val_acc: 0.9048 - val_loss: 0.3361\n",
      "Epoch 3/20\n",
      "1/1 ━━━━━━━━━━━━━━━━━━━━ 0s 37ms/step - acc: 0.7857 - loss: 0.4521INFO:tensorflow:Assets written to: models/iris/iris-sequential\\assets\n"
     ]
    },
    {
     "name": "stderr",
     "output_type": "stream",
     "text": [
      "INFO:tensorflow:Assets written to: models/iris/iris-sequential\\assets\n"
     ]
    },
    {
     "name": "stdout",
     "output_type": "stream",
     "text": [
      "1/1 ━━━━━━━━━━━━━━━━━━━━ 1s 580ms/step - acc: 0.7857 - loss: 0.4521 - val_acc: 0.9524 - val_loss: 0.3352\n",
      "Epoch 4/20\n",
      "1/1 ━━━━━━━━━━━━━━━━━━━━ 0s 38ms/step - acc: 0.7857 - loss: 0.45 ━━━━━━━━━━━━━━━━━━━━ 0s 80ms/step - acc: 0.7857 - loss: 0.4511 - val_acc: 0.9524 - val_loss: 0.3343\n",
      "Epoch 5/20\n",
      "1/1 ━━━━━━━━━━━━━━━━━━━━ 0s 44ms/step - acc: 0.7857 - loss: 0.45 ━━━━━━━━━━━━━━━━━━━━ 0s 76ms/step - acc: 0.7857 - loss: 0.4501 - val_acc: 0.9524 - val_loss: 0.3333\n",
      "Epoch 6/20\n",
      "1/1 ━━━━━━━━━━━━━━━━━━━━ 0s 28ms/step - acc: 0.8095 - loss: 0.44 ━━━━━━━━━━━━━━━━━━━━ 0s 75ms/step - acc: 0.8095 - loss: 0.4489 - val_acc: 0.9524 - val_loss: 0.3324\n",
      "Epoch 7/20\n",
      "1/1 ━━━━━━━━━━━━━━━━━━━━ 0s 37ms/step - acc: 0.8095 - loss: 0.44 ━━━━━━━━━━━━━━━━━━━━ 0s 88ms/step - acc: 0.8095 - loss: 0.4475 - val_acc: 0.9524 - val_loss: 0.3314\n",
      "Epoch 8/20\n",
      "1/1 ━━━━━━━━━━━━━━━━━━━━ 0s 56ms/step - acc: 0.8214 - loss: 0.44 ━━━━━━━━━━━━━━━━━━━━ 0s 119ms/step - acc: 0.8214 - loss: 0.4463 - val_acc: 0.9524 - val_loss: 0.3306\n",
      "Epoch 9/20\n",
      "1/1 ━━━━━━━━━━━━━━━━━━━━ 0s 43ms/step - acc: 0.8452 - loss: 0.44 ━━━━━━━━━━━━━━━━━━━━ 0s 87ms/step - acc: 0.8452 - loss: 0.4451 - val_acc: 0.9524 - val_loss: 0.3300\n",
      "Epoch 10/20\n",
      "1/1 ━━━━━━━━━━━━━━━━━━━━ 0s 32ms/step - acc: 0.8452 - loss: 0.44 ━━━━━━━━━━━━━━━━━━━━ 0s 67ms/step - acc: 0.8452 - loss: 0.4440 - val_acc: 0.9524 - val_loss: 0.3294\n",
      "Epoch 11/20\n",
      "1/1 ━━━━━━━━━━━━━━━━━━━━ 0s 47ms/step - acc: 0.8571 - loss: 0.44 ━━━━━━━━━━━━━━━━━━━━ 0s 94ms/step - acc: 0.8571 - loss: 0.4430 - val_acc: 0.9524 - val_loss: 0.3289\n",
      "Epoch 12/20\n",
      "1/1 ━━━━━━━━━━━━━━━━━━━━ 0s 48ms/step - acc: 0.8571 - loss: 0.44 ━━━━━━━━━━━━━━━━━━━━ 0s 100ms/step - acc: 0.8571 - loss: 0.4420 - val_acc: 0.9524 - val_loss: 0.3284\n",
      "Epoch 13/20\n",
      "1/1 ━━━━━━━━━━━━━━━━━━━━ 0s 77ms/step - acc: 0.8571 - loss: 0.44 ━━━━━━━━━━━━━━━━━━━━ 0s 142ms/step - acc: 0.8571 - loss: 0.4410 - val_acc: 0.9524 - val_loss: 0.3280\n",
      "Epoch 14/20\n",
      "1/1 ━━━━━━━━━━━━━━━━━━━━ 0s 58ms/step - acc: 0.8690 - loss: 0.44 ━━━━━━━━━━━━━━━━━━━━ 0s 143ms/step - acc: 0.8690 - loss: 0.4400 - val_acc: 0.9524 - val_loss: 0.3274\n",
      "Epoch 15/20\n",
      "1/1 ━━━━━━━━━━━━━━━━━━━━ 0s 55ms/step - acc: 0.8690 - loss: 0.43 ━━━━━━━━━━━━━━━━━━━━ 0s 113ms/step - acc: 0.8690 - loss: 0.4390 - val_acc: 0.9524 - val_loss: 0.3268\n",
      "Epoch 16/20\n",
      "1/1 ━━━━━━━━━━━━━━━━━━━━ 0s 46ms/step - acc: 0.8690 - loss: 0.43 ━━━━━━━━━━━━━━━━━━━━ 0s 114ms/step - acc: 0.8690 - loss: 0.4381 - val_acc: 0.9524 - val_loss: 0.3263\n",
      "Epoch 17/20\n",
      "1/1 ━━━━━━━━━━━━━━━━━━━━ 0s 43ms/step - acc: 0.8690 - loss: 0.43 ━━━━━━━━━━━━━━━━━━━━ 0s 99ms/step - acc: 0.8690 - loss: 0.4372 - val_acc: 0.9524 - val_loss: 0.3257\n",
      "Epoch 18/20\n",
      "1/1 ━━━━━━━━━━━━━━━━━━━━ 0s 124ms/step - acc: 0.8690 - loss: 0.436 ━━━━━━━━━━━━━━━━━━━━ 0s 188ms/step - acc: 0.8690 - loss: 0.4365 - val_acc: 0.9524 - val_loss: 0.3250\n",
      "Epoch 19/20\n",
      "1/1 ━━━━━━━━━━━━━━━━━━━━ 0s 46ms/step - acc: 0.8690 - loss: 0.43 ━━━━━━━━━━━━━━━━━━━━ 0s 105ms/step - acc: 0.8690 - loss: 0.4357 - val_acc: 0.9524 - val_loss: 0.3243\n",
      "Epoch 20/20\n",
      "1/1 ━━━━━━━━━━━━━━━━━━━━ 0s 49ms/step - acc: 0.8690 - loss: 0.43 ━━━━━━━━━━━━━━━━━━━━ 0s 104ms/step - acc: 0.8690 - loss: 0.4348 - val_acc: 0.9524 - val_loss: 0.3236\n"
     ]
    },
    {
     "name": "stderr",
     "output_type": "stream",
     "text": [
      "wandb: Adding directory to artifact (.\\models\\iris\\iris-sequential)... Done. 0.1s\n"
     ]
    },
    {
     "data": {
      "text/html": [
       "<style>\n",
       "    table.wandb td:nth-child(1) { padding: 0 10px; text-align: left ; width: auto;} td:nth-child(2) {text-align: left ; width: 100%}\n",
       "    .wandb-row { display: flex; flex-direction: row; flex-wrap: wrap; justify-content: flex-start; width: 100% }\n",
       "    .wandb-col { display: flex; flex-direction: column; flex-basis: 100%; flex: 1; padding: 10px; }\n",
       "    </style>\n",
       "<div class=\"wandb-row\"><div class=\"wandb-col\"><h3>Run history:</h3><br/><table class=\"wandb\"><tr><td>acc</td><td>▁▂▃▃▃▄▄▅▆▆▇▇▇███████</td></tr><tr><td>loss</td><td>█▇▇▇▆▆▅▅▄▄▄▃▃▃▂▂▂▂▁▁</td></tr><tr><td>val_acc</td><td>▁▄██████████████████</td></tr><tr><td>val_loss</td><td>█▇▇▇▆▆▅▅▄▄▄▄▃▃▃▂▂▂▁▁</td></tr></table><br/></div><div class=\"wandb-col\"><h3>Run summary:</h3><br/><table class=\"wandb\"><tr><td>acc</td><td>0.86905</td></tr><tr><td>loss</td><td>0.43484</td></tr><tr><td>val_acc</td><td>0.95238</td></tr><tr><td>val_loss</td><td>0.32355</td></tr></table><br/></div></div>"
      ],
      "text/plain": [
       "<IPython.core.display.HTML object>"
      ]
     },
     "metadata": {},
     "output_type": "display_data"
    },
    {
     "data": {
      "text/html": [
       " View run <strong style=\"color:#cdcd00\">absurd-sweep-3</strong> at: <a href='https://wandb.ai/praptipatil01/Iris-Species-Classification/runs/ff7jejkk' target=\"_blank\">https://wandb.ai/praptipatil01/Iris-Species-Classification/runs/ff7jejkk</a><br/> View project at: <a href='https://wandb.ai/praptipatil01/Iris-Species-Classification' target=\"_blank\">https://wandb.ai/praptipatil01/Iris-Species-Classification</a><br/>Synced 5 W&B file(s), 0 media file(s), 5 artifact file(s) and 0 other file(s)"
      ],
      "text/plain": [
       "<IPython.core.display.HTML object>"
      ]
     },
     "metadata": {},
     "output_type": "display_data"
    },
    {
     "data": {
      "text/html": [
       "Find logs at: <code>.\\wandb\\run-20241020_173952-ff7jejkk\\logs</code>"
      ],
      "text/plain": [
       "<IPython.core.display.HTML object>"
      ]
     },
     "metadata": {},
     "output_type": "display_data"
    },
    {
     "name": "stderr",
     "output_type": "stream",
     "text": [
      "wandb: Agent Starting Run: 1jlx1ndx with config:\n",
      "wandb: \tlearning_rate: 0.005697248227145302\n",
      "wandb: \tnum_blocks: 3\n",
      "wandb: \toptimizer: adam\n",
      "wandb: WARNING Ignored wandb.init() arg project when running a sweep.\n"
     ]
    },
    {
     "data": {
      "text/html": [
       "Tracking run with wandb version 0.18.5"
      ],
      "text/plain": [
       "<IPython.core.display.HTML object>"
      ]
     },
     "metadata": {},
     "output_type": "display_data"
    },
    {
     "data": {
      "text/html": [
       "Run data is saved locally in <code>c:\\Users\\prapt\\Desktop\\Deep Learning\\DL_Basics\\TensorFlow in Action\\wandb\\run-20241020_174015-1jlx1ndx</code>"
      ],
      "text/plain": [
       "<IPython.core.display.HTML object>"
      ]
     },
     "metadata": {},
     "output_type": "display_data"
    },
    {
     "data": {
      "text/html": [
       "Syncing run <strong><a href='https://wandb.ai/praptipatil01/Iris-Species-Classification/runs/1jlx1ndx' target=\"_blank\">fallen-sweep-4</a></strong> to <a href='https://wandb.ai/praptipatil01/Iris-Species-Classification' target=\"_blank\">Weights & Biases</a> (<a href='https://wandb.me/run' target=\"_blank\">docs</a>)<br/>Sweep page: <a href='https://wandb.ai/praptipatil01/Iris-Species-Classification/sweeps/m0d9m9ge' target=\"_blank\">https://wandb.ai/praptipatil01/Iris-Species-Classification/sweeps/m0d9m9ge</a>"
      ],
      "text/plain": [
       "<IPython.core.display.HTML object>"
      ]
     },
     "metadata": {},
     "output_type": "display_data"
    },
    {
     "data": {
      "text/html": [
       " View project at <a href='https://wandb.ai/praptipatil01/Iris-Species-Classification' target=\"_blank\">https://wandb.ai/praptipatil01/Iris-Species-Classification</a>"
      ],
      "text/plain": [
       "<IPython.core.display.HTML object>"
      ]
     },
     "metadata": {},
     "output_type": "display_data"
    },
    {
     "data": {
      "text/html": [
       " View sweep at <a href='https://wandb.ai/praptipatil01/Iris-Species-Classification/sweeps/m0d9m9ge' target=\"_blank\">https://wandb.ai/praptipatil01/Iris-Species-Classification/sweeps/m0d9m9ge</a>"
      ],
      "text/plain": [
       "<IPython.core.display.HTML object>"
      ]
     },
     "metadata": {},
     "output_type": "display_data"
    },
    {
     "data": {
      "text/html": [
       " View run at <a href='https://wandb.ai/praptipatil01/Iris-Species-Classification/runs/1jlx1ndx' target=\"_blank\">https://wandb.ai/praptipatil01/Iris-Species-Classification/runs/1jlx1ndx</a>"
      ],
      "text/plain": [
       "<IPython.core.display.HTML object>"
      ]
     },
     "metadata": {},
     "output_type": "display_data"
    },
    {
     "name": "stderr",
     "output_type": "stream",
     "text": [
      "[D 241020 17:40:16 236141320:23] Number of records: Train -  84, Val - 21\n"
     ]
    },
    {
     "data": {
      "text/html": [
       "<pre style=\"white-space:pre;overflow-x:auto;line-height:normal;font-family:Menlo,'DejaVu Sans Mono',consolas,'Courier New',monospace\"><span style=\"font-weight: bold\">Model: \"iris-sequential\"</span>\n",
       "</pre>\n"
      ],
      "text/plain": [
       "\u001b[1mModel: \"iris-sequential\"\u001b[0m\n"
      ]
     },
     "metadata": {},
     "output_type": "display_data"
    },
    {
     "data": {
      "text/html": [
       "<pre style=\"white-space:pre;overflow-x:auto;line-height:normal;font-family:Menlo,'DejaVu Sans Mono',consolas,'Courier New',monospace\">┏━━━━━━━━━━━━━━━━━━━━━━━━━━━━━━━━━┳━━━━━━━━━━━━━━━━━━━━━━━━┳━━━━━━━━━━━━━━━┓\n",
       "┃<span style=\"font-weight: bold\"> Layer (type)                    </span>┃<span style=\"font-weight: bold\"> Output Shape           </span>┃<span style=\"font-weight: bold\">       Param # </span>┃\n",
       "┡━━━━━━━━━━━━━━━━━━━━━━━━━━━━━━━━━╇━━━━━━━━━━━━━━━━━━━━━━━━╇━━━━━━━━━━━━━━━┩\n",
       "│ dense_18 (<span style=\"color: #0087ff; text-decoration-color: #0087ff\">Dense</span>)                │ (<span style=\"color: #00d7ff; text-decoration-color: #00d7ff\">None</span>, <span style=\"color: #00af00; text-decoration-color: #00af00\">32</span>)             │           <span style=\"color: #00af00; text-decoration-color: #00af00\">160</span> │\n",
       "├─────────────────────────────────┼────────────────────────┼───────────────┤\n",
       "│ dense_19 (<span style=\"color: #0087ff; text-decoration-color: #0087ff\">Dense</span>)                │ (<span style=\"color: #00d7ff; text-decoration-color: #00d7ff\">None</span>, <span style=\"color: #00af00; text-decoration-color: #00af00\">16</span>)             │           <span style=\"color: #00af00; text-decoration-color: #00af00\">528</span> │\n",
       "├─────────────────────────────────┼────────────────────────┼───────────────┤\n",
       "│ dense_20 (<span style=\"color: #0087ff; text-decoration-color: #0087ff\">Dense</span>)                │ (<span style=\"color: #00d7ff; text-decoration-color: #00d7ff\">None</span>, <span style=\"color: #00af00; text-decoration-color: #00af00\">2</span>)              │            <span style=\"color: #00af00; text-decoration-color: #00af00\">34</span> │\n",
       "└─────────────────────────────────┴────────────────────────┴───────────────┘\n",
       "</pre>\n"
      ],
      "text/plain": [
       "┏━━━━━━━━━━━━━━━━━━━━━━━━━━━━━━━━━┳━━━━━━━━━━━━━━━━━━━━━━━━┳━━━━━━━━━━━━━━━┓\n",
       "┃\u001b[1m \u001b[0m\u001b[1mLayer (type)                   \u001b[0m\u001b[1m \u001b[0m┃\u001b[1m \u001b[0m\u001b[1mOutput Shape          \u001b[0m\u001b[1m \u001b[0m┃\u001b[1m \u001b[0m\u001b[1m      Param #\u001b[0m\u001b[1m \u001b[0m┃\n",
       "┡━━━━━━━━━━━━━━━━━━━━━━━━━━━━━━━━━╇━━━━━━━━━━━━━━━━━━━━━━━━╇━━━━━━━━━━━━━━━┩\n",
       "│ dense_18 (\u001b[38;5;33mDense\u001b[0m)                │ (\u001b[38;5;45mNone\u001b[0m, \u001b[38;5;34m32\u001b[0m)             │           \u001b[38;5;34m160\u001b[0m │\n",
       "├─────────────────────────────────┼────────────────────────┼───────────────┤\n",
       "│ dense_19 (\u001b[38;5;33mDense\u001b[0m)                │ (\u001b[38;5;45mNone\u001b[0m, \u001b[38;5;34m16\u001b[0m)             │           \u001b[38;5;34m528\u001b[0m │\n",
       "├─────────────────────────────────┼────────────────────────┼───────────────┤\n",
       "│ dense_20 (\u001b[38;5;33mDense\u001b[0m)                │ (\u001b[38;5;45mNone\u001b[0m, \u001b[38;5;34m2\u001b[0m)              │            \u001b[38;5;34m34\u001b[0m │\n",
       "└─────────────────────────────────┴────────────────────────┴───────────────┘\n"
      ]
     },
     "metadata": {},
     "output_type": "display_data"
    },
    {
     "data": {
      "text/html": [
       "<pre style=\"white-space:pre;overflow-x:auto;line-height:normal;font-family:Menlo,'DejaVu Sans Mono',consolas,'Courier New',monospace\"><span style=\"font-weight: bold\"> Total params: </span><span style=\"color: #00af00; text-decoration-color: #00af00\">2,168</span> (8.47 KB)\n",
       "</pre>\n"
      ],
      "text/plain": [
       "\u001b[1m Total params: \u001b[0m\u001b[38;5;34m2,168\u001b[0m (8.47 KB)\n"
      ]
     },
     "metadata": {},
     "output_type": "display_data"
    },
    {
     "data": {
      "text/html": [
       "<pre style=\"white-space:pre;overflow-x:auto;line-height:normal;font-family:Menlo,'DejaVu Sans Mono',consolas,'Courier New',monospace\"><span style=\"font-weight: bold\"> Trainable params: </span><span style=\"color: #00af00; text-decoration-color: #00af00\">722</span> (2.82 KB)\n",
       "</pre>\n"
      ],
      "text/plain": [
       "\u001b[1m Trainable params: \u001b[0m\u001b[38;5;34m722\u001b[0m (2.82 KB)\n"
      ]
     },
     "metadata": {},
     "output_type": "display_data"
    },
    {
     "data": {
      "text/html": [
       "<pre style=\"white-space:pre;overflow-x:auto;line-height:normal;font-family:Menlo,'DejaVu Sans Mono',consolas,'Courier New',monospace\"><span style=\"font-weight: bold\"> Non-trainable params: </span><span style=\"color: #00af00; text-decoration-color: #00af00\">0</span> (0.00 B)\n",
       "</pre>\n"
      ],
      "text/plain": [
       "\u001b[1m Non-trainable params: \u001b[0m\u001b[38;5;34m0\u001b[0m (0.00 B)\n"
      ]
     },
     "metadata": {},
     "output_type": "display_data"
    },
    {
     "data": {
      "text/html": [
       "<pre style=\"white-space:pre;overflow-x:auto;line-height:normal;font-family:Menlo,'DejaVu Sans Mono',consolas,'Courier New',monospace\"><span style=\"font-weight: bold\"> Optimizer params: </span><span style=\"color: #00af00; text-decoration-color: #00af00\">1,446</span> (5.65 KB)\n",
       "</pre>\n"
      ],
      "text/plain": [
       "\u001b[1m Optimizer params: \u001b[0m\u001b[38;5;34m1,446\u001b[0m (5.65 KB)\n"
      ]
     },
     "metadata": {},
     "output_type": "display_data"
    },
    {
     "name": "stdout",
     "output_type": "stream",
     "text": [
      "Epoch 1/20\n",
      "1/1 ━━━━━━━━━━━━━━━━━━━━ 0s 1s/step - acc: 0.8810 - loss: 0.4340INFO:tensorflow:Assets written to: models/iris/iris-sequential\\assets\n"
     ]
    },
    {
     "name": "stderr",
     "output_type": "stream",
     "text": [
      "INFO:tensorflow:Assets written to: models/iris/iris-sequential\\assets\n"
     ]
    },
    {
     "name": "stdout",
     "output_type": "stream",
     "text": [
      "1/1 ━━━━━━━━━━━━━━━━━━━━ 2s 2s/step - acc: 0.8810 - loss: 0.4340 - val_acc: 0.9524 - val_loss: 0.3226\n",
      "Epoch 2/20\n",
      "1/1 ━━━━━━━━━━━━━━━━━━━━ 0s 26ms/step - acc: 0.8929 - loss: 0.43 ━━━━━━━━━━━━━━━━━━━━ 0s 74ms/step - acc: 0.8929 - loss: 0.4328 - val_acc: 0.9524 - val_loss: 0.3215\n",
      "Epoch 3/20\n",
      "1/1 ━━━━━━━━━━━━━━━━━━━━ 0s 36ms/step - acc: 0.9048 - loss: 0.43 ━━━━━━━━━━━━━━━━━━━━ 0s 84ms/step - acc: 0.9048 - loss: 0.4320 - val_acc: 0.9524 - val_loss: 0.3204\n",
      "Epoch 4/20\n",
      "1/1 ━━━━━━━━━━━━━━━━━━━━ 0s 44ms/step - acc: 0.8929 - loss: 0.43 ━━━━━━━━━━━━━━━━━━━━ 0s 85ms/step - acc: 0.8929 - loss: 0.4310 - val_acc: 0.9524 - val_loss: 0.3196\n",
      "Epoch 5/20\n",
      "1/1 ━━━━━━━━━━━━━━━━━━━━ 0s 30ms/step - acc: 0.8929 - loss: 0.42 ━━━━━━━━━━━━━━━━━━━━ 0s 86ms/step - acc: 0.8929 - loss: 0.4299 - val_acc: 0.9524 - val_loss: 0.3190\n",
      "Epoch 6/20\n",
      "1/1 ━━━━━━━━━━━━━━━━━━━━ 0s 51ms/step - acc: 0.9048 - loss: 0.42 ━━━━━━━━━━━━━━━━━━━━ 0s 143ms/step - acc: 0.9048 - loss: 0.4291 - val_acc: 0.9524 - val_loss: 0.3185\n",
      "Epoch 7/20\n",
      "1/1 ━━━━━━━━━━━━━━━━━━━━ 0s 46ms/step - acc: 0.9048 - loss: 0.42 ━━━━━━━━━━━━━━━━━━━━ 0s 98ms/step - acc: 0.9048 - loss: 0.4282 - val_acc: 0.9524 - val_loss: 0.3181\n",
      "Epoch 8/20\n",
      "1/1 ━━━━━━━━━━━━━━━━━━━━ 0s 57ms/step - acc: 0.9048 - loss: 0.42 ━━━━━━━━━━━━━━━━━━━━ 0s 97ms/step - acc: 0.9048 - loss: 0.4273 - val_acc: 0.9524 - val_loss: 0.3176\n",
      "Epoch 9/20\n",
      "1/1 ━━━━━━━━━━━━━━━━━━━━ 0s 49ms/step - acc: 0.9048 - loss: 0.42 ━━━━━━━━━━━━━━━━━━━━ 0s 100ms/step - acc: 0.9048 - loss: 0.4264 - val_acc: 0.9524 - val_loss: 0.3171\n",
      "Epoch 10/20\n",
      "1/1 ━━━━━━━━━━━━━━━━━━━━ 0s 77ms/step - acc: 0.9048 - loss: 0.42 ━━━━━━━━━━━━━━━━━━━━ 0s 127ms/step - acc: 0.9048 - loss: 0.4255 - val_acc: 0.9524 - val_loss: 0.3165\n",
      "Epoch 11/20\n",
      "1/1 ━━━━━━━━━━━━━━━━━━━━ 0s 45ms/step - acc: 0.9048 - loss: 0.42 ━━━━━━━━━━━━━━━━━━━━ 0s 90ms/step - acc: 0.9048 - loss: 0.4246 - val_acc: 0.9524 - val_loss: 0.3158\n",
      "Epoch 12/20\n",
      "1/1 ━━━━━━━━━━━━━━━━━━━━ 0s 34ms/step - acc: 0.9048 - loss: 0.42 ━━━━━━━━━━━━━━━━━━━━ 0s 80ms/step - acc: 0.9048 - loss: 0.4236 - val_acc: 0.9524 - val_loss: 0.3152\n",
      "Epoch 13/20\n",
      "1/1 ━━━━━━━━━━━━━━━━━━━━ 0s 60ms/step - acc: 0.9048 - loss: 0.42 ━━━━━━━━━━━━━━━━━━━━ 0s 98ms/step - acc: 0.9048 - loss: 0.4227 - val_acc: 0.9524 - val_loss: 0.3145\n",
      "Epoch 14/20\n",
      "1/1 ━━━━━━━━━━━━━━━━━━━━ 0s 19ms/step - acc: 0.9048 - loss: 0.42 ━━━━━━━━━━━━━━━━━━━━ 0s 75ms/step - acc: 0.9048 - loss: 0.4218 - val_acc: 0.9524 - val_loss: 0.3139\n",
      "Epoch 15/20\n",
      "1/1 ━━━━━━━━━━━━━━━━━━━━ 0s 55ms/step - acc: 0.9048 - loss: 0.42 ━━━━━━━━━━━━━━━━━━━━ 0s 116ms/step - acc: 0.9048 - loss: 0.4209 - val_acc: 0.9524 - val_loss: 0.3132\n",
      "Epoch 16/20\n",
      "1/1 ━━━━━━━━━━━━━━━━━━━━ 0s 35ms/step - acc: 0.9048 - loss: 0.41 ━━━━━━━━━━━━━━━━━━━━ 0s 75ms/step - acc: 0.9048 - loss: 0.4198 - val_acc: 0.9524 - val_loss: 0.3124\n",
      "Epoch 17/20\n",
      "1/1 ━━━━━━━━━━━━━━━━━━━━ 0s 21ms/step - acc: 0.9048 - loss: 0.41 ━━━━━━━━━━━━━━━━━━━━ 0s 68ms/step - acc: 0.9048 - loss: 0.4188 - val_acc: 0.9524 - val_loss: 0.3117\n",
      "Epoch 18/20\n",
      "1/1 ━━━━━━━━━━━━━━━━━━━━ 0s 41ms/step - acc: 0.9048 - loss: 0.41 ━━━━━━━━━━━━━━━━━━━━ 0s 77ms/step - acc: 0.9048 - loss: 0.4177 - val_acc: 0.9524 - val_loss: 0.3111\n",
      "Epoch 19/20\n",
      "1/1 ━━━━━━━━━━━━━━━━━━━━ 0s 37ms/step - acc: 0.9048 - loss: 0.41 ━━━━━━━━━━━━━━━━━━━━ 0s 78ms/step - acc: 0.9048 - loss: 0.4168 - val_acc: 0.9524 - val_loss: 0.3104\n",
      "Epoch 20/20\n",
      "1/1 ━━━━━━━━━━━━━━━━━━━━ 0s 26ms/step - acc: 0.9048 - loss: 0.41 ━━━━━━━━━━━━━━━━━━━━ 0s 79ms/step - acc: 0.9048 - loss: 0.4157 - val_acc: 0.9524 - val_loss: 0.3097\n"
     ]
    },
    {
     "name": "stderr",
     "output_type": "stream",
     "text": [
      "wandb: Adding directory to artifact (.\\models\\iris\\iris-sequential)... Done. 0.0s\n"
     ]
    },
    {
     "data": {
      "text/html": [
       "<style>\n",
       "    table.wandb td:nth-child(1) { padding: 0 10px; text-align: left ; width: auto;} td:nth-child(2) {text-align: left ; width: 100%}\n",
       "    .wandb-row { display: flex; flex-direction: row; flex-wrap: wrap; justify-content: flex-start; width: 100% }\n",
       "    .wandb-col { display: flex; flex-direction: column; flex-basis: 100%; flex: 1; padding: 10px; }\n",
       "    </style>\n",
       "<div class=\"wandb-row\"><div class=\"wandb-col\"><h3>Run history:</h3><br/><table class=\"wandb\"><tr><td>acc</td><td>▁▅█▅▅███████████████</td></tr><tr><td>loss</td><td>██▇▇▆▆▆▅▅▅▄▄▄▃▃▃▂▂▁▁</td></tr><tr><td>val_acc</td><td>▁▁▁▁▁▁▁▁▁▁▁▁▁▁▁▁▁▁▁▁</td></tr><tr><td>val_loss</td><td>█▇▇▆▆▆▆▅▅▅▄▄▄▃▃▂▂▂▁▁</td></tr></table><br/></div><div class=\"wandb-col\"><h3>Run summary:</h3><br/><table class=\"wandb\"><tr><td>acc</td><td>0.90476</td></tr><tr><td>loss</td><td>0.41575</td></tr><tr><td>val_acc</td><td>0.95238</td></tr><tr><td>val_loss</td><td>0.30972</td></tr></table><br/></div></div>"
      ],
      "text/plain": [
       "<IPython.core.display.HTML object>"
      ]
     },
     "metadata": {},
     "output_type": "display_data"
    },
    {
     "data": {
      "text/html": [
       " View run <strong style=\"color:#cdcd00\">fallen-sweep-4</strong> at: <a href='https://wandb.ai/praptipatil01/Iris-Species-Classification/runs/1jlx1ndx' target=\"_blank\">https://wandb.ai/praptipatil01/Iris-Species-Classification/runs/1jlx1ndx</a><br/> View project at: <a href='https://wandb.ai/praptipatil01/Iris-Species-Classification' target=\"_blank\">https://wandb.ai/praptipatil01/Iris-Species-Classification</a><br/>Synced 5 W&B file(s), 0 media file(s), 5 artifact file(s) and 0 other file(s)"
      ],
      "text/plain": [
       "<IPython.core.display.HTML object>"
      ]
     },
     "metadata": {},
     "output_type": "display_data"
    },
    {
     "data": {
      "text/html": [
       "Find logs at: <code>.\\wandb\\run-20241020_174015-1jlx1ndx\\logs</code>"
      ],
      "text/plain": [
       "<IPython.core.display.HTML object>"
      ]
     },
     "metadata": {},
     "output_type": "display_data"
    },
    {
     "name": "stderr",
     "output_type": "stream",
     "text": [
      "wandb: Sweep Agent: Waiting for job.\n",
      "wandb: Job received.\n",
      "wandb: Agent Starting Run: 9tx98te0 with config:\n",
      "wandb: \tlearning_rate: 0.049405686900618626\n",
      "wandb: \tnum_blocks: 7\n",
      "wandb: \toptimizer: adam\n",
      "wandb: WARNING Ignored wandb.init() arg project when running a sweep.\n"
     ]
    },
    {
     "data": {
      "text/html": [
       "Tracking run with wandb version 0.18.5"
      ],
      "text/plain": [
       "<IPython.core.display.HTML object>"
      ]
     },
     "metadata": {},
     "output_type": "display_data"
    },
    {
     "data": {
      "text/html": [
       "Run data is saved locally in <code>c:\\Users\\prapt\\Desktop\\Deep Learning\\DL_Basics\\TensorFlow in Action\\wandb\\run-20241020_174041-9tx98te0</code>"
      ],
      "text/plain": [
       "<IPython.core.display.HTML object>"
      ]
     },
     "metadata": {},
     "output_type": "display_data"
    },
    {
     "data": {
      "text/html": [
       "Syncing run <strong><a href='https://wandb.ai/praptipatil01/Iris-Species-Classification/runs/9tx98te0' target=\"_blank\">fearless-sweep-5</a></strong> to <a href='https://wandb.ai/praptipatil01/Iris-Species-Classification' target=\"_blank\">Weights & Biases</a> (<a href='https://wandb.me/run' target=\"_blank\">docs</a>)<br/>Sweep page: <a href='https://wandb.ai/praptipatil01/Iris-Species-Classification/sweeps/m0d9m9ge' target=\"_blank\">https://wandb.ai/praptipatil01/Iris-Species-Classification/sweeps/m0d9m9ge</a>"
      ],
      "text/plain": [
       "<IPython.core.display.HTML object>"
      ]
     },
     "metadata": {},
     "output_type": "display_data"
    },
    {
     "data": {
      "text/html": [
       " View project at <a href='https://wandb.ai/praptipatil01/Iris-Species-Classification' target=\"_blank\">https://wandb.ai/praptipatil01/Iris-Species-Classification</a>"
      ],
      "text/plain": [
       "<IPython.core.display.HTML object>"
      ]
     },
     "metadata": {},
     "output_type": "display_data"
    },
    {
     "data": {
      "text/html": [
       " View sweep at <a href='https://wandb.ai/praptipatil01/Iris-Species-Classification/sweeps/m0d9m9ge' target=\"_blank\">https://wandb.ai/praptipatil01/Iris-Species-Classification/sweeps/m0d9m9ge</a>"
      ],
      "text/plain": [
       "<IPython.core.display.HTML object>"
      ]
     },
     "metadata": {},
     "output_type": "display_data"
    },
    {
     "data": {
      "text/html": [
       " View run at <a href='https://wandb.ai/praptipatil01/Iris-Species-Classification/runs/9tx98te0' target=\"_blank\">https://wandb.ai/praptipatil01/Iris-Species-Classification/runs/9tx98te0</a>"
      ],
      "text/plain": [
       "<IPython.core.display.HTML object>"
      ]
     },
     "metadata": {},
     "output_type": "display_data"
    },
    {
     "name": "stderr",
     "output_type": "stream",
     "text": [
      "[D 241020 17:40:43 236141320:23] Number of records: Train -  84, Val - 21\n"
     ]
    },
    {
     "data": {
      "text/html": [
       "<pre style=\"white-space:pre;overflow-x:auto;line-height:normal;font-family:Menlo,'DejaVu Sans Mono',consolas,'Courier New',monospace\"><span style=\"font-weight: bold\">Model: \"iris-sequential\"</span>\n",
       "</pre>\n"
      ],
      "text/plain": [
       "\u001b[1mModel: \"iris-sequential\"\u001b[0m\n"
      ]
     },
     "metadata": {},
     "output_type": "display_data"
    },
    {
     "data": {
      "text/html": [
       "<pre style=\"white-space:pre;overflow-x:auto;line-height:normal;font-family:Menlo,'DejaVu Sans Mono',consolas,'Courier New',monospace\">┏━━━━━━━━━━━━━━━━━━━━━━━━━━━━━━━━━┳━━━━━━━━━━━━━━━━━━━━━━━━┳━━━━━━━━━━━━━━━┓\n",
       "┃<span style=\"font-weight: bold\"> Layer (type)                    </span>┃<span style=\"font-weight: bold\"> Output Shape           </span>┃<span style=\"font-weight: bold\">       Param # </span>┃\n",
       "┡━━━━━━━━━━━━━━━━━━━━━━━━━━━━━━━━━╇━━━━━━━━━━━━━━━━━━━━━━━━╇━━━━━━━━━━━━━━━┩\n",
       "│ dense_18 (<span style=\"color: #0087ff; text-decoration-color: #0087ff\">Dense</span>)                │ (<span style=\"color: #00d7ff; text-decoration-color: #00d7ff\">None</span>, <span style=\"color: #00af00; text-decoration-color: #00af00\">32</span>)             │           <span style=\"color: #00af00; text-decoration-color: #00af00\">160</span> │\n",
       "├─────────────────────────────────┼────────────────────────┼───────────────┤\n",
       "│ dense_19 (<span style=\"color: #0087ff; text-decoration-color: #0087ff\">Dense</span>)                │ (<span style=\"color: #00d7ff; text-decoration-color: #00d7ff\">None</span>, <span style=\"color: #00af00; text-decoration-color: #00af00\">16</span>)             │           <span style=\"color: #00af00; text-decoration-color: #00af00\">528</span> │\n",
       "├─────────────────────────────────┼────────────────────────┼───────────────┤\n",
       "│ dense_20 (<span style=\"color: #0087ff; text-decoration-color: #0087ff\">Dense</span>)                │ (<span style=\"color: #00d7ff; text-decoration-color: #00d7ff\">None</span>, <span style=\"color: #00af00; text-decoration-color: #00af00\">2</span>)              │            <span style=\"color: #00af00; text-decoration-color: #00af00\">34</span> │\n",
       "└─────────────────────────────────┴────────────────────────┴───────────────┘\n",
       "</pre>\n"
      ],
      "text/plain": [
       "┏━━━━━━━━━━━━━━━━━━━━━━━━━━━━━━━━━┳━━━━━━━━━━━━━━━━━━━━━━━━┳━━━━━━━━━━━━━━━┓\n",
       "┃\u001b[1m \u001b[0m\u001b[1mLayer (type)                   \u001b[0m\u001b[1m \u001b[0m┃\u001b[1m \u001b[0m\u001b[1mOutput Shape          \u001b[0m\u001b[1m \u001b[0m┃\u001b[1m \u001b[0m\u001b[1m      Param #\u001b[0m\u001b[1m \u001b[0m┃\n",
       "┡━━━━━━━━━━━━━━━━━━━━━━━━━━━━━━━━━╇━━━━━━━━━━━━━━━━━━━━━━━━╇━━━━━━━━━━━━━━━┩\n",
       "│ dense_18 (\u001b[38;5;33mDense\u001b[0m)                │ (\u001b[38;5;45mNone\u001b[0m, \u001b[38;5;34m32\u001b[0m)             │           \u001b[38;5;34m160\u001b[0m │\n",
       "├─────────────────────────────────┼────────────────────────┼───────────────┤\n",
       "│ dense_19 (\u001b[38;5;33mDense\u001b[0m)                │ (\u001b[38;5;45mNone\u001b[0m, \u001b[38;5;34m16\u001b[0m)             │           \u001b[38;5;34m528\u001b[0m │\n",
       "├─────────────────────────────────┼────────────────────────┼───────────────┤\n",
       "│ dense_20 (\u001b[38;5;33mDense\u001b[0m)                │ (\u001b[38;5;45mNone\u001b[0m, \u001b[38;5;34m2\u001b[0m)              │            \u001b[38;5;34m34\u001b[0m │\n",
       "└─────────────────────────────────┴────────────────────────┴───────────────┘\n"
      ]
     },
     "metadata": {},
     "output_type": "display_data"
    },
    {
     "data": {
      "text/html": [
       "<pre style=\"white-space:pre;overflow-x:auto;line-height:normal;font-family:Menlo,'DejaVu Sans Mono',consolas,'Courier New',monospace\"><span style=\"font-weight: bold\"> Total params: </span><span style=\"color: #00af00; text-decoration-color: #00af00\">2,168</span> (8.47 KB)\n",
       "</pre>\n"
      ],
      "text/plain": [
       "\u001b[1m Total params: \u001b[0m\u001b[38;5;34m2,168\u001b[0m (8.47 KB)\n"
      ]
     },
     "metadata": {},
     "output_type": "display_data"
    },
    {
     "data": {
      "text/html": [
       "<pre style=\"white-space:pre;overflow-x:auto;line-height:normal;font-family:Menlo,'DejaVu Sans Mono',consolas,'Courier New',monospace\"><span style=\"font-weight: bold\"> Trainable params: </span><span style=\"color: #00af00; text-decoration-color: #00af00\">722</span> (2.82 KB)\n",
       "</pre>\n"
      ],
      "text/plain": [
       "\u001b[1m Trainable params: \u001b[0m\u001b[38;5;34m722\u001b[0m (2.82 KB)\n"
      ]
     },
     "metadata": {},
     "output_type": "display_data"
    },
    {
     "data": {
      "text/html": [
       "<pre style=\"white-space:pre;overflow-x:auto;line-height:normal;font-family:Menlo,'DejaVu Sans Mono',consolas,'Courier New',monospace\"><span style=\"font-weight: bold\"> Non-trainable params: </span><span style=\"color: #00af00; text-decoration-color: #00af00\">0</span> (0.00 B)\n",
       "</pre>\n"
      ],
      "text/plain": [
       "\u001b[1m Non-trainable params: \u001b[0m\u001b[38;5;34m0\u001b[0m (0.00 B)\n"
      ]
     },
     "metadata": {},
     "output_type": "display_data"
    },
    {
     "data": {
      "text/html": [
       "<pre style=\"white-space:pre;overflow-x:auto;line-height:normal;font-family:Menlo,'DejaVu Sans Mono',consolas,'Courier New',monospace\"><span style=\"font-weight: bold\"> Optimizer params: </span><span style=\"color: #00af00; text-decoration-color: #00af00\">1,446</span> (5.65 KB)\n",
       "</pre>\n"
      ],
      "text/plain": [
       "\u001b[1m Optimizer params: \u001b[0m\u001b[38;5;34m1,446\u001b[0m (5.65 KB)\n"
      ]
     },
     "metadata": {},
     "output_type": "display_data"
    },
    {
     "name": "stdout",
     "output_type": "stream",
     "text": [
      "Epoch 1/20\n",
      "1/1 ━━━━━━━━━━━━━━━━━━━━ 0s 967ms/step - acc: 0.9167 - loss: 0.4147INFO:tensorflow:Assets written to: models/iris/iris-sequential\\assets\n"
     ]
    },
    {
     "name": "stderr",
     "output_type": "stream",
     "text": [
      "INFO:tensorflow:Assets written to: models/iris/iris-sequential\\assets\n"
     ]
    },
    {
     "name": "stdout",
     "output_type": "stream",
     "text": [
      "1/1 ━━━━━━━━━━━━━━━━━━━━ 1s 1s/step - acc: 0.9167 - loss: 0.4147 - val_acc: 0.9524 - val_loss: 0.3092\n",
      "Epoch 2/20\n",
      "1/1 ━━━━━━━━━━━━━━━━━━━━ 0s 27ms/step - acc: 0.9048 - loss: 0.41 ━━━━━━━━━━━━━━━━━━━━ 0s 75ms/step - acc: 0.9048 - loss: 0.4134 - val_acc: 0.9524 - val_loss: 0.3085\n",
      "Epoch 3/20\n",
      "1/1 ━━━━━━━━━━━━━━━━━━━━ 0s 24ms/step - acc: 0.9167 - loss: 0.41 ━━━━━━━━━━━━━━━━━━━━ 0s 72ms/step - acc: 0.9167 - loss: 0.4129 - val_acc: 0.9524 - val_loss: 0.3078\n",
      "Epoch 4/20\n",
      "1/1 ━━━━━━━━━━━━━━━━━━━━ 0s 22ms/step - acc: 0.9167 - loss: 0.41 ━━━━━━━━━━━━━━━━━━━━ 0s 64ms/step - acc: 0.9167 - loss: 0.4119 - val_acc: 0.9524 - val_loss: 0.3071\n",
      "Epoch 5/20\n",
      "1/1 ━━━━━━━━━━━━━━━━━━━━ 0s 32ms/step - acc: 0.9167 - loss: 0.41 ━━━━━━━━━━━━━━━━━━━━ 0s 73ms/step - acc: 0.9167 - loss: 0.4106 - val_acc: 0.9524 - val_loss: 0.3066\n",
      "Epoch 6/20\n",
      "1/1 ━━━━━━━━━━━━━━━━━━━━ 0s 31ms/step - acc: 0.9048 - loss: 0.40 ━━━━━━━━━━━━━━━━━━━━ 0s 76ms/step - acc: 0.9048 - loss: 0.4095 - val_acc: 0.9524 - val_loss: 0.3061\n",
      "Epoch 7/20\n",
      "1/1 ━━━━━━━━━━━━━━━━━━━━ 0s 24ms/step - acc: 0.9048 - loss: 0.40 ━━━━━━━━━━━━━━━━━━━━ 0s 72ms/step - acc: 0.9048 - loss: 0.4087 - val_acc: 0.9524 - val_loss: 0.3055\n",
      "Epoch 8/20\n",
      "1/1 ━━━━━━━━━━━━━━━━━━━━ 0s 30ms/step - acc: 0.9167 - loss: 0.40 ━━━━━━━━━━━━━━━━━━━━ 0s 72ms/step - acc: 0.9167 - loss: 0.4077 - val_acc: 0.9524 - val_loss: 0.3049\n",
      "Epoch 9/20\n",
      "1/1 ━━━━━━━━━━━━━━━━━━━━ 0s 25ms/step - acc: 0.9167 - loss: 0.40 ━━━━━━━━━━━━━━━━━━━━ 0s 64ms/step - acc: 0.9167 - loss: 0.4066 - val_acc: 0.9524 - val_loss: 0.3041\n",
      "Epoch 10/20\n",
      "1/1 ━━━━━━━━━━━━━━━━━━━━ 0s 19ms/step - acc: 0.9286 - loss: 0.40 ━━━━━━━━━━━━━━━━━━━━ 0s 71ms/step - acc: 0.9286 - loss: 0.4056 - val_acc: 0.9524 - val_loss: 0.3034\n",
      "Epoch 11/20\n",
      "1/1 ━━━━━━━━━━━━━━━━━━━━ 0s 48ms/step - acc: 0.9286 - loss: 0.40 ━━━━━━━━━━━━━━━━━━━━ 0s 93ms/step - acc: 0.9286 - loss: 0.4048 - val_acc: 0.9524 - val_loss: 0.3027\n",
      "Epoch 12/20\n",
      "1/1 ━━━━━━━━━━━━━━━━━━━━ 0s 34ms/step - acc: 0.9405 - loss: 0.40 ━━━━━━━━━━━━━━━━━━━━ 0s 70ms/step - acc: 0.9405 - loss: 0.4039 - val_acc: 0.9524 - val_loss: 0.3021\n",
      "Epoch 13/20\n",
      "1/1 ━━━━━━━━━━━━━━━━━━━━ 0s 31ms/step - acc: 0.9405 - loss: 0.40 ━━━━━━━━━━━━━━━━━━━━ 0s 67ms/step - acc: 0.9405 - loss: 0.4029 - val_acc: 0.9524 - val_loss: 0.3015\n",
      "Epoch 14/20\n",
      "1/1 ━━━━━━━━━━━━━━━━━━━━ 0s 20ms/step - acc: 0.9405 - loss: 0.40 ━━━━━━━━━━━━━━━━━━━━ 0s 66ms/step - acc: 0.9405 - loss: 0.4018 - val_acc: 0.9524 - val_loss: 0.3007\n",
      "Epoch 15/20\n",
      "1/1 ━━━━━━━━━━━━━━━━━━━━ 0s 26ms/step - acc: 0.9405 - loss: 0.40 ━━━━━━━━━━━━━━━━━━━━ 0s 69ms/step - acc: 0.9405 - loss: 0.4007 - val_acc: 0.9524 - val_loss: 0.2999\n",
      "Epoch 16/20\n",
      "1/1 ━━━━━━━━━━━━━━━━━━━━ 0s 28ms/step - acc: 0.9524 - loss: 0.39 ━━━━━━━━━━━━━━━━━━━━ 0s 64ms/step - acc: 0.9524 - loss: 0.3995 - val_acc: 0.9524 - val_loss: 0.2991\n",
      "Epoch 17/20\n",
      "1/1 ━━━━━━━━━━━━━━━━━━━━ 0s 19ms/step - acc: 0.9643 - loss: 0.39 ━━━━━━━━━━━━━━━━━━━━ 0s 67ms/step - acc: 0.9643 - loss: 0.3984 - val_acc: 0.9524 - val_loss: 0.2983\n",
      "Epoch 18/20\n",
      "1/1 ━━━━━━━━━━━━━━━━━━━━ 0s 33ms/step - acc: 0.9524 - loss: 0.39 ━━━━━━━━━━━━━━━━━━━━ 0s 65ms/step - acc: 0.9524 - loss: 0.3974 - val_acc: 0.9524 - val_loss: 0.2975\n",
      "Epoch 19/20\n",
      "1/1 ━━━━━━━━━━━━━━━━━━━━ 0s 20ms/step - acc: 0.9524 - loss: 0.39 ━━━━━━━━━━━━━━━━━━━━ 0s 74ms/step - acc: 0.9524 - loss: 0.3964 - val_acc: 0.9524 - val_loss: 0.2967\n",
      "Epoch 20/20\n",
      "1/1 ━━━━━━━━━━━━━━━━━━━━ 0s 29ms/step - acc: 0.9643 - loss: 0.39 ━━━━━━━━━━━━━━━━━━━━ 0s 65ms/step - acc: 0.9643 - loss: 0.3955 - val_acc: 0.9524 - val_loss: 0.2960\n"
     ]
    },
    {
     "name": "stderr",
     "output_type": "stream",
     "text": [
      "wandb: Adding directory to artifact (.\\models\\iris\\iris-sequential)... Done. 0.0s\n"
     ]
    },
    {
     "data": {
      "text/html": [
       "<style>\n",
       "    table.wandb td:nth-child(1) { padding: 0 10px; text-align: left ; width: auto;} td:nth-child(2) {text-align: left ; width: 100%}\n",
       "    .wandb-row { display: flex; flex-direction: row; flex-wrap: wrap; justify-content: flex-start; width: 100% }\n",
       "    .wandb-col { display: flex; flex-direction: column; flex-basis: 100%; flex: 1; padding: 10px; }\n",
       "    </style>\n",
       "<div class=\"wandb-row\"><div class=\"wandb-col\"><h3>Run history:</h3><br/><table class=\"wandb\"><tr><td>acc</td><td>▂▁▂▂▂▁▁▂▂▄▄▅▅▅▅▇█▇▇█</td></tr><tr><td>loss</td><td>██▇▇▇▆▆▅▅▅▄▄▄▃▃▂▂▂▁▁</td></tr><tr><td>val_acc</td><td>▁▁▁▁▁▁▁▁▁▁▁▁▁▁▁▁▁▁▁▁</td></tr><tr><td>val_loss</td><td>██▇▇▇▆▆▆▅▅▅▄▄▄▃▃▂▂▁▁</td></tr></table><br/></div><div class=\"wandb-col\"><h3>Run summary:</h3><br/><table class=\"wandb\"><tr><td>acc</td><td>0.96429</td></tr><tr><td>loss</td><td>0.39546</td></tr><tr><td>val_acc</td><td>0.95238</td></tr><tr><td>val_loss</td><td>0.296</td></tr></table><br/></div></div>"
      ],
      "text/plain": [
       "<IPython.core.display.HTML object>"
      ]
     },
     "metadata": {},
     "output_type": "display_data"
    },
    {
     "data": {
      "text/html": [
       " View run <strong style=\"color:#cdcd00\">fearless-sweep-5</strong> at: <a href='https://wandb.ai/praptipatil01/Iris-Species-Classification/runs/9tx98te0' target=\"_blank\">https://wandb.ai/praptipatil01/Iris-Species-Classification/runs/9tx98te0</a><br/> View project at: <a href='https://wandb.ai/praptipatil01/Iris-Species-Classification' target=\"_blank\">https://wandb.ai/praptipatil01/Iris-Species-Classification</a><br/>Synced 5 W&B file(s), 0 media file(s), 5 artifact file(s) and 0 other file(s)"
      ],
      "text/plain": [
       "<IPython.core.display.HTML object>"
      ]
     },
     "metadata": {},
     "output_type": "display_data"
    },
    {
     "data": {
      "text/html": [
       "Find logs at: <code>.\\wandb\\run-20241020_174041-9tx98te0\\logs</code>"
      ],
      "text/plain": [
       "<IPython.core.display.HTML object>"
      ]
     },
     "metadata": {},
     "output_type": "display_data"
    },
    {
     "name": "stderr",
     "output_type": "stream",
     "text": [
      "wandb: Agent Starting Run: 00yfwtzh with config:\n",
      "wandb: \tlearning_rate: 0.012883998162466903\n",
      "wandb: \tnum_blocks: 8\n",
      "wandb: \toptimizer: sgd\n",
      "wandb: WARNING Ignored wandb.init() arg project when running a sweep.\n"
     ]
    },
    {
     "data": {
      "text/html": [
       "Tracking run with wandb version 0.18.5"
      ],
      "text/plain": [
       "<IPython.core.display.HTML object>"
      ]
     },
     "metadata": {},
     "output_type": "display_data"
    },
    {
     "data": {
      "text/html": [
       "Run data is saved locally in <code>c:\\Users\\prapt\\Desktop\\Deep Learning\\DL_Basics\\TensorFlow in Action\\wandb\\run-20241020_174058-00yfwtzh</code>"
      ],
      "text/plain": [
       "<IPython.core.display.HTML object>"
      ]
     },
     "metadata": {},
     "output_type": "display_data"
    },
    {
     "data": {
      "text/html": [
       "Syncing run <strong><a href='https://wandb.ai/praptipatil01/Iris-Species-Classification/runs/00yfwtzh' target=\"_blank\">generous-sweep-6</a></strong> to <a href='https://wandb.ai/praptipatil01/Iris-Species-Classification' target=\"_blank\">Weights & Biases</a> (<a href='https://wandb.me/run' target=\"_blank\">docs</a>)<br/>Sweep page: <a href='https://wandb.ai/praptipatil01/Iris-Species-Classification/sweeps/m0d9m9ge' target=\"_blank\">https://wandb.ai/praptipatil01/Iris-Species-Classification/sweeps/m0d9m9ge</a>"
      ],
      "text/plain": [
       "<IPython.core.display.HTML object>"
      ]
     },
     "metadata": {},
     "output_type": "display_data"
    },
    {
     "data": {
      "text/html": [
       " View project at <a href='https://wandb.ai/praptipatil01/Iris-Species-Classification' target=\"_blank\">https://wandb.ai/praptipatil01/Iris-Species-Classification</a>"
      ],
      "text/plain": [
       "<IPython.core.display.HTML object>"
      ]
     },
     "metadata": {},
     "output_type": "display_data"
    },
    {
     "data": {
      "text/html": [
       " View sweep at <a href='https://wandb.ai/praptipatil01/Iris-Species-Classification/sweeps/m0d9m9ge' target=\"_blank\">https://wandb.ai/praptipatil01/Iris-Species-Classification/sweeps/m0d9m9ge</a>"
      ],
      "text/plain": [
       "<IPython.core.display.HTML object>"
      ]
     },
     "metadata": {},
     "output_type": "display_data"
    },
    {
     "data": {
      "text/html": [
       " View run at <a href='https://wandb.ai/praptipatil01/Iris-Species-Classification/runs/00yfwtzh' target=\"_blank\">https://wandb.ai/praptipatil01/Iris-Species-Classification/runs/00yfwtzh</a>"
      ],
      "text/plain": [
       "<IPython.core.display.HTML object>"
      ]
     },
     "metadata": {},
     "output_type": "display_data"
    },
    {
     "name": "stderr",
     "output_type": "stream",
     "text": [
      "[D 241020 17:41:00 236141320:23] Number of records: Train -  84, Val - 21\n"
     ]
    },
    {
     "data": {
      "text/html": [
       "<pre style=\"white-space:pre;overflow-x:auto;line-height:normal;font-family:Menlo,'DejaVu Sans Mono',consolas,'Courier New',monospace\"><span style=\"font-weight: bold\">Model: \"iris-sequential\"</span>\n",
       "</pre>\n"
      ],
      "text/plain": [
       "\u001b[1mModel: \"iris-sequential\"\u001b[0m\n"
      ]
     },
     "metadata": {},
     "output_type": "display_data"
    },
    {
     "data": {
      "text/html": [
       "<pre style=\"white-space:pre;overflow-x:auto;line-height:normal;font-family:Menlo,'DejaVu Sans Mono',consolas,'Courier New',monospace\">┏━━━━━━━━━━━━━━━━━━━━━━━━━━━━━━━━━┳━━━━━━━━━━━━━━━━━━━━━━━━┳━━━━━━━━━━━━━━━┓\n",
       "┃<span style=\"font-weight: bold\"> Layer (type)                    </span>┃<span style=\"font-weight: bold\"> Output Shape           </span>┃<span style=\"font-weight: bold\">       Param # </span>┃\n",
       "┡━━━━━━━━━━━━━━━━━━━━━━━━━━━━━━━━━╇━━━━━━━━━━━━━━━━━━━━━━━━╇━━━━━━━━━━━━━━━┩\n",
       "│ dense_18 (<span style=\"color: #0087ff; text-decoration-color: #0087ff\">Dense</span>)                │ (<span style=\"color: #00d7ff; text-decoration-color: #00d7ff\">None</span>, <span style=\"color: #00af00; text-decoration-color: #00af00\">32</span>)             │           <span style=\"color: #00af00; text-decoration-color: #00af00\">160</span> │\n",
       "├─────────────────────────────────┼────────────────────────┼───────────────┤\n",
       "│ dense_19 (<span style=\"color: #0087ff; text-decoration-color: #0087ff\">Dense</span>)                │ (<span style=\"color: #00d7ff; text-decoration-color: #00d7ff\">None</span>, <span style=\"color: #00af00; text-decoration-color: #00af00\">16</span>)             │           <span style=\"color: #00af00; text-decoration-color: #00af00\">528</span> │\n",
       "├─────────────────────────────────┼────────────────────────┼───────────────┤\n",
       "│ dense_20 (<span style=\"color: #0087ff; text-decoration-color: #0087ff\">Dense</span>)                │ (<span style=\"color: #00d7ff; text-decoration-color: #00d7ff\">None</span>, <span style=\"color: #00af00; text-decoration-color: #00af00\">2</span>)              │            <span style=\"color: #00af00; text-decoration-color: #00af00\">34</span> │\n",
       "└─────────────────────────────────┴────────────────────────┴───────────────┘\n",
       "</pre>\n"
      ],
      "text/plain": [
       "┏━━━━━━━━━━━━━━━━━━━━━━━━━━━━━━━━━┳━━━━━━━━━━━━━━━━━━━━━━━━┳━━━━━━━━━━━━━━━┓\n",
       "┃\u001b[1m \u001b[0m\u001b[1mLayer (type)                   \u001b[0m\u001b[1m \u001b[0m┃\u001b[1m \u001b[0m\u001b[1mOutput Shape          \u001b[0m\u001b[1m \u001b[0m┃\u001b[1m \u001b[0m\u001b[1m      Param #\u001b[0m\u001b[1m \u001b[0m┃\n",
       "┡━━━━━━━━━━━━━━━━━━━━━━━━━━━━━━━━━╇━━━━━━━━━━━━━━━━━━━━━━━━╇━━━━━━━━━━━━━━━┩\n",
       "│ dense_18 (\u001b[38;5;33mDense\u001b[0m)                │ (\u001b[38;5;45mNone\u001b[0m, \u001b[38;5;34m32\u001b[0m)             │           \u001b[38;5;34m160\u001b[0m │\n",
       "├─────────────────────────────────┼────────────────────────┼───────────────┤\n",
       "│ dense_19 (\u001b[38;5;33mDense\u001b[0m)                │ (\u001b[38;5;45mNone\u001b[0m, \u001b[38;5;34m16\u001b[0m)             │           \u001b[38;5;34m528\u001b[0m │\n",
       "├─────────────────────────────────┼────────────────────────┼───────────────┤\n",
       "│ dense_20 (\u001b[38;5;33mDense\u001b[0m)                │ (\u001b[38;5;45mNone\u001b[0m, \u001b[38;5;34m2\u001b[0m)              │            \u001b[38;5;34m34\u001b[0m │\n",
       "└─────────────────────────────────┴────────────────────────┴───────────────┘\n"
      ]
     },
     "metadata": {},
     "output_type": "display_data"
    },
    {
     "data": {
      "text/html": [
       "<pre style=\"white-space:pre;overflow-x:auto;line-height:normal;font-family:Menlo,'DejaVu Sans Mono',consolas,'Courier New',monospace\"><span style=\"font-weight: bold\"> Total params: </span><span style=\"color: #00af00; text-decoration-color: #00af00\">2,168</span> (8.47 KB)\n",
       "</pre>\n"
      ],
      "text/plain": [
       "\u001b[1m Total params: \u001b[0m\u001b[38;5;34m2,168\u001b[0m (8.47 KB)\n"
      ]
     },
     "metadata": {},
     "output_type": "display_data"
    },
    {
     "data": {
      "text/html": [
       "<pre style=\"white-space:pre;overflow-x:auto;line-height:normal;font-family:Menlo,'DejaVu Sans Mono',consolas,'Courier New',monospace\"><span style=\"font-weight: bold\"> Trainable params: </span><span style=\"color: #00af00; text-decoration-color: #00af00\">722</span> (2.82 KB)\n",
       "</pre>\n"
      ],
      "text/plain": [
       "\u001b[1m Trainable params: \u001b[0m\u001b[38;5;34m722\u001b[0m (2.82 KB)\n"
      ]
     },
     "metadata": {},
     "output_type": "display_data"
    },
    {
     "data": {
      "text/html": [
       "<pre style=\"white-space:pre;overflow-x:auto;line-height:normal;font-family:Menlo,'DejaVu Sans Mono',consolas,'Courier New',monospace\"><span style=\"font-weight: bold\"> Non-trainable params: </span><span style=\"color: #00af00; text-decoration-color: #00af00\">0</span> (0.00 B)\n",
       "</pre>\n"
      ],
      "text/plain": [
       "\u001b[1m Non-trainable params: \u001b[0m\u001b[38;5;34m0\u001b[0m (0.00 B)\n"
      ]
     },
     "metadata": {},
     "output_type": "display_data"
    },
    {
     "data": {
      "text/html": [
       "<pre style=\"white-space:pre;overflow-x:auto;line-height:normal;font-family:Menlo,'DejaVu Sans Mono',consolas,'Courier New',monospace\"><span style=\"font-weight: bold\"> Optimizer params: </span><span style=\"color: #00af00; text-decoration-color: #00af00\">1,446</span> (5.65 KB)\n",
       "</pre>\n"
      ],
      "text/plain": [
       "\u001b[1m Optimizer params: \u001b[0m\u001b[38;5;34m1,446\u001b[0m (5.65 KB)\n"
      ]
     },
     "metadata": {},
     "output_type": "display_data"
    },
    {
     "name": "stdout",
     "output_type": "stream",
     "text": [
      "Epoch 1/20\n",
      "1/1 ━━━━━━━━━━━━━━━━━━━━ 0s 810ms/step - acc: 0.9643 - loss: 0.3945INFO:tensorflow:Assets written to: models/iris/iris-sequential\\assets\n"
     ]
    },
    {
     "name": "stderr",
     "output_type": "stream",
     "text": [
      "INFO:tensorflow:Assets written to: models/iris/iris-sequential\\assets\n"
     ]
    },
    {
     "name": "stdout",
     "output_type": "stream",
     "text": [
      "1/1 ━━━━━━━━━━━━━━━━━━━━ 1s 1s/step - acc: 0.9643 - loss: 0.3945 - val_acc: 0.9524 - val_loss: 0.2974\n",
      "Epoch 2/20\n",
      "1/1 ━━━━━━━━━━━━━━━━━━━━ 0s 40ms/step - acc: 0.9524 - loss: 0.39 ━━━━━━━━━━━━━━━━━━━━ 0s 89ms/step - acc: 0.9524 - loss: 0.3962 - val_acc: 0.9524 - val_loss: 0.2970\n",
      "Epoch 3/20\n",
      "1/1 ━━━━━━━━━━━━━━━━━━━━ 0s 52ms/step - acc: 0.9524 - loss: 0.39 ━━━━━━━━━━━━━━━━━━━━ 0s 117ms/step - acc: 0.9524 - loss: 0.3956 - val_acc: 0.9524 - val_loss: 0.2967\n",
      "Epoch 4/20\n",
      "1/1 ━━━━━━━━━━━━━━━━━━━━ 0s 44ms/step - acc: 0.9524 - loss: 0.39 ━━━━━━━━━━━━━━━━━━━━ 0s 81ms/step - acc: 0.9524 - loss: 0.3952 - val_acc: 0.9524 - val_loss: 0.2964\n",
      "Epoch 5/20\n",
      "1/1 ━━━━━━━━━━━━━━━━━━━━ 0s 36ms/step - acc: 0.9524 - loss: 0.39 ━━━━━━━━━━━━━━━━━━━━ 0s 75ms/step - acc: 0.9524 - loss: 0.3949 - val_acc: 0.9524 - val_loss: 0.2960\n",
      "Epoch 6/20\n",
      "1/1 ━━━━━━━━━━━━━━━━━━━━ 0s 25ms/step - acc: 0.9524 - loss: 0.39 ━━━━━━━━━━━━━━━━━━━━ 0s 88ms/step - acc: 0.9524 - loss: 0.3943 - val_acc: 0.9524 - val_loss: 0.2957\n",
      "Epoch 7/20\n",
      "1/1 ━━━━━━━━━━━━━━━━━━━━ 0s 30ms/step - acc: 0.9524 - loss: 0.39 ━━━━━━━━━━━━━━━━━━━━ 0s 74ms/step - acc: 0.9524 - loss: 0.3939 - val_acc: 0.9524 - val_loss: 0.2954\n",
      "Epoch 8/20\n",
      "1/1 ━━━━━━━━━━━━━━━━━━━━ 0s 28ms/step - acc: 0.9524 - loss: 0.39 ━━━━━━━━━━━━━━━━━━━━ 0s 74ms/step - acc: 0.9524 - loss: 0.3936 - val_acc: 0.9524 - val_loss: 0.2953\n",
      "Epoch 9/20\n",
      "1/1 ━━━━━━━━━━━━━━━━━━━━ 0s 30ms/step - acc: 0.9524 - loss: 0.39 ━━━━━━━━━━━━━━━━━━━━ 0s 68ms/step - acc: 0.9524 - loss: 0.3934 - val_acc: 0.9524 - val_loss: 0.2952\n",
      "Epoch 10/20\n",
      "1/1 ━━━━━━━━━━━━━━━━━━━━ 0s 115ms/step - acc: 0.9524 - loss: 0.393 ━━━━━━━━━━━━━━━━━━━━ 0s 161ms/step - acc: 0.9524 - loss: 0.3934 - val_acc: 0.9524 - val_loss: 0.2952\n",
      "Epoch 11/20\n",
      "1/1 ━━━━━━━━━━━━━━━━━━━━ 0s 23ms/step - acc: 0.9524 - loss: 0.39 ━━━━━━━━━━━━━━━━━━━━ 0s 68ms/step - acc: 0.9524 - loss: 0.3934 - val_acc: 0.9524 - val_loss: 0.2951\n",
      "Epoch 12/20\n",
      "1/1 ━━━━━━━━━━━━━━━━━━━━ 0s 37ms/step - acc: 0.9524 - loss: 0.39 ━━━━━━━━━━━━━━━━━━━━ 0s 85ms/step - acc: 0.9524 - loss: 0.3936 - val_acc: 0.9524 - val_loss: 0.2953\n",
      "Epoch 13/20\n",
      "1/1 ━━━━━━━━━━━━━━━━━━━━ 0s 22ms/step - acc: 0.9405 - loss: 0.39 ━━━━━━━━━━━━━━━━━━━━ 0s 71ms/step - acc: 0.9405 - loss: 0.3938 - val_acc: 0.9524 - val_loss: 0.2952\n",
      "Epoch 14/20\n",
      "1/1 ━━━━━━━━━━━━━━━━━━━━ 0s 48ms/step - acc: 0.9524 - loss: 0.39 ━━━━━━━━━━━━━━━━━━━━ 0s 88ms/step - acc: 0.9524 - loss: 0.3940 - val_acc: 0.9524 - val_loss: 0.2952\n",
      "Epoch 15/20\n",
      "1/1 ━━━━━━━━━━━━━━━━━━━━ 0s 41ms/step - acc: 0.9286 - loss: 0.39 ━━━━━━━━━━━━━━━━━━━━ 0s 103ms/step - acc: 0.9286 - loss: 0.3939 - val_acc: 0.9524 - val_loss: 0.2949\n",
      "Epoch 16/20\n",
      "1/1 ━━━━━━━━━━━━━━━━━━━━ 0s 67ms/step - acc: 0.9405 - loss: 0.39 ━━━━━━━━━━━━━━━━━━━━ 0s 127ms/step - acc: 0.9405 - loss: 0.3939 - val_acc: 0.9524 - val_loss: 0.2951\n",
      "Epoch 17/20\n",
      "1/1 ━━━━━━━━━━━━━━━━━━━━ 0s 65ms/step - acc: 0.9286 - loss: 0.39 ━━━━━━━━━━━━━━━━━━━━ 0s 113ms/step - acc: 0.9286 - loss: 0.3940 - val_acc: 0.9524 - val_loss: 0.2946\n",
      "Epoch 18/20\n",
      "1/1 ━━━━━━━━━━━━━━━━━━━━ 0s 92ms/step - acc: 0.9405 - loss: 0.39 ━━━━━━━━━━━━━━━━━━━━ 0s 186ms/step - acc: 0.9405 - loss: 0.3936 - val_acc: 0.9524 - val_loss: 0.2944\n",
      "Epoch 19/20\n",
      "1/1 ━━━━━━━━━━━━━━━━━━━━ 0s 54ms/step - acc: 0.9286 - loss: 0.39 ━━━━━━━━━━━━━━━━━━━━ 0s 115ms/step - acc: 0.9286 - loss: 0.3933 - val_acc: 0.9524 - val_loss: 0.2938\n",
      "Epoch 20/20\n",
      "1/1 ━━━━━━━━━━━━━━━━━━━━ 0s 53ms/step - acc: 0.9405 - loss: 0.39 ━━━━━━━━━━━━━━━━━━━━ 0s 102ms/step - acc: 0.9405 - loss: 0.3925 - val_acc: 0.9524 - val_loss: 0.2938\n"
     ]
    },
    {
     "name": "stderr",
     "output_type": "stream",
     "text": [
      "wandb: Adding directory to artifact (.\\models\\iris\\iris-sequential)... Done. 0.0s\n"
     ]
    },
    {
     "data": {
      "text/html": [
       "<style>\n",
       "    table.wandb td:nth-child(1) { padding: 0 10px; text-align: left ; width: auto;} td:nth-child(2) {text-align: left ; width: 100%}\n",
       "    .wandb-row { display: flex; flex-direction: row; flex-wrap: wrap; justify-content: flex-start; width: 100% }\n",
       "    .wandb-col { display: flex; flex-direction: column; flex-basis: 100%; flex: 1; padding: 10px; }\n",
       "    </style>\n",
       "<div class=\"wandb-row\"><div class=\"wandb-col\"><h3>Run history:</h3><br/><table class=\"wandb\"><tr><td>acc</td><td>█▆▆▆▆▆▆▆▆▆▆▆▃▆▁▃▁▃▁▃</td></tr><tr><td>loss</td><td>▅█▇▆▆▄▄▃▃▃▃▃▃▄▄▄▄▃▃▁</td></tr><tr><td>val_acc</td><td>▁▁▁▁▁▁▁▁▁▁▁▁▁▁▁▁▁▁▁▁</td></tr><tr><td>val_loss</td><td>█▇▇▆▅▅▄▄▄▄▄▄▄▄▃▄▃▂▁▁</td></tr></table><br/></div><div class=\"wandb-col\"><h3>Run summary:</h3><br/><table class=\"wandb\"><tr><td>acc</td><td>0.94048</td></tr><tr><td>loss</td><td>0.3925</td></tr><tr><td>val_acc</td><td>0.95238</td></tr><tr><td>val_loss</td><td>0.29377</td></tr></table><br/></div></div>"
      ],
      "text/plain": [
       "<IPython.core.display.HTML object>"
      ]
     },
     "metadata": {},
     "output_type": "display_data"
    },
    {
     "data": {
      "text/html": [
       " View run <strong style=\"color:#cdcd00\">generous-sweep-6</strong> at: <a href='https://wandb.ai/praptipatil01/Iris-Species-Classification/runs/00yfwtzh' target=\"_blank\">https://wandb.ai/praptipatil01/Iris-Species-Classification/runs/00yfwtzh</a><br/> View project at: <a href='https://wandb.ai/praptipatil01/Iris-Species-Classification' target=\"_blank\">https://wandb.ai/praptipatil01/Iris-Species-Classification</a><br/>Synced 5 W&B file(s), 0 media file(s), 5 artifact file(s) and 0 other file(s)"
      ],
      "text/plain": [
       "<IPython.core.display.HTML object>"
      ]
     },
     "metadata": {},
     "output_type": "display_data"
    },
    {
     "data": {
      "text/html": [
       "Find logs at: <code>.\\wandb\\run-20241020_174058-00yfwtzh\\logs</code>"
      ],
      "text/plain": [
       "<IPython.core.display.HTML object>"
      ]
     },
     "metadata": {},
     "output_type": "display_data"
    },
    {
     "name": "stderr",
     "output_type": "stream",
     "text": [
      "wandb: Sweep Agent: Waiting for job.\n",
      "wandb: Job received.\n",
      "wandb: Agent Starting Run: 8l1f63mj with config:\n",
      "wandb: \tlearning_rate: 0.021102635898415368\n",
      "wandb: \tnum_blocks: 7\n",
      "wandb: \toptimizer: adam\n",
      "wandb: WARNING Ignored wandb.init() arg project when running a sweep.\n"
     ]
    },
    {
     "data": {
      "text/html": [
       "Tracking run with wandb version 0.18.5"
      ],
      "text/plain": [
       "<IPython.core.display.HTML object>"
      ]
     },
     "metadata": {},
     "output_type": "display_data"
    },
    {
     "data": {
      "text/html": [
       "Run data is saved locally in <code>c:\\Users\\prapt\\Desktop\\Deep Learning\\DL_Basics\\TensorFlow in Action\\wandb\\run-20241020_174125-8l1f63mj</code>"
      ],
      "text/plain": [
       "<IPython.core.display.HTML object>"
      ]
     },
     "metadata": {},
     "output_type": "display_data"
    },
    {
     "data": {
      "text/html": [
       "Syncing run <strong><a href='https://wandb.ai/praptipatil01/Iris-Species-Classification/runs/8l1f63mj' target=\"_blank\">dulcet-sweep-7</a></strong> to <a href='https://wandb.ai/praptipatil01/Iris-Species-Classification' target=\"_blank\">Weights & Biases</a> (<a href='https://wandb.me/run' target=\"_blank\">docs</a>)<br/>Sweep page: <a href='https://wandb.ai/praptipatil01/Iris-Species-Classification/sweeps/m0d9m9ge' target=\"_blank\">https://wandb.ai/praptipatil01/Iris-Species-Classification/sweeps/m0d9m9ge</a>"
      ],
      "text/plain": [
       "<IPython.core.display.HTML object>"
      ]
     },
     "metadata": {},
     "output_type": "display_data"
    },
    {
     "data": {
      "text/html": [
       " View project at <a href='https://wandb.ai/praptipatil01/Iris-Species-Classification' target=\"_blank\">https://wandb.ai/praptipatil01/Iris-Species-Classification</a>"
      ],
      "text/plain": [
       "<IPython.core.display.HTML object>"
      ]
     },
     "metadata": {},
     "output_type": "display_data"
    },
    {
     "data": {
      "text/html": [
       " View sweep at <a href='https://wandb.ai/praptipatil01/Iris-Species-Classification/sweeps/m0d9m9ge' target=\"_blank\">https://wandb.ai/praptipatil01/Iris-Species-Classification/sweeps/m0d9m9ge</a>"
      ],
      "text/plain": [
       "<IPython.core.display.HTML object>"
      ]
     },
     "metadata": {},
     "output_type": "display_data"
    },
    {
     "data": {
      "text/html": [
       " View run at <a href='https://wandb.ai/praptipatil01/Iris-Species-Classification/runs/8l1f63mj' target=\"_blank\">https://wandb.ai/praptipatil01/Iris-Species-Classification/runs/8l1f63mj</a>"
      ],
      "text/plain": [
       "<IPython.core.display.HTML object>"
      ]
     },
     "metadata": {},
     "output_type": "display_data"
    },
    {
     "name": "stderr",
     "output_type": "stream",
     "text": [
      "[D 241020 17:41:26 236141320:23] Number of records: Train -  84, Val - 21\n"
     ]
    },
    {
     "data": {
      "text/html": [
       "<pre style=\"white-space:pre;overflow-x:auto;line-height:normal;font-family:Menlo,'DejaVu Sans Mono',consolas,'Courier New',monospace\"><span style=\"font-weight: bold\">Model: \"iris-sequential\"</span>\n",
       "</pre>\n"
      ],
      "text/plain": [
       "\u001b[1mModel: \"iris-sequential\"\u001b[0m\n"
      ]
     },
     "metadata": {},
     "output_type": "display_data"
    },
    {
     "data": {
      "text/html": [
       "<pre style=\"white-space:pre;overflow-x:auto;line-height:normal;font-family:Menlo,'DejaVu Sans Mono',consolas,'Courier New',monospace\">┏━━━━━━━━━━━━━━━━━━━━━━━━━━━━━━━━━┳━━━━━━━━━━━━━━━━━━━━━━━━┳━━━━━━━━━━━━━━━┓\n",
       "┃<span style=\"font-weight: bold\"> Layer (type)                    </span>┃<span style=\"font-weight: bold\"> Output Shape           </span>┃<span style=\"font-weight: bold\">       Param # </span>┃\n",
       "┡━━━━━━━━━━━━━━━━━━━━━━━━━━━━━━━━━╇━━━━━━━━━━━━━━━━━━━━━━━━╇━━━━━━━━━━━━━━━┩\n",
       "│ dense_18 (<span style=\"color: #0087ff; text-decoration-color: #0087ff\">Dense</span>)                │ (<span style=\"color: #00d7ff; text-decoration-color: #00d7ff\">None</span>, <span style=\"color: #00af00; text-decoration-color: #00af00\">32</span>)             │           <span style=\"color: #00af00; text-decoration-color: #00af00\">160</span> │\n",
       "├─────────────────────────────────┼────────────────────────┼───────────────┤\n",
       "│ dense_19 (<span style=\"color: #0087ff; text-decoration-color: #0087ff\">Dense</span>)                │ (<span style=\"color: #00d7ff; text-decoration-color: #00d7ff\">None</span>, <span style=\"color: #00af00; text-decoration-color: #00af00\">16</span>)             │           <span style=\"color: #00af00; text-decoration-color: #00af00\">528</span> │\n",
       "├─────────────────────────────────┼────────────────────────┼───────────────┤\n",
       "│ dense_20 (<span style=\"color: #0087ff; text-decoration-color: #0087ff\">Dense</span>)                │ (<span style=\"color: #00d7ff; text-decoration-color: #00d7ff\">None</span>, <span style=\"color: #00af00; text-decoration-color: #00af00\">2</span>)              │            <span style=\"color: #00af00; text-decoration-color: #00af00\">34</span> │\n",
       "└─────────────────────────────────┴────────────────────────┴───────────────┘\n",
       "</pre>\n"
      ],
      "text/plain": [
       "┏━━━━━━━━━━━━━━━━━━━━━━━━━━━━━━━━━┳━━━━━━━━━━━━━━━━━━━━━━━━┳━━━━━━━━━━━━━━━┓\n",
       "┃\u001b[1m \u001b[0m\u001b[1mLayer (type)                   \u001b[0m\u001b[1m \u001b[0m┃\u001b[1m \u001b[0m\u001b[1mOutput Shape          \u001b[0m\u001b[1m \u001b[0m┃\u001b[1m \u001b[0m\u001b[1m      Param #\u001b[0m\u001b[1m \u001b[0m┃\n",
       "┡━━━━━━━━━━━━━━━━━━━━━━━━━━━━━━━━━╇━━━━━━━━━━━━━━━━━━━━━━━━╇━━━━━━━━━━━━━━━┩\n",
       "│ dense_18 (\u001b[38;5;33mDense\u001b[0m)                │ (\u001b[38;5;45mNone\u001b[0m, \u001b[38;5;34m32\u001b[0m)             │           \u001b[38;5;34m160\u001b[0m │\n",
       "├─────────────────────────────────┼────────────────────────┼───────────────┤\n",
       "│ dense_19 (\u001b[38;5;33mDense\u001b[0m)                │ (\u001b[38;5;45mNone\u001b[0m, \u001b[38;5;34m16\u001b[0m)             │           \u001b[38;5;34m528\u001b[0m │\n",
       "├─────────────────────────────────┼────────────────────────┼───────────────┤\n",
       "│ dense_20 (\u001b[38;5;33mDense\u001b[0m)                │ (\u001b[38;5;45mNone\u001b[0m, \u001b[38;5;34m2\u001b[0m)              │            \u001b[38;5;34m34\u001b[0m │\n",
       "└─────────────────────────────────┴────────────────────────┴───────────────┘\n"
      ]
     },
     "metadata": {},
     "output_type": "display_data"
    },
    {
     "data": {
      "text/html": [
       "<pre style=\"white-space:pre;overflow-x:auto;line-height:normal;font-family:Menlo,'DejaVu Sans Mono',consolas,'Courier New',monospace\"><span style=\"font-weight: bold\"> Total params: </span><span style=\"color: #00af00; text-decoration-color: #00af00\">724</span> (2.83 KB)\n",
       "</pre>\n"
      ],
      "text/plain": [
       "\u001b[1m Total params: \u001b[0m\u001b[38;5;34m724\u001b[0m (2.83 KB)\n"
      ]
     },
     "metadata": {},
     "output_type": "display_data"
    },
    {
     "data": {
      "text/html": [
       "<pre style=\"white-space:pre;overflow-x:auto;line-height:normal;font-family:Menlo,'DejaVu Sans Mono',consolas,'Courier New',monospace\"><span style=\"font-weight: bold\"> Trainable params: </span><span style=\"color: #00af00; text-decoration-color: #00af00\">722</span> (2.82 KB)\n",
       "</pre>\n"
      ],
      "text/plain": [
       "\u001b[1m Trainable params: \u001b[0m\u001b[38;5;34m722\u001b[0m (2.82 KB)\n"
      ]
     },
     "metadata": {},
     "output_type": "display_data"
    },
    {
     "data": {
      "text/html": [
       "<pre style=\"white-space:pre;overflow-x:auto;line-height:normal;font-family:Menlo,'DejaVu Sans Mono',consolas,'Courier New',monospace\"><span style=\"font-weight: bold\"> Non-trainable params: </span><span style=\"color: #00af00; text-decoration-color: #00af00\">0</span> (0.00 B)\n",
       "</pre>\n"
      ],
      "text/plain": [
       "\u001b[1m Non-trainable params: \u001b[0m\u001b[38;5;34m0\u001b[0m (0.00 B)\n"
      ]
     },
     "metadata": {},
     "output_type": "display_data"
    },
    {
     "data": {
      "text/html": [
       "<pre style=\"white-space:pre;overflow-x:auto;line-height:normal;font-family:Menlo,'DejaVu Sans Mono',consolas,'Courier New',monospace\"><span style=\"font-weight: bold\"> Optimizer params: </span><span style=\"color: #00af00; text-decoration-color: #00af00\">2</span> (12.00 B)\n",
       "</pre>\n"
      ],
      "text/plain": [
       "\u001b[1m Optimizer params: \u001b[0m\u001b[38;5;34m2\u001b[0m (12.00 B)\n"
      ]
     },
     "metadata": {},
     "output_type": "display_data"
    },
    {
     "name": "stdout",
     "output_type": "stream",
     "text": [
      "Epoch 1/20\n",
      "1/1 ━━━━━━━━━━━━━━━━━━━━ 0s 1s/step - acc: 0.9405 - loss: 0.3928INFO:tensorflow:Assets written to: models/iris/iris-sequential\\assets\n"
     ]
    },
    {
     "name": "stderr",
     "output_type": "stream",
     "text": [
      "INFO:tensorflow:Assets written to: models/iris/iris-sequential\\assets\n"
     ]
    },
    {
     "name": "stdout",
     "output_type": "stream",
     "text": [
      "1/1 ━━━━━━━━━━━━━━━━━━━━ 2s 2s/step - acc: 0.9405 - loss: 0.3928 - val_acc: 0.9524 - val_loss: 0.2911\n",
      "Epoch 2/20\n",
      "1/1 ━━━━━━━━━━━━━━━━━━━━ 0s 48ms/step - acc: 0.9762 - loss: 0.38 ━━━━━━━━━━━━━━━━━━━━ 0s 95ms/step - acc: 0.9762 - loss: 0.3893 - val_acc: 0.9524 - val_loss: 0.2899\n",
      "Epoch 3/20\n",
      "1/1 ━━━━━━━━━━━━━━━━━━━━ 0s 56ms/step - acc: 0.9762 - loss: 0.38 ━━━━━━━━━━━━━━━━━━━━ 0s 92ms/step - acc: 0.9762 - loss: 0.3867 - val_acc: 0.9524 - val_loss: 0.2886\n",
      "Epoch 4/20\n",
      "1/1 ━━━━━━━━━━━━━━━━━━━━ 0s 42ms/step - acc: 0.9762 - loss: 0.38 ━━━━━━━━━━━━━━━━━━━━ 0s 96ms/step - acc: 0.9762 - loss: 0.3845 - val_acc: 0.9524 - val_loss: 0.2873\n",
      "Epoch 5/20\n",
      "1/1 ━━━━━━━━━━━━━━━━━━━━ 0s 30ms/step - acc: 0.9762 - loss: 0.38 ━━━━━━━━━━━━━━━━━━━━ 0s 74ms/step - acc: 0.9762 - loss: 0.3825 - val_acc: 0.9524 - val_loss: 0.2859\n",
      "Epoch 6/20\n",
      "1/1 ━━━━━━━━━━━━━━━━━━━━ 0s 29ms/step - acc: 0.9643 - loss: 0.38 ━━━━━━━━━━━━━━━━━━━━ 0s 116ms/step - acc: 0.9643 - loss: 0.3806 - val_acc: 0.9524 - val_loss: 0.2846\n",
      "Epoch 7/20\n",
      "1/1 ━━━━━━━━━━━━━━━━━━━━ 0s 50ms/step - acc: 0.9643 - loss: 0.37 ━━━━━━━━━━━━━━━━━━━━ 0s 89ms/step - acc: 0.9643 - loss: 0.3787 - val_acc: 0.9524 - val_loss: 0.2833\n",
      "Epoch 8/20\n",
      "1/1 ━━━━━━━━━━━━━━━━━━━━ 0s 35ms/step - acc: 0.9643 - loss: 0.37 ━━━━━━━━━━━━━━━━━━━━ 0s 78ms/step - acc: 0.9643 - loss: 0.3768 - val_acc: 0.9524 - val_loss: 0.2822\n",
      "Epoch 9/20\n",
      "1/1 ━━━━━━━━━━━━━━━━━━━━ 0s 39ms/step - acc: 0.9643 - loss: 0.37 ━━━━━━━━━━━━━━━━━━━━ 0s 76ms/step - acc: 0.9643 - loss: 0.3750 - val_acc: 0.9524 - val_loss: 0.2812\n",
      "Epoch 10/20\n",
      "1/1 ━━━━━━━━━━━━━━━━━━━━ 0s 37ms/step - acc: 0.9643 - loss: 0.37 ━━━━━━━━━━━━━━━━━━━━ 0s 71ms/step - acc: 0.9643 - loss: 0.3735 - val_acc: 0.9524 - val_loss: 0.2805\n",
      "Epoch 11/20\n",
      "1/1 ━━━━━━━━━━━━━━━━━━━━ 0s 36ms/step - acc: 0.9643 - loss: 0.37 ━━━━━━━━━━━━━━━━━━━━ 0s 73ms/step - acc: 0.9643 - loss: 0.3721 - val_acc: 0.9524 - val_loss: 0.2799\n",
      "Epoch 12/20\n",
      "1/1 ━━━━━━━━━━━━━━━━━━━━ 0s 98ms/step - acc: 0.9643 - loss: 0.37 ━━━━━━━━━━━━━━━━━━━━ 0s 142ms/step - acc: 0.9643 - loss: 0.3708 - val_acc: 0.9524 - val_loss: 0.2792\n",
      "Epoch 13/20\n",
      "1/1 ━━━━━━━━━━━━━━━━━━━━ 0s 33ms/step - acc: 0.9643 - loss: 0.36 ━━━━━━━━━━━━━━━━━━━━ 0s 79ms/step - acc: 0.9643 - loss: 0.3697 - val_acc: 0.9524 - val_loss: 0.2784\n",
      "Epoch 14/20\n",
      "1/1 ━━━━━━━━━━━━━━━━━━━━ 0s 36ms/step - acc: 0.9643 - loss: 0.36 ━━━━━━━━━━━━━━━━━━━━ 0s 68ms/step - acc: 0.9643 - loss: 0.3686 - val_acc: 0.9524 - val_loss: 0.2778\n",
      "Epoch 15/20\n",
      "1/1 ━━━━━━━━━━━━━━━━━━━━ 0s 35ms/step - acc: 0.9643 - loss: 0.36 ━━━━━━━━━━━━━━━━━━━━ 0s 73ms/step - acc: 0.9643 - loss: 0.3677 - val_acc: 0.9524 - val_loss: 0.2771\n",
      "Epoch 16/20\n",
      "1/1 ━━━━━━━━━━━━━━━━━━━━ 0s 33ms/step - acc: 0.9643 - loss: 0.36 ━━━━━━━━━━━━━━━━━━━━ 0s 72ms/step - acc: 0.9643 - loss: 0.3667 - val_acc: 0.9524 - val_loss: 0.2764\n",
      "Epoch 17/20\n",
      "1/1 ━━━━━━━━━━━━━━━━━━━━ 0s 33ms/step - acc: 0.9643 - loss: 0.36 ━━━━━━━━━━━━━━━━━━━━ 0s 74ms/step - acc: 0.9643 - loss: 0.3657 - val_acc: 0.9524 - val_loss: 0.2757\n",
      "Epoch 18/20\n",
      "1/1 ━━━━━━━━━━━━━━━━━━━━ 0s 31ms/step - acc: 0.9643 - loss: 0.36 ━━━━━━━━━━━━━━━━━━━━ 0s 68ms/step - acc: 0.9643 - loss: 0.3646 - val_acc: 0.9524 - val_loss: 0.2750\n",
      "Epoch 19/20\n",
      "1/1 ━━━━━━━━━━━━━━━━━━━━ 0s 31ms/step - acc: 0.9643 - loss: 0.36 ━━━━━━━━━━━━━━━━━━━━ 0s 75ms/step - acc: 0.9643 - loss: 0.3634 - val_acc: 0.9524 - val_loss: 0.2742\n",
      "Epoch 20/20\n",
      "1/1 ━━━━━━━━━━━━━━━━━━━━ 0s 35ms/step - acc: 0.9643 - loss: 0.36 ━━━━━━━━━━━━━━━━━━━━ 0s 74ms/step - acc: 0.9643 - loss: 0.3622 - val_acc: 0.9524 - val_loss: 0.2735\n"
     ]
    },
    {
     "name": "stderr",
     "output_type": "stream",
     "text": [
      "wandb: Adding directory to artifact (.\\models\\iris\\iris-sequential)... Done. 0.0s\n"
     ]
    },
    {
     "data": {
      "text/html": [
       "<style>\n",
       "    table.wandb td:nth-child(1) { padding: 0 10px; text-align: left ; width: auto;} td:nth-child(2) {text-align: left ; width: 100%}\n",
       "    .wandb-row { display: flex; flex-direction: row; flex-wrap: wrap; justify-content: flex-start; width: 100% }\n",
       "    .wandb-col { display: flex; flex-direction: column; flex-basis: 100%; flex: 1; padding: 10px; }\n",
       "    </style>\n",
       "<div class=\"wandb-row\"><div class=\"wandb-col\"><h3>Run history:</h3><br/><table class=\"wandb\"><tr><td>acc</td><td>▁████▆▆▆▆▆▆▆▆▆▆▆▆▆▆▆</td></tr><tr><td>loss</td><td>█▇▇▆▆▅▅▄▄▄▃▃▃▂▂▂▂▂▁▁</td></tr><tr><td>val_acc</td><td>▁▁▁▁▁▁▁▁▁▁▁▁▁▁▁▁▁▁▁▁</td></tr><tr><td>val_loss</td><td>██▇▇▆▅▅▄▄▄▄▃▃▃▂▂▂▂▁▁</td></tr></table><br/></div><div class=\"wandb-col\"><h3>Run summary:</h3><br/><table class=\"wandb\"><tr><td>acc</td><td>0.96429</td></tr><tr><td>loss</td><td>0.3622</td></tr><tr><td>val_acc</td><td>0.95238</td></tr><tr><td>val_loss</td><td>0.27349</td></tr></table><br/></div></div>"
      ],
      "text/plain": [
       "<IPython.core.display.HTML object>"
      ]
     },
     "metadata": {},
     "output_type": "display_data"
    },
    {
     "data": {
      "text/html": [
       " View run <strong style=\"color:#cdcd00\">dulcet-sweep-7</strong> at: <a href='https://wandb.ai/praptipatil01/Iris-Species-Classification/runs/8l1f63mj' target=\"_blank\">https://wandb.ai/praptipatil01/Iris-Species-Classification/runs/8l1f63mj</a><br/> View project at: <a href='https://wandb.ai/praptipatil01/Iris-Species-Classification' target=\"_blank\">https://wandb.ai/praptipatil01/Iris-Species-Classification</a><br/>Synced 5 W&B file(s), 0 media file(s), 5 artifact file(s) and 0 other file(s)"
      ],
      "text/plain": [
       "<IPython.core.display.HTML object>"
      ]
     },
     "metadata": {},
     "output_type": "display_data"
    },
    {
     "data": {
      "text/html": [
       "Find logs at: <code>.\\wandb\\run-20241020_174125-8l1f63mj\\logs</code>"
      ],
      "text/plain": [
       "<IPython.core.display.HTML object>"
      ]
     },
     "metadata": {},
     "output_type": "display_data"
    },
    {
     "name": "stderr",
     "output_type": "stream",
     "text": [
      "wandb: Agent Starting Run: ngib2n32 with config:\n",
      "wandb: \tlearning_rate: 0.008844915756535114\n",
      "wandb: \tnum_blocks: 2\n",
      "wandb: \toptimizer: sgd\n",
      "wandb: WARNING Ignored wandb.init() arg project when running a sweep.\n"
     ]
    },
    {
     "data": {
      "text/html": [
       "Tracking run with wandb version 0.18.5"
      ],
      "text/plain": [
       "<IPython.core.display.HTML object>"
      ]
     },
     "metadata": {},
     "output_type": "display_data"
    },
    {
     "data": {
      "text/html": [
       "Run data is saved locally in <code>c:\\Users\\prapt\\Desktop\\Deep Learning\\DL_Basics\\TensorFlow in Action\\wandb\\run-20241020_174141-ngib2n32</code>"
      ],
      "text/plain": [
       "<IPython.core.display.HTML object>"
      ]
     },
     "metadata": {},
     "output_type": "display_data"
    },
    {
     "data": {
      "text/html": [
       "Syncing run <strong><a href='https://wandb.ai/praptipatil01/Iris-Species-Classification/runs/ngib2n32' target=\"_blank\">exalted-sweep-8</a></strong> to <a href='https://wandb.ai/praptipatil01/Iris-Species-Classification' target=\"_blank\">Weights & Biases</a> (<a href='https://wandb.me/run' target=\"_blank\">docs</a>)<br/>Sweep page: <a href='https://wandb.ai/praptipatil01/Iris-Species-Classification/sweeps/m0d9m9ge' target=\"_blank\">https://wandb.ai/praptipatil01/Iris-Species-Classification/sweeps/m0d9m9ge</a>"
      ],
      "text/plain": [
       "<IPython.core.display.HTML object>"
      ]
     },
     "metadata": {},
     "output_type": "display_data"
    },
    {
     "data": {
      "text/html": [
       " View project at <a href='https://wandb.ai/praptipatil01/Iris-Species-Classification' target=\"_blank\">https://wandb.ai/praptipatil01/Iris-Species-Classification</a>"
      ],
      "text/plain": [
       "<IPython.core.display.HTML object>"
      ]
     },
     "metadata": {},
     "output_type": "display_data"
    },
    {
     "data": {
      "text/html": [
       " View sweep at <a href='https://wandb.ai/praptipatil01/Iris-Species-Classification/sweeps/m0d9m9ge' target=\"_blank\">https://wandb.ai/praptipatil01/Iris-Species-Classification/sweeps/m0d9m9ge</a>"
      ],
      "text/plain": [
       "<IPython.core.display.HTML object>"
      ]
     },
     "metadata": {},
     "output_type": "display_data"
    },
    {
     "data": {
      "text/html": [
       " View run at <a href='https://wandb.ai/praptipatil01/Iris-Species-Classification/runs/ngib2n32' target=\"_blank\">https://wandb.ai/praptipatil01/Iris-Species-Classification/runs/ngib2n32</a>"
      ],
      "text/plain": [
       "<IPython.core.display.HTML object>"
      ]
     },
     "metadata": {},
     "output_type": "display_data"
    },
    {
     "name": "stderr",
     "output_type": "stream",
     "text": [
      "[D 241020 17:41:43 236141320:23] Number of records: Train -  84, Val - 21\n"
     ]
    },
    {
     "data": {
      "text/html": [
       "<pre style=\"white-space:pre;overflow-x:auto;line-height:normal;font-family:Menlo,'DejaVu Sans Mono',consolas,'Courier New',monospace\"><span style=\"font-weight: bold\">Model: \"iris-sequential\"</span>\n",
       "</pre>\n"
      ],
      "text/plain": [
       "\u001b[1mModel: \"iris-sequential\"\u001b[0m\n"
      ]
     },
     "metadata": {},
     "output_type": "display_data"
    },
    {
     "data": {
      "text/html": [
       "<pre style=\"white-space:pre;overflow-x:auto;line-height:normal;font-family:Menlo,'DejaVu Sans Mono',consolas,'Courier New',monospace\">┏━━━━━━━━━━━━━━━━━━━━━━━━━━━━━━━━━┳━━━━━━━━━━━━━━━━━━━━━━━━┳━━━━━━━━━━━━━━━┓\n",
       "┃<span style=\"font-weight: bold\"> Layer (type)                    </span>┃<span style=\"font-weight: bold\"> Output Shape           </span>┃<span style=\"font-weight: bold\">       Param # </span>┃\n",
       "┡━━━━━━━━━━━━━━━━━━━━━━━━━━━━━━━━━╇━━━━━━━━━━━━━━━━━━━━━━━━╇━━━━━━━━━━━━━━━┩\n",
       "│ dense_18 (<span style=\"color: #0087ff; text-decoration-color: #0087ff\">Dense</span>)                │ (<span style=\"color: #00d7ff; text-decoration-color: #00d7ff\">None</span>, <span style=\"color: #00af00; text-decoration-color: #00af00\">32</span>)             │           <span style=\"color: #00af00; text-decoration-color: #00af00\">160</span> │\n",
       "├─────────────────────────────────┼────────────────────────┼───────────────┤\n",
       "│ dense_19 (<span style=\"color: #0087ff; text-decoration-color: #0087ff\">Dense</span>)                │ (<span style=\"color: #00d7ff; text-decoration-color: #00d7ff\">None</span>, <span style=\"color: #00af00; text-decoration-color: #00af00\">16</span>)             │           <span style=\"color: #00af00; text-decoration-color: #00af00\">528</span> │\n",
       "├─────────────────────────────────┼────────────────────────┼───────────────┤\n",
       "│ dense_20 (<span style=\"color: #0087ff; text-decoration-color: #0087ff\">Dense</span>)                │ (<span style=\"color: #00d7ff; text-decoration-color: #00d7ff\">None</span>, <span style=\"color: #00af00; text-decoration-color: #00af00\">2</span>)              │            <span style=\"color: #00af00; text-decoration-color: #00af00\">34</span> │\n",
       "└─────────────────────────────────┴────────────────────────┴───────────────┘\n",
       "</pre>\n"
      ],
      "text/plain": [
       "┏━━━━━━━━━━━━━━━━━━━━━━━━━━━━━━━━━┳━━━━━━━━━━━━━━━━━━━━━━━━┳━━━━━━━━━━━━━━━┓\n",
       "┃\u001b[1m \u001b[0m\u001b[1mLayer (type)                   \u001b[0m\u001b[1m \u001b[0m┃\u001b[1m \u001b[0m\u001b[1mOutput Shape          \u001b[0m\u001b[1m \u001b[0m┃\u001b[1m \u001b[0m\u001b[1m      Param #\u001b[0m\u001b[1m \u001b[0m┃\n",
       "┡━━━━━━━━━━━━━━━━━━━━━━━━━━━━━━━━━╇━━━━━━━━━━━━━━━━━━━━━━━━╇━━━━━━━━━━━━━━━┩\n",
       "│ dense_18 (\u001b[38;5;33mDense\u001b[0m)                │ (\u001b[38;5;45mNone\u001b[0m, \u001b[38;5;34m32\u001b[0m)             │           \u001b[38;5;34m160\u001b[0m │\n",
       "├─────────────────────────────────┼────────────────────────┼───────────────┤\n",
       "│ dense_19 (\u001b[38;5;33mDense\u001b[0m)                │ (\u001b[38;5;45mNone\u001b[0m, \u001b[38;5;34m16\u001b[0m)             │           \u001b[38;5;34m528\u001b[0m │\n",
       "├─────────────────────────────────┼────────────────────────┼───────────────┤\n",
       "│ dense_20 (\u001b[38;5;33mDense\u001b[0m)                │ (\u001b[38;5;45mNone\u001b[0m, \u001b[38;5;34m2\u001b[0m)              │            \u001b[38;5;34m34\u001b[0m │\n",
       "└─────────────────────────────────┴────────────────────────┴───────────────┘\n"
      ]
     },
     "metadata": {},
     "output_type": "display_data"
    },
    {
     "data": {
      "text/html": [
       "<pre style=\"white-space:pre;overflow-x:auto;line-height:normal;font-family:Menlo,'DejaVu Sans Mono',consolas,'Courier New',monospace\"><span style=\"font-weight: bold\"> Total params: </span><span style=\"color: #00af00; text-decoration-color: #00af00\">2,168</span> (8.47 KB)\n",
       "</pre>\n"
      ],
      "text/plain": [
       "\u001b[1m Total params: \u001b[0m\u001b[38;5;34m2,168\u001b[0m (8.47 KB)\n"
      ]
     },
     "metadata": {},
     "output_type": "display_data"
    },
    {
     "data": {
      "text/html": [
       "<pre style=\"white-space:pre;overflow-x:auto;line-height:normal;font-family:Menlo,'DejaVu Sans Mono',consolas,'Courier New',monospace\"><span style=\"font-weight: bold\"> Trainable params: </span><span style=\"color: #00af00; text-decoration-color: #00af00\">722</span> (2.82 KB)\n",
       "</pre>\n"
      ],
      "text/plain": [
       "\u001b[1m Trainable params: \u001b[0m\u001b[38;5;34m722\u001b[0m (2.82 KB)\n"
      ]
     },
     "metadata": {},
     "output_type": "display_data"
    },
    {
     "data": {
      "text/html": [
       "<pre style=\"white-space:pre;overflow-x:auto;line-height:normal;font-family:Menlo,'DejaVu Sans Mono',consolas,'Courier New',monospace\"><span style=\"font-weight: bold\"> Non-trainable params: </span><span style=\"color: #00af00; text-decoration-color: #00af00\">0</span> (0.00 B)\n",
       "</pre>\n"
      ],
      "text/plain": [
       "\u001b[1m Non-trainable params: \u001b[0m\u001b[38;5;34m0\u001b[0m (0.00 B)\n"
      ]
     },
     "metadata": {},
     "output_type": "display_data"
    },
    {
     "data": {
      "text/html": [
       "<pre style=\"white-space:pre;overflow-x:auto;line-height:normal;font-family:Menlo,'DejaVu Sans Mono',consolas,'Courier New',monospace\"><span style=\"font-weight: bold\"> Optimizer params: </span><span style=\"color: #00af00; text-decoration-color: #00af00\">1,446</span> (5.65 KB)\n",
       "</pre>\n"
      ],
      "text/plain": [
       "\u001b[1m Optimizer params: \u001b[0m\u001b[38;5;34m1,446\u001b[0m (5.65 KB)\n"
      ]
     },
     "metadata": {},
     "output_type": "display_data"
    },
    {
     "name": "stdout",
     "output_type": "stream",
     "text": [
      "Epoch 1/20\n",
      "1/1 ━━━━━━━━━━━━━━━━━━━━ 0s 585ms/step - acc: 0.9643 - loss: 0.3609INFO:tensorflow:Assets written to: models/iris/iris-sequential\\assets\n"
     ]
    },
    {
     "name": "stderr",
     "output_type": "stream",
     "text": [
      "INFO:tensorflow:Assets written to: models/iris/iris-sequential\\assets\n"
     ]
    },
    {
     "name": "stdout",
     "output_type": "stream",
     "text": [
      "1/1 ━━━━━━━━━━━━━━━━━━━━ 1s 1s/step - acc: 0.9643 - loss: 0.3609 - val_acc: 0.9524 - val_loss: 0.2773\n",
      "Epoch 2/20\n",
      "1/1 ━━━━━━━━━━━━━━━━━━━━ 0s 107ms/step - acc: 0.9405 - loss: 0.363 ━━━━━━━━━━━━━━━━━━━━ 0s 152ms/step - acc: 0.9405 - loss: 0.3635 - val_acc: 0.7619 - val_loss: 0.2737\n",
      "Epoch 3/20\n",
      "1/1 ━━━━━━━━━━━━━━━━━━━━ 0s 95ms/step - acc: 0.8095 - loss: 0.36 ━━━━━━━━━━━━━━━━━━━━ 0s 141ms/step - acc: 0.8095 - loss: 0.3671 - val_acc: 0.8095 - val_loss: 0.2995\n",
      "Epoch 4/20\n",
      "1/1 ━━━━━━━━━━━━━━━━━━━━ 0s 41ms/step - acc: 0.7857 - loss: 0.37 ━━━━━━━━━━━━━━━━━━━━ 0s 81ms/step - acc: 0.7857 - loss: 0.3797 - val_acc: 0.2857 - val_loss: 0.3291\n",
      "Epoch 5/20\n",
      "1/1 ━━━━━━━━━━━━━━━━━━━━ 0s 42ms/step - acc: 0.3214 - loss: 0.49 ━━━━━━━━━━━━━━━━━━━━ 0s 79ms/step - acc: 0.3214 - loss: 0.4917 - val_acc: 0.7143 - val_loss: 1.0783\n",
      "Epoch 6/20\n",
      "1/1 ━━━━━━━━━━━━━━━━━━━━ 0s 66ms/step - acc: 0.6786 - loss: 1.22 ━━━━━━━━━━━━━━━━━━━━ 0s 131ms/step - acc: 0.6786 - loss: 1.2253 - val_acc: 0.2857 - val_loss: 1.1627\n",
      "Epoch 7/20\n",
      "1/1 ━━━━━━━━━━━━━━━━━━━━ 0s 32ms/step - acc: 0.3214 - loss: 1.88 ━━━━━━━━━━━━━━━━━━━━ 0s 98ms/step - acc: 0.3214 - loss: 1.8894 - val_acc: 0.7143 - val_loss: 1.5820\n",
      "Epoch 8/20\n",
      "1/1 ━━━━━━━━━━━━━━━━━━━━ 0s 44ms/step - acc: 0.6786 - loss: 1.79 ━━━━━━━━━━━━━━━━━━━━ 0s 87ms/step - acc: 0.6786 - loss: 1.7907 - val_acc: 0.2857 - val_loss: 1.0806\n",
      "Epoch 9/20\n",
      "1/1 ━━━━━━━━━━━━━━━━━━━━ 0s 41ms/step - acc: 0.3214 - loss: 1.73 ━━━━━━━━━━━━━━━━━━━━ 0s 109ms/step - acc: 0.3214 - loss: 1.7367 - val_acc: 0.7143 - val_loss: 2.0796\n",
      "Epoch 10/20\n",
      "1/1 ━━━━━━━━━━━━━━━━━━━━ 0s 37ms/step - acc: 0.6786 - loss: 2.34 ━━━━━━━━━━━━━━━━━━━━ 0s 73ms/step - acc: 0.6786 - loss: 2.3479 - val_acc: 0.2857 - val_loss: 1.0765\n",
      "Epoch 11/20\n",
      "1/1 ━━━━━━━━━━━━━━━━━━━━ 0s 32ms/step - acc: 0.3214 - loss: 1.74 ━━━━━━━━━━━━━━━━━━━━ 0s 78ms/step - acc: 0.3214 - loss: 1.7453 - val_acc: 0.7143 - val_loss: 2.6147\n",
      "Epoch 12/20\n",
      "1/1 ━━━━━━━━━━━━━━━━━━━━ 0s 24ms/step - acc: 0.6786 - loss: 2.94 ━━━━━━━━━━━━━━━━━━━━ 0s 86ms/step - acc: 0.6786 - loss: 2.9474 - val_acc: 0.2857 - val_loss: 1.0538\n",
      "Epoch 13/20\n",
      "1/1 ━━━━━━━━━━━━━━━━━━━━ 0s 30ms/step - acc: 0.3214 - loss: 1.69 ━━━━━━━━━━━━━━━━━━━━ 0s 68ms/step - acc: 0.3214 - loss: 1.6963 - val_acc: 0.7143 - val_loss: 3.2541\n",
      "Epoch 14/20\n",
      "1/1 ━━━━━━━━━━━━━━━━━━━━ 0s 33ms/step - acc: 0.6786 - loss: 3.66 ━━━━━━━━━━━━━━━━━━━━ 0s 73ms/step - acc: 0.6786 - loss: 3.6636 - val_acc: 0.2857 - val_loss: 1.0809\n",
      "Epoch 15/20\n",
      "1/1 ━━━━━━━━━━━━━━━━━━━━ 0s 33ms/step - acc: 0.3214 - loss: 1.75 ━━━━━━━━━━━━━━━━━━━━ 0s 97ms/step - acc: 0.3214 - loss: 1.7516 - val_acc: 0.7143 - val_loss: 4.0347\n",
      "Epoch 16/20\n",
      "1/1 ━━━━━━━━━━━━━━━━━━━━ 0s 55ms/step - acc: 0.6786 - loss: 4.53 ━━━━━━━━━━━━━━━━━━━━ 0s 154ms/step - acc: 0.6786 - loss: 4.5389 - val_acc: 0.2857 - val_loss: 1.0994\n",
      "Epoch 17/20\n",
      "1/1 ━━━━━━━━━━━━━━━━━━━━ 0s 66ms/step - acc: 0.3214 - loss: 1.78 ━━━━━━━━━━━━━━━━━━━━ 0s 152ms/step - acc: 0.3214 - loss: 1.7804 - val_acc: 0.7143 - val_loss: 4.9905\n",
      "Epoch 18/20\n",
      "1/1 ━━━━━━━━━━━━━━━━━━━━ 0s 48ms/step - acc: 0.6786 - loss: 5.61 ━━━━━━━━━━━━━━━━━━━━ 0s 116ms/step - acc: 0.6786 - loss: 5.6102 - val_acc: 0.2857 - val_loss: 1.1398\n",
      "Epoch 19/20\n",
      "1/1 ━━━━━━━━━━━━━━━━━━━━ 0s 67ms/step - acc: 0.3214 - loss: 1.84 ━━━━━━━━━━━━━━━━━━━━ 0s 148ms/step - acc: 0.3214 - loss: 1.8482 - val_acc: 0.7143 - val_loss: 6.2009\n",
      "Epoch 20/20\n",
      "1/1 ━━━━━━━━━━━━━━━━━━━━ 0s 252ms/step - acc: 0.6786 - loss: 6.965 ━━━━━━━━━━━━━━━━━━━━ 0s 450ms/step - acc: 0.6786 - loss: 6.9658 - val_acc: 0.2857 - val_loss: 1.2019\n"
     ]
    },
    {
     "name": "stderr",
     "output_type": "stream",
     "text": [
      "wandb: Adding directory to artifact (.\\models\\iris\\iris-sequential)... Done. 0.1s\n"
     ]
    },
    {
     "data": {
      "text/html": [
       "<style>\n",
       "    table.wandb td:nth-child(1) { padding: 0 10px; text-align: left ; width: auto;} td:nth-child(2) {text-align: left ; width: 100%}\n",
       "    .wandb-row { display: flex; flex-direction: row; flex-wrap: wrap; justify-content: flex-start; width: 100% }\n",
       "    .wandb-col { display: flex; flex-direction: column; flex-basis: 100%; flex: 1; padding: 10px; }\n",
       "    </style>\n",
       "<div class=\"wandb-row\"><div class=\"wandb-col\"><h3>Run history:</h3><br/><table class=\"wandb\"><tr><td>acc</td><td>██▆▆▁▅▁▅▁▅▁▅▁▅▁▅▁▅▁▅</td></tr><tr><td>loss</td><td>▁▁▁▁▁▂▃▃▂▃▂▄▂▅▂▅▃▇▃█</td></tr><tr><td>val_acc</td><td>█▆▇▁▆▁▆▁▆▁▆▁▆▁▆▁▆▁▆▁</td></tr><tr><td>val_loss</td><td>▁▁▁▁▂▂▃▂▃▂▄▂▅▂▅▂▇▂█▂</td></tr></table><br/></div><div class=\"wandb-col\"><h3>Run summary:</h3><br/><table class=\"wandb\"><tr><td>acc</td><td>0.67857</td></tr><tr><td>loss</td><td>6.96578</td></tr><tr><td>val_acc</td><td>0.28571</td></tr><tr><td>val_loss</td><td>1.20191</td></tr></table><br/></div></div>"
      ],
      "text/plain": [
       "<IPython.core.display.HTML object>"
      ]
     },
     "metadata": {},
     "output_type": "display_data"
    },
    {
     "data": {
      "text/html": [
       " View run <strong style=\"color:#cdcd00\">exalted-sweep-8</strong> at: <a href='https://wandb.ai/praptipatil01/Iris-Species-Classification/runs/ngib2n32' target=\"_blank\">https://wandb.ai/praptipatil01/Iris-Species-Classification/runs/ngib2n32</a><br/> View project at: <a href='https://wandb.ai/praptipatil01/Iris-Species-Classification' target=\"_blank\">https://wandb.ai/praptipatil01/Iris-Species-Classification</a><br/>Synced 5 W&B file(s), 0 media file(s), 5 artifact file(s) and 0 other file(s)"
      ],
      "text/plain": [
       "<IPython.core.display.HTML object>"
      ]
     },
     "metadata": {},
     "output_type": "display_data"
    },
    {
     "data": {
      "text/html": [
       "Find logs at: <code>.\\wandb\\run-20241020_174141-ngib2n32\\logs</code>"
      ],
      "text/plain": [
       "<IPython.core.display.HTML object>"
      ]
     },
     "metadata": {},
     "output_type": "display_data"
    },
    {
     "name": "stderr",
     "output_type": "stream",
     "text": [
      "wandb: Agent Starting Run: 2calbdfa with config:\n",
      "wandb: \tlearning_rate: 0.08125830109251751\n",
      "wandb: \tnum_blocks: 8\n",
      "wandb: \toptimizer: adam\n",
      "wandb: WARNING Ignored wandb.init() arg project when running a sweep.\n"
     ]
    },
    {
     "data": {
      "text/html": [
       "Tracking run with wandb version 0.18.5"
      ],
      "text/plain": [
       "<IPython.core.display.HTML object>"
      ]
     },
     "metadata": {},
     "output_type": "display_data"
    },
    {
     "data": {
      "text/html": [
       "Run data is saved locally in <code>c:\\Users\\prapt\\Desktop\\Deep Learning\\DL_Basics\\TensorFlow in Action\\wandb\\run-20241020_174203-2calbdfa</code>"
      ],
      "text/plain": [
       "<IPython.core.display.HTML object>"
      ]
     },
     "metadata": {},
     "output_type": "display_data"
    },
    {
     "data": {
      "text/html": [
       "Syncing run <strong><a href='https://wandb.ai/praptipatil01/Iris-Species-Classification/runs/2calbdfa' target=\"_blank\">graceful-sweep-9</a></strong> to <a href='https://wandb.ai/praptipatil01/Iris-Species-Classification' target=\"_blank\">Weights & Biases</a> (<a href='https://wandb.me/run' target=\"_blank\">docs</a>)<br/>Sweep page: <a href='https://wandb.ai/praptipatil01/Iris-Species-Classification/sweeps/m0d9m9ge' target=\"_blank\">https://wandb.ai/praptipatil01/Iris-Species-Classification/sweeps/m0d9m9ge</a>"
      ],
      "text/plain": [
       "<IPython.core.display.HTML object>"
      ]
     },
     "metadata": {},
     "output_type": "display_data"
    },
    {
     "data": {
      "text/html": [
       " View project at <a href='https://wandb.ai/praptipatil01/Iris-Species-Classification' target=\"_blank\">https://wandb.ai/praptipatil01/Iris-Species-Classification</a>"
      ],
      "text/plain": [
       "<IPython.core.display.HTML object>"
      ]
     },
     "metadata": {},
     "output_type": "display_data"
    },
    {
     "data": {
      "text/html": [
       " View sweep at <a href='https://wandb.ai/praptipatil01/Iris-Species-Classification/sweeps/m0d9m9ge' target=\"_blank\">https://wandb.ai/praptipatil01/Iris-Species-Classification/sweeps/m0d9m9ge</a>"
      ],
      "text/plain": [
       "<IPython.core.display.HTML object>"
      ]
     },
     "metadata": {},
     "output_type": "display_data"
    },
    {
     "data": {
      "text/html": [
       " View run at <a href='https://wandb.ai/praptipatil01/Iris-Species-Classification/runs/2calbdfa' target=\"_blank\">https://wandb.ai/praptipatil01/Iris-Species-Classification/runs/2calbdfa</a>"
      ],
      "text/plain": [
       "<IPython.core.display.HTML object>"
      ]
     },
     "metadata": {},
     "output_type": "display_data"
    },
    {
     "name": "stderr",
     "output_type": "stream",
     "text": [
      "[D 241020 17:42:05 236141320:23] Number of records: Train -  84, Val - 21\n"
     ]
    },
    {
     "data": {
      "text/html": [
       "<pre style=\"white-space:pre;overflow-x:auto;line-height:normal;font-family:Menlo,'DejaVu Sans Mono',consolas,'Courier New',monospace\"><span style=\"font-weight: bold\">Model: \"iris-sequential\"</span>\n",
       "</pre>\n"
      ],
      "text/plain": [
       "\u001b[1mModel: \"iris-sequential\"\u001b[0m\n"
      ]
     },
     "metadata": {},
     "output_type": "display_data"
    },
    {
     "data": {
      "text/html": [
       "<pre style=\"white-space:pre;overflow-x:auto;line-height:normal;font-family:Menlo,'DejaVu Sans Mono',consolas,'Courier New',monospace\">┏━━━━━━━━━━━━━━━━━━━━━━━━━━━━━━━━━┳━━━━━━━━━━━━━━━━━━━━━━━━┳━━━━━━━━━━━━━━━┓\n",
       "┃<span style=\"font-weight: bold\"> Layer (type)                    </span>┃<span style=\"font-weight: bold\"> Output Shape           </span>┃<span style=\"font-weight: bold\">       Param # </span>┃\n",
       "┡━━━━━━━━━━━━━━━━━━━━━━━━━━━━━━━━━╇━━━━━━━━━━━━━━━━━━━━━━━━╇━━━━━━━━━━━━━━━┩\n",
       "│ dense_18 (<span style=\"color: #0087ff; text-decoration-color: #0087ff\">Dense</span>)                │ (<span style=\"color: #00d7ff; text-decoration-color: #00d7ff\">None</span>, <span style=\"color: #00af00; text-decoration-color: #00af00\">32</span>)             │           <span style=\"color: #00af00; text-decoration-color: #00af00\">160</span> │\n",
       "├─────────────────────────────────┼────────────────────────┼───────────────┤\n",
       "│ dense_19 (<span style=\"color: #0087ff; text-decoration-color: #0087ff\">Dense</span>)                │ (<span style=\"color: #00d7ff; text-decoration-color: #00d7ff\">None</span>, <span style=\"color: #00af00; text-decoration-color: #00af00\">16</span>)             │           <span style=\"color: #00af00; text-decoration-color: #00af00\">528</span> │\n",
       "├─────────────────────────────────┼────────────────────────┼───────────────┤\n",
       "│ dense_20 (<span style=\"color: #0087ff; text-decoration-color: #0087ff\">Dense</span>)                │ (<span style=\"color: #00d7ff; text-decoration-color: #00d7ff\">None</span>, <span style=\"color: #00af00; text-decoration-color: #00af00\">2</span>)              │            <span style=\"color: #00af00; text-decoration-color: #00af00\">34</span> │\n",
       "└─────────────────────────────────┴────────────────────────┴───────────────┘\n",
       "</pre>\n"
      ],
      "text/plain": [
       "┏━━━━━━━━━━━━━━━━━━━━━━━━━━━━━━━━━┳━━━━━━━━━━━━━━━━━━━━━━━━┳━━━━━━━━━━━━━━━┓\n",
       "┃\u001b[1m \u001b[0m\u001b[1mLayer (type)                   \u001b[0m\u001b[1m \u001b[0m┃\u001b[1m \u001b[0m\u001b[1mOutput Shape          \u001b[0m\u001b[1m \u001b[0m┃\u001b[1m \u001b[0m\u001b[1m      Param #\u001b[0m\u001b[1m \u001b[0m┃\n",
       "┡━━━━━━━━━━━━━━━━━━━━━━━━━━━━━━━━━╇━━━━━━━━━━━━━━━━━━━━━━━━╇━━━━━━━━━━━━━━━┩\n",
       "│ dense_18 (\u001b[38;5;33mDense\u001b[0m)                │ (\u001b[38;5;45mNone\u001b[0m, \u001b[38;5;34m32\u001b[0m)             │           \u001b[38;5;34m160\u001b[0m │\n",
       "├─────────────────────────────────┼────────────────────────┼───────────────┤\n",
       "│ dense_19 (\u001b[38;5;33mDense\u001b[0m)                │ (\u001b[38;5;45mNone\u001b[0m, \u001b[38;5;34m16\u001b[0m)             │           \u001b[38;5;34m528\u001b[0m │\n",
       "├─────────────────────────────────┼────────────────────────┼───────────────┤\n",
       "│ dense_20 (\u001b[38;5;33mDense\u001b[0m)                │ (\u001b[38;5;45mNone\u001b[0m, \u001b[38;5;34m2\u001b[0m)              │            \u001b[38;5;34m34\u001b[0m │\n",
       "└─────────────────────────────────┴────────────────────────┴───────────────┘\n"
      ]
     },
     "metadata": {},
     "output_type": "display_data"
    },
    {
     "data": {
      "text/html": [
       "<pre style=\"white-space:pre;overflow-x:auto;line-height:normal;font-family:Menlo,'DejaVu Sans Mono',consolas,'Courier New',monospace\"><span style=\"font-weight: bold\"> Total params: </span><span style=\"color: #00af00; text-decoration-color: #00af00\">724</span> (2.83 KB)\n",
       "</pre>\n"
      ],
      "text/plain": [
       "\u001b[1m Total params: \u001b[0m\u001b[38;5;34m724\u001b[0m (2.83 KB)\n"
      ]
     },
     "metadata": {},
     "output_type": "display_data"
    },
    {
     "data": {
      "text/html": [
       "<pre style=\"white-space:pre;overflow-x:auto;line-height:normal;font-family:Menlo,'DejaVu Sans Mono',consolas,'Courier New',monospace\"><span style=\"font-weight: bold\"> Trainable params: </span><span style=\"color: #00af00; text-decoration-color: #00af00\">722</span> (2.82 KB)\n",
       "</pre>\n"
      ],
      "text/plain": [
       "\u001b[1m Trainable params: \u001b[0m\u001b[38;5;34m722\u001b[0m (2.82 KB)\n"
      ]
     },
     "metadata": {},
     "output_type": "display_data"
    },
    {
     "data": {
      "text/html": [
       "<pre style=\"white-space:pre;overflow-x:auto;line-height:normal;font-family:Menlo,'DejaVu Sans Mono',consolas,'Courier New',monospace\"><span style=\"font-weight: bold\"> Non-trainable params: </span><span style=\"color: #00af00; text-decoration-color: #00af00\">0</span> (0.00 B)\n",
       "</pre>\n"
      ],
      "text/plain": [
       "\u001b[1m Non-trainable params: \u001b[0m\u001b[38;5;34m0\u001b[0m (0.00 B)\n"
      ]
     },
     "metadata": {},
     "output_type": "display_data"
    },
    {
     "data": {
      "text/html": [
       "<pre style=\"white-space:pre;overflow-x:auto;line-height:normal;font-family:Menlo,'DejaVu Sans Mono',consolas,'Courier New',monospace\"><span style=\"font-weight: bold\"> Optimizer params: </span><span style=\"color: #00af00; text-decoration-color: #00af00\">2</span> (12.00 B)\n",
       "</pre>\n"
      ],
      "text/plain": [
       "\u001b[1m Optimizer params: \u001b[0m\u001b[38;5;34m2\u001b[0m (12.00 B)\n"
      ]
     },
     "metadata": {},
     "output_type": "display_data"
    },
    {
     "name": "stdout",
     "output_type": "stream",
     "text": [
      "Epoch 1/20\n",
      "1/1 ━━━━━━━━━━━━━━━━━━━━ 0s 1s/step - acc: 0.3214 - loss: 1.9540INFO:tensorflow:Assets written to: models/iris/iris-sequential\\assets\n"
     ]
    },
    {
     "name": "stderr",
     "output_type": "stream",
     "text": [
      "INFO:tensorflow:Assets written to: models/iris/iris-sequential\\assets\n"
     ]
    },
    {
     "name": "stdout",
     "output_type": "stream",
     "text": [
      "1/1 ━━━━━━━━━━━━━━━━━━━━ 2s 2s/step - acc: 0.3214 - loss: 1.9540 - val_acc: 0.2857 - val_loss: 1.1192\n",
      "Epoch 2/20\n",
      "1/1 ━━━━━━━━━━━━━━━━━━━━ 0s 93ms/step - acc: 0.3214 - loss: 1.81 ━━━━━━━━━━━━━━━━━━━━ 0s 144ms/step - acc: 0.3214 - loss: 1.8138 - val_acc: 0.2857 - val_loss: 1.0352\n",
      "Epoch 3/20\n",
      "1/1 ━━━━━━━━━━━━━━━━━━━━ 0s 94ms/step - acc: 0.3214 - loss: 1.67 ━━━━━━━━━━━━━━━━━━━━ 0s 137ms/step - acc: 0.3214 - loss: 1.6720 - val_acc: 0.2857 - val_loss: 0.9504\n",
      "Epoch 4/20\n",
      "1/1 ━━━━━━━━━━━━━━━━━━━━ 0s 47ms/step - acc: 0.3214 - loss: 1.53 ━━━━━━━━━━━━━━━━━━━━ 0s 93ms/step - acc: 0.3214 - loss: 1.5303 - val_acc: 0.2857 - val_loss: 0.8653\n",
      "Epoch 5/20\n",
      "1/1 ━━━━━━━━━━━━━━━━━━━━ 0s 52ms/step - acc: 0.3214 - loss: 1.38 ━━━━━━━━━━━━━━━━━━━━ 0s 140ms/step - acc: 0.3214 - loss: 1.3898 - val_acc: 0.2857 - val_loss: 0.7821\n",
      "Epoch 6/20\n",
      "1/1 ━━━━━━━━━━━━━━━━━━━━ 0s 71ms/step - acc: 0.3214 - loss: 1.25 ━━━━━━━━━━━━━━━━━━━━ 0s 142ms/step - acc: 0.3214 - loss: 1.2511 - val_acc: 0.2857 - val_loss: 0.7004\n",
      "Epoch 7/20\n",
      "1/1 ━━━━━━━━━━━━━━━━━━━━ 0s 51ms/step - acc: 0.3214 - loss: 1.11 ━━━━━━━━━━━━━━━━━━━━ 0s 112ms/step - acc: 0.3214 - loss: 1.1148 - val_acc: 0.2857 - val_loss: 0.6212\n",
      "Epoch 8/20\n",
      "1/1 ━━━━━━━━━━━━━━━━━━━━ 0s 56ms/step - acc: 0.3214 - loss: 0.98 ━━━━━━━━━━━━━━━━━━━━ 0s 133ms/step - acc: 0.3214 - loss: 0.9830 - val_acc: 0.2857 - val_loss: 0.5456\n",
      "Epoch 9/20\n",
      "1/1 ━━━━━━━━━━━━━━━━━━━━ 0s 232ms/step - acc: 0.3214 - loss: 0.857 ━━━━━━━━━━━━━━━━━━━━ 0s 294ms/step - acc: 0.3214 - loss: 0.8577 - val_acc: 0.2857 - val_loss: 0.4751\n",
      "Epoch 10/20\n",
      "1/1 ━━━━━━━━━━━━━━━━━━━━ 0s 63ms/step - acc: 0.3214 - loss: 0.74 ━━━━━━━━━━━━━━━━━━━━ 0s 141ms/step - acc: 0.3214 - loss: 0.7406 - val_acc: 0.2857 - val_loss: 0.4120\n",
      "Epoch 11/20\n",
      "1/1 ━━━━━━━━━━━━━━━━━━━━ 0s 49ms/step - acc: 0.3214 - loss: 0.63 ━━━━━━━━━━━━━━━━━━━━ 0s 107ms/step - acc: 0.3214 - loss: 0.6349 - val_acc: 0.2857 - val_loss: 0.3587\n",
      "Epoch 12/20\n",
      "1/1 ━━━━━━━━━━━━━━━━━━━━ 0s 44ms/step - acc: 0.3214 - loss: 0.54 ━━━━━━━━━━━━━━━━━━━━ 0s 95ms/step - acc: 0.3214 - loss: 0.5440 - val_acc: 0.2857 - val_loss: 0.3177\n",
      "Epoch 13/20\n",
      "1/1 ━━━━━━━━━━━━━━━━━━━━ 0s 44ms/step - acc: 0.3214 - loss: 0.47 ━━━━━━━━━━━━━━━━━━━━ 0s 91ms/step - acc: 0.3214 - loss: 0.4713 - val_acc: 0.2857 - val_loss: 0.2907\n",
      "Epoch 14/20\n",
      "1/1 ━━━━━━━━━━━━━━━━━━━━ 0s 48ms/step - acc: 0.3333 - loss: 0.4197INFO:tensorflow:Assets written to: models/iris/iris-sequential\\assets\n"
     ]
    },
    {
     "name": "stderr",
     "output_type": "stream",
     "text": [
      "INFO:tensorflow:Assets written to: models/iris/iris-sequential\\assets\n"
     ]
    },
    {
     "name": "stdout",
     "output_type": "stream",
     "text": [
      "1/1 ━━━━━━━━━━━━━━━━━━━━ 1s 519ms/step - acc: 0.3333 - loss: 0.4197 - val_acc: 0.3810 - val_loss: 0.2787\n",
      "Epoch 15/20\n",
      "1/1 ━━━━━━━━━━━━━━━━━━━━ 0s 138ms/step - acc: 0.6190 - loss: 0.3898INFO:tensorflow:Assets written to: models/iris/iris-sequential\\assets\n"
     ]
    },
    {
     "name": "stderr",
     "output_type": "stream",
     "text": [
      "INFO:tensorflow:Assets written to: models/iris/iris-sequential\\assets\n"
     ]
    },
    {
     "name": "stdout",
     "output_type": "stream",
     "text": [
      "1/1 ━━━━━━━━━━━━━━━━━━━━ 1s 600ms/step - acc: 0.6190 - loss: 0.3898 - val_acc: 0.4762 - val_loss: 0.2806\n",
      "Epoch 16/20\n",
      "1/1 ━━━━━━━━━━━━━━━━━━━━ 0s 42ms/step - acc: 0.6786 - loss: 0.37 ━━━━━━━━━━━━━━━━━━━━ 0s 101ms/step - acc: 0.6786 - loss: 0.3794 - val_acc: 0.4762 - val_loss: 0.2942\n",
      "Epoch 17/20\n",
      "1/1 ━━━━━━━━━━━━━━━━━━━━ 0s 50ms/step - acc: 0.5952 - loss: 0.38 ━━━━━━━━━━━━━━━━━━━━ 0s 93ms/step - acc: 0.5952 - loss: 0.3853 - val_acc: 0.3333 - val_loss: 0.3151\n",
      "Epoch 18/20\n",
      "1/1 ━━━━━━━━━━━━━━━━━━━━ 0s 35ms/step - acc: 0.4524 - loss: 0.40 ━━━━━━━━━━━━━━━━━━━━ 0s 101ms/step - acc: 0.4524 - loss: 0.4020 - val_acc: 0.2381 - val_loss: 0.3391\n",
      "Epoch 19/20\n",
      "1/1 ━━━━━━━━━━━━━━━━━━━━ 0s 83ms/step - acc: 0.4048 - loss: 0.42 ━━━━━━━━━━━━━━━━━━━━ 0s 155ms/step - acc: 0.4048 - loss: 0.4239 - val_acc: 0.3333 - val_loss: 0.3623\n",
      "Epoch 20/20\n",
      "1/1 ━━━━━━━━━━━━━━━━━━━━ 0s 31ms/step - acc: 0.3929 - loss: 0.4463INFO:tensorflow:Assets written to: models/iris/iris-sequential\\assets\n"
     ]
    },
    {
     "name": "stderr",
     "output_type": "stream",
     "text": [
      "INFO:tensorflow:Assets written to: models/iris/iris-sequential\\assets\n"
     ]
    },
    {
     "name": "stdout",
     "output_type": "stream",
     "text": [
      "1/1 ━━━━━━━━━━━━━━━━━━━━ 0s 422ms/step - acc: 0.3929 - loss: 0.4463 - val_acc: 0.7143 - val_loss: 0.3817\n"
     ]
    },
    {
     "name": "stderr",
     "output_type": "stream",
     "text": [
      "wandb: Adding directory to artifact (.\\models\\iris\\iris-sequential)... Done. 0.0s\n"
     ]
    },
    {
     "data": {
      "text/html": [
       "<style>\n",
       "    table.wandb td:nth-child(1) { padding: 0 10px; text-align: left ; width: auto;} td:nth-child(2) {text-align: left ; width: 100%}\n",
       "    .wandb-row { display: flex; flex-direction: row; flex-wrap: wrap; justify-content: flex-start; width: 100% }\n",
       "    .wandb-col { display: flex; flex-direction: column; flex-basis: 100%; flex: 1; padding: 10px; }\n",
       "    </style>\n",
       "<div class=\"wandb-row\"><div class=\"wandb-col\"><h3>Run history:</h3><br/><table class=\"wandb\"><tr><td>acc</td><td>▁▁▁▁▁▁▁▁▁▁▁▁▁▁▇█▆▄▃▂</td></tr><tr><td>loss</td><td>█▇▇▆▅▅▄▄▃▃▂▂▁▁▁▁▁▁▁▁</td></tr><tr><td>val_acc</td><td>▂▂▂▂▂▂▂▂▂▂▂▂▂▃▄▄▂▁▂█</td></tr><tr><td>val_loss</td><td>█▇▇▆▅▅▄▃▃▂▂▁▁▁▁▁▁▂▂▂</td></tr></table><br/></div><div class=\"wandb-col\"><h3>Run summary:</h3><br/><table class=\"wandb\"><tr><td>acc</td><td>0.39286</td></tr><tr><td>loss</td><td>0.44634</td></tr><tr><td>val_acc</td><td>0.71429</td></tr><tr><td>val_loss</td><td>0.38167</td></tr></table><br/></div></div>"
      ],
      "text/plain": [
       "<IPython.core.display.HTML object>"
      ]
     },
     "metadata": {},
     "output_type": "display_data"
    },
    {
     "data": {
      "text/html": [
       " View run <strong style=\"color:#cdcd00\">graceful-sweep-9</strong> at: <a href='https://wandb.ai/praptipatil01/Iris-Species-Classification/runs/2calbdfa' target=\"_blank\">https://wandb.ai/praptipatil01/Iris-Species-Classification/runs/2calbdfa</a><br/> View project at: <a href='https://wandb.ai/praptipatil01/Iris-Species-Classification' target=\"_blank\">https://wandb.ai/praptipatil01/Iris-Species-Classification</a><br/>Synced 5 W&B file(s), 0 media file(s), 5 artifact file(s) and 0 other file(s)"
      ],
      "text/plain": [
       "<IPython.core.display.HTML object>"
      ]
     },
     "metadata": {},
     "output_type": "display_data"
    },
    {
     "data": {
      "text/html": [
       "Find logs at: <code>.\\wandb\\run-20241020_174203-2calbdfa\\logs</code>"
      ],
      "text/plain": [
       "<IPython.core.display.HTML object>"
      ]
     },
     "metadata": {},
     "output_type": "display_data"
    },
    {
     "name": "stderr",
     "output_type": "stream",
     "text": [
      "wandb: Agent Starting Run: xn8lj2ma with config:\n",
      "wandb: \tlearning_rate: 0.05198028726600711\n",
      "wandb: \tnum_blocks: 9\n",
      "wandb: \toptimizer: adam\n",
      "wandb: WARNING Ignored wandb.init() arg project when running a sweep.\n"
     ]
    },
    {
     "data": {
      "text/html": [
       "Tracking run with wandb version 0.18.5"
      ],
      "text/plain": [
       "<IPython.core.display.HTML object>"
      ]
     },
     "metadata": {},
     "output_type": "display_data"
    },
    {
     "data": {
      "text/html": [
       "Run data is saved locally in <code>c:\\Users\\prapt\\Desktop\\Deep Learning\\DL_Basics\\TensorFlow in Action\\wandb\\run-20241020_174225-xn8lj2ma</code>"
      ],
      "text/plain": [
       "<IPython.core.display.HTML object>"
      ]
     },
     "metadata": {},
     "output_type": "display_data"
    },
    {
     "data": {
      "text/html": [
       "Syncing run <strong><a href='https://wandb.ai/praptipatil01/Iris-Species-Classification/runs/xn8lj2ma' target=\"_blank\">summer-sweep-10</a></strong> to <a href='https://wandb.ai/praptipatil01/Iris-Species-Classification' target=\"_blank\">Weights & Biases</a> (<a href='https://wandb.me/run' target=\"_blank\">docs</a>)<br/>Sweep page: <a href='https://wandb.ai/praptipatil01/Iris-Species-Classification/sweeps/m0d9m9ge' target=\"_blank\">https://wandb.ai/praptipatil01/Iris-Species-Classification/sweeps/m0d9m9ge</a>"
      ],
      "text/plain": [
       "<IPython.core.display.HTML object>"
      ]
     },
     "metadata": {},
     "output_type": "display_data"
    },
    {
     "data": {
      "text/html": [
       " View project at <a href='https://wandb.ai/praptipatil01/Iris-Species-Classification' target=\"_blank\">https://wandb.ai/praptipatil01/Iris-Species-Classification</a>"
      ],
      "text/plain": [
       "<IPython.core.display.HTML object>"
      ]
     },
     "metadata": {},
     "output_type": "display_data"
    },
    {
     "data": {
      "text/html": [
       " View sweep at <a href='https://wandb.ai/praptipatil01/Iris-Species-Classification/sweeps/m0d9m9ge' target=\"_blank\">https://wandb.ai/praptipatil01/Iris-Species-Classification/sweeps/m0d9m9ge</a>"
      ],
      "text/plain": [
       "<IPython.core.display.HTML object>"
      ]
     },
     "metadata": {},
     "output_type": "display_data"
    },
    {
     "data": {
      "text/html": [
       " View run at <a href='https://wandb.ai/praptipatil01/Iris-Species-Classification/runs/xn8lj2ma' target=\"_blank\">https://wandb.ai/praptipatil01/Iris-Species-Classification/runs/xn8lj2ma</a>"
      ],
      "text/plain": [
       "<IPython.core.display.HTML object>"
      ]
     },
     "metadata": {},
     "output_type": "display_data"
    },
    {
     "name": "stderr",
     "output_type": "stream",
     "text": [
      "[D 241020 17:42:27 236141320:23] Number of records: Train -  84, Val - 21\n"
     ]
    },
    {
     "data": {
      "text/html": [
       "<pre style=\"white-space:pre;overflow-x:auto;line-height:normal;font-family:Menlo,'DejaVu Sans Mono',consolas,'Courier New',monospace\"><span style=\"font-weight: bold\">Model: \"iris-sequential\"</span>\n",
       "</pre>\n"
      ],
      "text/plain": [
       "\u001b[1mModel: \"iris-sequential\"\u001b[0m\n"
      ]
     },
     "metadata": {},
     "output_type": "display_data"
    },
    {
     "data": {
      "text/html": [
       "<pre style=\"white-space:pre;overflow-x:auto;line-height:normal;font-family:Menlo,'DejaVu Sans Mono',consolas,'Courier New',monospace\">┏━━━━━━━━━━━━━━━━━━━━━━━━━━━━━━━━━┳━━━━━━━━━━━━━━━━━━━━━━━━┳━━━━━━━━━━━━━━━┓\n",
       "┃<span style=\"font-weight: bold\"> Layer (type)                    </span>┃<span style=\"font-weight: bold\"> Output Shape           </span>┃<span style=\"font-weight: bold\">       Param # </span>┃\n",
       "┡━━━━━━━━━━━━━━━━━━━━━━━━━━━━━━━━━╇━━━━━━━━━━━━━━━━━━━━━━━━╇━━━━━━━━━━━━━━━┩\n",
       "│ dense_18 (<span style=\"color: #0087ff; text-decoration-color: #0087ff\">Dense</span>)                │ (<span style=\"color: #00d7ff; text-decoration-color: #00d7ff\">None</span>, <span style=\"color: #00af00; text-decoration-color: #00af00\">32</span>)             │           <span style=\"color: #00af00; text-decoration-color: #00af00\">160</span> │\n",
       "├─────────────────────────────────┼────────────────────────┼───────────────┤\n",
       "│ dense_19 (<span style=\"color: #0087ff; text-decoration-color: #0087ff\">Dense</span>)                │ (<span style=\"color: #00d7ff; text-decoration-color: #00d7ff\">None</span>, <span style=\"color: #00af00; text-decoration-color: #00af00\">16</span>)             │           <span style=\"color: #00af00; text-decoration-color: #00af00\">528</span> │\n",
       "├─────────────────────────────────┼────────────────────────┼───────────────┤\n",
       "│ dense_20 (<span style=\"color: #0087ff; text-decoration-color: #0087ff\">Dense</span>)                │ (<span style=\"color: #00d7ff; text-decoration-color: #00d7ff\">None</span>, <span style=\"color: #00af00; text-decoration-color: #00af00\">2</span>)              │            <span style=\"color: #00af00; text-decoration-color: #00af00\">34</span> │\n",
       "└─────────────────────────────────┴────────────────────────┴───────────────┘\n",
       "</pre>\n"
      ],
      "text/plain": [
       "┏━━━━━━━━━━━━━━━━━━━━━━━━━━━━━━━━━┳━━━━━━━━━━━━━━━━━━━━━━━━┳━━━━━━━━━━━━━━━┓\n",
       "┃\u001b[1m \u001b[0m\u001b[1mLayer (type)                   \u001b[0m\u001b[1m \u001b[0m┃\u001b[1m \u001b[0m\u001b[1mOutput Shape          \u001b[0m\u001b[1m \u001b[0m┃\u001b[1m \u001b[0m\u001b[1m      Param #\u001b[0m\u001b[1m \u001b[0m┃\n",
       "┡━━━━━━━━━━━━━━━━━━━━━━━━━━━━━━━━━╇━━━━━━━━━━━━━━━━━━━━━━━━╇━━━━━━━━━━━━━━━┩\n",
       "│ dense_18 (\u001b[38;5;33mDense\u001b[0m)                │ (\u001b[38;5;45mNone\u001b[0m, \u001b[38;5;34m32\u001b[0m)             │           \u001b[38;5;34m160\u001b[0m │\n",
       "├─────────────────────────────────┼────────────────────────┼───────────────┤\n",
       "│ dense_19 (\u001b[38;5;33mDense\u001b[0m)                │ (\u001b[38;5;45mNone\u001b[0m, \u001b[38;5;34m16\u001b[0m)             │           \u001b[38;5;34m528\u001b[0m │\n",
       "├─────────────────────────────────┼────────────────────────┼───────────────┤\n",
       "│ dense_20 (\u001b[38;5;33mDense\u001b[0m)                │ (\u001b[38;5;45mNone\u001b[0m, \u001b[38;5;34m2\u001b[0m)              │            \u001b[38;5;34m34\u001b[0m │\n",
       "└─────────────────────────────────┴────────────────────────┴───────────────┘\n"
      ]
     },
     "metadata": {},
     "output_type": "display_data"
    },
    {
     "data": {
      "text/html": [
       "<pre style=\"white-space:pre;overflow-x:auto;line-height:normal;font-family:Menlo,'DejaVu Sans Mono',consolas,'Courier New',monospace\"><span style=\"font-weight: bold\"> Total params: </span><span style=\"color: #00af00; text-decoration-color: #00af00\">2,168</span> (8.47 KB)\n",
       "</pre>\n"
      ],
      "text/plain": [
       "\u001b[1m Total params: \u001b[0m\u001b[38;5;34m2,168\u001b[0m (8.47 KB)\n"
      ]
     },
     "metadata": {},
     "output_type": "display_data"
    },
    {
     "data": {
      "text/html": [
       "<pre style=\"white-space:pre;overflow-x:auto;line-height:normal;font-family:Menlo,'DejaVu Sans Mono',consolas,'Courier New',monospace\"><span style=\"font-weight: bold\"> Trainable params: </span><span style=\"color: #00af00; text-decoration-color: #00af00\">722</span> (2.82 KB)\n",
       "</pre>\n"
      ],
      "text/plain": [
       "\u001b[1m Trainable params: \u001b[0m\u001b[38;5;34m722\u001b[0m (2.82 KB)\n"
      ]
     },
     "metadata": {},
     "output_type": "display_data"
    },
    {
     "data": {
      "text/html": [
       "<pre style=\"white-space:pre;overflow-x:auto;line-height:normal;font-family:Menlo,'DejaVu Sans Mono',consolas,'Courier New',monospace\"><span style=\"font-weight: bold\"> Non-trainable params: </span><span style=\"color: #00af00; text-decoration-color: #00af00\">0</span> (0.00 B)\n",
       "</pre>\n"
      ],
      "text/plain": [
       "\u001b[1m Non-trainable params: \u001b[0m\u001b[38;5;34m0\u001b[0m (0.00 B)\n"
      ]
     },
     "metadata": {},
     "output_type": "display_data"
    },
    {
     "data": {
      "text/html": [
       "<pre style=\"white-space:pre;overflow-x:auto;line-height:normal;font-family:Menlo,'DejaVu Sans Mono',consolas,'Courier New',monospace\"><span style=\"font-weight: bold\"> Optimizer params: </span><span style=\"color: #00af00; text-decoration-color: #00af00\">1,446</span> (5.65 KB)\n",
       "</pre>\n"
      ],
      "text/plain": [
       "\u001b[1m Optimizer params: \u001b[0m\u001b[38;5;34m1,446\u001b[0m (5.65 KB)\n"
      ]
     },
     "metadata": {},
     "output_type": "display_data"
    },
    {
     "name": "stdout",
     "output_type": "stream",
     "text": [
      "Epoch 1/20\n",
      "1/1 ━━━━━━━━━━━━━━━━━━━━ 0s 2s/step - acc: 0.6667 - loss: 0.4655INFO:tensorflow:Assets written to: models/iris/iris-sequential\\assets\n"
     ]
    },
    {
     "name": "stderr",
     "output_type": "stream",
     "text": [
      "INFO:tensorflow:Assets written to: models/iris/iris-sequential\\assets\n"
     ]
    },
    {
     "name": "stdout",
     "output_type": "stream",
     "text": [
      "1/1 ━━━━━━━━━━━━━━━━━━━━ 2s 2s/step - acc: 0.6667 - loss: 0.4655 - val_acc: 0.2381 - val_loss: 0.3340\n",
      "Epoch 2/20\n",
      "1/1 ━━━━━━━━━━━━━━━━━━━━ 0s 44ms/step - acc: 0.4048 - loss: 0.4184INFO:tensorflow:Assets written to: models/iris/iris-sequential\\assets\n"
     ]
    },
    {
     "name": "stderr",
     "output_type": "stream",
     "text": [
      "INFO:tensorflow:Assets written to: models/iris/iris-sequential\\assets\n"
     ]
    },
    {
     "name": "stdout",
     "output_type": "stream",
     "text": [
      "1/1 ━━━━━━━━━━━━━━━━━━━━ 1s 659ms/step - acc: 0.4048 - loss: 0.4184 - val_acc: 0.3333 - val_loss: 0.3100\n",
      "Epoch 3/20\n",
      "1/1 ━━━━━━━━━━━━━━━━━━━━ 0s 53ms/step - acc: 0.4643 - loss: 0.3956INFO:tensorflow:Assets written to: models/iris/iris-sequential\\assets\n"
     ]
    },
    {
     "name": "stderr",
     "output_type": "stream",
     "text": [
      "INFO:tensorflow:Assets written to: models/iris/iris-sequential\\assets\n"
     ]
    },
    {
     "name": "stdout",
     "output_type": "stream",
     "text": [
      "1/1 ━━━━━━━━━━━━━━━━━━━━ 1s 613ms/step - acc: 0.4643 - loss: 0.3956 - val_acc: 0.3810 - val_loss: 0.2964\n",
      "Epoch 4/20\n",
      "1/1 ━━━━━━━━━━━━━━━━━━━━ 0s 101ms/step - acc: 0.5238 - loss: 0.3831INFO:tensorflow:Assets written to: models/iris/iris-sequential\\assets\n"
     ]
    },
    {
     "name": "stderr",
     "output_type": "stream",
     "text": [
      "INFO:tensorflow:Assets written to: models/iris/iris-sequential\\assets\n"
     ]
    },
    {
     "name": "stdout",
     "output_type": "stream",
     "text": [
      "1/1 ━━━━━━━━━━━━━━━━━━━━ 1s 1s/step - acc: 0.5238 - loss: 0.3831 - val_acc: 0.4762 - val_loss: 0.2876\n",
      "Epoch 5/20\n",
      "1/1 ━━━━━━━━━━━━━━━━━━━━ 0s 56ms/step - acc: 0.6071 - loss: 0.37 ━━━━━━━━━━━━━━━━━━━━ 0s 128ms/step - acc: 0.6071 - loss: 0.3754 - val_acc: 0.4286 - val_loss: 0.2814\n",
      "Epoch 6/20\n",
      "1/1 ━━━━━━━━━━━━━━━━━━━━ 0s 108ms/step - acc: 0.6429 - loss: 0.370 ━━━━━━━━━━━━━━━━━━━━ 0s 154ms/step - acc: 0.6429 - loss: 0.3703 - val_acc: 0.4762 - val_loss: 0.2772\n",
      "Epoch 7/20\n",
      "1/1 ━━━━━━━━━━━━━━━━━━━━ 0s 33ms/step - acc: 0.6905 - loss: 0.36 ━━━━━━━━━━━━━━━━━━━━ 0s 73ms/step - acc: 0.6905 - loss: 0.3674 - val_acc: 0.4762 - val_loss: 0.2742\n",
      "Epoch 8/20\n",
      "1/1 ━━━━━━━━━━━━━━━━━━━━ 0s 33ms/step - acc: 0.6786 - loss: 0.36 ━━━━━━━━━━━━━━━━━━━━ 0s 81ms/step - acc: 0.6786 - loss: 0.3660 - val_acc: 0.4762 - val_loss: 0.2724\n",
      "Epoch 9/20\n",
      "1/1 ━━━━━━━━━━━━━━━━━━━━ 0s 38ms/step - acc: 0.6905 - loss: 0.36 ━━━━━━━━━━━━━━━━━━━━ 0s 77ms/step - acc: 0.6905 - loss: 0.3654 - val_acc: 0.4762 - val_loss: 0.2714\n",
      "Epoch 10/20\n",
      "1/1 ━━━━━━━━━━━━━━━━━━━━ 0s 38ms/step - acc: 0.6905 - loss: 0.36 ━━━━━━━━━━━━━━━━━━━━ 0s 76ms/step - acc: 0.6905 - loss: 0.3650 - val_acc: 0.4762 - val_loss: 0.2707\n",
      "Epoch 11/20\n",
      "1/1 ━━━━━━━━━━━━━━━━━━━━ 0s 20ms/step - acc: 0.6786 - loss: 0.36 ━━━━━━━━━━━━━━━━━━━━ 0s 69ms/step - acc: 0.6786 - loss: 0.3645 - val_acc: 0.4762 - val_loss: 0.2701\n",
      "Epoch 12/20\n",
      "1/1 ━━━━━━━━━━━━━━━━━━━━ 0s 38ms/step - acc: 0.6786 - loss: 0.36 ━━━━━━━━━━━━━━━━━━━━ 0s 79ms/step - acc: 0.6786 - loss: 0.3638 - val_acc: 0.4762 - val_loss: 0.2695\n",
      "Epoch 13/20\n",
      "1/1 ━━━━━━━━━━━━━━━━━━━━ 0s 35ms/step - acc: 0.6786 - loss: 0.36 ━━━━━━━━━━━━━━━━━━━━ 0s 89ms/step - acc: 0.6786 - loss: 0.3629 - val_acc: 0.4762 - val_loss: 0.2692\n",
      "Epoch 14/20\n",
      "1/1 ━━━━━━━━━━━━━━━━━━━━ 0s 44ms/step - acc: 0.6905 - loss: 0.36 ━━━━━━━━━━━━━━━━━━━━ 0s 85ms/step - acc: 0.6905 - loss: 0.3619 - val_acc: 0.4762 - val_loss: 0.2692\n",
      "Epoch 15/20\n",
      "1/1 ━━━━━━━━━━━━━━━━━━━━ 0s 28ms/step - acc: 0.6905 - loss: 0.36 ━━━━━━━━━━━━━━━━━━━━ 0s 73ms/step - acc: 0.6905 - loss: 0.3608 - val_acc: 0.4762 - val_loss: 0.2695\n",
      "Epoch 16/20\n",
      "1/1 ━━━━━━━━━━━━━━━━━━━━ 0s 36ms/step - acc: 0.6905 - loss: 0.35 ━━━━━━━━━━━━━━━━━━━━ 0s 87ms/step - acc: 0.6905 - loss: 0.3596 - val_acc: 0.4762 - val_loss: 0.2698\n",
      "Epoch 17/20\n",
      "1/1 ━━━━━━━━━━━━━━━━━━━━ 0s 34ms/step - acc: 0.6786 - loss: 0.35 ━━━━━━━━━━━━━━━━━━━━ 0s 79ms/step - acc: 0.6786 - loss: 0.3584 - val_acc: 0.4762 - val_loss: 0.2703\n",
      "Epoch 18/20\n",
      "1/1 ━━━━━━━━━━━━━━━━━━━━ 0s 34ms/step - acc: 0.6905 - loss: 0.35 ━━━━━━━━━━━━━━━━━━━━ 0s 71ms/step - acc: 0.6905 - loss: 0.3575 - val_acc: 0.4762 - val_loss: 0.2708\n",
      "Epoch 19/20\n",
      "1/1 ━━━━━━━━━━━━━━━━━━━━ 0s 19ms/step - acc: 0.6905 - loss: 0.35 ━━━━━━━━━━━━━━━━━━━━ 0s 66ms/step - acc: 0.6905 - loss: 0.3567 - val_acc: 0.4762 - val_loss: 0.2713\n",
      "Epoch 20/20\n",
      "1/1 ━━━━━━━━━━━━━━━━━━━━ 0s 31ms/step - acc: 0.6786 - loss: 0.35 ━━━━━━━━━━━━━━━━━━━━ 0s 66ms/step - acc: 0.6786 - loss: 0.3561 - val_acc: 0.4762 - val_loss: 0.2717\n"
     ]
    },
    {
     "name": "stderr",
     "output_type": "stream",
     "text": [
      "wandb: Adding directory to artifact (.\\models\\iris\\iris-sequential)... Done. 0.0s\n"
     ]
    },
    {
     "data": {
      "text/html": [
       "<style>\n",
       "    table.wandb td:nth-child(1) { padding: 0 10px; text-align: left ; width: auto;} td:nth-child(2) {text-align: left ; width: 100%}\n",
       "    .wandb-row { display: flex; flex-direction: row; flex-wrap: wrap; justify-content: flex-start; width: 100% }\n",
       "    .wandb-col { display: flex; flex-direction: column; flex-basis: 100%; flex: 1; padding: 10px; }\n",
       "    </style>\n",
       "<div class=\"wandb-row\"><div class=\"wandb-col\"><h3>Run history:</h3><br/><table class=\"wandb\"><tr><td>acc</td><td>▇▁▂▄▆▇██████████████</td></tr><tr><td>loss</td><td>█▅▄▃▂▂▂▂▂▂▂▁▁▁▁▁▁▁▁▁</td></tr><tr><td>val_acc</td><td>▁▄▅█▇███████████████</td></tr><tr><td>val_loss</td><td>█▅▄▃▂▂▂▁▁▁▁▁▁▁▁▁▁▁▁▁</td></tr></table><br/></div><div class=\"wandb-col\"><h3>Run summary:</h3><br/><table class=\"wandb\"><tr><td>acc</td><td>0.67857</td></tr><tr><td>loss</td><td>0.35611</td></tr><tr><td>val_acc</td><td>0.47619</td></tr><tr><td>val_loss</td><td>0.27175</td></tr></table><br/></div></div>"
      ],
      "text/plain": [
       "<IPython.core.display.HTML object>"
      ]
     },
     "metadata": {},
     "output_type": "display_data"
    },
    {
     "data": {
      "text/html": [
       " View run <strong style=\"color:#cdcd00\">summer-sweep-10</strong> at: <a href='https://wandb.ai/praptipatil01/Iris-Species-Classification/runs/xn8lj2ma' target=\"_blank\">https://wandb.ai/praptipatil01/Iris-Species-Classification/runs/xn8lj2ma</a><br/> View project at: <a href='https://wandb.ai/praptipatil01/Iris-Species-Classification' target=\"_blank\">https://wandb.ai/praptipatil01/Iris-Species-Classification</a><br/>Synced 5 W&B file(s), 0 media file(s), 5 artifact file(s) and 0 other file(s)"
      ],
      "text/plain": [
       "<IPython.core.display.HTML object>"
      ]
     },
     "metadata": {},
     "output_type": "display_data"
    },
    {
     "data": {
      "text/html": [
       "Find logs at: <code>.\\wandb\\run-20241020_174225-xn8lj2ma\\logs</code>"
      ],
      "text/plain": [
       "<IPython.core.display.HTML object>"
      ]
     },
     "metadata": {},
     "output_type": "display_data"
    }
   ],
   "source": [
    "training_pipeline = TrainingPipeline()\n",
    "training_pipeline.run(train_config, train_dataset, SequentialModel(name=\"iris-sequential\"))"
   ]
  },
  {
   "cell_type": "markdown",
   "metadata": {},
   "source": [
    "##### 2. Model using functional API\n",
    "This model takes 2 inputs in the form of input vectors and top 2 pca components to generate a prediction"
   ]
  },
  {
   "cell_type": "code",
   "execution_count": 14,
   "metadata": {},
   "outputs": [],
   "source": [
    "def CustomModelWithPCA(name:str, num_blocks:int=1, units_1:int = 16, units_2:int = 8, *args, **kwargs):\n",
    "    inp1 = Input(shape=(4,))\n",
    "    inp2 = Input(shape=(2,))\n",
    "\n",
    "    out1 = Dense(16, activation='relu')(inp1) \n",
    "    out2 = Dense(16, activation='relu')(inp2)\n",
    "    out = Concatenate(axis=1)([out1,out2]) \n",
    "\n",
    "    for _ in range(num_blocks):\n",
    "        out = Dense(units_1, activation='relu')(out)\n",
    "        out = Dense(units_2, activation='relu')(out)\n",
    "    \n",
    "    out = Dense(2, activation='softmax')(out)\n",
    "    model = Model(inputs=[inp1, inp2], outputs=out, name=name)\n",
    "\n",
    "    return model"
   ]
  },
  {
   "cell_type": "code",
   "execution_count": 15,
   "metadata": {},
   "outputs": [],
   "source": [
    "train_config = {\n",
    "    \"mode\": \"experiment\",\n",
    "    \"sweep\": {\n",
    "        \"name\": \"wide-net-pca\",\n",
    "        \"description\": \"This is a widenet sweep. This configuration uses top 2 PCA components to get the result.\",\n",
    "        \"group\": \"iris_functional_api\",\n",
    "        \"method\": \"bayes\",\n",
    "        \"metric\": {\"goal\": \"minimize\", \"name\": \"validation_loss\"},\n",
    "        \"parameters\": {\n",
    "            \"learning_rate\": {\"min\": 0.0001, \"max\": 0.1},\n",
    "            \"optimizer\": {\"values\": [\"adam\", \"sgd\"]},\n",
    "            \"num_blocks\": { \"min\": 1, \"max\": 6, \"distribution\": \"int_uniform\" },\n",
    "            \"units_1\": { \"values\": list(range(16, 513, 16)) },\n",
    "            \"units_2\": { \"values\": list(range(8, 257, 16)) },\n",
    "        },\n",
    "    },\n",
    "    \"epochs\": 20,\n",
    "    \"batch_size\": 150,\n",
    "    \"log_frequency\": 1,\n",
    "    \"validation_split\": 0.2,\n",
    "    \"key_metric\": \"acc\",\n",
    "    \"baseline\": 0.75,\n",
    "    \"metrics\": [ \"train_acc\", \"val_acc\" ],\n",
    "}"
   ]
  },
  {
   "cell_type": "code",
   "execution_count": 17,
   "metadata": {},
   "outputs": [
    {
     "name": "stderr",
     "output_type": "stream",
     "text": [
      "[I 241021 21:07:25 3472603808:4] Training Pipeline set up\n",
      "wandb: WARNING Malformed sweep config detected! This may cause your sweep to behave in unexpected ways.\n",
      "wandb: WARNING To avoid this, please fix the sweep config schema violations below:\n",
      "wandb: WARNING   Violation 1. Additional properties are not allowed ('group' was unexpected)\n"
     ]
    },
    {
     "name": "stdout",
     "output_type": "stream",
     "text": [
      "Create sweep with ID: ekxr9ovf\n",
      "Sweep URL: https://wandb.ai/praptipatil01/Iris-Species-Classification/sweeps/ekxr9ovf\n"
     ]
    },
    {
     "name": "stderr",
     "output_type": "stream",
     "text": [
      "[D 241021 21:07:26 3472603808:8] Sweep Id: ekxr9ovf\n",
      "wandb: Agent Starting Run: xxiqi0yf with config:\n",
      "wandb: \tlearning_rate: 0.017357028538003402\n",
      "wandb: \tnum_blocks: 5\n",
      "wandb: \toptimizer: adam\n",
      "wandb: \tunits_1: 448\n",
      "wandb: \tunits_2: 168\n",
      "wandb: WARNING Ignored wandb.init() arg project when running a sweep.\n"
     ]
    },
    {
     "data": {
      "text/html": [
       "Tracking run with wandb version 0.18.5"
      ],
      "text/plain": [
       "<IPython.core.display.HTML object>"
      ]
     },
     "metadata": {},
     "output_type": "display_data"
    },
    {
     "data": {
      "text/html": [
       "Run data is saved locally in <code>c:\\Users\\prapt\\Desktop\\Deep Learning\\DL_Basics\\TensorFlow in Action\\wandb\\run-20241021_210727-xxiqi0yf</code>"
      ],
      "text/plain": [
       "<IPython.core.display.HTML object>"
      ]
     },
     "metadata": {},
     "output_type": "display_data"
    },
    {
     "data": {
      "text/html": [
       "Syncing run <strong><a href='https://wandb.ai/praptipatil01/Iris-Species-Classification/runs/xxiqi0yf' target=\"_blank\">good-sweep-1</a></strong> to <a href='https://wandb.ai/praptipatil01/Iris-Species-Classification' target=\"_blank\">Weights & Biases</a> (<a href='https://wandb.me/run' target=\"_blank\">docs</a>)<br/>Sweep page: <a href='https://wandb.ai/praptipatil01/Iris-Species-Classification/sweeps/ekxr9ovf' target=\"_blank\">https://wandb.ai/praptipatil01/Iris-Species-Classification/sweeps/ekxr9ovf</a>"
      ],
      "text/plain": [
       "<IPython.core.display.HTML object>"
      ]
     },
     "metadata": {},
     "output_type": "display_data"
    },
    {
     "data": {
      "text/html": [
       " View project at <a href='https://wandb.ai/praptipatil01/Iris-Species-Classification' target=\"_blank\">https://wandb.ai/praptipatil01/Iris-Species-Classification</a>"
      ],
      "text/plain": [
       "<IPython.core.display.HTML object>"
      ]
     },
     "metadata": {},
     "output_type": "display_data"
    },
    {
     "data": {
      "text/html": [
       " View sweep at <a href='https://wandb.ai/praptipatil01/Iris-Species-Classification/sweeps/ekxr9ovf' target=\"_blank\">https://wandb.ai/praptipatil01/Iris-Species-Classification/sweeps/ekxr9ovf</a>"
      ],
      "text/plain": [
       "<IPython.core.display.HTML object>"
      ]
     },
     "metadata": {},
     "output_type": "display_data"
    },
    {
     "data": {
      "text/html": [
       " View run at <a href='https://wandb.ai/praptipatil01/Iris-Species-Classification/runs/xxiqi0yf' target=\"_blank\">https://wandb.ai/praptipatil01/Iris-Species-Classification/runs/xxiqi0yf</a>"
      ],
      "text/plain": [
       "<IPython.core.display.HTML object>"
      ]
     },
     "metadata": {},
     "output_type": "display_data"
    },
    {
     "name": "stderr",
     "output_type": "stream",
     "text": [
      "[D 241021 21:07:29 3472603808:23] Number of records: Train -  84, Val - 21\n"
     ]
    },
    {
     "data": {
      "text/html": [
       "<pre style=\"white-space:pre;overflow-x:auto;line-height:normal;font-family:Menlo,'DejaVu Sans Mono',consolas,'Courier New',monospace\"><span style=\"font-weight: bold\">Model: \"iris-top2_pca\"</span>\n",
       "</pre>\n"
      ],
      "text/plain": [
       "\u001b[1mModel: \"iris-top2_pca\"\u001b[0m\n"
      ]
     },
     "metadata": {},
     "output_type": "display_data"
    },
    {
     "data": {
      "text/html": [
       "<pre style=\"white-space:pre;overflow-x:auto;line-height:normal;font-family:Menlo,'DejaVu Sans Mono',consolas,'Courier New',monospace\">┏━━━━━━━━━━━━━━━━━━━━━┳━━━━━━━━━━━━━━━━━━━┳━━━━━━━━━━━━┳━━━━━━━━━━━━━━━━━━━┓\n",
       "┃<span style=\"font-weight: bold\"> Layer (type)        </span>┃<span style=\"font-weight: bold\"> Output Shape      </span>┃<span style=\"font-weight: bold\">    Param # </span>┃<span style=\"font-weight: bold\"> Connected to      </span>┃\n",
       "┡━━━━━━━━━━━━━━━━━━━━━╇━━━━━━━━━━━━━━━━━━━╇━━━━━━━━━━━━╇━━━━━━━━━━━━━━━━━━━┩\n",
       "│ input_layer         │ (<span style=\"color: #00d7ff; text-decoration-color: #00d7ff\">None</span>, <span style=\"color: #00af00; text-decoration-color: #00af00\">4</span>)         │          <span style=\"color: #00af00; text-decoration-color: #00af00\">0</span> │ -                 │\n",
       "│ (<span style=\"color: #0087ff; text-decoration-color: #0087ff\">InputLayer</span>)        │                   │            │                   │\n",
       "├─────────────────────┼───────────────────┼────────────┼───────────────────┤\n",
       "│ input_layer_1       │ (<span style=\"color: #00d7ff; text-decoration-color: #00d7ff\">None</span>, <span style=\"color: #00af00; text-decoration-color: #00af00\">2</span>)         │          <span style=\"color: #00af00; text-decoration-color: #00af00\">0</span> │ -                 │\n",
       "│ (<span style=\"color: #0087ff; text-decoration-color: #0087ff\">InputLayer</span>)        │                   │            │                   │\n",
       "├─────────────────────┼───────────────────┼────────────┼───────────────────┤\n",
       "│ dense (<span style=\"color: #0087ff; text-decoration-color: #0087ff\">Dense</span>)       │ (<span style=\"color: #00d7ff; text-decoration-color: #00d7ff\">None</span>, <span style=\"color: #00af00; text-decoration-color: #00af00\">16</span>)        │         <span style=\"color: #00af00; text-decoration-color: #00af00\">80</span> │ input_layer[<span style=\"color: #00af00; text-decoration-color: #00af00\">0</span>][<span style=\"color: #00af00; text-decoration-color: #00af00\">0</span>] │\n",
       "├─────────────────────┼───────────────────┼────────────┼───────────────────┤\n",
       "│ dense_1 (<span style=\"color: #0087ff; text-decoration-color: #0087ff\">Dense</span>)     │ (<span style=\"color: #00d7ff; text-decoration-color: #00d7ff\">None</span>, <span style=\"color: #00af00; text-decoration-color: #00af00\">16</span>)        │         <span style=\"color: #00af00; text-decoration-color: #00af00\">48</span> │ input_layer_1[<span style=\"color: #00af00; text-decoration-color: #00af00\">0</span>]… │\n",
       "├─────────────────────┼───────────────────┼────────────┼───────────────────┤\n",
       "│ concatenate         │ (<span style=\"color: #00d7ff; text-decoration-color: #00d7ff\">None</span>, <span style=\"color: #00af00; text-decoration-color: #00af00\">32</span>)        │          <span style=\"color: #00af00; text-decoration-color: #00af00\">0</span> │ dense[<span style=\"color: #00af00; text-decoration-color: #00af00\">0</span>][<span style=\"color: #00af00; text-decoration-color: #00af00\">0</span>],      │\n",
       "│ (<span style=\"color: #0087ff; text-decoration-color: #0087ff\">Concatenate</span>)       │                   │            │ dense_1[<span style=\"color: #00af00; text-decoration-color: #00af00\">0</span>][<span style=\"color: #00af00; text-decoration-color: #00af00\">0</span>]     │\n",
       "├─────────────────────┼───────────────────┼────────────┼───────────────────┤\n",
       "│ dense_2 (<span style=\"color: #0087ff; text-decoration-color: #0087ff\">Dense</span>)     │ (<span style=\"color: #00d7ff; text-decoration-color: #00d7ff\">None</span>, <span style=\"color: #00af00; text-decoration-color: #00af00\">448</span>)       │     <span style=\"color: #00af00; text-decoration-color: #00af00\">14,784</span> │ concatenate[<span style=\"color: #00af00; text-decoration-color: #00af00\">0</span>][<span style=\"color: #00af00; text-decoration-color: #00af00\">0</span>] │\n",
       "├─────────────────────┼───────────────────┼────────────┼───────────────────┤\n",
       "│ dense_3 (<span style=\"color: #0087ff; text-decoration-color: #0087ff\">Dense</span>)     │ (<span style=\"color: #00d7ff; text-decoration-color: #00d7ff\">None</span>, <span style=\"color: #00af00; text-decoration-color: #00af00\">168</span>)       │     <span style=\"color: #00af00; text-decoration-color: #00af00\">75,432</span> │ dense_2[<span style=\"color: #00af00; text-decoration-color: #00af00\">0</span>][<span style=\"color: #00af00; text-decoration-color: #00af00\">0</span>]     │\n",
       "├─────────────────────┼───────────────────┼────────────┼───────────────────┤\n",
       "│ dense_4 (<span style=\"color: #0087ff; text-decoration-color: #0087ff\">Dense</span>)     │ (<span style=\"color: #00d7ff; text-decoration-color: #00d7ff\">None</span>, <span style=\"color: #00af00; text-decoration-color: #00af00\">448</span>)       │     <span style=\"color: #00af00; text-decoration-color: #00af00\">75,712</span> │ dense_3[<span style=\"color: #00af00; text-decoration-color: #00af00\">0</span>][<span style=\"color: #00af00; text-decoration-color: #00af00\">0</span>]     │\n",
       "├─────────────────────┼───────────────────┼────────────┼───────────────────┤\n",
       "│ dense_5 (<span style=\"color: #0087ff; text-decoration-color: #0087ff\">Dense</span>)     │ (<span style=\"color: #00d7ff; text-decoration-color: #00d7ff\">None</span>, <span style=\"color: #00af00; text-decoration-color: #00af00\">168</span>)       │     <span style=\"color: #00af00; text-decoration-color: #00af00\">75,432</span> │ dense_4[<span style=\"color: #00af00; text-decoration-color: #00af00\">0</span>][<span style=\"color: #00af00; text-decoration-color: #00af00\">0</span>]     │\n",
       "├─────────────────────┼───────────────────┼────────────┼───────────────────┤\n",
       "│ dense_6 (<span style=\"color: #0087ff; text-decoration-color: #0087ff\">Dense</span>)     │ (<span style=\"color: #00d7ff; text-decoration-color: #00d7ff\">None</span>, <span style=\"color: #00af00; text-decoration-color: #00af00\">448</span>)       │     <span style=\"color: #00af00; text-decoration-color: #00af00\">75,712</span> │ dense_5[<span style=\"color: #00af00; text-decoration-color: #00af00\">0</span>][<span style=\"color: #00af00; text-decoration-color: #00af00\">0</span>]     │\n",
       "├─────────────────────┼───────────────────┼────────────┼───────────────────┤\n",
       "│ dense_7 (<span style=\"color: #0087ff; text-decoration-color: #0087ff\">Dense</span>)     │ (<span style=\"color: #00d7ff; text-decoration-color: #00d7ff\">None</span>, <span style=\"color: #00af00; text-decoration-color: #00af00\">168</span>)       │     <span style=\"color: #00af00; text-decoration-color: #00af00\">75,432</span> │ dense_6[<span style=\"color: #00af00; text-decoration-color: #00af00\">0</span>][<span style=\"color: #00af00; text-decoration-color: #00af00\">0</span>]     │\n",
       "├─────────────────────┼───────────────────┼────────────┼───────────────────┤\n",
       "│ dense_8 (<span style=\"color: #0087ff; text-decoration-color: #0087ff\">Dense</span>)     │ (<span style=\"color: #00d7ff; text-decoration-color: #00d7ff\">None</span>, <span style=\"color: #00af00; text-decoration-color: #00af00\">448</span>)       │     <span style=\"color: #00af00; text-decoration-color: #00af00\">75,712</span> │ dense_7[<span style=\"color: #00af00; text-decoration-color: #00af00\">0</span>][<span style=\"color: #00af00; text-decoration-color: #00af00\">0</span>]     │\n",
       "├─────────────────────┼───────────────────┼────────────┼───────────────────┤\n",
       "│ dense_9 (<span style=\"color: #0087ff; text-decoration-color: #0087ff\">Dense</span>)     │ (<span style=\"color: #00d7ff; text-decoration-color: #00d7ff\">None</span>, <span style=\"color: #00af00; text-decoration-color: #00af00\">168</span>)       │     <span style=\"color: #00af00; text-decoration-color: #00af00\">75,432</span> │ dense_8[<span style=\"color: #00af00; text-decoration-color: #00af00\">0</span>][<span style=\"color: #00af00; text-decoration-color: #00af00\">0</span>]     │\n",
       "├─────────────────────┼───────────────────┼────────────┼───────────────────┤\n",
       "│ dense_10 (<span style=\"color: #0087ff; text-decoration-color: #0087ff\">Dense</span>)    │ (<span style=\"color: #00d7ff; text-decoration-color: #00d7ff\">None</span>, <span style=\"color: #00af00; text-decoration-color: #00af00\">448</span>)       │     <span style=\"color: #00af00; text-decoration-color: #00af00\">75,712</span> │ dense_9[<span style=\"color: #00af00; text-decoration-color: #00af00\">0</span>][<span style=\"color: #00af00; text-decoration-color: #00af00\">0</span>]     │\n",
       "├─────────────────────┼───────────────────┼────────────┼───────────────────┤\n",
       "│ dense_11 (<span style=\"color: #0087ff; text-decoration-color: #0087ff\">Dense</span>)    │ (<span style=\"color: #00d7ff; text-decoration-color: #00d7ff\">None</span>, <span style=\"color: #00af00; text-decoration-color: #00af00\">168</span>)       │     <span style=\"color: #00af00; text-decoration-color: #00af00\">75,432</span> │ dense_10[<span style=\"color: #00af00; text-decoration-color: #00af00\">0</span>][<span style=\"color: #00af00; text-decoration-color: #00af00\">0</span>]    │\n",
       "├─────────────────────┼───────────────────┼────────────┼───────────────────┤\n",
       "│ dense_12 (<span style=\"color: #0087ff; text-decoration-color: #0087ff\">Dense</span>)    │ (<span style=\"color: #00d7ff; text-decoration-color: #00d7ff\">None</span>, <span style=\"color: #00af00; text-decoration-color: #00af00\">2</span>)         │        <span style=\"color: #00af00; text-decoration-color: #00af00\">338</span> │ dense_11[<span style=\"color: #00af00; text-decoration-color: #00af00\">0</span>][<span style=\"color: #00af00; text-decoration-color: #00af00\">0</span>]    │\n",
       "└─────────────────────┴───────────────────┴────────────┴───────────────────┘\n",
       "</pre>\n"
      ],
      "text/plain": [
       "┏━━━━━━━━━━━━━━━━━━━━━┳━━━━━━━━━━━━━━━━━━━┳━━━━━━━━━━━━┳━━━━━━━━━━━━━━━━━━━┓\n",
       "┃\u001b[1m \u001b[0m\u001b[1mLayer (type)       \u001b[0m\u001b[1m \u001b[0m┃\u001b[1m \u001b[0m\u001b[1mOutput Shape     \u001b[0m\u001b[1m \u001b[0m┃\u001b[1m \u001b[0m\u001b[1m   Param #\u001b[0m\u001b[1m \u001b[0m┃\u001b[1m \u001b[0m\u001b[1mConnected to     \u001b[0m\u001b[1m \u001b[0m┃\n",
       "┡━━━━━━━━━━━━━━━━━━━━━╇━━━━━━━━━━━━━━━━━━━╇━━━━━━━━━━━━╇━━━━━━━━━━━━━━━━━━━┩\n",
       "│ input_layer         │ (\u001b[38;5;45mNone\u001b[0m, \u001b[38;5;34m4\u001b[0m)         │          \u001b[38;5;34m0\u001b[0m │ -                 │\n",
       "│ (\u001b[38;5;33mInputLayer\u001b[0m)        │                   │            │                   │\n",
       "├─────────────────────┼───────────────────┼────────────┼───────────────────┤\n",
       "│ input_layer_1       │ (\u001b[38;5;45mNone\u001b[0m, \u001b[38;5;34m2\u001b[0m)         │          \u001b[38;5;34m0\u001b[0m │ -                 │\n",
       "│ (\u001b[38;5;33mInputLayer\u001b[0m)        │                   │            │                   │\n",
       "├─────────────────────┼───────────────────┼────────────┼───────────────────┤\n",
       "│ dense (\u001b[38;5;33mDense\u001b[0m)       │ (\u001b[38;5;45mNone\u001b[0m, \u001b[38;5;34m16\u001b[0m)        │         \u001b[38;5;34m80\u001b[0m │ input_layer[\u001b[38;5;34m0\u001b[0m][\u001b[38;5;34m0\u001b[0m] │\n",
       "├─────────────────────┼───────────────────┼────────────┼───────────────────┤\n",
       "│ dense_1 (\u001b[38;5;33mDense\u001b[0m)     │ (\u001b[38;5;45mNone\u001b[0m, \u001b[38;5;34m16\u001b[0m)        │         \u001b[38;5;34m48\u001b[0m │ input_layer_1[\u001b[38;5;34m0\u001b[0m]… │\n",
       "├─────────────────────┼───────────────────┼────────────┼───────────────────┤\n",
       "│ concatenate         │ (\u001b[38;5;45mNone\u001b[0m, \u001b[38;5;34m32\u001b[0m)        │          \u001b[38;5;34m0\u001b[0m │ dense[\u001b[38;5;34m0\u001b[0m][\u001b[38;5;34m0\u001b[0m],      │\n",
       "│ (\u001b[38;5;33mConcatenate\u001b[0m)       │                   │            │ dense_1[\u001b[38;5;34m0\u001b[0m][\u001b[38;5;34m0\u001b[0m]     │\n",
       "├─────────────────────┼───────────────────┼────────────┼───────────────────┤\n",
       "│ dense_2 (\u001b[38;5;33mDense\u001b[0m)     │ (\u001b[38;5;45mNone\u001b[0m, \u001b[38;5;34m448\u001b[0m)       │     \u001b[38;5;34m14,784\u001b[0m │ concatenate[\u001b[38;5;34m0\u001b[0m][\u001b[38;5;34m0\u001b[0m] │\n",
       "├─────────────────────┼───────────────────┼────────────┼───────────────────┤\n",
       "│ dense_3 (\u001b[38;5;33mDense\u001b[0m)     │ (\u001b[38;5;45mNone\u001b[0m, \u001b[38;5;34m168\u001b[0m)       │     \u001b[38;5;34m75,432\u001b[0m │ dense_2[\u001b[38;5;34m0\u001b[0m][\u001b[38;5;34m0\u001b[0m]     │\n",
       "├─────────────────────┼───────────────────┼────────────┼───────────────────┤\n",
       "│ dense_4 (\u001b[38;5;33mDense\u001b[0m)     │ (\u001b[38;5;45mNone\u001b[0m, \u001b[38;5;34m448\u001b[0m)       │     \u001b[38;5;34m75,712\u001b[0m │ dense_3[\u001b[38;5;34m0\u001b[0m][\u001b[38;5;34m0\u001b[0m]     │\n",
       "├─────────────────────┼───────────────────┼────────────┼───────────────────┤\n",
       "│ dense_5 (\u001b[38;5;33mDense\u001b[0m)     │ (\u001b[38;5;45mNone\u001b[0m, \u001b[38;5;34m168\u001b[0m)       │     \u001b[38;5;34m75,432\u001b[0m │ dense_4[\u001b[38;5;34m0\u001b[0m][\u001b[38;5;34m0\u001b[0m]     │\n",
       "├─────────────────────┼───────────────────┼────────────┼───────────────────┤\n",
       "│ dense_6 (\u001b[38;5;33mDense\u001b[0m)     │ (\u001b[38;5;45mNone\u001b[0m, \u001b[38;5;34m448\u001b[0m)       │     \u001b[38;5;34m75,712\u001b[0m │ dense_5[\u001b[38;5;34m0\u001b[0m][\u001b[38;5;34m0\u001b[0m]     │\n",
       "├─────────────────────┼───────────────────┼────────────┼───────────────────┤\n",
       "│ dense_7 (\u001b[38;5;33mDense\u001b[0m)     │ (\u001b[38;5;45mNone\u001b[0m, \u001b[38;5;34m168\u001b[0m)       │     \u001b[38;5;34m75,432\u001b[0m │ dense_6[\u001b[38;5;34m0\u001b[0m][\u001b[38;5;34m0\u001b[0m]     │\n",
       "├─────────────────────┼───────────────────┼────────────┼───────────────────┤\n",
       "│ dense_8 (\u001b[38;5;33mDense\u001b[0m)     │ (\u001b[38;5;45mNone\u001b[0m, \u001b[38;5;34m448\u001b[0m)       │     \u001b[38;5;34m75,712\u001b[0m │ dense_7[\u001b[38;5;34m0\u001b[0m][\u001b[38;5;34m0\u001b[0m]     │\n",
       "├─────────────────────┼───────────────────┼────────────┼───────────────────┤\n",
       "│ dense_9 (\u001b[38;5;33mDense\u001b[0m)     │ (\u001b[38;5;45mNone\u001b[0m, \u001b[38;5;34m168\u001b[0m)       │     \u001b[38;5;34m75,432\u001b[0m │ dense_8[\u001b[38;5;34m0\u001b[0m][\u001b[38;5;34m0\u001b[0m]     │\n",
       "├─────────────────────┼───────────────────┼────────────┼───────────────────┤\n",
       "│ dense_10 (\u001b[38;5;33mDense\u001b[0m)    │ (\u001b[38;5;45mNone\u001b[0m, \u001b[38;5;34m448\u001b[0m)       │     \u001b[38;5;34m75,712\u001b[0m │ dense_9[\u001b[38;5;34m0\u001b[0m][\u001b[38;5;34m0\u001b[0m]     │\n",
       "├─────────────────────┼───────────────────┼────────────┼───────────────────┤\n",
       "│ dense_11 (\u001b[38;5;33mDense\u001b[0m)    │ (\u001b[38;5;45mNone\u001b[0m, \u001b[38;5;34m168\u001b[0m)       │     \u001b[38;5;34m75,432\u001b[0m │ dense_10[\u001b[38;5;34m0\u001b[0m][\u001b[38;5;34m0\u001b[0m]    │\n",
       "├─────────────────────┼───────────────────┼────────────┼───────────────────┤\n",
       "│ dense_12 (\u001b[38;5;33mDense\u001b[0m)    │ (\u001b[38;5;45mNone\u001b[0m, \u001b[38;5;34m2\u001b[0m)         │        \u001b[38;5;34m338\u001b[0m │ dense_11[\u001b[38;5;34m0\u001b[0m][\u001b[38;5;34m0\u001b[0m]    │\n",
       "└─────────────────────┴───────────────────┴────────────┴───────────────────┘\n"
      ]
     },
     "metadata": {},
     "output_type": "display_data"
    },
    {
     "data": {
      "text/html": [
       "<pre style=\"white-space:pre;overflow-x:auto;line-height:normal;font-family:Menlo,'DejaVu Sans Mono',consolas,'Courier New',monospace\"><span style=\"font-weight: bold\"> Total params: </span><span style=\"color: #00af00; text-decoration-color: #00af00\">695,258</span> (2.65 MB)\n",
       "</pre>\n"
      ],
      "text/plain": [
       "\u001b[1m Total params: \u001b[0m\u001b[38;5;34m695,258\u001b[0m (2.65 MB)\n"
      ]
     },
     "metadata": {},
     "output_type": "display_data"
    },
    {
     "data": {
      "text/html": [
       "<pre style=\"white-space:pre;overflow-x:auto;line-height:normal;font-family:Menlo,'DejaVu Sans Mono',consolas,'Courier New',monospace\"><span style=\"font-weight: bold\"> Trainable params: </span><span style=\"color: #00af00; text-decoration-color: #00af00\">695,258</span> (2.65 MB)\n",
       "</pre>\n"
      ],
      "text/plain": [
       "\u001b[1m Trainable params: \u001b[0m\u001b[38;5;34m695,258\u001b[0m (2.65 MB)\n"
      ]
     },
     "metadata": {},
     "output_type": "display_data"
    },
    {
     "data": {
      "text/html": [
       "<pre style=\"white-space:pre;overflow-x:auto;line-height:normal;font-family:Menlo,'DejaVu Sans Mono',consolas,'Courier New',monospace\"><span style=\"font-weight: bold\"> Non-trainable params: </span><span style=\"color: #00af00; text-decoration-color: #00af00\">0</span> (0.00 B)\n",
       "</pre>\n"
      ],
      "text/plain": [
       "\u001b[1m Non-trainable params: \u001b[0m\u001b[38;5;34m0\u001b[0m (0.00 B)\n"
      ]
     },
     "metadata": {},
     "output_type": "display_data"
    },
    {
     "name": "stderr",
     "output_type": "stream",
     "text": [
      "[D 241021 21:07:29 3472603808:29] Model_name: iris-top2_pca\n"
     ]
    },
    {
     "name": "stdout",
     "output_type": "stream",
     "text": [
      "Epoch 1/20\n"
     ]
    },
    {
     "name": "stderr",
     "output_type": "stream",
     "text": [
      "c:\\Users\\prapt\\Desktop\\Deep Learning\\DL_Basics\\DL_WS\\Lib\\site-packages\\keras\\src\\models\\functional.py:225: UserWarning: The structure of `inputs` doesn't match the expected structure: ['keras_tensor', 'keras_tensor_1']. Received: the structure of inputs=('*', '*')\n",
      "  warnings.warn(\n"
     ]
    },
    {
     "name": "stdout",
     "output_type": "stream",
     "text": [
      "1/1 ━━━━━━━━━━━━━━━━━━━━ 0s 4s/step - acc: 0.3333 - loss: 0.4785"
     ]
    },
    {
     "name": "stderr",
     "output_type": "stream",
     "text": [
      "c:\\Users\\prapt\\Desktop\\Deep Learning\\DL_Basics\\DL_WS\\Lib\\site-packages\\keras\\src\\models\\functional.py:225: UserWarning: The structure of `inputs` doesn't match the expected structure: ['keras_tensor', 'keras_tensor_1']. Received: the structure of inputs=('*', '*')\n",
      "  warnings.warn(\n"
     ]
    },
    {
     "name": "stdout",
     "output_type": "stream",
     "text": [
      "INFO:tensorflow:Assets written to: models/iris/iris-functional_api\\assets\n"
     ]
    },
    {
     "name": "stderr",
     "output_type": "stream",
     "text": [
      "INFO:tensorflow:Assets written to: models/iris/iris-functional_api\\assets\n"
     ]
    },
    {
     "name": "stdout",
     "output_type": "stream",
     "text": [
      "1/1 ━━━━━━━━━━━━━━━━━━━━ 6s 6s/step - acc: 0.3333 - loss: 0.4785 - val_acc: 0.4762 - val_loss: 0.5196\n",
      "Epoch 2/20\n",
      "1/1 ━━━━━━━━━━━━━━━━━━━━ 0s 60ms/step - acc: 0.3333 - loss: 0.47 ━━━━━━━━━━━━━━━━━━━━ 0s 113ms/step - acc: 0.3333 - loss: 0.4764 - val_acc: 0.4762 - val_loss: 0.5072\n",
      "Epoch 3/20\n",
      "1/1 ━━━━━━━━━━━━━━━━━━━━ 0s 54ms/step - acc: 0.3333 - loss: 0.47 ━━━━━━━━━━━━━━━━━━━━ 0s 107ms/step - acc: 0.3333 - loss: 0.4751 - val_acc: 0.4762 - val_loss: 0.4975\n",
      "Epoch 4/20\n",
      "1/1 ━━━━━━━━━━━━━━━━━━━━ 0s 58ms/step - acc: 0.3333 - loss: 0.47 ━━━━━━━━━━━━━━━━━━━━ 0s 114ms/step - acc: 0.3333 - loss: 0.4764 - val_acc: 0.4762 - val_loss: 0.4900\n",
      "Epoch 5/20\n",
      "1/1 ━━━━━━━━━━━━━━━━━━━━ 0s 47ms/step - acc: 0.3333 - loss: 0.48 ━━━━━━━━━━━━━━━━━━━━ 0s 95ms/step - acc: 0.3333 - loss: 0.4814 - val_acc: 0.4762 - val_loss: 0.4860\n",
      "Epoch 6/20\n",
      "1/1 ━━━━━━━━━━━━━━━━━━━━ 0s 47ms/step - acc: 0.3333 - loss: 0.48 ━━━━━━━━━━━━━━━━━━━━ 0s 91ms/step - acc: 0.3333 - loss: 0.4837 - val_acc: 0.4762 - val_loss: 0.4886\n",
      "Epoch 7/20\n",
      "1/1 ━━━━━━━━━━━━━━━━━━━━ 0s 56ms/step - acc: 0.3333 - loss: 0.4726INFO:tensorflow:Assets written to: models/iris/iris-functional_api\\assets\n"
     ]
    },
    {
     "name": "stderr",
     "output_type": "stream",
     "text": [
      "INFO:tensorflow:Assets written to: models/iris/iris-functional_api\\assets\n"
     ]
    },
    {
     "name": "stdout",
     "output_type": "stream",
     "text": [
      "1/1 ━━━━━━━━━━━━━━━━━━━━ 1s 1s/step - acc: 0.3333 - loss: 0.4726 - val_acc: 0.7619 - val_loss: 0.5153\n",
      "Epoch 8/20\n",
      "1/1 ━━━━━━━━━━━━━━━━━━━━ 0s 109ms/step - acc: 0.7976 - loss: 0.462 ━━━━━━━━━━━━━━━━━━━━ 0s 163ms/step - acc: 0.7976 - loss: 0.4628 - val_acc: 0.7143 - val_loss: 0.4908\n",
      "Epoch 9/20\n",
      "1/1 ━━━━━━━━━━━━━━━━━━━━ 0s 41ms/step - acc: 0.6548 - loss: 0.45 ━━━━━━━━━━━━━━━━━━━━ 0s 90ms/step - acc: 0.6548 - loss: 0.4574 - val_acc: 0.4762 - val_loss: 0.5150\n",
      "Epoch 10/20\n",
      "1/1 ━━━━━━━━━━━━━━━━━━━━ 0s 50ms/step - acc: 0.3333 - loss: 0.59 ━━━━━━━━━━━━━━━━━━━━ 0s 99ms/step - acc: 0.3333 - loss: 0.5929 - val_acc: 0.5238 - val_loss: 0.8857\n",
      "Epoch 11/20\n",
      "1/1 ━━━━━━━━━━━━━━━━━━━━ 0s 46ms/step - acc: 0.6667 - loss: 0.66 ━━━━━━━━━━━━━━━━━━━━ 0s 99ms/step - acc: 0.6667 - loss: 0.6634 - val_acc: 0.4762 - val_loss: 1.2741\n",
      "Epoch 12/20\n",
      "1/1 ━━━━━━━━━━━━━━━━━━━━ 0s 53ms/step - acc: 0.3333 - loss: 1.62 ━━━━━━━━━━━━━━━━━━━━ 0s 111ms/step - acc: 0.3333 - loss: 1.6230 - val_acc: 0.5238 - val_loss: 0.8551\n",
      "Epoch 13/20\n",
      "1/1 ━━━━━━━━━━━━━━━━━━━━ 0s 50ms/step - acc: 0.6667 - loss: 0.64 ━━━━━━━━━━━━━━━━━━━━ 0s 99ms/step - acc: 0.6667 - loss: 0.6430 - val_acc: 0.4762 - val_loss: 2.4434\n",
      "Epoch 14/20\n",
      "1/1 ━━━━━━━━━━━━━━━━━━━━ 0s 53ms/step - acc: 0.3333 - loss: 3.11 ━━━━━━━━━━━━━━━━━━━━ 0s 108ms/step - acc: 0.3333 - loss: 3.1172 - val_acc: 0.5238 - val_loss: 4.5063\n",
      "Epoch 15/20\n",
      "1/1 ━━━━━━━━━━━━━━━━━━━━ 0s 55ms/step - acc: 0.6667 - loss: 3.25 ━━━━━━━━━━━━━━━━━━━━ 0s 122ms/step - acc: 0.6667 - loss: 3.2539 - val_acc: 0.4762 - val_loss: 6.4075\n",
      "Epoch 16/20\n",
      "1/1 ━━━━━━━━━━━━━━━━━━━━ 0s 52ms/step - acc: 0.3333 - loss: 8.16 ━━━━━━━━━━━━━━━━━━━━ 0s 102ms/step - acc: 0.3333 - loss: 8.1686 - val_acc: 0.4762 - val_loss: 0.7464\n",
      "Epoch 17/20\n",
      "1/1 ━━━━━━━━━━━━━━━━━━━━ 0s 50ms/step - acc: 0.3333 - loss: 0.92 ━━━━━━━━━━━━━━━━━━━━ 0s 98ms/step - acc: 0.3333 - loss: 0.9283 - val_acc: 0.5238 - val_loss: 59.6017\n",
      "Epoch 18/20\n",
      "1/1 ━━━━━━━━━━━━━━━━━━━━ 0s 51ms/step - acc: 0.6667 - loss: 43.009 ━━━━━━━━━━━━━━━━━━━━ 0s 103ms/step - acc: 0.6667 - loss: 43.0092 - val_acc: 0.5238 - val_loss: 54.4086\n",
      "Epoch 19/20\n",
      "1/1 ━━━━━━━━━━━━━━━━━━━━ 0s 47ms/step - acc: 0.6667 - loss: 39.261 ━━━━━━━━━━━━━━━━━━━━ 0s 101ms/step - acc: 0.6667 - loss: 39.2612 - val_acc: 0.4762 - val_loss: 46.1257\n",
      "Epoch 20/20\n",
      "1/1 ━━━━━━━━━━━━━━━━━━━━ 0s 58ms/step - acc: 0.3333 - loss: 58.741 ━━━━━━━━━━━━━━━━━━━━ 0s 112ms/step - acc: 0.3333 - loss: 58.7413 - val_acc: 0.4762 - val_loss: 71.8612\n"
     ]
    },
    {
     "name": "stderr",
     "output_type": "stream",
     "text": [
      "wandb: Adding directory to artifact (.\\models\\iris\\iris-functional_api)... Done. 0.1s\n"
     ]
    },
    {
     "data": {
      "text/html": [
       "<style>\n",
       "    table.wandb td:nth-child(1) { padding: 0 10px; text-align: left ; width: auto;} td:nth-child(2) {text-align: left ; width: 100%}\n",
       "    .wandb-row { display: flex; flex-direction: row; flex-wrap: wrap; justify-content: flex-start; width: 100% }\n",
       "    .wandb-col { display: flex; flex-direction: column; flex-basis: 100%; flex: 1; padding: 10px; }\n",
       "    </style>\n",
       "<div class=\"wandb-row\"><div class=\"wandb-col\"><h3>Run history:</h3><br/><table class=\"wandb\"><tr><td>acc</td><td>▁▁▁▁▁▁▁█▆▁▆▁▆▁▆▁▁▆▆▁</td></tr><tr><td>loss</td><td>▁▁▁▁▁▁▁▁▁▁▁▁▁▁▁▂▁▆▆█</td></tr><tr><td>val_acc</td><td>▁▁▁▁▁▁█▇▁▂▁▂▁▂▁▁▂▂▁▁</td></tr><tr><td>val_loss</td><td>▁▁▁▁▁▁▁▁▁▁▁▁▁▁▂▁▇▆▅█</td></tr></table><br/></div><div class=\"wandb-col\"><h3>Run summary:</h3><br/><table class=\"wandb\"><tr><td>acc</td><td>0.33333</td></tr><tr><td>loss</td><td>58.74131</td></tr><tr><td>val_acc</td><td>0.47619</td></tr><tr><td>val_loss</td><td>71.86119</td></tr></table><br/></div></div>"
      ],
      "text/plain": [
       "<IPython.core.display.HTML object>"
      ]
     },
     "metadata": {},
     "output_type": "display_data"
    },
    {
     "data": {
      "text/html": [
       " View run <strong style=\"color:#cdcd00\">good-sweep-1</strong> at: <a href='https://wandb.ai/praptipatil01/Iris-Species-Classification/runs/xxiqi0yf' target=\"_blank\">https://wandb.ai/praptipatil01/Iris-Species-Classification/runs/xxiqi0yf</a><br/> View project at: <a href='https://wandb.ai/praptipatil01/Iris-Species-Classification' target=\"_blank\">https://wandb.ai/praptipatil01/Iris-Species-Classification</a><br/>Synced 5 W&B file(s), 0 media file(s), 5 artifact file(s) and 0 other file(s)"
      ],
      "text/plain": [
       "<IPython.core.display.HTML object>"
      ]
     },
     "metadata": {},
     "output_type": "display_data"
    },
    {
     "data": {
      "text/html": [
       "Find logs at: <code>.\\wandb\\run-20241021_210727-xxiqi0yf\\logs</code>"
      ],
      "text/plain": [
       "<IPython.core.display.HTML object>"
      ]
     },
     "metadata": {},
     "output_type": "display_data"
    },
    {
     "name": "stderr",
     "output_type": "stream",
     "text": [
      "wandb: Agent Starting Run: 1mlnvpxc with config:\n",
      "wandb: \tlearning_rate: 0.013984410179819004\n",
      "wandb: \tnum_blocks: 6\n",
      "wandb: \toptimizer: sgd\n",
      "wandb: \tunits_1: 256\n",
      "wandb: \tunits_2: 104\n",
      "wandb: WARNING Ignored wandb.init() arg project when running a sweep.\n"
     ]
    },
    {
     "data": {
      "text/html": [
       "Tracking run with wandb version 0.18.5"
      ],
      "text/plain": [
       "<IPython.core.display.HTML object>"
      ]
     },
     "metadata": {},
     "output_type": "display_data"
    },
    {
     "data": {
      "text/html": [
       "Run data is saved locally in <code>c:\\Users\\prapt\\Desktop\\Deep Learning\\DL_Basics\\TensorFlow in Action\\wandb\\run-20241021_210754-1mlnvpxc</code>"
      ],
      "text/plain": [
       "<IPython.core.display.HTML object>"
      ]
     },
     "metadata": {},
     "output_type": "display_data"
    },
    {
     "data": {
      "text/html": [
       "Syncing run <strong><a href='https://wandb.ai/praptipatil01/Iris-Species-Classification/runs/1mlnvpxc' target=\"_blank\">fiery-sweep-2</a></strong> to <a href='https://wandb.ai/praptipatil01/Iris-Species-Classification' target=\"_blank\">Weights & Biases</a> (<a href='https://wandb.me/run' target=\"_blank\">docs</a>)<br/>Sweep page: <a href='https://wandb.ai/praptipatil01/Iris-Species-Classification/sweeps/ekxr9ovf' target=\"_blank\">https://wandb.ai/praptipatil01/Iris-Species-Classification/sweeps/ekxr9ovf</a>"
      ],
      "text/plain": [
       "<IPython.core.display.HTML object>"
      ]
     },
     "metadata": {},
     "output_type": "display_data"
    },
    {
     "data": {
      "text/html": [
       " View project at <a href='https://wandb.ai/praptipatil01/Iris-Species-Classification' target=\"_blank\">https://wandb.ai/praptipatil01/Iris-Species-Classification</a>"
      ],
      "text/plain": [
       "<IPython.core.display.HTML object>"
      ]
     },
     "metadata": {},
     "output_type": "display_data"
    },
    {
     "data": {
      "text/html": [
       " View sweep at <a href='https://wandb.ai/praptipatil01/Iris-Species-Classification/sweeps/ekxr9ovf' target=\"_blank\">https://wandb.ai/praptipatil01/Iris-Species-Classification/sweeps/ekxr9ovf</a>"
      ],
      "text/plain": [
       "<IPython.core.display.HTML object>"
      ]
     },
     "metadata": {},
     "output_type": "display_data"
    },
    {
     "data": {
      "text/html": [
       " View run at <a href='https://wandb.ai/praptipatil01/Iris-Species-Classification/runs/1mlnvpxc' target=\"_blank\">https://wandb.ai/praptipatil01/Iris-Species-Classification/runs/1mlnvpxc</a>"
      ],
      "text/plain": [
       "<IPython.core.display.HTML object>"
      ]
     },
     "metadata": {},
     "output_type": "display_data"
    },
    {
     "name": "stderr",
     "output_type": "stream",
     "text": [
      "[D 241021 21:07:56 3472603808:23] Number of records: Train -  84, Val - 21\n"
     ]
    },
    {
     "data": {
      "text/html": [
       "<pre style=\"white-space:pre;overflow-x:auto;line-height:normal;font-family:Menlo,'DejaVu Sans Mono',consolas,'Courier New',monospace\"><span style=\"font-weight: bold\">Model: \"iris-top2_pca\"</span>\n",
       "</pre>\n"
      ],
      "text/plain": [
       "\u001b[1mModel: \"iris-top2_pca\"\u001b[0m\n"
      ]
     },
     "metadata": {},
     "output_type": "display_data"
    },
    {
     "data": {
      "text/html": [
       "<pre style=\"white-space:pre;overflow-x:auto;line-height:normal;font-family:Menlo,'DejaVu Sans Mono',consolas,'Courier New',monospace\">┏━━━━━━━━━━━━━━━━━━━━━┳━━━━━━━━━━━━━━━━━━━┳━━━━━━━━━━━━┳━━━━━━━━━━━━━━━━━━━┓\n",
       "┃<span style=\"font-weight: bold\"> Layer (type)        </span>┃<span style=\"font-weight: bold\"> Output Shape      </span>┃<span style=\"font-weight: bold\">    Param # </span>┃<span style=\"font-weight: bold\"> Connected to      </span>┃\n",
       "┡━━━━━━━━━━━━━━━━━━━━━╇━━━━━━━━━━━━━━━━━━━╇━━━━━━━━━━━━╇━━━━━━━━━━━━━━━━━━━┩\n",
       "│ input_layer         │ (<span style=\"color: #00d7ff; text-decoration-color: #00d7ff\">None</span>, <span style=\"color: #00af00; text-decoration-color: #00af00\">4</span>)         │          <span style=\"color: #00af00; text-decoration-color: #00af00\">0</span> │ -                 │\n",
       "│ (<span style=\"color: #0087ff; text-decoration-color: #0087ff\">InputLayer</span>)        │                   │            │                   │\n",
       "├─────────────────────┼───────────────────┼────────────┼───────────────────┤\n",
       "│ input_layer_1       │ (<span style=\"color: #00d7ff; text-decoration-color: #00d7ff\">None</span>, <span style=\"color: #00af00; text-decoration-color: #00af00\">2</span>)         │          <span style=\"color: #00af00; text-decoration-color: #00af00\">0</span> │ -                 │\n",
       "│ (<span style=\"color: #0087ff; text-decoration-color: #0087ff\">InputLayer</span>)        │                   │            │                   │\n",
       "├─────────────────────┼───────────────────┼────────────┼───────────────────┤\n",
       "│ dense (<span style=\"color: #0087ff; text-decoration-color: #0087ff\">Dense</span>)       │ (<span style=\"color: #00d7ff; text-decoration-color: #00d7ff\">None</span>, <span style=\"color: #00af00; text-decoration-color: #00af00\">16</span>)        │         <span style=\"color: #00af00; text-decoration-color: #00af00\">80</span> │ input_layer[<span style=\"color: #00af00; text-decoration-color: #00af00\">0</span>][<span style=\"color: #00af00; text-decoration-color: #00af00\">0</span>] │\n",
       "├─────────────────────┼───────────────────┼────────────┼───────────────────┤\n",
       "│ dense_1 (<span style=\"color: #0087ff; text-decoration-color: #0087ff\">Dense</span>)     │ (<span style=\"color: #00d7ff; text-decoration-color: #00d7ff\">None</span>, <span style=\"color: #00af00; text-decoration-color: #00af00\">16</span>)        │         <span style=\"color: #00af00; text-decoration-color: #00af00\">48</span> │ input_layer_1[<span style=\"color: #00af00; text-decoration-color: #00af00\">0</span>]… │\n",
       "├─────────────────────┼───────────────────┼────────────┼───────────────────┤\n",
       "│ concatenate         │ (<span style=\"color: #00d7ff; text-decoration-color: #00d7ff\">None</span>, <span style=\"color: #00af00; text-decoration-color: #00af00\">32</span>)        │          <span style=\"color: #00af00; text-decoration-color: #00af00\">0</span> │ dense[<span style=\"color: #00af00; text-decoration-color: #00af00\">0</span>][<span style=\"color: #00af00; text-decoration-color: #00af00\">0</span>],      │\n",
       "│ (<span style=\"color: #0087ff; text-decoration-color: #0087ff\">Concatenate</span>)       │                   │            │ dense_1[<span style=\"color: #00af00; text-decoration-color: #00af00\">0</span>][<span style=\"color: #00af00; text-decoration-color: #00af00\">0</span>]     │\n",
       "├─────────────────────┼───────────────────┼────────────┼───────────────────┤\n",
       "│ dense_2 (<span style=\"color: #0087ff; text-decoration-color: #0087ff\">Dense</span>)     │ (<span style=\"color: #00d7ff; text-decoration-color: #00d7ff\">None</span>, <span style=\"color: #00af00; text-decoration-color: #00af00\">256</span>)       │      <span style=\"color: #00af00; text-decoration-color: #00af00\">8,448</span> │ concatenate[<span style=\"color: #00af00; text-decoration-color: #00af00\">0</span>][<span style=\"color: #00af00; text-decoration-color: #00af00\">0</span>] │\n",
       "├─────────────────────┼───────────────────┼────────────┼───────────────────┤\n",
       "│ dense_3 (<span style=\"color: #0087ff; text-decoration-color: #0087ff\">Dense</span>)     │ (<span style=\"color: #00d7ff; text-decoration-color: #00d7ff\">None</span>, <span style=\"color: #00af00; text-decoration-color: #00af00\">104</span>)       │     <span style=\"color: #00af00; text-decoration-color: #00af00\">26,728</span> │ dense_2[<span style=\"color: #00af00; text-decoration-color: #00af00\">0</span>][<span style=\"color: #00af00; text-decoration-color: #00af00\">0</span>]     │\n",
       "├─────────────────────┼───────────────────┼────────────┼───────────────────┤\n",
       "│ dense_4 (<span style=\"color: #0087ff; text-decoration-color: #0087ff\">Dense</span>)     │ (<span style=\"color: #00d7ff; text-decoration-color: #00d7ff\">None</span>, <span style=\"color: #00af00; text-decoration-color: #00af00\">256</span>)       │     <span style=\"color: #00af00; text-decoration-color: #00af00\">26,880</span> │ dense_3[<span style=\"color: #00af00; text-decoration-color: #00af00\">0</span>][<span style=\"color: #00af00; text-decoration-color: #00af00\">0</span>]     │\n",
       "├─────────────────────┼───────────────────┼────────────┼───────────────────┤\n",
       "│ dense_5 (<span style=\"color: #0087ff; text-decoration-color: #0087ff\">Dense</span>)     │ (<span style=\"color: #00d7ff; text-decoration-color: #00d7ff\">None</span>, <span style=\"color: #00af00; text-decoration-color: #00af00\">104</span>)       │     <span style=\"color: #00af00; text-decoration-color: #00af00\">26,728</span> │ dense_4[<span style=\"color: #00af00; text-decoration-color: #00af00\">0</span>][<span style=\"color: #00af00; text-decoration-color: #00af00\">0</span>]     │\n",
       "├─────────────────────┼───────────────────┼────────────┼───────────────────┤\n",
       "│ dense_6 (<span style=\"color: #0087ff; text-decoration-color: #0087ff\">Dense</span>)     │ (<span style=\"color: #00d7ff; text-decoration-color: #00d7ff\">None</span>, <span style=\"color: #00af00; text-decoration-color: #00af00\">256</span>)       │     <span style=\"color: #00af00; text-decoration-color: #00af00\">26,880</span> │ dense_5[<span style=\"color: #00af00; text-decoration-color: #00af00\">0</span>][<span style=\"color: #00af00; text-decoration-color: #00af00\">0</span>]     │\n",
       "├─────────────────────┼───────────────────┼────────────┼───────────────────┤\n",
       "│ dense_7 (<span style=\"color: #0087ff; text-decoration-color: #0087ff\">Dense</span>)     │ (<span style=\"color: #00d7ff; text-decoration-color: #00d7ff\">None</span>, <span style=\"color: #00af00; text-decoration-color: #00af00\">104</span>)       │     <span style=\"color: #00af00; text-decoration-color: #00af00\">26,728</span> │ dense_6[<span style=\"color: #00af00; text-decoration-color: #00af00\">0</span>][<span style=\"color: #00af00; text-decoration-color: #00af00\">0</span>]     │\n",
       "├─────────────────────┼───────────────────┼────────────┼───────────────────┤\n",
       "│ dense_8 (<span style=\"color: #0087ff; text-decoration-color: #0087ff\">Dense</span>)     │ (<span style=\"color: #00d7ff; text-decoration-color: #00d7ff\">None</span>, <span style=\"color: #00af00; text-decoration-color: #00af00\">256</span>)       │     <span style=\"color: #00af00; text-decoration-color: #00af00\">26,880</span> │ dense_7[<span style=\"color: #00af00; text-decoration-color: #00af00\">0</span>][<span style=\"color: #00af00; text-decoration-color: #00af00\">0</span>]     │\n",
       "├─────────────────────┼───────────────────┼────────────┼───────────────────┤\n",
       "│ dense_9 (<span style=\"color: #0087ff; text-decoration-color: #0087ff\">Dense</span>)     │ (<span style=\"color: #00d7ff; text-decoration-color: #00d7ff\">None</span>, <span style=\"color: #00af00; text-decoration-color: #00af00\">104</span>)       │     <span style=\"color: #00af00; text-decoration-color: #00af00\">26,728</span> │ dense_8[<span style=\"color: #00af00; text-decoration-color: #00af00\">0</span>][<span style=\"color: #00af00; text-decoration-color: #00af00\">0</span>]     │\n",
       "├─────────────────────┼───────────────────┼────────────┼───────────────────┤\n",
       "│ dense_10 (<span style=\"color: #0087ff; text-decoration-color: #0087ff\">Dense</span>)    │ (<span style=\"color: #00d7ff; text-decoration-color: #00d7ff\">None</span>, <span style=\"color: #00af00; text-decoration-color: #00af00\">256</span>)       │     <span style=\"color: #00af00; text-decoration-color: #00af00\">26,880</span> │ dense_9[<span style=\"color: #00af00; text-decoration-color: #00af00\">0</span>][<span style=\"color: #00af00; text-decoration-color: #00af00\">0</span>]     │\n",
       "├─────────────────────┼───────────────────┼────────────┼───────────────────┤\n",
       "│ dense_11 (<span style=\"color: #0087ff; text-decoration-color: #0087ff\">Dense</span>)    │ (<span style=\"color: #00d7ff; text-decoration-color: #00d7ff\">None</span>, <span style=\"color: #00af00; text-decoration-color: #00af00\">104</span>)       │     <span style=\"color: #00af00; text-decoration-color: #00af00\">26,728</span> │ dense_10[<span style=\"color: #00af00; text-decoration-color: #00af00\">0</span>][<span style=\"color: #00af00; text-decoration-color: #00af00\">0</span>]    │\n",
       "├─────────────────────┼───────────────────┼────────────┼───────────────────┤\n",
       "│ dense_12 (<span style=\"color: #0087ff; text-decoration-color: #0087ff\">Dense</span>)    │ (<span style=\"color: #00d7ff; text-decoration-color: #00d7ff\">None</span>, <span style=\"color: #00af00; text-decoration-color: #00af00\">256</span>)       │     <span style=\"color: #00af00; text-decoration-color: #00af00\">26,880</span> │ dense_11[<span style=\"color: #00af00; text-decoration-color: #00af00\">0</span>][<span style=\"color: #00af00; text-decoration-color: #00af00\">0</span>]    │\n",
       "├─────────────────────┼───────────────────┼────────────┼───────────────────┤\n",
       "│ dense_13 (<span style=\"color: #0087ff; text-decoration-color: #0087ff\">Dense</span>)    │ (<span style=\"color: #00d7ff; text-decoration-color: #00d7ff\">None</span>, <span style=\"color: #00af00; text-decoration-color: #00af00\">104</span>)       │     <span style=\"color: #00af00; text-decoration-color: #00af00\">26,728</span> │ dense_12[<span style=\"color: #00af00; text-decoration-color: #00af00\">0</span>][<span style=\"color: #00af00; text-decoration-color: #00af00\">0</span>]    │\n",
       "├─────────────────────┼───────────────────┼────────────┼───────────────────┤\n",
       "│ dense_14 (<span style=\"color: #0087ff; text-decoration-color: #0087ff\">Dense</span>)    │ (<span style=\"color: #00d7ff; text-decoration-color: #00d7ff\">None</span>, <span style=\"color: #00af00; text-decoration-color: #00af00\">2</span>)         │        <span style=\"color: #00af00; text-decoration-color: #00af00\">210</span> │ dense_13[<span style=\"color: #00af00; text-decoration-color: #00af00\">0</span>][<span style=\"color: #00af00; text-decoration-color: #00af00\">0</span>]    │\n",
       "└─────────────────────┴───────────────────┴────────────┴───────────────────┘\n",
       "</pre>\n"
      ],
      "text/plain": [
       "┏━━━━━━━━━━━━━━━━━━━━━┳━━━━━━━━━━━━━━━━━━━┳━━━━━━━━━━━━┳━━━━━━━━━━━━━━━━━━━┓\n",
       "┃\u001b[1m \u001b[0m\u001b[1mLayer (type)       \u001b[0m\u001b[1m \u001b[0m┃\u001b[1m \u001b[0m\u001b[1mOutput Shape     \u001b[0m\u001b[1m \u001b[0m┃\u001b[1m \u001b[0m\u001b[1m   Param #\u001b[0m\u001b[1m \u001b[0m┃\u001b[1m \u001b[0m\u001b[1mConnected to     \u001b[0m\u001b[1m \u001b[0m┃\n",
       "┡━━━━━━━━━━━━━━━━━━━━━╇━━━━━━━━━━━━━━━━━━━╇━━━━━━━━━━━━╇━━━━━━━━━━━━━━━━━━━┩\n",
       "│ input_layer         │ (\u001b[38;5;45mNone\u001b[0m, \u001b[38;5;34m4\u001b[0m)         │          \u001b[38;5;34m0\u001b[0m │ -                 │\n",
       "│ (\u001b[38;5;33mInputLayer\u001b[0m)        │                   │            │                   │\n",
       "├─────────────────────┼───────────────────┼────────────┼───────────────────┤\n",
       "│ input_layer_1       │ (\u001b[38;5;45mNone\u001b[0m, \u001b[38;5;34m2\u001b[0m)         │          \u001b[38;5;34m0\u001b[0m │ -                 │\n",
       "│ (\u001b[38;5;33mInputLayer\u001b[0m)        │                   │            │                   │\n",
       "├─────────────────────┼───────────────────┼────────────┼───────────────────┤\n",
       "│ dense (\u001b[38;5;33mDense\u001b[0m)       │ (\u001b[38;5;45mNone\u001b[0m, \u001b[38;5;34m16\u001b[0m)        │         \u001b[38;5;34m80\u001b[0m │ input_layer[\u001b[38;5;34m0\u001b[0m][\u001b[38;5;34m0\u001b[0m] │\n",
       "├─────────────────────┼───────────────────┼────────────┼───────────────────┤\n",
       "│ dense_1 (\u001b[38;5;33mDense\u001b[0m)     │ (\u001b[38;5;45mNone\u001b[0m, \u001b[38;5;34m16\u001b[0m)        │         \u001b[38;5;34m48\u001b[0m │ input_layer_1[\u001b[38;5;34m0\u001b[0m]… │\n",
       "├─────────────────────┼───────────────────┼────────────┼───────────────────┤\n",
       "│ concatenate         │ (\u001b[38;5;45mNone\u001b[0m, \u001b[38;5;34m32\u001b[0m)        │          \u001b[38;5;34m0\u001b[0m │ dense[\u001b[38;5;34m0\u001b[0m][\u001b[38;5;34m0\u001b[0m],      │\n",
       "│ (\u001b[38;5;33mConcatenate\u001b[0m)       │                   │            │ dense_1[\u001b[38;5;34m0\u001b[0m][\u001b[38;5;34m0\u001b[0m]     │\n",
       "├─────────────────────┼───────────────────┼────────────┼───────────────────┤\n",
       "│ dense_2 (\u001b[38;5;33mDense\u001b[0m)     │ (\u001b[38;5;45mNone\u001b[0m, \u001b[38;5;34m256\u001b[0m)       │      \u001b[38;5;34m8,448\u001b[0m │ concatenate[\u001b[38;5;34m0\u001b[0m][\u001b[38;5;34m0\u001b[0m] │\n",
       "├─────────────────────┼───────────────────┼────────────┼───────────────────┤\n",
       "│ dense_3 (\u001b[38;5;33mDense\u001b[0m)     │ (\u001b[38;5;45mNone\u001b[0m, \u001b[38;5;34m104\u001b[0m)       │     \u001b[38;5;34m26,728\u001b[0m │ dense_2[\u001b[38;5;34m0\u001b[0m][\u001b[38;5;34m0\u001b[0m]     │\n",
       "├─────────────────────┼───────────────────┼────────────┼───────────────────┤\n",
       "│ dense_4 (\u001b[38;5;33mDense\u001b[0m)     │ (\u001b[38;5;45mNone\u001b[0m, \u001b[38;5;34m256\u001b[0m)       │     \u001b[38;5;34m26,880\u001b[0m │ dense_3[\u001b[38;5;34m0\u001b[0m][\u001b[38;5;34m0\u001b[0m]     │\n",
       "├─────────────────────┼───────────────────┼────────────┼───────────────────┤\n",
       "│ dense_5 (\u001b[38;5;33mDense\u001b[0m)     │ (\u001b[38;5;45mNone\u001b[0m, \u001b[38;5;34m104\u001b[0m)       │     \u001b[38;5;34m26,728\u001b[0m │ dense_4[\u001b[38;5;34m0\u001b[0m][\u001b[38;5;34m0\u001b[0m]     │\n",
       "├─────────────────────┼───────────────────┼────────────┼───────────────────┤\n",
       "│ dense_6 (\u001b[38;5;33mDense\u001b[0m)     │ (\u001b[38;5;45mNone\u001b[0m, \u001b[38;5;34m256\u001b[0m)       │     \u001b[38;5;34m26,880\u001b[0m │ dense_5[\u001b[38;5;34m0\u001b[0m][\u001b[38;5;34m0\u001b[0m]     │\n",
       "├─────────────────────┼───────────────────┼────────────┼───────────────────┤\n",
       "│ dense_7 (\u001b[38;5;33mDense\u001b[0m)     │ (\u001b[38;5;45mNone\u001b[0m, \u001b[38;5;34m104\u001b[0m)       │     \u001b[38;5;34m26,728\u001b[0m │ dense_6[\u001b[38;5;34m0\u001b[0m][\u001b[38;5;34m0\u001b[0m]     │\n",
       "├─────────────────────┼───────────────────┼────────────┼───────────────────┤\n",
       "│ dense_8 (\u001b[38;5;33mDense\u001b[0m)     │ (\u001b[38;5;45mNone\u001b[0m, \u001b[38;5;34m256\u001b[0m)       │     \u001b[38;5;34m26,880\u001b[0m │ dense_7[\u001b[38;5;34m0\u001b[0m][\u001b[38;5;34m0\u001b[0m]     │\n",
       "├─────────────────────┼───────────────────┼────────────┼───────────────────┤\n",
       "│ dense_9 (\u001b[38;5;33mDense\u001b[0m)     │ (\u001b[38;5;45mNone\u001b[0m, \u001b[38;5;34m104\u001b[0m)       │     \u001b[38;5;34m26,728\u001b[0m │ dense_8[\u001b[38;5;34m0\u001b[0m][\u001b[38;5;34m0\u001b[0m]     │\n",
       "├─────────────────────┼───────────────────┼────────────┼───────────────────┤\n",
       "│ dense_10 (\u001b[38;5;33mDense\u001b[0m)    │ (\u001b[38;5;45mNone\u001b[0m, \u001b[38;5;34m256\u001b[0m)       │     \u001b[38;5;34m26,880\u001b[0m │ dense_9[\u001b[38;5;34m0\u001b[0m][\u001b[38;5;34m0\u001b[0m]     │\n",
       "├─────────────────────┼───────────────────┼────────────┼───────────────────┤\n",
       "│ dense_11 (\u001b[38;5;33mDense\u001b[0m)    │ (\u001b[38;5;45mNone\u001b[0m, \u001b[38;5;34m104\u001b[0m)       │     \u001b[38;5;34m26,728\u001b[0m │ dense_10[\u001b[38;5;34m0\u001b[0m][\u001b[38;5;34m0\u001b[0m]    │\n",
       "├─────────────────────┼───────────────────┼────────────┼───────────────────┤\n",
       "│ dense_12 (\u001b[38;5;33mDense\u001b[0m)    │ (\u001b[38;5;45mNone\u001b[0m, \u001b[38;5;34m256\u001b[0m)       │     \u001b[38;5;34m26,880\u001b[0m │ dense_11[\u001b[38;5;34m0\u001b[0m][\u001b[38;5;34m0\u001b[0m]    │\n",
       "├─────────────────────┼───────────────────┼────────────┼───────────────────┤\n",
       "│ dense_13 (\u001b[38;5;33mDense\u001b[0m)    │ (\u001b[38;5;45mNone\u001b[0m, \u001b[38;5;34m104\u001b[0m)       │     \u001b[38;5;34m26,728\u001b[0m │ dense_12[\u001b[38;5;34m0\u001b[0m][\u001b[38;5;34m0\u001b[0m]    │\n",
       "├─────────────────────┼───────────────────┼────────────┼───────────────────┤\n",
       "│ dense_14 (\u001b[38;5;33mDense\u001b[0m)    │ (\u001b[38;5;45mNone\u001b[0m, \u001b[38;5;34m2\u001b[0m)         │        \u001b[38;5;34m210\u001b[0m │ dense_13[\u001b[38;5;34m0\u001b[0m][\u001b[38;5;34m0\u001b[0m]    │\n",
       "└─────────────────────┴───────────────────┴────────────┴───────────────────┘\n"
      ]
     },
     "metadata": {},
     "output_type": "display_data"
    },
    {
     "data": {
      "text/html": [
       "<pre style=\"white-space:pre;overflow-x:auto;line-height:normal;font-family:Menlo,'DejaVu Sans Mono',consolas,'Courier New',monospace\"><span style=\"font-weight: bold\"> Total params: </span><span style=\"color: #00af00; text-decoration-color: #00af00\">303,554</span> (1.16 MB)\n",
       "</pre>\n"
      ],
      "text/plain": [
       "\u001b[1m Total params: \u001b[0m\u001b[38;5;34m303,554\u001b[0m (1.16 MB)\n"
      ]
     },
     "metadata": {},
     "output_type": "display_data"
    },
    {
     "data": {
      "text/html": [
       "<pre style=\"white-space:pre;overflow-x:auto;line-height:normal;font-family:Menlo,'DejaVu Sans Mono',consolas,'Courier New',monospace\"><span style=\"font-weight: bold\"> Trainable params: </span><span style=\"color: #00af00; text-decoration-color: #00af00\">303,554</span> (1.16 MB)\n",
       "</pre>\n"
      ],
      "text/plain": [
       "\u001b[1m Trainable params: \u001b[0m\u001b[38;5;34m303,554\u001b[0m (1.16 MB)\n"
      ]
     },
     "metadata": {},
     "output_type": "display_data"
    },
    {
     "data": {
      "text/html": [
       "<pre style=\"white-space:pre;overflow-x:auto;line-height:normal;font-family:Menlo,'DejaVu Sans Mono',consolas,'Courier New',monospace\"><span style=\"font-weight: bold\"> Non-trainable params: </span><span style=\"color: #00af00; text-decoration-color: #00af00\">0</span> (0.00 B)\n",
       "</pre>\n"
      ],
      "text/plain": [
       "\u001b[1m Non-trainable params: \u001b[0m\u001b[38;5;34m0\u001b[0m (0.00 B)\n"
      ]
     },
     "metadata": {},
     "output_type": "display_data"
    },
    {
     "name": "stderr",
     "output_type": "stream",
     "text": [
      "[D 241021 21:07:56 3472603808:29] Model_name: iris-top2_pca\n"
     ]
    },
    {
     "name": "stdout",
     "output_type": "stream",
     "text": [
      "Epoch 1/20\n"
     ]
    },
    {
     "name": "stderr",
     "output_type": "stream",
     "text": [
      "c:\\Users\\prapt\\Desktop\\Deep Learning\\DL_Basics\\DL_WS\\Lib\\site-packages\\keras\\src\\models\\functional.py:225: UserWarning: The structure of `inputs` doesn't match the expected structure: ['keras_tensor', 'keras_tensor_1']. Received: the structure of inputs=('*', '*')\n",
      "  warnings.warn(\n"
     ]
    },
    {
     "name": "stdout",
     "output_type": "stream",
     "text": [
      "1/1 ━━━━━━━━━━━━━━━━━━━━ 0s 1s/step - acc: 0.3333 - loss: 0.4780"
     ]
    },
    {
     "name": "stderr",
     "output_type": "stream",
     "text": [
      "c:\\Users\\prapt\\Desktop\\Deep Learning\\DL_Basics\\DL_WS\\Lib\\site-packages\\keras\\src\\models\\functional.py:225: UserWarning: The structure of `inputs` doesn't match the expected structure: ['keras_tensor', 'keras_tensor_1']. Received: the structure of inputs=('*', '*')\n",
      "  warnings.warn(\n"
     ]
    },
    {
     "name": "stdout",
     "output_type": "stream",
     "text": [
      "INFO:tensorflow:Assets written to: models/iris/iris-functional_api\\assets\n"
     ]
    },
    {
     "name": "stderr",
     "output_type": "stream",
     "text": [
      "INFO:tensorflow:Assets written to: models/iris/iris-functional_api\\assets\n"
     ]
    },
    {
     "name": "stdout",
     "output_type": "stream",
     "text": [
      "1/1 ━━━━━━━━━━━━━━━━━━━━ 2s 2s/step - acc: 0.3333 - loss: 0.4780 - val_acc: 0.4762 - val_loss: 0.5250\n",
      "Epoch 2/20\n",
      "1/1 ━━━━━━━━━━━━━━━━━━━━ 0s 45ms/step - acc: 0.3333 - loss: 0.47 ━━━━━━━━━━━━━━━━━━━━ 0s 86ms/step - acc: 0.3333 - loss: 0.4778 - val_acc: 0.4762 - val_loss: 0.5248\n",
      "Epoch 3/20\n",
      "1/1 ━━━━━━━━━━━━━━━━━━━━ 0s 33ms/step - acc: 0.3333 - loss: 0.47 ━━━━━━━━━━━━━━━━━━━━ 0s 79ms/step - acc: 0.3333 - loss: 0.4776 - val_acc: 0.4762 - val_loss: 0.5247\n",
      "Epoch 4/20\n",
      "1/1 ━━━━━━━━━━━━━━━━━━━━ 0s 39ms/step - acc: 0.3333 - loss: 0.47 ━━━━━━━━━━━━━━━━━━━━ 0s 82ms/step - acc: 0.3333 - loss: 0.4775 - val_acc: 0.4762 - val_loss: 0.5247\n",
      "Epoch 5/20\n",
      "1/1 ━━━━━━━━━━━━━━━━━━━━ 0s 31ms/step - acc: 0.3333 - loss: 0.47 ━━━━━━━━━━━━━━━━━━━━ 0s 85ms/step - acc: 0.3333 - loss: 0.4774 - val_acc: 0.4762 - val_loss: 0.5247\n",
      "Epoch 6/20\n",
      "1/1 ━━━━━━━━━━━━━━━━━━━━ 0s 30ms/step - acc: 0.3333 - loss: 0.47 ━━━━━━━━━━━━━━━━━━━━ 0s 80ms/step - acc: 0.3333 - loss: 0.4773 - val_acc: 0.4762 - val_loss: 0.5247\n",
      "Epoch 7/20\n",
      "1/1 ━━━━━━━━━━━━━━━━━━━━ 0s 37ms/step - acc: 0.3333 - loss: 0.47 ━━━━━━━━━━━━━━━━━━━━ 0s 85ms/step - acc: 0.3333 - loss: 0.4772 - val_acc: 0.4762 - val_loss: 0.5247\n",
      "Epoch 8/20\n",
      "1/1 ━━━━━━━━━━━━━━━━━━━━ 0s 39ms/step - acc: 0.3333 - loss: 0.47 ━━━━━━━━━━━━━━━━━━━━ 0s 89ms/step - acc: 0.3333 - loss: 0.4772 - val_acc: 0.4762 - val_loss: 0.5247\n",
      "Epoch 9/20\n",
      "1/1 ━━━━━━━━━━━━━━━━━━━━ 0s 39ms/step - acc: 0.3333 - loss: 0.47 ━━━━━━━━━━━━━━━━━━━━ 0s 91ms/step - acc: 0.3333 - loss: 0.4772 - val_acc: 0.4762 - val_loss: 0.5247\n",
      "Epoch 10/20\n",
      "1/1 ━━━━━━━━━━━━━━━━━━━━ 0s 64ms/step - acc: 0.3333 - loss: 0.47 ━━━━━━━━━━━━━━━━━━━━ 0s 112ms/step - acc: 0.3333 - loss: 0.4771 - val_acc: 0.4762 - val_loss: 0.5248\n",
      "Epoch 11/20\n",
      "1/1 ━━━━━━━━━━━━━━━━━━━━ 0s 57ms/step - acc: 0.3333 - loss: 0.47 ━━━━━━━━━━━━━━━━━━━━ 0s 137ms/step - acc: 0.3333 - loss: 0.4771 - val_acc: 0.4762 - val_loss: 0.5248\n",
      "Epoch 12/20\n",
      "1/1 ━━━━━━━━━━━━━━━━━━━━ 0s 91ms/step - acc: 0.3333 - loss: 0.47 ━━━━━━━━━━━━━━━━━━━━ 0s 177ms/step - acc: 0.3333 - loss: 0.4771 - val_acc: 0.4762 - val_loss: 0.5248\n",
      "Epoch 13/20\n",
      "1/1 ━━━━━━━━━━━━━━━━━━━━ 0s 50ms/step - acc: 0.3333 - loss: 0.47 ━━━━━━━━━━━━━━━━━━━━ 0s 123ms/step - acc: 0.3333 - loss: 0.4770 - val_acc: 0.4762 - val_loss: 0.5248\n",
      "Epoch 14/20\n",
      "1/1 ━━━━━━━━━━━━━━━━━━━━ 0s 70ms/step - acc: 0.3333 - loss: 0.47 ━━━━━━━━━━━━━━━━━━━━ 0s 170ms/step - acc: 0.3333 - loss: 0.4770 - val_acc: 0.4762 - val_loss: 0.5248\n",
      "Epoch 15/20\n",
      "1/1 ━━━━━━━━━━━━━━━━━━━━ 0s 64ms/step - acc: 0.3333 - loss: 0.47 ━━━━━━━━━━━━━━━━━━━━ 0s 126ms/step - acc: 0.3333 - loss: 0.4770 - val_acc: 0.4762 - val_loss: 0.5248\n",
      "Epoch 16/20\n",
      "1/1 ━━━━━━━━━━━━━━━━━━━━ 0s 46ms/step - acc: 0.3333 - loss: 0.47 ━━━━━━━━━━━━━━━━━━━━ 0s 96ms/step - acc: 0.3333 - loss: 0.4769 - val_acc: 0.4762 - val_loss: 0.5247\n",
      "Epoch 17/20\n",
      "1/1 ━━━━━━━━━━━━━━━━━━━━ 0s 77ms/step - acc: 0.3333 - loss: 0.47 ━━━━━━━━━━━━━━━━━━━━ 0s 165ms/step - acc: 0.3333 - loss: 0.4769 - val_acc: 0.4762 - val_loss: 0.5247\n",
      "Epoch 18/20\n",
      "1/1 ━━━━━━━━━━━━━━━━━━━━ 0s 145ms/step - acc: 0.3333 - loss: 0.476 ━━━━━━━━━━━━━━━━━━━━ 0s 213ms/step - acc: 0.3333 - loss: 0.4769 - val_acc: 0.4762 - val_loss: 0.5247\n",
      "Epoch 19/20\n",
      "1/1 ━━━━━━━━━━━━━━━━━━━━ 0s 47ms/step - acc: 0.3333 - loss: 0.47 ━━━━━━━━━━━━━━━━━━━━ 0s 91ms/step - acc: 0.3333 - loss: 0.4768 - val_acc: 0.4762 - val_loss: 0.5246\n",
      "Epoch 20/20\n",
      "1/1 ━━━━━━━━━━━━━━━━━━━━ 0s 45ms/step - acc: 0.3333 - loss: 0.47 ━━━━━━━━━━━━━━━━━━━━ 0s 93ms/step - acc: 0.3333 - loss: 0.4768 - val_acc: 0.4762 - val_loss: 0.5246\n"
     ]
    },
    {
     "name": "stderr",
     "output_type": "stream",
     "text": [
      "wandb: Adding directory to artifact (.\\models\\iris\\iris-functional_api)... Done. 0.0s\n"
     ]
    },
    {
     "data": {
      "text/html": [
       "<style>\n",
       "    table.wandb td:nth-child(1) { padding: 0 10px; text-align: left ; width: auto;} td:nth-child(2) {text-align: left ; width: 100%}\n",
       "    .wandb-row { display: flex; flex-direction: row; flex-wrap: wrap; justify-content: flex-start; width: 100% }\n",
       "    .wandb-col { display: flex; flex-direction: column; flex-basis: 100%; flex: 1; padding: 10px; }\n",
       "    </style>\n",
       "<div class=\"wandb-row\"><div class=\"wandb-col\"><h3>Run history:</h3><br/><table class=\"wandb\"><tr><td>acc</td><td>▁▁▁▁▁▁▁▁▁▁▁▁▁▁▁▁▁▁▁▁</td></tr><tr><td>loss</td><td>█▇▆▅▄▄▄▃▃▃▃▃▂▂▂▂▂▁▁▁</td></tr><tr><td>val_acc</td><td>▁▁▁▁▁▁▁▁▁▁▁▁▁▁▁▁▁▁▁▁</td></tr><tr><td>val_loss</td><td>█▅▄▃▃▃▃▄▄▄▅▅▅▅▄▄▃▃▂▁</td></tr></table><br/></div><div class=\"wandb-col\"><h3>Run summary:</h3><br/><table class=\"wandb\"><tr><td>acc</td><td>0.33333</td></tr><tr><td>loss</td><td>0.47679</td></tr><tr><td>val_acc</td><td>0.47619</td></tr><tr><td>val_loss</td><td>0.52458</td></tr></table><br/></div></div>"
      ],
      "text/plain": [
       "<IPython.core.display.HTML object>"
      ]
     },
     "metadata": {},
     "output_type": "display_data"
    },
    {
     "data": {
      "text/html": [
       " View run <strong style=\"color:#cdcd00\">fiery-sweep-2</strong> at: <a href='https://wandb.ai/praptipatil01/Iris-Species-Classification/runs/1mlnvpxc' target=\"_blank\">https://wandb.ai/praptipatil01/Iris-Species-Classification/runs/1mlnvpxc</a><br/> View project at: <a href='https://wandb.ai/praptipatil01/Iris-Species-Classification' target=\"_blank\">https://wandb.ai/praptipatil01/Iris-Species-Classification</a><br/>Synced 5 W&B file(s), 0 media file(s), 5 artifact file(s) and 0 other file(s)"
      ],
      "text/plain": [
       "<IPython.core.display.HTML object>"
      ]
     },
     "metadata": {},
     "output_type": "display_data"
    },
    {
     "data": {
      "text/html": [
       "Find logs at: <code>.\\wandb\\run-20241021_210754-1mlnvpxc\\logs</code>"
      ],
      "text/plain": [
       "<IPython.core.display.HTML object>"
      ]
     },
     "metadata": {},
     "output_type": "display_data"
    },
    {
     "name": "stderr",
     "output_type": "stream",
     "text": [
      "wandb: Agent Starting Run: 9ubqlzk9 with config:\n",
      "wandb: \tlearning_rate: 0.09395462098065278\n",
      "wandb: \tnum_blocks: 1\n",
      "wandb: \toptimizer: adam\n",
      "wandb: \tunits_1: 16\n",
      "wandb: \tunits_2: 152\n",
      "wandb: WARNING Ignored wandb.init() arg project when running a sweep.\n"
     ]
    },
    {
     "data": {
      "text/html": [
       "Tracking run with wandb version 0.18.5"
      ],
      "text/plain": [
       "<IPython.core.display.HTML object>"
      ]
     },
     "metadata": {},
     "output_type": "display_data"
    },
    {
     "data": {
      "text/html": [
       "Run data is saved locally in <code>c:\\Users\\prapt\\Desktop\\Deep Learning\\DL_Basics\\TensorFlow in Action\\wandb\\run-20241021_210815-9ubqlzk9</code>"
      ],
      "text/plain": [
       "<IPython.core.display.HTML object>"
      ]
     },
     "metadata": {},
     "output_type": "display_data"
    },
    {
     "data": {
      "text/html": [
       "Syncing run <strong><a href='https://wandb.ai/praptipatil01/Iris-Species-Classification/runs/9ubqlzk9' target=\"_blank\">fearless-sweep-3</a></strong> to <a href='https://wandb.ai/praptipatil01/Iris-Species-Classification' target=\"_blank\">Weights & Biases</a> (<a href='https://wandb.me/run' target=\"_blank\">docs</a>)<br/>Sweep page: <a href='https://wandb.ai/praptipatil01/Iris-Species-Classification/sweeps/ekxr9ovf' target=\"_blank\">https://wandb.ai/praptipatil01/Iris-Species-Classification/sweeps/ekxr9ovf</a>"
      ],
      "text/plain": [
       "<IPython.core.display.HTML object>"
      ]
     },
     "metadata": {},
     "output_type": "display_data"
    },
    {
     "data": {
      "text/html": [
       " View project at <a href='https://wandb.ai/praptipatil01/Iris-Species-Classification' target=\"_blank\">https://wandb.ai/praptipatil01/Iris-Species-Classification</a>"
      ],
      "text/plain": [
       "<IPython.core.display.HTML object>"
      ]
     },
     "metadata": {},
     "output_type": "display_data"
    },
    {
     "data": {
      "text/html": [
       " View sweep at <a href='https://wandb.ai/praptipatil01/Iris-Species-Classification/sweeps/ekxr9ovf' target=\"_blank\">https://wandb.ai/praptipatil01/Iris-Species-Classification/sweeps/ekxr9ovf</a>"
      ],
      "text/plain": [
       "<IPython.core.display.HTML object>"
      ]
     },
     "metadata": {},
     "output_type": "display_data"
    },
    {
     "data": {
      "text/html": [
       " View run at <a href='https://wandb.ai/praptipatil01/Iris-Species-Classification/runs/9ubqlzk9' target=\"_blank\">https://wandb.ai/praptipatil01/Iris-Species-Classification/runs/9ubqlzk9</a>"
      ],
      "text/plain": [
       "<IPython.core.display.HTML object>"
      ]
     },
     "metadata": {},
     "output_type": "display_data"
    },
    {
     "name": "stderr",
     "output_type": "stream",
     "text": [
      "[D 241021 21:08:17 3472603808:23] Number of records: Train -  84, Val - 21\n"
     ]
    },
    {
     "data": {
      "text/html": [
       "<pre style=\"white-space:pre;overflow-x:auto;line-height:normal;font-family:Menlo,'DejaVu Sans Mono',consolas,'Courier New',monospace\"><span style=\"font-weight: bold\">Model: \"iris-top2_pca\"</span>\n",
       "</pre>\n"
      ],
      "text/plain": [
       "\u001b[1mModel: \"iris-top2_pca\"\u001b[0m\n"
      ]
     },
     "metadata": {},
     "output_type": "display_data"
    },
    {
     "data": {
      "text/html": [
       "<pre style=\"white-space:pre;overflow-x:auto;line-height:normal;font-family:Menlo,'DejaVu Sans Mono',consolas,'Courier New',monospace\">┏━━━━━━━━━━━━━━━━━━━━━┳━━━━━━━━━━━━━━━━━━━┳━━━━━━━━━━━━┳━━━━━━━━━━━━━━━━━━━┓\n",
       "┃<span style=\"font-weight: bold\"> Layer (type)        </span>┃<span style=\"font-weight: bold\"> Output Shape      </span>┃<span style=\"font-weight: bold\">    Param # </span>┃<span style=\"font-weight: bold\"> Connected to      </span>┃\n",
       "┡━━━━━━━━━━━━━━━━━━━━━╇━━━━━━━━━━━━━━━━━━━╇━━━━━━━━━━━━╇━━━━━━━━━━━━━━━━━━━┩\n",
       "│ input_layer         │ (<span style=\"color: #00d7ff; text-decoration-color: #00d7ff\">None</span>, <span style=\"color: #00af00; text-decoration-color: #00af00\">4</span>)         │          <span style=\"color: #00af00; text-decoration-color: #00af00\">0</span> │ -                 │\n",
       "│ (<span style=\"color: #0087ff; text-decoration-color: #0087ff\">InputLayer</span>)        │                   │            │                   │\n",
       "├─────────────────────┼───────────────────┼────────────┼───────────────────┤\n",
       "│ input_layer_1       │ (<span style=\"color: #00d7ff; text-decoration-color: #00d7ff\">None</span>, <span style=\"color: #00af00; text-decoration-color: #00af00\">2</span>)         │          <span style=\"color: #00af00; text-decoration-color: #00af00\">0</span> │ -                 │\n",
       "│ (<span style=\"color: #0087ff; text-decoration-color: #0087ff\">InputLayer</span>)        │                   │            │                   │\n",
       "├─────────────────────┼───────────────────┼────────────┼───────────────────┤\n",
       "│ dense (<span style=\"color: #0087ff; text-decoration-color: #0087ff\">Dense</span>)       │ (<span style=\"color: #00d7ff; text-decoration-color: #00d7ff\">None</span>, <span style=\"color: #00af00; text-decoration-color: #00af00\">16</span>)        │         <span style=\"color: #00af00; text-decoration-color: #00af00\">80</span> │ input_layer[<span style=\"color: #00af00; text-decoration-color: #00af00\">0</span>][<span style=\"color: #00af00; text-decoration-color: #00af00\">0</span>] │\n",
       "├─────────────────────┼───────────────────┼────────────┼───────────────────┤\n",
       "│ dense_1 (<span style=\"color: #0087ff; text-decoration-color: #0087ff\">Dense</span>)     │ (<span style=\"color: #00d7ff; text-decoration-color: #00d7ff\">None</span>, <span style=\"color: #00af00; text-decoration-color: #00af00\">16</span>)        │         <span style=\"color: #00af00; text-decoration-color: #00af00\">48</span> │ input_layer_1[<span style=\"color: #00af00; text-decoration-color: #00af00\">0</span>]… │\n",
       "├─────────────────────┼───────────────────┼────────────┼───────────────────┤\n",
       "│ concatenate         │ (<span style=\"color: #00d7ff; text-decoration-color: #00d7ff\">None</span>, <span style=\"color: #00af00; text-decoration-color: #00af00\">32</span>)        │          <span style=\"color: #00af00; text-decoration-color: #00af00\">0</span> │ dense[<span style=\"color: #00af00; text-decoration-color: #00af00\">0</span>][<span style=\"color: #00af00; text-decoration-color: #00af00\">0</span>],      │\n",
       "│ (<span style=\"color: #0087ff; text-decoration-color: #0087ff\">Concatenate</span>)       │                   │            │ dense_1[<span style=\"color: #00af00; text-decoration-color: #00af00\">0</span>][<span style=\"color: #00af00; text-decoration-color: #00af00\">0</span>]     │\n",
       "├─────────────────────┼───────────────────┼────────────┼───────────────────┤\n",
       "│ dense_2 (<span style=\"color: #0087ff; text-decoration-color: #0087ff\">Dense</span>)     │ (<span style=\"color: #00d7ff; text-decoration-color: #00d7ff\">None</span>, <span style=\"color: #00af00; text-decoration-color: #00af00\">16</span>)        │        <span style=\"color: #00af00; text-decoration-color: #00af00\">528</span> │ concatenate[<span style=\"color: #00af00; text-decoration-color: #00af00\">0</span>][<span style=\"color: #00af00; text-decoration-color: #00af00\">0</span>] │\n",
       "├─────────────────────┼───────────────────┼────────────┼───────────────────┤\n",
       "│ dense_3 (<span style=\"color: #0087ff; text-decoration-color: #0087ff\">Dense</span>)     │ (<span style=\"color: #00d7ff; text-decoration-color: #00d7ff\">None</span>, <span style=\"color: #00af00; text-decoration-color: #00af00\">152</span>)       │      <span style=\"color: #00af00; text-decoration-color: #00af00\">2,584</span> │ dense_2[<span style=\"color: #00af00; text-decoration-color: #00af00\">0</span>][<span style=\"color: #00af00; text-decoration-color: #00af00\">0</span>]     │\n",
       "├─────────────────────┼───────────────────┼────────────┼───────────────────┤\n",
       "│ dense_4 (<span style=\"color: #0087ff; text-decoration-color: #0087ff\">Dense</span>)     │ (<span style=\"color: #00d7ff; text-decoration-color: #00d7ff\">None</span>, <span style=\"color: #00af00; text-decoration-color: #00af00\">2</span>)         │        <span style=\"color: #00af00; text-decoration-color: #00af00\">306</span> │ dense_3[<span style=\"color: #00af00; text-decoration-color: #00af00\">0</span>][<span style=\"color: #00af00; text-decoration-color: #00af00\">0</span>]     │\n",
       "└─────────────────────┴───────────────────┴────────────┴───────────────────┘\n",
       "</pre>\n"
      ],
      "text/plain": [
       "┏━━━━━━━━━━━━━━━━━━━━━┳━━━━━━━━━━━━━━━━━━━┳━━━━━━━━━━━━┳━━━━━━━━━━━━━━━━━━━┓\n",
       "┃\u001b[1m \u001b[0m\u001b[1mLayer (type)       \u001b[0m\u001b[1m \u001b[0m┃\u001b[1m \u001b[0m\u001b[1mOutput Shape     \u001b[0m\u001b[1m \u001b[0m┃\u001b[1m \u001b[0m\u001b[1m   Param #\u001b[0m\u001b[1m \u001b[0m┃\u001b[1m \u001b[0m\u001b[1mConnected to     \u001b[0m\u001b[1m \u001b[0m┃\n",
       "┡━━━━━━━━━━━━━━━━━━━━━╇━━━━━━━━━━━━━━━━━━━╇━━━━━━━━━━━━╇━━━━━━━━━━━━━━━━━━━┩\n",
       "│ input_layer         │ (\u001b[38;5;45mNone\u001b[0m, \u001b[38;5;34m4\u001b[0m)         │          \u001b[38;5;34m0\u001b[0m │ -                 │\n",
       "│ (\u001b[38;5;33mInputLayer\u001b[0m)        │                   │            │                   │\n",
       "├─────────────────────┼───────────────────┼────────────┼───────────────────┤\n",
       "│ input_layer_1       │ (\u001b[38;5;45mNone\u001b[0m, \u001b[38;5;34m2\u001b[0m)         │          \u001b[38;5;34m0\u001b[0m │ -                 │\n",
       "│ (\u001b[38;5;33mInputLayer\u001b[0m)        │                   │            │                   │\n",
       "├─────────────────────┼───────────────────┼────────────┼───────────────────┤\n",
       "│ dense (\u001b[38;5;33mDense\u001b[0m)       │ (\u001b[38;5;45mNone\u001b[0m, \u001b[38;5;34m16\u001b[0m)        │         \u001b[38;5;34m80\u001b[0m │ input_layer[\u001b[38;5;34m0\u001b[0m][\u001b[38;5;34m0\u001b[0m] │\n",
       "├─────────────────────┼───────────────────┼────────────┼───────────────────┤\n",
       "│ dense_1 (\u001b[38;5;33mDense\u001b[0m)     │ (\u001b[38;5;45mNone\u001b[0m, \u001b[38;5;34m16\u001b[0m)        │         \u001b[38;5;34m48\u001b[0m │ input_layer_1[\u001b[38;5;34m0\u001b[0m]… │\n",
       "├─────────────────────┼───────────────────┼────────────┼───────────────────┤\n",
       "│ concatenate         │ (\u001b[38;5;45mNone\u001b[0m, \u001b[38;5;34m32\u001b[0m)        │          \u001b[38;5;34m0\u001b[0m │ dense[\u001b[38;5;34m0\u001b[0m][\u001b[38;5;34m0\u001b[0m],      │\n",
       "│ (\u001b[38;5;33mConcatenate\u001b[0m)       │                   │            │ dense_1[\u001b[38;5;34m0\u001b[0m][\u001b[38;5;34m0\u001b[0m]     │\n",
       "├─────────────────────┼───────────────────┼────────────┼───────────────────┤\n",
       "│ dense_2 (\u001b[38;5;33mDense\u001b[0m)     │ (\u001b[38;5;45mNone\u001b[0m, \u001b[38;5;34m16\u001b[0m)        │        \u001b[38;5;34m528\u001b[0m │ concatenate[\u001b[38;5;34m0\u001b[0m][\u001b[38;5;34m0\u001b[0m] │\n",
       "├─────────────────────┼───────────────────┼────────────┼───────────────────┤\n",
       "│ dense_3 (\u001b[38;5;33mDense\u001b[0m)     │ (\u001b[38;5;45mNone\u001b[0m, \u001b[38;5;34m152\u001b[0m)       │      \u001b[38;5;34m2,584\u001b[0m │ dense_2[\u001b[38;5;34m0\u001b[0m][\u001b[38;5;34m0\u001b[0m]     │\n",
       "├─────────────────────┼───────────────────┼────────────┼───────────────────┤\n",
       "│ dense_4 (\u001b[38;5;33mDense\u001b[0m)     │ (\u001b[38;5;45mNone\u001b[0m, \u001b[38;5;34m2\u001b[0m)         │        \u001b[38;5;34m306\u001b[0m │ dense_3[\u001b[38;5;34m0\u001b[0m][\u001b[38;5;34m0\u001b[0m]     │\n",
       "└─────────────────────┴───────────────────┴────────────┴───────────────────┘\n"
      ]
     },
     "metadata": {},
     "output_type": "display_data"
    },
    {
     "data": {
      "text/html": [
       "<pre style=\"white-space:pre;overflow-x:auto;line-height:normal;font-family:Menlo,'DejaVu Sans Mono',consolas,'Courier New',monospace\"><span style=\"font-weight: bold\"> Total params: </span><span style=\"color: #00af00; text-decoration-color: #00af00\">3,546</span> (13.85 KB)\n",
       "</pre>\n"
      ],
      "text/plain": [
       "\u001b[1m Total params: \u001b[0m\u001b[38;5;34m3,546\u001b[0m (13.85 KB)\n"
      ]
     },
     "metadata": {},
     "output_type": "display_data"
    },
    {
     "data": {
      "text/html": [
       "<pre style=\"white-space:pre;overflow-x:auto;line-height:normal;font-family:Menlo,'DejaVu Sans Mono',consolas,'Courier New',monospace\"><span style=\"font-weight: bold\"> Trainable params: </span><span style=\"color: #00af00; text-decoration-color: #00af00\">3,546</span> (13.85 KB)\n",
       "</pre>\n"
      ],
      "text/plain": [
       "\u001b[1m Trainable params: \u001b[0m\u001b[38;5;34m3,546\u001b[0m (13.85 KB)\n"
      ]
     },
     "metadata": {},
     "output_type": "display_data"
    },
    {
     "data": {
      "text/html": [
       "<pre style=\"white-space:pre;overflow-x:auto;line-height:normal;font-family:Menlo,'DejaVu Sans Mono',consolas,'Courier New',monospace\"><span style=\"font-weight: bold\"> Non-trainable params: </span><span style=\"color: #00af00; text-decoration-color: #00af00\">0</span> (0.00 B)\n",
       "</pre>\n"
      ],
      "text/plain": [
       "\u001b[1m Non-trainable params: \u001b[0m\u001b[38;5;34m0\u001b[0m (0.00 B)\n"
      ]
     },
     "metadata": {},
     "output_type": "display_data"
    },
    {
     "name": "stderr",
     "output_type": "stream",
     "text": [
      "[D 241021 21:08:17 3472603808:29] Model_name: iris-top2_pca\n"
     ]
    },
    {
     "name": "stdout",
     "output_type": "stream",
     "text": [
      "Epoch 1/20\n"
     ]
    },
    {
     "name": "stderr",
     "output_type": "stream",
     "text": [
      "c:\\Users\\prapt\\Desktop\\Deep Learning\\DL_Basics\\DL_WS\\Lib\\site-packages\\keras\\src\\models\\functional.py:225: UserWarning: The structure of `inputs` doesn't match the expected structure: ['keras_tensor', 'keras_tensor_1']. Received: the structure of inputs=('*', '*')\n",
      "  warnings.warn(\n"
     ]
    },
    {
     "name": "stdout",
     "output_type": "stream",
     "text": [
      "1/1 ━━━━━━━━━━━━━━━━━━━━ 0s 2s/step - acc: 0.3333 - loss: 0.6611"
     ]
    },
    {
     "name": "stderr",
     "output_type": "stream",
     "text": [
      "c:\\Users\\prapt\\Desktop\\Deep Learning\\DL_Basics\\DL_WS\\Lib\\site-packages\\keras\\src\\models\\functional.py:225: UserWarning: The structure of `inputs` doesn't match the expected structure: ['keras_tensor', 'keras_tensor_1']. Received: the structure of inputs=('*', '*')\n",
      "  warnings.warn(\n"
     ]
    },
    {
     "name": "stdout",
     "output_type": "stream",
     "text": [
      "INFO:tensorflow:Assets written to: models/iris/iris-functional_api\\assets\n"
     ]
    },
    {
     "name": "stderr",
     "output_type": "stream",
     "text": [
      "INFO:tensorflow:Assets written to: models/iris/iris-functional_api\\assets\n"
     ]
    },
    {
     "name": "stdout",
     "output_type": "stream",
     "text": [
      "1/1 ━━━━━━━━━━━━━━━━━━━━ 3s 3s/step - acc: 0.3333 - loss: 0.6611 - val_acc: 0.4762 - val_loss: 0.5107\n",
      "Epoch 2/20\n",
      "1/1 ━━━━━━━━━━━━━━━━━━━━ 0s 57ms/step - acc: 0.3333 - loss: 0.60 ━━━━━━━━━━━━━━━━━━━━ 0s 119ms/step - acc: 0.3333 - loss: 0.6001 - val_acc: 0.4762 - val_loss: 0.4838\n",
      "Epoch 3/20\n",
      "1/1 ━━━━━━━━━━━━━━━━━━━━ 0s 57ms/step - acc: 0.3333 - loss: 0.54 ━━━━━━━━━━━━━━━━━━━━ 0s 113ms/step - acc: 0.3333 - loss: 0.5494 - val_acc: 0.4762 - val_loss: 0.4667\n",
      "Epoch 4/20\n",
      "1/1 ━━━━━━━━━━━━━━━━━━━━ 0s 51ms/step - acc: 0.3333 - loss: 0.50 ━━━━━━━━━━━━━━━━━━━━ 0s 100ms/step - acc: 0.3333 - loss: 0.5091 - val_acc: 0.4762 - val_loss: 0.4585\n",
      "Epoch 5/20\n",
      "1/1 ━━━━━━━━━━━━━━━━━━━━ 0s 38ms/step - acc: 0.3333 - loss: 0.47 ━━━━━━━━━━━━━━━━━━━━ 0s 90ms/step - acc: 0.3333 - loss: 0.4789 - val_acc: 0.4762 - val_loss: 0.4581\n",
      "Epoch 6/20\n",
      "1/1 ━━━━━━━━━━━━━━━━━━━━ 0s 55ms/step - acc: 0.3333 - loss: 0.4581INFO:tensorflow:Assets written to: models/iris/iris-functional_api\\assets\n"
     ]
    },
    {
     "name": "stderr",
     "output_type": "stream",
     "text": [
      "INFO:tensorflow:Assets written to: models/iris/iris-functional_api\\assets\n"
     ]
    },
    {
     "name": "stdout",
     "output_type": "stream",
     "text": [
      "1/1 ━━━━━━━━━━━━━━━━━━━━ 2s 2s/step - acc: 0.3333 - loss: 0.4581 - val_acc: 0.5238 - val_loss: 0.4641\n",
      "Epoch 7/20\n",
      "1/1 ━━━━━━━━━━━━━━━━━━━━ 0s 135ms/step - acc: 0.3929 - loss: 0.4451INFO:tensorflow:Assets written to: models/iris/iris-functional_api\\assets\n"
     ]
    },
    {
     "name": "stderr",
     "output_type": "stream",
     "text": [
      "INFO:tensorflow:Assets written to: models/iris/iris-functional_api\\assets\n"
     ]
    },
    {
     "name": "stdout",
     "output_type": "stream",
     "text": [
      "1/1 ━━━━━━━━━━━━━━━━━━━━ 1s 1s/step - acc: 0.3929 - loss: 0.4451 - val_acc: 0.9524 - val_loss: 0.4743\n",
      "Epoch 8/20\n",
      "1/1 ━━━━━━━━━━━━━━━━━━━━ 0s 70ms/step - acc: 0.8929 - loss: 0.43 ━━━━━━━━━━━━━━━━━━━━ 0s 137ms/step - acc: 0.8929 - loss: 0.4383 - val_acc: 0.8095 - val_loss: 0.4857\n",
      "Epoch 9/20\n",
      "1/1 ━━━━━━━━━━━━━━━━━━━━ 0s 44ms/step - acc: 0.8810 - loss: 0.43 ━━━━━━━━━━━━━━━━━━━━ 0s 144ms/step - acc: 0.8810 - loss: 0.4357 - val_acc: 0.7143 - val_loss: 0.4956\n",
      "Epoch 10/20\n",
      "1/1 ━━━━━━━━━━━━━━━━━━━━ 0s 59ms/step - acc: 0.7381 - loss: 0.43 ━━━━━━━━━━━━━━━━━━━━ 0s 123ms/step - acc: 0.7381 - loss: 0.4348 - val_acc: 0.6190 - val_loss: 0.5027\n",
      "Epoch 11/20\n",
      "1/1 ━━━━━━━━━━━━━━━━━━━━ 0s 97ms/step - acc: 0.6905 - loss: 0.43 ━━━━━━━━━━━━━━━━━━━━ 0s 172ms/step - acc: 0.6905 - loss: 0.4342 - val_acc: 0.5714 - val_loss: 0.5060\n",
      "Epoch 12/20\n",
      "1/1 ━━━━━━━━━━━━━━━━━━━━ 0s 63ms/step - acc: 0.6786 - loss: 0.43 ━━━━━━━━━━━━━━━━━━━━ 0s 172ms/step - acc: 0.6786 - loss: 0.4327 - val_acc: 0.6190 - val_loss: 0.5047\n",
      "Epoch 13/20\n",
      "1/1 ━━━━━━━━━━━━━━━━━━━━ 0s 55ms/step - acc: 0.6786 - loss: 0.42 ━━━━━━━━━━━━━━━━━━━━ 0s 122ms/step - acc: 0.6786 - loss: 0.4296 - val_acc: 0.6190 - val_loss: 0.4989\n",
      "Epoch 14/20\n",
      "1/1 ━━━━━━━━━━━━━━━━━━━━ 0s 82ms/step - acc: 0.6905 - loss: 0.42 ━━━━━━━━━━━━━━━━━━━━ 0s 368ms/step - acc: 0.6905 - loss: 0.4246 - val_acc: 0.6667 - val_loss: 0.4891\n",
      "Epoch 15/20\n",
      "1/1 ━━━━━━━━━━━━━━━━━━━━ 0s 43ms/step - acc: 0.6905 - loss: 0.41 ━━━━━━━━━━━━━━━━━━━━ 0s 112ms/step - acc: 0.6905 - loss: 0.4180 - val_acc: 0.7143 - val_loss: 0.4769\n",
      "Epoch 16/20\n",
      "1/1 ━━━━━━━━━━━━━━━━━━━━ 0s 101ms/step - acc: 0.7976 - loss: 0.410 ━━━━━━━━━━━━━━━━━━━━ 0s 166ms/step - acc: 0.7976 - loss: 0.4104 - val_acc: 0.7619 - val_loss: 0.4631\n",
      "Epoch 17/20\n",
      "1/1 ━━━━━━━━━━━━━━━━━━━━ 0s 52ms/step - acc: 0.8333 - loss: 0.40 ━━━━━━━━━━━━━━━━━━━━ 0s 118ms/step - acc: 0.8333 - loss: 0.4024 - val_acc: 0.8095 - val_loss: 0.4488\n",
      "Epoch 18/20\n",
      "1/1 ━━━━━━━━━━━━━━━━━━━━ 0s 37ms/step - acc: 0.9048 - loss: 0.39 ━━━━━━━━━━━━━━━━━━━━ 0s 99ms/step - acc: 0.9048 - loss: 0.3948 - val_acc: 0.9048 - val_loss: 0.4348\n",
      "Epoch 19/20\n",
      "1/1 ━━━━━━━━━━━━━━━━━━━━ 0s 42ms/step - acc: 0.9643 - loss: 0.38 ━━━━━━━━━━━━━━━━━━━━ 0s 101ms/step - acc: 0.9643 - loss: 0.3879 - val_acc: 0.9048 - val_loss: 0.4217\n",
      "Epoch 20/20\n",
      "1/1 ━━━━━━━━━━━━━━━━━━━━ 0s 46ms/step - acc: 0.9762 - loss: 0.38 ━━━━━━━━━━━━━━━━━━━━ 0s 97ms/step - acc: 0.9762 - loss: 0.3821 - val_acc: 0.9524 - val_loss: 0.4099\n"
     ]
    },
    {
     "name": "stderr",
     "output_type": "stream",
     "text": [
      "wandb: Adding directory to artifact (.\\models\\iris\\iris-functional_api)... Done. 0.5s\n"
     ]
    },
    {
     "data": {
      "text/html": [
       "<style>\n",
       "    table.wandb td:nth-child(1) { padding: 0 10px; text-align: left ; width: auto;} td:nth-child(2) {text-align: left ; width: 100%}\n",
       "    .wandb-row { display: flex; flex-direction: row; flex-wrap: wrap; justify-content: flex-start; width: 100% }\n",
       "    .wandb-col { display: flex; flex-direction: column; flex-basis: 100%; flex: 1; padding: 10px; }\n",
       "    </style>\n",
       "<div class=\"wandb-row\"><div class=\"wandb-col\"><h3>Run history:</h3><br/><table class=\"wandb\"><tr><td>acc</td><td>▁▁▁▁▁▁▂▇▇▅▅▅▅▅▅▆▆▇██</td></tr><tr><td>loss</td><td>█▆▅▄▃▃▃▂▂▂▂▂▂▂▂▂▂▁▁▁</td></tr><tr><td>val_acc</td><td>▁▁▁▁▁▂█▆▅▃▂▃▃▄▅▅▆▇▇█</td></tr><tr><td>val_loss</td><td>█▆▅▄▄▅▅▆▇▇██▇▇▆▅▄▃▂▁</td></tr></table><br/></div><div class=\"wandb-col\"><h3>Run summary:</h3><br/><table class=\"wandb\"><tr><td>acc</td><td>0.97619</td></tr><tr><td>loss</td><td>0.38208</td></tr><tr><td>val_acc</td><td>0.95238</td></tr><tr><td>val_loss</td><td>0.40993</td></tr></table><br/></div></div>"
      ],
      "text/plain": [
       "<IPython.core.display.HTML object>"
      ]
     },
     "metadata": {},
     "output_type": "display_data"
    },
    {
     "data": {
      "text/html": [
       " View run <strong style=\"color:#cdcd00\">fearless-sweep-3</strong> at: <a href='https://wandb.ai/praptipatil01/Iris-Species-Classification/runs/9ubqlzk9' target=\"_blank\">https://wandb.ai/praptipatil01/Iris-Species-Classification/runs/9ubqlzk9</a><br/> View project at: <a href='https://wandb.ai/praptipatil01/Iris-Species-Classification' target=\"_blank\">https://wandb.ai/praptipatil01/Iris-Species-Classification</a><br/>Synced 5 W&B file(s), 0 media file(s), 5 artifact file(s) and 0 other file(s)"
      ],
      "text/plain": [
       "<IPython.core.display.HTML object>"
      ]
     },
     "metadata": {},
     "output_type": "display_data"
    },
    {
     "data": {
      "text/html": [
       "Find logs at: <code>.\\wandb\\run-20241021_210815-9ubqlzk9\\logs</code>"
      ],
      "text/plain": [
       "<IPython.core.display.HTML object>"
      ]
     },
     "metadata": {},
     "output_type": "display_data"
    },
    {
     "name": "stderr",
     "output_type": "stream",
     "text": [
      "wandb: Agent Starting Run: cz0ynlm2 with config:\n",
      "wandb: \tlearning_rate: 0.0991087017663071\n",
      "wandb: \tnum_blocks: 1\n",
      "wandb: \toptimizer: adam\n",
      "wandb: \tunits_1: 160\n",
      "wandb: \tunits_2: 40\n",
      "wandb: WARNING Ignored wandb.init() arg project when running a sweep.\n"
     ]
    },
    {
     "data": {
      "text/html": [
       "Tracking run with wandb version 0.18.5"
      ],
      "text/plain": [
       "<IPython.core.display.HTML object>"
      ]
     },
     "metadata": {},
     "output_type": "display_data"
    },
    {
     "data": {
      "text/html": [
       "Run data is saved locally in <code>c:\\Users\\prapt\\Desktop\\Deep Learning\\DL_Basics\\TensorFlow in Action\\wandb\\run-20241021_210842-cz0ynlm2</code>"
      ],
      "text/plain": [
       "<IPython.core.display.HTML object>"
      ]
     },
     "metadata": {},
     "output_type": "display_data"
    },
    {
     "data": {
      "text/html": [
       "Syncing run <strong><a href='https://wandb.ai/praptipatil01/Iris-Species-Classification/runs/cz0ynlm2' target=\"_blank\">eager-sweep-4</a></strong> to <a href='https://wandb.ai/praptipatil01/Iris-Species-Classification' target=\"_blank\">Weights & Biases</a> (<a href='https://wandb.me/run' target=\"_blank\">docs</a>)<br/>Sweep page: <a href='https://wandb.ai/praptipatil01/Iris-Species-Classification/sweeps/ekxr9ovf' target=\"_blank\">https://wandb.ai/praptipatil01/Iris-Species-Classification/sweeps/ekxr9ovf</a>"
      ],
      "text/plain": [
       "<IPython.core.display.HTML object>"
      ]
     },
     "metadata": {},
     "output_type": "display_data"
    },
    {
     "data": {
      "text/html": [
       " View project at <a href='https://wandb.ai/praptipatil01/Iris-Species-Classification' target=\"_blank\">https://wandb.ai/praptipatil01/Iris-Species-Classification</a>"
      ],
      "text/plain": [
       "<IPython.core.display.HTML object>"
      ]
     },
     "metadata": {},
     "output_type": "display_data"
    },
    {
     "data": {
      "text/html": [
       " View sweep at <a href='https://wandb.ai/praptipatil01/Iris-Species-Classification/sweeps/ekxr9ovf' target=\"_blank\">https://wandb.ai/praptipatil01/Iris-Species-Classification/sweeps/ekxr9ovf</a>"
      ],
      "text/plain": [
       "<IPython.core.display.HTML object>"
      ]
     },
     "metadata": {},
     "output_type": "display_data"
    },
    {
     "data": {
      "text/html": [
       " View run at <a href='https://wandb.ai/praptipatil01/Iris-Species-Classification/runs/cz0ynlm2' target=\"_blank\">https://wandb.ai/praptipatil01/Iris-Species-Classification/runs/cz0ynlm2</a>"
      ],
      "text/plain": [
       "<IPython.core.display.HTML object>"
      ]
     },
     "metadata": {},
     "output_type": "display_data"
    },
    {
     "name": "stderr",
     "output_type": "stream",
     "text": [
      "[D 241021 21:08:44 3472603808:23] Number of records: Train -  84, Val - 21\n"
     ]
    },
    {
     "data": {
      "text/html": [
       "<pre style=\"white-space:pre;overflow-x:auto;line-height:normal;font-family:Menlo,'DejaVu Sans Mono',consolas,'Courier New',monospace\"><span style=\"font-weight: bold\">Model: \"iris-top2_pca\"</span>\n",
       "</pre>\n"
      ],
      "text/plain": [
       "\u001b[1mModel: \"iris-top2_pca\"\u001b[0m\n"
      ]
     },
     "metadata": {},
     "output_type": "display_data"
    },
    {
     "data": {
      "text/html": [
       "<pre style=\"white-space:pre;overflow-x:auto;line-height:normal;font-family:Menlo,'DejaVu Sans Mono',consolas,'Courier New',monospace\">┏━━━━━━━━━━━━━━━━━━━━━┳━━━━━━━━━━━━━━━━━━━┳━━━━━━━━━━━━┳━━━━━━━━━━━━━━━━━━━┓\n",
       "┃<span style=\"font-weight: bold\"> Layer (type)        </span>┃<span style=\"font-weight: bold\"> Output Shape      </span>┃<span style=\"font-weight: bold\">    Param # </span>┃<span style=\"font-weight: bold\"> Connected to      </span>┃\n",
       "┡━━━━━━━━━━━━━━━━━━━━━╇━━━━━━━━━━━━━━━━━━━╇━━━━━━━━━━━━╇━━━━━━━━━━━━━━━━━━━┩\n",
       "│ input_layer         │ (<span style=\"color: #00d7ff; text-decoration-color: #00d7ff\">None</span>, <span style=\"color: #00af00; text-decoration-color: #00af00\">4</span>)         │          <span style=\"color: #00af00; text-decoration-color: #00af00\">0</span> │ -                 │\n",
       "│ (<span style=\"color: #0087ff; text-decoration-color: #0087ff\">InputLayer</span>)        │                   │            │                   │\n",
       "├─────────────────────┼───────────────────┼────────────┼───────────────────┤\n",
       "│ input_layer_1       │ (<span style=\"color: #00d7ff; text-decoration-color: #00d7ff\">None</span>, <span style=\"color: #00af00; text-decoration-color: #00af00\">2</span>)         │          <span style=\"color: #00af00; text-decoration-color: #00af00\">0</span> │ -                 │\n",
       "│ (<span style=\"color: #0087ff; text-decoration-color: #0087ff\">InputLayer</span>)        │                   │            │                   │\n",
       "├─────────────────────┼───────────────────┼────────────┼───────────────────┤\n",
       "│ dense (<span style=\"color: #0087ff; text-decoration-color: #0087ff\">Dense</span>)       │ (<span style=\"color: #00d7ff; text-decoration-color: #00d7ff\">None</span>, <span style=\"color: #00af00; text-decoration-color: #00af00\">16</span>)        │         <span style=\"color: #00af00; text-decoration-color: #00af00\">80</span> │ input_layer[<span style=\"color: #00af00; text-decoration-color: #00af00\">0</span>][<span style=\"color: #00af00; text-decoration-color: #00af00\">0</span>] │\n",
       "├─────────────────────┼───────────────────┼────────────┼───────────────────┤\n",
       "│ dense_1 (<span style=\"color: #0087ff; text-decoration-color: #0087ff\">Dense</span>)     │ (<span style=\"color: #00d7ff; text-decoration-color: #00d7ff\">None</span>, <span style=\"color: #00af00; text-decoration-color: #00af00\">16</span>)        │         <span style=\"color: #00af00; text-decoration-color: #00af00\">48</span> │ input_layer_1[<span style=\"color: #00af00; text-decoration-color: #00af00\">0</span>]… │\n",
       "├─────────────────────┼───────────────────┼────────────┼───────────────────┤\n",
       "│ concatenate         │ (<span style=\"color: #00d7ff; text-decoration-color: #00d7ff\">None</span>, <span style=\"color: #00af00; text-decoration-color: #00af00\">32</span>)        │          <span style=\"color: #00af00; text-decoration-color: #00af00\">0</span> │ dense[<span style=\"color: #00af00; text-decoration-color: #00af00\">0</span>][<span style=\"color: #00af00; text-decoration-color: #00af00\">0</span>],      │\n",
       "│ (<span style=\"color: #0087ff; text-decoration-color: #0087ff\">Concatenate</span>)       │                   │            │ dense_1[<span style=\"color: #00af00; text-decoration-color: #00af00\">0</span>][<span style=\"color: #00af00; text-decoration-color: #00af00\">0</span>]     │\n",
       "├─────────────────────┼───────────────────┼────────────┼───────────────────┤\n",
       "│ dense_2 (<span style=\"color: #0087ff; text-decoration-color: #0087ff\">Dense</span>)     │ (<span style=\"color: #00d7ff; text-decoration-color: #00d7ff\">None</span>, <span style=\"color: #00af00; text-decoration-color: #00af00\">160</span>)       │      <span style=\"color: #00af00; text-decoration-color: #00af00\">5,280</span> │ concatenate[<span style=\"color: #00af00; text-decoration-color: #00af00\">0</span>][<span style=\"color: #00af00; text-decoration-color: #00af00\">0</span>] │\n",
       "├─────────────────────┼───────────────────┼────────────┼───────────────────┤\n",
       "│ dense_3 (<span style=\"color: #0087ff; text-decoration-color: #0087ff\">Dense</span>)     │ (<span style=\"color: #00d7ff; text-decoration-color: #00d7ff\">None</span>, <span style=\"color: #00af00; text-decoration-color: #00af00\">40</span>)        │      <span style=\"color: #00af00; text-decoration-color: #00af00\">6,440</span> │ dense_2[<span style=\"color: #00af00; text-decoration-color: #00af00\">0</span>][<span style=\"color: #00af00; text-decoration-color: #00af00\">0</span>]     │\n",
       "├─────────────────────┼───────────────────┼────────────┼───────────────────┤\n",
       "│ dense_4 (<span style=\"color: #0087ff; text-decoration-color: #0087ff\">Dense</span>)     │ (<span style=\"color: #00d7ff; text-decoration-color: #00d7ff\">None</span>, <span style=\"color: #00af00; text-decoration-color: #00af00\">2</span>)         │         <span style=\"color: #00af00; text-decoration-color: #00af00\">82</span> │ dense_3[<span style=\"color: #00af00; text-decoration-color: #00af00\">0</span>][<span style=\"color: #00af00; text-decoration-color: #00af00\">0</span>]     │\n",
       "└─────────────────────┴───────────────────┴────────────┴───────────────────┘\n",
       "</pre>\n"
      ],
      "text/plain": [
       "┏━━━━━━━━━━━━━━━━━━━━━┳━━━━━━━━━━━━━━━━━━━┳━━━━━━━━━━━━┳━━━━━━━━━━━━━━━━━━━┓\n",
       "┃\u001b[1m \u001b[0m\u001b[1mLayer (type)       \u001b[0m\u001b[1m \u001b[0m┃\u001b[1m \u001b[0m\u001b[1mOutput Shape     \u001b[0m\u001b[1m \u001b[0m┃\u001b[1m \u001b[0m\u001b[1m   Param #\u001b[0m\u001b[1m \u001b[0m┃\u001b[1m \u001b[0m\u001b[1mConnected to     \u001b[0m\u001b[1m \u001b[0m┃\n",
       "┡━━━━━━━━━━━━━━━━━━━━━╇━━━━━━━━━━━━━━━━━━━╇━━━━━━━━━━━━╇━━━━━━━━━━━━━━━━━━━┩\n",
       "│ input_layer         │ (\u001b[38;5;45mNone\u001b[0m, \u001b[38;5;34m4\u001b[0m)         │          \u001b[38;5;34m0\u001b[0m │ -                 │\n",
       "│ (\u001b[38;5;33mInputLayer\u001b[0m)        │                   │            │                   │\n",
       "├─────────────────────┼───────────────────┼────────────┼───────────────────┤\n",
       "│ input_layer_1       │ (\u001b[38;5;45mNone\u001b[0m, \u001b[38;5;34m2\u001b[0m)         │          \u001b[38;5;34m0\u001b[0m │ -                 │\n",
       "│ (\u001b[38;5;33mInputLayer\u001b[0m)        │                   │            │                   │\n",
       "├─────────────────────┼───────────────────┼────────────┼───────────────────┤\n",
       "│ dense (\u001b[38;5;33mDense\u001b[0m)       │ (\u001b[38;5;45mNone\u001b[0m, \u001b[38;5;34m16\u001b[0m)        │         \u001b[38;5;34m80\u001b[0m │ input_layer[\u001b[38;5;34m0\u001b[0m][\u001b[38;5;34m0\u001b[0m] │\n",
       "├─────────────────────┼───────────────────┼────────────┼───────────────────┤\n",
       "│ dense_1 (\u001b[38;5;33mDense\u001b[0m)     │ (\u001b[38;5;45mNone\u001b[0m, \u001b[38;5;34m16\u001b[0m)        │         \u001b[38;5;34m48\u001b[0m │ input_layer_1[\u001b[38;5;34m0\u001b[0m]… │\n",
       "├─────────────────────┼───────────────────┼────────────┼───────────────────┤\n",
       "│ concatenate         │ (\u001b[38;5;45mNone\u001b[0m, \u001b[38;5;34m32\u001b[0m)        │          \u001b[38;5;34m0\u001b[0m │ dense[\u001b[38;5;34m0\u001b[0m][\u001b[38;5;34m0\u001b[0m],      │\n",
       "│ (\u001b[38;5;33mConcatenate\u001b[0m)       │                   │            │ dense_1[\u001b[38;5;34m0\u001b[0m][\u001b[38;5;34m0\u001b[0m]     │\n",
       "├─────────────────────┼───────────────────┼────────────┼───────────────────┤\n",
       "│ dense_2 (\u001b[38;5;33mDense\u001b[0m)     │ (\u001b[38;5;45mNone\u001b[0m, \u001b[38;5;34m160\u001b[0m)       │      \u001b[38;5;34m5,280\u001b[0m │ concatenate[\u001b[38;5;34m0\u001b[0m][\u001b[38;5;34m0\u001b[0m] │\n",
       "├─────────────────────┼───────────────────┼────────────┼───────────────────┤\n",
       "│ dense_3 (\u001b[38;5;33mDense\u001b[0m)     │ (\u001b[38;5;45mNone\u001b[0m, \u001b[38;5;34m40\u001b[0m)        │      \u001b[38;5;34m6,440\u001b[0m │ dense_2[\u001b[38;5;34m0\u001b[0m][\u001b[38;5;34m0\u001b[0m]     │\n",
       "├─────────────────────┼───────────────────┼────────────┼───────────────────┤\n",
       "│ dense_4 (\u001b[38;5;33mDense\u001b[0m)     │ (\u001b[38;5;45mNone\u001b[0m, \u001b[38;5;34m2\u001b[0m)         │         \u001b[38;5;34m82\u001b[0m │ dense_3[\u001b[38;5;34m0\u001b[0m][\u001b[38;5;34m0\u001b[0m]     │\n",
       "└─────────────────────┴───────────────────┴────────────┴───────────────────┘\n"
      ]
     },
     "metadata": {},
     "output_type": "display_data"
    },
    {
     "data": {
      "text/html": [
       "<pre style=\"white-space:pre;overflow-x:auto;line-height:normal;font-family:Menlo,'DejaVu Sans Mono',consolas,'Courier New',monospace\"><span style=\"font-weight: bold\"> Total params: </span><span style=\"color: #00af00; text-decoration-color: #00af00\">11,930</span> (46.60 KB)\n",
       "</pre>\n"
      ],
      "text/plain": [
       "\u001b[1m Total params: \u001b[0m\u001b[38;5;34m11,930\u001b[0m (46.60 KB)\n"
      ]
     },
     "metadata": {},
     "output_type": "display_data"
    },
    {
     "data": {
      "text/html": [
       "<pre style=\"white-space:pre;overflow-x:auto;line-height:normal;font-family:Menlo,'DejaVu Sans Mono',consolas,'Courier New',monospace\"><span style=\"font-weight: bold\"> Trainable params: </span><span style=\"color: #00af00; text-decoration-color: #00af00\">11,930</span> (46.60 KB)\n",
       "</pre>\n"
      ],
      "text/plain": [
       "\u001b[1m Trainable params: \u001b[0m\u001b[38;5;34m11,930\u001b[0m (46.60 KB)\n"
      ]
     },
     "metadata": {},
     "output_type": "display_data"
    },
    {
     "data": {
      "text/html": [
       "<pre style=\"white-space:pre;overflow-x:auto;line-height:normal;font-family:Menlo,'DejaVu Sans Mono',consolas,'Courier New',monospace\"><span style=\"font-weight: bold\"> Non-trainable params: </span><span style=\"color: #00af00; text-decoration-color: #00af00\">0</span> (0.00 B)\n",
       "</pre>\n"
      ],
      "text/plain": [
       "\u001b[1m Non-trainable params: \u001b[0m\u001b[38;5;34m0\u001b[0m (0.00 B)\n"
      ]
     },
     "metadata": {},
     "output_type": "display_data"
    },
    {
     "name": "stderr",
     "output_type": "stream",
     "text": [
      "[D 241021 21:08:44 3472603808:29] Model_name: iris-top2_pca\n"
     ]
    },
    {
     "name": "stdout",
     "output_type": "stream",
     "text": [
      "Epoch 1/20\n"
     ]
    },
    {
     "name": "stderr",
     "output_type": "stream",
     "text": [
      "c:\\Users\\prapt\\Desktop\\Deep Learning\\DL_Basics\\DL_WS\\Lib\\site-packages\\keras\\src\\models\\functional.py:225: UserWarning: The structure of `inputs` doesn't match the expected structure: ['keras_tensor', 'keras_tensor_1']. Received: the structure of inputs=('*', '*')\n",
      "  warnings.warn(\n"
     ]
    },
    {
     "name": "stdout",
     "output_type": "stream",
     "text": [
      "1/1 ━━━━━━━━━━━━━━━━━━━━ 0s 2s/step - acc: 0.3333 - loss: 0.6121"
     ]
    },
    {
     "name": "stderr",
     "output_type": "stream",
     "text": [
      "c:\\Users\\prapt\\Desktop\\Deep Learning\\DL_Basics\\DL_WS\\Lib\\site-packages\\keras\\src\\models\\functional.py:225: UserWarning: The structure of `inputs` doesn't match the expected structure: ['keras_tensor', 'keras_tensor_1']. Received: the structure of inputs=('*', '*')\n",
      "  warnings.warn(\n"
     ]
    },
    {
     "name": "stdout",
     "output_type": "stream",
     "text": [
      "INFO:tensorflow:Assets written to: models/iris/iris-functional_api\\assets\n"
     ]
    },
    {
     "name": "stderr",
     "output_type": "stream",
     "text": [
      "INFO:tensorflow:Assets written to: models/iris/iris-functional_api\\assets\n"
     ]
    },
    {
     "name": "stdout",
     "output_type": "stream",
     "text": [
      "1/1 ━━━━━━━━━━━━━━━━━━━━ 2s 2s/step - acc: 0.3333 - loss: 0.6121 - val_acc: 0.4762 - val_loss: 0.4920\n",
      "Epoch 2/20\n",
      "1/1 ━━━━━━━━━━━━━━━━━━━━ 0s 51ms/step - acc: 0.3333 - loss: 0.54 ━━━━━━━━━━━━━━━━━━━━ 0s 106ms/step - acc: 0.3333 - loss: 0.5474 - val_acc: 0.4762 - val_loss: 0.4735\n",
      "Epoch 3/20\n",
      "1/1 ━━━━━━━━━━━━━━━━━━━━ 0s 48ms/step - acc: 0.3333 - loss: 0.50 ━━━━━━━━━━━━━━━━━━━━ 0s 95ms/step - acc: 0.3333 - loss: 0.5006 - val_acc: 0.4762 - val_loss: 0.4642\n",
      "Epoch 4/20\n",
      "1/1 ━━━━━━━━━━━━━━━━━━━━ 0s 32ms/step - acc: 0.3333 - loss: 0.4688INFO:tensorflow:Assets written to: models/iris/iris-functional_api\\assets\n"
     ]
    },
    {
     "name": "stderr",
     "output_type": "stream",
     "text": [
      "INFO:tensorflow:Assets written to: models/iris/iris-functional_api\\assets\n"
     ]
    },
    {
     "name": "stdout",
     "output_type": "stream",
     "text": [
      "1/1 ━━━━━━━━━━━━━━━━━━━━ 1s 581ms/step - acc: 0.3333 - loss: 0.4688 - val_acc: 0.5238 - val_loss: 0.4598\n",
      "Epoch 5/20\n",
      "1/1 ━━━━━━━━━━━━━━━━━━━━ 0s 47ms/step - acc: 0.3571 - loss: 0.4469INFO:tensorflow:Assets written to: models/iris/iris-functional_api\\assets\n"
     ]
    },
    {
     "name": "stderr",
     "output_type": "stream",
     "text": [
      "INFO:tensorflow:Assets written to: models/iris/iris-functional_api\\assets\n"
     ]
    },
    {
     "name": "stdout",
     "output_type": "stream",
     "text": [
      "1/1 ━━━━━━━━━━━━━━━━━━━━ 1s 576ms/step - acc: 0.3571 - loss: 0.4469 - val_acc: 0.6190 - val_loss: 0.4585\n",
      "Epoch 6/20\n",
      "1/1 ━━━━━━━━━━━━━━━━━━━━ 0s 42ms/step - acc: 0.4524 - loss: 0.4310INFO:tensorflow:Assets written to: models/iris/iris-functional_api\\assets\n"
     ]
    },
    {
     "name": "stderr",
     "output_type": "stream",
     "text": [
      "INFO:tensorflow:Assets written to: models/iris/iris-functional_api\\assets\n"
     ]
    },
    {
     "name": "stdout",
     "output_type": "stream",
     "text": [
      "1/1 ━━━━━━━━━━━━━━━━━━━━ 1s 617ms/step - acc: 0.4524 - loss: 0.4310 - val_acc: 0.7143 - val_loss: 0.4577\n",
      "Epoch 7/20\n",
      "1/1 ━━━━━━━━━━━━━━━━━━━━ 0s 31ms/step - acc: 0.6429 - loss: 0.41 ━━━━━━━━━━━━━━━━━━━━ 0s 91ms/step - acc: 0.6429 - loss: 0.4196 - val_acc: 0.7143 - val_loss: 0.4552\n",
      "Epoch 8/20\n",
      "1/1 ━━━━━━━━━━━━━━━━━━━━ 0s 27ms/step - acc: 0.7024 - loss: 0.4114INFO:tensorflow:Assets written to: models/iris/iris-functional_api\\assets\n"
     ]
    },
    {
     "name": "stderr",
     "output_type": "stream",
     "text": [
      "INFO:tensorflow:Assets written to: models/iris/iris-functional_api\\assets\n"
     ]
    },
    {
     "name": "stdout",
     "output_type": "stream",
     "text": [
      "1/1 ━━━━━━━━━━━━━━━━━━━━ 0s 498ms/step - acc: 0.7024 - loss: 0.4114 - val_acc: 0.8095 - val_loss: 0.4484\n",
      "Epoch 9/20\n",
      "1/1 ━━━━━━━━━━━━━━━━━━━━ 0s 38ms/step - acc: 0.7500 - loss: 0.4024INFO:tensorflow:Assets written to: models/iris/iris-functional_api\\assets\n"
     ]
    },
    {
     "name": "stderr",
     "output_type": "stream",
     "text": [
      "INFO:tensorflow:Assets written to: models/iris/iris-functional_api\\assets\n"
     ]
    },
    {
     "name": "stdout",
     "output_type": "stream",
     "text": [
      "1/1 ━━━━━━━━━━━━━━━━━━━━ 1s 523ms/step - acc: 0.7500 - loss: 0.4024 - val_acc: 0.8571 - val_loss: 0.4370\n",
      "Epoch 10/20\n",
      "1/1 ━━━━━━━━━━━━━━━━━━━━ 0s 40ms/step - acc: 0.9167 - loss: 0.3920INFO:tensorflow:Assets written to: models/iris/iris-functional_api\\assets\n"
     ]
    },
    {
     "name": "stderr",
     "output_type": "stream",
     "text": [
      "INFO:tensorflow:Assets written to: models/iris/iris-functional_api\\assets\n"
     ]
    },
    {
     "name": "stdout",
     "output_type": "stream",
     "text": [
      "1/1 ━━━━━━━━━━━━━━━━━━━━ 1s 611ms/step - acc: 0.9167 - loss: 0.3920 - val_acc: 0.9048 - val_loss: 0.4219\n",
      "Epoch 11/20\n",
      "1/1 ━━━━━━━━━━━━━━━━━━━━ 0s 49ms/step - acc: 0.9643 - loss: 0.3803INFO:tensorflow:Assets written to: models/iris/iris-functional_api\\assets\n"
     ]
    },
    {
     "name": "stderr",
     "output_type": "stream",
     "text": [
      "INFO:tensorflow:Assets written to: models/iris/iris-functional_api\\assets\n"
     ]
    },
    {
     "name": "stdout",
     "output_type": "stream",
     "text": [
      "1/1 ━━━━━━━━━━━━━━━━━━━━ 1s 500ms/step - acc: 0.9643 - loss: 0.3803 - val_acc: 0.9524 - val_loss: 0.4054\n",
      "Epoch 12/20\n",
      "1/1 ━━━━━━━━━━━━━━━━━━━━ 0s 43ms/step - acc: 0.9762 - loss: 0.36 ━━━━━━━━━━━━━━━━━━━━ 0s 91ms/step - acc: 0.9762 - loss: 0.3689 - val_acc: 0.9524 - val_loss: 0.3899\n",
      "Epoch 13/20\n",
      "1/1 ━━━━━━━━━━━━━━━━━━━━ 0s 34ms/step - acc: 0.9762 - loss: 0.35 ━━━━━━━━━━━━━━━━━━━━ 0s 79ms/step - acc: 0.9762 - loss: 0.3587 - val_acc: 0.9524 - val_loss: 0.3759\n",
      "Epoch 14/20\n",
      "1/1 ━━━━━━━━━━━━━━━━━━━━ 0s 36ms/step - acc: 0.9762 - loss: 0.3495INFO:tensorflow:Assets written to: models/iris/iris-functional_api\\assets\n"
     ]
    },
    {
     "name": "stderr",
     "output_type": "stream",
     "text": [
      "INFO:tensorflow:Assets written to: models/iris/iris-functional_api\\assets\n"
     ]
    },
    {
     "name": "stdout",
     "output_type": "stream",
     "text": [
      "1/1 ━━━━━━━━━━━━━━━━━━━━ 1s 539ms/step - acc: 0.9762 - loss: 0.3495 - val_acc: 1.0000 - val_loss: 0.3630\n",
      "Epoch 15/20\n",
      "1/1 ━━━━━━━━━━━━━━━━━━━━ 0s 128ms/step - acc: 0.9643 - loss: 0.340 ━━━━━━━━━━━━━━━━━━━━ 0s 171ms/step - acc: 0.9643 - loss: 0.3409 - val_acc: 1.0000 - val_loss: 0.3514\n",
      "Epoch 16/20\n",
      "1/1 ━━━━━━━━━━━━━━━━━━━━ 0s 30ms/step - acc: 0.9405 - loss: 0.33 ━━━━━━━━━━━━━━━━━━━━ 0s 81ms/step - acc: 0.9405 - loss: 0.3327 - val_acc: 1.0000 - val_loss: 0.3408\n",
      "Epoch 17/20\n",
      "1/1 ━━━━━━━━━━━━━━━━━━━━ 0s 40ms/step - acc: 0.9405 - loss: 0.32 ━━━━━━━━━━━━━━━━━━━━ 0s 86ms/step - acc: 0.9405 - loss: 0.3247 - val_acc: 1.0000 - val_loss: 0.3310\n",
      "Epoch 18/20\n",
      "1/1 ━━━━━━━━━━━━━━━━━━━━ 0s 40ms/step - acc: 0.9405 - loss: 0.31 ━━━━━━━━━━━━━━━━━━━━ 0s 86ms/step - acc: 0.9405 - loss: 0.3165 - val_acc: 1.0000 - val_loss: 0.3220\n",
      "Epoch 19/20\n",
      "1/1 ━━━━━━━━━━━━━━━━━━━━ 0s 33ms/step - acc: 0.9762 - loss: 0.30 ━━━━━━━━━━━━━━━━━━━━ 0s 75ms/step - acc: 0.9762 - loss: 0.3081 - val_acc: 1.0000 - val_loss: 0.3138\n",
      "Epoch 20/20\n",
      "1/1 ━━━━━━━━━━━━━━━━━━━━ 0s 34ms/step - acc: 0.9762 - loss: 0.29 ━━━━━━━━━━━━━━━━━━━━ 0s 78ms/step - acc: 0.9762 - loss: 0.2996 - val_acc: 1.0000 - val_loss: 0.3063\n"
     ]
    },
    {
     "name": "stderr",
     "output_type": "stream",
     "text": [
      "wandb: Adding directory to artifact (.\\models\\iris\\iris-functional_api)... Done. 0.0s\n"
     ]
    },
    {
     "data": {
      "text/html": [
       "<style>\n",
       "    table.wandb td:nth-child(1) { padding: 0 10px; text-align: left ; width: auto;} td:nth-child(2) {text-align: left ; width: 100%}\n",
       "    .wandb-row { display: flex; flex-direction: row; flex-wrap: wrap; justify-content: flex-start; width: 100% }\n",
       "    .wandb-col { display: flex; flex-direction: column; flex-basis: 100%; flex: 1; padding: 10px; }\n",
       "    </style>\n",
       "<div class=\"wandb-row\"><div class=\"wandb-col\"><h3>Run history:</h3><br/><table class=\"wandb\"><tr><td>acc</td><td>▁▁▁▁▁▂▄▅▆▇██████████</td></tr><tr><td>loss</td><td>█▇▆▅▄▄▄▄▃▃▃▃▂▂▂▂▂▁▁▁</td></tr><tr><td>val_acc</td><td>▁▁▁▂▃▄▄▅▆▇▇▇▇███████</td></tr><tr><td>val_loss</td><td>█▇▇▇▇▇▇▆▆▅▅▄▄▃▃▂▂▂▁▁</td></tr></table><br/></div><div class=\"wandb-col\"><h3>Run summary:</h3><br/><table class=\"wandb\"><tr><td>acc</td><td>0.97619</td></tr><tr><td>loss</td><td>0.29959</td></tr><tr><td>val_acc</td><td>1</td></tr><tr><td>val_loss</td><td>0.30628</td></tr></table><br/></div></div>"
      ],
      "text/plain": [
       "<IPython.core.display.HTML object>"
      ]
     },
     "metadata": {},
     "output_type": "display_data"
    },
    {
     "data": {
      "text/html": [
       " View run <strong style=\"color:#cdcd00\">eager-sweep-4</strong> at: <a href='https://wandb.ai/praptipatil01/Iris-Species-Classification/runs/cz0ynlm2' target=\"_blank\">https://wandb.ai/praptipatil01/Iris-Species-Classification/runs/cz0ynlm2</a><br/> View project at: <a href='https://wandb.ai/praptipatil01/Iris-Species-Classification' target=\"_blank\">https://wandb.ai/praptipatil01/Iris-Species-Classification</a><br/>Synced 5 W&B file(s), 0 media file(s), 5 artifact file(s) and 0 other file(s)"
      ],
      "text/plain": [
       "<IPython.core.display.HTML object>"
      ]
     },
     "metadata": {},
     "output_type": "display_data"
    },
    {
     "data": {
      "text/html": [
       "Find logs at: <code>.\\wandb\\run-20241021_210842-cz0ynlm2\\logs</code>"
      ],
      "text/plain": [
       "<IPython.core.display.HTML object>"
      ]
     },
     "metadata": {},
     "output_type": "display_data"
    },
    {
     "name": "stderr",
     "output_type": "stream",
     "text": [
      "wandb: Agent Starting Run: 192lj4ic with config:\n",
      "wandb: \tlearning_rate: 0.028373058124067208\n",
      "wandb: \tnum_blocks: 6\n",
      "wandb: \toptimizer: adam\n",
      "wandb: \tunits_1: 160\n",
      "wandb: \tunits_2: 152\n",
      "wandb: WARNING Ignored wandb.init() arg project when running a sweep.\n"
     ]
    },
    {
     "data": {
      "text/html": [
       "Tracking run with wandb version 0.18.5"
      ],
      "text/plain": [
       "<IPython.core.display.HTML object>"
      ]
     },
     "metadata": {},
     "output_type": "display_data"
    },
    {
     "data": {
      "text/html": [
       "Run data is saved locally in <code>c:\\Users\\prapt\\Desktop\\Deep Learning\\DL_Basics\\TensorFlow in Action\\wandb\\run-20241021_210905-192lj4ic</code>"
      ],
      "text/plain": [
       "<IPython.core.display.HTML object>"
      ]
     },
     "metadata": {},
     "output_type": "display_data"
    },
    {
     "data": {
      "text/html": [
       "Syncing run <strong><a href='https://wandb.ai/praptipatil01/Iris-Species-Classification/runs/192lj4ic' target=\"_blank\">swift-sweep-5</a></strong> to <a href='https://wandb.ai/praptipatil01/Iris-Species-Classification' target=\"_blank\">Weights & Biases</a> (<a href='https://wandb.me/run' target=\"_blank\">docs</a>)<br/>Sweep page: <a href='https://wandb.ai/praptipatil01/Iris-Species-Classification/sweeps/ekxr9ovf' target=\"_blank\">https://wandb.ai/praptipatil01/Iris-Species-Classification/sweeps/ekxr9ovf</a>"
      ],
      "text/plain": [
       "<IPython.core.display.HTML object>"
      ]
     },
     "metadata": {},
     "output_type": "display_data"
    },
    {
     "data": {
      "text/html": [
       " View project at <a href='https://wandb.ai/praptipatil01/Iris-Species-Classification' target=\"_blank\">https://wandb.ai/praptipatil01/Iris-Species-Classification</a>"
      ],
      "text/plain": [
       "<IPython.core.display.HTML object>"
      ]
     },
     "metadata": {},
     "output_type": "display_data"
    },
    {
     "data": {
      "text/html": [
       " View sweep at <a href='https://wandb.ai/praptipatil01/Iris-Species-Classification/sweeps/ekxr9ovf' target=\"_blank\">https://wandb.ai/praptipatil01/Iris-Species-Classification/sweeps/ekxr9ovf</a>"
      ],
      "text/plain": [
       "<IPython.core.display.HTML object>"
      ]
     },
     "metadata": {},
     "output_type": "display_data"
    },
    {
     "data": {
      "text/html": [
       " View run at <a href='https://wandb.ai/praptipatil01/Iris-Species-Classification/runs/192lj4ic' target=\"_blank\">https://wandb.ai/praptipatil01/Iris-Species-Classification/runs/192lj4ic</a>"
      ],
      "text/plain": [
       "<IPython.core.display.HTML object>"
      ]
     },
     "metadata": {},
     "output_type": "display_data"
    },
    {
     "name": "stderr",
     "output_type": "stream",
     "text": [
      "[D 241021 21:09:06 3472603808:23] Number of records: Train -  84, Val - 21\n"
     ]
    },
    {
     "data": {
      "text/html": [
       "<pre style=\"white-space:pre;overflow-x:auto;line-height:normal;font-family:Menlo,'DejaVu Sans Mono',consolas,'Courier New',monospace\"><span style=\"font-weight: bold\">Model: \"iris-top2_pca\"</span>\n",
       "</pre>\n"
      ],
      "text/plain": [
       "\u001b[1mModel: \"iris-top2_pca\"\u001b[0m\n"
      ]
     },
     "metadata": {},
     "output_type": "display_data"
    },
    {
     "data": {
      "text/html": [
       "<pre style=\"white-space:pre;overflow-x:auto;line-height:normal;font-family:Menlo,'DejaVu Sans Mono',consolas,'Courier New',monospace\">┏━━━━━━━━━━━━━━━━━━━━━┳━━━━━━━━━━━━━━━━━━━┳━━━━━━━━━━━━┳━━━━━━━━━━━━━━━━━━━┓\n",
       "┃<span style=\"font-weight: bold\"> Layer (type)        </span>┃<span style=\"font-weight: bold\"> Output Shape      </span>┃<span style=\"font-weight: bold\">    Param # </span>┃<span style=\"font-weight: bold\"> Connected to      </span>┃\n",
       "┡━━━━━━━━━━━━━━━━━━━━━╇━━━━━━━━━━━━━━━━━━━╇━━━━━━━━━━━━╇━━━━━━━━━━━━━━━━━━━┩\n",
       "│ input_layer         │ (<span style=\"color: #00d7ff; text-decoration-color: #00d7ff\">None</span>, <span style=\"color: #00af00; text-decoration-color: #00af00\">4</span>)         │          <span style=\"color: #00af00; text-decoration-color: #00af00\">0</span> │ -                 │\n",
       "│ (<span style=\"color: #0087ff; text-decoration-color: #0087ff\">InputLayer</span>)        │                   │            │                   │\n",
       "├─────────────────────┼───────────────────┼────────────┼───────────────────┤\n",
       "│ input_layer_1       │ (<span style=\"color: #00d7ff; text-decoration-color: #00d7ff\">None</span>, <span style=\"color: #00af00; text-decoration-color: #00af00\">2</span>)         │          <span style=\"color: #00af00; text-decoration-color: #00af00\">0</span> │ -                 │\n",
       "│ (<span style=\"color: #0087ff; text-decoration-color: #0087ff\">InputLayer</span>)        │                   │            │                   │\n",
       "├─────────────────────┼───────────────────┼────────────┼───────────────────┤\n",
       "│ dense (<span style=\"color: #0087ff; text-decoration-color: #0087ff\">Dense</span>)       │ (<span style=\"color: #00d7ff; text-decoration-color: #00d7ff\">None</span>, <span style=\"color: #00af00; text-decoration-color: #00af00\">16</span>)        │         <span style=\"color: #00af00; text-decoration-color: #00af00\">80</span> │ input_layer[<span style=\"color: #00af00; text-decoration-color: #00af00\">0</span>][<span style=\"color: #00af00; text-decoration-color: #00af00\">0</span>] │\n",
       "├─────────────────────┼───────────────────┼────────────┼───────────────────┤\n",
       "│ dense_1 (<span style=\"color: #0087ff; text-decoration-color: #0087ff\">Dense</span>)     │ (<span style=\"color: #00d7ff; text-decoration-color: #00d7ff\">None</span>, <span style=\"color: #00af00; text-decoration-color: #00af00\">16</span>)        │         <span style=\"color: #00af00; text-decoration-color: #00af00\">48</span> │ input_layer_1[<span style=\"color: #00af00; text-decoration-color: #00af00\">0</span>]… │\n",
       "├─────────────────────┼───────────────────┼────────────┼───────────────────┤\n",
       "│ concatenate         │ (<span style=\"color: #00d7ff; text-decoration-color: #00d7ff\">None</span>, <span style=\"color: #00af00; text-decoration-color: #00af00\">32</span>)        │          <span style=\"color: #00af00; text-decoration-color: #00af00\">0</span> │ dense[<span style=\"color: #00af00; text-decoration-color: #00af00\">0</span>][<span style=\"color: #00af00; text-decoration-color: #00af00\">0</span>],      │\n",
       "│ (<span style=\"color: #0087ff; text-decoration-color: #0087ff\">Concatenate</span>)       │                   │            │ dense_1[<span style=\"color: #00af00; text-decoration-color: #00af00\">0</span>][<span style=\"color: #00af00; text-decoration-color: #00af00\">0</span>]     │\n",
       "├─────────────────────┼───────────────────┼────────────┼───────────────────┤\n",
       "│ dense_2 (<span style=\"color: #0087ff; text-decoration-color: #0087ff\">Dense</span>)     │ (<span style=\"color: #00d7ff; text-decoration-color: #00d7ff\">None</span>, <span style=\"color: #00af00; text-decoration-color: #00af00\">160</span>)       │      <span style=\"color: #00af00; text-decoration-color: #00af00\">5,280</span> │ concatenate[<span style=\"color: #00af00; text-decoration-color: #00af00\">0</span>][<span style=\"color: #00af00; text-decoration-color: #00af00\">0</span>] │\n",
       "├─────────────────────┼───────────────────┼────────────┼───────────────────┤\n",
       "│ dense_3 (<span style=\"color: #0087ff; text-decoration-color: #0087ff\">Dense</span>)     │ (<span style=\"color: #00d7ff; text-decoration-color: #00d7ff\">None</span>, <span style=\"color: #00af00; text-decoration-color: #00af00\">152</span>)       │     <span style=\"color: #00af00; text-decoration-color: #00af00\">24,472</span> │ dense_2[<span style=\"color: #00af00; text-decoration-color: #00af00\">0</span>][<span style=\"color: #00af00; text-decoration-color: #00af00\">0</span>]     │\n",
       "├─────────────────────┼───────────────────┼────────────┼───────────────────┤\n",
       "│ dense_4 (<span style=\"color: #0087ff; text-decoration-color: #0087ff\">Dense</span>)     │ (<span style=\"color: #00d7ff; text-decoration-color: #00d7ff\">None</span>, <span style=\"color: #00af00; text-decoration-color: #00af00\">160</span>)       │     <span style=\"color: #00af00; text-decoration-color: #00af00\">24,480</span> │ dense_3[<span style=\"color: #00af00; text-decoration-color: #00af00\">0</span>][<span style=\"color: #00af00; text-decoration-color: #00af00\">0</span>]     │\n",
       "├─────────────────────┼───────────────────┼────────────┼───────────────────┤\n",
       "│ dense_5 (<span style=\"color: #0087ff; text-decoration-color: #0087ff\">Dense</span>)     │ (<span style=\"color: #00d7ff; text-decoration-color: #00d7ff\">None</span>, <span style=\"color: #00af00; text-decoration-color: #00af00\">152</span>)       │     <span style=\"color: #00af00; text-decoration-color: #00af00\">24,472</span> │ dense_4[<span style=\"color: #00af00; text-decoration-color: #00af00\">0</span>][<span style=\"color: #00af00; text-decoration-color: #00af00\">0</span>]     │\n",
       "├─────────────────────┼───────────────────┼────────────┼───────────────────┤\n",
       "│ dense_6 (<span style=\"color: #0087ff; text-decoration-color: #0087ff\">Dense</span>)     │ (<span style=\"color: #00d7ff; text-decoration-color: #00d7ff\">None</span>, <span style=\"color: #00af00; text-decoration-color: #00af00\">160</span>)       │     <span style=\"color: #00af00; text-decoration-color: #00af00\">24,480</span> │ dense_5[<span style=\"color: #00af00; text-decoration-color: #00af00\">0</span>][<span style=\"color: #00af00; text-decoration-color: #00af00\">0</span>]     │\n",
       "├─────────────────────┼───────────────────┼────────────┼───────────────────┤\n",
       "│ dense_7 (<span style=\"color: #0087ff; text-decoration-color: #0087ff\">Dense</span>)     │ (<span style=\"color: #00d7ff; text-decoration-color: #00d7ff\">None</span>, <span style=\"color: #00af00; text-decoration-color: #00af00\">152</span>)       │     <span style=\"color: #00af00; text-decoration-color: #00af00\">24,472</span> │ dense_6[<span style=\"color: #00af00; text-decoration-color: #00af00\">0</span>][<span style=\"color: #00af00; text-decoration-color: #00af00\">0</span>]     │\n",
       "├─────────────────────┼───────────────────┼────────────┼───────────────────┤\n",
       "│ dense_8 (<span style=\"color: #0087ff; text-decoration-color: #0087ff\">Dense</span>)     │ (<span style=\"color: #00d7ff; text-decoration-color: #00d7ff\">None</span>, <span style=\"color: #00af00; text-decoration-color: #00af00\">160</span>)       │     <span style=\"color: #00af00; text-decoration-color: #00af00\">24,480</span> │ dense_7[<span style=\"color: #00af00; text-decoration-color: #00af00\">0</span>][<span style=\"color: #00af00; text-decoration-color: #00af00\">0</span>]     │\n",
       "├─────────────────────┼───────────────────┼────────────┼───────────────────┤\n",
       "│ dense_9 (<span style=\"color: #0087ff; text-decoration-color: #0087ff\">Dense</span>)     │ (<span style=\"color: #00d7ff; text-decoration-color: #00d7ff\">None</span>, <span style=\"color: #00af00; text-decoration-color: #00af00\">152</span>)       │     <span style=\"color: #00af00; text-decoration-color: #00af00\">24,472</span> │ dense_8[<span style=\"color: #00af00; text-decoration-color: #00af00\">0</span>][<span style=\"color: #00af00; text-decoration-color: #00af00\">0</span>]     │\n",
       "├─────────────────────┼───────────────────┼────────────┼───────────────────┤\n",
       "│ dense_10 (<span style=\"color: #0087ff; text-decoration-color: #0087ff\">Dense</span>)    │ (<span style=\"color: #00d7ff; text-decoration-color: #00d7ff\">None</span>, <span style=\"color: #00af00; text-decoration-color: #00af00\">160</span>)       │     <span style=\"color: #00af00; text-decoration-color: #00af00\">24,480</span> │ dense_9[<span style=\"color: #00af00; text-decoration-color: #00af00\">0</span>][<span style=\"color: #00af00; text-decoration-color: #00af00\">0</span>]     │\n",
       "├─────────────────────┼───────────────────┼────────────┼───────────────────┤\n",
       "│ dense_11 (<span style=\"color: #0087ff; text-decoration-color: #0087ff\">Dense</span>)    │ (<span style=\"color: #00d7ff; text-decoration-color: #00d7ff\">None</span>, <span style=\"color: #00af00; text-decoration-color: #00af00\">152</span>)       │     <span style=\"color: #00af00; text-decoration-color: #00af00\">24,472</span> │ dense_10[<span style=\"color: #00af00; text-decoration-color: #00af00\">0</span>][<span style=\"color: #00af00; text-decoration-color: #00af00\">0</span>]    │\n",
       "├─────────────────────┼───────────────────┼────────────┼───────────────────┤\n",
       "│ dense_12 (<span style=\"color: #0087ff; text-decoration-color: #0087ff\">Dense</span>)    │ (<span style=\"color: #00d7ff; text-decoration-color: #00d7ff\">None</span>, <span style=\"color: #00af00; text-decoration-color: #00af00\">160</span>)       │     <span style=\"color: #00af00; text-decoration-color: #00af00\">24,480</span> │ dense_11[<span style=\"color: #00af00; text-decoration-color: #00af00\">0</span>][<span style=\"color: #00af00; text-decoration-color: #00af00\">0</span>]    │\n",
       "├─────────────────────┼───────────────────┼────────────┼───────────────────┤\n",
       "│ dense_13 (<span style=\"color: #0087ff; text-decoration-color: #0087ff\">Dense</span>)    │ (<span style=\"color: #00d7ff; text-decoration-color: #00d7ff\">None</span>, <span style=\"color: #00af00; text-decoration-color: #00af00\">152</span>)       │     <span style=\"color: #00af00; text-decoration-color: #00af00\">24,472</span> │ dense_12[<span style=\"color: #00af00; text-decoration-color: #00af00\">0</span>][<span style=\"color: #00af00; text-decoration-color: #00af00\">0</span>]    │\n",
       "├─────────────────────┼───────────────────┼────────────┼───────────────────┤\n",
       "│ dense_14 (<span style=\"color: #0087ff; text-decoration-color: #0087ff\">Dense</span>)    │ (<span style=\"color: #00d7ff; text-decoration-color: #00d7ff\">None</span>, <span style=\"color: #00af00; text-decoration-color: #00af00\">2</span>)         │        <span style=\"color: #00af00; text-decoration-color: #00af00\">306</span> │ dense_13[<span style=\"color: #00af00; text-decoration-color: #00af00\">0</span>][<span style=\"color: #00af00; text-decoration-color: #00af00\">0</span>]    │\n",
       "└─────────────────────┴───────────────────┴────────────┴───────────────────┘\n",
       "</pre>\n"
      ],
      "text/plain": [
       "┏━━━━━━━━━━━━━━━━━━━━━┳━━━━━━━━━━━━━━━━━━━┳━━━━━━━━━━━━┳━━━━━━━━━━━━━━━━━━━┓\n",
       "┃\u001b[1m \u001b[0m\u001b[1mLayer (type)       \u001b[0m\u001b[1m \u001b[0m┃\u001b[1m \u001b[0m\u001b[1mOutput Shape     \u001b[0m\u001b[1m \u001b[0m┃\u001b[1m \u001b[0m\u001b[1m   Param #\u001b[0m\u001b[1m \u001b[0m┃\u001b[1m \u001b[0m\u001b[1mConnected to     \u001b[0m\u001b[1m \u001b[0m┃\n",
       "┡━━━━━━━━━━━━━━━━━━━━━╇━━━━━━━━━━━━━━━━━━━╇━━━━━━━━━━━━╇━━━━━━━━━━━━━━━━━━━┩\n",
       "│ input_layer         │ (\u001b[38;5;45mNone\u001b[0m, \u001b[38;5;34m4\u001b[0m)         │          \u001b[38;5;34m0\u001b[0m │ -                 │\n",
       "│ (\u001b[38;5;33mInputLayer\u001b[0m)        │                   │            │                   │\n",
       "├─────────────────────┼───────────────────┼────────────┼───────────────────┤\n",
       "│ input_layer_1       │ (\u001b[38;5;45mNone\u001b[0m, \u001b[38;5;34m2\u001b[0m)         │          \u001b[38;5;34m0\u001b[0m │ -                 │\n",
       "│ (\u001b[38;5;33mInputLayer\u001b[0m)        │                   │            │                   │\n",
       "├─────────────────────┼───────────────────┼────────────┼───────────────────┤\n",
       "│ dense (\u001b[38;5;33mDense\u001b[0m)       │ (\u001b[38;5;45mNone\u001b[0m, \u001b[38;5;34m16\u001b[0m)        │         \u001b[38;5;34m80\u001b[0m │ input_layer[\u001b[38;5;34m0\u001b[0m][\u001b[38;5;34m0\u001b[0m] │\n",
       "├─────────────────────┼───────────────────┼────────────┼───────────────────┤\n",
       "│ dense_1 (\u001b[38;5;33mDense\u001b[0m)     │ (\u001b[38;5;45mNone\u001b[0m, \u001b[38;5;34m16\u001b[0m)        │         \u001b[38;5;34m48\u001b[0m │ input_layer_1[\u001b[38;5;34m0\u001b[0m]… │\n",
       "├─────────────────────┼───────────────────┼────────────┼───────────────────┤\n",
       "│ concatenate         │ (\u001b[38;5;45mNone\u001b[0m, \u001b[38;5;34m32\u001b[0m)        │          \u001b[38;5;34m0\u001b[0m │ dense[\u001b[38;5;34m0\u001b[0m][\u001b[38;5;34m0\u001b[0m],      │\n",
       "│ (\u001b[38;5;33mConcatenate\u001b[0m)       │                   │            │ dense_1[\u001b[38;5;34m0\u001b[0m][\u001b[38;5;34m0\u001b[0m]     │\n",
       "├─────────────────────┼───────────────────┼────────────┼───────────────────┤\n",
       "│ dense_2 (\u001b[38;5;33mDense\u001b[0m)     │ (\u001b[38;5;45mNone\u001b[0m, \u001b[38;5;34m160\u001b[0m)       │      \u001b[38;5;34m5,280\u001b[0m │ concatenate[\u001b[38;5;34m0\u001b[0m][\u001b[38;5;34m0\u001b[0m] │\n",
       "├─────────────────────┼───────────────────┼────────────┼───────────────────┤\n",
       "│ dense_3 (\u001b[38;5;33mDense\u001b[0m)     │ (\u001b[38;5;45mNone\u001b[0m, \u001b[38;5;34m152\u001b[0m)       │     \u001b[38;5;34m24,472\u001b[0m │ dense_2[\u001b[38;5;34m0\u001b[0m][\u001b[38;5;34m0\u001b[0m]     │\n",
       "├─────────────────────┼───────────────────┼────────────┼───────────────────┤\n",
       "│ dense_4 (\u001b[38;5;33mDense\u001b[0m)     │ (\u001b[38;5;45mNone\u001b[0m, \u001b[38;5;34m160\u001b[0m)       │     \u001b[38;5;34m24,480\u001b[0m │ dense_3[\u001b[38;5;34m0\u001b[0m][\u001b[38;5;34m0\u001b[0m]     │\n",
       "├─────────────────────┼───────────────────┼────────────┼───────────────────┤\n",
       "│ dense_5 (\u001b[38;5;33mDense\u001b[0m)     │ (\u001b[38;5;45mNone\u001b[0m, \u001b[38;5;34m152\u001b[0m)       │     \u001b[38;5;34m24,472\u001b[0m │ dense_4[\u001b[38;5;34m0\u001b[0m][\u001b[38;5;34m0\u001b[0m]     │\n",
       "├─────────────────────┼───────────────────┼────────────┼───────────────────┤\n",
       "│ dense_6 (\u001b[38;5;33mDense\u001b[0m)     │ (\u001b[38;5;45mNone\u001b[0m, \u001b[38;5;34m160\u001b[0m)       │     \u001b[38;5;34m24,480\u001b[0m │ dense_5[\u001b[38;5;34m0\u001b[0m][\u001b[38;5;34m0\u001b[0m]     │\n",
       "├─────────────────────┼───────────────────┼────────────┼───────────────────┤\n",
       "│ dense_7 (\u001b[38;5;33mDense\u001b[0m)     │ (\u001b[38;5;45mNone\u001b[0m, \u001b[38;5;34m152\u001b[0m)       │     \u001b[38;5;34m24,472\u001b[0m │ dense_6[\u001b[38;5;34m0\u001b[0m][\u001b[38;5;34m0\u001b[0m]     │\n",
       "├─────────────────────┼───────────────────┼────────────┼───────────────────┤\n",
       "│ dense_8 (\u001b[38;5;33mDense\u001b[0m)     │ (\u001b[38;5;45mNone\u001b[0m, \u001b[38;5;34m160\u001b[0m)       │     \u001b[38;5;34m24,480\u001b[0m │ dense_7[\u001b[38;5;34m0\u001b[0m][\u001b[38;5;34m0\u001b[0m]     │\n",
       "├─────────────────────┼───────────────────┼────────────┼───────────────────┤\n",
       "│ dense_9 (\u001b[38;5;33mDense\u001b[0m)     │ (\u001b[38;5;45mNone\u001b[0m, \u001b[38;5;34m152\u001b[0m)       │     \u001b[38;5;34m24,472\u001b[0m │ dense_8[\u001b[38;5;34m0\u001b[0m][\u001b[38;5;34m0\u001b[0m]     │\n",
       "├─────────────────────┼───────────────────┼────────────┼───────────────────┤\n",
       "│ dense_10 (\u001b[38;5;33mDense\u001b[0m)    │ (\u001b[38;5;45mNone\u001b[0m, \u001b[38;5;34m160\u001b[0m)       │     \u001b[38;5;34m24,480\u001b[0m │ dense_9[\u001b[38;5;34m0\u001b[0m][\u001b[38;5;34m0\u001b[0m]     │\n",
       "├─────────────────────┼───────────────────┼────────────┼───────────────────┤\n",
       "│ dense_11 (\u001b[38;5;33mDense\u001b[0m)    │ (\u001b[38;5;45mNone\u001b[0m, \u001b[38;5;34m152\u001b[0m)       │     \u001b[38;5;34m24,472\u001b[0m │ dense_10[\u001b[38;5;34m0\u001b[0m][\u001b[38;5;34m0\u001b[0m]    │\n",
       "├─────────────────────┼───────────────────┼────────────┼───────────────────┤\n",
       "│ dense_12 (\u001b[38;5;33mDense\u001b[0m)    │ (\u001b[38;5;45mNone\u001b[0m, \u001b[38;5;34m160\u001b[0m)       │     \u001b[38;5;34m24,480\u001b[0m │ dense_11[\u001b[38;5;34m0\u001b[0m][\u001b[38;5;34m0\u001b[0m]    │\n",
       "├─────────────────────┼───────────────────┼────────────┼───────────────────┤\n",
       "│ dense_13 (\u001b[38;5;33mDense\u001b[0m)    │ (\u001b[38;5;45mNone\u001b[0m, \u001b[38;5;34m152\u001b[0m)       │     \u001b[38;5;34m24,472\u001b[0m │ dense_12[\u001b[38;5;34m0\u001b[0m][\u001b[38;5;34m0\u001b[0m]    │\n",
       "├─────────────────────┼───────────────────┼────────────┼───────────────────┤\n",
       "│ dense_14 (\u001b[38;5;33mDense\u001b[0m)    │ (\u001b[38;5;45mNone\u001b[0m, \u001b[38;5;34m2\u001b[0m)         │        \u001b[38;5;34m306\u001b[0m │ dense_13[\u001b[38;5;34m0\u001b[0m][\u001b[38;5;34m0\u001b[0m]    │\n",
       "└─────────────────────┴───────────────────┴────────────┴───────────────────┘\n"
      ]
     },
     "metadata": {},
     "output_type": "display_data"
    },
    {
     "data": {
      "text/html": [
       "<pre style=\"white-space:pre;overflow-x:auto;line-height:normal;font-family:Menlo,'DejaVu Sans Mono',consolas,'Courier New',monospace\"><span style=\"font-weight: bold\"> Total params: </span><span style=\"color: #00af00; text-decoration-color: #00af00\">274,946</span> (1.05 MB)\n",
       "</pre>\n"
      ],
      "text/plain": [
       "\u001b[1m Total params: \u001b[0m\u001b[38;5;34m274,946\u001b[0m (1.05 MB)\n"
      ]
     },
     "metadata": {},
     "output_type": "display_data"
    },
    {
     "data": {
      "text/html": [
       "<pre style=\"white-space:pre;overflow-x:auto;line-height:normal;font-family:Menlo,'DejaVu Sans Mono',consolas,'Courier New',monospace\"><span style=\"font-weight: bold\"> Trainable params: </span><span style=\"color: #00af00; text-decoration-color: #00af00\">274,946</span> (1.05 MB)\n",
       "</pre>\n"
      ],
      "text/plain": [
       "\u001b[1m Trainable params: \u001b[0m\u001b[38;5;34m274,946\u001b[0m (1.05 MB)\n"
      ]
     },
     "metadata": {},
     "output_type": "display_data"
    },
    {
     "data": {
      "text/html": [
       "<pre style=\"white-space:pre;overflow-x:auto;line-height:normal;font-family:Menlo,'DejaVu Sans Mono',consolas,'Courier New',monospace\"><span style=\"font-weight: bold\"> Non-trainable params: </span><span style=\"color: #00af00; text-decoration-color: #00af00\">0</span> (0.00 B)\n",
       "</pre>\n"
      ],
      "text/plain": [
       "\u001b[1m Non-trainable params: \u001b[0m\u001b[38;5;34m0\u001b[0m (0.00 B)\n"
      ]
     },
     "metadata": {},
     "output_type": "display_data"
    },
    {
     "name": "stderr",
     "output_type": "stream",
     "text": [
      "[D 241021 21:09:07 3472603808:29] Model_name: iris-top2_pca\n"
     ]
    },
    {
     "name": "stdout",
     "output_type": "stream",
     "text": [
      "Epoch 1/20\n"
     ]
    },
    {
     "name": "stderr",
     "output_type": "stream",
     "text": [
      "c:\\Users\\prapt\\Desktop\\Deep Learning\\DL_Basics\\DL_WS\\Lib\\site-packages\\keras\\src\\models\\functional.py:225: UserWarning: The structure of `inputs` doesn't match the expected structure: ['keras_tensor', 'keras_tensor_1']. Received: the structure of inputs=('*', '*')\n",
      "  warnings.warn(\n"
     ]
    },
    {
     "name": "stdout",
     "output_type": "stream",
     "text": [
      "1/1 ━━━━━━━━━━━━━━━━━━━━ 0s 4s/step - acc: 0.6667 - loss: 0.4808"
     ]
    },
    {
     "name": "stderr",
     "output_type": "stream",
     "text": [
      "c:\\Users\\prapt\\Desktop\\Deep Learning\\DL_Basics\\DL_WS\\Lib\\site-packages\\keras\\src\\models\\functional.py:225: UserWarning: The structure of `inputs` doesn't match the expected structure: ['keras_tensor', 'keras_tensor_1']. Received: the structure of inputs=('*', '*')\n",
      "  warnings.warn(\n"
     ]
    },
    {
     "name": "stdout",
     "output_type": "stream",
     "text": [
      "INFO:tensorflow:Assets written to: models/iris/iris-functional_api\\assets\n"
     ]
    },
    {
     "name": "stderr",
     "output_type": "stream",
     "text": [
      "INFO:tensorflow:Assets written to: models/iris/iris-functional_api\\assets\n"
     ]
    },
    {
     "name": "stdout",
     "output_type": "stream",
     "text": [
      "1/1 ━━━━━━━━━━━━━━━━━━━━ 6s 6s/step - acc: 0.6667 - loss: 0.4808 - val_acc: 0.5238 - val_loss: 0.5339\n",
      "Epoch 2/20\n",
      "1/1 ━━━━━━━━━━━━━━━━━━━━ 0s 42ms/step - acc: 0.6667 - loss: 0.47 ━━━━━━━━━━━━━━━━━━━━ 0s 90ms/step - acc: 0.6667 - loss: 0.4792 - val_acc: 0.5238 - val_loss: 0.5343\n",
      "Epoch 3/20\n",
      "1/1 ━━━━━━━━━━━━━━━━━━━━ 0s 43ms/step - acc: 0.6667 - loss: 0.47 ━━━━━━━━━━━━━━━━━━━━ 0s 87ms/step - acc: 0.6667 - loss: 0.4771 - val_acc: 0.5238 - val_loss: 0.5395\n",
      "Epoch 4/20\n",
      "1/1 ━━━━━━━━━━━━━━━━━━━━ 0s 44ms/step - acc: 0.6667 - loss: 0.47 ━━━━━━━━━━━━━━━━━━━━ 0s 86ms/step - acc: 0.6667 - loss: 0.4775 - val_acc: 0.5238 - val_loss: 0.5409\n",
      "Epoch 5/20\n",
      "1/1 ━━━━━━━━━━━━━━━━━━━━ 0s 50ms/step - acc: 0.6667 - loss: 0.47 ━━━━━━━━━━━━━━━━━━━━ 0s 103ms/step - acc: 0.6667 - loss: 0.4768 - val_acc: 0.5238 - val_loss: 0.5347\n",
      "Epoch 6/20\n",
      "1/1 ━━━━━━━━━━━━━━━━━━━━ 0s 46ms/step - acc: 0.6667 - loss: 0.4748INFO:tensorflow:Assets written to: models/iris/iris-functional_api\\assets\n"
     ]
    },
    {
     "name": "stderr",
     "output_type": "stream",
     "text": [
      "INFO:tensorflow:Assets written to: models/iris/iris-functional_api\\assets\n"
     ]
    },
    {
     "name": "stdout",
     "output_type": "stream",
     "text": [
      "1/1 ━━━━━━━━━━━━━━━━━━━━ 2s 2s/step - acc: 0.6667 - loss: 0.4748 - val_acc: 0.7143 - val_loss: 0.5177\n",
      "Epoch 7/20\n",
      "1/1 ━━━━━━━━━━━━━━━━━━━━ 0s 32ms/step - acc: 0.6786 - loss: 0.47 ━━━━━━━━━━━━━━━━━━━━ 0s 95ms/step - acc: 0.6786 - loss: 0.4722 - val_acc: 0.4762 - val_loss: 0.4938\n",
      "Epoch 8/20\n",
      "1/1 ━━━━━━━━━━━━━━━━━━━━ 0s 49ms/step - acc: 0.3333 - loss: 0.47 ━━━━━━━━━━━━━━━━━━━━ 0s 108ms/step - acc: 0.3333 - loss: 0.4765 - val_acc: 0.4762 - val_loss: 0.5025\n",
      "Epoch 9/20\n",
      "1/1 ━━━━━━━━━━━━━━━━━━━━ 0s 40ms/step - acc: 0.3333 - loss: 0.47 ━━━━━━━━━━━━━━━━━━━━ 0s 92ms/step - acc: 0.3333 - loss: 0.4722 - val_acc: 0.5238 - val_loss: 0.5721\n",
      "Epoch 10/20\n",
      "1/1 ━━━━━━━━━━━━━━━━━━━━ 0s 41ms/step - acc: 0.6667 - loss: 0.48 ━━━━━━━━━━━━━━━━━━━━ 0s 102ms/step - acc: 0.6667 - loss: 0.4862 - val_acc: 0.5238 - val_loss: 0.5498\n",
      "Epoch 11/20\n",
      "1/1 ━━━━━━━━━━━━━━━━━━━━ 0s 51ms/step - acc: 0.6667 - loss: 0.47 ━━━━━━━━━━━━━━━━━━━━ 0s 101ms/step - acc: 0.6667 - loss: 0.4769 - val_acc: 0.4762 - val_loss: 0.4819\n",
      "Epoch 12/20\n",
      "1/1 ━━━━━━━━━━━━━━━━━━━━ 0s 40ms/step - acc: 0.3333 - loss: 0.51 ━━━━━━━━━━━━━━━━━━━━ 0s 84ms/step - acc: 0.3333 - loss: 0.5138 - val_acc: 0.5238 - val_loss: 0.6723\n",
      "Epoch 13/20\n",
      "1/1 ━━━━━━━━━━━━━━━━━━━━ 0s 38ms/step - acc: 0.6667 - loss: 0.53 ━━━━━━━━━━━━━━━━━━━━ 0s 86ms/step - acc: 0.6667 - loss: 0.5316 - val_acc: 0.4762 - val_loss: 0.4968\n",
      "Epoch 14/20\n",
      "1/1 ━━━━━━━━━━━━━━━━━━━━ 0s 37ms/step - acc: 0.3333 - loss: 0.55 ━━━━━━━━━━━━━━━━━━━━ 0s 85ms/step - acc: 0.3333 - loss: 0.5565 - val_acc: 0.5238 - val_loss: 1.5726\n",
      "Epoch 15/20\n",
      "1/1 ━━━━━━━━━━━━━━━━━━━━ 0s 42ms/step - acc: 0.6667 - loss: 1.12 ━━━━━━━━━━━━━━━━━━━━ 0s 87ms/step - acc: 0.6667 - loss: 1.1292 - val_acc: 0.4762 - val_loss: 1.5765\n",
      "Epoch 16/20\n",
      "1/1 ━━━━━━━━━━━━━━━━━━━━ 0s 48ms/step - acc: 0.3333 - loss: 2.01 ━━━━━━━━━━━━━━━━━━━━ 0s 91ms/step - acc: 0.3333 - loss: 2.0197 - val_acc: 0.5238 - val_loss: 0.9216\n",
      "Epoch 17/20\n",
      "1/1 ━━━━━━━━━━━━━━━━━━━━ 0s 51ms/step - acc: 0.6667 - loss: 0.68 ━━━━━━━━━━━━━━━━━━━━ 0s 97ms/step - acc: 0.6667 - loss: 0.6842 - val_acc: 0.4762 - val_loss: 1.5850\n",
      "Epoch 18/20\n",
      "1/1 ━━━━━━━━━━━━━━━━━━━━ 0s 50ms/step - acc: 0.3333 - loss: 2.02 ━━━━━━━━━━━━━━━━━━━━ 0s 108ms/step - acc: 0.3333 - loss: 2.0295 - val_acc: 0.5238 - val_loss: 11.2814\n",
      "Epoch 19/20\n",
      "1/1 ━━━━━━━━━━━━━━━━━━━━ 0s 53ms/step - acc: 0.6667 - loss: 8.05 ━━━━━━━━━━━━━━━━━━━━ 0s 101ms/step - acc: 0.6667 - loss: 8.0574 - val_acc: 0.5238 - val_loss: 3.7698\n",
      "Epoch 20/20\n",
      "1/1 ━━━━━━━━━━━━━━━━━━━━ 0s 36ms/step - acc: 0.6667 - loss: 2.69 ━━━━━━━━━━━━━━━━━━━━ 0s 87ms/step - acc: 0.6667 - loss: 2.6919 - val_acc: 0.4762 - val_loss: 22.6833\n"
     ]
    },
    {
     "name": "stderr",
     "output_type": "stream",
     "text": [
      "wandb: Adding directory to artifact (.\\models\\iris\\iris-functional_api)... Done. 0.1s\n"
     ]
    },
    {
     "data": {
      "text/html": [
       "<style>\n",
       "    table.wandb td:nth-child(1) { padding: 0 10px; text-align: left ; width: auto;} td:nth-child(2) {text-align: left ; width: 100%}\n",
       "    .wandb-row { display: flex; flex-direction: row; flex-wrap: wrap; justify-content: flex-start; width: 100% }\n",
       "    .wandb-col { display: flex; flex-direction: column; flex-basis: 100%; flex: 1; padding: 10px; }\n",
       "    </style>\n",
       "<div class=\"wandb-row\"><div class=\"wandb-col\"><h3>Run history:</h3><br/><table class=\"wandb\"><tr><td>acc</td><td>███████▁▁██▁█▁█▁█▁██</td></tr><tr><td>loss</td><td>▁▁▁▁▁▁▁▁▁▁▁▁▁▁▂▂▁▂█▃</td></tr><tr><td>val_acc</td><td>▂▂▂▂▂█▁▁▂▂▁▂▁▂▁▂▁▂▂▁</td></tr><tr><td>val_loss</td><td>▁▁▁▁▁▁▁▁▁▁▁▁▁▁▁▁▁▄▂█</td></tr></table><br/></div><div class=\"wandb-col\"><h3>Run summary:</h3><br/><table class=\"wandb\"><tr><td>acc</td><td>0.66667</td></tr><tr><td>loss</td><td>2.69192</td></tr><tr><td>val_acc</td><td>0.47619</td></tr><tr><td>val_loss</td><td>22.6833</td></tr></table><br/></div></div>"
      ],
      "text/plain": [
       "<IPython.core.display.HTML object>"
      ]
     },
     "metadata": {},
     "output_type": "display_data"
    },
    {
     "data": {
      "text/html": [
       " View run <strong style=\"color:#cdcd00\">swift-sweep-5</strong> at: <a href='https://wandb.ai/praptipatil01/Iris-Species-Classification/runs/192lj4ic' target=\"_blank\">https://wandb.ai/praptipatil01/Iris-Species-Classification/runs/192lj4ic</a><br/> View project at: <a href='https://wandb.ai/praptipatil01/Iris-Species-Classification' target=\"_blank\">https://wandb.ai/praptipatil01/Iris-Species-Classification</a><br/>Synced 5 W&B file(s), 0 media file(s), 5 artifact file(s) and 0 other file(s)"
      ],
      "text/plain": [
       "<IPython.core.display.HTML object>"
      ]
     },
     "metadata": {},
     "output_type": "display_data"
    },
    {
     "data": {
      "text/html": [
       "Find logs at: <code>.\\wandb\\run-20241021_210905-192lj4ic\\logs</code>"
      ],
      "text/plain": [
       "<IPython.core.display.HTML object>"
      ]
     },
     "metadata": {},
     "output_type": "display_data"
    },
    {
     "name": "stderr",
     "output_type": "stream",
     "text": [
      "wandb: Agent Starting Run: fnsm4d01 with config:\n",
      "wandb: \tlearning_rate: 0.0552513278565832\n",
      "wandb: \tnum_blocks: 4\n",
      "wandb: \toptimizer: sgd\n",
      "wandb: \tunits_1: 496\n",
      "wandb: \tunits_2: 120\n",
      "wandb: WARNING Ignored wandb.init() arg project when running a sweep.\n"
     ]
    },
    {
     "data": {
      "text/html": [
       "Tracking run with wandb version 0.18.5"
      ],
      "text/plain": [
       "<IPython.core.display.HTML object>"
      ]
     },
     "metadata": {},
     "output_type": "display_data"
    },
    {
     "data": {
      "text/html": [
       "Run data is saved locally in <code>c:\\Users\\prapt\\Desktop\\Deep Learning\\DL_Basics\\TensorFlow in Action\\wandb\\run-20241021_210931-fnsm4d01</code>"
      ],
      "text/plain": [
       "<IPython.core.display.HTML object>"
      ]
     },
     "metadata": {},
     "output_type": "display_data"
    },
    {
     "data": {
      "text/html": [
       "Syncing run <strong><a href='https://wandb.ai/praptipatil01/Iris-Species-Classification/runs/fnsm4d01' target=\"_blank\">drawn-sweep-6</a></strong> to <a href='https://wandb.ai/praptipatil01/Iris-Species-Classification' target=\"_blank\">Weights & Biases</a> (<a href='https://wandb.me/run' target=\"_blank\">docs</a>)<br/>Sweep page: <a href='https://wandb.ai/praptipatil01/Iris-Species-Classification/sweeps/ekxr9ovf' target=\"_blank\">https://wandb.ai/praptipatil01/Iris-Species-Classification/sweeps/ekxr9ovf</a>"
      ],
      "text/plain": [
       "<IPython.core.display.HTML object>"
      ]
     },
     "metadata": {},
     "output_type": "display_data"
    },
    {
     "data": {
      "text/html": [
       " View project at <a href='https://wandb.ai/praptipatil01/Iris-Species-Classification' target=\"_blank\">https://wandb.ai/praptipatil01/Iris-Species-Classification</a>"
      ],
      "text/plain": [
       "<IPython.core.display.HTML object>"
      ]
     },
     "metadata": {},
     "output_type": "display_data"
    },
    {
     "data": {
      "text/html": [
       " View sweep at <a href='https://wandb.ai/praptipatil01/Iris-Species-Classification/sweeps/ekxr9ovf' target=\"_blank\">https://wandb.ai/praptipatil01/Iris-Species-Classification/sweeps/ekxr9ovf</a>"
      ],
      "text/plain": [
       "<IPython.core.display.HTML object>"
      ]
     },
     "metadata": {},
     "output_type": "display_data"
    },
    {
     "data": {
      "text/html": [
       " View run at <a href='https://wandb.ai/praptipatil01/Iris-Species-Classification/runs/fnsm4d01' target=\"_blank\">https://wandb.ai/praptipatil01/Iris-Species-Classification/runs/fnsm4d01</a>"
      ],
      "text/plain": [
       "<IPython.core.display.HTML object>"
      ]
     },
     "metadata": {},
     "output_type": "display_data"
    },
    {
     "name": "stderr",
     "output_type": "stream",
     "text": [
      "[D 241021 21:09:33 3472603808:23] Number of records: Train -  84, Val - 21\n"
     ]
    },
    {
     "data": {
      "text/html": [
       "<pre style=\"white-space:pre;overflow-x:auto;line-height:normal;font-family:Menlo,'DejaVu Sans Mono',consolas,'Courier New',monospace\"><span style=\"font-weight: bold\">Model: \"iris-top2_pca\"</span>\n",
       "</pre>\n"
      ],
      "text/plain": [
       "\u001b[1mModel: \"iris-top2_pca\"\u001b[0m\n"
      ]
     },
     "metadata": {},
     "output_type": "display_data"
    },
    {
     "data": {
      "text/html": [
       "<pre style=\"white-space:pre;overflow-x:auto;line-height:normal;font-family:Menlo,'DejaVu Sans Mono',consolas,'Courier New',monospace\">┏━━━━━━━━━━━━━━━━━━━━━┳━━━━━━━━━━━━━━━━━━━┳━━━━━━━━━━━━┳━━━━━━━━━━━━━━━━━━━┓\n",
       "┃<span style=\"font-weight: bold\"> Layer (type)        </span>┃<span style=\"font-weight: bold\"> Output Shape      </span>┃<span style=\"font-weight: bold\">    Param # </span>┃<span style=\"font-weight: bold\"> Connected to      </span>┃\n",
       "┡━━━━━━━━━━━━━━━━━━━━━╇━━━━━━━━━━━━━━━━━━━╇━━━━━━━━━━━━╇━━━━━━━━━━━━━━━━━━━┩\n",
       "│ input_layer         │ (<span style=\"color: #00d7ff; text-decoration-color: #00d7ff\">None</span>, <span style=\"color: #00af00; text-decoration-color: #00af00\">4</span>)         │          <span style=\"color: #00af00; text-decoration-color: #00af00\">0</span> │ -                 │\n",
       "│ (<span style=\"color: #0087ff; text-decoration-color: #0087ff\">InputLayer</span>)        │                   │            │                   │\n",
       "├─────────────────────┼───────────────────┼────────────┼───────────────────┤\n",
       "│ input_layer_1       │ (<span style=\"color: #00d7ff; text-decoration-color: #00d7ff\">None</span>, <span style=\"color: #00af00; text-decoration-color: #00af00\">2</span>)         │          <span style=\"color: #00af00; text-decoration-color: #00af00\">0</span> │ -                 │\n",
       "│ (<span style=\"color: #0087ff; text-decoration-color: #0087ff\">InputLayer</span>)        │                   │            │                   │\n",
       "├─────────────────────┼───────────────────┼────────────┼───────────────────┤\n",
       "│ dense (<span style=\"color: #0087ff; text-decoration-color: #0087ff\">Dense</span>)       │ (<span style=\"color: #00d7ff; text-decoration-color: #00d7ff\">None</span>, <span style=\"color: #00af00; text-decoration-color: #00af00\">16</span>)        │         <span style=\"color: #00af00; text-decoration-color: #00af00\">80</span> │ input_layer[<span style=\"color: #00af00; text-decoration-color: #00af00\">0</span>][<span style=\"color: #00af00; text-decoration-color: #00af00\">0</span>] │\n",
       "├─────────────────────┼───────────────────┼────────────┼───────────────────┤\n",
       "│ dense_1 (<span style=\"color: #0087ff; text-decoration-color: #0087ff\">Dense</span>)     │ (<span style=\"color: #00d7ff; text-decoration-color: #00d7ff\">None</span>, <span style=\"color: #00af00; text-decoration-color: #00af00\">16</span>)        │         <span style=\"color: #00af00; text-decoration-color: #00af00\">48</span> │ input_layer_1[<span style=\"color: #00af00; text-decoration-color: #00af00\">0</span>]… │\n",
       "├─────────────────────┼───────────────────┼────────────┼───────────────────┤\n",
       "│ concatenate         │ (<span style=\"color: #00d7ff; text-decoration-color: #00d7ff\">None</span>, <span style=\"color: #00af00; text-decoration-color: #00af00\">32</span>)        │          <span style=\"color: #00af00; text-decoration-color: #00af00\">0</span> │ dense[<span style=\"color: #00af00; text-decoration-color: #00af00\">0</span>][<span style=\"color: #00af00; text-decoration-color: #00af00\">0</span>],      │\n",
       "│ (<span style=\"color: #0087ff; text-decoration-color: #0087ff\">Concatenate</span>)       │                   │            │ dense_1[<span style=\"color: #00af00; text-decoration-color: #00af00\">0</span>][<span style=\"color: #00af00; text-decoration-color: #00af00\">0</span>]     │\n",
       "├─────────────────────┼───────────────────┼────────────┼───────────────────┤\n",
       "│ dense_2 (<span style=\"color: #0087ff; text-decoration-color: #0087ff\">Dense</span>)     │ (<span style=\"color: #00d7ff; text-decoration-color: #00d7ff\">None</span>, <span style=\"color: #00af00; text-decoration-color: #00af00\">496</span>)       │     <span style=\"color: #00af00; text-decoration-color: #00af00\">16,368</span> │ concatenate[<span style=\"color: #00af00; text-decoration-color: #00af00\">0</span>][<span style=\"color: #00af00; text-decoration-color: #00af00\">0</span>] │\n",
       "├─────────────────────┼───────────────────┼────────────┼───────────────────┤\n",
       "│ dense_3 (<span style=\"color: #0087ff; text-decoration-color: #0087ff\">Dense</span>)     │ (<span style=\"color: #00d7ff; text-decoration-color: #00d7ff\">None</span>, <span style=\"color: #00af00; text-decoration-color: #00af00\">120</span>)       │     <span style=\"color: #00af00; text-decoration-color: #00af00\">59,640</span> │ dense_2[<span style=\"color: #00af00; text-decoration-color: #00af00\">0</span>][<span style=\"color: #00af00; text-decoration-color: #00af00\">0</span>]     │\n",
       "├─────────────────────┼───────────────────┼────────────┼───────────────────┤\n",
       "│ dense_4 (<span style=\"color: #0087ff; text-decoration-color: #0087ff\">Dense</span>)     │ (<span style=\"color: #00d7ff; text-decoration-color: #00d7ff\">None</span>, <span style=\"color: #00af00; text-decoration-color: #00af00\">496</span>)       │     <span style=\"color: #00af00; text-decoration-color: #00af00\">60,016</span> │ dense_3[<span style=\"color: #00af00; text-decoration-color: #00af00\">0</span>][<span style=\"color: #00af00; text-decoration-color: #00af00\">0</span>]     │\n",
       "├─────────────────────┼───────────────────┼────────────┼───────────────────┤\n",
       "│ dense_5 (<span style=\"color: #0087ff; text-decoration-color: #0087ff\">Dense</span>)     │ (<span style=\"color: #00d7ff; text-decoration-color: #00d7ff\">None</span>, <span style=\"color: #00af00; text-decoration-color: #00af00\">120</span>)       │     <span style=\"color: #00af00; text-decoration-color: #00af00\">59,640</span> │ dense_4[<span style=\"color: #00af00; text-decoration-color: #00af00\">0</span>][<span style=\"color: #00af00; text-decoration-color: #00af00\">0</span>]     │\n",
       "├─────────────────────┼───────────────────┼────────────┼───────────────────┤\n",
       "│ dense_6 (<span style=\"color: #0087ff; text-decoration-color: #0087ff\">Dense</span>)     │ (<span style=\"color: #00d7ff; text-decoration-color: #00d7ff\">None</span>, <span style=\"color: #00af00; text-decoration-color: #00af00\">496</span>)       │     <span style=\"color: #00af00; text-decoration-color: #00af00\">60,016</span> │ dense_5[<span style=\"color: #00af00; text-decoration-color: #00af00\">0</span>][<span style=\"color: #00af00; text-decoration-color: #00af00\">0</span>]     │\n",
       "├─────────────────────┼───────────────────┼────────────┼───────────────────┤\n",
       "│ dense_7 (<span style=\"color: #0087ff; text-decoration-color: #0087ff\">Dense</span>)     │ (<span style=\"color: #00d7ff; text-decoration-color: #00d7ff\">None</span>, <span style=\"color: #00af00; text-decoration-color: #00af00\">120</span>)       │     <span style=\"color: #00af00; text-decoration-color: #00af00\">59,640</span> │ dense_6[<span style=\"color: #00af00; text-decoration-color: #00af00\">0</span>][<span style=\"color: #00af00; text-decoration-color: #00af00\">0</span>]     │\n",
       "├─────────────────────┼───────────────────┼────────────┼───────────────────┤\n",
       "│ dense_8 (<span style=\"color: #0087ff; text-decoration-color: #0087ff\">Dense</span>)     │ (<span style=\"color: #00d7ff; text-decoration-color: #00d7ff\">None</span>, <span style=\"color: #00af00; text-decoration-color: #00af00\">496</span>)       │     <span style=\"color: #00af00; text-decoration-color: #00af00\">60,016</span> │ dense_7[<span style=\"color: #00af00; text-decoration-color: #00af00\">0</span>][<span style=\"color: #00af00; text-decoration-color: #00af00\">0</span>]     │\n",
       "├─────────────────────┼───────────────────┼────────────┼───────────────────┤\n",
       "│ dense_9 (<span style=\"color: #0087ff; text-decoration-color: #0087ff\">Dense</span>)     │ (<span style=\"color: #00d7ff; text-decoration-color: #00d7ff\">None</span>, <span style=\"color: #00af00; text-decoration-color: #00af00\">120</span>)       │     <span style=\"color: #00af00; text-decoration-color: #00af00\">59,640</span> │ dense_8[<span style=\"color: #00af00; text-decoration-color: #00af00\">0</span>][<span style=\"color: #00af00; text-decoration-color: #00af00\">0</span>]     │\n",
       "├─────────────────────┼───────────────────┼────────────┼───────────────────┤\n",
       "│ dense_10 (<span style=\"color: #0087ff; text-decoration-color: #0087ff\">Dense</span>)    │ (<span style=\"color: #00d7ff; text-decoration-color: #00d7ff\">None</span>, <span style=\"color: #00af00; text-decoration-color: #00af00\">2</span>)         │        <span style=\"color: #00af00; text-decoration-color: #00af00\">242</span> │ dense_9[<span style=\"color: #00af00; text-decoration-color: #00af00\">0</span>][<span style=\"color: #00af00; text-decoration-color: #00af00\">0</span>]     │\n",
       "└─────────────────────┴───────────────────┴────────────┴───────────────────┘\n",
       "</pre>\n"
      ],
      "text/plain": [
       "┏━━━━━━━━━━━━━━━━━━━━━┳━━━━━━━━━━━━━━━━━━━┳━━━━━━━━━━━━┳━━━━━━━━━━━━━━━━━━━┓\n",
       "┃\u001b[1m \u001b[0m\u001b[1mLayer (type)       \u001b[0m\u001b[1m \u001b[0m┃\u001b[1m \u001b[0m\u001b[1mOutput Shape     \u001b[0m\u001b[1m \u001b[0m┃\u001b[1m \u001b[0m\u001b[1m   Param #\u001b[0m\u001b[1m \u001b[0m┃\u001b[1m \u001b[0m\u001b[1mConnected to     \u001b[0m\u001b[1m \u001b[0m┃\n",
       "┡━━━━━━━━━━━━━━━━━━━━━╇━━━━━━━━━━━━━━━━━━━╇━━━━━━━━━━━━╇━━━━━━━━━━━━━━━━━━━┩\n",
       "│ input_layer         │ (\u001b[38;5;45mNone\u001b[0m, \u001b[38;5;34m4\u001b[0m)         │          \u001b[38;5;34m0\u001b[0m │ -                 │\n",
       "│ (\u001b[38;5;33mInputLayer\u001b[0m)        │                   │            │                   │\n",
       "├─────────────────────┼───────────────────┼────────────┼───────────────────┤\n",
       "│ input_layer_1       │ (\u001b[38;5;45mNone\u001b[0m, \u001b[38;5;34m2\u001b[0m)         │          \u001b[38;5;34m0\u001b[0m │ -                 │\n",
       "│ (\u001b[38;5;33mInputLayer\u001b[0m)        │                   │            │                   │\n",
       "├─────────────────────┼───────────────────┼────────────┼───────────────────┤\n",
       "│ dense (\u001b[38;5;33mDense\u001b[0m)       │ (\u001b[38;5;45mNone\u001b[0m, \u001b[38;5;34m16\u001b[0m)        │         \u001b[38;5;34m80\u001b[0m │ input_layer[\u001b[38;5;34m0\u001b[0m][\u001b[38;5;34m0\u001b[0m] │\n",
       "├─────────────────────┼───────────────────┼────────────┼───────────────────┤\n",
       "│ dense_1 (\u001b[38;5;33mDense\u001b[0m)     │ (\u001b[38;5;45mNone\u001b[0m, \u001b[38;5;34m16\u001b[0m)        │         \u001b[38;5;34m48\u001b[0m │ input_layer_1[\u001b[38;5;34m0\u001b[0m]… │\n",
       "├─────────────────────┼───────────────────┼────────────┼───────────────────┤\n",
       "│ concatenate         │ (\u001b[38;5;45mNone\u001b[0m, \u001b[38;5;34m32\u001b[0m)        │          \u001b[38;5;34m0\u001b[0m │ dense[\u001b[38;5;34m0\u001b[0m][\u001b[38;5;34m0\u001b[0m],      │\n",
       "│ (\u001b[38;5;33mConcatenate\u001b[0m)       │                   │            │ dense_1[\u001b[38;5;34m0\u001b[0m][\u001b[38;5;34m0\u001b[0m]     │\n",
       "├─────────────────────┼───────────────────┼────────────┼───────────────────┤\n",
       "│ dense_2 (\u001b[38;5;33mDense\u001b[0m)     │ (\u001b[38;5;45mNone\u001b[0m, \u001b[38;5;34m496\u001b[0m)       │     \u001b[38;5;34m16,368\u001b[0m │ concatenate[\u001b[38;5;34m0\u001b[0m][\u001b[38;5;34m0\u001b[0m] │\n",
       "├─────────────────────┼───────────────────┼────────────┼───────────────────┤\n",
       "│ dense_3 (\u001b[38;5;33mDense\u001b[0m)     │ (\u001b[38;5;45mNone\u001b[0m, \u001b[38;5;34m120\u001b[0m)       │     \u001b[38;5;34m59,640\u001b[0m │ dense_2[\u001b[38;5;34m0\u001b[0m][\u001b[38;5;34m0\u001b[0m]     │\n",
       "├─────────────────────┼───────────────────┼────────────┼───────────────────┤\n",
       "│ dense_4 (\u001b[38;5;33mDense\u001b[0m)     │ (\u001b[38;5;45mNone\u001b[0m, \u001b[38;5;34m496\u001b[0m)       │     \u001b[38;5;34m60,016\u001b[0m │ dense_3[\u001b[38;5;34m0\u001b[0m][\u001b[38;5;34m0\u001b[0m]     │\n",
       "├─────────────────────┼───────────────────┼────────────┼───────────────────┤\n",
       "│ dense_5 (\u001b[38;5;33mDense\u001b[0m)     │ (\u001b[38;5;45mNone\u001b[0m, \u001b[38;5;34m120\u001b[0m)       │     \u001b[38;5;34m59,640\u001b[0m │ dense_4[\u001b[38;5;34m0\u001b[0m][\u001b[38;5;34m0\u001b[0m]     │\n",
       "├─────────────────────┼───────────────────┼────────────┼───────────────────┤\n",
       "│ dense_6 (\u001b[38;5;33mDense\u001b[0m)     │ (\u001b[38;5;45mNone\u001b[0m, \u001b[38;5;34m496\u001b[0m)       │     \u001b[38;5;34m60,016\u001b[0m │ dense_5[\u001b[38;5;34m0\u001b[0m][\u001b[38;5;34m0\u001b[0m]     │\n",
       "├─────────────────────┼───────────────────┼────────────┼───────────────────┤\n",
       "│ dense_7 (\u001b[38;5;33mDense\u001b[0m)     │ (\u001b[38;5;45mNone\u001b[0m, \u001b[38;5;34m120\u001b[0m)       │     \u001b[38;5;34m59,640\u001b[0m │ dense_6[\u001b[38;5;34m0\u001b[0m][\u001b[38;5;34m0\u001b[0m]     │\n",
       "├─────────────────────┼───────────────────┼────────────┼───────────────────┤\n",
       "│ dense_8 (\u001b[38;5;33mDense\u001b[0m)     │ (\u001b[38;5;45mNone\u001b[0m, \u001b[38;5;34m496\u001b[0m)       │     \u001b[38;5;34m60,016\u001b[0m │ dense_7[\u001b[38;5;34m0\u001b[0m][\u001b[38;5;34m0\u001b[0m]     │\n",
       "├─────────────────────┼───────────────────┼────────────┼───────────────────┤\n",
       "│ dense_9 (\u001b[38;5;33mDense\u001b[0m)     │ (\u001b[38;5;45mNone\u001b[0m, \u001b[38;5;34m120\u001b[0m)       │     \u001b[38;5;34m59,640\u001b[0m │ dense_8[\u001b[38;5;34m0\u001b[0m][\u001b[38;5;34m0\u001b[0m]     │\n",
       "├─────────────────────┼───────────────────┼────────────┼───────────────────┤\n",
       "│ dense_10 (\u001b[38;5;33mDense\u001b[0m)    │ (\u001b[38;5;45mNone\u001b[0m, \u001b[38;5;34m2\u001b[0m)         │        \u001b[38;5;34m242\u001b[0m │ dense_9[\u001b[38;5;34m0\u001b[0m][\u001b[38;5;34m0\u001b[0m]     │\n",
       "└─────────────────────┴───────────────────┴────────────┴───────────────────┘\n"
      ]
     },
     "metadata": {},
     "output_type": "display_data"
    },
    {
     "data": {
      "text/html": [
       "<pre style=\"white-space:pre;overflow-x:auto;line-height:normal;font-family:Menlo,'DejaVu Sans Mono',consolas,'Courier New',monospace\"><span style=\"font-weight: bold\"> Total params: </span><span style=\"color: #00af00; text-decoration-color: #00af00\">435,346</span> (1.66 MB)\n",
       "</pre>\n"
      ],
      "text/plain": [
       "\u001b[1m Total params: \u001b[0m\u001b[38;5;34m435,346\u001b[0m (1.66 MB)\n"
      ]
     },
     "metadata": {},
     "output_type": "display_data"
    },
    {
     "data": {
      "text/html": [
       "<pre style=\"white-space:pre;overflow-x:auto;line-height:normal;font-family:Menlo,'DejaVu Sans Mono',consolas,'Courier New',monospace\"><span style=\"font-weight: bold\"> Trainable params: </span><span style=\"color: #00af00; text-decoration-color: #00af00\">435,346</span> (1.66 MB)\n",
       "</pre>\n"
      ],
      "text/plain": [
       "\u001b[1m Trainable params: \u001b[0m\u001b[38;5;34m435,346\u001b[0m (1.66 MB)\n"
      ]
     },
     "metadata": {},
     "output_type": "display_data"
    },
    {
     "data": {
      "text/html": [
       "<pre style=\"white-space:pre;overflow-x:auto;line-height:normal;font-family:Menlo,'DejaVu Sans Mono',consolas,'Courier New',monospace\"><span style=\"font-weight: bold\"> Non-trainable params: </span><span style=\"color: #00af00; text-decoration-color: #00af00\">0</span> (0.00 B)\n",
       "</pre>\n"
      ],
      "text/plain": [
       "\u001b[1m Non-trainable params: \u001b[0m\u001b[38;5;34m0\u001b[0m (0.00 B)\n"
      ]
     },
     "metadata": {},
     "output_type": "display_data"
    },
    {
     "name": "stderr",
     "output_type": "stream",
     "text": [
      "[D 241021 21:09:33 3472603808:29] Model_name: iris-top2_pca\n"
     ]
    },
    {
     "name": "stdout",
     "output_type": "stream",
     "text": [
      "Epoch 1/20\n"
     ]
    },
    {
     "name": "stderr",
     "output_type": "stream",
     "text": [
      "c:\\Users\\prapt\\Desktop\\Deep Learning\\DL_Basics\\DL_WS\\Lib\\site-packages\\keras\\src\\models\\functional.py:225: UserWarning: The structure of `inputs` doesn't match the expected structure: ['keras_tensor', 'keras_tensor_1']. Received: the structure of inputs=('*', '*')\n",
      "  warnings.warn(\n"
     ]
    },
    {
     "name": "stdout",
     "output_type": "stream",
     "text": [
      "1/1 ━━━━━━━━━━━━━━━━━━━━ 0s 1s/step - acc: 0.6667 - loss: 0.4797"
     ]
    },
    {
     "name": "stderr",
     "output_type": "stream",
     "text": [
      "c:\\Users\\prapt\\Desktop\\Deep Learning\\DL_Basics\\DL_WS\\Lib\\site-packages\\keras\\src\\models\\functional.py:225: UserWarning: The structure of `inputs` doesn't match the expected structure: ['keras_tensor', 'keras_tensor_1']. Received: the structure of inputs=('*', '*')\n",
      "  warnings.warn(\n"
     ]
    },
    {
     "name": "stdout",
     "output_type": "stream",
     "text": [
      "INFO:tensorflow:Assets written to: models/iris/iris-functional_api\\assets\n"
     ]
    },
    {
     "name": "stderr",
     "output_type": "stream",
     "text": [
      "INFO:tensorflow:Assets written to: models/iris/iris-functional_api\\assets\n"
     ]
    },
    {
     "name": "stdout",
     "output_type": "stream",
     "text": [
      "1/1 ━━━━━━━━━━━━━━━━━━━━ 2s 2s/step - acc: 0.6667 - loss: 0.4797 - val_acc: 0.5238 - val_loss: 0.5314\n",
      "Epoch 2/20\n",
      "1/1 ━━━━━━━━━━━━━━━━━━━━ 0s 44ms/step - acc: 0.6667 - loss: 0.47 ━━━━━━━━━━━━━━━━━━━━ 0s 87ms/step - acc: 0.6667 - loss: 0.4795 - val_acc: 0.5238 - val_loss: 0.5314\n",
      "Epoch 3/20\n",
      "1/1 ━━━━━━━━━━━━━━━━━━━━ 0s 38ms/step - acc: 0.6667 - loss: 0.47 ━━━━━━━━━━━━━━━━━━━━ 0s 83ms/step - acc: 0.6667 - loss: 0.4794 - val_acc: 0.5238 - val_loss: 0.5313\n",
      "Epoch 4/20\n",
      "1/1 ━━━━━━━━━━━━━━━━━━━━ 0s 45ms/step - acc: 0.6667 - loss: 0.47 ━━━━━━━━━━━━━━━━━━━━ 0s 93ms/step - acc: 0.6667 - loss: 0.4793 - val_acc: 0.5238 - val_loss: 0.5312\n",
      "Epoch 5/20\n",
      "1/1 ━━━━━━━━━━━━━━━━━━━━ 0s 39ms/step - acc: 0.6667 - loss: 0.47 ━━━━━━━━━━━━━━━━━━━━ 0s 94ms/step - acc: 0.6667 - loss: 0.4792 - val_acc: 0.5238 - val_loss: 0.5310\n",
      "Epoch 6/20\n",
      "1/1 ━━━━━━━━━━━━━━━━━━━━ 0s 46ms/step - acc: 0.6667 - loss: 0.47 ━━━━━━━━━━━━━━━━━━━━ 0s 97ms/step - acc: 0.6667 - loss: 0.4790 - val_acc: 0.5238 - val_loss: 0.5309\n",
      "Epoch 7/20\n",
      "1/1 ━━━━━━━━━━━━━━━━━━━━ 0s 60ms/step - acc: 0.6667 - loss: 0.47 ━━━━━━━━━━━━━━━━━━━━ 0s 136ms/step - acc: 0.6667 - loss: 0.4789 - val_acc: 0.5238 - val_loss: 0.5308\n",
      "Epoch 8/20\n",
      "1/1 ━━━━━━━━━━━━━━━━━━━━ 0s 43ms/step - acc: 0.6667 - loss: 0.47 ━━━━━━━━━━━━━━━━━━━━ 0s 100ms/step - acc: 0.6667 - loss: 0.4788 - val_acc: 0.5238 - val_loss: 0.5307\n",
      "Epoch 9/20\n",
      "1/1 ━━━━━━━━━━━━━━━━━━━━ 0s 54ms/step - acc: 0.6667 - loss: 0.47 ━━━━━━━━━━━━━━━━━━━━ 0s 117ms/step - acc: 0.6667 - loss: 0.4787 - val_acc: 0.5238 - val_loss: 0.5306\n",
      "Epoch 10/20\n",
      "1/1 ━━━━━━━━━━━━━━━━━━━━ 0s 50ms/step - acc: 0.6667 - loss: 0.47 ━━━━━━━━━━━━━━━━━━━━ 0s 115ms/step - acc: 0.6667 - loss: 0.4785 - val_acc: 0.5238 - val_loss: 0.5305\n",
      "Epoch 11/20\n",
      "1/1 ━━━━━━━━━━━━━━━━━━━━ 0s 46ms/step - acc: 0.6667 - loss: 0.47 ━━━━━━━━━━━━━━━━━━━━ 0s 98ms/step - acc: 0.6667 - loss: 0.4784 - val_acc: 0.5238 - val_loss: 0.5305\n",
      "Epoch 12/20\n",
      "1/1 ━━━━━━━━━━━━━━━━━━━━ 0s 42ms/step - acc: 0.6667 - loss: 0.47 ━━━━━━━━━━━━━━━━━━━━ 0s 104ms/step - acc: 0.6667 - loss: 0.4784 - val_acc: 0.5238 - val_loss: 0.5305\n",
      "Epoch 13/20\n",
      "1/1 ━━━━━━━━━━━━━━━━━━━━ 0s 46ms/step - acc: 0.6667 - loss: 0.47 ━━━━━━━━━━━━━━━━━━━━ 0s 113ms/step - acc: 0.6667 - loss: 0.4783 - val_acc: 0.5238 - val_loss: 0.5304\n",
      "Epoch 14/20\n",
      "1/1 ━━━━━━━━━━━━━━━━━━━━ 0s 102ms/step - acc: 0.6667 - loss: 0.478 ━━━━━━━━━━━━━━━━━━━━ 0s 184ms/step - acc: 0.6667 - loss: 0.4782 - val_acc: 0.5238 - val_loss: 0.5304\n",
      "Epoch 15/20\n",
      "1/1 ━━━━━━━━━━━━━━━━━━━━ 0s 59ms/step - acc: 0.6667 - loss: 0.47 ━━━━━━━━━━━━━━━━━━━━ 0s 111ms/step - acc: 0.6667 - loss: 0.4781 - val_acc: 0.5238 - val_loss: 0.5304\n",
      "Epoch 16/20\n",
      "1/1 ━━━━━━━━━━━━━━━━━━━━ 0s 49ms/step - acc: 0.6667 - loss: 0.47 ━━━━━━━━━━━━━━━━━━━━ 0s 101ms/step - acc: 0.6667 - loss: 0.4780 - val_acc: 0.5238 - val_loss: 0.5303\n",
      "Epoch 17/20\n",
      "1/1 ━━━━━━━━━━━━━━━━━━━━ 0s 40ms/step - acc: 0.6667 - loss: 0.47 ━━━━━━━━━━━━━━━━━━━━ 0s 93ms/step - acc: 0.6667 - loss: 0.4779 - val_acc: 0.5238 - val_loss: 0.5303\n",
      "Epoch 18/20\n",
      "1/1 ━━━━━━━━━━━━━━━━━━━━ 0s 37ms/step - acc: 0.6667 - loss: 0.47 ━━━━━━━━━━━━━━━━━━━━ 0s 98ms/step - acc: 0.6667 - loss: 0.4778 - val_acc: 0.5238 - val_loss: 0.5302\n",
      "Epoch 19/20\n",
      "1/1 ━━━━━━━━━━━━━━━━━━━━ 0s 44ms/step - acc: 0.6667 - loss: 0.47 ━━━━━━━━━━━━━━━━━━━━ 0s 119ms/step - acc: 0.6667 - loss: 0.4777 - val_acc: 0.5238 - val_loss: 0.5302\n",
      "Epoch 20/20\n",
      "1/1 ━━━━━━━━━━━━━━━━━━━━ 0s 48ms/step - acc: 0.6667 - loss: 0.47 ━━━━━━━━━━━━━━━━━━━━ 0s 112ms/step - acc: 0.6667 - loss: 0.4776 - val_acc: 0.5238 - val_loss: 0.5301\n"
     ]
    },
    {
     "name": "stderr",
     "output_type": "stream",
     "text": [
      "wandb: Adding directory to artifact (.\\models\\iris\\iris-functional_api)... Done. 0.1s\n"
     ]
    },
    {
     "data": {
      "text/html": [
       "<style>\n",
       "    table.wandb td:nth-child(1) { padding: 0 10px; text-align: left ; width: auto;} td:nth-child(2) {text-align: left ; width: 100%}\n",
       "    .wandb-row { display: flex; flex-direction: row; flex-wrap: wrap; justify-content: flex-start; width: 100% }\n",
       "    .wandb-col { display: flex; flex-direction: column; flex-basis: 100%; flex: 1; padding: 10px; }\n",
       "    </style>\n",
       "<div class=\"wandb-row\"><div class=\"wandb-col\"><h3>Run history:</h3><br/><table class=\"wandb\"><tr><td>acc</td><td>▁▁▁▁▁▁▁▁▁▁▁▁▁▁▁▁▁▁▁▁</td></tr><tr><td>loss</td><td>██▇▇▆▆▅▅▅▄▄▄▃▃▃▂▂▂▁▁</td></tr><tr><td>val_acc</td><td>▁▁▁▁▁▁▁▁▁▁▁▁▁▁▁▁▁▁▁▁</td></tr><tr><td>val_loss</td><td>██▇▇▆▅▄▄▄▃▃▃▃▂▂▂▂▂▁▁</td></tr></table><br/></div><div class=\"wandb-col\"><h3>Run summary:</h3><br/><table class=\"wandb\"><tr><td>acc</td><td>0.66667</td></tr><tr><td>loss</td><td>0.47761</td></tr><tr><td>val_acc</td><td>0.52381</td></tr><tr><td>val_loss</td><td>0.53013</td></tr></table><br/></div></div>"
      ],
      "text/plain": [
       "<IPython.core.display.HTML object>"
      ]
     },
     "metadata": {},
     "output_type": "display_data"
    },
    {
     "data": {
      "text/html": [
       " View run <strong style=\"color:#cdcd00\">drawn-sweep-6</strong> at: <a href='https://wandb.ai/praptipatil01/Iris-Species-Classification/runs/fnsm4d01' target=\"_blank\">https://wandb.ai/praptipatil01/Iris-Species-Classification/runs/fnsm4d01</a><br/> View project at: <a href='https://wandb.ai/praptipatil01/Iris-Species-Classification' target=\"_blank\">https://wandb.ai/praptipatil01/Iris-Species-Classification</a><br/>Synced 5 W&B file(s), 0 media file(s), 5 artifact file(s) and 0 other file(s)"
      ],
      "text/plain": [
       "<IPython.core.display.HTML object>"
      ]
     },
     "metadata": {},
     "output_type": "display_data"
    },
    {
     "data": {
      "text/html": [
       "Find logs at: <code>.\\wandb\\run-20241021_210931-fnsm4d01\\logs</code>"
      ],
      "text/plain": [
       "<IPython.core.display.HTML object>"
      ]
     },
     "metadata": {},
     "output_type": "display_data"
    },
    {
     "name": "stderr",
     "output_type": "stream",
     "text": [
      "wandb: Agent Starting Run: q9b7lw3a with config:\n",
      "wandb: \tlearning_rate: 0.0005147646859869023\n",
      "wandb: \tnum_blocks: 4\n",
      "wandb: \toptimizer: sgd\n",
      "wandb: \tunits_1: 448\n",
      "wandb: \tunits_2: 56\n",
      "wandb: WARNING Ignored wandb.init() arg project when running a sweep.\n"
     ]
    },
    {
     "data": {
      "text/html": [
       "Tracking run with wandb version 0.18.5"
      ],
      "text/plain": [
       "<IPython.core.display.HTML object>"
      ]
     },
     "metadata": {},
     "output_type": "display_data"
    },
    {
     "data": {
      "text/html": [
       "Run data is saved locally in <code>c:\\Users\\prapt\\Desktop\\Deep Learning\\DL_Basics\\TensorFlow in Action\\wandb\\run-20241021_210953-q9b7lw3a</code>"
      ],
      "text/plain": [
       "<IPython.core.display.HTML object>"
      ]
     },
     "metadata": {},
     "output_type": "display_data"
    },
    {
     "data": {
      "text/html": [
       "Syncing run <strong><a href='https://wandb.ai/praptipatil01/Iris-Species-Classification/runs/q9b7lw3a' target=\"_blank\">misunderstood-sweep-7</a></strong> to <a href='https://wandb.ai/praptipatil01/Iris-Species-Classification' target=\"_blank\">Weights & Biases</a> (<a href='https://wandb.me/run' target=\"_blank\">docs</a>)<br/>Sweep page: <a href='https://wandb.ai/praptipatil01/Iris-Species-Classification/sweeps/ekxr9ovf' target=\"_blank\">https://wandb.ai/praptipatil01/Iris-Species-Classification/sweeps/ekxr9ovf</a>"
      ],
      "text/plain": [
       "<IPython.core.display.HTML object>"
      ]
     },
     "metadata": {},
     "output_type": "display_data"
    },
    {
     "data": {
      "text/html": [
       " View project at <a href='https://wandb.ai/praptipatil01/Iris-Species-Classification' target=\"_blank\">https://wandb.ai/praptipatil01/Iris-Species-Classification</a>"
      ],
      "text/plain": [
       "<IPython.core.display.HTML object>"
      ]
     },
     "metadata": {},
     "output_type": "display_data"
    },
    {
     "data": {
      "text/html": [
       " View sweep at <a href='https://wandb.ai/praptipatil01/Iris-Species-Classification/sweeps/ekxr9ovf' target=\"_blank\">https://wandb.ai/praptipatil01/Iris-Species-Classification/sweeps/ekxr9ovf</a>"
      ],
      "text/plain": [
       "<IPython.core.display.HTML object>"
      ]
     },
     "metadata": {},
     "output_type": "display_data"
    },
    {
     "data": {
      "text/html": [
       " View run at <a href='https://wandb.ai/praptipatil01/Iris-Species-Classification/runs/q9b7lw3a' target=\"_blank\">https://wandb.ai/praptipatil01/Iris-Species-Classification/runs/q9b7lw3a</a>"
      ],
      "text/plain": [
       "<IPython.core.display.HTML object>"
      ]
     },
     "metadata": {},
     "output_type": "display_data"
    },
    {
     "name": "stderr",
     "output_type": "stream",
     "text": [
      "[D 241021 21:09:54 3472603808:23] Number of records: Train -  84, Val - 21\n"
     ]
    },
    {
     "data": {
      "text/html": [
       "<pre style=\"white-space:pre;overflow-x:auto;line-height:normal;font-family:Menlo,'DejaVu Sans Mono',consolas,'Courier New',monospace\"><span style=\"font-weight: bold\">Model: \"iris-top2_pca\"</span>\n",
       "</pre>\n"
      ],
      "text/plain": [
       "\u001b[1mModel: \"iris-top2_pca\"\u001b[0m\n"
      ]
     },
     "metadata": {},
     "output_type": "display_data"
    },
    {
     "data": {
      "text/html": [
       "<pre style=\"white-space:pre;overflow-x:auto;line-height:normal;font-family:Menlo,'DejaVu Sans Mono',consolas,'Courier New',monospace\">┏━━━━━━━━━━━━━━━━━━━━━┳━━━━━━━━━━━━━━━━━━━┳━━━━━━━━━━━━┳━━━━━━━━━━━━━━━━━━━┓\n",
       "┃<span style=\"font-weight: bold\"> Layer (type)        </span>┃<span style=\"font-weight: bold\"> Output Shape      </span>┃<span style=\"font-weight: bold\">    Param # </span>┃<span style=\"font-weight: bold\"> Connected to      </span>┃\n",
       "┡━━━━━━━━━━━━━━━━━━━━━╇━━━━━━━━━━━━━━━━━━━╇━━━━━━━━━━━━╇━━━━━━━━━━━━━━━━━━━┩\n",
       "│ input_layer         │ (<span style=\"color: #00d7ff; text-decoration-color: #00d7ff\">None</span>, <span style=\"color: #00af00; text-decoration-color: #00af00\">4</span>)         │          <span style=\"color: #00af00; text-decoration-color: #00af00\">0</span> │ -                 │\n",
       "│ (<span style=\"color: #0087ff; text-decoration-color: #0087ff\">InputLayer</span>)        │                   │            │                   │\n",
       "├─────────────────────┼───────────────────┼────────────┼───────────────────┤\n",
       "│ input_layer_1       │ (<span style=\"color: #00d7ff; text-decoration-color: #00d7ff\">None</span>, <span style=\"color: #00af00; text-decoration-color: #00af00\">2</span>)         │          <span style=\"color: #00af00; text-decoration-color: #00af00\">0</span> │ -                 │\n",
       "│ (<span style=\"color: #0087ff; text-decoration-color: #0087ff\">InputLayer</span>)        │                   │            │                   │\n",
       "├─────────────────────┼───────────────────┼────────────┼───────────────────┤\n",
       "│ dense (<span style=\"color: #0087ff; text-decoration-color: #0087ff\">Dense</span>)       │ (<span style=\"color: #00d7ff; text-decoration-color: #00d7ff\">None</span>, <span style=\"color: #00af00; text-decoration-color: #00af00\">16</span>)        │         <span style=\"color: #00af00; text-decoration-color: #00af00\">80</span> │ input_layer[<span style=\"color: #00af00; text-decoration-color: #00af00\">0</span>][<span style=\"color: #00af00; text-decoration-color: #00af00\">0</span>] │\n",
       "├─────────────────────┼───────────────────┼────────────┼───────────────────┤\n",
       "│ dense_1 (<span style=\"color: #0087ff; text-decoration-color: #0087ff\">Dense</span>)     │ (<span style=\"color: #00d7ff; text-decoration-color: #00d7ff\">None</span>, <span style=\"color: #00af00; text-decoration-color: #00af00\">16</span>)        │         <span style=\"color: #00af00; text-decoration-color: #00af00\">48</span> │ input_layer_1[<span style=\"color: #00af00; text-decoration-color: #00af00\">0</span>]… │\n",
       "├─────────────────────┼───────────────────┼────────────┼───────────────────┤\n",
       "│ concatenate         │ (<span style=\"color: #00d7ff; text-decoration-color: #00d7ff\">None</span>, <span style=\"color: #00af00; text-decoration-color: #00af00\">32</span>)        │          <span style=\"color: #00af00; text-decoration-color: #00af00\">0</span> │ dense[<span style=\"color: #00af00; text-decoration-color: #00af00\">0</span>][<span style=\"color: #00af00; text-decoration-color: #00af00\">0</span>],      │\n",
       "│ (<span style=\"color: #0087ff; text-decoration-color: #0087ff\">Concatenate</span>)       │                   │            │ dense_1[<span style=\"color: #00af00; text-decoration-color: #00af00\">0</span>][<span style=\"color: #00af00; text-decoration-color: #00af00\">0</span>]     │\n",
       "├─────────────────────┼───────────────────┼────────────┼───────────────────┤\n",
       "│ dense_2 (<span style=\"color: #0087ff; text-decoration-color: #0087ff\">Dense</span>)     │ (<span style=\"color: #00d7ff; text-decoration-color: #00d7ff\">None</span>, <span style=\"color: #00af00; text-decoration-color: #00af00\">448</span>)       │     <span style=\"color: #00af00; text-decoration-color: #00af00\">14,784</span> │ concatenate[<span style=\"color: #00af00; text-decoration-color: #00af00\">0</span>][<span style=\"color: #00af00; text-decoration-color: #00af00\">0</span>] │\n",
       "├─────────────────────┼───────────────────┼────────────┼───────────────────┤\n",
       "│ dense_3 (<span style=\"color: #0087ff; text-decoration-color: #0087ff\">Dense</span>)     │ (<span style=\"color: #00d7ff; text-decoration-color: #00d7ff\">None</span>, <span style=\"color: #00af00; text-decoration-color: #00af00\">56</span>)        │     <span style=\"color: #00af00; text-decoration-color: #00af00\">25,144</span> │ dense_2[<span style=\"color: #00af00; text-decoration-color: #00af00\">0</span>][<span style=\"color: #00af00; text-decoration-color: #00af00\">0</span>]     │\n",
       "├─────────────────────┼───────────────────┼────────────┼───────────────────┤\n",
       "│ dense_4 (<span style=\"color: #0087ff; text-decoration-color: #0087ff\">Dense</span>)     │ (<span style=\"color: #00d7ff; text-decoration-color: #00d7ff\">None</span>, <span style=\"color: #00af00; text-decoration-color: #00af00\">448</span>)       │     <span style=\"color: #00af00; text-decoration-color: #00af00\">25,536</span> │ dense_3[<span style=\"color: #00af00; text-decoration-color: #00af00\">0</span>][<span style=\"color: #00af00; text-decoration-color: #00af00\">0</span>]     │\n",
       "├─────────────────────┼───────────────────┼────────────┼───────────────────┤\n",
       "│ dense_5 (<span style=\"color: #0087ff; text-decoration-color: #0087ff\">Dense</span>)     │ (<span style=\"color: #00d7ff; text-decoration-color: #00d7ff\">None</span>, <span style=\"color: #00af00; text-decoration-color: #00af00\">56</span>)        │     <span style=\"color: #00af00; text-decoration-color: #00af00\">25,144</span> │ dense_4[<span style=\"color: #00af00; text-decoration-color: #00af00\">0</span>][<span style=\"color: #00af00; text-decoration-color: #00af00\">0</span>]     │\n",
       "├─────────────────────┼───────────────────┼────────────┼───────────────────┤\n",
       "│ dense_6 (<span style=\"color: #0087ff; text-decoration-color: #0087ff\">Dense</span>)     │ (<span style=\"color: #00d7ff; text-decoration-color: #00d7ff\">None</span>, <span style=\"color: #00af00; text-decoration-color: #00af00\">448</span>)       │     <span style=\"color: #00af00; text-decoration-color: #00af00\">25,536</span> │ dense_5[<span style=\"color: #00af00; text-decoration-color: #00af00\">0</span>][<span style=\"color: #00af00; text-decoration-color: #00af00\">0</span>]     │\n",
       "├─────────────────────┼───────────────────┼────────────┼───────────────────┤\n",
       "│ dense_7 (<span style=\"color: #0087ff; text-decoration-color: #0087ff\">Dense</span>)     │ (<span style=\"color: #00d7ff; text-decoration-color: #00d7ff\">None</span>, <span style=\"color: #00af00; text-decoration-color: #00af00\">56</span>)        │     <span style=\"color: #00af00; text-decoration-color: #00af00\">25,144</span> │ dense_6[<span style=\"color: #00af00; text-decoration-color: #00af00\">0</span>][<span style=\"color: #00af00; text-decoration-color: #00af00\">0</span>]     │\n",
       "├─────────────────────┼───────────────────┼────────────┼───────────────────┤\n",
       "│ dense_8 (<span style=\"color: #0087ff; text-decoration-color: #0087ff\">Dense</span>)     │ (<span style=\"color: #00d7ff; text-decoration-color: #00d7ff\">None</span>, <span style=\"color: #00af00; text-decoration-color: #00af00\">448</span>)       │     <span style=\"color: #00af00; text-decoration-color: #00af00\">25,536</span> │ dense_7[<span style=\"color: #00af00; text-decoration-color: #00af00\">0</span>][<span style=\"color: #00af00; text-decoration-color: #00af00\">0</span>]     │\n",
       "├─────────────────────┼───────────────────┼────────────┼───────────────────┤\n",
       "│ dense_9 (<span style=\"color: #0087ff; text-decoration-color: #0087ff\">Dense</span>)     │ (<span style=\"color: #00d7ff; text-decoration-color: #00d7ff\">None</span>, <span style=\"color: #00af00; text-decoration-color: #00af00\">56</span>)        │     <span style=\"color: #00af00; text-decoration-color: #00af00\">25,144</span> │ dense_8[<span style=\"color: #00af00; text-decoration-color: #00af00\">0</span>][<span style=\"color: #00af00; text-decoration-color: #00af00\">0</span>]     │\n",
       "├─────────────────────┼───────────────────┼────────────┼───────────────────┤\n",
       "│ dense_10 (<span style=\"color: #0087ff; text-decoration-color: #0087ff\">Dense</span>)    │ (<span style=\"color: #00d7ff; text-decoration-color: #00d7ff\">None</span>, <span style=\"color: #00af00; text-decoration-color: #00af00\">2</span>)         │        <span style=\"color: #00af00; text-decoration-color: #00af00\">114</span> │ dense_9[<span style=\"color: #00af00; text-decoration-color: #00af00\">0</span>][<span style=\"color: #00af00; text-decoration-color: #00af00\">0</span>]     │\n",
       "└─────────────────────┴───────────────────┴────────────┴───────────────────┘\n",
       "</pre>\n"
      ],
      "text/plain": [
       "┏━━━━━━━━━━━━━━━━━━━━━┳━━━━━━━━━━━━━━━━━━━┳━━━━━━━━━━━━┳━━━━━━━━━━━━━━━━━━━┓\n",
       "┃\u001b[1m \u001b[0m\u001b[1mLayer (type)       \u001b[0m\u001b[1m \u001b[0m┃\u001b[1m \u001b[0m\u001b[1mOutput Shape     \u001b[0m\u001b[1m \u001b[0m┃\u001b[1m \u001b[0m\u001b[1m   Param #\u001b[0m\u001b[1m \u001b[0m┃\u001b[1m \u001b[0m\u001b[1mConnected to     \u001b[0m\u001b[1m \u001b[0m┃\n",
       "┡━━━━━━━━━━━━━━━━━━━━━╇━━━━━━━━━━━━━━━━━━━╇━━━━━━━━━━━━╇━━━━━━━━━━━━━━━━━━━┩\n",
       "│ input_layer         │ (\u001b[38;5;45mNone\u001b[0m, \u001b[38;5;34m4\u001b[0m)         │          \u001b[38;5;34m0\u001b[0m │ -                 │\n",
       "│ (\u001b[38;5;33mInputLayer\u001b[0m)        │                   │            │                   │\n",
       "├─────────────────────┼───────────────────┼────────────┼───────────────────┤\n",
       "│ input_layer_1       │ (\u001b[38;5;45mNone\u001b[0m, \u001b[38;5;34m2\u001b[0m)         │          \u001b[38;5;34m0\u001b[0m │ -                 │\n",
       "│ (\u001b[38;5;33mInputLayer\u001b[0m)        │                   │            │                   │\n",
       "├─────────────────────┼───────────────────┼────────────┼───────────────────┤\n",
       "│ dense (\u001b[38;5;33mDense\u001b[0m)       │ (\u001b[38;5;45mNone\u001b[0m, \u001b[38;5;34m16\u001b[0m)        │         \u001b[38;5;34m80\u001b[0m │ input_layer[\u001b[38;5;34m0\u001b[0m][\u001b[38;5;34m0\u001b[0m] │\n",
       "├─────────────────────┼───────────────────┼────────────┼───────────────────┤\n",
       "│ dense_1 (\u001b[38;5;33mDense\u001b[0m)     │ (\u001b[38;5;45mNone\u001b[0m, \u001b[38;5;34m16\u001b[0m)        │         \u001b[38;5;34m48\u001b[0m │ input_layer_1[\u001b[38;5;34m0\u001b[0m]… │\n",
       "├─────────────────────┼───────────────────┼────────────┼───────────────────┤\n",
       "│ concatenate         │ (\u001b[38;5;45mNone\u001b[0m, \u001b[38;5;34m32\u001b[0m)        │          \u001b[38;5;34m0\u001b[0m │ dense[\u001b[38;5;34m0\u001b[0m][\u001b[38;5;34m0\u001b[0m],      │\n",
       "│ (\u001b[38;5;33mConcatenate\u001b[0m)       │                   │            │ dense_1[\u001b[38;5;34m0\u001b[0m][\u001b[38;5;34m0\u001b[0m]     │\n",
       "├─────────────────────┼───────────────────┼────────────┼───────────────────┤\n",
       "│ dense_2 (\u001b[38;5;33mDense\u001b[0m)     │ (\u001b[38;5;45mNone\u001b[0m, \u001b[38;5;34m448\u001b[0m)       │     \u001b[38;5;34m14,784\u001b[0m │ concatenate[\u001b[38;5;34m0\u001b[0m][\u001b[38;5;34m0\u001b[0m] │\n",
       "├─────────────────────┼───────────────────┼────────────┼───────────────────┤\n",
       "│ dense_3 (\u001b[38;5;33mDense\u001b[0m)     │ (\u001b[38;5;45mNone\u001b[0m, \u001b[38;5;34m56\u001b[0m)        │     \u001b[38;5;34m25,144\u001b[0m │ dense_2[\u001b[38;5;34m0\u001b[0m][\u001b[38;5;34m0\u001b[0m]     │\n",
       "├─────────────────────┼───────────────────┼────────────┼───────────────────┤\n",
       "│ dense_4 (\u001b[38;5;33mDense\u001b[0m)     │ (\u001b[38;5;45mNone\u001b[0m, \u001b[38;5;34m448\u001b[0m)       │     \u001b[38;5;34m25,536\u001b[0m │ dense_3[\u001b[38;5;34m0\u001b[0m][\u001b[38;5;34m0\u001b[0m]     │\n",
       "├─────────────────────┼───────────────────┼────────────┼───────────────────┤\n",
       "│ dense_5 (\u001b[38;5;33mDense\u001b[0m)     │ (\u001b[38;5;45mNone\u001b[0m, \u001b[38;5;34m56\u001b[0m)        │     \u001b[38;5;34m25,144\u001b[0m │ dense_4[\u001b[38;5;34m0\u001b[0m][\u001b[38;5;34m0\u001b[0m]     │\n",
       "├─────────────────────┼───────────────────┼────────────┼───────────────────┤\n",
       "│ dense_6 (\u001b[38;5;33mDense\u001b[0m)     │ (\u001b[38;5;45mNone\u001b[0m, \u001b[38;5;34m448\u001b[0m)       │     \u001b[38;5;34m25,536\u001b[0m │ dense_5[\u001b[38;5;34m0\u001b[0m][\u001b[38;5;34m0\u001b[0m]     │\n",
       "├─────────────────────┼───────────────────┼────────────┼───────────────────┤\n",
       "│ dense_7 (\u001b[38;5;33mDense\u001b[0m)     │ (\u001b[38;5;45mNone\u001b[0m, \u001b[38;5;34m56\u001b[0m)        │     \u001b[38;5;34m25,144\u001b[0m │ dense_6[\u001b[38;5;34m0\u001b[0m][\u001b[38;5;34m0\u001b[0m]     │\n",
       "├─────────────────────┼───────────────────┼────────────┼───────────────────┤\n",
       "│ dense_8 (\u001b[38;5;33mDense\u001b[0m)     │ (\u001b[38;5;45mNone\u001b[0m, \u001b[38;5;34m448\u001b[0m)       │     \u001b[38;5;34m25,536\u001b[0m │ dense_7[\u001b[38;5;34m0\u001b[0m][\u001b[38;5;34m0\u001b[0m]     │\n",
       "├─────────────────────┼───────────────────┼────────────┼───────────────────┤\n",
       "│ dense_9 (\u001b[38;5;33mDense\u001b[0m)     │ (\u001b[38;5;45mNone\u001b[0m, \u001b[38;5;34m56\u001b[0m)        │     \u001b[38;5;34m25,144\u001b[0m │ dense_8[\u001b[38;5;34m0\u001b[0m][\u001b[38;5;34m0\u001b[0m]     │\n",
       "├─────────────────────┼───────────────────┼────────────┼───────────────────┤\n",
       "│ dense_10 (\u001b[38;5;33mDense\u001b[0m)    │ (\u001b[38;5;45mNone\u001b[0m, \u001b[38;5;34m2\u001b[0m)         │        \u001b[38;5;34m114\u001b[0m │ dense_9[\u001b[38;5;34m0\u001b[0m][\u001b[38;5;34m0\u001b[0m]     │\n",
       "└─────────────────────┴───────────────────┴────────────┴───────────────────┘\n"
      ]
     },
     "metadata": {},
     "output_type": "display_data"
    },
    {
     "data": {
      "text/html": [
       "<pre style=\"white-space:pre;overflow-x:auto;line-height:normal;font-family:Menlo,'DejaVu Sans Mono',consolas,'Courier New',monospace\"><span style=\"font-weight: bold\"> Total params: </span><span style=\"color: #00af00; text-decoration-color: #00af00\">192,210</span> (750.82 KB)\n",
       "</pre>\n"
      ],
      "text/plain": [
       "\u001b[1m Total params: \u001b[0m\u001b[38;5;34m192,210\u001b[0m (750.82 KB)\n"
      ]
     },
     "metadata": {},
     "output_type": "display_data"
    },
    {
     "data": {
      "text/html": [
       "<pre style=\"white-space:pre;overflow-x:auto;line-height:normal;font-family:Menlo,'DejaVu Sans Mono',consolas,'Courier New',monospace\"><span style=\"font-weight: bold\"> Trainable params: </span><span style=\"color: #00af00; text-decoration-color: #00af00\">192,210</span> (750.82 KB)\n",
       "</pre>\n"
      ],
      "text/plain": [
       "\u001b[1m Trainable params: \u001b[0m\u001b[38;5;34m192,210\u001b[0m (750.82 KB)\n"
      ]
     },
     "metadata": {},
     "output_type": "display_data"
    },
    {
     "data": {
      "text/html": [
       "<pre style=\"white-space:pre;overflow-x:auto;line-height:normal;font-family:Menlo,'DejaVu Sans Mono',consolas,'Courier New',monospace\"><span style=\"font-weight: bold\"> Non-trainable params: </span><span style=\"color: #00af00; text-decoration-color: #00af00\">0</span> (0.00 B)\n",
       "</pre>\n"
      ],
      "text/plain": [
       "\u001b[1m Non-trainable params: \u001b[0m\u001b[38;5;34m0\u001b[0m (0.00 B)\n"
      ]
     },
     "metadata": {},
     "output_type": "display_data"
    },
    {
     "name": "stderr",
     "output_type": "stream",
     "text": [
      "[D 241021 21:09:54 3472603808:29] Model_name: iris-top2_pca\n"
     ]
    },
    {
     "name": "stdout",
     "output_type": "stream",
     "text": [
      "Epoch 1/20\n"
     ]
    },
    {
     "name": "stderr",
     "output_type": "stream",
     "text": [
      "c:\\Users\\prapt\\Desktop\\Deep Learning\\DL_Basics\\DL_WS\\Lib\\site-packages\\keras\\src\\models\\functional.py:225: UserWarning: The structure of `inputs` doesn't match the expected structure: ['keras_tensor', 'keras_tensor_1']. Received: the structure of inputs=('*', '*')\n",
      "  warnings.warn(\n"
     ]
    },
    {
     "name": "stdout",
     "output_type": "stream",
     "text": [
      "1/1 ━━━━━━━━━━━━━━━━━━━━ 0s 831ms/step - acc: 0.6905 - loss: 0.4784"
     ]
    },
    {
     "name": "stderr",
     "output_type": "stream",
     "text": [
      "c:\\Users\\prapt\\Desktop\\Deep Learning\\DL_Basics\\DL_WS\\Lib\\site-packages\\keras\\src\\models\\functional.py:225: UserWarning: The structure of `inputs` doesn't match the expected structure: ['keras_tensor', 'keras_tensor_1']. Received: the structure of inputs=('*', '*')\n",
      "  warnings.warn(\n"
     ]
    },
    {
     "name": "stdout",
     "output_type": "stream",
     "text": [
      "INFO:tensorflow:Assets written to: models/iris/iris-functional_api\\assets\n"
     ]
    },
    {
     "name": "stderr",
     "output_type": "stream",
     "text": [
      "INFO:tensorflow:Assets written to: models/iris/iris-functional_api\\assets\n"
     ]
    },
    {
     "name": "stdout",
     "output_type": "stream",
     "text": [
      "1/1 ━━━━━━━━━━━━━━━━━━━━ 2s 2s/step - acc: 0.6905 - loss: 0.4784 - val_acc: 0.6667 - val_loss: 0.5278\n",
      "Epoch 2/20\n",
      "1/1 ━━━━━━━━━━━━━━━━━━━━ 0s 38ms/step - acc: 0.7976 - loss: 0.4783INFO:tensorflow:Assets written to: models/iris/iris-functional_api\\assets\n"
     ]
    },
    {
     "name": "stderr",
     "output_type": "stream",
     "text": [
      "INFO:tensorflow:Assets written to: models/iris/iris-functional_api\\assets\n"
     ]
    },
    {
     "name": "stdout",
     "output_type": "stream",
     "text": [
      "1/1 ━━━━━━━━━━━━━━━━━━━━ 1s 529ms/step - acc: 0.7976 - loss: 0.4783 - val_acc: 0.7143 - val_loss: 0.5279\n",
      "Epoch 3/20\n",
      "1/1 ━━━━━━━━━━━━━━━━━━━━ 0s 34ms/step - acc: 0.7619 - loss: 0.47 ━━━━━━━━━━━━━━━━━━━━ 0s 88ms/step - acc: 0.7619 - loss: 0.4783 - val_acc: 0.6190 - val_loss: 0.5279\n",
      "Epoch 4/20\n",
      "1/1 ━━━━━━━━━━━━━━━━━━━━ 0s 59ms/step - acc: 0.7024 - loss: 0.47 ━━━━━━━━━━━━━━━━━━━━ 0s 124ms/step - acc: 0.7024 - loss: 0.4782 - val_acc: 0.6190 - val_loss: 0.5279\n",
      "Epoch 5/20\n",
      "1/1 ━━━━━━━━━━━━━━━━━━━━ 0s 50ms/step - acc: 0.6786 - loss: 0.47 ━━━━━━━━━━━━━━━━━━━━ 0s 98ms/step - acc: 0.6786 - loss: 0.4782 - val_acc: 0.5714 - val_loss: 0.5279\n",
      "Epoch 6/20\n",
      "1/1 ━━━━━━━━━━━━━━━━━━━━ 0s 41ms/step - acc: 0.6786 - loss: 0.47 ━━━━━━━━━━━━━━━━━━━━ 0s 98ms/step - acc: 0.6786 - loss: 0.4781 - val_acc: 0.5714 - val_loss: 0.5279\n",
      "Epoch 7/20\n",
      "1/1 ━━━━━━━━━━━━━━━━━━━━ 0s 48ms/step - acc: 0.6786 - loss: 0.47 ━━━━━━━━━━━━━━━━━━━━ 0s 96ms/step - acc: 0.6786 - loss: 0.4780 - val_acc: 0.5714 - val_loss: 0.5278\n",
      "Epoch 8/20\n",
      "1/1 ━━━━━━━━━━━━━━━━━━━━ 0s 34ms/step - acc: 0.6786 - loss: 0.47 ━━━━━━━━━━━━━━━━━━━━ 0s 88ms/step - acc: 0.6786 - loss: 0.4779 - val_acc: 0.5238 - val_loss: 0.5278\n",
      "Epoch 9/20\n",
      "1/1 ━━━━━━━━━━━━━━━━━━━━ 0s 42ms/step - acc: 0.6786 - loss: 0.47 ━━━━━━━━━━━━━━━━━━━━ 0s 80ms/step - acc: 0.6786 - loss: 0.4779 - val_acc: 0.5238 - val_loss: 0.5278\n",
      "Epoch 10/20\n",
      "1/1 ━━━━━━━━━━━━━━━━━━━━ 0s 32ms/step - acc: 0.6786 - loss: 0.47 ━━━━━━━━━━━━━━━━━━━━ 0s 84ms/step - acc: 0.6786 - loss: 0.4778 - val_acc: 0.5238 - val_loss: 0.5277\n",
      "Epoch 11/20\n",
      "1/1 ━━━━━━━━━━━━━━━━━━━━ 0s 35ms/step - acc: 0.6786 - loss: 0.47 ━━━━━━━━━━━━━━━━━━━━ 0s 88ms/step - acc: 0.6786 - loss: 0.4777 - val_acc: 0.5238 - val_loss: 0.5276\n",
      "Epoch 12/20\n",
      "1/1 ━━━━━━━━━━━━━━━━━━━━ 0s 34ms/step - acc: 0.6786 - loss: 0.47 ━━━━━━━━━━━━━━━━━━━━ 0s 81ms/step - acc: 0.6786 - loss: 0.4776 - val_acc: 0.5714 - val_loss: 0.5276\n",
      "Epoch 13/20\n",
      "1/1 ━━━━━━━━━━━━━━━━━━━━ 0s 34ms/step - acc: 0.6786 - loss: 0.47 ━━━━━━━━━━━━━━━━━━━━ 0s 81ms/step - acc: 0.6786 - loss: 0.4775 - val_acc: 0.5714 - val_loss: 0.5275\n",
      "Epoch 14/20\n",
      "1/1 ━━━━━━━━━━━━━━━━━━━━ 0s 38ms/step - acc: 0.6786 - loss: 0.47 ━━━━━━━━━━━━━━━━━━━━ 0s 73ms/step - acc: 0.6786 - loss: 0.4774 - val_acc: 0.5714 - val_loss: 0.5275\n",
      "Epoch 15/20\n",
      "1/1 ━━━━━━━━━━━━━━━━━━━━ 0s 28ms/step - acc: 0.6786 - loss: 0.47 ━━━━━━━━━━━━━━━━━━━━ 0s 74ms/step - acc: 0.6786 - loss: 0.4773 - val_acc: 0.5714 - val_loss: 0.5274\n",
      "Epoch 16/20\n",
      "1/1 ━━━━━━━━━━━━━━━━━━━━ 0s 26ms/step - acc: 0.6786 - loss: 0.47 ━━━━━━━━━━━━━━━━━━━━ 0s 79ms/step - acc: 0.6786 - loss: 0.4772 - val_acc: 0.5714 - val_loss: 0.5274\n",
      "Epoch 17/20\n",
      "1/1 ━━━━━━━━━━━━━━━━━━━━ 0s 33ms/step - acc: 0.6786 - loss: 0.47 ━━━━━━━━━━━━━━━━━━━━ 0s 74ms/step - acc: 0.6786 - loss: 0.4772 - val_acc: 0.6190 - val_loss: 0.5273\n",
      "Epoch 18/20\n",
      "1/1 ━━━━━━━━━━━━━━━━━━━━ 0s 29ms/step - acc: 0.6786 - loss: 0.47 ━━━━━━━━━━━━━━━━━━━━ 0s 72ms/step - acc: 0.6786 - loss: 0.4771 - val_acc: 0.6190 - val_loss: 0.5273\n",
      "Epoch 19/20\n",
      "1/1 ━━━━━━━━━━━━━━━━━━━━ 0s 29ms/step - acc: 0.6905 - loss: 0.47 ━━━━━━━━━━━━━━━━━━━━ 0s 75ms/step - acc: 0.6905 - loss: 0.4770 - val_acc: 0.6190 - val_loss: 0.5272\n",
      "Epoch 20/20\n",
      "1/1 ━━━━━━━━━━━━━━━━━━━━ 0s 38ms/step - acc: 0.6905 - loss: 0.47 ━━━━━━━━━━━━━━━━━━━━ 0s 90ms/step - acc: 0.6905 - loss: 0.4769 - val_acc: 0.6190 - val_loss: 0.5271\n"
     ]
    },
    {
     "name": "stderr",
     "output_type": "stream",
     "text": [
      "wandb: Adding directory to artifact (.\\models\\iris\\iris-functional_api)... Done. 0.0s\n"
     ]
    },
    {
     "data": {
      "text/html": [
       "<style>\n",
       "    table.wandb td:nth-child(1) { padding: 0 10px; text-align: left ; width: auto;} td:nth-child(2) {text-align: left ; width: 100%}\n",
       "    .wandb-row { display: flex; flex-direction: row; flex-wrap: wrap; justify-content: flex-start; width: 100% }\n",
       "    .wandb-col { display: flex; flex-direction: column; flex-basis: 100%; flex: 1; padding: 10px; }\n",
       "    </style>\n",
       "<div class=\"wandb-row\"><div class=\"wandb-col\"><h3>Run history:</h3><br/><table class=\"wandb\"><tr><td>acc</td><td>▂█▆▂▁▁▁▁▁▁▁▁▁▁▁▁▁▁▂▂</td></tr><tr><td>loss</td><td>██▇▇▇▆▆▆▅▅▅▄▄▃▃▃▂▂▁▁</td></tr><tr><td>val_acc</td><td>▆█▄▄▃▃▃▁▁▁▁▃▃▃▃▃▄▄▄▄</td></tr><tr><td>val_loss</td><td>████████▇▇▆▅▅▄▄▃▃▂▂▁</td></tr></table><br/></div><div class=\"wandb-col\"><h3>Run summary:</h3><br/><table class=\"wandb\"><tr><td>acc</td><td>0.69048</td></tr><tr><td>loss</td><td>0.47692</td></tr><tr><td>val_acc</td><td>0.61905</td></tr><tr><td>val_loss</td><td>0.5271</td></tr></table><br/></div></div>"
      ],
      "text/plain": [
       "<IPython.core.display.HTML object>"
      ]
     },
     "metadata": {},
     "output_type": "display_data"
    },
    {
     "data": {
      "text/html": [
       " View run <strong style=\"color:#cdcd00\">misunderstood-sweep-7</strong> at: <a href='https://wandb.ai/praptipatil01/Iris-Species-Classification/runs/q9b7lw3a' target=\"_blank\">https://wandb.ai/praptipatil01/Iris-Species-Classification/runs/q9b7lw3a</a><br/> View project at: <a href='https://wandb.ai/praptipatil01/Iris-Species-Classification' target=\"_blank\">https://wandb.ai/praptipatil01/Iris-Species-Classification</a><br/>Synced 5 W&B file(s), 0 media file(s), 5 artifact file(s) and 0 other file(s)"
      ],
      "text/plain": [
       "<IPython.core.display.HTML object>"
      ]
     },
     "metadata": {},
     "output_type": "display_data"
    },
    {
     "data": {
      "text/html": [
       "Find logs at: <code>.\\wandb\\run-20241021_210953-q9b7lw3a\\logs</code>"
      ],
      "text/plain": [
       "<IPython.core.display.HTML object>"
      ]
     },
     "metadata": {},
     "output_type": "display_data"
    },
    {
     "name": "stderr",
     "output_type": "stream",
     "text": [
      "wandb: Agent Starting Run: xkrsazqh with config:\n",
      "wandb: \tlearning_rate: 0.08082828101032523\n",
      "wandb: \tnum_blocks: 1\n",
      "wandb: \toptimizer: sgd\n",
      "wandb: \tunits_1: 384\n",
      "wandb: \tunits_2: 232\n",
      "wandb: WARNING Ignored wandb.init() arg project when running a sweep.\n"
     ]
    },
    {
     "data": {
      "text/html": [
       "Tracking run with wandb version 0.18.5"
      ],
      "text/plain": [
       "<IPython.core.display.HTML object>"
      ]
     },
     "metadata": {},
     "output_type": "display_data"
    },
    {
     "data": {
      "text/html": [
       "Run data is saved locally in <code>c:\\Users\\prapt\\Desktop\\Deep Learning\\DL_Basics\\TensorFlow in Action\\wandb\\run-20241021_211016-xkrsazqh</code>"
      ],
      "text/plain": [
       "<IPython.core.display.HTML object>"
      ]
     },
     "metadata": {},
     "output_type": "display_data"
    },
    {
     "data": {
      "text/html": [
       "Syncing run <strong><a href='https://wandb.ai/praptipatil01/Iris-Species-Classification/runs/xkrsazqh' target=\"_blank\">whole-sweep-8</a></strong> to <a href='https://wandb.ai/praptipatil01/Iris-Species-Classification' target=\"_blank\">Weights & Biases</a> (<a href='https://wandb.me/run' target=\"_blank\">docs</a>)<br/>Sweep page: <a href='https://wandb.ai/praptipatil01/Iris-Species-Classification/sweeps/ekxr9ovf' target=\"_blank\">https://wandb.ai/praptipatil01/Iris-Species-Classification/sweeps/ekxr9ovf</a>"
      ],
      "text/plain": [
       "<IPython.core.display.HTML object>"
      ]
     },
     "metadata": {},
     "output_type": "display_data"
    },
    {
     "data": {
      "text/html": [
       " View project at <a href='https://wandb.ai/praptipatil01/Iris-Species-Classification' target=\"_blank\">https://wandb.ai/praptipatil01/Iris-Species-Classification</a>"
      ],
      "text/plain": [
       "<IPython.core.display.HTML object>"
      ]
     },
     "metadata": {},
     "output_type": "display_data"
    },
    {
     "data": {
      "text/html": [
       " View sweep at <a href='https://wandb.ai/praptipatil01/Iris-Species-Classification/sweeps/ekxr9ovf' target=\"_blank\">https://wandb.ai/praptipatil01/Iris-Species-Classification/sweeps/ekxr9ovf</a>"
      ],
      "text/plain": [
       "<IPython.core.display.HTML object>"
      ]
     },
     "metadata": {},
     "output_type": "display_data"
    },
    {
     "data": {
      "text/html": [
       " View run at <a href='https://wandb.ai/praptipatil01/Iris-Species-Classification/runs/xkrsazqh' target=\"_blank\">https://wandb.ai/praptipatil01/Iris-Species-Classification/runs/xkrsazqh</a>"
      ],
      "text/plain": [
       "<IPython.core.display.HTML object>"
      ]
     },
     "metadata": {},
     "output_type": "display_data"
    },
    {
     "name": "stderr",
     "output_type": "stream",
     "text": [
      "[D 241021 21:10:18 3472603808:23] Number of records: Train -  84, Val - 21\n"
     ]
    },
    {
     "data": {
      "text/html": [
       "<pre style=\"white-space:pre;overflow-x:auto;line-height:normal;font-family:Menlo,'DejaVu Sans Mono',consolas,'Courier New',monospace\"><span style=\"font-weight: bold\">Model: \"iris-top2_pca\"</span>\n",
       "</pre>\n"
      ],
      "text/plain": [
       "\u001b[1mModel: \"iris-top2_pca\"\u001b[0m\n"
      ]
     },
     "metadata": {},
     "output_type": "display_data"
    },
    {
     "data": {
      "text/html": [
       "<pre style=\"white-space:pre;overflow-x:auto;line-height:normal;font-family:Menlo,'DejaVu Sans Mono',consolas,'Courier New',monospace\">┏━━━━━━━━━━━━━━━━━━━━━┳━━━━━━━━━━━━━━━━━━━┳━━━━━━━━━━━━┳━━━━━━━━━━━━━━━━━━━┓\n",
       "┃<span style=\"font-weight: bold\"> Layer (type)        </span>┃<span style=\"font-weight: bold\"> Output Shape      </span>┃<span style=\"font-weight: bold\">    Param # </span>┃<span style=\"font-weight: bold\"> Connected to      </span>┃\n",
       "┡━━━━━━━━━━━━━━━━━━━━━╇━━━━━━━━━━━━━━━━━━━╇━━━━━━━━━━━━╇━━━━━━━━━━━━━━━━━━━┩\n",
       "│ input_layer         │ (<span style=\"color: #00d7ff; text-decoration-color: #00d7ff\">None</span>, <span style=\"color: #00af00; text-decoration-color: #00af00\">4</span>)         │          <span style=\"color: #00af00; text-decoration-color: #00af00\">0</span> │ -                 │\n",
       "│ (<span style=\"color: #0087ff; text-decoration-color: #0087ff\">InputLayer</span>)        │                   │            │                   │\n",
       "├─────────────────────┼───────────────────┼────────────┼───────────────────┤\n",
       "│ input_layer_1       │ (<span style=\"color: #00d7ff; text-decoration-color: #00d7ff\">None</span>, <span style=\"color: #00af00; text-decoration-color: #00af00\">2</span>)         │          <span style=\"color: #00af00; text-decoration-color: #00af00\">0</span> │ -                 │\n",
       "│ (<span style=\"color: #0087ff; text-decoration-color: #0087ff\">InputLayer</span>)        │                   │            │                   │\n",
       "├─────────────────────┼───────────────────┼────────────┼───────────────────┤\n",
       "│ dense (<span style=\"color: #0087ff; text-decoration-color: #0087ff\">Dense</span>)       │ (<span style=\"color: #00d7ff; text-decoration-color: #00d7ff\">None</span>, <span style=\"color: #00af00; text-decoration-color: #00af00\">16</span>)        │         <span style=\"color: #00af00; text-decoration-color: #00af00\">80</span> │ input_layer[<span style=\"color: #00af00; text-decoration-color: #00af00\">0</span>][<span style=\"color: #00af00; text-decoration-color: #00af00\">0</span>] │\n",
       "├─────────────────────┼───────────────────┼────────────┼───────────────────┤\n",
       "│ dense_1 (<span style=\"color: #0087ff; text-decoration-color: #0087ff\">Dense</span>)     │ (<span style=\"color: #00d7ff; text-decoration-color: #00d7ff\">None</span>, <span style=\"color: #00af00; text-decoration-color: #00af00\">16</span>)        │         <span style=\"color: #00af00; text-decoration-color: #00af00\">48</span> │ input_layer_1[<span style=\"color: #00af00; text-decoration-color: #00af00\">0</span>]… │\n",
       "├─────────────────────┼───────────────────┼────────────┼───────────────────┤\n",
       "│ concatenate         │ (<span style=\"color: #00d7ff; text-decoration-color: #00d7ff\">None</span>, <span style=\"color: #00af00; text-decoration-color: #00af00\">32</span>)        │          <span style=\"color: #00af00; text-decoration-color: #00af00\">0</span> │ dense[<span style=\"color: #00af00; text-decoration-color: #00af00\">0</span>][<span style=\"color: #00af00; text-decoration-color: #00af00\">0</span>],      │\n",
       "│ (<span style=\"color: #0087ff; text-decoration-color: #0087ff\">Concatenate</span>)       │                   │            │ dense_1[<span style=\"color: #00af00; text-decoration-color: #00af00\">0</span>][<span style=\"color: #00af00; text-decoration-color: #00af00\">0</span>]     │\n",
       "├─────────────────────┼───────────────────┼────────────┼───────────────────┤\n",
       "│ dense_2 (<span style=\"color: #0087ff; text-decoration-color: #0087ff\">Dense</span>)     │ (<span style=\"color: #00d7ff; text-decoration-color: #00d7ff\">None</span>, <span style=\"color: #00af00; text-decoration-color: #00af00\">384</span>)       │     <span style=\"color: #00af00; text-decoration-color: #00af00\">12,672</span> │ concatenate[<span style=\"color: #00af00; text-decoration-color: #00af00\">0</span>][<span style=\"color: #00af00; text-decoration-color: #00af00\">0</span>] │\n",
       "├─────────────────────┼───────────────────┼────────────┼───────────────────┤\n",
       "│ dense_3 (<span style=\"color: #0087ff; text-decoration-color: #0087ff\">Dense</span>)     │ (<span style=\"color: #00d7ff; text-decoration-color: #00d7ff\">None</span>, <span style=\"color: #00af00; text-decoration-color: #00af00\">232</span>)       │     <span style=\"color: #00af00; text-decoration-color: #00af00\">89,320</span> │ dense_2[<span style=\"color: #00af00; text-decoration-color: #00af00\">0</span>][<span style=\"color: #00af00; text-decoration-color: #00af00\">0</span>]     │\n",
       "├─────────────────────┼───────────────────┼────────────┼───────────────────┤\n",
       "│ dense_4 (<span style=\"color: #0087ff; text-decoration-color: #0087ff\">Dense</span>)     │ (<span style=\"color: #00d7ff; text-decoration-color: #00d7ff\">None</span>, <span style=\"color: #00af00; text-decoration-color: #00af00\">2</span>)         │        <span style=\"color: #00af00; text-decoration-color: #00af00\">466</span> │ dense_3[<span style=\"color: #00af00; text-decoration-color: #00af00\">0</span>][<span style=\"color: #00af00; text-decoration-color: #00af00\">0</span>]     │\n",
       "└─────────────────────┴───────────────────┴────────────┴───────────────────┘\n",
       "</pre>\n"
      ],
      "text/plain": [
       "┏━━━━━━━━━━━━━━━━━━━━━┳━━━━━━━━━━━━━━━━━━━┳━━━━━━━━━━━━┳━━━━━━━━━━━━━━━━━━━┓\n",
       "┃\u001b[1m \u001b[0m\u001b[1mLayer (type)       \u001b[0m\u001b[1m \u001b[0m┃\u001b[1m \u001b[0m\u001b[1mOutput Shape     \u001b[0m\u001b[1m \u001b[0m┃\u001b[1m \u001b[0m\u001b[1m   Param #\u001b[0m\u001b[1m \u001b[0m┃\u001b[1m \u001b[0m\u001b[1mConnected to     \u001b[0m\u001b[1m \u001b[0m┃\n",
       "┡━━━━━━━━━━━━━━━━━━━━━╇━━━━━━━━━━━━━━━━━━━╇━━━━━━━━━━━━╇━━━━━━━━━━━━━━━━━━━┩\n",
       "│ input_layer         │ (\u001b[38;5;45mNone\u001b[0m, \u001b[38;5;34m4\u001b[0m)         │          \u001b[38;5;34m0\u001b[0m │ -                 │\n",
       "│ (\u001b[38;5;33mInputLayer\u001b[0m)        │                   │            │                   │\n",
       "├─────────────────────┼───────────────────┼────────────┼───────────────────┤\n",
       "│ input_layer_1       │ (\u001b[38;5;45mNone\u001b[0m, \u001b[38;5;34m2\u001b[0m)         │          \u001b[38;5;34m0\u001b[0m │ -                 │\n",
       "│ (\u001b[38;5;33mInputLayer\u001b[0m)        │                   │            │                   │\n",
       "├─────────────────────┼───────────────────┼────────────┼───────────────────┤\n",
       "│ dense (\u001b[38;5;33mDense\u001b[0m)       │ (\u001b[38;5;45mNone\u001b[0m, \u001b[38;5;34m16\u001b[0m)        │         \u001b[38;5;34m80\u001b[0m │ input_layer[\u001b[38;5;34m0\u001b[0m][\u001b[38;5;34m0\u001b[0m] │\n",
       "├─────────────────────┼───────────────────┼────────────┼───────────────────┤\n",
       "│ dense_1 (\u001b[38;5;33mDense\u001b[0m)     │ (\u001b[38;5;45mNone\u001b[0m, \u001b[38;5;34m16\u001b[0m)        │         \u001b[38;5;34m48\u001b[0m │ input_layer_1[\u001b[38;5;34m0\u001b[0m]… │\n",
       "├─────────────────────┼───────────────────┼────────────┼───────────────────┤\n",
       "│ concatenate         │ (\u001b[38;5;45mNone\u001b[0m, \u001b[38;5;34m32\u001b[0m)        │          \u001b[38;5;34m0\u001b[0m │ dense[\u001b[38;5;34m0\u001b[0m][\u001b[38;5;34m0\u001b[0m],      │\n",
       "│ (\u001b[38;5;33mConcatenate\u001b[0m)       │                   │            │ dense_1[\u001b[38;5;34m0\u001b[0m][\u001b[38;5;34m0\u001b[0m]     │\n",
       "├─────────────────────┼───────────────────┼────────────┼───────────────────┤\n",
       "│ dense_2 (\u001b[38;5;33mDense\u001b[0m)     │ (\u001b[38;5;45mNone\u001b[0m, \u001b[38;5;34m384\u001b[0m)       │     \u001b[38;5;34m12,672\u001b[0m │ concatenate[\u001b[38;5;34m0\u001b[0m][\u001b[38;5;34m0\u001b[0m] │\n",
       "├─────────────────────┼───────────────────┼────────────┼───────────────────┤\n",
       "│ dense_3 (\u001b[38;5;33mDense\u001b[0m)     │ (\u001b[38;5;45mNone\u001b[0m, \u001b[38;5;34m232\u001b[0m)       │     \u001b[38;5;34m89,320\u001b[0m │ dense_2[\u001b[38;5;34m0\u001b[0m][\u001b[38;5;34m0\u001b[0m]     │\n",
       "├─────────────────────┼───────────────────┼────────────┼───────────────────┤\n",
       "│ dense_4 (\u001b[38;5;33mDense\u001b[0m)     │ (\u001b[38;5;45mNone\u001b[0m, \u001b[38;5;34m2\u001b[0m)         │        \u001b[38;5;34m466\u001b[0m │ dense_3[\u001b[38;5;34m0\u001b[0m][\u001b[38;5;34m0\u001b[0m]     │\n",
       "└─────────────────────┴───────────────────┴────────────┴───────────────────┘\n"
      ]
     },
     "metadata": {},
     "output_type": "display_data"
    },
    {
     "data": {
      "text/html": [
       "<pre style=\"white-space:pre;overflow-x:auto;line-height:normal;font-family:Menlo,'DejaVu Sans Mono',consolas,'Courier New',monospace\"><span style=\"font-weight: bold\"> Total params: </span><span style=\"color: #00af00; text-decoration-color: #00af00\">102,586</span> (400.73 KB)\n",
       "</pre>\n"
      ],
      "text/plain": [
       "\u001b[1m Total params: \u001b[0m\u001b[38;5;34m102,586\u001b[0m (400.73 KB)\n"
      ]
     },
     "metadata": {},
     "output_type": "display_data"
    },
    {
     "data": {
      "text/html": [
       "<pre style=\"white-space:pre;overflow-x:auto;line-height:normal;font-family:Menlo,'DejaVu Sans Mono',consolas,'Courier New',monospace\"><span style=\"font-weight: bold\"> Trainable params: </span><span style=\"color: #00af00; text-decoration-color: #00af00\">102,586</span> (400.73 KB)\n",
       "</pre>\n"
      ],
      "text/plain": [
       "\u001b[1m Trainable params: \u001b[0m\u001b[38;5;34m102,586\u001b[0m (400.73 KB)\n"
      ]
     },
     "metadata": {},
     "output_type": "display_data"
    },
    {
     "data": {
      "text/html": [
       "<pre style=\"white-space:pre;overflow-x:auto;line-height:normal;font-family:Menlo,'DejaVu Sans Mono',consolas,'Courier New',monospace\"><span style=\"font-weight: bold\"> Non-trainable params: </span><span style=\"color: #00af00; text-decoration-color: #00af00\">0</span> (0.00 B)\n",
       "</pre>\n"
      ],
      "text/plain": [
       "\u001b[1m Non-trainable params: \u001b[0m\u001b[38;5;34m0\u001b[0m (0.00 B)\n"
      ]
     },
     "metadata": {},
     "output_type": "display_data"
    },
    {
     "name": "stderr",
     "output_type": "stream",
     "text": [
      "[D 241021 21:10:18 3472603808:29] Model_name: iris-top2_pca\n"
     ]
    },
    {
     "name": "stdout",
     "output_type": "stream",
     "text": [
      "Epoch 1/20\n"
     ]
    },
    {
     "name": "stderr",
     "output_type": "stream",
     "text": [
      "c:\\Users\\prapt\\Desktop\\Deep Learning\\DL_Basics\\DL_WS\\Lib\\site-packages\\keras\\src\\models\\functional.py:225: UserWarning: The structure of `inputs` doesn't match the expected structure: ['keras_tensor', 'keras_tensor_1']. Received: the structure of inputs=('*', '*')\n",
      "  warnings.warn(\n"
     ]
    },
    {
     "name": "stdout",
     "output_type": "stream",
     "text": [
      "1/1 ━━━━━━━━━━━━━━━━━━━━ 0s 785ms/step - acc: 0.6667 - loss: 0.4847"
     ]
    },
    {
     "name": "stderr",
     "output_type": "stream",
     "text": [
      "c:\\Users\\prapt\\Desktop\\Deep Learning\\DL_Basics\\DL_WS\\Lib\\site-packages\\keras\\src\\models\\functional.py:225: UserWarning: The structure of `inputs` doesn't match the expected structure: ['keras_tensor', 'keras_tensor_1']. Received: the structure of inputs=('*', '*')\n",
      "  warnings.warn(\n"
     ]
    },
    {
     "name": "stdout",
     "output_type": "stream",
     "text": [
      "INFO:tensorflow:Assets written to: models/iris/iris-functional_api\\assets\n"
     ]
    },
    {
     "name": "stderr",
     "output_type": "stream",
     "text": [
      "INFO:tensorflow:Assets written to: models/iris/iris-functional_api\\assets\n"
     ]
    },
    {
     "name": "stdout",
     "output_type": "stream",
     "text": [
      "1/1 ━━━━━━━━━━━━━━━━━━━━ 2s 2s/step - acc: 0.6667 - loss: 0.4847 - val_acc: 0.5238 - val_loss: 0.5481\n",
      "Epoch 2/20\n",
      "1/1 ━━━━━━━━━━━━━━━━━━━━ 0s 53ms/step - acc: 0.6667 - loss: 0.47 ━━━━━━━━━━━━━━━━━━━━ 0s 115ms/step - acc: 0.6667 - loss: 0.4725 - val_acc: 0.5238 - val_loss: 0.5300\n",
      "Epoch 3/20\n",
      "1/1 ━━━━━━━━━━━━━━━━━━━━ 0s 40ms/step - acc: 0.6548 - loss: 0.4645INFO:tensorflow:Assets written to: models/iris/iris-functional_api\\assets\n"
     ]
    },
    {
     "name": "stderr",
     "output_type": "stream",
     "text": [
      "INFO:tensorflow:Assets written to: models/iris/iris-functional_api\\assets\n"
     ]
    },
    {
     "name": "stdout",
     "output_type": "stream",
     "text": [
      "1/1 ━━━━━━━━━━━━━━━━━━━━ 0s 471ms/step - acc: 0.6548 - loss: 0.4645 - val_acc: 0.6667 - val_loss: 0.5170\n",
      "Epoch 4/20\n",
      "1/1 ━━━━━━━━━━━━━━━━━━━━ 0s 119ms/step - acc: 0.7738 - loss: 0.4587INFO:tensorflow:Assets written to: models/iris/iris-functional_api\\assets\n"
     ]
    },
    {
     "name": "stderr",
     "output_type": "stream",
     "text": [
      "INFO:tensorflow:Assets written to: models/iris/iris-functional_api\\assets\n"
     ]
    },
    {
     "name": "stdout",
     "output_type": "stream",
     "text": [
      "1/1 ━━━━━━━━━━━━━━━━━━━━ 1s 768ms/step - acc: 0.7738 - loss: 0.4587 - val_acc: 0.7619 - val_loss: 0.5074\n",
      "Epoch 5/20\n",
      "1/1 ━━━━━━━━━━━━━━━━━━━━ 0s 92ms/step - acc: 0.8571 - loss: 0.4541INFO:tensorflow:Assets written to: models/iris/iris-functional_api\\assets\n"
     ]
    },
    {
     "name": "stderr",
     "output_type": "stream",
     "text": [
      "INFO:tensorflow:Assets written to: models/iris/iris-functional_api\\assets\n"
     ]
    },
    {
     "name": "stdout",
     "output_type": "stream",
     "text": [
      "1/1 ━━━━━━━━━━━━━━━━━━━━ 1s 889ms/step - acc: 0.8571 - loss: 0.4541 - val_acc: 0.8095 - val_loss: 0.4995\n",
      "Epoch 6/20\n",
      "1/1 ━━━━━━━━━━━━━━━━━━━━ 0s 57ms/step - acc: 0.8929 - loss: 0.4500INFO:tensorflow:Assets written to: models/iris/iris-functional_api\\assets\n"
     ]
    },
    {
     "name": "stderr",
     "output_type": "stream",
     "text": [
      "INFO:tensorflow:Assets written to: models/iris/iris-functional_api\\assets\n"
     ]
    },
    {
     "name": "stdout",
     "output_type": "stream",
     "text": [
      "1/1 ━━━━━━━━━━━━━━━━━━━━ 0s 408ms/step - acc: 0.8929 - loss: 0.4500 - val_acc: 0.9048 - val_loss: 0.4927\n",
      "Epoch 7/20\n",
      "1/1 ━━━━━━━━━━━━━━━━━━━━ 0s 34ms/step - acc: 0.8571 - loss: 0.44 ━━━━━━━━━━━━━━━━━━━━ 0s 91ms/step - acc: 0.8571 - loss: 0.4462 - val_acc: 0.9048 - val_loss: 0.4866\n",
      "Epoch 8/20\n",
      "1/1 ━━━━━━━━━━━━━━━━━━━━ 0s 46ms/step - acc: 0.8690 - loss: 0.4424INFO:tensorflow:Assets written to: models/iris/iris-functional_api\\assets\n"
     ]
    },
    {
     "name": "stderr",
     "output_type": "stream",
     "text": [
      "INFO:tensorflow:Assets written to: models/iris/iris-functional_api\\assets\n"
     ]
    },
    {
     "name": "stdout",
     "output_type": "stream",
     "text": [
      "1/1 ━━━━━━━━━━━━━━━━━━━━ 0s 409ms/step - acc: 0.8690 - loss: 0.4424 - val_acc: 0.9524 - val_loss: 0.4809\n",
      "Epoch 9/20\n",
      "1/1 ━━━━━━━━━━━━━━━━━━━━ 0s 57ms/step - acc: 0.8810 - loss: 0.43 ━━━━━━━━━━━━━━━━━━━━ 0s 133ms/step - acc: 0.8810 - loss: 0.4385 - val_acc: 0.9524 - val_loss: 0.4757\n",
      "Epoch 10/20\n",
      "1/1 ━━━━━━━━━━━━━━━━━━━━ 0s 62ms/step - acc: 0.8929 - loss: 0.43 ━━━━━━━━━━━━━━━━━━━━ 0s 127ms/step - acc: 0.8929 - loss: 0.4348 - val_acc: 0.9524 - val_loss: 0.4712\n",
      "Epoch 11/20\n",
      "1/1 ━━━━━━━━━━━━━━━━━━━━ 0s 50ms/step - acc: 0.8929 - loss: 0.43 ━━━━━━━━━━━━━━━━━━━━ 0s 94ms/step - acc: 0.8929 - loss: 0.4313 - val_acc: 0.9048 - val_loss: 0.4674\n",
      "Epoch 12/20\n",
      "1/1 ━━━━━━━━━━━━━━━━━━━━ 0s 35ms/step - acc: 0.9167 - loss: 0.42 ━━━━━━━━━━━━━━━━━━━━ 0s 90ms/step - acc: 0.9167 - loss: 0.4282 - val_acc: 0.9048 - val_loss: 0.4642\n",
      "Epoch 13/20\n",
      "1/1 ━━━━━━━━━━━━━━━━━━━━ 0s 40ms/step - acc: 0.9167 - loss: 0.42 ━━━━━━━━━━━━━━━━━━━━ 0s 83ms/step - acc: 0.9167 - loss: 0.4255 - val_acc: 0.9048 - val_loss: 0.4613\n",
      "Epoch 14/20\n",
      "1/1 ━━━━━━━━━━━━━━━━━━━━ 0s 29ms/step - acc: 0.9167 - loss: 0.42 ━━━━━━━━━━━━━━━━━━━━ 0s 75ms/step - acc: 0.9167 - loss: 0.4230 - val_acc: 0.9524 - val_loss: 0.4586\n",
      "Epoch 15/20\n",
      "1/1 ━━━━━━━━━━━━━━━━━━━━ 0s 36ms/step - acc: 0.9167 - loss: 0.42 ━━━━━━━━━━━━━━━━━━━━ 0s 83ms/step - acc: 0.9167 - loss: 0.4205 - val_acc: 0.9524 - val_loss: 0.4560\n",
      "Epoch 16/20\n",
      "1/1 ━━━━━━━━━━━━━━━━━━━━ 0s 49ms/step - acc: 0.9167 - loss: 0.41 ━━━━━━━━━━━━━━━━━━━━ 0s 92ms/step - acc: 0.9167 - loss: 0.4181 - val_acc: 0.9524 - val_loss: 0.4535\n",
      "Epoch 17/20\n",
      "1/1 ━━━━━━━━━━━━━━━━━━━━ 0s 31ms/step - acc: 0.9167 - loss: 0.41 ━━━━━━━━━━━━━━━━━━━━ 0s 81ms/step - acc: 0.9167 - loss: 0.4158 - val_acc: 0.9524 - val_loss: 0.4511\n",
      "Epoch 18/20\n",
      "1/1 ━━━━━━━━━━━━━━━━━━━━ 0s 35ms/step - acc: 0.9167 - loss: 0.41 ━━━━━━━━━━━━━━━━━━━━ 0s 80ms/step - acc: 0.9167 - loss: 0.4135 - val_acc: 0.9524 - val_loss: 0.4488\n",
      "Epoch 19/20\n",
      "1/1 ━━━━━━━━━━━━━━━━━━━━ 0s 30ms/step - acc: 0.9167 - loss: 0.41 ━━━━━━━━━━━━━━━━━━━━ 0s 80ms/step - acc: 0.9167 - loss: 0.4112 - val_acc: 0.9524 - val_loss: 0.4466\n",
      "Epoch 20/20\n",
      "1/1 ━━━━━━━━━━━━━━━━━━━━ 0s 34ms/step - acc: 0.9167 - loss: 0.40 ━━━━━━━━━━━━━━━━━━━━ 0s 75ms/step - acc: 0.9167 - loss: 0.4091 - val_acc: 0.9524 - val_loss: 0.4443\n"
     ]
    },
    {
     "name": "stderr",
     "output_type": "stream",
     "text": [
      "wandb: Adding directory to artifact (.\\models\\iris\\iris-functional_api)... Done. 0.0s\n"
     ]
    },
    {
     "data": {
      "text/html": [
       "<style>\n",
       "    table.wandb td:nth-child(1) { padding: 0 10px; text-align: left ; width: auto;} td:nth-child(2) {text-align: left ; width: 100%}\n",
       "    .wandb-row { display: flex; flex-direction: row; flex-wrap: wrap; justify-content: flex-start; width: 100% }\n",
       "    .wandb-col { display: flex; flex-direction: column; flex-basis: 100%; flex: 1; padding: 10px; }\n",
       "    </style>\n",
       "<div class=\"wandb-row\"><div class=\"wandb-col\"><h3>Run history:</h3><br/><table class=\"wandb\"><tr><td>acc</td><td>▁▁▁▄▆▇▆▇▇▇▇█████████</td></tr><tr><td>loss</td><td>█▇▆▆▅▅▄▄▄▃▃▃▃▂▂▂▂▁▁▁</td></tr><tr><td>val_acc</td><td>▁▁▃▅▆▇▇███▇▇▇███████</td></tr><tr><td>val_loss</td><td>█▇▆▅▅▄▄▃▃▃▃▂▂▂▂▂▁▁▁▁</td></tr></table><br/></div><div class=\"wandb-col\"><h3>Run summary:</h3><br/><table class=\"wandb\"><tr><td>acc</td><td>0.91667</td></tr><tr><td>loss</td><td>0.40909</td></tr><tr><td>val_acc</td><td>0.95238</td></tr><tr><td>val_loss</td><td>0.44429</td></tr></table><br/></div></div>"
      ],
      "text/plain": [
       "<IPython.core.display.HTML object>"
      ]
     },
     "metadata": {},
     "output_type": "display_data"
    },
    {
     "data": {
      "text/html": [
       " View run <strong style=\"color:#cdcd00\">whole-sweep-8</strong> at: <a href='https://wandb.ai/praptipatil01/Iris-Species-Classification/runs/xkrsazqh' target=\"_blank\">https://wandb.ai/praptipatil01/Iris-Species-Classification/runs/xkrsazqh</a><br/> View project at: <a href='https://wandb.ai/praptipatil01/Iris-Species-Classification' target=\"_blank\">https://wandb.ai/praptipatil01/Iris-Species-Classification</a><br/>Synced 5 W&B file(s), 0 media file(s), 5 artifact file(s) and 0 other file(s)"
      ],
      "text/plain": [
       "<IPython.core.display.HTML object>"
      ]
     },
     "metadata": {},
     "output_type": "display_data"
    },
    {
     "data": {
      "text/html": [
       "Find logs at: <code>.\\wandb\\run-20241021_211016-xkrsazqh\\logs</code>"
      ],
      "text/plain": [
       "<IPython.core.display.HTML object>"
      ]
     },
     "metadata": {},
     "output_type": "display_data"
    },
    {
     "name": "stderr",
     "output_type": "stream",
     "text": [
      "wandb: Agent Starting Run: ride439b with config:\n",
      "wandb: \tlearning_rate: 0.029675495669879832\n",
      "wandb: \tnum_blocks: 6\n",
      "wandb: \toptimizer: sgd\n",
      "wandb: \tunits_1: 336\n",
      "wandb: \tunits_2: 152\n",
      "wandb: WARNING Ignored wandb.init() arg project when running a sweep.\n"
     ]
    },
    {
     "data": {
      "text/html": [
       "Tracking run with wandb version 0.18.5"
      ],
      "text/plain": [
       "<IPython.core.display.HTML object>"
      ]
     },
     "metadata": {},
     "output_type": "display_data"
    },
    {
     "data": {
      "text/html": [
       "Run data is saved locally in <code>c:\\Users\\prapt\\Desktop\\Deep Learning\\DL_Basics\\TensorFlow in Action\\wandb\\run-20241021_211041-ride439b</code>"
      ],
      "text/plain": [
       "<IPython.core.display.HTML object>"
      ]
     },
     "metadata": {},
     "output_type": "display_data"
    },
    {
     "data": {
      "text/html": [
       "Syncing run <strong><a href='https://wandb.ai/praptipatil01/Iris-Species-Classification/runs/ride439b' target=\"_blank\">dutiful-sweep-9</a></strong> to <a href='https://wandb.ai/praptipatil01/Iris-Species-Classification' target=\"_blank\">Weights & Biases</a> (<a href='https://wandb.me/run' target=\"_blank\">docs</a>)<br/>Sweep page: <a href='https://wandb.ai/praptipatil01/Iris-Species-Classification/sweeps/ekxr9ovf' target=\"_blank\">https://wandb.ai/praptipatil01/Iris-Species-Classification/sweeps/ekxr9ovf</a>"
      ],
      "text/plain": [
       "<IPython.core.display.HTML object>"
      ]
     },
     "metadata": {},
     "output_type": "display_data"
    },
    {
     "data": {
      "text/html": [
       " View project at <a href='https://wandb.ai/praptipatil01/Iris-Species-Classification' target=\"_blank\">https://wandb.ai/praptipatil01/Iris-Species-Classification</a>"
      ],
      "text/plain": [
       "<IPython.core.display.HTML object>"
      ]
     },
     "metadata": {},
     "output_type": "display_data"
    },
    {
     "data": {
      "text/html": [
       " View sweep at <a href='https://wandb.ai/praptipatil01/Iris-Species-Classification/sweeps/ekxr9ovf' target=\"_blank\">https://wandb.ai/praptipatil01/Iris-Species-Classification/sweeps/ekxr9ovf</a>"
      ],
      "text/plain": [
       "<IPython.core.display.HTML object>"
      ]
     },
     "metadata": {},
     "output_type": "display_data"
    },
    {
     "data": {
      "text/html": [
       " View run at <a href='https://wandb.ai/praptipatil01/Iris-Species-Classification/runs/ride439b' target=\"_blank\">https://wandb.ai/praptipatil01/Iris-Species-Classification/runs/ride439b</a>"
      ],
      "text/plain": [
       "<IPython.core.display.HTML object>"
      ]
     },
     "metadata": {},
     "output_type": "display_data"
    },
    {
     "name": "stderr",
     "output_type": "stream",
     "text": [
      "[D 241021 21:10:43 3472603808:23] Number of records: Train -  84, Val - 21\n"
     ]
    },
    {
     "data": {
      "text/html": [
       "<pre style=\"white-space:pre;overflow-x:auto;line-height:normal;font-family:Menlo,'DejaVu Sans Mono',consolas,'Courier New',monospace\"><span style=\"font-weight: bold\">Model: \"iris-top2_pca\"</span>\n",
       "</pre>\n"
      ],
      "text/plain": [
       "\u001b[1mModel: \"iris-top2_pca\"\u001b[0m\n"
      ]
     },
     "metadata": {},
     "output_type": "display_data"
    },
    {
     "data": {
      "text/html": [
       "<pre style=\"white-space:pre;overflow-x:auto;line-height:normal;font-family:Menlo,'DejaVu Sans Mono',consolas,'Courier New',monospace\">┏━━━━━━━━━━━━━━━━━━━━━┳━━━━━━━━━━━━━━━━━━━┳━━━━━━━━━━━━┳━━━━━━━━━━━━━━━━━━━┓\n",
       "┃<span style=\"font-weight: bold\"> Layer (type)        </span>┃<span style=\"font-weight: bold\"> Output Shape      </span>┃<span style=\"font-weight: bold\">    Param # </span>┃<span style=\"font-weight: bold\"> Connected to      </span>┃\n",
       "┡━━━━━━━━━━━━━━━━━━━━━╇━━━━━━━━━━━━━━━━━━━╇━━━━━━━━━━━━╇━━━━━━━━━━━━━━━━━━━┩\n",
       "│ input_layer         │ (<span style=\"color: #00d7ff; text-decoration-color: #00d7ff\">None</span>, <span style=\"color: #00af00; text-decoration-color: #00af00\">4</span>)         │          <span style=\"color: #00af00; text-decoration-color: #00af00\">0</span> │ -                 │\n",
       "│ (<span style=\"color: #0087ff; text-decoration-color: #0087ff\">InputLayer</span>)        │                   │            │                   │\n",
       "├─────────────────────┼───────────────────┼────────────┼───────────────────┤\n",
       "│ input_layer_1       │ (<span style=\"color: #00d7ff; text-decoration-color: #00d7ff\">None</span>, <span style=\"color: #00af00; text-decoration-color: #00af00\">2</span>)         │          <span style=\"color: #00af00; text-decoration-color: #00af00\">0</span> │ -                 │\n",
       "│ (<span style=\"color: #0087ff; text-decoration-color: #0087ff\">InputLayer</span>)        │                   │            │                   │\n",
       "├─────────────────────┼───────────────────┼────────────┼───────────────────┤\n",
       "│ dense (<span style=\"color: #0087ff; text-decoration-color: #0087ff\">Dense</span>)       │ (<span style=\"color: #00d7ff; text-decoration-color: #00d7ff\">None</span>, <span style=\"color: #00af00; text-decoration-color: #00af00\">16</span>)        │         <span style=\"color: #00af00; text-decoration-color: #00af00\">80</span> │ input_layer[<span style=\"color: #00af00; text-decoration-color: #00af00\">0</span>][<span style=\"color: #00af00; text-decoration-color: #00af00\">0</span>] │\n",
       "├─────────────────────┼───────────────────┼────────────┼───────────────────┤\n",
       "│ dense_1 (<span style=\"color: #0087ff; text-decoration-color: #0087ff\">Dense</span>)     │ (<span style=\"color: #00d7ff; text-decoration-color: #00d7ff\">None</span>, <span style=\"color: #00af00; text-decoration-color: #00af00\">16</span>)        │         <span style=\"color: #00af00; text-decoration-color: #00af00\">48</span> │ input_layer_1[<span style=\"color: #00af00; text-decoration-color: #00af00\">0</span>]… │\n",
       "├─────────────────────┼───────────────────┼────────────┼───────────────────┤\n",
       "│ concatenate         │ (<span style=\"color: #00d7ff; text-decoration-color: #00d7ff\">None</span>, <span style=\"color: #00af00; text-decoration-color: #00af00\">32</span>)        │          <span style=\"color: #00af00; text-decoration-color: #00af00\">0</span> │ dense[<span style=\"color: #00af00; text-decoration-color: #00af00\">0</span>][<span style=\"color: #00af00; text-decoration-color: #00af00\">0</span>],      │\n",
       "│ (<span style=\"color: #0087ff; text-decoration-color: #0087ff\">Concatenate</span>)       │                   │            │ dense_1[<span style=\"color: #00af00; text-decoration-color: #00af00\">0</span>][<span style=\"color: #00af00; text-decoration-color: #00af00\">0</span>]     │\n",
       "├─────────────────────┼───────────────────┼────────────┼───────────────────┤\n",
       "│ dense_2 (<span style=\"color: #0087ff; text-decoration-color: #0087ff\">Dense</span>)     │ (<span style=\"color: #00d7ff; text-decoration-color: #00d7ff\">None</span>, <span style=\"color: #00af00; text-decoration-color: #00af00\">336</span>)       │     <span style=\"color: #00af00; text-decoration-color: #00af00\">11,088</span> │ concatenate[<span style=\"color: #00af00; text-decoration-color: #00af00\">0</span>][<span style=\"color: #00af00; text-decoration-color: #00af00\">0</span>] │\n",
       "├─────────────────────┼───────────────────┼────────────┼───────────────────┤\n",
       "│ dense_3 (<span style=\"color: #0087ff; text-decoration-color: #0087ff\">Dense</span>)     │ (<span style=\"color: #00d7ff; text-decoration-color: #00d7ff\">None</span>, <span style=\"color: #00af00; text-decoration-color: #00af00\">152</span>)       │     <span style=\"color: #00af00; text-decoration-color: #00af00\">51,224</span> │ dense_2[<span style=\"color: #00af00; text-decoration-color: #00af00\">0</span>][<span style=\"color: #00af00; text-decoration-color: #00af00\">0</span>]     │\n",
       "├─────────────────────┼───────────────────┼────────────┼───────────────────┤\n",
       "│ dense_4 (<span style=\"color: #0087ff; text-decoration-color: #0087ff\">Dense</span>)     │ (<span style=\"color: #00d7ff; text-decoration-color: #00d7ff\">None</span>, <span style=\"color: #00af00; text-decoration-color: #00af00\">336</span>)       │     <span style=\"color: #00af00; text-decoration-color: #00af00\">51,408</span> │ dense_3[<span style=\"color: #00af00; text-decoration-color: #00af00\">0</span>][<span style=\"color: #00af00; text-decoration-color: #00af00\">0</span>]     │\n",
       "├─────────────────────┼───────────────────┼────────────┼───────────────────┤\n",
       "│ dense_5 (<span style=\"color: #0087ff; text-decoration-color: #0087ff\">Dense</span>)     │ (<span style=\"color: #00d7ff; text-decoration-color: #00d7ff\">None</span>, <span style=\"color: #00af00; text-decoration-color: #00af00\">152</span>)       │     <span style=\"color: #00af00; text-decoration-color: #00af00\">51,224</span> │ dense_4[<span style=\"color: #00af00; text-decoration-color: #00af00\">0</span>][<span style=\"color: #00af00; text-decoration-color: #00af00\">0</span>]     │\n",
       "├─────────────────────┼───────────────────┼────────────┼───────────────────┤\n",
       "│ dense_6 (<span style=\"color: #0087ff; text-decoration-color: #0087ff\">Dense</span>)     │ (<span style=\"color: #00d7ff; text-decoration-color: #00d7ff\">None</span>, <span style=\"color: #00af00; text-decoration-color: #00af00\">336</span>)       │     <span style=\"color: #00af00; text-decoration-color: #00af00\">51,408</span> │ dense_5[<span style=\"color: #00af00; text-decoration-color: #00af00\">0</span>][<span style=\"color: #00af00; text-decoration-color: #00af00\">0</span>]     │\n",
       "├─────────────────────┼───────────────────┼────────────┼───────────────────┤\n",
       "│ dense_7 (<span style=\"color: #0087ff; text-decoration-color: #0087ff\">Dense</span>)     │ (<span style=\"color: #00d7ff; text-decoration-color: #00d7ff\">None</span>, <span style=\"color: #00af00; text-decoration-color: #00af00\">152</span>)       │     <span style=\"color: #00af00; text-decoration-color: #00af00\">51,224</span> │ dense_6[<span style=\"color: #00af00; text-decoration-color: #00af00\">0</span>][<span style=\"color: #00af00; text-decoration-color: #00af00\">0</span>]     │\n",
       "├─────────────────────┼───────────────────┼────────────┼───────────────────┤\n",
       "│ dense_8 (<span style=\"color: #0087ff; text-decoration-color: #0087ff\">Dense</span>)     │ (<span style=\"color: #00d7ff; text-decoration-color: #00d7ff\">None</span>, <span style=\"color: #00af00; text-decoration-color: #00af00\">336</span>)       │     <span style=\"color: #00af00; text-decoration-color: #00af00\">51,408</span> │ dense_7[<span style=\"color: #00af00; text-decoration-color: #00af00\">0</span>][<span style=\"color: #00af00; text-decoration-color: #00af00\">0</span>]     │\n",
       "├─────────────────────┼───────────────────┼────────────┼───────────────────┤\n",
       "│ dense_9 (<span style=\"color: #0087ff; text-decoration-color: #0087ff\">Dense</span>)     │ (<span style=\"color: #00d7ff; text-decoration-color: #00d7ff\">None</span>, <span style=\"color: #00af00; text-decoration-color: #00af00\">152</span>)       │     <span style=\"color: #00af00; text-decoration-color: #00af00\">51,224</span> │ dense_8[<span style=\"color: #00af00; text-decoration-color: #00af00\">0</span>][<span style=\"color: #00af00; text-decoration-color: #00af00\">0</span>]     │\n",
       "├─────────────────────┼───────────────────┼────────────┼───────────────────┤\n",
       "│ dense_10 (<span style=\"color: #0087ff; text-decoration-color: #0087ff\">Dense</span>)    │ (<span style=\"color: #00d7ff; text-decoration-color: #00d7ff\">None</span>, <span style=\"color: #00af00; text-decoration-color: #00af00\">336</span>)       │     <span style=\"color: #00af00; text-decoration-color: #00af00\">51,408</span> │ dense_9[<span style=\"color: #00af00; text-decoration-color: #00af00\">0</span>][<span style=\"color: #00af00; text-decoration-color: #00af00\">0</span>]     │\n",
       "├─────────────────────┼───────────────────┼────────────┼───────────────────┤\n",
       "│ dense_11 (<span style=\"color: #0087ff; text-decoration-color: #0087ff\">Dense</span>)    │ (<span style=\"color: #00d7ff; text-decoration-color: #00d7ff\">None</span>, <span style=\"color: #00af00; text-decoration-color: #00af00\">152</span>)       │     <span style=\"color: #00af00; text-decoration-color: #00af00\">51,224</span> │ dense_10[<span style=\"color: #00af00; text-decoration-color: #00af00\">0</span>][<span style=\"color: #00af00; text-decoration-color: #00af00\">0</span>]    │\n",
       "├─────────────────────┼───────────────────┼────────────┼───────────────────┤\n",
       "│ dense_12 (<span style=\"color: #0087ff; text-decoration-color: #0087ff\">Dense</span>)    │ (<span style=\"color: #00d7ff; text-decoration-color: #00d7ff\">None</span>, <span style=\"color: #00af00; text-decoration-color: #00af00\">336</span>)       │     <span style=\"color: #00af00; text-decoration-color: #00af00\">51,408</span> │ dense_11[<span style=\"color: #00af00; text-decoration-color: #00af00\">0</span>][<span style=\"color: #00af00; text-decoration-color: #00af00\">0</span>]    │\n",
       "├─────────────────────┼───────────────────┼────────────┼───────────────────┤\n",
       "│ dense_13 (<span style=\"color: #0087ff; text-decoration-color: #0087ff\">Dense</span>)    │ (<span style=\"color: #00d7ff; text-decoration-color: #00d7ff\">None</span>, <span style=\"color: #00af00; text-decoration-color: #00af00\">152</span>)       │     <span style=\"color: #00af00; text-decoration-color: #00af00\">51,224</span> │ dense_12[<span style=\"color: #00af00; text-decoration-color: #00af00\">0</span>][<span style=\"color: #00af00; text-decoration-color: #00af00\">0</span>]    │\n",
       "├─────────────────────┼───────────────────┼────────────┼───────────────────┤\n",
       "│ dense_14 (<span style=\"color: #0087ff; text-decoration-color: #0087ff\">Dense</span>)    │ (<span style=\"color: #00d7ff; text-decoration-color: #00d7ff\">None</span>, <span style=\"color: #00af00; text-decoration-color: #00af00\">2</span>)         │        <span style=\"color: #00af00; text-decoration-color: #00af00\">306</span> │ dense_13[<span style=\"color: #00af00; text-decoration-color: #00af00\">0</span>][<span style=\"color: #00af00; text-decoration-color: #00af00\">0</span>]    │\n",
       "└─────────────────────┴───────────────────┴────────────┴───────────────────┘\n",
       "</pre>\n"
      ],
      "text/plain": [
       "┏━━━━━━━━━━━━━━━━━━━━━┳━━━━━━━━━━━━━━━━━━━┳━━━━━━━━━━━━┳━━━━━━━━━━━━━━━━━━━┓\n",
       "┃\u001b[1m \u001b[0m\u001b[1mLayer (type)       \u001b[0m\u001b[1m \u001b[0m┃\u001b[1m \u001b[0m\u001b[1mOutput Shape     \u001b[0m\u001b[1m \u001b[0m┃\u001b[1m \u001b[0m\u001b[1m   Param #\u001b[0m\u001b[1m \u001b[0m┃\u001b[1m \u001b[0m\u001b[1mConnected to     \u001b[0m\u001b[1m \u001b[0m┃\n",
       "┡━━━━━━━━━━━━━━━━━━━━━╇━━━━━━━━━━━━━━━━━━━╇━━━━━━━━━━━━╇━━━━━━━━━━━━━━━━━━━┩\n",
       "│ input_layer         │ (\u001b[38;5;45mNone\u001b[0m, \u001b[38;5;34m4\u001b[0m)         │          \u001b[38;5;34m0\u001b[0m │ -                 │\n",
       "│ (\u001b[38;5;33mInputLayer\u001b[0m)        │                   │            │                   │\n",
       "├─────────────────────┼───────────────────┼────────────┼───────────────────┤\n",
       "│ input_layer_1       │ (\u001b[38;5;45mNone\u001b[0m, \u001b[38;5;34m2\u001b[0m)         │          \u001b[38;5;34m0\u001b[0m │ -                 │\n",
       "│ (\u001b[38;5;33mInputLayer\u001b[0m)        │                   │            │                   │\n",
       "├─────────────────────┼───────────────────┼────────────┼───────────────────┤\n",
       "│ dense (\u001b[38;5;33mDense\u001b[0m)       │ (\u001b[38;5;45mNone\u001b[0m, \u001b[38;5;34m16\u001b[0m)        │         \u001b[38;5;34m80\u001b[0m │ input_layer[\u001b[38;5;34m0\u001b[0m][\u001b[38;5;34m0\u001b[0m] │\n",
       "├─────────────────────┼───────────────────┼────────────┼───────────────────┤\n",
       "│ dense_1 (\u001b[38;5;33mDense\u001b[0m)     │ (\u001b[38;5;45mNone\u001b[0m, \u001b[38;5;34m16\u001b[0m)        │         \u001b[38;5;34m48\u001b[0m │ input_layer_1[\u001b[38;5;34m0\u001b[0m]… │\n",
       "├─────────────────────┼───────────────────┼────────────┼───────────────────┤\n",
       "│ concatenate         │ (\u001b[38;5;45mNone\u001b[0m, \u001b[38;5;34m32\u001b[0m)        │          \u001b[38;5;34m0\u001b[0m │ dense[\u001b[38;5;34m0\u001b[0m][\u001b[38;5;34m0\u001b[0m],      │\n",
       "│ (\u001b[38;5;33mConcatenate\u001b[0m)       │                   │            │ dense_1[\u001b[38;5;34m0\u001b[0m][\u001b[38;5;34m0\u001b[0m]     │\n",
       "├─────────────────────┼───────────────────┼────────────┼───────────────────┤\n",
       "│ dense_2 (\u001b[38;5;33mDense\u001b[0m)     │ (\u001b[38;5;45mNone\u001b[0m, \u001b[38;5;34m336\u001b[0m)       │     \u001b[38;5;34m11,088\u001b[0m │ concatenate[\u001b[38;5;34m0\u001b[0m][\u001b[38;5;34m0\u001b[0m] │\n",
       "├─────────────────────┼───────────────────┼────────────┼───────────────────┤\n",
       "│ dense_3 (\u001b[38;5;33mDense\u001b[0m)     │ (\u001b[38;5;45mNone\u001b[0m, \u001b[38;5;34m152\u001b[0m)       │     \u001b[38;5;34m51,224\u001b[0m │ dense_2[\u001b[38;5;34m0\u001b[0m][\u001b[38;5;34m0\u001b[0m]     │\n",
       "├─────────────────────┼───────────────────┼────────────┼───────────────────┤\n",
       "│ dense_4 (\u001b[38;5;33mDense\u001b[0m)     │ (\u001b[38;5;45mNone\u001b[0m, \u001b[38;5;34m336\u001b[0m)       │     \u001b[38;5;34m51,408\u001b[0m │ dense_3[\u001b[38;5;34m0\u001b[0m][\u001b[38;5;34m0\u001b[0m]     │\n",
       "├─────────────────────┼───────────────────┼────────────┼───────────────────┤\n",
       "│ dense_5 (\u001b[38;5;33mDense\u001b[0m)     │ (\u001b[38;5;45mNone\u001b[0m, \u001b[38;5;34m152\u001b[0m)       │     \u001b[38;5;34m51,224\u001b[0m │ dense_4[\u001b[38;5;34m0\u001b[0m][\u001b[38;5;34m0\u001b[0m]     │\n",
       "├─────────────────────┼───────────────────┼────────────┼───────────────────┤\n",
       "│ dense_6 (\u001b[38;5;33mDense\u001b[0m)     │ (\u001b[38;5;45mNone\u001b[0m, \u001b[38;5;34m336\u001b[0m)       │     \u001b[38;5;34m51,408\u001b[0m │ dense_5[\u001b[38;5;34m0\u001b[0m][\u001b[38;5;34m0\u001b[0m]     │\n",
       "├─────────────────────┼───────────────────┼────────────┼───────────────────┤\n",
       "│ dense_7 (\u001b[38;5;33mDense\u001b[0m)     │ (\u001b[38;5;45mNone\u001b[0m, \u001b[38;5;34m152\u001b[0m)       │     \u001b[38;5;34m51,224\u001b[0m │ dense_6[\u001b[38;5;34m0\u001b[0m][\u001b[38;5;34m0\u001b[0m]     │\n",
       "├─────────────────────┼───────────────────┼────────────┼───────────────────┤\n",
       "│ dense_8 (\u001b[38;5;33mDense\u001b[0m)     │ (\u001b[38;5;45mNone\u001b[0m, \u001b[38;5;34m336\u001b[0m)       │     \u001b[38;5;34m51,408\u001b[0m │ dense_7[\u001b[38;5;34m0\u001b[0m][\u001b[38;5;34m0\u001b[0m]     │\n",
       "├─────────────────────┼───────────────────┼────────────┼───────────────────┤\n",
       "│ dense_9 (\u001b[38;5;33mDense\u001b[0m)     │ (\u001b[38;5;45mNone\u001b[0m, \u001b[38;5;34m152\u001b[0m)       │     \u001b[38;5;34m51,224\u001b[0m │ dense_8[\u001b[38;5;34m0\u001b[0m][\u001b[38;5;34m0\u001b[0m]     │\n",
       "├─────────────────────┼───────────────────┼────────────┼───────────────────┤\n",
       "│ dense_10 (\u001b[38;5;33mDense\u001b[0m)    │ (\u001b[38;5;45mNone\u001b[0m, \u001b[38;5;34m336\u001b[0m)       │     \u001b[38;5;34m51,408\u001b[0m │ dense_9[\u001b[38;5;34m0\u001b[0m][\u001b[38;5;34m0\u001b[0m]     │\n",
       "├─────────────────────┼───────────────────┼────────────┼───────────────────┤\n",
       "│ dense_11 (\u001b[38;5;33mDense\u001b[0m)    │ (\u001b[38;5;45mNone\u001b[0m, \u001b[38;5;34m152\u001b[0m)       │     \u001b[38;5;34m51,224\u001b[0m │ dense_10[\u001b[38;5;34m0\u001b[0m][\u001b[38;5;34m0\u001b[0m]    │\n",
       "├─────────────────────┼───────────────────┼────────────┼───────────────────┤\n",
       "│ dense_12 (\u001b[38;5;33mDense\u001b[0m)    │ (\u001b[38;5;45mNone\u001b[0m, \u001b[38;5;34m336\u001b[0m)       │     \u001b[38;5;34m51,408\u001b[0m │ dense_11[\u001b[38;5;34m0\u001b[0m][\u001b[38;5;34m0\u001b[0m]    │\n",
       "├─────────────────────┼───────────────────┼────────────┼───────────────────┤\n",
       "│ dense_13 (\u001b[38;5;33mDense\u001b[0m)    │ (\u001b[38;5;45mNone\u001b[0m, \u001b[38;5;34m152\u001b[0m)       │     \u001b[38;5;34m51,224\u001b[0m │ dense_12[\u001b[38;5;34m0\u001b[0m][\u001b[38;5;34m0\u001b[0m]    │\n",
       "├─────────────────────┼───────────────────┼────────────┼───────────────────┤\n",
       "│ dense_14 (\u001b[38;5;33mDense\u001b[0m)    │ (\u001b[38;5;45mNone\u001b[0m, \u001b[38;5;34m2\u001b[0m)         │        \u001b[38;5;34m306\u001b[0m │ dense_13[\u001b[38;5;34m0\u001b[0m][\u001b[38;5;34m0\u001b[0m]    │\n",
       "└─────────────────────┴───────────────────┴────────────┴───────────────────┘\n"
      ]
     },
     "metadata": {},
     "output_type": "display_data"
    },
    {
     "data": {
      "text/html": [
       "<pre style=\"white-space:pre;overflow-x:auto;line-height:normal;font-family:Menlo,'DejaVu Sans Mono',consolas,'Courier New',monospace\"><span style=\"font-weight: bold\"> Total params: </span><span style=\"color: #00af00; text-decoration-color: #00af00\">575,906</span> (2.20 MB)\n",
       "</pre>\n"
      ],
      "text/plain": [
       "\u001b[1m Total params: \u001b[0m\u001b[38;5;34m575,906\u001b[0m (2.20 MB)\n"
      ]
     },
     "metadata": {},
     "output_type": "display_data"
    },
    {
     "data": {
      "text/html": [
       "<pre style=\"white-space:pre;overflow-x:auto;line-height:normal;font-family:Menlo,'DejaVu Sans Mono',consolas,'Courier New',monospace\"><span style=\"font-weight: bold\"> Trainable params: </span><span style=\"color: #00af00; text-decoration-color: #00af00\">575,906</span> (2.20 MB)\n",
       "</pre>\n"
      ],
      "text/plain": [
       "\u001b[1m Trainable params: \u001b[0m\u001b[38;5;34m575,906\u001b[0m (2.20 MB)\n"
      ]
     },
     "metadata": {},
     "output_type": "display_data"
    },
    {
     "data": {
      "text/html": [
       "<pre style=\"white-space:pre;overflow-x:auto;line-height:normal;font-family:Menlo,'DejaVu Sans Mono',consolas,'Courier New',monospace\"><span style=\"font-weight: bold\"> Non-trainable params: </span><span style=\"color: #00af00; text-decoration-color: #00af00\">0</span> (0.00 B)\n",
       "</pre>\n"
      ],
      "text/plain": [
       "\u001b[1m Non-trainable params: \u001b[0m\u001b[38;5;34m0\u001b[0m (0.00 B)\n"
      ]
     },
     "metadata": {},
     "output_type": "display_data"
    },
    {
     "name": "stderr",
     "output_type": "stream",
     "text": [
      "[D 241021 21:10:43 3472603808:29] Model_name: iris-top2_pca\n"
     ]
    },
    {
     "name": "stdout",
     "output_type": "stream",
     "text": [
      "Epoch 1/20\n"
     ]
    },
    {
     "name": "stderr",
     "output_type": "stream",
     "text": [
      "c:\\Users\\prapt\\Desktop\\Deep Learning\\DL_Basics\\DL_WS\\Lib\\site-packages\\keras\\src\\models\\functional.py:225: UserWarning: The structure of `inputs` doesn't match the expected structure: ['keras_tensor', 'keras_tensor_1']. Received: the structure of inputs=('*', '*')\n",
      "  warnings.warn(\n"
     ]
    },
    {
     "name": "stdout",
     "output_type": "stream",
     "text": [
      "1/1 ━━━━━━━━━━━━━━━━━━━━ 0s 919ms/step - acc: 0.3333 - loss: 0.4788"
     ]
    },
    {
     "name": "stderr",
     "output_type": "stream",
     "text": [
      "c:\\Users\\prapt\\Desktop\\Deep Learning\\DL_Basics\\DL_WS\\Lib\\site-packages\\keras\\src\\models\\functional.py:225: UserWarning: The structure of `inputs` doesn't match the expected structure: ['keras_tensor', 'keras_tensor_1']. Received: the structure of inputs=('*', '*')\n",
      "  warnings.warn(\n"
     ]
    },
    {
     "name": "stdout",
     "output_type": "stream",
     "text": [
      "INFO:tensorflow:Assets written to: models/iris/iris-functional_api\\assets\n"
     ]
    },
    {
     "name": "stderr",
     "output_type": "stream",
     "text": [
      "INFO:tensorflow:Assets written to: models/iris/iris-functional_api\\assets\n"
     ]
    },
    {
     "name": "stdout",
     "output_type": "stream",
     "text": [
      "1/1 ━━━━━━━━━━━━━━━━━━━━ 2s 2s/step - acc: 0.3333 - loss: 0.4788 - val_acc: 0.4762 - val_loss: 0.5258\n",
      "Epoch 2/20\n",
      "1/1 ━━━━━━━━━━━━━━━━━━━━ 0s 46ms/step - acc: 0.3333 - loss: 0.47 ━━━━━━━━━━━━━━━━━━━━ 0s 94ms/step - acc: 0.3333 - loss: 0.4786 - val_acc: 0.4762 - val_loss: 0.5258\n",
      "Epoch 3/20\n",
      "1/1 ━━━━━━━━━━━━━━━━━━━━ 0s 42ms/step - acc: 0.3333 - loss: 0.47 ━━━━━━━━━━━━━━━━━━━━ 0s 86ms/step - acc: 0.3333 - loss: 0.4785 - val_acc: 0.4762 - val_loss: 0.5258\n",
      "Epoch 4/20\n",
      "1/1 ━━━━━━━━━━━━━━━━━━━━ 0s 32ms/step - acc: 0.3333 - loss: 0.47 ━━━━━━━━━━━━━━━━━━━━ 0s 78ms/step - acc: 0.3333 - loss: 0.4784 - val_acc: 0.4762 - val_loss: 0.5259\n",
      "Epoch 5/20\n",
      "1/1 ━━━━━━━━━━━━━━━━━━━━ 0s 42ms/step - acc: 0.3333 - loss: 0.47 ━━━━━━━━━━━━━━━━━━━━ 0s 82ms/step - acc: 0.3333 - loss: 0.4784 - val_acc: 0.4762 - val_loss: 0.5259\n",
      "Epoch 6/20\n",
      "1/1 ━━━━━━━━━━━━━━━━━━━━ 0s 44ms/step - acc: 0.3333 - loss: 0.47 ━━━━━━━━━━━━━━━━━━━━ 0s 82ms/step - acc: 0.3333 - loss: 0.4783 - val_acc: 0.4762 - val_loss: 0.5259\n",
      "Epoch 7/20\n",
      "1/1 ━━━━━━━━━━━━━━━━━━━━ 0s 37ms/step - acc: 0.3333 - loss: 0.47 ━━━━━━━━━━━━━━━━━━━━ 0s 80ms/step - acc: 0.3333 - loss: 0.4783 - val_acc: 0.4762 - val_loss: 0.5259\n",
      "Epoch 8/20\n",
      "1/1 ━━━━━━━━━━━━━━━━━━━━ 0s 35ms/step - acc: 0.3333 - loss: 0.47 ━━━━━━━━━━━━━━━━━━━━ 0s 82ms/step - acc: 0.3333 - loss: 0.4782 - val_acc: 0.4762 - val_loss: 0.5259\n",
      "Epoch 9/20\n",
      "1/1 ━━━━━━━━━━━━━━━━━━━━ 0s 38ms/step - acc: 0.3333 - loss: 0.47 ━━━━━━━━━━━━━━━━━━━━ 0s 87ms/step - acc: 0.3333 - loss: 0.4782 - val_acc: 0.4762 - val_loss: 0.5259\n",
      "Epoch 10/20\n",
      "1/1 ━━━━━━━━━━━━━━━━━━━━ 0s 35ms/step - acc: 0.3333 - loss: 0.47 ━━━━━━━━━━━━━━━━━━━━ 0s 69ms/step - acc: 0.3333 - loss: 0.4781 - val_acc: 0.4762 - val_loss: 0.5260\n",
      "Epoch 11/20\n",
      "1/1 ━━━━━━━━━━━━━━━━━━━━ 0s 40ms/step - acc: 0.3333 - loss: 0.47 ━━━━━━━━━━━━━━━━━━━━ 0s 81ms/step - acc: 0.3333 - loss: 0.4781 - val_acc: 0.4762 - val_loss: 0.5260\n",
      "Epoch 12/20\n",
      "1/1 ━━━━━━━━━━━━━━━━━━━━ 0s 44ms/step - acc: 0.3333 - loss: 0.47 ━━━━━━━━━━━━━━━━━━━━ 0s 87ms/step - acc: 0.3333 - loss: 0.4780 - val_acc: 0.4762 - val_loss: 0.5260\n",
      "Epoch 13/20\n",
      "1/1 ━━━━━━━━━━━━━━━━━━━━ 0s 34ms/step - acc: 0.3333 - loss: 0.47 ━━━━━━━━━━━━━━━━━━━━ 0s 73ms/step - acc: 0.3333 - loss: 0.4780 - val_acc: 0.4762 - val_loss: 0.5260\n",
      "Epoch 14/20\n",
      "1/1 ━━━━━━━━━━━━━━━━━━━━ 0s 31ms/step - acc: 0.3333 - loss: 0.47 ━━━━━━━━━━━━━━━━━━━━ 0s 74ms/step - acc: 0.3333 - loss: 0.4779 - val_acc: 0.4762 - val_loss: 0.5260\n",
      "Epoch 15/20\n",
      "1/1 ━━━━━━━━━━━━━━━━━━━━ 0s 26ms/step - acc: 0.3333 - loss: 0.47 ━━━━━━━━━━━━━━━━━━━━ 0s 75ms/step - acc: 0.3333 - loss: 0.4778 - val_acc: 0.4762 - val_loss: 0.5261\n",
      "Epoch 16/20\n",
      "1/1 ━━━━━━━━━━━━━━━━━━━━ 0s 24ms/step - acc: 0.3333 - loss: 0.47 ━━━━━━━━━━━━━━━━━━━━ 0s 98ms/step - acc: 0.3333 - loss: 0.4778 - val_acc: 0.4762 - val_loss: 0.5261\n",
      "Epoch 17/20\n",
      "1/1 ━━━━━━━━━━━━━━━━━━━━ 0s 56ms/step - acc: 0.3333 - loss: 0.47 ━━━━━━━━━━━━━━━━━━━━ 0s 112ms/step - acc: 0.3333 - loss: 0.4778 - val_acc: 0.4762 - val_loss: 0.5261\n",
      "Epoch 18/20\n",
      "1/1 ━━━━━━━━━━━━━━━━━━━━ 0s 45ms/step - acc: 0.3333 - loss: 0.47 ━━━━━━━━━━━━━━━━━━━━ 0s 90ms/step - acc: 0.3333 - loss: 0.4777 - val_acc: 0.4762 - val_loss: 0.5262\n",
      "Epoch 19/20\n",
      "1/1 ━━━━━━━━━━━━━━━━━━━━ 0s 39ms/step - acc: 0.3333 - loss: 0.47 ━━━━━━━━━━━━━━━━━━━━ 0s 87ms/step - acc: 0.3333 - loss: 0.4777 - val_acc: 0.4762 - val_loss: 0.5262\n",
      "Epoch 20/20\n",
      "1/1 ━━━━━━━━━━━━━━━━━━━━ 0s 50ms/step - acc: 0.3333 - loss: 0.47 ━━━━━━━━━━━━━━━━━━━━ 0s 95ms/step - acc: 0.3333 - loss: 0.4777 - val_acc: 0.4762 - val_loss: 0.5263\n"
     ]
    },
    {
     "name": "stderr",
     "output_type": "stream",
     "text": [
      "wandb: Adding directory to artifact (.\\models\\iris\\iris-functional_api)... Done. 0.1s\n"
     ]
    },
    {
     "data": {
      "text/html": [
       "<style>\n",
       "    table.wandb td:nth-child(1) { padding: 0 10px; text-align: left ; width: auto;} td:nth-child(2) {text-align: left ; width: 100%}\n",
       "    .wandb-row { display: flex; flex-direction: row; flex-wrap: wrap; justify-content: flex-start; width: 100% }\n",
       "    .wandb-col { display: flex; flex-direction: column; flex-basis: 100%; flex: 1; padding: 10px; }\n",
       "    </style>\n",
       "<div class=\"wandb-row\"><div class=\"wandb-col\"><h3>Run history:</h3><br/><table class=\"wandb\"><tr><td>acc</td><td>▁▁▁▁▁▁▁▁▁▁▁▁▁▁▁▁▁▁▁▁</td></tr><tr><td>loss</td><td>█▇▆▆▆▅▅▅▄▄▃▃▃▂▂▂▂▁▁▁</td></tr><tr><td>val_acc</td><td>▁▁▁▁▁▁▁▁▁▁▁▁▁▁▁▁▁▁▁▁</td></tr><tr><td>val_loss</td><td>▁▁▁▂▂▂▂▂▃▃▄▄▄▄▅▅▆▇▇█</td></tr></table><br/></div><div class=\"wandb-col\"><h3>Run summary:</h3><br/><table class=\"wandb\"><tr><td>acc</td><td>0.33333</td></tr><tr><td>loss</td><td>0.47768</td></tr><tr><td>val_acc</td><td>0.47619</td></tr><tr><td>val_loss</td><td>0.52626</td></tr></table><br/></div></div>"
      ],
      "text/plain": [
       "<IPython.core.display.HTML object>"
      ]
     },
     "metadata": {},
     "output_type": "display_data"
    },
    {
     "data": {
      "text/html": [
       " View run <strong style=\"color:#cdcd00\">dutiful-sweep-9</strong> at: <a href='https://wandb.ai/praptipatil01/Iris-Species-Classification/runs/ride439b' target=\"_blank\">https://wandb.ai/praptipatil01/Iris-Species-Classification/runs/ride439b</a><br/> View project at: <a href='https://wandb.ai/praptipatil01/Iris-Species-Classification' target=\"_blank\">https://wandb.ai/praptipatil01/Iris-Species-Classification</a><br/>Synced 5 W&B file(s), 0 media file(s), 5 artifact file(s) and 0 other file(s)"
      ],
      "text/plain": [
       "<IPython.core.display.HTML object>"
      ]
     },
     "metadata": {},
     "output_type": "display_data"
    },
    {
     "data": {
      "text/html": [
       "Find logs at: <code>.\\wandb\\run-20241021_211041-ride439b\\logs</code>"
      ],
      "text/plain": [
       "<IPython.core.display.HTML object>"
      ]
     },
     "metadata": {},
     "output_type": "display_data"
    },
    {
     "name": "stderr",
     "output_type": "stream",
     "text": [
      "wandb: Sweep Agent: Waiting for job.\n",
      "wandb: Job received.\n",
      "wandb: Agent Starting Run: 4ickjhbi with config:\n",
      "wandb: \tlearning_rate: 0.022515333604924716\n",
      "wandb: \tnum_blocks: 5\n",
      "wandb: \toptimizer: adam\n",
      "wandb: \tunits_1: 336\n",
      "wandb: \tunits_2: 152\n",
      "wandb: WARNING Ignored wandb.init() arg project when running a sweep.\n"
     ]
    },
    {
     "data": {
      "text/html": [
       "Tracking run with wandb version 0.18.5"
      ],
      "text/plain": [
       "<IPython.core.display.HTML object>"
      ]
     },
     "metadata": {},
     "output_type": "display_data"
    },
    {
     "data": {
      "text/html": [
       "Run data is saved locally in <code>c:\\Users\\prapt\\Desktop\\Deep Learning\\DL_Basics\\TensorFlow in Action\\wandb\\run-20241021_211109-4ickjhbi</code>"
      ],
      "text/plain": [
       "<IPython.core.display.HTML object>"
      ]
     },
     "metadata": {},
     "output_type": "display_data"
    },
    {
     "data": {
      "text/html": [
       "Syncing run <strong><a href='https://wandb.ai/praptipatil01/Iris-Species-Classification/runs/4ickjhbi' target=\"_blank\">dulcet-sweep-10</a></strong> to <a href='https://wandb.ai/praptipatil01/Iris-Species-Classification' target=\"_blank\">Weights & Biases</a> (<a href='https://wandb.me/run' target=\"_blank\">docs</a>)<br/>Sweep page: <a href='https://wandb.ai/praptipatil01/Iris-Species-Classification/sweeps/ekxr9ovf' target=\"_blank\">https://wandb.ai/praptipatil01/Iris-Species-Classification/sweeps/ekxr9ovf</a>"
      ],
      "text/plain": [
       "<IPython.core.display.HTML object>"
      ]
     },
     "metadata": {},
     "output_type": "display_data"
    },
    {
     "data": {
      "text/html": [
       " View project at <a href='https://wandb.ai/praptipatil01/Iris-Species-Classification' target=\"_blank\">https://wandb.ai/praptipatil01/Iris-Species-Classification</a>"
      ],
      "text/plain": [
       "<IPython.core.display.HTML object>"
      ]
     },
     "metadata": {},
     "output_type": "display_data"
    },
    {
     "data": {
      "text/html": [
       " View sweep at <a href='https://wandb.ai/praptipatil01/Iris-Species-Classification/sweeps/ekxr9ovf' target=\"_blank\">https://wandb.ai/praptipatil01/Iris-Species-Classification/sweeps/ekxr9ovf</a>"
      ],
      "text/plain": [
       "<IPython.core.display.HTML object>"
      ]
     },
     "metadata": {},
     "output_type": "display_data"
    },
    {
     "data": {
      "text/html": [
       " View run at <a href='https://wandb.ai/praptipatil01/Iris-Species-Classification/runs/4ickjhbi' target=\"_blank\">https://wandb.ai/praptipatil01/Iris-Species-Classification/runs/4ickjhbi</a>"
      ],
      "text/plain": [
       "<IPython.core.display.HTML object>"
      ]
     },
     "metadata": {},
     "output_type": "display_data"
    },
    {
     "name": "stderr",
     "output_type": "stream",
     "text": [
      "[D 241021 21:11:10 3472603808:23] Number of records: Train -  84, Val - 21\n"
     ]
    },
    {
     "data": {
      "text/html": [
       "<pre style=\"white-space:pre;overflow-x:auto;line-height:normal;font-family:Menlo,'DejaVu Sans Mono',consolas,'Courier New',monospace\"><span style=\"font-weight: bold\">Model: \"iris-top2_pca\"</span>\n",
       "</pre>\n"
      ],
      "text/plain": [
       "\u001b[1mModel: \"iris-top2_pca\"\u001b[0m\n"
      ]
     },
     "metadata": {},
     "output_type": "display_data"
    },
    {
     "data": {
      "text/html": [
       "<pre style=\"white-space:pre;overflow-x:auto;line-height:normal;font-family:Menlo,'DejaVu Sans Mono',consolas,'Courier New',monospace\">┏━━━━━━━━━━━━━━━━━━━━━┳━━━━━━━━━━━━━━━━━━━┳━━━━━━━━━━━━┳━━━━━━━━━━━━━━━━━━━┓\n",
       "┃<span style=\"font-weight: bold\"> Layer (type)        </span>┃<span style=\"font-weight: bold\"> Output Shape      </span>┃<span style=\"font-weight: bold\">    Param # </span>┃<span style=\"font-weight: bold\"> Connected to      </span>┃\n",
       "┡━━━━━━━━━━━━━━━━━━━━━╇━━━━━━━━━━━━━━━━━━━╇━━━━━━━━━━━━╇━━━━━━━━━━━━━━━━━━━┩\n",
       "│ input_layer         │ (<span style=\"color: #00d7ff; text-decoration-color: #00d7ff\">None</span>, <span style=\"color: #00af00; text-decoration-color: #00af00\">4</span>)         │          <span style=\"color: #00af00; text-decoration-color: #00af00\">0</span> │ -                 │\n",
       "│ (<span style=\"color: #0087ff; text-decoration-color: #0087ff\">InputLayer</span>)        │                   │            │                   │\n",
       "├─────────────────────┼───────────────────┼────────────┼───────────────────┤\n",
       "│ input_layer_1       │ (<span style=\"color: #00d7ff; text-decoration-color: #00d7ff\">None</span>, <span style=\"color: #00af00; text-decoration-color: #00af00\">2</span>)         │          <span style=\"color: #00af00; text-decoration-color: #00af00\">0</span> │ -                 │\n",
       "│ (<span style=\"color: #0087ff; text-decoration-color: #0087ff\">InputLayer</span>)        │                   │            │                   │\n",
       "├─────────────────────┼───────────────────┼────────────┼───────────────────┤\n",
       "│ dense (<span style=\"color: #0087ff; text-decoration-color: #0087ff\">Dense</span>)       │ (<span style=\"color: #00d7ff; text-decoration-color: #00d7ff\">None</span>, <span style=\"color: #00af00; text-decoration-color: #00af00\">16</span>)        │         <span style=\"color: #00af00; text-decoration-color: #00af00\">80</span> │ input_layer[<span style=\"color: #00af00; text-decoration-color: #00af00\">0</span>][<span style=\"color: #00af00; text-decoration-color: #00af00\">0</span>] │\n",
       "├─────────────────────┼───────────────────┼────────────┼───────────────────┤\n",
       "│ dense_1 (<span style=\"color: #0087ff; text-decoration-color: #0087ff\">Dense</span>)     │ (<span style=\"color: #00d7ff; text-decoration-color: #00d7ff\">None</span>, <span style=\"color: #00af00; text-decoration-color: #00af00\">16</span>)        │         <span style=\"color: #00af00; text-decoration-color: #00af00\">48</span> │ input_layer_1[<span style=\"color: #00af00; text-decoration-color: #00af00\">0</span>]… │\n",
       "├─────────────────────┼───────────────────┼────────────┼───────────────────┤\n",
       "│ concatenate         │ (<span style=\"color: #00d7ff; text-decoration-color: #00d7ff\">None</span>, <span style=\"color: #00af00; text-decoration-color: #00af00\">32</span>)        │          <span style=\"color: #00af00; text-decoration-color: #00af00\">0</span> │ dense[<span style=\"color: #00af00; text-decoration-color: #00af00\">0</span>][<span style=\"color: #00af00; text-decoration-color: #00af00\">0</span>],      │\n",
       "│ (<span style=\"color: #0087ff; text-decoration-color: #0087ff\">Concatenate</span>)       │                   │            │ dense_1[<span style=\"color: #00af00; text-decoration-color: #00af00\">0</span>][<span style=\"color: #00af00; text-decoration-color: #00af00\">0</span>]     │\n",
       "├─────────────────────┼───────────────────┼────────────┼───────────────────┤\n",
       "│ dense_2 (<span style=\"color: #0087ff; text-decoration-color: #0087ff\">Dense</span>)     │ (<span style=\"color: #00d7ff; text-decoration-color: #00d7ff\">None</span>, <span style=\"color: #00af00; text-decoration-color: #00af00\">336</span>)       │     <span style=\"color: #00af00; text-decoration-color: #00af00\">11,088</span> │ concatenate[<span style=\"color: #00af00; text-decoration-color: #00af00\">0</span>][<span style=\"color: #00af00; text-decoration-color: #00af00\">0</span>] │\n",
       "├─────────────────────┼───────────────────┼────────────┼───────────────────┤\n",
       "│ dense_3 (<span style=\"color: #0087ff; text-decoration-color: #0087ff\">Dense</span>)     │ (<span style=\"color: #00d7ff; text-decoration-color: #00d7ff\">None</span>, <span style=\"color: #00af00; text-decoration-color: #00af00\">152</span>)       │     <span style=\"color: #00af00; text-decoration-color: #00af00\">51,224</span> │ dense_2[<span style=\"color: #00af00; text-decoration-color: #00af00\">0</span>][<span style=\"color: #00af00; text-decoration-color: #00af00\">0</span>]     │\n",
       "├─────────────────────┼───────────────────┼────────────┼───────────────────┤\n",
       "│ dense_4 (<span style=\"color: #0087ff; text-decoration-color: #0087ff\">Dense</span>)     │ (<span style=\"color: #00d7ff; text-decoration-color: #00d7ff\">None</span>, <span style=\"color: #00af00; text-decoration-color: #00af00\">336</span>)       │     <span style=\"color: #00af00; text-decoration-color: #00af00\">51,408</span> │ dense_3[<span style=\"color: #00af00; text-decoration-color: #00af00\">0</span>][<span style=\"color: #00af00; text-decoration-color: #00af00\">0</span>]     │\n",
       "├─────────────────────┼───────────────────┼────────────┼───────────────────┤\n",
       "│ dense_5 (<span style=\"color: #0087ff; text-decoration-color: #0087ff\">Dense</span>)     │ (<span style=\"color: #00d7ff; text-decoration-color: #00d7ff\">None</span>, <span style=\"color: #00af00; text-decoration-color: #00af00\">152</span>)       │     <span style=\"color: #00af00; text-decoration-color: #00af00\">51,224</span> │ dense_4[<span style=\"color: #00af00; text-decoration-color: #00af00\">0</span>][<span style=\"color: #00af00; text-decoration-color: #00af00\">0</span>]     │\n",
       "├─────────────────────┼───────────────────┼────────────┼───────────────────┤\n",
       "│ dense_6 (<span style=\"color: #0087ff; text-decoration-color: #0087ff\">Dense</span>)     │ (<span style=\"color: #00d7ff; text-decoration-color: #00d7ff\">None</span>, <span style=\"color: #00af00; text-decoration-color: #00af00\">336</span>)       │     <span style=\"color: #00af00; text-decoration-color: #00af00\">51,408</span> │ dense_5[<span style=\"color: #00af00; text-decoration-color: #00af00\">0</span>][<span style=\"color: #00af00; text-decoration-color: #00af00\">0</span>]     │\n",
       "├─────────────────────┼───────────────────┼────────────┼───────────────────┤\n",
       "│ dense_7 (<span style=\"color: #0087ff; text-decoration-color: #0087ff\">Dense</span>)     │ (<span style=\"color: #00d7ff; text-decoration-color: #00d7ff\">None</span>, <span style=\"color: #00af00; text-decoration-color: #00af00\">152</span>)       │     <span style=\"color: #00af00; text-decoration-color: #00af00\">51,224</span> │ dense_6[<span style=\"color: #00af00; text-decoration-color: #00af00\">0</span>][<span style=\"color: #00af00; text-decoration-color: #00af00\">0</span>]     │\n",
       "├─────────────────────┼───────────────────┼────────────┼───────────────────┤\n",
       "│ dense_8 (<span style=\"color: #0087ff; text-decoration-color: #0087ff\">Dense</span>)     │ (<span style=\"color: #00d7ff; text-decoration-color: #00d7ff\">None</span>, <span style=\"color: #00af00; text-decoration-color: #00af00\">336</span>)       │     <span style=\"color: #00af00; text-decoration-color: #00af00\">51,408</span> │ dense_7[<span style=\"color: #00af00; text-decoration-color: #00af00\">0</span>][<span style=\"color: #00af00; text-decoration-color: #00af00\">0</span>]     │\n",
       "├─────────────────────┼───────────────────┼────────────┼───────────────────┤\n",
       "│ dense_9 (<span style=\"color: #0087ff; text-decoration-color: #0087ff\">Dense</span>)     │ (<span style=\"color: #00d7ff; text-decoration-color: #00d7ff\">None</span>, <span style=\"color: #00af00; text-decoration-color: #00af00\">152</span>)       │     <span style=\"color: #00af00; text-decoration-color: #00af00\">51,224</span> │ dense_8[<span style=\"color: #00af00; text-decoration-color: #00af00\">0</span>][<span style=\"color: #00af00; text-decoration-color: #00af00\">0</span>]     │\n",
       "├─────────────────────┼───────────────────┼────────────┼───────────────────┤\n",
       "│ dense_10 (<span style=\"color: #0087ff; text-decoration-color: #0087ff\">Dense</span>)    │ (<span style=\"color: #00d7ff; text-decoration-color: #00d7ff\">None</span>, <span style=\"color: #00af00; text-decoration-color: #00af00\">336</span>)       │     <span style=\"color: #00af00; text-decoration-color: #00af00\">51,408</span> │ dense_9[<span style=\"color: #00af00; text-decoration-color: #00af00\">0</span>][<span style=\"color: #00af00; text-decoration-color: #00af00\">0</span>]     │\n",
       "├─────────────────────┼───────────────────┼────────────┼───────────────────┤\n",
       "│ dense_11 (<span style=\"color: #0087ff; text-decoration-color: #0087ff\">Dense</span>)    │ (<span style=\"color: #00d7ff; text-decoration-color: #00d7ff\">None</span>, <span style=\"color: #00af00; text-decoration-color: #00af00\">152</span>)       │     <span style=\"color: #00af00; text-decoration-color: #00af00\">51,224</span> │ dense_10[<span style=\"color: #00af00; text-decoration-color: #00af00\">0</span>][<span style=\"color: #00af00; text-decoration-color: #00af00\">0</span>]    │\n",
       "├─────────────────────┼───────────────────┼────────────┼───────────────────┤\n",
       "│ dense_12 (<span style=\"color: #0087ff; text-decoration-color: #0087ff\">Dense</span>)    │ (<span style=\"color: #00d7ff; text-decoration-color: #00d7ff\">None</span>, <span style=\"color: #00af00; text-decoration-color: #00af00\">2</span>)         │        <span style=\"color: #00af00; text-decoration-color: #00af00\">306</span> │ dense_11[<span style=\"color: #00af00; text-decoration-color: #00af00\">0</span>][<span style=\"color: #00af00; text-decoration-color: #00af00\">0</span>]    │\n",
       "└─────────────────────┴───────────────────┴────────────┴───────────────────┘\n",
       "</pre>\n"
      ],
      "text/plain": [
       "┏━━━━━━━━━━━━━━━━━━━━━┳━━━━━━━━━━━━━━━━━━━┳━━━━━━━━━━━━┳━━━━━━━━━━━━━━━━━━━┓\n",
       "┃\u001b[1m \u001b[0m\u001b[1mLayer (type)       \u001b[0m\u001b[1m \u001b[0m┃\u001b[1m \u001b[0m\u001b[1mOutput Shape     \u001b[0m\u001b[1m \u001b[0m┃\u001b[1m \u001b[0m\u001b[1m   Param #\u001b[0m\u001b[1m \u001b[0m┃\u001b[1m \u001b[0m\u001b[1mConnected to     \u001b[0m\u001b[1m \u001b[0m┃\n",
       "┡━━━━━━━━━━━━━━━━━━━━━╇━━━━━━━━━━━━━━━━━━━╇━━━━━━━━━━━━╇━━━━━━━━━━━━━━━━━━━┩\n",
       "│ input_layer         │ (\u001b[38;5;45mNone\u001b[0m, \u001b[38;5;34m4\u001b[0m)         │          \u001b[38;5;34m0\u001b[0m │ -                 │\n",
       "│ (\u001b[38;5;33mInputLayer\u001b[0m)        │                   │            │                   │\n",
       "├─────────────────────┼───────────────────┼────────────┼───────────────────┤\n",
       "│ input_layer_1       │ (\u001b[38;5;45mNone\u001b[0m, \u001b[38;5;34m2\u001b[0m)         │          \u001b[38;5;34m0\u001b[0m │ -                 │\n",
       "│ (\u001b[38;5;33mInputLayer\u001b[0m)        │                   │            │                   │\n",
       "├─────────────────────┼───────────────────┼────────────┼───────────────────┤\n",
       "│ dense (\u001b[38;5;33mDense\u001b[0m)       │ (\u001b[38;5;45mNone\u001b[0m, \u001b[38;5;34m16\u001b[0m)        │         \u001b[38;5;34m80\u001b[0m │ input_layer[\u001b[38;5;34m0\u001b[0m][\u001b[38;5;34m0\u001b[0m] │\n",
       "├─────────────────────┼───────────────────┼────────────┼───────────────────┤\n",
       "│ dense_1 (\u001b[38;5;33mDense\u001b[0m)     │ (\u001b[38;5;45mNone\u001b[0m, \u001b[38;5;34m16\u001b[0m)        │         \u001b[38;5;34m48\u001b[0m │ input_layer_1[\u001b[38;5;34m0\u001b[0m]… │\n",
       "├─────────────────────┼───────────────────┼────────────┼───────────────────┤\n",
       "│ concatenate         │ (\u001b[38;5;45mNone\u001b[0m, \u001b[38;5;34m32\u001b[0m)        │          \u001b[38;5;34m0\u001b[0m │ dense[\u001b[38;5;34m0\u001b[0m][\u001b[38;5;34m0\u001b[0m],      │\n",
       "│ (\u001b[38;5;33mConcatenate\u001b[0m)       │                   │            │ dense_1[\u001b[38;5;34m0\u001b[0m][\u001b[38;5;34m0\u001b[0m]     │\n",
       "├─────────────────────┼───────────────────┼────────────┼───────────────────┤\n",
       "│ dense_2 (\u001b[38;5;33mDense\u001b[0m)     │ (\u001b[38;5;45mNone\u001b[0m, \u001b[38;5;34m336\u001b[0m)       │     \u001b[38;5;34m11,088\u001b[0m │ concatenate[\u001b[38;5;34m0\u001b[0m][\u001b[38;5;34m0\u001b[0m] │\n",
       "├─────────────────────┼───────────────────┼────────────┼───────────────────┤\n",
       "│ dense_3 (\u001b[38;5;33mDense\u001b[0m)     │ (\u001b[38;5;45mNone\u001b[0m, \u001b[38;5;34m152\u001b[0m)       │     \u001b[38;5;34m51,224\u001b[0m │ dense_2[\u001b[38;5;34m0\u001b[0m][\u001b[38;5;34m0\u001b[0m]     │\n",
       "├─────────────────────┼───────────────────┼────────────┼───────────────────┤\n",
       "│ dense_4 (\u001b[38;5;33mDense\u001b[0m)     │ (\u001b[38;5;45mNone\u001b[0m, \u001b[38;5;34m336\u001b[0m)       │     \u001b[38;5;34m51,408\u001b[0m │ dense_3[\u001b[38;5;34m0\u001b[0m][\u001b[38;5;34m0\u001b[0m]     │\n",
       "├─────────────────────┼───────────────────┼────────────┼───────────────────┤\n",
       "│ dense_5 (\u001b[38;5;33mDense\u001b[0m)     │ (\u001b[38;5;45mNone\u001b[0m, \u001b[38;5;34m152\u001b[0m)       │     \u001b[38;5;34m51,224\u001b[0m │ dense_4[\u001b[38;5;34m0\u001b[0m][\u001b[38;5;34m0\u001b[0m]     │\n",
       "├─────────────────────┼───────────────────┼────────────┼───────────────────┤\n",
       "│ dense_6 (\u001b[38;5;33mDense\u001b[0m)     │ (\u001b[38;5;45mNone\u001b[0m, \u001b[38;5;34m336\u001b[0m)       │     \u001b[38;5;34m51,408\u001b[0m │ dense_5[\u001b[38;5;34m0\u001b[0m][\u001b[38;5;34m0\u001b[0m]     │\n",
       "├─────────────────────┼───────────────────┼────────────┼───────────────────┤\n",
       "│ dense_7 (\u001b[38;5;33mDense\u001b[0m)     │ (\u001b[38;5;45mNone\u001b[0m, \u001b[38;5;34m152\u001b[0m)       │     \u001b[38;5;34m51,224\u001b[0m │ dense_6[\u001b[38;5;34m0\u001b[0m][\u001b[38;5;34m0\u001b[0m]     │\n",
       "├─────────────────────┼───────────────────┼────────────┼───────────────────┤\n",
       "│ dense_8 (\u001b[38;5;33mDense\u001b[0m)     │ (\u001b[38;5;45mNone\u001b[0m, \u001b[38;5;34m336\u001b[0m)       │     \u001b[38;5;34m51,408\u001b[0m │ dense_7[\u001b[38;5;34m0\u001b[0m][\u001b[38;5;34m0\u001b[0m]     │\n",
       "├─────────────────────┼───────────────────┼────────────┼───────────────────┤\n",
       "│ dense_9 (\u001b[38;5;33mDense\u001b[0m)     │ (\u001b[38;5;45mNone\u001b[0m, \u001b[38;5;34m152\u001b[0m)       │     \u001b[38;5;34m51,224\u001b[0m │ dense_8[\u001b[38;5;34m0\u001b[0m][\u001b[38;5;34m0\u001b[0m]     │\n",
       "├─────────────────────┼───────────────────┼────────────┼───────────────────┤\n",
       "│ dense_10 (\u001b[38;5;33mDense\u001b[0m)    │ (\u001b[38;5;45mNone\u001b[0m, \u001b[38;5;34m336\u001b[0m)       │     \u001b[38;5;34m51,408\u001b[0m │ dense_9[\u001b[38;5;34m0\u001b[0m][\u001b[38;5;34m0\u001b[0m]     │\n",
       "├─────────────────────┼───────────────────┼────────────┼───────────────────┤\n",
       "│ dense_11 (\u001b[38;5;33mDense\u001b[0m)    │ (\u001b[38;5;45mNone\u001b[0m, \u001b[38;5;34m152\u001b[0m)       │     \u001b[38;5;34m51,224\u001b[0m │ dense_10[\u001b[38;5;34m0\u001b[0m][\u001b[38;5;34m0\u001b[0m]    │\n",
       "├─────────────────────┼───────────────────┼────────────┼───────────────────┤\n",
       "│ dense_12 (\u001b[38;5;33mDense\u001b[0m)    │ (\u001b[38;5;45mNone\u001b[0m, \u001b[38;5;34m2\u001b[0m)         │        \u001b[38;5;34m306\u001b[0m │ dense_11[\u001b[38;5;34m0\u001b[0m][\u001b[38;5;34m0\u001b[0m]    │\n",
       "└─────────────────────┴───────────────────┴────────────┴───────────────────┘\n"
      ]
     },
     "metadata": {},
     "output_type": "display_data"
    },
    {
     "data": {
      "text/html": [
       "<pre style=\"white-space:pre;overflow-x:auto;line-height:normal;font-family:Menlo,'DejaVu Sans Mono',consolas,'Courier New',monospace\"><span style=\"font-weight: bold\"> Total params: </span><span style=\"color: #00af00; text-decoration-color: #00af00\">473,274</span> (1.81 MB)\n",
       "</pre>\n"
      ],
      "text/plain": [
       "\u001b[1m Total params: \u001b[0m\u001b[38;5;34m473,274\u001b[0m (1.81 MB)\n"
      ]
     },
     "metadata": {},
     "output_type": "display_data"
    },
    {
     "data": {
      "text/html": [
       "<pre style=\"white-space:pre;overflow-x:auto;line-height:normal;font-family:Menlo,'DejaVu Sans Mono',consolas,'Courier New',monospace\"><span style=\"font-weight: bold\"> Trainable params: </span><span style=\"color: #00af00; text-decoration-color: #00af00\">473,274</span> (1.81 MB)\n",
       "</pre>\n"
      ],
      "text/plain": [
       "\u001b[1m Trainable params: \u001b[0m\u001b[38;5;34m473,274\u001b[0m (1.81 MB)\n"
      ]
     },
     "metadata": {},
     "output_type": "display_data"
    },
    {
     "data": {
      "text/html": [
       "<pre style=\"white-space:pre;overflow-x:auto;line-height:normal;font-family:Menlo,'DejaVu Sans Mono',consolas,'Courier New',monospace\"><span style=\"font-weight: bold\"> Non-trainable params: </span><span style=\"color: #00af00; text-decoration-color: #00af00\">0</span> (0.00 B)\n",
       "</pre>\n"
      ],
      "text/plain": [
       "\u001b[1m Non-trainable params: \u001b[0m\u001b[38;5;34m0\u001b[0m (0.00 B)\n"
      ]
     },
     "metadata": {},
     "output_type": "display_data"
    },
    {
     "name": "stderr",
     "output_type": "stream",
     "text": [
      "[D 241021 21:11:11 3472603808:29] Model_name: iris-top2_pca\n"
     ]
    },
    {
     "name": "stdout",
     "output_type": "stream",
     "text": [
      "Epoch 1/20\n"
     ]
    },
    {
     "name": "stderr",
     "output_type": "stream",
     "text": [
      "c:\\Users\\prapt\\Desktop\\Deep Learning\\DL_Basics\\DL_WS\\Lib\\site-packages\\keras\\src\\models\\functional.py:225: UserWarning: The structure of `inputs` doesn't match the expected structure: ['keras_tensor', 'keras_tensor_1']. Received: the structure of inputs=('*', '*')\n",
      "  warnings.warn(\n"
     ]
    },
    {
     "name": "stdout",
     "output_type": "stream",
     "text": [
      "1/1 ━━━━━━━━━━━━━━━━━━━━ 0s 4s/step - acc: 0.6667 - loss: 0.4787"
     ]
    },
    {
     "name": "stderr",
     "output_type": "stream",
     "text": [
      "c:\\Users\\prapt\\Desktop\\Deep Learning\\DL_Basics\\DL_WS\\Lib\\site-packages\\keras\\src\\models\\functional.py:225: UserWarning: The structure of `inputs` doesn't match the expected structure: ['keras_tensor', 'keras_tensor_1']. Received: the structure of inputs=('*', '*')\n",
      "  warnings.warn(\n"
     ]
    },
    {
     "name": "stdout",
     "output_type": "stream",
     "text": [
      "INFO:tensorflow:Assets written to: models/iris/iris-functional_api\\assets\n"
     ]
    },
    {
     "name": "stderr",
     "output_type": "stream",
     "text": [
      "INFO:tensorflow:Assets written to: models/iris/iris-functional_api\\assets\n"
     ]
    },
    {
     "name": "stdout",
     "output_type": "stream",
     "text": [
      "1/1 ━━━━━━━━━━━━━━━━━━━━ 5s 5s/step - acc: 0.6667 - loss: 0.4787 - val_acc: 0.8095 - val_loss: 0.5274\n",
      "Epoch 2/20\n",
      "1/1 ━━━━━━━━━━━━━━━━━━━━ 0s 52ms/step - acc: 0.9167 - loss: 0.47 ━━━━━━━━━━━━━━━━━━━━ 0s 108ms/step - acc: 0.9167 - loss: 0.4779 - val_acc: 0.4762 - val_loss: 0.5222\n",
      "Epoch 3/20\n",
      "1/1 ━━━━━━━━━━━━━━━━━━━━ 0s 43ms/step - acc: 0.3333 - loss: 0.47 ━━━━━━━━━━━━━━━━━━━━ 0s 111ms/step - acc: 0.3333 - loss: 0.4761 - val_acc: 0.4762 - val_loss: 0.5159\n",
      "Epoch 4/20\n",
      "1/1 ━━━━━━━━━━━━━━━━━━━━ 0s 53ms/step - acc: 0.3333 - loss: 0.47 ━━━━━━━━━━━━━━━━━━━━ 0s 102ms/step - acc: 0.3333 - loss: 0.4730 - val_acc: 0.4762 - val_loss: 0.5095\n",
      "Epoch 5/20\n",
      "1/1 ━━━━━━━━━━━━━━━━━━━━ 0s 133ms/step - acc: 0.3333 - loss: 0.469 ━━━━━━━━━━━━━━━━━━━━ 0s 196ms/step - acc: 0.3333 - loss: 0.4693 - val_acc: 0.4762 - val_loss: 0.4972\n",
      "Epoch 6/20\n",
      "1/1 ━━━━━━━━━━━━━━━━━━━━ 0s 117ms/step - acc: 0.3333 - loss: 0.466 ━━━━━━━━━━━━━━━━━━━━ 0s 210ms/step - acc: 0.3333 - loss: 0.4663 - val_acc: 0.4762 - val_loss: 0.4916\n",
      "Epoch 7/20\n",
      "1/1 ━━━━━━━━━━━━━━━━━━━━ 0s 72ms/step - acc: 0.3333 - loss: 0.46 ━━━━━━━━━━━━━━━━━━━━ 0s 152ms/step - acc: 0.3333 - loss: 0.4619 - val_acc: 0.5714 - val_loss: 0.4959\n",
      "Epoch 8/20\n",
      "1/1 ━━━━━━━━━━━━━━━━━━━━ 0s 66ms/step - acc: 0.5476 - loss: 0.45 ━━━━━━━━━━━━━━━━━━━━ 0s 125ms/step - acc: 0.5476 - loss: 0.4571 - val_acc: 0.7619 - val_loss: 0.5104\n",
      "Epoch 9/20\n",
      "1/1 ━━━━━━━━━━━━━━━━━━━━ 0s 41ms/step - acc: 0.8452 - loss: 0.45 ━━━━━━━━━━━━━━━━━━━━ 0s 96ms/step - acc: 0.8452 - loss: 0.4560 - val_acc: 0.7619 - val_loss: 0.4817\n",
      "Epoch 10/20\n",
      "1/1 ━━━━━━━━━━━━━━━━━━━━ 0s 38ms/step - acc: 0.7143 - loss: 0.44 ━━━━━━━━━━━━━━━━━━━━ 0s 93ms/step - acc: 0.7143 - loss: 0.4497 - val_acc: 0.4762 - val_loss: 0.4565\n",
      "Epoch 11/20\n",
      "1/1 ━━━━━━━━━━━━━━━━━━━━ 0s 30ms/step - acc: 0.3333 - loss: 0.47 ━━━━━━━━━━━━━━━━━━━━ 0s 92ms/step - acc: 0.3333 - loss: 0.4730 - val_acc: 0.5238 - val_loss: 0.5824\n",
      "Epoch 12/20\n",
      "1/1 ━━━━━━━━━━━━━━━━━━━━ 0s 36ms/step - acc: 0.6667 - loss: 0.47 ━━━━━━━━━━━━━━━━━━━━ 0s 93ms/step - acc: 0.6667 - loss: 0.4708 - val_acc: 0.4762 - val_loss: 0.4538\n",
      "Epoch 13/20\n",
      "1/1 ━━━━━━━━━━━━━━━━━━━━ 0s 55ms/step - acc: 0.3333 - loss: 0.50 ━━━━━━━━━━━━━━━━━━━━ 0s 110ms/step - acc: 0.3333 - loss: 0.5031 - val_acc: 0.5238 - val_loss: 1.0526\n",
      "Epoch 14/20\n",
      "1/1 ━━━━━━━━━━━━━━━━━━━━ 0s 48ms/step - acc: 0.6667 - loss: 0.75 ━━━━━━━━━━━━━━━━━━━━ 0s 106ms/step - acc: 0.6667 - loss: 0.7558 - val_acc: 0.4762 - val_loss: 2.3478\n",
      "Epoch 15/20\n",
      "1/1 ━━━━━━━━━━━━━━━━━━━━ 0s 47ms/step - acc: 0.3333 - loss: 3.01 ━━━━━━━━━━━━━━━━━━━━ 0s 102ms/step - acc: 0.3333 - loss: 3.0121 - val_acc: 0.4762 - val_loss: 0.4315\n",
      "Epoch 16/20\n",
      "1/1 ━━━━━━━━━━━━━━━━━━━━ 0s 53ms/step - acc: 0.3333 - loss: 0.46 ━━━━━━━━━━━━━━━━━━━━ 0s 109ms/step - acc: 0.3333 - loss: 0.4607 - val_acc: 0.5238 - val_loss: 12.2499\n",
      "Epoch 17/20\n",
      "1/1 ━━━━━━━━━━━━━━━━━━━━ 0s 45ms/step - acc: 0.6667 - loss: 8.66 ━━━━━━━━━━━━━━━━━━━━ 0s 98ms/step - acc: 0.6667 - loss: 8.6628 - val_acc: 0.5238 - val_loss: 4.3800\n",
      "Epoch 18/20\n",
      "1/1 ━━━━━━━━━━━━━━━━━━━━ 0s 44ms/step - acc: 0.6667 - loss: 3.09 ━━━━━━━━━━━━━━━━━━━━ 0s 99ms/step - acc: 0.6667 - loss: 3.0915 - val_acc: 0.4762 - val_loss: 18.4014\n",
      "Epoch 19/20\n",
      "1/1 ━━━━━━━━━━━━━━━━━━━━ 0s 36ms/step - acc: 0.3333 - loss: 23.535 ━━━━━━━━━━━━━━━━━━━━ 0s 91ms/step - acc: 0.3333 - loss: 23.5357 - val_acc: 0.4762 - val_loss: 24.4410\n",
      "Epoch 20/20\n",
      "1/1 ━━━━━━━━━━━━━━━━━━━━ 0s 45ms/step - acc: 0.3333 - loss: 31.255 ━━━━━━━━━━━━━━━━━━━━ 0s 90ms/step - acc: 0.3333 - loss: 31.2554 - val_acc: 0.4762 - val_loss: 2.7168\n"
     ]
    },
    {
     "name": "stderr",
     "output_type": "stream",
     "text": [
      "wandb: Adding directory to artifact (.\\models\\iris\\iris-functional_api)... Done. 0.1s\n"
     ]
    },
    {
     "data": {
      "text/html": [
       "<style>\n",
       "    table.wandb td:nth-child(1) { padding: 0 10px; text-align: left ; width: auto;} td:nth-child(2) {text-align: left ; width: 100%}\n",
       "    .wandb-row { display: flex; flex-direction: row; flex-wrap: wrap; justify-content: flex-start; width: 100% }\n",
       "    .wandb-col { display: flex; flex-direction: column; flex-basis: 100%; flex: 1; padding: 10px; }\n",
       "    </style>\n",
       "<div class=\"wandb-row\"><div class=\"wandb-col\"><h3>Run history:</h3><br/><table class=\"wandb\"><tr><td>acc</td><td>▅█▁▁▁▁▁▄▇▆▁▅▁▅▁▁▅▅▁▁</td></tr><tr><td>loss</td><td>▁▁▁▁▁▁▁▁▁▁▁▁▁▁▂▁▃▂▆█</td></tr><tr><td>val_acc</td><td>█▁▁▁▁▁▃▇▇▁▂▁▂▁▁▂▂▁▁▁</td></tr><tr><td>val_loss</td><td>▁▁▁▁▁▁▁▁▁▁▁▁▁▂▁▄▂▆█▂</td></tr></table><br/></div><div class=\"wandb-col\"><h3>Run summary:</h3><br/><table class=\"wandb\"><tr><td>acc</td><td>0.33333</td></tr><tr><td>loss</td><td>31.25541</td></tr><tr><td>val_acc</td><td>0.47619</td></tr><tr><td>val_loss</td><td>2.71681</td></tr></table><br/></div></div>"
      ],
      "text/plain": [
       "<IPython.core.display.HTML object>"
      ]
     },
     "metadata": {},
     "output_type": "display_data"
    },
    {
     "data": {
      "text/html": [
       " View run <strong style=\"color:#cdcd00\">dulcet-sweep-10</strong> at: <a href='https://wandb.ai/praptipatil01/Iris-Species-Classification/runs/4ickjhbi' target=\"_blank\">https://wandb.ai/praptipatil01/Iris-Species-Classification/runs/4ickjhbi</a><br/> View project at: <a href='https://wandb.ai/praptipatil01/Iris-Species-Classification' target=\"_blank\">https://wandb.ai/praptipatil01/Iris-Species-Classification</a><br/>Synced 5 W&B file(s), 0 media file(s), 5 artifact file(s) and 0 other file(s)"
      ],
      "text/plain": [
       "<IPython.core.display.HTML object>"
      ]
     },
     "metadata": {},
     "output_type": "display_data"
    },
    {
     "data": {
      "text/html": [
       "Find logs at: <code>.\\wandb\\run-20241021_211109-4ickjhbi\\logs</code>"
      ],
      "text/plain": [
       "<IPython.core.display.HTML object>"
      ]
     },
     "metadata": {},
     "output_type": "display_data"
    }
   ],
   "source": [
    "training_pipeline = TrainingPipeline()\n",
    "training_pipeline.run(train_config, train_dataset, CustomModelWithPCA)"
   ]
  },
  {
   "cell_type": "markdown",
   "metadata": {},
   "source": [
    "##### 3. Model using Subclassed Models"
   ]
  },
  {
   "cell_type": "code",
   "execution_count": 7,
   "metadata": {},
   "outputs": [],
   "source": [
    "class MulBiasDense(Layer):\n",
    "    def __init__(self, units:int = 32, activation = None):\n",
    "        super(MulBiasDense, self).__init__()\n",
    "        self.units = units\n",
    "        self.activation = activation\n",
    "    \n",
    "    def build(self, input_shape):\n",
    "        self.w = self.add_weight(shape = (input_shape[-1], self.units), initializer=\"glorot_uniform\", trainable=True)\n",
    "        self.b = self.add_weight(shape = (self.units,), initializer=\"glorot_uniform\", trainable=True)\n",
    "        self.b_mul = self.add_weight(shape = (self.units,), initializer=\"glorot_uniform\", trainable=True)\n",
    "    \n",
    "    def call(self, inputs):\n",
    "        out = (tf.matmul(inputs, self.w) + self.b) * self.b_mul\n",
    "        return Activation(self.activation)(out)"
   ]
  },
  {
   "cell_type": "code",
   "execution_count": 8,
   "metadata": {},
   "outputs": [],
   "source": [
    "def SubclassedModel(name=\"iris_subclassed\", num_blocks:int=1, units_1:int = 32, units_2:int = 16, *args, **kwargs):\n",
    "    inp = Input(shape=(4,))\n",
    "\n",
    "    out = inp\n",
    "    for _ in range(num_blocks):\n",
    "        out = MulBiasDense(units=units_1, activation='relu')(out)\n",
    "        out = MulBiasDense(units=units_2, activation='relu')(out)\n",
    "    \n",
    "    out = Dense(units=2, activation=\"softmax\")(out)\n",
    "    model = Model(inputs=inp, outputs=out, name=name)\n",
    "    return model"
   ]
  },
  {
   "cell_type": "code",
   "execution_count": 9,
   "metadata": {},
   "outputs": [],
   "source": [
    "train_config = {\n",
    "    \"mode\": \"experiment\",\n",
    "    \"sweep\": {\n",
    "        \"name\": \"wide-net-subclass\",\n",
    "        \"description\": \"This is a widenet sweep. This configuration uses a custom dense layer.\",\n",
    "        \"group\": \"iris_subclassed_api\",\n",
    "        \"method\": \"bayes\",\n",
    "        \"metric\": {\"goal\": \"minimize\", \"name\": \"validation_loss\"},\n",
    "        \"parameters\": {\n",
    "            \"learning_rate\": {\"min\": 0.0001, \"max\": 0.1},\n",
    "            \"optimizer\": {\"values\": [\"adam\", \"sgd\"]},\n",
    "            \"num_blocks\": { \"min\": 1, \"max\": 6, \"distribution\": \"int_uniform\" },\n",
    "            \"units_1\": { \"values\": list(range(16, 513, 16)) },\n",
    "            \"units_2\": { \"values\": list(range(8, 257, 16)) },\n",
    "        },\n",
    "    },\n",
    "    \"epochs\": 20,\n",
    "    \"batch_size\": 150,\n",
    "    \"log_frequency\": 1,\n",
    "    \"validation_split\": 0.2,\n",
    "    \"key_metric\": \"acc\",\n",
    "    \"baseline\": 0.75,\n",
    "    \"metrics\": [ \"train_acc\", \"val_acc\" ],\n",
    "}"
   ]
  },
  {
   "cell_type": "code",
   "execution_count": 10,
   "metadata": {},
   "outputs": [
    {
     "name": "stderr",
     "output_type": "stream",
     "text": [
      "[I 241022 09:30:51 1443250203:4] Training Pipeline set up\n",
      "wandb: Using wandb-core as the SDK backend. Please refer to https://wandb.me/wandb-core for more information.\n",
      "wandb: WARNING Malformed sweep config detected! This may cause your sweep to behave in unexpected ways.\n",
      "wandb: WARNING To avoid this, please fix the sweep config schema violations below:\n",
      "wandb: WARNING   Violation 1. Additional properties are not allowed ('group' was unexpected)\n"
     ]
    },
    {
     "name": "stdout",
     "output_type": "stream",
     "text": [
      "Create sweep with ID: 9re2wssu\n",
      "Sweep URL: https://wandb.ai/praptipatil01/Iris-Species-Classification/sweeps/9re2wssu\n"
     ]
    },
    {
     "name": "stderr",
     "output_type": "stream",
     "text": [
      "[D 241022 09:30:52 1443250203:8] Sweep Id: 9re2wssu\n",
      "wandb: Agent Starting Run: xim4sdwv with config:\n",
      "wandb: \tlearning_rate: 0.023117338741545257\n",
      "wandb: \tnum_blocks: 1\n",
      "wandb: \toptimizer: adam\n",
      "wandb: \tunits_1: 416\n",
      "wandb: \tunits_2: 232\n",
      "wandb: Currently logged in as: praptipatil01. Use `wandb login --relogin` to force relogin\n",
      "wandb: WARNING Ignored wandb.init() arg project when running a sweep.\n"
     ]
    },
    {
     "data": {
      "text/html": [
       "Tracking run with wandb version 0.18.5"
      ],
      "text/plain": [
       "<IPython.core.display.HTML object>"
      ]
     },
     "metadata": {},
     "output_type": "display_data"
    },
    {
     "data": {
      "text/html": [
       "Run data is saved locally in <code>c:\\Users\\prapt\\Desktop\\Deep Learning\\DL_Basics\\TensorFlow in Action\\wandb\\run-20241022_093054-xim4sdwv</code>"
      ],
      "text/plain": [
       "<IPython.core.display.HTML object>"
      ]
     },
     "metadata": {},
     "output_type": "display_data"
    },
    {
     "data": {
      "text/html": [
       "Syncing run <strong><a href='https://wandb.ai/praptipatil01/Iris-Species-Classification/runs/xim4sdwv' target=\"_blank\">fanciful-sweep-1</a></strong> to <a href='https://wandb.ai/praptipatil01/Iris-Species-Classification' target=\"_blank\">Weights & Biases</a> (<a href='https://wandb.me/run' target=\"_blank\">docs</a>)<br/>Sweep page: <a href='https://wandb.ai/praptipatil01/Iris-Species-Classification/sweeps/9re2wssu' target=\"_blank\">https://wandb.ai/praptipatil01/Iris-Species-Classification/sweeps/9re2wssu</a>"
      ],
      "text/plain": [
       "<IPython.core.display.HTML object>"
      ]
     },
     "metadata": {},
     "output_type": "display_data"
    },
    {
     "data": {
      "text/html": [
       " View project at <a href='https://wandb.ai/praptipatil01/Iris-Species-Classification' target=\"_blank\">https://wandb.ai/praptipatil01/Iris-Species-Classification</a>"
      ],
      "text/plain": [
       "<IPython.core.display.HTML object>"
      ]
     },
     "metadata": {},
     "output_type": "display_data"
    },
    {
     "data": {
      "text/html": [
       " View sweep at <a href='https://wandb.ai/praptipatil01/Iris-Species-Classification/sweeps/9re2wssu' target=\"_blank\">https://wandb.ai/praptipatil01/Iris-Species-Classification/sweeps/9re2wssu</a>"
      ],
      "text/plain": [
       "<IPython.core.display.HTML object>"
      ]
     },
     "metadata": {},
     "output_type": "display_data"
    },
    {
     "data": {
      "text/html": [
       " View run at <a href='https://wandb.ai/praptipatil01/Iris-Species-Classification/runs/xim4sdwv' target=\"_blank\">https://wandb.ai/praptipatil01/Iris-Species-Classification/runs/xim4sdwv</a>"
      ],
      "text/plain": [
       "<IPython.core.display.HTML object>"
      ]
     },
     "metadata": {},
     "output_type": "display_data"
    },
    {
     "name": "stderr",
     "output_type": "stream",
     "text": [
      "[D 241022 09:30:56 1443250203:23] Number of records: Train -  84, Val - 21\n"
     ]
    },
    {
     "name": "stdout",
     "output_type": "stream",
     "text": [
      "WARNING:tensorflow:From c:\\Users\\prapt\\Desktop\\Deep Learning\\DL_Basics\\DL_WS\\Lib\\site-packages\\keras\\src\\backend\\tensorflow\\core.py:204: The name tf.placeholder is deprecated. Please use tf.compat.v1.placeholder instead.\n",
      "\n"
     ]
    },
    {
     "data": {
      "text/html": [
       "<pre style=\"white-space:pre;overflow-x:auto;line-height:normal;font-family:Menlo,'DejaVu Sans Mono',consolas,'Courier New',monospace\"><span style=\"font-weight: bold\">Model: \"iris_subclassed\"</span>\n",
       "</pre>\n"
      ],
      "text/plain": [
       "\u001b[1mModel: \"iris_subclassed\"\u001b[0m\n"
      ]
     },
     "metadata": {},
     "output_type": "display_data"
    },
    {
     "data": {
      "text/html": [
       "<pre style=\"white-space:pre;overflow-x:auto;line-height:normal;font-family:Menlo,'DejaVu Sans Mono',consolas,'Courier New',monospace\">┏━━━━━━━━━━━━━━━━━━━━━━━━━━━━━━━━━┳━━━━━━━━━━━━━━━━━━━━━━━━┳━━━━━━━━━━━━━━━┓\n",
       "┃<span style=\"font-weight: bold\"> Layer (type)                    </span>┃<span style=\"font-weight: bold\"> Output Shape           </span>┃<span style=\"font-weight: bold\">       Param # </span>┃\n",
       "┡━━━━━━━━━━━━━━━━━━━━━━━━━━━━━━━━━╇━━━━━━━━━━━━━━━━━━━━━━━━╇━━━━━━━━━━━━━━━┩\n",
       "│ input_layer (<span style=\"color: #0087ff; text-decoration-color: #0087ff\">InputLayer</span>)        │ (<span style=\"color: #00d7ff; text-decoration-color: #00d7ff\">None</span>, <span style=\"color: #00af00; text-decoration-color: #00af00\">4</span>)              │             <span style=\"color: #00af00; text-decoration-color: #00af00\">0</span> │\n",
       "├─────────────────────────────────┼────────────────────────┼───────────────┤\n",
       "│ mul_bias_dense (<span style=\"color: #0087ff; text-decoration-color: #0087ff\">MulBiasDense</span>)   │ (<span style=\"color: #00d7ff; text-decoration-color: #00d7ff\">None</span>, <span style=\"color: #00af00; text-decoration-color: #00af00\">416</span>)            │         <span style=\"color: #00af00; text-decoration-color: #00af00\">2,496</span> │\n",
       "├─────────────────────────────────┼────────────────────────┼───────────────┤\n",
       "│ mul_bias_dense_1 (<span style=\"color: #0087ff; text-decoration-color: #0087ff\">MulBiasDense</span>) │ (<span style=\"color: #00d7ff; text-decoration-color: #00d7ff\">None</span>, <span style=\"color: #00af00; text-decoration-color: #00af00\">232</span>)            │        <span style=\"color: #00af00; text-decoration-color: #00af00\">96,976</span> │\n",
       "├─────────────────────────────────┼────────────────────────┼───────────────┤\n",
       "│ dense (<span style=\"color: #0087ff; text-decoration-color: #0087ff\">Dense</span>)                   │ (<span style=\"color: #00d7ff; text-decoration-color: #00d7ff\">None</span>, <span style=\"color: #00af00; text-decoration-color: #00af00\">2</span>)              │           <span style=\"color: #00af00; text-decoration-color: #00af00\">466</span> │\n",
       "└─────────────────────────────────┴────────────────────────┴───────────────┘\n",
       "</pre>\n"
      ],
      "text/plain": [
       "┏━━━━━━━━━━━━━━━━━━━━━━━━━━━━━━━━━┳━━━━━━━━━━━━━━━━━━━━━━━━┳━━━━━━━━━━━━━━━┓\n",
       "┃\u001b[1m \u001b[0m\u001b[1mLayer (type)                   \u001b[0m\u001b[1m \u001b[0m┃\u001b[1m \u001b[0m\u001b[1mOutput Shape          \u001b[0m\u001b[1m \u001b[0m┃\u001b[1m \u001b[0m\u001b[1m      Param #\u001b[0m\u001b[1m \u001b[0m┃\n",
       "┡━━━━━━━━━━━━━━━━━━━━━━━━━━━━━━━━━╇━━━━━━━━━━━━━━━━━━━━━━━━╇━━━━━━━━━━━━━━━┩\n",
       "│ input_layer (\u001b[38;5;33mInputLayer\u001b[0m)        │ (\u001b[38;5;45mNone\u001b[0m, \u001b[38;5;34m4\u001b[0m)              │             \u001b[38;5;34m0\u001b[0m │\n",
       "├─────────────────────────────────┼────────────────────────┼───────────────┤\n",
       "│ mul_bias_dense (\u001b[38;5;33mMulBiasDense\u001b[0m)   │ (\u001b[38;5;45mNone\u001b[0m, \u001b[38;5;34m416\u001b[0m)            │         \u001b[38;5;34m2,496\u001b[0m │\n",
       "├─────────────────────────────────┼────────────────────────┼───────────────┤\n",
       "│ mul_bias_dense_1 (\u001b[38;5;33mMulBiasDense\u001b[0m) │ (\u001b[38;5;45mNone\u001b[0m, \u001b[38;5;34m232\u001b[0m)            │        \u001b[38;5;34m96,976\u001b[0m │\n",
       "├─────────────────────────────────┼────────────────────────┼───────────────┤\n",
       "│ dense (\u001b[38;5;33mDense\u001b[0m)                   │ (\u001b[38;5;45mNone\u001b[0m, \u001b[38;5;34m2\u001b[0m)              │           \u001b[38;5;34m466\u001b[0m │\n",
       "└─────────────────────────────────┴────────────────────────┴───────────────┘\n"
      ]
     },
     "metadata": {},
     "output_type": "display_data"
    },
    {
     "data": {
      "text/html": [
       "<pre style=\"white-space:pre;overflow-x:auto;line-height:normal;font-family:Menlo,'DejaVu Sans Mono',consolas,'Courier New',monospace\"><span style=\"font-weight: bold\"> Total params: </span><span style=\"color: #00af00; text-decoration-color: #00af00\">99,938</span> (390.38 KB)\n",
       "</pre>\n"
      ],
      "text/plain": [
       "\u001b[1m Total params: \u001b[0m\u001b[38;5;34m99,938\u001b[0m (390.38 KB)\n"
      ]
     },
     "metadata": {},
     "output_type": "display_data"
    },
    {
     "data": {
      "text/html": [
       "<pre style=\"white-space:pre;overflow-x:auto;line-height:normal;font-family:Menlo,'DejaVu Sans Mono',consolas,'Courier New',monospace\"><span style=\"font-weight: bold\"> Trainable params: </span><span style=\"color: #00af00; text-decoration-color: #00af00\">99,938</span> (390.38 KB)\n",
       "</pre>\n"
      ],
      "text/plain": [
       "\u001b[1m Trainable params: \u001b[0m\u001b[38;5;34m99,938\u001b[0m (390.38 KB)\n"
      ]
     },
     "metadata": {},
     "output_type": "display_data"
    },
    {
     "data": {
      "text/html": [
       "<pre style=\"white-space:pre;overflow-x:auto;line-height:normal;font-family:Menlo,'DejaVu Sans Mono',consolas,'Courier New',monospace\"><span style=\"font-weight: bold\"> Non-trainable params: </span><span style=\"color: #00af00; text-decoration-color: #00af00\">0</span> (0.00 B)\n",
       "</pre>\n"
      ],
      "text/plain": [
       "\u001b[1m Non-trainable params: \u001b[0m\u001b[38;5;34m0\u001b[0m (0.00 B)\n"
      ]
     },
     "metadata": {},
     "output_type": "display_data"
    },
    {
     "name": "stderr",
     "output_type": "stream",
     "text": [
      "[D 241022 09:30:58 1443250203:29] Model_name: iris_subclassed\n"
     ]
    },
    {
     "name": "stdout",
     "output_type": "stream",
     "text": [
      "Epoch 1/20\n",
      "1/1 ━━━━━━━━━━━━━━━━━━━━ 0s 2s/step - acc: 0.6190 - loss: 0.4540INFO:tensorflow:Assets written to: models/iris/iris-functional_api\\assets\n"
     ]
    },
    {
     "name": "stderr",
     "output_type": "stream",
     "text": [
      "INFO:tensorflow:Assets written to: models/iris/iris-functional_api\\assets\n"
     ]
    },
    {
     "name": "stdout",
     "output_type": "stream",
     "text": [
      "1/1 ━━━━━━━━━━━━━━━━━━━━ 3s 3s/step - acc: 0.6190 - loss: 0.4540 - val_acc: 0.5714 - val_loss: 0.4291\n",
      "Epoch 2/20\n",
      "1/1 ━━━━━━━━━━━━━━━━━━━━ 0s 22ms/step - acc: 0.7024 - loss: 0.45 ━━━━━━━━━━━━━━━━━━━━ 0s 73ms/step - acc: 0.7024 - loss: 0.4537 - val_acc: 0.1905 - val_loss: 0.4294\n",
      "Epoch 3/20\n",
      "1/1 ━━━━━━━━━━━━━━━━━━━━ 0s 102ms/step - acc: 0.3810 - loss: 0.453 ━━━━━━━━━━━━━━━━━━━━ 0s 180ms/step - acc: 0.3810 - loss: 0.4535 - val_acc: 0.1905 - val_loss: 0.4296\n",
      "Epoch 4/20\n",
      "1/1 ━━━━━━━━━━━━━━━━━━━━ 0s 56ms/step - acc: 0.3810 - loss: 0.45 ━━━━━━━━━━━━━━━━━━━━ 0s 132ms/step - acc: 0.3810 - loss: 0.4533 - val_acc: 0.1905 - val_loss: 0.4299\n",
      "Epoch 5/20\n",
      "1/1 ━━━━━━━━━━━━━━━━━━━━ 0s 71ms/step - acc: 0.3810 - loss: 0.45 ━━━━━━━━━━━━━━━━━━━━ 0s 114ms/step - acc: 0.3810 - loss: 0.4531 - val_acc: 0.1905 - val_loss: 0.4301\n",
      "Epoch 6/20\n",
      "1/1 ━━━━━━━━━━━━━━━━━━━━ 0s 62ms/step - acc: 0.3810 - loss: 0.45 ━━━━━━━━━━━━━━━━━━━━ 0s 106ms/step - acc: 0.3810 - loss: 0.4529 - val_acc: 0.1905 - val_loss: 0.4303\n",
      "Epoch 7/20\n",
      "1/1 ━━━━━━━━━━━━━━━━━━━━ 0s 44ms/step - acc: 0.3810 - loss: 0.45 ━━━━━━━━━━━━━━━━━━━━ 0s 116ms/step - acc: 0.3810 - loss: 0.4527 - val_acc: 0.1905 - val_loss: 0.4306\n",
      "Epoch 8/20\n",
      "1/1 ━━━━━━━━━━━━━━━━━━━━ 0s 86ms/step - acc: 0.3810 - loss: 0.45 ━━━━━━━━━━━━━━━━━━━━ 0s 183ms/step - acc: 0.3810 - loss: 0.4525 - val_acc: 0.1905 - val_loss: 0.4308\n",
      "Epoch 9/20\n",
      "1/1 ━━━━━━━━━━━━━━━━━━━━ 0s 75ms/step - acc: 0.3810 - loss: 0.45 ━━━━━━━━━━━━━━━━━━━━ 0s 150ms/step - acc: 0.3810 - loss: 0.4523 - val_acc: 0.1905 - val_loss: 0.4311\n",
      "Epoch 10/20\n",
      "1/1 ━━━━━━━━━━━━━━━━━━━━ 0s 54ms/step - acc: 0.3810 - loss: 0.45 ━━━━━━━━━━━━━━━━━━━━ 0s 112ms/step - acc: 0.3810 - loss: 0.4521 - val_acc: 0.1905 - val_loss: 0.4314\n",
      "Epoch 11/20\n",
      "1/1 ━━━━━━━━━━━━━━━━━━━━ 0s 55ms/step - acc: 0.3810 - loss: 0.45 ━━━━━━━━━━━━━━━━━━━━ 0s 125ms/step - acc: 0.3810 - loss: 0.4518 - val_acc: 0.1905 - val_loss: 0.4317\n",
      "Epoch 12/20\n",
      "1/1 ━━━━━━━━━━━━━━━━━━━━ 0s 82ms/step - acc: 0.3810 - loss: 0.45 ━━━━━━━━━━━━━━━━━━━━ 0s 143ms/step - acc: 0.3810 - loss: 0.4516 - val_acc: 0.1905 - val_loss: 0.4320\n",
      "Epoch 13/20\n",
      "1/1 ━━━━━━━━━━━━━━━━━━━━ 0s 55ms/step - acc: 0.3810 - loss: 0.45 ━━━━━━━━━━━━━━━━━━━━ 0s 109ms/step - acc: 0.3810 - loss: 0.4514 - val_acc: 0.1905 - val_loss: 0.4323\n",
      "Epoch 14/20\n",
      "1/1 ━━━━━━━━━━━━━━━━━━━━ 0s 39ms/step - acc: 0.3810 - loss: 0.45 ━━━━━━━━━━━━━━━━━━━━ 0s 97ms/step - acc: 0.3810 - loss: 0.4511 - val_acc: 0.1905 - val_loss: 0.4326\n",
      "Epoch 15/20\n",
      "1/1 ━━━━━━━━━━━━━━━━━━━━ 0s 68ms/step - acc: 0.3810 - loss: 0.45 ━━━━━━━━━━━━━━━━━━━━ 0s 127ms/step - acc: 0.3810 - loss: 0.4508 - val_acc: 0.1905 - val_loss: 0.4329\n",
      "Epoch 16/20\n",
      "1/1 ━━━━━━━━━━━━━━━━━━━━ 0s 49ms/step - acc: 0.3810 - loss: 0.45 ━━━━━━━━━━━━━━━━━━━━ 0s 95ms/step - acc: 0.3810 - loss: 0.4506 - val_acc: 0.1905 - val_loss: 0.4333\n",
      "Epoch 17/20\n",
      "1/1 ━━━━━━━━━━━━━━━━━━━━ 0s 46ms/step - acc: 0.3810 - loss: 0.45 ━━━━━━━━━━━━━━━━━━━━ 0s 86ms/step - acc: 0.3810 - loss: 0.4502 - val_acc: 0.1905 - val_loss: 0.4337\n",
      "Epoch 18/20\n",
      "1/1 ━━━━━━━━━━━━━━━━━━━━ 0s 40ms/step - acc: 0.3810 - loss: 0.44 ━━━━━━━━━━━━━━━━━━━━ 0s 85ms/step - acc: 0.3810 - loss: 0.4499 - val_acc: 0.1905 - val_loss: 0.4341\n",
      "Epoch 19/20\n",
      "1/1 ━━━━━━━━━━━━━━━━━━━━ 0s 37ms/step - acc: 0.3810 - loss: 0.44 ━━━━━━━━━━━━━━━━━━━━ 0s 81ms/step - acc: 0.3810 - loss: 0.4496 - val_acc: 0.1905 - val_loss: 0.4345\n",
      "Epoch 20/20\n",
      "1/1 ━━━━━━━━━━━━━━━━━━━━ 0s 45ms/step - acc: 0.3810 - loss: 0.44 ━━━━━━━━━━━━━━━━━━━━ 0s 87ms/step - acc: 0.3810 - loss: 0.4492 - val_acc: 0.1905 - val_loss: 0.4350\n"
     ]
    },
    {
     "name": "stderr",
     "output_type": "stream",
     "text": [
      "wandb: Adding directory to artifact (.\\models\\iris\\iris-functional_api)... Done. 0.0s\n"
     ]
    },
    {
     "data": {
      "text/html": [
       "<style>\n",
       "    table.wandb td:nth-child(1) { padding: 0 10px; text-align: left ; width: auto;} td:nth-child(2) {text-align: left ; width: 100%}\n",
       "    .wandb-row { display: flex; flex-direction: row; flex-wrap: wrap; justify-content: flex-start; width: 100% }\n",
       "    .wandb-col { display: flex; flex-direction: column; flex-basis: 100%; flex: 1; padding: 10px; }\n",
       "    </style>\n",
       "<div class=\"wandb-row\"><div class=\"wandb-col\"><h3>Run history:</h3><br/><table class=\"wandb\"><tr><td>acc</td><td>▆█▁▁▁▁▁▁▁▁▁▁▁▁▁▁▁▁▁▁</td></tr><tr><td>loss</td><td>██▇▇▇▆▆▆▅▅▅▅▄▄▃▃▃▂▂▁</td></tr><tr><td>val_acc</td><td>█▁▁▁▁▁▁▁▁▁▁▁▁▁▁▁▁▁▁▁</td></tr><tr><td>val_loss</td><td>▁▁▂▂▂▂▃▃▃▄▄▄▅▅▆▆▆▇▇█</td></tr></table><br/></div><div class=\"wandb-col\"><h3>Run summary:</h3><br/><table class=\"wandb\"><tr><td>acc</td><td>0.38095</td></tr><tr><td>loss</td><td>0.44918</td></tr><tr><td>val_acc</td><td>0.19048</td></tr><tr><td>val_loss</td><td>0.43502</td></tr></table><br/></div></div>"
      ],
      "text/plain": [
       "<IPython.core.display.HTML object>"
      ]
     },
     "metadata": {},
     "output_type": "display_data"
    },
    {
     "data": {
      "text/html": [
       " View run <strong style=\"color:#cdcd00\">fanciful-sweep-1</strong> at: <a href='https://wandb.ai/praptipatil01/Iris-Species-Classification/runs/xim4sdwv' target=\"_blank\">https://wandb.ai/praptipatil01/Iris-Species-Classification/runs/xim4sdwv</a><br/> View project at: <a href='https://wandb.ai/praptipatil01/Iris-Species-Classification' target=\"_blank\">https://wandb.ai/praptipatil01/Iris-Species-Classification</a><br/>Synced 5 W&B file(s), 0 media file(s), 5 artifact file(s) and 0 other file(s)"
      ],
      "text/plain": [
       "<IPython.core.display.HTML object>"
      ]
     },
     "metadata": {},
     "output_type": "display_data"
    },
    {
     "data": {
      "text/html": [
       "Find logs at: <code>.\\wandb\\run-20241022_093054-xim4sdwv\\logs</code>"
      ],
      "text/plain": [
       "<IPython.core.display.HTML object>"
      ]
     },
     "metadata": {},
     "output_type": "display_data"
    },
    {
     "name": "stderr",
     "output_type": "stream",
     "text": [
      "wandb: Agent Starting Run: o6f3hds1 with config:\n",
      "wandb: \tlearning_rate: 0.07518270047179187\n",
      "wandb: \tnum_blocks: 3\n",
      "wandb: \toptimizer: adam\n",
      "wandb: \tunits_1: 224\n",
      "wandb: \tunits_2: 216\n",
      "wandb: WARNING Ignored wandb.init() arg project when running a sweep.\n"
     ]
    },
    {
     "data": {
      "text/html": [
       "Tracking run with wandb version 0.18.5"
      ],
      "text/plain": [
       "<IPython.core.display.HTML object>"
      ]
     },
     "metadata": {},
     "output_type": "display_data"
    },
    {
     "data": {
      "text/html": [
       "Run data is saved locally in <code>c:\\Users\\prapt\\Desktop\\Deep Learning\\DL_Basics\\TensorFlow in Action\\wandb\\run-20241022_093120-o6f3hds1</code>"
      ],
      "text/plain": [
       "<IPython.core.display.HTML object>"
      ]
     },
     "metadata": {},
     "output_type": "display_data"
    },
    {
     "data": {
      "text/html": [
       "Syncing run <strong><a href='https://wandb.ai/praptipatil01/Iris-Species-Classification/runs/o6f3hds1' target=\"_blank\">misunderstood-sweep-2</a></strong> to <a href='https://wandb.ai/praptipatil01/Iris-Species-Classification' target=\"_blank\">Weights & Biases</a> (<a href='https://wandb.me/run' target=\"_blank\">docs</a>)<br/>Sweep page: <a href='https://wandb.ai/praptipatil01/Iris-Species-Classification/sweeps/9re2wssu' target=\"_blank\">https://wandb.ai/praptipatil01/Iris-Species-Classification/sweeps/9re2wssu</a>"
      ],
      "text/plain": [
       "<IPython.core.display.HTML object>"
      ]
     },
     "metadata": {},
     "output_type": "display_data"
    },
    {
     "data": {
      "text/html": [
       " View project at <a href='https://wandb.ai/praptipatil01/Iris-Species-Classification' target=\"_blank\">https://wandb.ai/praptipatil01/Iris-Species-Classification</a>"
      ],
      "text/plain": [
       "<IPython.core.display.HTML object>"
      ]
     },
     "metadata": {},
     "output_type": "display_data"
    },
    {
     "data": {
      "text/html": [
       " View sweep at <a href='https://wandb.ai/praptipatil01/Iris-Species-Classification/sweeps/9re2wssu' target=\"_blank\">https://wandb.ai/praptipatil01/Iris-Species-Classification/sweeps/9re2wssu</a>"
      ],
      "text/plain": [
       "<IPython.core.display.HTML object>"
      ]
     },
     "metadata": {},
     "output_type": "display_data"
    },
    {
     "data": {
      "text/html": [
       " View run at <a href='https://wandb.ai/praptipatil01/Iris-Species-Classification/runs/o6f3hds1' target=\"_blank\">https://wandb.ai/praptipatil01/Iris-Species-Classification/runs/o6f3hds1</a>"
      ],
      "text/plain": [
       "<IPython.core.display.HTML object>"
      ]
     },
     "metadata": {},
     "output_type": "display_data"
    },
    {
     "name": "stderr",
     "output_type": "stream",
     "text": [
      "[D 241022 09:31:22 1443250203:23] Number of records: Train -  84, Val - 21\n"
     ]
    },
    {
     "data": {
      "text/html": [
       "<pre style=\"white-space:pre;overflow-x:auto;line-height:normal;font-family:Menlo,'DejaVu Sans Mono',consolas,'Courier New',monospace\"><span style=\"font-weight: bold\">Model: \"iris_subclassed\"</span>\n",
       "</pre>\n"
      ],
      "text/plain": [
       "\u001b[1mModel: \"iris_subclassed\"\u001b[0m\n"
      ]
     },
     "metadata": {},
     "output_type": "display_data"
    },
    {
     "data": {
      "text/html": [
       "<pre style=\"white-space:pre;overflow-x:auto;line-height:normal;font-family:Menlo,'DejaVu Sans Mono',consolas,'Courier New',monospace\">┏━━━━━━━━━━━━━━━━━━━━━━━━━━━━━━━━━┳━━━━━━━━━━━━━━━━━━━━━━━━┳━━━━━━━━━━━━━━━┓\n",
       "┃<span style=\"font-weight: bold\"> Layer (type)                    </span>┃<span style=\"font-weight: bold\"> Output Shape           </span>┃<span style=\"font-weight: bold\">       Param # </span>┃\n",
       "┡━━━━━━━━━━━━━━━━━━━━━━━━━━━━━━━━━╇━━━━━━━━━━━━━━━━━━━━━━━━╇━━━━━━━━━━━━━━━┩\n",
       "│ input_layer (<span style=\"color: #0087ff; text-decoration-color: #0087ff\">InputLayer</span>)        │ (<span style=\"color: #00d7ff; text-decoration-color: #00d7ff\">None</span>, <span style=\"color: #00af00; text-decoration-color: #00af00\">4</span>)              │             <span style=\"color: #00af00; text-decoration-color: #00af00\">0</span> │\n",
       "├─────────────────────────────────┼────────────────────────┼───────────────┤\n",
       "│ mul_bias_dense (<span style=\"color: #0087ff; text-decoration-color: #0087ff\">MulBiasDense</span>)   │ (<span style=\"color: #00d7ff; text-decoration-color: #00d7ff\">None</span>, <span style=\"color: #00af00; text-decoration-color: #00af00\">224</span>)            │         <span style=\"color: #00af00; text-decoration-color: #00af00\">1,344</span> │\n",
       "├─────────────────────────────────┼────────────────────────┼───────────────┤\n",
       "│ mul_bias_dense_1 (<span style=\"color: #0087ff; text-decoration-color: #0087ff\">MulBiasDense</span>) │ (<span style=\"color: #00d7ff; text-decoration-color: #00d7ff\">None</span>, <span style=\"color: #00af00; text-decoration-color: #00af00\">216</span>)            │        <span style=\"color: #00af00; text-decoration-color: #00af00\">48,816</span> │\n",
       "├─────────────────────────────────┼────────────────────────┼───────────────┤\n",
       "│ mul_bias_dense_2 (<span style=\"color: #0087ff; text-decoration-color: #0087ff\">MulBiasDense</span>) │ (<span style=\"color: #00d7ff; text-decoration-color: #00d7ff\">None</span>, <span style=\"color: #00af00; text-decoration-color: #00af00\">224</span>)            │        <span style=\"color: #00af00; text-decoration-color: #00af00\">48,832</span> │\n",
       "├─────────────────────────────────┼────────────────────────┼───────────────┤\n",
       "│ mul_bias_dense_3 (<span style=\"color: #0087ff; text-decoration-color: #0087ff\">MulBiasDense</span>) │ (<span style=\"color: #00d7ff; text-decoration-color: #00d7ff\">None</span>, <span style=\"color: #00af00; text-decoration-color: #00af00\">216</span>)            │        <span style=\"color: #00af00; text-decoration-color: #00af00\">48,816</span> │\n",
       "├─────────────────────────────────┼────────────────────────┼───────────────┤\n",
       "│ mul_bias_dense_4 (<span style=\"color: #0087ff; text-decoration-color: #0087ff\">MulBiasDense</span>) │ (<span style=\"color: #00d7ff; text-decoration-color: #00d7ff\">None</span>, <span style=\"color: #00af00; text-decoration-color: #00af00\">224</span>)            │        <span style=\"color: #00af00; text-decoration-color: #00af00\">48,832</span> │\n",
       "├─────────────────────────────────┼────────────────────────┼───────────────┤\n",
       "│ mul_bias_dense_5 (<span style=\"color: #0087ff; text-decoration-color: #0087ff\">MulBiasDense</span>) │ (<span style=\"color: #00d7ff; text-decoration-color: #00d7ff\">None</span>, <span style=\"color: #00af00; text-decoration-color: #00af00\">216</span>)            │        <span style=\"color: #00af00; text-decoration-color: #00af00\">48,816</span> │\n",
       "├─────────────────────────────────┼────────────────────────┼───────────────┤\n",
       "│ dense (<span style=\"color: #0087ff; text-decoration-color: #0087ff\">Dense</span>)                   │ (<span style=\"color: #00d7ff; text-decoration-color: #00d7ff\">None</span>, <span style=\"color: #00af00; text-decoration-color: #00af00\">2</span>)              │           <span style=\"color: #00af00; text-decoration-color: #00af00\">434</span> │\n",
       "└─────────────────────────────────┴────────────────────────┴───────────────┘\n",
       "</pre>\n"
      ],
      "text/plain": [
       "┏━━━━━━━━━━━━━━━━━━━━━━━━━━━━━━━━━┳━━━━━━━━━━━━━━━━━━━━━━━━┳━━━━━━━━━━━━━━━┓\n",
       "┃\u001b[1m \u001b[0m\u001b[1mLayer (type)                   \u001b[0m\u001b[1m \u001b[0m┃\u001b[1m \u001b[0m\u001b[1mOutput Shape          \u001b[0m\u001b[1m \u001b[0m┃\u001b[1m \u001b[0m\u001b[1m      Param #\u001b[0m\u001b[1m \u001b[0m┃\n",
       "┡━━━━━━━━━━━━━━━━━━━━━━━━━━━━━━━━━╇━━━━━━━━━━━━━━━━━━━━━━━━╇━━━━━━━━━━━━━━━┩\n",
       "│ input_layer (\u001b[38;5;33mInputLayer\u001b[0m)        │ (\u001b[38;5;45mNone\u001b[0m, \u001b[38;5;34m4\u001b[0m)              │             \u001b[38;5;34m0\u001b[0m │\n",
       "├─────────────────────────────────┼────────────────────────┼───────────────┤\n",
       "│ mul_bias_dense (\u001b[38;5;33mMulBiasDense\u001b[0m)   │ (\u001b[38;5;45mNone\u001b[0m, \u001b[38;5;34m224\u001b[0m)            │         \u001b[38;5;34m1,344\u001b[0m │\n",
       "├─────────────────────────────────┼────────────────────────┼───────────────┤\n",
       "│ mul_bias_dense_1 (\u001b[38;5;33mMulBiasDense\u001b[0m) │ (\u001b[38;5;45mNone\u001b[0m, \u001b[38;5;34m216\u001b[0m)            │        \u001b[38;5;34m48,816\u001b[0m │\n",
       "├─────────────────────────────────┼────────────────────────┼───────────────┤\n",
       "│ mul_bias_dense_2 (\u001b[38;5;33mMulBiasDense\u001b[0m) │ (\u001b[38;5;45mNone\u001b[0m, \u001b[38;5;34m224\u001b[0m)            │        \u001b[38;5;34m48,832\u001b[0m │\n",
       "├─────────────────────────────────┼────────────────────────┼───────────────┤\n",
       "│ mul_bias_dense_3 (\u001b[38;5;33mMulBiasDense\u001b[0m) │ (\u001b[38;5;45mNone\u001b[0m, \u001b[38;5;34m216\u001b[0m)            │        \u001b[38;5;34m48,816\u001b[0m │\n",
       "├─────────────────────────────────┼────────────────────────┼───────────────┤\n",
       "│ mul_bias_dense_4 (\u001b[38;5;33mMulBiasDense\u001b[0m) │ (\u001b[38;5;45mNone\u001b[0m, \u001b[38;5;34m224\u001b[0m)            │        \u001b[38;5;34m48,832\u001b[0m │\n",
       "├─────────────────────────────────┼────────────────────────┼───────────────┤\n",
       "│ mul_bias_dense_5 (\u001b[38;5;33mMulBiasDense\u001b[0m) │ (\u001b[38;5;45mNone\u001b[0m, \u001b[38;5;34m216\u001b[0m)            │        \u001b[38;5;34m48,816\u001b[0m │\n",
       "├─────────────────────────────────┼────────────────────────┼───────────────┤\n",
       "│ dense (\u001b[38;5;33mDense\u001b[0m)                   │ (\u001b[38;5;45mNone\u001b[0m, \u001b[38;5;34m2\u001b[0m)              │           \u001b[38;5;34m434\u001b[0m │\n",
       "└─────────────────────────────────┴────────────────────────┴───────────────┘\n"
      ]
     },
     "metadata": {},
     "output_type": "display_data"
    },
    {
     "data": {
      "text/html": [
       "<pre style=\"white-space:pre;overflow-x:auto;line-height:normal;font-family:Menlo,'DejaVu Sans Mono',consolas,'Courier New',monospace\"><span style=\"font-weight: bold\"> Total params: </span><span style=\"color: #00af00; text-decoration-color: #00af00\">245,890</span> (960.51 KB)\n",
       "</pre>\n"
      ],
      "text/plain": [
       "\u001b[1m Total params: \u001b[0m\u001b[38;5;34m245,890\u001b[0m (960.51 KB)\n"
      ]
     },
     "metadata": {},
     "output_type": "display_data"
    },
    {
     "data": {
      "text/html": [
       "<pre style=\"white-space:pre;overflow-x:auto;line-height:normal;font-family:Menlo,'DejaVu Sans Mono',consolas,'Courier New',monospace\"><span style=\"font-weight: bold\"> Trainable params: </span><span style=\"color: #00af00; text-decoration-color: #00af00\">245,890</span> (960.51 KB)\n",
       "</pre>\n"
      ],
      "text/plain": [
       "\u001b[1m Trainable params: \u001b[0m\u001b[38;5;34m245,890\u001b[0m (960.51 KB)\n"
      ]
     },
     "metadata": {},
     "output_type": "display_data"
    },
    {
     "data": {
      "text/html": [
       "<pre style=\"white-space:pre;overflow-x:auto;line-height:normal;font-family:Menlo,'DejaVu Sans Mono',consolas,'Courier New',monospace\"><span style=\"font-weight: bold\"> Non-trainable params: </span><span style=\"color: #00af00; text-decoration-color: #00af00\">0</span> (0.00 B)\n",
       "</pre>\n"
      ],
      "text/plain": [
       "\u001b[1m Non-trainable params: \u001b[0m\u001b[38;5;34m0\u001b[0m (0.00 B)\n"
      ]
     },
     "metadata": {},
     "output_type": "display_data"
    },
    {
     "name": "stderr",
     "output_type": "stream",
     "text": [
      "[D 241022 09:31:23 1443250203:29] Model_name: iris_subclassed\n"
     ]
    },
    {
     "name": "stdout",
     "output_type": "stream",
     "text": [
      "Epoch 1/20\n",
      "1/1 ━━━━━━━━━━━━━━━━━━━━ 0s 4s/step - acc: 0.3810 - loss: 0.4535INFO:tensorflow:Assets written to: models/iris/iris-functional_api\\assets\n"
     ]
    },
    {
     "name": "stderr",
     "output_type": "stream",
     "text": [
      "INFO:tensorflow:Assets written to: models/iris/iris-functional_api\\assets\n"
     ]
    },
    {
     "name": "stdout",
     "output_type": "stream",
     "text": [
      "1/1 ━━━━━━━━━━━━━━━━━━━━ 5s 5s/step - acc: 0.3810 - loss: 0.4535 - val_acc: 0.1905 - val_loss: 0.4298\n",
      "Epoch 2/20\n",
      "1/1 ━━━━━━━━━━━━━━━━━━━━ 0s 109ms/step - acc: 0.3810 - loss: 0.453 ━━━━━━━━━━━━━━━━━━━━ 0s 173ms/step - acc: 0.3810 - loss: 0.4535 - val_acc: 0.1905 - val_loss: 0.4299\n",
      "Epoch 3/20\n",
      "1/1 ━━━━━━━━━━━━━━━━━━━━ 0s 70ms/step - acc: 0.3810 - loss: 0.45 ━━━━━━━━━━━━━━━━━━━━ 0s 144ms/step - acc: 0.3810 - loss: 0.4535 - val_acc: 0.1905 - val_loss: 0.4299\n",
      "Epoch 4/20\n",
      "1/1 ━━━━━━━━━━━━━━━━━━━━ 0s 50ms/step - acc: 0.3810 - loss: 0.45 ━━━━━━━━━━━━━━━━━━━━ 0s 151ms/step - acc: 0.3810 - loss: 0.4535 - val_acc: 0.1905 - val_loss: 0.4299\n",
      "Epoch 5/20\n",
      "1/1 ━━━━━━━━━━━━━━━━━━━━ 0s 38ms/step - acc: 0.3810 - loss: 0.45 ━━━━━━━━━━━━━━━━━━━━ 0s 83ms/step - acc: 0.3810 - loss: 0.4535 - val_acc: 0.1905 - val_loss: 0.4300\n",
      "Epoch 6/20\n",
      "1/1 ━━━━━━━━━━━━━━━━━━━━ 0s 41ms/step - acc: 0.3810 - loss: 0.45 ━━━━━━━━━━━━━━━━━━━━ 0s 90ms/step - acc: 0.3810 - loss: 0.4535 - val_acc: 0.1905 - val_loss: 0.4300\n",
      "Epoch 7/20\n",
      "1/1 ━━━━━━━━━━━━━━━━━━━━ 0s 46ms/step - acc: 0.3810 - loss: 0.45 ━━━━━━━━━━━━━━━━━━━━ 0s 119ms/step - acc: 0.3810 - loss: 0.4534 - val_acc: 0.1905 - val_loss: 0.4300\n",
      "Epoch 8/20\n",
      "1/1 ━━━━━━━━━━━━━━━━━━━━ 0s 72ms/step - acc: 0.3810 - loss: 0.45 ━━━━━━━━━━━━━━━━━━━━ 0s 138ms/step - acc: 0.3810 - loss: 0.4534 - val_acc: 0.1905 - val_loss: 0.4301\n",
      "Epoch 9/20\n",
      "1/1 ━━━━━━━━━━━━━━━━━━━━ 0s 52ms/step - acc: 0.3810 - loss: 0.45 ━━━━━━━━━━━━━━━━━━━━ 0s 130ms/step - acc: 0.3810 - loss: 0.4534 - val_acc: 0.1905 - val_loss: 0.4301\n",
      "Epoch 10/20\n",
      "1/1 ━━━━━━━━━━━━━━━━━━━━ 0s 49ms/step - acc: 0.3810 - loss: 0.45 ━━━━━━━━━━━━━━━━━━━━ 0s 117ms/step - acc: 0.3810 - loss: 0.4534 - val_acc: 0.1905 - val_loss: 0.4301\n",
      "Epoch 11/20\n",
      "1/1 ━━━━━━━━━━━━━━━━━━━━ 0s 98ms/step - acc: 0.3810 - loss: 0.45 ━━━━━━━━━━━━━━━━━━━━ 0s 201ms/step - acc: 0.3810 - loss: 0.4534 - val_acc: 0.1905 - val_loss: 0.4302\n",
      "Epoch 12/20\n",
      "1/1 ━━━━━━━━━━━━━━━━━━━━ 0s 103ms/step - acc: 0.3810 - loss: 0.453 ━━━━━━━━━━━━━━━━━━━━ 0s 190ms/step - acc: 0.3810 - loss: 0.4534 - val_acc: 0.1905 - val_loss: 0.4302\n",
      "Epoch 13/20\n",
      "1/1 ━━━━━━━━━━━━━━━━━━━━ 0s 67ms/step - acc: 0.3810 - loss: 0.45 ━━━━━━━━━━━━━━━━━━━━ 0s 131ms/step - acc: 0.3810 - loss: 0.4533 - val_acc: 0.1905 - val_loss: 0.4303\n",
      "Epoch 14/20\n",
      "1/1 ━━━━━━━━━━━━━━━━━━━━ 0s 70ms/step - acc: 0.3810 - loss: 0.45 ━━━━━━━━━━━━━━━━━━━━ 0s 124ms/step - acc: 0.3810 - loss: 0.4533 - val_acc: 0.1905 - val_loss: 0.4303\n",
      "Epoch 15/20\n",
      "1/1 ━━━━━━━━━━━━━━━━━━━━ 0s 58ms/step - acc: 0.3810 - loss: 0.45 ━━━━━━━━━━━━━━━━━━━━ 0s 129ms/step - acc: 0.3810 - loss: 0.4533 - val_acc: 0.1905 - val_loss: 0.4303\n",
      "Epoch 16/20\n",
      "1/1 ━━━━━━━━━━━━━━━━━━━━ 0s 89ms/step - acc: 0.3810 - loss: 0.45 ━━━━━━━━━━━━━━━━━━━━ 0s 169ms/step - acc: 0.3810 - loss: 0.4533 - val_acc: 0.1905 - val_loss: 0.4304\n",
      "Epoch 17/20\n",
      "1/1 ━━━━━━━━━━━━━━━━━━━━ 0s 72ms/step - acc: 0.3810 - loss: 0.45 ━━━━━━━━━━━━━━━━━━━━ 0s 139ms/step - acc: 0.3810 - loss: 0.4533 - val_acc: 0.1905 - val_loss: 0.4304\n",
      "Epoch 18/20\n",
      "1/1 ━━━━━━━━━━━━━━━━━━━━ 0s 71ms/step - acc: 0.3810 - loss: 0.45 ━━━━━━━━━━━━━━━━━━━━ 0s 141ms/step - acc: 0.3810 - loss: 0.4533 - val_acc: 0.1905 - val_loss: 0.4305\n",
      "Epoch 19/20\n",
      "1/1 ━━━━━━━━━━━━━━━━━━━━ 0s 72ms/step - acc: 0.3810 - loss: 0.45 ━━━━━━━━━━━━━━━━━━━━ 0s 147ms/step - acc: 0.3810 - loss: 0.4532 - val_acc: 0.1905 - val_loss: 0.4306\n",
      "Epoch 20/20\n",
      "1/1 ━━━━━━━━━━━━━━━━━━━━ 0s 46ms/step - acc: 0.3810 - loss: 0.45 ━━━━━━━━━━━━━━━━━━━━ 0s 106ms/step - acc: 0.3810 - loss: 0.4532 - val_acc: 0.1905 - val_loss: 0.4306\n"
     ]
    },
    {
     "name": "stderr",
     "output_type": "stream",
     "text": [
      "wandb: Adding directory to artifact (.\\models\\iris\\iris-functional_api)... Done. 0.1s\n"
     ]
    },
    {
     "data": {
      "text/html": [
       "<style>\n",
       "    table.wandb td:nth-child(1) { padding: 0 10px; text-align: left ; width: auto;} td:nth-child(2) {text-align: left ; width: 100%}\n",
       "    .wandb-row { display: flex; flex-direction: row; flex-wrap: wrap; justify-content: flex-start; width: 100% }\n",
       "    .wandb-col { display: flex; flex-direction: column; flex-basis: 100%; flex: 1; padding: 10px; }\n",
       "    </style>\n",
       "<div class=\"wandb-row\"><div class=\"wandb-col\"><h3>Run history:</h3><br/><table class=\"wandb\"><tr><td>acc</td><td>▁▁▁▁▁▁▁▁▁▁▁▁▁▁▁▁▁▁▁▁</td></tr><tr><td>loss</td><td>██▇▇▇▆▆▆▅▅▅▄▄▄▃▃▂▂▁▁</td></tr><tr><td>val_acc</td><td>▁▁▁▁▁▁▁▁▁▁▁▁▁▁▁▁▁▁▁▁</td></tr><tr><td>val_loss</td><td>▁▁▂▂▂▃▃▃▄▄▄▅▅▅▆▆▇▇▇█</td></tr></table><br/></div><div class=\"wandb-col\"><h3>Run summary:</h3><br/><table class=\"wandb\"><tr><td>acc</td><td>0.38095</td></tr><tr><td>loss</td><td>0.45321</td></tr><tr><td>val_acc</td><td>0.19048</td></tr><tr><td>val_loss</td><td>0.43061</td></tr></table><br/></div></div>"
      ],
      "text/plain": [
       "<IPython.core.display.HTML object>"
      ]
     },
     "metadata": {},
     "output_type": "display_data"
    },
    {
     "data": {
      "text/html": [
       " View run <strong style=\"color:#cdcd00\">misunderstood-sweep-2</strong> at: <a href='https://wandb.ai/praptipatil01/Iris-Species-Classification/runs/o6f3hds1' target=\"_blank\">https://wandb.ai/praptipatil01/Iris-Species-Classification/runs/o6f3hds1</a><br/> View project at: <a href='https://wandb.ai/praptipatil01/Iris-Species-Classification' target=\"_blank\">https://wandb.ai/praptipatil01/Iris-Species-Classification</a><br/>Synced 5 W&B file(s), 0 media file(s), 5 artifact file(s) and 0 other file(s)"
      ],
      "text/plain": [
       "<IPython.core.display.HTML object>"
      ]
     },
     "metadata": {},
     "output_type": "display_data"
    },
    {
     "data": {
      "text/html": [
       "Find logs at: <code>.\\wandb\\run-20241022_093120-o6f3hds1\\logs</code>"
      ],
      "text/plain": [
       "<IPython.core.display.HTML object>"
      ]
     },
     "metadata": {},
     "output_type": "display_data"
    },
    {
     "name": "stderr",
     "output_type": "stream",
     "text": [
      "wandb: Agent Starting Run: j7w8fqc9 with config:\n",
      "wandb: \tlearning_rate: 0.003774356543962659\n",
      "wandb: \tnum_blocks: 1\n",
      "wandb: \toptimizer: adam\n",
      "wandb: \tunits_1: 336\n",
      "wandb: \tunits_2: 88\n",
      "wandb: WARNING Ignored wandb.init() arg project when running a sweep.\n"
     ]
    },
    {
     "data": {
      "text/html": [
       "Tracking run with wandb version 0.18.5"
      ],
      "text/plain": [
       "<IPython.core.display.HTML object>"
      ]
     },
     "metadata": {},
     "output_type": "display_data"
    },
    {
     "data": {
      "text/html": [
       "Run data is saved locally in <code>c:\\Users\\prapt\\Desktop\\Deep Learning\\DL_Basics\\TensorFlow in Action\\wandb\\run-20241022_093147-j7w8fqc9</code>"
      ],
      "text/plain": [
       "<IPython.core.display.HTML object>"
      ]
     },
     "metadata": {},
     "output_type": "display_data"
    },
    {
     "data": {
      "text/html": [
       "Syncing run <strong><a href='https://wandb.ai/praptipatil01/Iris-Species-Classification/runs/j7w8fqc9' target=\"_blank\">lyric-sweep-3</a></strong> to <a href='https://wandb.ai/praptipatil01/Iris-Species-Classification' target=\"_blank\">Weights & Biases</a> (<a href='https://wandb.me/run' target=\"_blank\">docs</a>)<br/>Sweep page: <a href='https://wandb.ai/praptipatil01/Iris-Species-Classification/sweeps/9re2wssu' target=\"_blank\">https://wandb.ai/praptipatil01/Iris-Species-Classification/sweeps/9re2wssu</a>"
      ],
      "text/plain": [
       "<IPython.core.display.HTML object>"
      ]
     },
     "metadata": {},
     "output_type": "display_data"
    },
    {
     "data": {
      "text/html": [
       " View project at <a href='https://wandb.ai/praptipatil01/Iris-Species-Classification' target=\"_blank\">https://wandb.ai/praptipatil01/Iris-Species-Classification</a>"
      ],
      "text/plain": [
       "<IPython.core.display.HTML object>"
      ]
     },
     "metadata": {},
     "output_type": "display_data"
    },
    {
     "data": {
      "text/html": [
       " View sweep at <a href='https://wandb.ai/praptipatil01/Iris-Species-Classification/sweeps/9re2wssu' target=\"_blank\">https://wandb.ai/praptipatil01/Iris-Species-Classification/sweeps/9re2wssu</a>"
      ],
      "text/plain": [
       "<IPython.core.display.HTML object>"
      ]
     },
     "metadata": {},
     "output_type": "display_data"
    },
    {
     "data": {
      "text/html": [
       " View run at <a href='https://wandb.ai/praptipatil01/Iris-Species-Classification/runs/j7w8fqc9' target=\"_blank\">https://wandb.ai/praptipatil01/Iris-Species-Classification/runs/j7w8fqc9</a>"
      ],
      "text/plain": [
       "<IPython.core.display.HTML object>"
      ]
     },
     "metadata": {},
     "output_type": "display_data"
    },
    {
     "name": "stderr",
     "output_type": "stream",
     "text": [
      "[D 241022 09:31:49 1443250203:23] Number of records: Train -  84, Val - 21\n"
     ]
    },
    {
     "data": {
      "text/html": [
       "<pre style=\"white-space:pre;overflow-x:auto;line-height:normal;font-family:Menlo,'DejaVu Sans Mono',consolas,'Courier New',monospace\"><span style=\"font-weight: bold\">Model: \"iris_subclassed\"</span>\n",
       "</pre>\n"
      ],
      "text/plain": [
       "\u001b[1mModel: \"iris_subclassed\"\u001b[0m\n"
      ]
     },
     "metadata": {},
     "output_type": "display_data"
    },
    {
     "data": {
      "text/html": [
       "<pre style=\"white-space:pre;overflow-x:auto;line-height:normal;font-family:Menlo,'DejaVu Sans Mono',consolas,'Courier New',monospace\">┏━━━━━━━━━━━━━━━━━━━━━━━━━━━━━━━━━┳━━━━━━━━━━━━━━━━━━━━━━━━┳━━━━━━━━━━━━━━━┓\n",
       "┃<span style=\"font-weight: bold\"> Layer (type)                    </span>┃<span style=\"font-weight: bold\"> Output Shape           </span>┃<span style=\"font-weight: bold\">       Param # </span>┃\n",
       "┡━━━━━━━━━━━━━━━━━━━━━━━━━━━━━━━━━╇━━━━━━━━━━━━━━━━━━━━━━━━╇━━━━━━━━━━━━━━━┩\n",
       "│ input_layer (<span style=\"color: #0087ff; text-decoration-color: #0087ff\">InputLayer</span>)        │ (<span style=\"color: #00d7ff; text-decoration-color: #00d7ff\">None</span>, <span style=\"color: #00af00; text-decoration-color: #00af00\">4</span>)              │             <span style=\"color: #00af00; text-decoration-color: #00af00\">0</span> │\n",
       "├─────────────────────────────────┼────────────────────────┼───────────────┤\n",
       "│ mul_bias_dense (<span style=\"color: #0087ff; text-decoration-color: #0087ff\">MulBiasDense</span>)   │ (<span style=\"color: #00d7ff; text-decoration-color: #00d7ff\">None</span>, <span style=\"color: #00af00; text-decoration-color: #00af00\">336</span>)            │         <span style=\"color: #00af00; text-decoration-color: #00af00\">2,016</span> │\n",
       "├─────────────────────────────────┼────────────────────────┼───────────────┤\n",
       "│ mul_bias_dense_1 (<span style=\"color: #0087ff; text-decoration-color: #0087ff\">MulBiasDense</span>) │ (<span style=\"color: #00d7ff; text-decoration-color: #00d7ff\">None</span>, <span style=\"color: #00af00; text-decoration-color: #00af00\">88</span>)             │        <span style=\"color: #00af00; text-decoration-color: #00af00\">29,744</span> │\n",
       "├─────────────────────────────────┼────────────────────────┼───────────────┤\n",
       "│ dense (<span style=\"color: #0087ff; text-decoration-color: #0087ff\">Dense</span>)                   │ (<span style=\"color: #00d7ff; text-decoration-color: #00d7ff\">None</span>, <span style=\"color: #00af00; text-decoration-color: #00af00\">2</span>)              │           <span style=\"color: #00af00; text-decoration-color: #00af00\">178</span> │\n",
       "└─────────────────────────────────┴────────────────────────┴───────────────┘\n",
       "</pre>\n"
      ],
      "text/plain": [
       "┏━━━━━━━━━━━━━━━━━━━━━━━━━━━━━━━━━┳━━━━━━━━━━━━━━━━━━━━━━━━┳━━━━━━━━━━━━━━━┓\n",
       "┃\u001b[1m \u001b[0m\u001b[1mLayer (type)                   \u001b[0m\u001b[1m \u001b[0m┃\u001b[1m \u001b[0m\u001b[1mOutput Shape          \u001b[0m\u001b[1m \u001b[0m┃\u001b[1m \u001b[0m\u001b[1m      Param #\u001b[0m\u001b[1m \u001b[0m┃\n",
       "┡━━━━━━━━━━━━━━━━━━━━━━━━━━━━━━━━━╇━━━━━━━━━━━━━━━━━━━━━━━━╇━━━━━━━━━━━━━━━┩\n",
       "│ input_layer (\u001b[38;5;33mInputLayer\u001b[0m)        │ (\u001b[38;5;45mNone\u001b[0m, \u001b[38;5;34m4\u001b[0m)              │             \u001b[38;5;34m0\u001b[0m │\n",
       "├─────────────────────────────────┼────────────────────────┼───────────────┤\n",
       "│ mul_bias_dense (\u001b[38;5;33mMulBiasDense\u001b[0m)   │ (\u001b[38;5;45mNone\u001b[0m, \u001b[38;5;34m336\u001b[0m)            │         \u001b[38;5;34m2,016\u001b[0m │\n",
       "├─────────────────────────────────┼────────────────────────┼───────────────┤\n",
       "│ mul_bias_dense_1 (\u001b[38;5;33mMulBiasDense\u001b[0m) │ (\u001b[38;5;45mNone\u001b[0m, \u001b[38;5;34m88\u001b[0m)             │        \u001b[38;5;34m29,744\u001b[0m │\n",
       "├─────────────────────────────────┼────────────────────────┼───────────────┤\n",
       "│ dense (\u001b[38;5;33mDense\u001b[0m)                   │ (\u001b[38;5;45mNone\u001b[0m, \u001b[38;5;34m2\u001b[0m)              │           \u001b[38;5;34m178\u001b[0m │\n",
       "└─────────────────────────────────┴────────────────────────┴───────────────┘\n"
      ]
     },
     "metadata": {},
     "output_type": "display_data"
    },
    {
     "data": {
      "text/html": [
       "<pre style=\"white-space:pre;overflow-x:auto;line-height:normal;font-family:Menlo,'DejaVu Sans Mono',consolas,'Courier New',monospace\"><span style=\"font-weight: bold\"> Total params: </span><span style=\"color: #00af00; text-decoration-color: #00af00\">31,938</span> (124.76 KB)\n",
       "</pre>\n"
      ],
      "text/plain": [
       "\u001b[1m Total params: \u001b[0m\u001b[38;5;34m31,938\u001b[0m (124.76 KB)\n"
      ]
     },
     "metadata": {},
     "output_type": "display_data"
    },
    {
     "data": {
      "text/html": [
       "<pre style=\"white-space:pre;overflow-x:auto;line-height:normal;font-family:Menlo,'DejaVu Sans Mono',consolas,'Courier New',monospace\"><span style=\"font-weight: bold\"> Trainable params: </span><span style=\"color: #00af00; text-decoration-color: #00af00\">31,938</span> (124.76 KB)\n",
       "</pre>\n"
      ],
      "text/plain": [
       "\u001b[1m Trainable params: \u001b[0m\u001b[38;5;34m31,938\u001b[0m (124.76 KB)\n"
      ]
     },
     "metadata": {},
     "output_type": "display_data"
    },
    {
     "data": {
      "text/html": [
       "<pre style=\"white-space:pre;overflow-x:auto;line-height:normal;font-family:Menlo,'DejaVu Sans Mono',consolas,'Courier New',monospace\"><span style=\"font-weight: bold\"> Non-trainable params: </span><span style=\"color: #00af00; text-decoration-color: #00af00\">0</span> (0.00 B)\n",
       "</pre>\n"
      ],
      "text/plain": [
       "\u001b[1m Non-trainable params: \u001b[0m\u001b[38;5;34m0\u001b[0m (0.00 B)\n"
      ]
     },
     "metadata": {},
     "output_type": "display_data"
    },
    {
     "name": "stderr",
     "output_type": "stream",
     "text": [
      "[D 241022 09:31:49 1443250203:29] Model_name: iris_subclassed\n"
     ]
    },
    {
     "name": "stdout",
     "output_type": "stream",
     "text": [
      "Epoch 1/20\n",
      "1/1 ━━━━━━━━━━━━━━━━━━━━ 0s 2s/step - acc: 0.3810 - loss: 0.4532INFO:tensorflow:Assets written to: models/iris/iris-functional_api\\assets\n"
     ]
    },
    {
     "name": "stderr",
     "output_type": "stream",
     "text": [
      "INFO:tensorflow:Assets written to: models/iris/iris-functional_api\\assets\n"
     ]
    },
    {
     "name": "stdout",
     "output_type": "stream",
     "text": [
      "1/1 ━━━━━━━━━━━━━━━━━━━━ 3s 3s/step - acc: 0.3810 - loss: 0.4532 - val_acc: 0.1905 - val_loss: 0.4310\n",
      "Epoch 2/20\n",
      "1/1 ━━━━━━━━━━━━━━━━━━━━ 0s 50ms/step - acc: 0.3810 - loss: 0.45 ━━━━━━━━━━━━━━━━━━━━ 0s 114ms/step - acc: 0.3810 - loss: 0.4527 - val_acc: 0.1905 - val_loss: 0.4315\n",
      "Epoch 3/20\n",
      "1/1 ━━━━━━━━━━━━━━━━━━━━ 0s 30ms/step - acc: 0.3810 - loss: 0.45 ━━━━━━━━━━━━━━━━━━━━ 0s 77ms/step - acc: 0.3810 - loss: 0.4523 - val_acc: 0.1905 - val_loss: 0.4320\n",
      "Epoch 4/20\n",
      "1/1 ━━━━━━━━━━━━━━━━━━━━ 0s 44ms/step - acc: 0.3810 - loss: 0.45 ━━━━━━━━━━━━━━━━━━━━ 0s 88ms/step - acc: 0.3810 - loss: 0.4520 - val_acc: 0.1905 - val_loss: 0.4325\n",
      "Epoch 5/20\n",
      "1/1 ━━━━━━━━━━━━━━━━━━━━ 0s 44ms/step - acc: 0.3810 - loss: 0.45 ━━━━━━━━━━━━━━━━━━━━ 0s 108ms/step - acc: 0.3810 - loss: 0.4516 - val_acc: 0.1905 - val_loss: 0.4330\n",
      "Epoch 6/20\n",
      "1/1 ━━━━━━━━━━━━━━━━━━━━ 0s 37ms/step - acc: 0.3810 - loss: 0.45 ━━━━━━━━━━━━━━━━━━━━ 0s 74ms/step - acc: 0.3810 - loss: 0.4512 - val_acc: 0.1905 - val_loss: 0.4336\n",
      "Epoch 7/20\n",
      "1/1 ━━━━━━━━━━━━━━━━━━━━ 0s 47ms/step - acc: 0.3810 - loss: 0.45 ━━━━━━━━━━━━━━━━━━━━ 0s 93ms/step - acc: 0.3810 - loss: 0.4508 - val_acc: 0.1905 - val_loss: 0.4341\n",
      "Epoch 8/20\n",
      "1/1 ━━━━━━━━━━━━━━━━━━━━ 0s 47ms/step - acc: 0.3810 - loss: 0.45 ━━━━━━━━━━━━━━━━━━━━ 0s 142ms/step - acc: 0.3810 - loss: 0.4504 - val_acc: 0.1905 - val_loss: 0.4347\n",
      "Epoch 9/20\n",
      "1/1 ━━━━━━━━━━━━━━━━━━━━ 0s 87ms/step - acc: 0.3810 - loss: 0.45 ━━━━━━━━━━━━━━━━━━━━ 0s 167ms/step - acc: 0.3810 - loss: 0.4500 - val_acc: 0.1905 - val_loss: 0.4353\n",
      "Epoch 10/20\n",
      "1/1 ━━━━━━━━━━━━━━━━━━━━ 0s 53ms/step - acc: 0.3810 - loss: 0.44 ━━━━━━━━━━━━━━━━━━━━ 0s 102ms/step - acc: 0.3810 - loss: 0.4496 - val_acc: 0.1905 - val_loss: 0.4359\n",
      "Epoch 11/20\n",
      "1/1 ━━━━━━━━━━━━━━━━━━━━ 0s 47ms/step - acc: 0.3810 - loss: 0.44 ━━━━━━━━━━━━━━━━━━━━ 0s 96ms/step - acc: 0.3810 - loss: 0.4492 - val_acc: 0.1905 - val_loss: 0.4366\n",
      "Epoch 12/20\n",
      "1/1 ━━━━━━━━━━━━━━━━━━━━ 0s 83ms/step - acc: 0.3810 - loss: 0.44 ━━━━━━━━━━━━━━━━━━━━ 0s 164ms/step - acc: 0.3810 - loss: 0.4488 - val_acc: 0.1905 - val_loss: 0.4373\n",
      "Epoch 13/20\n",
      "1/1 ━━━━━━━━━━━━━━━━━━━━ 0s 46ms/step - acc: 0.3810 - loss: 0.44 ━━━━━━━━━━━━━━━━━━━━ 0s 101ms/step - acc: 0.3810 - loss: 0.4485 - val_acc: 0.1905 - val_loss: 0.4380\n",
      "Epoch 14/20\n",
      "1/1 ━━━━━━━━━━━━━━━━━━━━ 0s 78ms/step - acc: 0.3810 - loss: 0.44 ━━━━━━━━━━━━━━━━━━━━ 0s 193ms/step - acc: 0.3810 - loss: 0.4482 - val_acc: 0.1905 - val_loss: 0.4387\n",
      "Epoch 15/20\n",
      "1/1 ━━━━━━━━━━━━━━━━━━━━ 0s 92ms/step - acc: 0.3810 - loss: 0.44 ━━━━━━━━━━━━━━━━━━━━ 0s 193ms/step - acc: 0.3810 - loss: 0.4478 - val_acc: 0.1905 - val_loss: 0.4393\n",
      "Epoch 16/20\n",
      "1/1 ━━━━━━━━━━━━━━━━━━━━ 0s 67ms/step - acc: 0.3810 - loss: 0.44 ━━━━━━━━━━━━━━━━━━━━ 0s 147ms/step - acc: 0.3810 - loss: 0.4474 - val_acc: 0.1905 - val_loss: 0.4400\n",
      "Epoch 17/20\n",
      "1/1 ━━━━━━━━━━━━━━━━━━━━ 0s 69ms/step - acc: 0.3810 - loss: 0.44 ━━━━━━━━━━━━━━━━━━━━ 0s 140ms/step - acc: 0.3810 - loss: 0.4470 - val_acc: 0.1905 - val_loss: 0.4407\n",
      "Epoch 18/20\n",
      "1/1 ━━━━━━━━━━━━━━━━━━━━ 0s 57ms/step - acc: 0.3810 - loss: 0.44 ━━━━━━━━━━━━━━━━━━━━ 0s 110ms/step - acc: 0.3810 - loss: 0.4465 - val_acc: 0.1905 - val_loss: 0.4414\n",
      "Epoch 19/20\n",
      "1/1 ━━━━━━━━━━━━━━━━━━━━ 0s 50ms/step - acc: 0.3810 - loss: 0.44 ━━━━━━━━━━━━━━━━━━━━ 0s 108ms/step - acc: 0.3810 - loss: 0.4460 - val_acc: 0.1905 - val_loss: 0.4422\n",
      "Epoch 20/20\n",
      "1/1 ━━━━━━━━━━━━━━━━━━━━ 0s 36ms/step - acc: 0.3810 - loss: 0.44 ━━━━━━━━━━━━━━━━━━━━ 0s 94ms/step - acc: 0.3810 - loss: 0.4455 - val_acc: 0.1905 - val_loss: 0.4431\n"
     ]
    },
    {
     "name": "stderr",
     "output_type": "stream",
     "text": [
      "wandb: Adding directory to artifact (.\\models\\iris\\iris-functional_api)... Done. 0.1s\n"
     ]
    },
    {
     "data": {
      "text/html": [
       "<style>\n",
       "    table.wandb td:nth-child(1) { padding: 0 10px; text-align: left ; width: auto;} td:nth-child(2) {text-align: left ; width: 100%}\n",
       "    .wandb-row { display: flex; flex-direction: row; flex-wrap: wrap; justify-content: flex-start; width: 100% }\n",
       "    .wandb-col { display: flex; flex-direction: column; flex-basis: 100%; flex: 1; padding: 10px; }\n",
       "    </style>\n",
       "<div class=\"wandb-row\"><div class=\"wandb-col\"><h3>Run history:</h3><br/><table class=\"wandb\"><tr><td>acc</td><td>▁▁▁▁▁▁▁▁▁▁▁▁▁▁▁▁▁▁▁▁</td></tr><tr><td>loss</td><td>██▇▇▇▆▆▅▅▅▄▄▄▃▃▃▂▂▁▁</td></tr><tr><td>val_acc</td><td>▁▁▁▁▁▁▁▁▁▁▁▁▁▁▁▁▁▁▁▁</td></tr><tr><td>val_loss</td><td>▁▁▂▂▂▂▃▃▃▄▄▅▅▅▆▆▇▇▇█</td></tr></table><br/></div><div class=\"wandb-col\"><h3>Run summary:</h3><br/><table class=\"wandb\"><tr><td>acc</td><td>0.38095</td></tr><tr><td>loss</td><td>0.44547</td></tr><tr><td>val_acc</td><td>0.19048</td></tr><tr><td>val_loss</td><td>0.44307</td></tr></table><br/></div></div>"
      ],
      "text/plain": [
       "<IPython.core.display.HTML object>"
      ]
     },
     "metadata": {},
     "output_type": "display_data"
    },
    {
     "data": {
      "text/html": [
       " View run <strong style=\"color:#cdcd00\">lyric-sweep-3</strong> at: <a href='https://wandb.ai/praptipatil01/Iris-Species-Classification/runs/j7w8fqc9' target=\"_blank\">https://wandb.ai/praptipatil01/Iris-Species-Classification/runs/j7w8fqc9</a><br/> View project at: <a href='https://wandb.ai/praptipatil01/Iris-Species-Classification' target=\"_blank\">https://wandb.ai/praptipatil01/Iris-Species-Classification</a><br/>Synced 5 W&B file(s), 0 media file(s), 5 artifact file(s) and 0 other file(s)"
      ],
      "text/plain": [
       "<IPython.core.display.HTML object>"
      ]
     },
     "metadata": {},
     "output_type": "display_data"
    },
    {
     "data": {
      "text/html": [
       "Find logs at: <code>.\\wandb\\run-20241022_093147-j7w8fqc9\\logs</code>"
      ],
      "text/plain": [
       "<IPython.core.display.HTML object>"
      ]
     },
     "metadata": {},
     "output_type": "display_data"
    },
    {
     "name": "stderr",
     "output_type": "stream",
     "text": [
      "wandb: Agent Starting Run: 4at1s5mx with config:\n",
      "wandb: \tlearning_rate: 0.06926653445356727\n",
      "wandb: \tnum_blocks: 2\n",
      "wandb: \toptimizer: sgd\n",
      "wandb: \tunits_1: 432\n",
      "wandb: \tunits_2: 56\n",
      "wandb: WARNING Ignored wandb.init() arg project when running a sweep.\n"
     ]
    },
    {
     "data": {
      "text/html": [
       "Tracking run with wandb version 0.18.5"
      ],
      "text/plain": [
       "<IPython.core.display.HTML object>"
      ]
     },
     "metadata": {},
     "output_type": "display_data"
    },
    {
     "data": {
      "text/html": [
       "Run data is saved locally in <code>c:\\Users\\prapt\\Desktop\\Deep Learning\\DL_Basics\\TensorFlow in Action\\wandb\\run-20241022_093209-4at1s5mx</code>"
      ],
      "text/plain": [
       "<IPython.core.display.HTML object>"
      ]
     },
     "metadata": {},
     "output_type": "display_data"
    },
    {
     "data": {
      "text/html": [
       "Syncing run <strong><a href='https://wandb.ai/praptipatil01/Iris-Species-Classification/runs/4at1s5mx' target=\"_blank\">frosty-sweep-4</a></strong> to <a href='https://wandb.ai/praptipatil01/Iris-Species-Classification' target=\"_blank\">Weights & Biases</a> (<a href='https://wandb.me/run' target=\"_blank\">docs</a>)<br/>Sweep page: <a href='https://wandb.ai/praptipatil01/Iris-Species-Classification/sweeps/9re2wssu' target=\"_blank\">https://wandb.ai/praptipatil01/Iris-Species-Classification/sweeps/9re2wssu</a>"
      ],
      "text/plain": [
       "<IPython.core.display.HTML object>"
      ]
     },
     "metadata": {},
     "output_type": "display_data"
    },
    {
     "data": {
      "text/html": [
       " View project at <a href='https://wandb.ai/praptipatil01/Iris-Species-Classification' target=\"_blank\">https://wandb.ai/praptipatil01/Iris-Species-Classification</a>"
      ],
      "text/plain": [
       "<IPython.core.display.HTML object>"
      ]
     },
     "metadata": {},
     "output_type": "display_data"
    },
    {
     "data": {
      "text/html": [
       " View sweep at <a href='https://wandb.ai/praptipatil01/Iris-Species-Classification/sweeps/9re2wssu' target=\"_blank\">https://wandb.ai/praptipatil01/Iris-Species-Classification/sweeps/9re2wssu</a>"
      ],
      "text/plain": [
       "<IPython.core.display.HTML object>"
      ]
     },
     "metadata": {},
     "output_type": "display_data"
    },
    {
     "data": {
      "text/html": [
       " View run at <a href='https://wandb.ai/praptipatil01/Iris-Species-Classification/runs/4at1s5mx' target=\"_blank\">https://wandb.ai/praptipatil01/Iris-Species-Classification/runs/4at1s5mx</a>"
      ],
      "text/plain": [
       "<IPython.core.display.HTML object>"
      ]
     },
     "metadata": {},
     "output_type": "display_data"
    },
    {
     "name": "stderr",
     "output_type": "stream",
     "text": [
      "[D 241022 09:32:10 1443250203:23] Number of records: Train -  84, Val - 21\n"
     ]
    },
    {
     "data": {
      "text/html": [
       "<pre style=\"white-space:pre;overflow-x:auto;line-height:normal;font-family:Menlo,'DejaVu Sans Mono',consolas,'Courier New',monospace\"><span style=\"font-weight: bold\">Model: \"iris_subclassed\"</span>\n",
       "</pre>\n"
      ],
      "text/plain": [
       "\u001b[1mModel: \"iris_subclassed\"\u001b[0m\n"
      ]
     },
     "metadata": {},
     "output_type": "display_data"
    },
    {
     "data": {
      "text/html": [
       "<pre style=\"white-space:pre;overflow-x:auto;line-height:normal;font-family:Menlo,'DejaVu Sans Mono',consolas,'Courier New',monospace\">┏━━━━━━━━━━━━━━━━━━━━━━━━━━━━━━━━━┳━━━━━━━━━━━━━━━━━━━━━━━━┳━━━━━━━━━━━━━━━┓\n",
       "┃<span style=\"font-weight: bold\"> Layer (type)                    </span>┃<span style=\"font-weight: bold\"> Output Shape           </span>┃<span style=\"font-weight: bold\">       Param # </span>┃\n",
       "┡━━━━━━━━━━━━━━━━━━━━━━━━━━━━━━━━━╇━━━━━━━━━━━━━━━━━━━━━━━━╇━━━━━━━━━━━━━━━┩\n",
       "│ input_layer (<span style=\"color: #0087ff; text-decoration-color: #0087ff\">InputLayer</span>)        │ (<span style=\"color: #00d7ff; text-decoration-color: #00d7ff\">None</span>, <span style=\"color: #00af00; text-decoration-color: #00af00\">4</span>)              │             <span style=\"color: #00af00; text-decoration-color: #00af00\">0</span> │\n",
       "├─────────────────────────────────┼────────────────────────┼───────────────┤\n",
       "│ mul_bias_dense (<span style=\"color: #0087ff; text-decoration-color: #0087ff\">MulBiasDense</span>)   │ (<span style=\"color: #00d7ff; text-decoration-color: #00d7ff\">None</span>, <span style=\"color: #00af00; text-decoration-color: #00af00\">432</span>)            │         <span style=\"color: #00af00; text-decoration-color: #00af00\">2,592</span> │\n",
       "├─────────────────────────────────┼────────────────────────┼───────────────┤\n",
       "│ mul_bias_dense_1 (<span style=\"color: #0087ff; text-decoration-color: #0087ff\">MulBiasDense</span>) │ (<span style=\"color: #00d7ff; text-decoration-color: #00d7ff\">None</span>, <span style=\"color: #00af00; text-decoration-color: #00af00\">56</span>)             │        <span style=\"color: #00af00; text-decoration-color: #00af00\">24,304</span> │\n",
       "├─────────────────────────────────┼────────────────────────┼───────────────┤\n",
       "│ mul_bias_dense_2 (<span style=\"color: #0087ff; text-decoration-color: #0087ff\">MulBiasDense</span>) │ (<span style=\"color: #00d7ff; text-decoration-color: #00d7ff\">None</span>, <span style=\"color: #00af00; text-decoration-color: #00af00\">432</span>)            │        <span style=\"color: #00af00; text-decoration-color: #00af00\">25,056</span> │\n",
       "├─────────────────────────────────┼────────────────────────┼───────────────┤\n",
       "│ mul_bias_dense_3 (<span style=\"color: #0087ff; text-decoration-color: #0087ff\">MulBiasDense</span>) │ (<span style=\"color: #00d7ff; text-decoration-color: #00d7ff\">None</span>, <span style=\"color: #00af00; text-decoration-color: #00af00\">56</span>)             │        <span style=\"color: #00af00; text-decoration-color: #00af00\">24,304</span> │\n",
       "├─────────────────────────────────┼────────────────────────┼───────────────┤\n",
       "│ dense (<span style=\"color: #0087ff; text-decoration-color: #0087ff\">Dense</span>)                   │ (<span style=\"color: #00d7ff; text-decoration-color: #00d7ff\">None</span>, <span style=\"color: #00af00; text-decoration-color: #00af00\">2</span>)              │           <span style=\"color: #00af00; text-decoration-color: #00af00\">114</span> │\n",
       "└─────────────────────────────────┴────────────────────────┴───────────────┘\n",
       "</pre>\n"
      ],
      "text/plain": [
       "┏━━━━━━━━━━━━━━━━━━━━━━━━━━━━━━━━━┳━━━━━━━━━━━━━━━━━━━━━━━━┳━━━━━━━━━━━━━━━┓\n",
       "┃\u001b[1m \u001b[0m\u001b[1mLayer (type)                   \u001b[0m\u001b[1m \u001b[0m┃\u001b[1m \u001b[0m\u001b[1mOutput Shape          \u001b[0m\u001b[1m \u001b[0m┃\u001b[1m \u001b[0m\u001b[1m      Param #\u001b[0m\u001b[1m \u001b[0m┃\n",
       "┡━━━━━━━━━━━━━━━━━━━━━━━━━━━━━━━━━╇━━━━━━━━━━━━━━━━━━━━━━━━╇━━━━━━━━━━━━━━━┩\n",
       "│ input_layer (\u001b[38;5;33mInputLayer\u001b[0m)        │ (\u001b[38;5;45mNone\u001b[0m, \u001b[38;5;34m4\u001b[0m)              │             \u001b[38;5;34m0\u001b[0m │\n",
       "├─────────────────────────────────┼────────────────────────┼───────────────┤\n",
       "│ mul_bias_dense (\u001b[38;5;33mMulBiasDense\u001b[0m)   │ (\u001b[38;5;45mNone\u001b[0m, \u001b[38;5;34m432\u001b[0m)            │         \u001b[38;5;34m2,592\u001b[0m │\n",
       "├─────────────────────────────────┼────────────────────────┼───────────────┤\n",
       "│ mul_bias_dense_1 (\u001b[38;5;33mMulBiasDense\u001b[0m) │ (\u001b[38;5;45mNone\u001b[0m, \u001b[38;5;34m56\u001b[0m)             │        \u001b[38;5;34m24,304\u001b[0m │\n",
       "├─────────────────────────────────┼────────────────────────┼───────────────┤\n",
       "│ mul_bias_dense_2 (\u001b[38;5;33mMulBiasDense\u001b[0m) │ (\u001b[38;5;45mNone\u001b[0m, \u001b[38;5;34m432\u001b[0m)            │        \u001b[38;5;34m25,056\u001b[0m │\n",
       "├─────────────────────────────────┼────────────────────────┼───────────────┤\n",
       "│ mul_bias_dense_3 (\u001b[38;5;33mMulBiasDense\u001b[0m) │ (\u001b[38;5;45mNone\u001b[0m, \u001b[38;5;34m56\u001b[0m)             │        \u001b[38;5;34m24,304\u001b[0m │\n",
       "├─────────────────────────────────┼────────────────────────┼───────────────┤\n",
       "│ dense (\u001b[38;5;33mDense\u001b[0m)                   │ (\u001b[38;5;45mNone\u001b[0m, \u001b[38;5;34m2\u001b[0m)              │           \u001b[38;5;34m114\u001b[0m │\n",
       "└─────────────────────────────────┴────────────────────────┴───────────────┘\n"
      ]
     },
     "metadata": {},
     "output_type": "display_data"
    },
    {
     "data": {
      "text/html": [
       "<pre style=\"white-space:pre;overflow-x:auto;line-height:normal;font-family:Menlo,'DejaVu Sans Mono',consolas,'Courier New',monospace\"><span style=\"font-weight: bold\"> Total params: </span><span style=\"color: #00af00; text-decoration-color: #00af00\">76,370</span> (298.32 KB)\n",
       "</pre>\n"
      ],
      "text/plain": [
       "\u001b[1m Total params: \u001b[0m\u001b[38;5;34m76,370\u001b[0m (298.32 KB)\n"
      ]
     },
     "metadata": {},
     "output_type": "display_data"
    },
    {
     "data": {
      "text/html": [
       "<pre style=\"white-space:pre;overflow-x:auto;line-height:normal;font-family:Menlo,'DejaVu Sans Mono',consolas,'Courier New',monospace\"><span style=\"font-weight: bold\"> Trainable params: </span><span style=\"color: #00af00; text-decoration-color: #00af00\">76,370</span> (298.32 KB)\n",
       "</pre>\n"
      ],
      "text/plain": [
       "\u001b[1m Trainable params: \u001b[0m\u001b[38;5;34m76,370\u001b[0m (298.32 KB)\n"
      ]
     },
     "metadata": {},
     "output_type": "display_data"
    },
    {
     "data": {
      "text/html": [
       "<pre style=\"white-space:pre;overflow-x:auto;line-height:normal;font-family:Menlo,'DejaVu Sans Mono',consolas,'Courier New',monospace\"><span style=\"font-weight: bold\"> Non-trainable params: </span><span style=\"color: #00af00; text-decoration-color: #00af00\">0</span> (0.00 B)\n",
       "</pre>\n"
      ],
      "text/plain": [
       "\u001b[1m Non-trainable params: \u001b[0m\u001b[38;5;34m0\u001b[0m (0.00 B)\n"
      ]
     },
     "metadata": {},
     "output_type": "display_data"
    },
    {
     "name": "stderr",
     "output_type": "stream",
     "text": [
      "[D 241022 09:32:10 1443250203:29] Model_name: iris_subclassed\n"
     ]
    },
    {
     "name": "stdout",
     "output_type": "stream",
     "text": [
      "Epoch 1/20\n",
      "1/1 ━━━━━━━━━━━━━━━━━━━━ 0s 931ms/step - acc: 0.6190 - loss: 0.4543INFO:tensorflow:Assets written to: models/iris/iris-functional_api\\assets\n"
     ]
    },
    {
     "name": "stderr",
     "output_type": "stream",
     "text": [
      "INFO:tensorflow:Assets written to: models/iris/iris-functional_api\\assets\n"
     ]
    },
    {
     "name": "stdout",
     "output_type": "stream",
     "text": [
      "1/1 ━━━━━━━━━━━━━━━━━━━━ 2s 2s/step - acc: 0.6190 - loss: 0.4543 - val_acc: 0.8095 - val_loss: 0.4282\n",
      "Epoch 2/20\n",
      "1/1 ━━━━━━━━━━━━━━━━━━━━ 0s 62ms/step - acc: 0.6190 - loss: 0.45 ━━━━━━━━━━━━━━━━━━━━ 0s 123ms/step - acc: 0.6190 - loss: 0.4542 - val_acc: 0.8095 - val_loss: 0.4283\n",
      "Epoch 3/20\n",
      "1/1 ━━━━━━━━━━━━━━━━━━━━ 0s 48ms/step - acc: 0.6190 - loss: 0.45 ━━━━━━━━━━━━━━━━━━━━ 0s 106ms/step - acc: 0.6190 - loss: 0.4542 - val_acc: 0.8095 - val_loss: 0.4285\n",
      "Epoch 4/20\n",
      "1/1 ━━━━━━━━━━━━━━━━━━━━ 0s 84ms/step - acc: 0.6190 - loss: 0.45 ━━━━━━━━━━━━━━━━━━━━ 0s 193ms/step - acc: 0.6190 - loss: 0.4541 - val_acc: 0.8095 - val_loss: 0.4286\n",
      "Epoch 5/20\n",
      "1/1 ━━━━━━━━━━━━━━━━━━━━ 0s 61ms/step - acc: 0.6190 - loss: 0.45 ━━━━━━━━━━━━━━━━━━━━ 0s 137ms/step - acc: 0.6190 - loss: 0.4541 - val_acc: 0.8095 - val_loss: 0.4287\n",
      "Epoch 6/20\n",
      "1/1 ━━━━━━━━━━━━━━━━━━━━ 0s 69ms/step - acc: 0.6190 - loss: 0.45 ━━━━━━━━━━━━━━━━━━━━ 0s 110ms/step - acc: 0.6190 - loss: 0.4540 - val_acc: 0.8095 - val_loss: 0.4289\n",
      "Epoch 7/20\n",
      "1/1 ━━━━━━━━━━━━━━━━━━━━ 0s 45ms/step - acc: 0.6190 - loss: 0.45 ━━━━━━━━━━━━━━━━━━━━ 0s 105ms/step - acc: 0.6190 - loss: 0.4539 - val_acc: 0.8095 - val_loss: 0.4290\n",
      "Epoch 8/20\n",
      "1/1 ━━━━━━━━━━━━━━━━━━━━ 0s 52ms/step - acc: 0.6190 - loss: 0.45 ━━━━━━━━━━━━━━━━━━━━ 0s 145ms/step - acc: 0.6190 - loss: 0.4539 - val_acc: 0.1905 - val_loss: 0.4291\n",
      "Epoch 9/20\n",
      "1/1 ━━━━━━━━━━━━━━━━━━━━ 0s 116ms/step - acc: 0.3810 - loss: 0.453 ━━━━━━━━━━━━━━━━━━━━ 0s 216ms/step - acc: 0.3810 - loss: 0.4538 - val_acc: 0.1905 - val_loss: 0.4293\n",
      "Epoch 10/20\n",
      "1/1 ━━━━━━━━━━━━━━━━━━━━ 0s 72ms/step - acc: 0.3810 - loss: 0.45 ━━━━━━━━━━━━━━━━━━━━ 0s 144ms/step - acc: 0.3810 - loss: 0.4538 - val_acc: 0.1905 - val_loss: 0.4294\n",
      "Epoch 11/20\n",
      "1/1 ━━━━━━━━━━━━━━━━━━━━ 0s 100ms/step - acc: 0.3810 - loss: 0.453 ━━━━━━━━━━━━━━━━━━━━ 0s 179ms/step - acc: 0.3810 - loss: 0.4537 - val_acc: 0.1905 - val_loss: 0.4295\n",
      "Epoch 12/20\n",
      "1/1 ━━━━━━━━━━━━━━━━━━━━ 0s 49ms/step - acc: 0.3810 - loss: 0.45 ━━━━━━━━━━━━━━━━━━━━ 0s 155ms/step - acc: 0.3810 - loss: 0.4536 - val_acc: 0.1905 - val_loss: 0.4297\n",
      "Epoch 13/20\n",
      "1/1 ━━━━━━━━━━━━━━━━━━━━ 0s 214ms/step - acc: 0.3810 - loss: 0.453 ━━━━━━━━━━━━━━━━━━━━ 0s 287ms/step - acc: 0.3810 - loss: 0.4536 - val_acc: 0.1905 - val_loss: 0.4298\n",
      "Epoch 14/20\n",
      "1/1 ━━━━━━━━━━━━━━━━━━━━ 0s 74ms/step - acc: 0.3810 - loss: 0.45 ━━━━━━━━━━━━━━━━━━━━ 0s 151ms/step - acc: 0.3810 - loss: 0.4535 - val_acc: 0.1905 - val_loss: 0.4299\n",
      "Epoch 15/20\n",
      "1/1 ━━━━━━━━━━━━━━━━━━━━ 0s 50ms/step - acc: 0.3810 - loss: 0.45 ━━━━━━━━━━━━━━━━━━━━ 0s 104ms/step - acc: 0.3810 - loss: 0.4535 - val_acc: 0.1905 - val_loss: 0.4300\n",
      "Epoch 16/20\n",
      "1/1 ━━━━━━━━━━━━━━━━━━━━ 0s 47ms/step - acc: 0.3810 - loss: 0.45 ━━━━━━━━━━━━━━━━━━━━ 0s 119ms/step - acc: 0.3810 - loss: 0.4534 - val_acc: 0.1905 - val_loss: 0.4302\n",
      "Epoch 17/20\n",
      "1/1 ━━━━━━━━━━━━━━━━━━━━ 0s 108ms/step - acc: 0.3810 - loss: 0.453 ━━━━━━━━━━━━━━━━━━━━ 0s 166ms/step - acc: 0.3810 - loss: 0.4534 - val_acc: 0.1905 - val_loss: 0.4303\n",
      "Epoch 18/20\n",
      "1/1 ━━━━━━━━━━━━━━━━━━━━ 0s 62ms/step - acc: 0.3810 - loss: 0.45 ━━━━━━━━━━━━━━━━━━━━ 0s 133ms/step - acc: 0.3810 - loss: 0.4533 - val_acc: 0.1905 - val_loss: 0.4304\n",
      "Epoch 19/20\n",
      "1/1 ━━━━━━━━━━━━━━━━━━━━ 0s 61ms/step - acc: 0.3810 - loss: 0.45 ━━━━━━━━━━━━━━━━━━━━ 0s 119ms/step - acc: 0.3810 - loss: 0.4533 - val_acc: 0.1905 - val_loss: 0.4306\n",
      "Epoch 20/20\n",
      "1/1 ━━━━━━━━━━━━━━━━━━━━ 0s 49ms/step - acc: 0.3810 - loss: 0.45 ━━━━━━━━━━━━━━━━━━━━ 0s 116ms/step - acc: 0.3810 - loss: 0.4532 - val_acc: 0.1905 - val_loss: 0.4307\n"
     ]
    },
    {
     "name": "stderr",
     "output_type": "stream",
     "text": [
      "wandb: Adding directory to artifact (.\\models\\iris\\iris-functional_api)... Done. 0.1s\n"
     ]
    },
    {
     "data": {
      "text/html": [
       "<style>\n",
       "    table.wandb td:nth-child(1) { padding: 0 10px; text-align: left ; width: auto;} td:nth-child(2) {text-align: left ; width: 100%}\n",
       "    .wandb-row { display: flex; flex-direction: row; flex-wrap: wrap; justify-content: flex-start; width: 100% }\n",
       "    .wandb-col { display: flex; flex-direction: column; flex-basis: 100%; flex: 1; padding: 10px; }\n",
       "    </style>\n",
       "<div class=\"wandb-row\"><div class=\"wandb-col\"><h3>Run history:</h3><br/><table class=\"wandb\"><tr><td>acc</td><td>████████▁▁▁▁▁▁▁▁▁▁▁▁</td></tr><tr><td>loss</td><td>██▇▇▆▆▆▅▅▅▄▄▃▃▃▂▂▂▁▁</td></tr><tr><td>val_acc</td><td>███████▁▁▁▁▁▁▁▁▁▁▁▁▁</td></tr><tr><td>val_loss</td><td>▁▁▂▂▃▃▃▄▄▄▅▅▅▆▆▇▇▇██</td></tr></table><br/></div><div class=\"wandb-col\"><h3>Run summary:</h3><br/><table class=\"wandb\"><tr><td>acc</td><td>0.38095</td></tr><tr><td>loss</td><td>0.45321</td></tr><tr><td>val_acc</td><td>0.19048</td></tr><tr><td>val_loss</td><td>0.43068</td></tr></table><br/></div></div>"
      ],
      "text/plain": [
       "<IPython.core.display.HTML object>"
      ]
     },
     "metadata": {},
     "output_type": "display_data"
    },
    {
     "data": {
      "text/html": [
       " View run <strong style=\"color:#cdcd00\">frosty-sweep-4</strong> at: <a href='https://wandb.ai/praptipatil01/Iris-Species-Classification/runs/4at1s5mx' target=\"_blank\">https://wandb.ai/praptipatil01/Iris-Species-Classification/runs/4at1s5mx</a><br/> View project at: <a href='https://wandb.ai/praptipatil01/Iris-Species-Classification' target=\"_blank\">https://wandb.ai/praptipatil01/Iris-Species-Classification</a><br/>Synced 5 W&B file(s), 0 media file(s), 5 artifact file(s) and 0 other file(s)"
      ],
      "text/plain": [
       "<IPython.core.display.HTML object>"
      ]
     },
     "metadata": {},
     "output_type": "display_data"
    },
    {
     "data": {
      "text/html": [
       "Find logs at: <code>.\\wandb\\run-20241022_093209-4at1s5mx\\logs</code>"
      ],
      "text/plain": [
       "<IPython.core.display.HTML object>"
      ]
     },
     "metadata": {},
     "output_type": "display_data"
    },
    {
     "name": "stderr",
     "output_type": "stream",
     "text": [
      "wandb: Agent Starting Run: 26pjdan6 with config:\n",
      "wandb: \tlearning_rate: 0.010851089627142011\n",
      "wandb: \tnum_blocks: 6\n",
      "wandb: \toptimizer: sgd\n",
      "wandb: \tunits_1: 288\n",
      "wandb: \tunits_2: 232\n",
      "wandb: WARNING Ignored wandb.init() arg project when running a sweep.\n"
     ]
    },
    {
     "data": {
      "text/html": [
       "Tracking run with wandb version 0.18.5"
      ],
      "text/plain": [
       "<IPython.core.display.HTML object>"
      ]
     },
     "metadata": {},
     "output_type": "display_data"
    },
    {
     "data": {
      "text/html": [
       "Run data is saved locally in <code>c:\\Users\\prapt\\Desktop\\Deep Learning\\DL_Basics\\TensorFlow in Action\\wandb\\run-20241022_093230-26pjdan6</code>"
      ],
      "text/plain": [
       "<IPython.core.display.HTML object>"
      ]
     },
     "metadata": {},
     "output_type": "display_data"
    },
    {
     "data": {
      "text/html": [
       "Syncing run <strong><a href='https://wandb.ai/praptipatil01/Iris-Species-Classification/runs/26pjdan6' target=\"_blank\">unique-sweep-5</a></strong> to <a href='https://wandb.ai/praptipatil01/Iris-Species-Classification' target=\"_blank\">Weights & Biases</a> (<a href='https://wandb.me/run' target=\"_blank\">docs</a>)<br/>Sweep page: <a href='https://wandb.ai/praptipatil01/Iris-Species-Classification/sweeps/9re2wssu' target=\"_blank\">https://wandb.ai/praptipatil01/Iris-Species-Classification/sweeps/9re2wssu</a>"
      ],
      "text/plain": [
       "<IPython.core.display.HTML object>"
      ]
     },
     "metadata": {},
     "output_type": "display_data"
    },
    {
     "data": {
      "text/html": [
       " View project at <a href='https://wandb.ai/praptipatil01/Iris-Species-Classification' target=\"_blank\">https://wandb.ai/praptipatil01/Iris-Species-Classification</a>"
      ],
      "text/plain": [
       "<IPython.core.display.HTML object>"
      ]
     },
     "metadata": {},
     "output_type": "display_data"
    },
    {
     "data": {
      "text/html": [
       " View sweep at <a href='https://wandb.ai/praptipatil01/Iris-Species-Classification/sweeps/9re2wssu' target=\"_blank\">https://wandb.ai/praptipatil01/Iris-Species-Classification/sweeps/9re2wssu</a>"
      ],
      "text/plain": [
       "<IPython.core.display.HTML object>"
      ]
     },
     "metadata": {},
     "output_type": "display_data"
    },
    {
     "data": {
      "text/html": [
       " View run at <a href='https://wandb.ai/praptipatil01/Iris-Species-Classification/runs/26pjdan6' target=\"_blank\">https://wandb.ai/praptipatil01/Iris-Species-Classification/runs/26pjdan6</a>"
      ],
      "text/plain": [
       "<IPython.core.display.HTML object>"
      ]
     },
     "metadata": {},
     "output_type": "display_data"
    },
    {
     "name": "stderr",
     "output_type": "stream",
     "text": [
      "[D 241022 09:32:32 1443250203:23] Number of records: Train -  84, Val - 21\n"
     ]
    },
    {
     "data": {
      "text/html": [
       "<pre style=\"white-space:pre;overflow-x:auto;line-height:normal;font-family:Menlo,'DejaVu Sans Mono',consolas,'Courier New',monospace\"><span style=\"font-weight: bold\">Model: \"iris_subclassed\"</span>\n",
       "</pre>\n"
      ],
      "text/plain": [
       "\u001b[1mModel: \"iris_subclassed\"\u001b[0m\n"
      ]
     },
     "metadata": {},
     "output_type": "display_data"
    },
    {
     "data": {
      "text/html": [
       "<pre style=\"white-space:pre;overflow-x:auto;line-height:normal;font-family:Menlo,'DejaVu Sans Mono',consolas,'Courier New',monospace\">┏━━━━━━━━━━━━━━━━━━━━━━━━━━━━━━━━━┳━━━━━━━━━━━━━━━━━━━━━━━━┳━━━━━━━━━━━━━━━┓\n",
       "┃<span style=\"font-weight: bold\"> Layer (type)                    </span>┃<span style=\"font-weight: bold\"> Output Shape           </span>┃<span style=\"font-weight: bold\">       Param # </span>┃\n",
       "┡━━━━━━━━━━━━━━━━━━━━━━━━━━━━━━━━━╇━━━━━━━━━━━━━━━━━━━━━━━━╇━━━━━━━━━━━━━━━┩\n",
       "│ input_layer (<span style=\"color: #0087ff; text-decoration-color: #0087ff\">InputLayer</span>)        │ (<span style=\"color: #00d7ff; text-decoration-color: #00d7ff\">None</span>, <span style=\"color: #00af00; text-decoration-color: #00af00\">4</span>)              │             <span style=\"color: #00af00; text-decoration-color: #00af00\">0</span> │\n",
       "├─────────────────────────────────┼────────────────────────┼───────────────┤\n",
       "│ mul_bias_dense (<span style=\"color: #0087ff; text-decoration-color: #0087ff\">MulBiasDense</span>)   │ (<span style=\"color: #00d7ff; text-decoration-color: #00d7ff\">None</span>, <span style=\"color: #00af00; text-decoration-color: #00af00\">288</span>)            │         <span style=\"color: #00af00; text-decoration-color: #00af00\">1,728</span> │\n",
       "├─────────────────────────────────┼────────────────────────┼───────────────┤\n",
       "│ mul_bias_dense_1 (<span style=\"color: #0087ff; text-decoration-color: #0087ff\">MulBiasDense</span>) │ (<span style=\"color: #00d7ff; text-decoration-color: #00d7ff\">None</span>, <span style=\"color: #00af00; text-decoration-color: #00af00\">232</span>)            │        <span style=\"color: #00af00; text-decoration-color: #00af00\">67,280</span> │\n",
       "├─────────────────────────────────┼────────────────────────┼───────────────┤\n",
       "│ mul_bias_dense_2 (<span style=\"color: #0087ff; text-decoration-color: #0087ff\">MulBiasDense</span>) │ (<span style=\"color: #00d7ff; text-decoration-color: #00d7ff\">None</span>, <span style=\"color: #00af00; text-decoration-color: #00af00\">288</span>)            │        <span style=\"color: #00af00; text-decoration-color: #00af00\">67,392</span> │\n",
       "├─────────────────────────────────┼────────────────────────┼───────────────┤\n",
       "│ mul_bias_dense_3 (<span style=\"color: #0087ff; text-decoration-color: #0087ff\">MulBiasDense</span>) │ (<span style=\"color: #00d7ff; text-decoration-color: #00d7ff\">None</span>, <span style=\"color: #00af00; text-decoration-color: #00af00\">232</span>)            │        <span style=\"color: #00af00; text-decoration-color: #00af00\">67,280</span> │\n",
       "├─────────────────────────────────┼────────────────────────┼───────────────┤\n",
       "│ mul_bias_dense_4 (<span style=\"color: #0087ff; text-decoration-color: #0087ff\">MulBiasDense</span>) │ (<span style=\"color: #00d7ff; text-decoration-color: #00d7ff\">None</span>, <span style=\"color: #00af00; text-decoration-color: #00af00\">288</span>)            │        <span style=\"color: #00af00; text-decoration-color: #00af00\">67,392</span> │\n",
       "├─────────────────────────────────┼────────────────────────┼───────────────┤\n",
       "│ mul_bias_dense_5 (<span style=\"color: #0087ff; text-decoration-color: #0087ff\">MulBiasDense</span>) │ (<span style=\"color: #00d7ff; text-decoration-color: #00d7ff\">None</span>, <span style=\"color: #00af00; text-decoration-color: #00af00\">232</span>)            │        <span style=\"color: #00af00; text-decoration-color: #00af00\">67,280</span> │\n",
       "├─────────────────────────────────┼────────────────────────┼───────────────┤\n",
       "│ mul_bias_dense_6 (<span style=\"color: #0087ff; text-decoration-color: #0087ff\">MulBiasDense</span>) │ (<span style=\"color: #00d7ff; text-decoration-color: #00d7ff\">None</span>, <span style=\"color: #00af00; text-decoration-color: #00af00\">288</span>)            │        <span style=\"color: #00af00; text-decoration-color: #00af00\">67,392</span> │\n",
       "├─────────────────────────────────┼────────────────────────┼───────────────┤\n",
       "│ mul_bias_dense_7 (<span style=\"color: #0087ff; text-decoration-color: #0087ff\">MulBiasDense</span>) │ (<span style=\"color: #00d7ff; text-decoration-color: #00d7ff\">None</span>, <span style=\"color: #00af00; text-decoration-color: #00af00\">232</span>)            │        <span style=\"color: #00af00; text-decoration-color: #00af00\">67,280</span> │\n",
       "├─────────────────────────────────┼────────────────────────┼───────────────┤\n",
       "│ mul_bias_dense_8 (<span style=\"color: #0087ff; text-decoration-color: #0087ff\">MulBiasDense</span>) │ (<span style=\"color: #00d7ff; text-decoration-color: #00d7ff\">None</span>, <span style=\"color: #00af00; text-decoration-color: #00af00\">288</span>)            │        <span style=\"color: #00af00; text-decoration-color: #00af00\">67,392</span> │\n",
       "├─────────────────────────────────┼────────────────────────┼───────────────┤\n",
       "│ mul_bias_dense_9 (<span style=\"color: #0087ff; text-decoration-color: #0087ff\">MulBiasDense</span>) │ (<span style=\"color: #00d7ff; text-decoration-color: #00d7ff\">None</span>, <span style=\"color: #00af00; text-decoration-color: #00af00\">232</span>)            │        <span style=\"color: #00af00; text-decoration-color: #00af00\">67,280</span> │\n",
       "├─────────────────────────────────┼────────────────────────┼───────────────┤\n",
       "│ mul_bias_dense_10               │ (<span style=\"color: #00d7ff; text-decoration-color: #00d7ff\">None</span>, <span style=\"color: #00af00; text-decoration-color: #00af00\">288</span>)            │        <span style=\"color: #00af00; text-decoration-color: #00af00\">67,392</span> │\n",
       "│ (<span style=\"color: #0087ff; text-decoration-color: #0087ff\">MulBiasDense</span>)                  │                        │               │\n",
       "├─────────────────────────────────┼────────────────────────┼───────────────┤\n",
       "│ mul_bias_dense_11               │ (<span style=\"color: #00d7ff; text-decoration-color: #00d7ff\">None</span>, <span style=\"color: #00af00; text-decoration-color: #00af00\">232</span>)            │        <span style=\"color: #00af00; text-decoration-color: #00af00\">67,280</span> │\n",
       "│ (<span style=\"color: #0087ff; text-decoration-color: #0087ff\">MulBiasDense</span>)                  │                        │               │\n",
       "├─────────────────────────────────┼────────────────────────┼───────────────┤\n",
       "│ dense (<span style=\"color: #0087ff; text-decoration-color: #0087ff\">Dense</span>)                   │ (<span style=\"color: #00d7ff; text-decoration-color: #00d7ff\">None</span>, <span style=\"color: #00af00; text-decoration-color: #00af00\">2</span>)              │           <span style=\"color: #00af00; text-decoration-color: #00af00\">466</span> │\n",
       "└─────────────────────────────────┴────────────────────────┴───────────────┘\n",
       "</pre>\n"
      ],
      "text/plain": [
       "┏━━━━━━━━━━━━━━━━━━━━━━━━━━━━━━━━━┳━━━━━━━━━━━━━━━━━━━━━━━━┳━━━━━━━━━━━━━━━┓\n",
       "┃\u001b[1m \u001b[0m\u001b[1mLayer (type)                   \u001b[0m\u001b[1m \u001b[0m┃\u001b[1m \u001b[0m\u001b[1mOutput Shape          \u001b[0m\u001b[1m \u001b[0m┃\u001b[1m \u001b[0m\u001b[1m      Param #\u001b[0m\u001b[1m \u001b[0m┃\n",
       "┡━━━━━━━━━━━━━━━━━━━━━━━━━━━━━━━━━╇━━━━━━━━━━━━━━━━━━━━━━━━╇━━━━━━━━━━━━━━━┩\n",
       "│ input_layer (\u001b[38;5;33mInputLayer\u001b[0m)        │ (\u001b[38;5;45mNone\u001b[0m, \u001b[38;5;34m4\u001b[0m)              │             \u001b[38;5;34m0\u001b[0m │\n",
       "├─────────────────────────────────┼────────────────────────┼───────────────┤\n",
       "│ mul_bias_dense (\u001b[38;5;33mMulBiasDense\u001b[0m)   │ (\u001b[38;5;45mNone\u001b[0m, \u001b[38;5;34m288\u001b[0m)            │         \u001b[38;5;34m1,728\u001b[0m │\n",
       "├─────────────────────────────────┼────────────────────────┼───────────────┤\n",
       "│ mul_bias_dense_1 (\u001b[38;5;33mMulBiasDense\u001b[0m) │ (\u001b[38;5;45mNone\u001b[0m, \u001b[38;5;34m232\u001b[0m)            │        \u001b[38;5;34m67,280\u001b[0m │\n",
       "├─────────────────────────────────┼────────────────────────┼───────────────┤\n",
       "│ mul_bias_dense_2 (\u001b[38;5;33mMulBiasDense\u001b[0m) │ (\u001b[38;5;45mNone\u001b[0m, \u001b[38;5;34m288\u001b[0m)            │        \u001b[38;5;34m67,392\u001b[0m │\n",
       "├─────────────────────────────────┼────────────────────────┼───────────────┤\n",
       "│ mul_bias_dense_3 (\u001b[38;5;33mMulBiasDense\u001b[0m) │ (\u001b[38;5;45mNone\u001b[0m, \u001b[38;5;34m232\u001b[0m)            │        \u001b[38;5;34m67,280\u001b[0m │\n",
       "├─────────────────────────────────┼────────────────────────┼───────────────┤\n",
       "│ mul_bias_dense_4 (\u001b[38;5;33mMulBiasDense\u001b[0m) │ (\u001b[38;5;45mNone\u001b[0m, \u001b[38;5;34m288\u001b[0m)            │        \u001b[38;5;34m67,392\u001b[0m │\n",
       "├─────────────────────────────────┼────────────────────────┼───────────────┤\n",
       "│ mul_bias_dense_5 (\u001b[38;5;33mMulBiasDense\u001b[0m) │ (\u001b[38;5;45mNone\u001b[0m, \u001b[38;5;34m232\u001b[0m)            │        \u001b[38;5;34m67,280\u001b[0m │\n",
       "├─────────────────────────────────┼────────────────────────┼───────────────┤\n",
       "│ mul_bias_dense_6 (\u001b[38;5;33mMulBiasDense\u001b[0m) │ (\u001b[38;5;45mNone\u001b[0m, \u001b[38;5;34m288\u001b[0m)            │        \u001b[38;5;34m67,392\u001b[0m │\n",
       "├─────────────────────────────────┼────────────────────────┼───────────────┤\n",
       "│ mul_bias_dense_7 (\u001b[38;5;33mMulBiasDense\u001b[0m) │ (\u001b[38;5;45mNone\u001b[0m, \u001b[38;5;34m232\u001b[0m)            │        \u001b[38;5;34m67,280\u001b[0m │\n",
       "├─────────────────────────────────┼────────────────────────┼───────────────┤\n",
       "│ mul_bias_dense_8 (\u001b[38;5;33mMulBiasDense\u001b[0m) │ (\u001b[38;5;45mNone\u001b[0m, \u001b[38;5;34m288\u001b[0m)            │        \u001b[38;5;34m67,392\u001b[0m │\n",
       "├─────────────────────────────────┼────────────────────────┼───────────────┤\n",
       "│ mul_bias_dense_9 (\u001b[38;5;33mMulBiasDense\u001b[0m) │ (\u001b[38;5;45mNone\u001b[0m, \u001b[38;5;34m232\u001b[0m)            │        \u001b[38;5;34m67,280\u001b[0m │\n",
       "├─────────────────────────────────┼────────────────────────┼───────────────┤\n",
       "│ mul_bias_dense_10               │ (\u001b[38;5;45mNone\u001b[0m, \u001b[38;5;34m288\u001b[0m)            │        \u001b[38;5;34m67,392\u001b[0m │\n",
       "│ (\u001b[38;5;33mMulBiasDense\u001b[0m)                  │                        │               │\n",
       "├─────────────────────────────────┼────────────────────────┼───────────────┤\n",
       "│ mul_bias_dense_11               │ (\u001b[38;5;45mNone\u001b[0m, \u001b[38;5;34m232\u001b[0m)            │        \u001b[38;5;34m67,280\u001b[0m │\n",
       "│ (\u001b[38;5;33mMulBiasDense\u001b[0m)                  │                        │               │\n",
       "├─────────────────────────────────┼────────────────────────┼───────────────┤\n",
       "│ dense (\u001b[38;5;33mDense\u001b[0m)                   │ (\u001b[38;5;45mNone\u001b[0m, \u001b[38;5;34m2\u001b[0m)              │           \u001b[38;5;34m466\u001b[0m │\n",
       "└─────────────────────────────────┴────────────────────────┴───────────────┘\n"
      ]
     },
     "metadata": {},
     "output_type": "display_data"
    },
    {
     "data": {
      "text/html": [
       "<pre style=\"white-space:pre;overflow-x:auto;line-height:normal;font-family:Menlo,'DejaVu Sans Mono',consolas,'Courier New',monospace\"><span style=\"font-weight: bold\"> Total params: </span><span style=\"color: #00af00; text-decoration-color: #00af00\">742,834</span> (2.83 MB)\n",
       "</pre>\n"
      ],
      "text/plain": [
       "\u001b[1m Total params: \u001b[0m\u001b[38;5;34m742,834\u001b[0m (2.83 MB)\n"
      ]
     },
     "metadata": {},
     "output_type": "display_data"
    },
    {
     "data": {
      "text/html": [
       "<pre style=\"white-space:pre;overflow-x:auto;line-height:normal;font-family:Menlo,'DejaVu Sans Mono',consolas,'Courier New',monospace\"><span style=\"font-weight: bold\"> Trainable params: </span><span style=\"color: #00af00; text-decoration-color: #00af00\">742,834</span> (2.83 MB)\n",
       "</pre>\n"
      ],
      "text/plain": [
       "\u001b[1m Trainable params: \u001b[0m\u001b[38;5;34m742,834\u001b[0m (2.83 MB)\n"
      ]
     },
     "metadata": {},
     "output_type": "display_data"
    },
    {
     "data": {
      "text/html": [
       "<pre style=\"white-space:pre;overflow-x:auto;line-height:normal;font-family:Menlo,'DejaVu Sans Mono',consolas,'Courier New',monospace\"><span style=\"font-weight: bold\"> Non-trainable params: </span><span style=\"color: #00af00; text-decoration-color: #00af00\">0</span> (0.00 B)\n",
       "</pre>\n"
      ],
      "text/plain": [
       "\u001b[1m Non-trainable params: \u001b[0m\u001b[38;5;34m0\u001b[0m (0.00 B)\n"
      ]
     },
     "metadata": {},
     "output_type": "display_data"
    },
    {
     "name": "stderr",
     "output_type": "stream",
     "text": [
      "[D 241022 09:32:32 1443250203:29] Model_name: iris_subclassed\n"
     ]
    },
    {
     "name": "stdout",
     "output_type": "stream",
     "text": [
      "Epoch 1/20\n",
      "1/1 ━━━━━━━━━━━━━━━━━━━━ 0s 1s/step - acc: 0.3810 - loss: 0.4536INFO:tensorflow:Assets written to: models/iris/iris-functional_api\\assets\n"
     ]
    },
    {
     "name": "stderr",
     "output_type": "stream",
     "text": [
      "INFO:tensorflow:Assets written to: models/iris/iris-functional_api\\assets\n"
     ]
    },
    {
     "name": "stdout",
     "output_type": "stream",
     "text": [
      "1/1 ━━━━━━━━━━━━━━━━━━━━ 2s 2s/step - acc: 0.3810 - loss: 0.4536 - val_acc: 0.1905 - val_loss: 0.4298\n",
      "Epoch 2/20\n",
      "1/1 ━━━━━━━━━━━━━━━━━━━━ 0s 37ms/step - acc: 0.3810 - loss: 0.45 ━━━━━━━━━━━━━━━━━━━━ 0s 73ms/step - acc: 0.3810 - loss: 0.4535 - val_acc: 0.1905 - val_loss: 0.4299\n",
      "Epoch 3/20\n",
      "1/1 ━━━━━━━━━━━━━━━━━━━━ 0s 23ms/step - acc: 0.3810 - loss: 0.45 ━━━━━━━━━━━━━━━━━━━━ 0s 65ms/step - acc: 0.3810 - loss: 0.4535 - val_acc: 0.1905 - val_loss: 0.4301\n",
      "Epoch 4/20\n",
      "1/1 ━━━━━━━━━━━━━━━━━━━━ 0s 26ms/step - acc: 0.3810 - loss: 0.45 ━━━━━━━━━━━━━━━━━━━━ 0s 65ms/step - acc: 0.3810 - loss: 0.4534 - val_acc: 0.1905 - val_loss: 0.4302\n",
      "Epoch 5/20\n",
      "1/1 ━━━━━━━━━━━━━━━━━━━━ 0s 26ms/step - acc: 0.3810 - loss: 0.45 ━━━━━━━━━━━━━━━━━━━━ 0s 63ms/step - acc: 0.3810 - loss: 0.4534 - val_acc: 0.1905 - val_loss: 0.4303\n",
      "Epoch 6/20\n",
      "1/1 ━━━━━━━━━━━━━━━━━━━━ 0s 24ms/step - acc: 0.3810 - loss: 0.45 ━━━━━━━━━━━━━━━━━━━━ 0s 63ms/step - acc: 0.3810 - loss: 0.4533 - val_acc: 0.1905 - val_loss: 0.4304\n",
      "Epoch 7/20\n",
      "1/1 ━━━━━━━━━━━━━━━━━━━━ 0s 30ms/step - acc: 0.3810 - loss: 0.45 ━━━━━━━━━━━━━━━━━━━━ 0s 63ms/step - acc: 0.3810 - loss: 0.4533 - val_acc: 0.1905 - val_loss: 0.4306\n",
      "Epoch 8/20\n",
      "1/1 ━━━━━━━━━━━━━━━━━━━━ 0s 24ms/step - acc: 0.3810 - loss: 0.45 ━━━━━━━━━━━━━━━━━━━━ 0s 64ms/step - acc: 0.3810 - loss: 0.4532 - val_acc: 0.1905 - val_loss: 0.4307\n",
      "Epoch 9/20\n",
      "1/1 ━━━━━━━━━━━━━━━━━━━━ 0s 32ms/step - acc: 0.3810 - loss: 0.45 ━━━━━━━━━━━━━━━━━━━━ 0s 72ms/step - acc: 0.3810 - loss: 0.4531 - val_acc: 0.1905 - val_loss: 0.4308\n",
      "Epoch 10/20\n",
      "1/1 ━━━━━━━━━━━━━━━━━━━━ 0s 44ms/step - acc: 0.3810 - loss: 0.45 ━━━━━━━━━━━━━━━━━━━━ 0s 81ms/step - acc: 0.3810 - loss: 0.4531 - val_acc: 0.1905 - val_loss: 0.4309\n",
      "Epoch 11/20\n",
      "1/1 ━━━━━━━━━━━━━━━━━━━━ 0s 35ms/step - acc: 0.3810 - loss: 0.45 ━━━━━━━━━━━━━━━━━━━━ 0s 75ms/step - acc: 0.3810 - loss: 0.4530 - val_acc: 0.1905 - val_loss: 0.4311\n",
      "Epoch 12/20\n",
      "1/1 ━━━━━━━━━━━━━━━━━━━━ 0s 34ms/step - acc: 0.3810 - loss: 0.45 ━━━━━━━━━━━━━━━━━━━━ 0s 67ms/step - acc: 0.3810 - loss: 0.4530 - val_acc: 0.1905 - val_loss: 0.4312\n",
      "Epoch 13/20\n",
      "1/1 ━━━━━━━━━━━━━━━━━━━━ 0s 34ms/step - acc: 0.3810 - loss: 0.45 ━━━━━━━━━━━━━━━━━━━━ 0s 73ms/step - acc: 0.3810 - loss: 0.4529 - val_acc: 0.1905 - val_loss: 0.4313\n",
      "Epoch 14/20\n",
      "1/1 ━━━━━━━━━━━━━━━━━━━━ 0s 47ms/step - acc: 0.3810 - loss: 0.45 ━━━━━━━━━━━━━━━━━━━━ 0s 86ms/step - acc: 0.3810 - loss: 0.4529 - val_acc: 0.1905 - val_loss: 0.4314\n",
      "Epoch 15/20\n",
      "1/1 ━━━━━━━━━━━━━━━━━━━━ 0s 42ms/step - acc: 0.3810 - loss: 0.45 ━━━━━━━━━━━━━━━━━━━━ 0s 82ms/step - acc: 0.3810 - loss: 0.4528 - val_acc: 0.1905 - val_loss: 0.4315\n",
      "Epoch 16/20\n",
      "1/1 ━━━━━━━━━━━━━━━━━━━━ 0s 46ms/step - acc: 0.3810 - loss: 0.45 ━━━━━━━━━━━━━━━━━━━━ 0s 81ms/step - acc: 0.3810 - loss: 0.4528 - val_acc: 0.1905 - val_loss: 0.4317\n",
      "Epoch 17/20\n",
      "1/1 ━━━━━━━━━━━━━━━━━━━━ 0s 32ms/step - acc: 0.3810 - loss: 0.45 ━━━━━━━━━━━━━━━━━━━━ 0s 68ms/step - acc: 0.3810 - loss: 0.4527 - val_acc: 0.1905 - val_loss: 0.4318\n",
      "Epoch 18/20\n",
      "1/1 ━━━━━━━━━━━━━━━━━━━━ 0s 33ms/step - acc: 0.3810 - loss: 0.45 ━━━━━━━━━━━━━━━━━━━━ 0s 85ms/step - acc: 0.3810 - loss: 0.4527 - val_acc: 0.1905 - val_loss: 0.4319\n",
      "Epoch 19/20\n",
      "1/1 ━━━━━━━━━━━━━━━━━━━━ 0s 60ms/step - acc: 0.3810 - loss: 0.45 ━━━━━━━━━━━━━━━━━━━━ 0s 104ms/step - acc: 0.3810 - loss: 0.4526 - val_acc: 0.1905 - val_loss: 0.4320\n",
      "Epoch 20/20\n",
      "1/1 ━━━━━━━━━━━━━━━━━━━━ 0s 33ms/step - acc: 0.3810 - loss: 0.45 ━━━━━━━━━━━━━━━━━━━━ 0s 70ms/step - acc: 0.3810 - loss: 0.4526 - val_acc: 0.1905 - val_loss: 0.4321\n"
     ]
    },
    {
     "name": "stderr",
     "output_type": "stream",
     "text": [
      "wandb: Adding directory to artifact (.\\models\\iris\\iris-functional_api)... Done. 0.1s\n"
     ]
    },
    {
     "data": {
      "text/html": [
       "<style>\n",
       "    table.wandb td:nth-child(1) { padding: 0 10px; text-align: left ; width: auto;} td:nth-child(2) {text-align: left ; width: 100%}\n",
       "    .wandb-row { display: flex; flex-direction: row; flex-wrap: wrap; justify-content: flex-start; width: 100% }\n",
       "    .wandb-col { display: flex; flex-direction: column; flex-basis: 100%; flex: 1; padding: 10px; }\n",
       "    </style>\n",
       "<div class=\"wandb-row\"><div class=\"wandb-col\"><h3>Run history:</h3><br/><table class=\"wandb\"><tr><td>acc</td><td>▁▁▁▁▁▁▁▁▁▁▁▁▁▁▁▁▁▁▁▁</td></tr><tr><td>loss</td><td>██▇▇▆▆▆▅▅▅▄▄▃▃▃▂▂▂▁▁</td></tr><tr><td>val_acc</td><td>▁▁▁▁▁▁▁▁▁▁▁▁▁▁▁▁▁▁▁▁</td></tr><tr><td>val_loss</td><td>▁▁▂▂▃▃▃▄▄▄▅▅▅▆▆▇▇▇██</td></tr></table><br/></div><div class=\"wandb-col\"><h3>Run summary:</h3><br/><table class=\"wandb\"><tr><td>acc</td><td>0.38095</td></tr><tr><td>loss</td><td>0.45259</td></tr><tr><td>val_acc</td><td>0.19048</td></tr><tr><td>val_loss</td><td>0.43214</td></tr></table><br/></div></div>"
      ],
      "text/plain": [
       "<IPython.core.display.HTML object>"
      ]
     },
     "metadata": {},
     "output_type": "display_data"
    },
    {
     "data": {
      "text/html": [
       " View run <strong style=\"color:#cdcd00\">unique-sweep-5</strong> at: <a href='https://wandb.ai/praptipatil01/Iris-Species-Classification/runs/26pjdan6' target=\"_blank\">https://wandb.ai/praptipatil01/Iris-Species-Classification/runs/26pjdan6</a><br/> View project at: <a href='https://wandb.ai/praptipatil01/Iris-Species-Classification' target=\"_blank\">https://wandb.ai/praptipatil01/Iris-Species-Classification</a><br/>Synced 5 W&B file(s), 0 media file(s), 5 artifact file(s) and 0 other file(s)"
      ],
      "text/plain": [
       "<IPython.core.display.HTML object>"
      ]
     },
     "metadata": {},
     "output_type": "display_data"
    },
    {
     "data": {
      "text/html": [
       "Find logs at: <code>.\\wandb\\run-20241022_093230-26pjdan6\\logs</code>"
      ],
      "text/plain": [
       "<IPython.core.display.HTML object>"
      ]
     },
     "metadata": {},
     "output_type": "display_data"
    },
    {
     "name": "stderr",
     "output_type": "stream",
     "text": [
      "wandb: Agent Starting Run: 4qfait0d with config:\n",
      "wandb: \tlearning_rate: 0.021109184026796412\n",
      "wandb: \tnum_blocks: 5\n",
      "wandb: \toptimizer: adam\n",
      "wandb: \tunits_1: 352\n",
      "wandb: \tunits_2: 184\n",
      "wandb: WARNING Ignored wandb.init() arg project when running a sweep.\n"
     ]
    },
    {
     "data": {
      "text/html": [
       "Tracking run with wandb version 0.18.5"
      ],
      "text/plain": [
       "<IPython.core.display.HTML object>"
      ]
     },
     "metadata": {},
     "output_type": "display_data"
    },
    {
     "data": {
      "text/html": [
       "Run data is saved locally in <code>c:\\Users\\prapt\\Desktop\\Deep Learning\\DL_Basics\\TensorFlow in Action\\wandb\\run-20241022_093252-4qfait0d</code>"
      ],
      "text/plain": [
       "<IPython.core.display.HTML object>"
      ]
     },
     "metadata": {},
     "output_type": "display_data"
    },
    {
     "data": {
      "text/html": [
       "Syncing run <strong><a href='https://wandb.ai/praptipatil01/Iris-Species-Classification/runs/4qfait0d' target=\"_blank\">fresh-sweep-6</a></strong> to <a href='https://wandb.ai/praptipatil01/Iris-Species-Classification' target=\"_blank\">Weights & Biases</a> (<a href='https://wandb.me/run' target=\"_blank\">docs</a>)<br/>Sweep page: <a href='https://wandb.ai/praptipatil01/Iris-Species-Classification/sweeps/9re2wssu' target=\"_blank\">https://wandb.ai/praptipatil01/Iris-Species-Classification/sweeps/9re2wssu</a>"
      ],
      "text/plain": [
       "<IPython.core.display.HTML object>"
      ]
     },
     "metadata": {},
     "output_type": "display_data"
    },
    {
     "data": {
      "text/html": [
       " View project at <a href='https://wandb.ai/praptipatil01/Iris-Species-Classification' target=\"_blank\">https://wandb.ai/praptipatil01/Iris-Species-Classification</a>"
      ],
      "text/plain": [
       "<IPython.core.display.HTML object>"
      ]
     },
     "metadata": {},
     "output_type": "display_data"
    },
    {
     "data": {
      "text/html": [
       " View sweep at <a href='https://wandb.ai/praptipatil01/Iris-Species-Classification/sweeps/9re2wssu' target=\"_blank\">https://wandb.ai/praptipatil01/Iris-Species-Classification/sweeps/9re2wssu</a>"
      ],
      "text/plain": [
       "<IPython.core.display.HTML object>"
      ]
     },
     "metadata": {},
     "output_type": "display_data"
    },
    {
     "data": {
      "text/html": [
       " View run at <a href='https://wandb.ai/praptipatil01/Iris-Species-Classification/runs/4qfait0d' target=\"_blank\">https://wandb.ai/praptipatil01/Iris-Species-Classification/runs/4qfait0d</a>"
      ],
      "text/plain": [
       "<IPython.core.display.HTML object>"
      ]
     },
     "metadata": {},
     "output_type": "display_data"
    },
    {
     "name": "stderr",
     "output_type": "stream",
     "text": [
      "[D 241022 09:32:55 1443250203:23] Number of records: Train -  84, Val - 21\n"
     ]
    },
    {
     "data": {
      "text/html": [
       "<pre style=\"white-space:pre;overflow-x:auto;line-height:normal;font-family:Menlo,'DejaVu Sans Mono',consolas,'Courier New',monospace\"><span style=\"font-weight: bold\">Model: \"iris_subclassed\"</span>\n",
       "</pre>\n"
      ],
      "text/plain": [
       "\u001b[1mModel: \"iris_subclassed\"\u001b[0m\n"
      ]
     },
     "metadata": {},
     "output_type": "display_data"
    },
    {
     "data": {
      "text/html": [
       "<pre style=\"white-space:pre;overflow-x:auto;line-height:normal;font-family:Menlo,'DejaVu Sans Mono',consolas,'Courier New',monospace\">┏━━━━━━━━━━━━━━━━━━━━━━━━━━━━━━━━━┳━━━━━━━━━━━━━━━━━━━━━━━━┳━━━━━━━━━━━━━━━┓\n",
       "┃<span style=\"font-weight: bold\"> Layer (type)                    </span>┃<span style=\"font-weight: bold\"> Output Shape           </span>┃<span style=\"font-weight: bold\">       Param # </span>┃\n",
       "┡━━━━━━━━━━━━━━━━━━━━━━━━━━━━━━━━━╇━━━━━━━━━━━━━━━━━━━━━━━━╇━━━━━━━━━━━━━━━┩\n",
       "│ input_layer (<span style=\"color: #0087ff; text-decoration-color: #0087ff\">InputLayer</span>)        │ (<span style=\"color: #00d7ff; text-decoration-color: #00d7ff\">None</span>, <span style=\"color: #00af00; text-decoration-color: #00af00\">4</span>)              │             <span style=\"color: #00af00; text-decoration-color: #00af00\">0</span> │\n",
       "├─────────────────────────────────┼────────────────────────┼───────────────┤\n",
       "│ mul_bias_dense (<span style=\"color: #0087ff; text-decoration-color: #0087ff\">MulBiasDense</span>)   │ (<span style=\"color: #00d7ff; text-decoration-color: #00d7ff\">None</span>, <span style=\"color: #00af00; text-decoration-color: #00af00\">352</span>)            │         <span style=\"color: #00af00; text-decoration-color: #00af00\">2,112</span> │\n",
       "├─────────────────────────────────┼────────────────────────┼───────────────┤\n",
       "│ mul_bias_dense_1 (<span style=\"color: #0087ff; text-decoration-color: #0087ff\">MulBiasDense</span>) │ (<span style=\"color: #00d7ff; text-decoration-color: #00d7ff\">None</span>, <span style=\"color: #00af00; text-decoration-color: #00af00\">184</span>)            │        <span style=\"color: #00af00; text-decoration-color: #00af00\">65,136</span> │\n",
       "├─────────────────────────────────┼────────────────────────┼───────────────┤\n",
       "│ mul_bias_dense_2 (<span style=\"color: #0087ff; text-decoration-color: #0087ff\">MulBiasDense</span>) │ (<span style=\"color: #00d7ff; text-decoration-color: #00d7ff\">None</span>, <span style=\"color: #00af00; text-decoration-color: #00af00\">352</span>)            │        <span style=\"color: #00af00; text-decoration-color: #00af00\">65,472</span> │\n",
       "├─────────────────────────────────┼────────────────────────┼───────────────┤\n",
       "│ mul_bias_dense_3 (<span style=\"color: #0087ff; text-decoration-color: #0087ff\">MulBiasDense</span>) │ (<span style=\"color: #00d7ff; text-decoration-color: #00d7ff\">None</span>, <span style=\"color: #00af00; text-decoration-color: #00af00\">184</span>)            │        <span style=\"color: #00af00; text-decoration-color: #00af00\">65,136</span> │\n",
       "├─────────────────────────────────┼────────────────────────┼───────────────┤\n",
       "│ mul_bias_dense_4 (<span style=\"color: #0087ff; text-decoration-color: #0087ff\">MulBiasDense</span>) │ (<span style=\"color: #00d7ff; text-decoration-color: #00d7ff\">None</span>, <span style=\"color: #00af00; text-decoration-color: #00af00\">352</span>)            │        <span style=\"color: #00af00; text-decoration-color: #00af00\">65,472</span> │\n",
       "├─────────────────────────────────┼────────────────────────┼───────────────┤\n",
       "│ mul_bias_dense_5 (<span style=\"color: #0087ff; text-decoration-color: #0087ff\">MulBiasDense</span>) │ (<span style=\"color: #00d7ff; text-decoration-color: #00d7ff\">None</span>, <span style=\"color: #00af00; text-decoration-color: #00af00\">184</span>)            │        <span style=\"color: #00af00; text-decoration-color: #00af00\">65,136</span> │\n",
       "├─────────────────────────────────┼────────────────────────┼───────────────┤\n",
       "│ mul_bias_dense_6 (<span style=\"color: #0087ff; text-decoration-color: #0087ff\">MulBiasDense</span>) │ (<span style=\"color: #00d7ff; text-decoration-color: #00d7ff\">None</span>, <span style=\"color: #00af00; text-decoration-color: #00af00\">352</span>)            │        <span style=\"color: #00af00; text-decoration-color: #00af00\">65,472</span> │\n",
       "├─────────────────────────────────┼────────────────────────┼───────────────┤\n",
       "│ mul_bias_dense_7 (<span style=\"color: #0087ff; text-decoration-color: #0087ff\">MulBiasDense</span>) │ (<span style=\"color: #00d7ff; text-decoration-color: #00d7ff\">None</span>, <span style=\"color: #00af00; text-decoration-color: #00af00\">184</span>)            │        <span style=\"color: #00af00; text-decoration-color: #00af00\">65,136</span> │\n",
       "├─────────────────────────────────┼────────────────────────┼───────────────┤\n",
       "│ mul_bias_dense_8 (<span style=\"color: #0087ff; text-decoration-color: #0087ff\">MulBiasDense</span>) │ (<span style=\"color: #00d7ff; text-decoration-color: #00d7ff\">None</span>, <span style=\"color: #00af00; text-decoration-color: #00af00\">352</span>)            │        <span style=\"color: #00af00; text-decoration-color: #00af00\">65,472</span> │\n",
       "├─────────────────────────────────┼────────────────────────┼───────────────┤\n",
       "│ mul_bias_dense_9 (<span style=\"color: #0087ff; text-decoration-color: #0087ff\">MulBiasDense</span>) │ (<span style=\"color: #00d7ff; text-decoration-color: #00d7ff\">None</span>, <span style=\"color: #00af00; text-decoration-color: #00af00\">184</span>)            │        <span style=\"color: #00af00; text-decoration-color: #00af00\">65,136</span> │\n",
       "├─────────────────────────────────┼────────────────────────┼───────────────┤\n",
       "│ dense (<span style=\"color: #0087ff; text-decoration-color: #0087ff\">Dense</span>)                   │ (<span style=\"color: #00d7ff; text-decoration-color: #00d7ff\">None</span>, <span style=\"color: #00af00; text-decoration-color: #00af00\">2</span>)              │           <span style=\"color: #00af00; text-decoration-color: #00af00\">370</span> │\n",
       "└─────────────────────────────────┴────────────────────────┴───────────────┘\n",
       "</pre>\n"
      ],
      "text/plain": [
       "┏━━━━━━━━━━━━━━━━━━━━━━━━━━━━━━━━━┳━━━━━━━━━━━━━━━━━━━━━━━━┳━━━━━━━━━━━━━━━┓\n",
       "┃\u001b[1m \u001b[0m\u001b[1mLayer (type)                   \u001b[0m\u001b[1m \u001b[0m┃\u001b[1m \u001b[0m\u001b[1mOutput Shape          \u001b[0m\u001b[1m \u001b[0m┃\u001b[1m \u001b[0m\u001b[1m      Param #\u001b[0m\u001b[1m \u001b[0m┃\n",
       "┡━━━━━━━━━━━━━━━━━━━━━━━━━━━━━━━━━╇━━━━━━━━━━━━━━━━━━━━━━━━╇━━━━━━━━━━━━━━━┩\n",
       "│ input_layer (\u001b[38;5;33mInputLayer\u001b[0m)        │ (\u001b[38;5;45mNone\u001b[0m, \u001b[38;5;34m4\u001b[0m)              │             \u001b[38;5;34m0\u001b[0m │\n",
       "├─────────────────────────────────┼────────────────────────┼───────────────┤\n",
       "│ mul_bias_dense (\u001b[38;5;33mMulBiasDense\u001b[0m)   │ (\u001b[38;5;45mNone\u001b[0m, \u001b[38;5;34m352\u001b[0m)            │         \u001b[38;5;34m2,112\u001b[0m │\n",
       "├─────────────────────────────────┼────────────────────────┼───────────────┤\n",
       "│ mul_bias_dense_1 (\u001b[38;5;33mMulBiasDense\u001b[0m) │ (\u001b[38;5;45mNone\u001b[0m, \u001b[38;5;34m184\u001b[0m)            │        \u001b[38;5;34m65,136\u001b[0m │\n",
       "├─────────────────────────────────┼────────────────────────┼───────────────┤\n",
       "│ mul_bias_dense_2 (\u001b[38;5;33mMulBiasDense\u001b[0m) │ (\u001b[38;5;45mNone\u001b[0m, \u001b[38;5;34m352\u001b[0m)            │        \u001b[38;5;34m65,472\u001b[0m │\n",
       "├─────────────────────────────────┼────────────────────────┼───────────────┤\n",
       "│ mul_bias_dense_3 (\u001b[38;5;33mMulBiasDense\u001b[0m) │ (\u001b[38;5;45mNone\u001b[0m, \u001b[38;5;34m184\u001b[0m)            │        \u001b[38;5;34m65,136\u001b[0m │\n",
       "├─────────────────────────────────┼────────────────────────┼───────────────┤\n",
       "│ mul_bias_dense_4 (\u001b[38;5;33mMulBiasDense\u001b[0m) │ (\u001b[38;5;45mNone\u001b[0m, \u001b[38;5;34m352\u001b[0m)            │        \u001b[38;5;34m65,472\u001b[0m │\n",
       "├─────────────────────────────────┼────────────────────────┼───────────────┤\n",
       "│ mul_bias_dense_5 (\u001b[38;5;33mMulBiasDense\u001b[0m) │ (\u001b[38;5;45mNone\u001b[0m, \u001b[38;5;34m184\u001b[0m)            │        \u001b[38;5;34m65,136\u001b[0m │\n",
       "├─────────────────────────────────┼────────────────────────┼───────────────┤\n",
       "│ mul_bias_dense_6 (\u001b[38;5;33mMulBiasDense\u001b[0m) │ (\u001b[38;5;45mNone\u001b[0m, \u001b[38;5;34m352\u001b[0m)            │        \u001b[38;5;34m65,472\u001b[0m │\n",
       "├─────────────────────────────────┼────────────────────────┼───────────────┤\n",
       "│ mul_bias_dense_7 (\u001b[38;5;33mMulBiasDense\u001b[0m) │ (\u001b[38;5;45mNone\u001b[0m, \u001b[38;5;34m184\u001b[0m)            │        \u001b[38;5;34m65,136\u001b[0m │\n",
       "├─────────────────────────────────┼────────────────────────┼───────────────┤\n",
       "│ mul_bias_dense_8 (\u001b[38;5;33mMulBiasDense\u001b[0m) │ (\u001b[38;5;45mNone\u001b[0m, \u001b[38;5;34m352\u001b[0m)            │        \u001b[38;5;34m65,472\u001b[0m │\n",
       "├─────────────────────────────────┼────────────────────────┼───────────────┤\n",
       "│ mul_bias_dense_9 (\u001b[38;5;33mMulBiasDense\u001b[0m) │ (\u001b[38;5;45mNone\u001b[0m, \u001b[38;5;34m184\u001b[0m)            │        \u001b[38;5;34m65,136\u001b[0m │\n",
       "├─────────────────────────────────┼────────────────────────┼───────────────┤\n",
       "│ dense (\u001b[38;5;33mDense\u001b[0m)                   │ (\u001b[38;5;45mNone\u001b[0m, \u001b[38;5;34m2\u001b[0m)              │           \u001b[38;5;34m370\u001b[0m │\n",
       "└─────────────────────────────────┴────────────────────────┴───────────────┘\n"
      ]
     },
     "metadata": {},
     "output_type": "display_data"
    },
    {
     "data": {
      "text/html": [
       "<pre style=\"white-space:pre;overflow-x:auto;line-height:normal;font-family:Menlo,'DejaVu Sans Mono',consolas,'Courier New',monospace\"><span style=\"font-weight: bold\"> Total params: </span><span style=\"color: #00af00; text-decoration-color: #00af00\">590,050</span> (2.25 MB)\n",
       "</pre>\n"
      ],
      "text/plain": [
       "\u001b[1m Total params: \u001b[0m\u001b[38;5;34m590,050\u001b[0m (2.25 MB)\n"
      ]
     },
     "metadata": {},
     "output_type": "display_data"
    },
    {
     "data": {
      "text/html": [
       "<pre style=\"white-space:pre;overflow-x:auto;line-height:normal;font-family:Menlo,'DejaVu Sans Mono',consolas,'Courier New',monospace\"><span style=\"font-weight: bold\"> Trainable params: </span><span style=\"color: #00af00; text-decoration-color: #00af00\">590,050</span> (2.25 MB)\n",
       "</pre>\n"
      ],
      "text/plain": [
       "\u001b[1m Trainable params: \u001b[0m\u001b[38;5;34m590,050\u001b[0m (2.25 MB)\n"
      ]
     },
     "metadata": {},
     "output_type": "display_data"
    },
    {
     "data": {
      "text/html": [
       "<pre style=\"white-space:pre;overflow-x:auto;line-height:normal;font-family:Menlo,'DejaVu Sans Mono',consolas,'Courier New',monospace\"><span style=\"font-weight: bold\"> Non-trainable params: </span><span style=\"color: #00af00; text-decoration-color: #00af00\">0</span> (0.00 B)\n",
       "</pre>\n"
      ],
      "text/plain": [
       "\u001b[1m Non-trainable params: \u001b[0m\u001b[38;5;34m0\u001b[0m (0.00 B)\n"
      ]
     },
     "metadata": {},
     "output_type": "display_data"
    },
    {
     "name": "stderr",
     "output_type": "stream",
     "text": [
      "[D 241022 09:32:55 1443250203:29] Model_name: iris_subclassed\n"
     ]
    },
    {
     "name": "stdout",
     "output_type": "stream",
     "text": [
      "Epoch 1/20\n",
      "1/1 ━━━━━━━━━━━━━━━━━━━━ 0s 5s/step - acc: 0.3810 - loss: 0.4538INFO:tensorflow:Assets written to: models/iris/iris-functional_api\\assets\n"
     ]
    },
    {
     "name": "stderr",
     "output_type": "stream",
     "text": [
      "INFO:tensorflow:Assets written to: models/iris/iris-functional_api\\assets\n"
     ]
    },
    {
     "name": "stdout",
     "output_type": "stream",
     "text": [
      "1/1 ━━━━━━━━━━━━━━━━━━━━ 6s 6s/step - acc: 0.3810 - loss: 0.4538 - val_acc: 0.1905 - val_loss: 0.4292\n",
      "Epoch 2/20\n",
      "1/1 ━━━━━━━━━━━━━━━━━━━━ 0s 29ms/step - acc: 0.3810 - loss: 0.45 ━━━━━━━━━━━━━━━━━━━━ 0s 67ms/step - acc: 0.3810 - loss: 0.4538 - val_acc: 0.1905 - val_loss: 0.4293\n",
      "Epoch 3/20\n",
      "1/1 ━━━━━━━━━━━━━━━━━━━━ 0s 31ms/step - acc: 0.3810 - loss: 0.45 ━━━━━━━━━━━━━━━━━━━━ 0s 69ms/step - acc: 0.3810 - loss: 0.4537 - val_acc: 0.1905 - val_loss: 0.4294\n",
      "Epoch 4/20\n",
      "1/1 ━━━━━━━━━━━━━━━━━━━━ 0s 20ms/step - acc: 0.3810 - loss: 0.45 ━━━━━━━━━━━━━━━━━━━━ 0s 66ms/step - acc: 0.3810 - loss: 0.4537 - val_acc: 0.1905 - val_loss: 0.4294\n",
      "Epoch 5/20\n",
      "1/1 ━━━━━━━━━━━━━━━━━━━━ 0s 25ms/step - acc: 0.3810 - loss: 0.45 ━━━━━━━━━━━━━━━━━━━━ 0s 63ms/step - acc: 0.3810 - loss: 0.4537 - val_acc: 0.1905 - val_loss: 0.4295\n",
      "Epoch 6/20\n",
      "1/1 ━━━━━━━━━━━━━━━━━━━━ 0s 19ms/step - acc: 0.3810 - loss: 0.45 ━━━━━━━━━━━━━━━━━━━━ 0s 59ms/step - acc: 0.3810 - loss: 0.4537 - val_acc: 0.1905 - val_loss: 0.4296\n",
      "Epoch 7/20\n",
      "1/1 ━━━━━━━━━━━━━━━━━━━━ 0s 28ms/step - acc: 0.3810 - loss: 0.45 ━━━━━━━━━━━━━━━━━━━━ 0s 61ms/step - acc: 0.3810 - loss: 0.4536 - val_acc: 0.1905 - val_loss: 0.4296\n",
      "Epoch 8/20\n",
      "1/1 ━━━━━━━━━━━━━━━━━━━━ 0s 34ms/step - acc: 0.3810 - loss: 0.45 ━━━━━━━━━━━━━━━━━━━━ 0s 84ms/step - acc: 0.3810 - loss: 0.4536 - val_acc: 0.1905 - val_loss: 0.4297\n",
      "Epoch 9/20\n",
      "1/1 ━━━━━━━━━━━━━━━━━━━━ 0s 43ms/step - acc: 0.3810 - loss: 0.45 ━━━━━━━━━━━━━━━━━━━━ 0s 89ms/step - acc: 0.3810 - loss: 0.4536 - val_acc: 0.1905 - val_loss: 0.4297\n",
      "Epoch 10/20\n",
      "1/1 ━━━━━━━━━━━━━━━━━━━━ 0s 27ms/step - acc: 0.3810 - loss: 0.45 ━━━━━━━━━━━━━━━━━━━━ 0s 72ms/step - acc: 0.3810 - loss: 0.4536 - val_acc: 0.1905 - val_loss: 0.4298\n",
      "Epoch 11/20\n",
      "1/1 ━━━━━━━━━━━━━━━━━━━━ 0s 37ms/step - acc: 0.3810 - loss: 0.45 ━━━━━━━━━━━━━━━━━━━━ 0s 73ms/step - acc: 0.3810 - loss: 0.4535 - val_acc: 0.1905 - val_loss: 0.4299\n",
      "Epoch 12/20\n",
      "1/1 ━━━━━━━━━━━━━━━━━━━━ 0s 28ms/step - acc: 0.3810 - loss: 0.45 ━━━━━━━━━━━━━━━━━━━━ 0s 73ms/step - acc: 0.3810 - loss: 0.4535 - val_acc: 0.1905 - val_loss: 0.4299\n",
      "Epoch 13/20\n",
      "1/1 ━━━━━━━━━━━━━━━━━━━━ 0s 28ms/step - acc: 0.3810 - loss: 0.45 ━━━━━━━━━━━━━━━━━━━━ 0s 73ms/step - acc: 0.3810 - loss: 0.4535 - val_acc: 0.1905 - val_loss: 0.4300\n",
      "Epoch 14/20\n",
      "1/1 ━━━━━━━━━━━━━━━━━━━━ 0s 28ms/step - acc: 0.3810 - loss: 0.45 ━━━━━━━━━━━━━━━━━━━━ 0s 60ms/step - acc: 0.3810 - loss: 0.4535 - val_acc: 0.1905 - val_loss: 0.4300\n",
      "Epoch 15/20\n",
      "1/1 ━━━━━━━━━━━━━━━━━━━━ 0s 28ms/step - acc: 0.3810 - loss: 0.45 ━━━━━━━━━━━━━━━━━━━━ 0s 64ms/step - acc: 0.3810 - loss: 0.4534 - val_acc: 0.1905 - val_loss: 0.4301\n",
      "Epoch 16/20\n",
      "1/1 ━━━━━━━━━━━━━━━━━━━━ 0s 26ms/step - acc: 0.3810 - loss: 0.45 ━━━━━━━━━━━━━━━━━━━━ 0s 79ms/step - acc: 0.3810 - loss: 0.4534 - val_acc: 0.1905 - val_loss: 0.4302\n",
      "Epoch 17/20\n",
      "1/1 ━━━━━━━━━━━━━━━━━━━━ 0s 34ms/step - acc: 0.3810 - loss: 0.45 ━━━━━━━━━━━━━━━━━━━━ 0s 79ms/step - acc: 0.3810 - loss: 0.4534 - val_acc: 0.1905 - val_loss: 0.4302\n",
      "Epoch 18/20\n",
      "1/1 ━━━━━━━━━━━━━━━━━━━━ 0s 25ms/step - acc: 0.3810 - loss: 0.45 ━━━━━━━━━━━━━━━━━━━━ 0s 75ms/step - acc: 0.3810 - loss: 0.4533 - val_acc: 0.1905 - val_loss: 0.4303\n",
      "Epoch 19/20\n",
      "1/1 ━━━━━━━━━━━━━━━━━━━━ 0s 23ms/step - acc: 0.3810 - loss: 0.45 ━━━━━━━━━━━━━━━━━━━━ 0s 72ms/step - acc: 0.3810 - loss: 0.4533 - val_acc: 0.1905 - val_loss: 0.4304\n",
      "Epoch 20/20\n",
      "1/1 ━━━━━━━━━━━━━━━━━━━━ 0s 24ms/step - acc: 0.3810 - loss: 0.45 ━━━━━━━━━━━━━━━━━━━━ 0s 74ms/step - acc: 0.3810 - loss: 0.4533 - val_acc: 0.1905 - val_loss: 0.4304\n"
     ]
    },
    {
     "name": "stderr",
     "output_type": "stream",
     "text": [
      "wandb: Adding directory to artifact (.\\models\\iris\\iris-functional_api)... Done. 0.0s\n"
     ]
    },
    {
     "data": {
      "text/html": [
       "<style>\n",
       "    table.wandb td:nth-child(1) { padding: 0 10px; text-align: left ; width: auto;} td:nth-child(2) {text-align: left ; width: 100%}\n",
       "    .wandb-row { display: flex; flex-direction: row; flex-wrap: wrap; justify-content: flex-start; width: 100% }\n",
       "    .wandb-col { display: flex; flex-direction: column; flex-basis: 100%; flex: 1; padding: 10px; }\n",
       "    </style>\n",
       "<div class=\"wandb-row\"><div class=\"wandb-col\"><h3>Run history:</h3><br/><table class=\"wandb\"><tr><td>acc</td><td>▁▁▁▁▁▁▁▁▁▁▁▁▁▁▁▁▁▁▁▁</td></tr><tr><td>loss</td><td>██▇▇▆▆▆▅▅▅▄▄▄▃▃▃▂▂▁▁</td></tr><tr><td>val_acc</td><td>▁▁▁▁▁▁▁▁▁▁▁▁▁▁▁▁▁▁▁▁</td></tr><tr><td>val_loss</td><td>▁▁▂▂▂▃▃▄▄▄▅▅▅▆▆▆▇▇██</td></tr></table><br/></div><div class=\"wandb-col\"><h3>Run summary:</h3><br/><table class=\"wandb\"><tr><td>acc</td><td>0.38095</td></tr><tr><td>loss</td><td>0.45329</td></tr><tr><td>val_acc</td><td>0.19048</td></tr><tr><td>val_loss</td><td>0.43043</td></tr></table><br/></div></div>"
      ],
      "text/plain": [
       "<IPython.core.display.HTML object>"
      ]
     },
     "metadata": {},
     "output_type": "display_data"
    },
    {
     "data": {
      "text/html": [
       " View run <strong style=\"color:#cdcd00\">fresh-sweep-6</strong> at: <a href='https://wandb.ai/praptipatil01/Iris-Species-Classification/runs/4qfait0d' target=\"_blank\">https://wandb.ai/praptipatil01/Iris-Species-Classification/runs/4qfait0d</a><br/> View project at: <a href='https://wandb.ai/praptipatil01/Iris-Species-Classification' target=\"_blank\">https://wandb.ai/praptipatil01/Iris-Species-Classification</a><br/>Synced 5 W&B file(s), 0 media file(s), 5 artifact file(s) and 0 other file(s)"
      ],
      "text/plain": [
       "<IPython.core.display.HTML object>"
      ]
     },
     "metadata": {},
     "output_type": "display_data"
    },
    {
     "data": {
      "text/html": [
       "Find logs at: <code>.\\wandb\\run-20241022_093252-4qfait0d\\logs</code>"
      ],
      "text/plain": [
       "<IPython.core.display.HTML object>"
      ]
     },
     "metadata": {},
     "output_type": "display_data"
    },
    {
     "name": "stderr",
     "output_type": "stream",
     "text": [
      "wandb: Agent Starting Run: vwv1kd7w with config:\n",
      "wandb: \tlearning_rate: 0.0168218854146361\n",
      "wandb: \tnum_blocks: 2\n",
      "wandb: \toptimizer: adam\n",
      "wandb: \tunits_1: 480\n",
      "wandb: \tunits_2: 136\n",
      "wandb: WARNING Ignored wandb.init() arg project when running a sweep.\n"
     ]
    },
    {
     "data": {
      "text/html": [
       "Tracking run with wandb version 0.18.5"
      ],
      "text/plain": [
       "<IPython.core.display.HTML object>"
      ]
     },
     "metadata": {},
     "output_type": "display_data"
    },
    {
     "data": {
      "text/html": [
       "Run data is saved locally in <code>c:\\Users\\prapt\\Desktop\\Deep Learning\\DL_Basics\\TensorFlow in Action\\wandb\\run-20241022_093319-vwv1kd7w</code>"
      ],
      "text/plain": [
       "<IPython.core.display.HTML object>"
      ]
     },
     "metadata": {},
     "output_type": "display_data"
    },
    {
     "data": {
      "text/html": [
       "Syncing run <strong><a href='https://wandb.ai/praptipatil01/Iris-Species-Classification/runs/vwv1kd7w' target=\"_blank\">stoic-sweep-7</a></strong> to <a href='https://wandb.ai/praptipatil01/Iris-Species-Classification' target=\"_blank\">Weights & Biases</a> (<a href='https://wandb.me/run' target=\"_blank\">docs</a>)<br/>Sweep page: <a href='https://wandb.ai/praptipatil01/Iris-Species-Classification/sweeps/9re2wssu' target=\"_blank\">https://wandb.ai/praptipatil01/Iris-Species-Classification/sweeps/9re2wssu</a>"
      ],
      "text/plain": [
       "<IPython.core.display.HTML object>"
      ]
     },
     "metadata": {},
     "output_type": "display_data"
    },
    {
     "data": {
      "text/html": [
       " View project at <a href='https://wandb.ai/praptipatil01/Iris-Species-Classification' target=\"_blank\">https://wandb.ai/praptipatil01/Iris-Species-Classification</a>"
      ],
      "text/plain": [
       "<IPython.core.display.HTML object>"
      ]
     },
     "metadata": {},
     "output_type": "display_data"
    },
    {
     "data": {
      "text/html": [
       " View sweep at <a href='https://wandb.ai/praptipatil01/Iris-Species-Classification/sweeps/9re2wssu' target=\"_blank\">https://wandb.ai/praptipatil01/Iris-Species-Classification/sweeps/9re2wssu</a>"
      ],
      "text/plain": [
       "<IPython.core.display.HTML object>"
      ]
     },
     "metadata": {},
     "output_type": "display_data"
    },
    {
     "data": {
      "text/html": [
       " View run at <a href='https://wandb.ai/praptipatil01/Iris-Species-Classification/runs/vwv1kd7w' target=\"_blank\">https://wandb.ai/praptipatil01/Iris-Species-Classification/runs/vwv1kd7w</a>"
      ],
      "text/plain": [
       "<IPython.core.display.HTML object>"
      ]
     },
     "metadata": {},
     "output_type": "display_data"
    },
    {
     "name": "stderr",
     "output_type": "stream",
     "text": [
      "[D 241022 09:33:20 1443250203:23] Number of records: Train -  84, Val - 21\n"
     ]
    },
    {
     "data": {
      "text/html": [
       "<pre style=\"white-space:pre;overflow-x:auto;line-height:normal;font-family:Menlo,'DejaVu Sans Mono',consolas,'Courier New',monospace\"><span style=\"font-weight: bold\">Model: \"iris_subclassed\"</span>\n",
       "</pre>\n"
      ],
      "text/plain": [
       "\u001b[1mModel: \"iris_subclassed\"\u001b[0m\n"
      ]
     },
     "metadata": {},
     "output_type": "display_data"
    },
    {
     "data": {
      "text/html": [
       "<pre style=\"white-space:pre;overflow-x:auto;line-height:normal;font-family:Menlo,'DejaVu Sans Mono',consolas,'Courier New',monospace\">┏━━━━━━━━━━━━━━━━━━━━━━━━━━━━━━━━━┳━━━━━━━━━━━━━━━━━━━━━━━━┳━━━━━━━━━━━━━━━┓\n",
       "┃<span style=\"font-weight: bold\"> Layer (type)                    </span>┃<span style=\"font-weight: bold\"> Output Shape           </span>┃<span style=\"font-weight: bold\">       Param # </span>┃\n",
       "┡━━━━━━━━━━━━━━━━━━━━━━━━━━━━━━━━━╇━━━━━━━━━━━━━━━━━━━━━━━━╇━━━━━━━━━━━━━━━┩\n",
       "│ input_layer (<span style=\"color: #0087ff; text-decoration-color: #0087ff\">InputLayer</span>)        │ (<span style=\"color: #00d7ff; text-decoration-color: #00d7ff\">None</span>, <span style=\"color: #00af00; text-decoration-color: #00af00\">4</span>)              │             <span style=\"color: #00af00; text-decoration-color: #00af00\">0</span> │\n",
       "├─────────────────────────────────┼────────────────────────┼───────────────┤\n",
       "│ mul_bias_dense (<span style=\"color: #0087ff; text-decoration-color: #0087ff\">MulBiasDense</span>)   │ (<span style=\"color: #00d7ff; text-decoration-color: #00d7ff\">None</span>, <span style=\"color: #00af00; text-decoration-color: #00af00\">480</span>)            │         <span style=\"color: #00af00; text-decoration-color: #00af00\">2,880</span> │\n",
       "├─────────────────────────────────┼────────────────────────┼───────────────┤\n",
       "│ mul_bias_dense_1 (<span style=\"color: #0087ff; text-decoration-color: #0087ff\">MulBiasDense</span>) │ (<span style=\"color: #00d7ff; text-decoration-color: #00d7ff\">None</span>, <span style=\"color: #00af00; text-decoration-color: #00af00\">136</span>)            │        <span style=\"color: #00af00; text-decoration-color: #00af00\">65,552</span> │\n",
       "├─────────────────────────────────┼────────────────────────┼───────────────┤\n",
       "│ mul_bias_dense_2 (<span style=\"color: #0087ff; text-decoration-color: #0087ff\">MulBiasDense</span>) │ (<span style=\"color: #00d7ff; text-decoration-color: #00d7ff\">None</span>, <span style=\"color: #00af00; text-decoration-color: #00af00\">480</span>)            │        <span style=\"color: #00af00; text-decoration-color: #00af00\">66,240</span> │\n",
       "├─────────────────────────────────┼────────────────────────┼───────────────┤\n",
       "│ mul_bias_dense_3 (<span style=\"color: #0087ff; text-decoration-color: #0087ff\">MulBiasDense</span>) │ (<span style=\"color: #00d7ff; text-decoration-color: #00d7ff\">None</span>, <span style=\"color: #00af00; text-decoration-color: #00af00\">136</span>)            │        <span style=\"color: #00af00; text-decoration-color: #00af00\">65,552</span> │\n",
       "├─────────────────────────────────┼────────────────────────┼───────────────┤\n",
       "│ dense (<span style=\"color: #0087ff; text-decoration-color: #0087ff\">Dense</span>)                   │ (<span style=\"color: #00d7ff; text-decoration-color: #00d7ff\">None</span>, <span style=\"color: #00af00; text-decoration-color: #00af00\">2</span>)              │           <span style=\"color: #00af00; text-decoration-color: #00af00\">274</span> │\n",
       "└─────────────────────────────────┴────────────────────────┴───────────────┘\n",
       "</pre>\n"
      ],
      "text/plain": [
       "┏━━━━━━━━━━━━━━━━━━━━━━━━━━━━━━━━━┳━━━━━━━━━━━━━━━━━━━━━━━━┳━━━━━━━━━━━━━━━┓\n",
       "┃\u001b[1m \u001b[0m\u001b[1mLayer (type)                   \u001b[0m\u001b[1m \u001b[0m┃\u001b[1m \u001b[0m\u001b[1mOutput Shape          \u001b[0m\u001b[1m \u001b[0m┃\u001b[1m \u001b[0m\u001b[1m      Param #\u001b[0m\u001b[1m \u001b[0m┃\n",
       "┡━━━━━━━━━━━━━━━━━━━━━━━━━━━━━━━━━╇━━━━━━━━━━━━━━━━━━━━━━━━╇━━━━━━━━━━━━━━━┩\n",
       "│ input_layer (\u001b[38;5;33mInputLayer\u001b[0m)        │ (\u001b[38;5;45mNone\u001b[0m, \u001b[38;5;34m4\u001b[0m)              │             \u001b[38;5;34m0\u001b[0m │\n",
       "├─────────────────────────────────┼────────────────────────┼───────────────┤\n",
       "│ mul_bias_dense (\u001b[38;5;33mMulBiasDense\u001b[0m)   │ (\u001b[38;5;45mNone\u001b[0m, \u001b[38;5;34m480\u001b[0m)            │         \u001b[38;5;34m2,880\u001b[0m │\n",
       "├─────────────────────────────────┼────────────────────────┼───────────────┤\n",
       "│ mul_bias_dense_1 (\u001b[38;5;33mMulBiasDense\u001b[0m) │ (\u001b[38;5;45mNone\u001b[0m, \u001b[38;5;34m136\u001b[0m)            │        \u001b[38;5;34m65,552\u001b[0m │\n",
       "├─────────────────────────────────┼────────────────────────┼───────────────┤\n",
       "│ mul_bias_dense_2 (\u001b[38;5;33mMulBiasDense\u001b[0m) │ (\u001b[38;5;45mNone\u001b[0m, \u001b[38;5;34m480\u001b[0m)            │        \u001b[38;5;34m66,240\u001b[0m │\n",
       "├─────────────────────────────────┼────────────────────────┼───────────────┤\n",
       "│ mul_bias_dense_3 (\u001b[38;5;33mMulBiasDense\u001b[0m) │ (\u001b[38;5;45mNone\u001b[0m, \u001b[38;5;34m136\u001b[0m)            │        \u001b[38;5;34m65,552\u001b[0m │\n",
       "├─────────────────────────────────┼────────────────────────┼───────────────┤\n",
       "│ dense (\u001b[38;5;33mDense\u001b[0m)                   │ (\u001b[38;5;45mNone\u001b[0m, \u001b[38;5;34m2\u001b[0m)              │           \u001b[38;5;34m274\u001b[0m │\n",
       "└─────────────────────────────────┴────────────────────────┴───────────────┘\n"
      ]
     },
     "metadata": {},
     "output_type": "display_data"
    },
    {
     "data": {
      "text/html": [
       "<pre style=\"white-space:pre;overflow-x:auto;line-height:normal;font-family:Menlo,'DejaVu Sans Mono',consolas,'Courier New',monospace\"><span style=\"font-weight: bold\"> Total params: </span><span style=\"color: #00af00; text-decoration-color: #00af00\">200,498</span> (783.20 KB)\n",
       "</pre>\n"
      ],
      "text/plain": [
       "\u001b[1m Total params: \u001b[0m\u001b[38;5;34m200,498\u001b[0m (783.20 KB)\n"
      ]
     },
     "metadata": {},
     "output_type": "display_data"
    },
    {
     "data": {
      "text/html": [
       "<pre style=\"white-space:pre;overflow-x:auto;line-height:normal;font-family:Menlo,'DejaVu Sans Mono',consolas,'Courier New',monospace\"><span style=\"font-weight: bold\"> Trainable params: </span><span style=\"color: #00af00; text-decoration-color: #00af00\">200,498</span> (783.20 KB)\n",
       "</pre>\n"
      ],
      "text/plain": [
       "\u001b[1m Trainable params: \u001b[0m\u001b[38;5;34m200,498\u001b[0m (783.20 KB)\n"
      ]
     },
     "metadata": {},
     "output_type": "display_data"
    },
    {
     "data": {
      "text/html": [
       "<pre style=\"white-space:pre;overflow-x:auto;line-height:normal;font-family:Menlo,'DejaVu Sans Mono',consolas,'Courier New',monospace\"><span style=\"font-weight: bold\"> Non-trainable params: </span><span style=\"color: #00af00; text-decoration-color: #00af00\">0</span> (0.00 B)\n",
       "</pre>\n"
      ],
      "text/plain": [
       "\u001b[1m Non-trainable params: \u001b[0m\u001b[38;5;34m0\u001b[0m (0.00 B)\n"
      ]
     },
     "metadata": {},
     "output_type": "display_data"
    },
    {
     "name": "stderr",
     "output_type": "stream",
     "text": [
      "[D 241022 09:33:21 1443250203:29] Model_name: iris_subclassed\n"
     ]
    },
    {
     "name": "stdout",
     "output_type": "stream",
     "text": [
      "Epoch 1/20\n",
      "1/1 ━━━━━━━━━━━━━━━━━━━━ 0s 2s/step - acc: 0.6190 - loss: 0.4540INFO:tensorflow:Assets written to: models/iris/iris-functional_api\\assets\n"
     ]
    },
    {
     "name": "stderr",
     "output_type": "stream",
     "text": [
      "INFO:tensorflow:Assets written to: models/iris/iris-functional_api\\assets\n"
     ]
    },
    {
     "name": "stdout",
     "output_type": "stream",
     "text": [
      "1/1 ━━━━━━━━━━━━━━━━━━━━ 3s 3s/step - acc: 0.6190 - loss: 0.4540 - val_acc: 0.8095 - val_loss: 0.4289\n",
      "Epoch 2/20\n",
      "1/1 ━━━━━━━━━━━━━━━━━━━━ 0s 30ms/step - acc: 0.6190 - loss: 0.45 ━━━━━━━━━━━━━━━━━━━━ 0s 64ms/step - acc: 0.6190 - loss: 0.4539 - val_acc: 0.8095 - val_loss: 0.4289\n",
      "Epoch 3/20\n",
      "1/1 ━━━━━━━━━━━━━━━━━━━━ 0s 29ms/step - acc: 0.6190 - loss: 0.45 ━━━━━━━━━━━━━━━━━━━━ 0s 61ms/step - acc: 0.6190 - loss: 0.4539 - val_acc: 0.8095 - val_loss: 0.4289\n",
      "Epoch 4/20\n",
      "1/1 ━━━━━━━━━━━━━━━━━━━━ 0s 24ms/step - acc: 0.6190 - loss: 0.45 ━━━━━━━━━━━━━━━━━━━━ 0s 59ms/step - acc: 0.6190 - loss: 0.4539 - val_acc: 0.8095 - val_loss: 0.4290\n",
      "Epoch 5/20\n",
      "1/1 ━━━━━━━━━━━━━━━━━━━━ 0s 19ms/step - acc: 0.6190 - loss: 0.45 ━━━━━━━━━━━━━━━━━━━━ 0s 61ms/step - acc: 0.6190 - loss: 0.4539 - val_acc: 0.8095 - val_loss: 0.4290\n",
      "Epoch 6/20\n",
      "1/1 ━━━━━━━━━━━━━━━━━━━━ 0s 32ms/step - acc: 0.6190 - loss: 0.45 ━━━━━━━━━━━━━━━━━━━━ 0s 65ms/step - acc: 0.6190 - loss: 0.4539 - val_acc: 0.8095 - val_loss: 0.4290\n",
      "Epoch 7/20\n",
      "1/1 ━━━━━━━━━━━━━━━━━━━━ 0s 35ms/step - acc: 0.6190 - loss: 0.45 ━━━━━━━━━━━━━━━━━━━━ 0s 69ms/step - acc: 0.6190 - loss: 0.4539 - val_acc: 0.8095 - val_loss: 0.4291\n",
      "Epoch 8/20\n",
      "1/1 ━━━━━━━━━━━━━━━━━━━━ 0s 34ms/step - acc: 0.6190 - loss: 0.45 ━━━━━━━━━━━━━━━━━━━━ 0s 65ms/step - acc: 0.6190 - loss: 0.4539 - val_acc: 0.8095 - val_loss: 0.4291\n",
      "Epoch 9/20\n",
      "1/1 ━━━━━━━━━━━━━━━━━━━━ 0s 19ms/step - acc: 0.6190 - loss: 0.45 ━━━━━━━━━━━━━━━━━━━━ 0s 59ms/step - acc: 0.6190 - loss: 0.4538 - val_acc: 0.1905 - val_loss: 0.4291\n",
      "Epoch 10/20\n",
      "1/1 ━━━━━━━━━━━━━━━━━━━━ 0s 20ms/step - acc: 0.3810 - loss: 0.45 ━━━━━━━━━━━━━━━━━━━━ 0s 55ms/step - acc: 0.3810 - loss: 0.4538 - val_acc: 0.1905 - val_loss: 0.4292\n",
      "Epoch 11/20\n",
      "1/1 ━━━━━━━━━━━━━━━━━━━━ 0s 31ms/step - acc: 0.3810 - loss: 0.45 ━━━━━━━━━━━━━━━━━━━━ 0s 58ms/step - acc: 0.3810 - loss: 0.4538 - val_acc: 0.1905 - val_loss: 0.4292\n",
      "Epoch 12/20\n",
      "1/1 ━━━━━━━━━━━━━━━━━━━━ 0s 36ms/step - acc: 0.3810 - loss: 0.45 ━━━━━━━━━━━━━━━━━━━━ 0s 98ms/step - acc: 0.3810 - loss: 0.4538 - val_acc: 0.1905 - val_loss: 0.4292\n",
      "Epoch 13/20\n",
      "1/1 ━━━━━━━━━━━━━━━━━━━━ 0s 36ms/step - acc: 0.3810 - loss: 0.45 ━━━━━━━━━━━━━━━━━━━━ 0s 76ms/step - acc: 0.3810 - loss: 0.4538 - val_acc: 0.1905 - val_loss: 0.4293\n",
      "Epoch 14/20\n",
      "1/1 ━━━━━━━━━━━━━━━━━━━━ 0s 31ms/step - acc: 0.3810 - loss: 0.45 ━━━━━━━━━━━━━━━━━━━━ 0s 67ms/step - acc: 0.3810 - loss: 0.4538 - val_acc: 0.1905 - val_loss: 0.4293\n",
      "Epoch 15/20\n",
      "1/1 ━━━━━━━━━━━━━━━━━━━━ 0s 22ms/step - acc: 0.3810 - loss: 0.45 ━━━━━━━━━━━━━━━━━━━━ 0s 67ms/step - acc: 0.3810 - loss: 0.4538 - val_acc: 0.1905 - val_loss: 0.4293\n",
      "Epoch 16/20\n",
      "1/1 ━━━━━━━━━━━━━━━━━━━━ 0s 34ms/step - acc: 0.3810 - loss: 0.45 ━━━━━━━━━━━━━━━━━━━━ 0s 70ms/step - acc: 0.3810 - loss: 0.4537 - val_acc: 0.1905 - val_loss: 0.4294\n",
      "Epoch 17/20\n",
      "1/1 ━━━━━━━━━━━━━━━━━━━━ 0s 39ms/step - acc: 0.3810 - loss: 0.45 ━━━━━━━━━━━━━━━━━━━━ 0s 78ms/step - acc: 0.3810 - loss: 0.4537 - val_acc: 0.1905 - val_loss: 0.4294\n",
      "Epoch 18/20\n",
      "1/1 ━━━━━━━━━━━━━━━━━━━━ 0s 38ms/step - acc: 0.3810 - loss: 0.45 ━━━━━━━━━━━━━━━━━━━━ 0s 83ms/step - acc: 0.3810 - loss: 0.4537 - val_acc: 0.1905 - val_loss: 0.4294\n",
      "Epoch 19/20\n",
      "1/1 ━━━━━━━━━━━━━━━━━━━━ 0s 35ms/step - acc: 0.3810 - loss: 0.45 ━━━━━━━━━━━━━━━━━━━━ 0s 71ms/step - acc: 0.3810 - loss: 0.4537 - val_acc: 0.1905 - val_loss: 0.4295\n",
      "Epoch 20/20\n",
      "1/1 ━━━━━━━━━━━━━━━━━━━━ 0s 26ms/step - acc: 0.3810 - loss: 0.45 ━━━━━━━━━━━━━━━━━━━━ 0s 68ms/step - acc: 0.3810 - loss: 0.4537 - val_acc: 0.1905 - val_loss: 0.4295\n"
     ]
    },
    {
     "name": "stderr",
     "output_type": "stream",
     "text": [
      "wandb: Adding directory to artifact (.\\models\\iris\\iris-functional_api)... Done. 0.0s\n"
     ]
    },
    {
     "data": {
      "text/html": [
       "<style>\n",
       "    table.wandb td:nth-child(1) { padding: 0 10px; text-align: left ; width: auto;} td:nth-child(2) {text-align: left ; width: 100%}\n",
       "    .wandb-row { display: flex; flex-direction: row; flex-wrap: wrap; justify-content: flex-start; width: 100% }\n",
       "    .wandb-col { display: flex; flex-direction: column; flex-basis: 100%; flex: 1; padding: 10px; }\n",
       "    </style>\n",
       "<div class=\"wandb-row\"><div class=\"wandb-col\"><h3>Run history:</h3><br/><table class=\"wandb\"><tr><td>acc</td><td>█████████▁▁▁▁▁▁▁▁▁▁▁</td></tr><tr><td>loss</td><td>██▇▇▇▆▆▆▅▅▅▄▄▃▃▃▂▂▁▁</td></tr><tr><td>val_acc</td><td>████████▁▁▁▁▁▁▁▁▁▁▁▁</td></tr><tr><td>val_loss</td><td>▁▁▂▂▂▃▃▃▄▄▄▅▅▅▆▆▇▇██</td></tr></table><br/></div><div class=\"wandb-col\"><h3>Run summary:</h3><br/><table class=\"wandb\"><tr><td>acc</td><td>0.38095</td></tr><tr><td>loss</td><td>0.45367</td></tr><tr><td>val_acc</td><td>0.19048</td></tr><tr><td>val_loss</td><td>0.42954</td></tr></table><br/></div></div>"
      ],
      "text/plain": [
       "<IPython.core.display.HTML object>"
      ]
     },
     "metadata": {},
     "output_type": "display_data"
    },
    {
     "data": {
      "text/html": [
       " View run <strong style=\"color:#cdcd00\">stoic-sweep-7</strong> at: <a href='https://wandb.ai/praptipatil01/Iris-Species-Classification/runs/vwv1kd7w' target=\"_blank\">https://wandb.ai/praptipatil01/Iris-Species-Classification/runs/vwv1kd7w</a><br/> View project at: <a href='https://wandb.ai/praptipatil01/Iris-Species-Classification' target=\"_blank\">https://wandb.ai/praptipatil01/Iris-Species-Classification</a><br/>Synced 5 W&B file(s), 0 media file(s), 5 artifact file(s) and 0 other file(s)"
      ],
      "text/plain": [
       "<IPython.core.display.HTML object>"
      ]
     },
     "metadata": {},
     "output_type": "display_data"
    },
    {
     "data": {
      "text/html": [
       "Find logs at: <code>.\\wandb\\run-20241022_093319-vwv1kd7w\\logs</code>"
      ],
      "text/plain": [
       "<IPython.core.display.HTML object>"
      ]
     },
     "metadata": {},
     "output_type": "display_data"
    },
    {
     "name": "stderr",
     "output_type": "stream",
     "text": [
      "wandb: Agent Starting Run: w2kqpmt9 with config:\n",
      "wandb: \tlearning_rate: 0.05279934695865485\n",
      "wandb: \tnum_blocks: 5\n",
      "wandb: \toptimizer: adam\n",
      "wandb: \tunits_1: 384\n",
      "wandb: \tunits_2: 136\n",
      "wandb: WARNING Ignored wandb.init() arg project when running a sweep.\n"
     ]
    },
    {
     "data": {
      "text/html": [
       "Tracking run with wandb version 0.18.5"
      ],
      "text/plain": [
       "<IPython.core.display.HTML object>"
      ]
     },
     "metadata": {},
     "output_type": "display_data"
    },
    {
     "data": {
      "text/html": [
       "Run data is saved locally in <code>c:\\Users\\prapt\\Desktop\\Deep Learning\\DL_Basics\\TensorFlow in Action\\wandb\\run-20241022_093341-w2kqpmt9</code>"
      ],
      "text/plain": [
       "<IPython.core.display.HTML object>"
      ]
     },
     "metadata": {},
     "output_type": "display_data"
    },
    {
     "data": {
      "text/html": [
       "Syncing run <strong><a href='https://wandb.ai/praptipatil01/Iris-Species-Classification/runs/w2kqpmt9' target=\"_blank\">zany-sweep-8</a></strong> to <a href='https://wandb.ai/praptipatil01/Iris-Species-Classification' target=\"_blank\">Weights & Biases</a> (<a href='https://wandb.me/run' target=\"_blank\">docs</a>)<br/>Sweep page: <a href='https://wandb.ai/praptipatil01/Iris-Species-Classification/sweeps/9re2wssu' target=\"_blank\">https://wandb.ai/praptipatil01/Iris-Species-Classification/sweeps/9re2wssu</a>"
      ],
      "text/plain": [
       "<IPython.core.display.HTML object>"
      ]
     },
     "metadata": {},
     "output_type": "display_data"
    },
    {
     "data": {
      "text/html": [
       " View project at <a href='https://wandb.ai/praptipatil01/Iris-Species-Classification' target=\"_blank\">https://wandb.ai/praptipatil01/Iris-Species-Classification</a>"
      ],
      "text/plain": [
       "<IPython.core.display.HTML object>"
      ]
     },
     "metadata": {},
     "output_type": "display_data"
    },
    {
     "data": {
      "text/html": [
       " View sweep at <a href='https://wandb.ai/praptipatil01/Iris-Species-Classification/sweeps/9re2wssu' target=\"_blank\">https://wandb.ai/praptipatil01/Iris-Species-Classification/sweeps/9re2wssu</a>"
      ],
      "text/plain": [
       "<IPython.core.display.HTML object>"
      ]
     },
     "metadata": {},
     "output_type": "display_data"
    },
    {
     "data": {
      "text/html": [
       " View run at <a href='https://wandb.ai/praptipatil01/Iris-Species-Classification/runs/w2kqpmt9' target=\"_blank\">https://wandb.ai/praptipatil01/Iris-Species-Classification/runs/w2kqpmt9</a>"
      ],
      "text/plain": [
       "<IPython.core.display.HTML object>"
      ]
     },
     "metadata": {},
     "output_type": "display_data"
    },
    {
     "name": "stderr",
     "output_type": "stream",
     "text": [
      "[D 241022 09:33:42 1443250203:23] Number of records: Train -  84, Val - 21\n"
     ]
    },
    {
     "data": {
      "text/html": [
       "<pre style=\"white-space:pre;overflow-x:auto;line-height:normal;font-family:Menlo,'DejaVu Sans Mono',consolas,'Courier New',monospace\"><span style=\"font-weight: bold\">Model: \"iris_subclassed\"</span>\n",
       "</pre>\n"
      ],
      "text/plain": [
       "\u001b[1mModel: \"iris_subclassed\"\u001b[0m\n"
      ]
     },
     "metadata": {},
     "output_type": "display_data"
    },
    {
     "data": {
      "text/html": [
       "<pre style=\"white-space:pre;overflow-x:auto;line-height:normal;font-family:Menlo,'DejaVu Sans Mono',consolas,'Courier New',monospace\">┏━━━━━━━━━━━━━━━━━━━━━━━━━━━━━━━━━┳━━━━━━━━━━━━━━━━━━━━━━━━┳━━━━━━━━━━━━━━━┓\n",
       "┃<span style=\"font-weight: bold\"> Layer (type)                    </span>┃<span style=\"font-weight: bold\"> Output Shape           </span>┃<span style=\"font-weight: bold\">       Param # </span>┃\n",
       "┡━━━━━━━━━━━━━━━━━━━━━━━━━━━━━━━━━╇━━━━━━━━━━━━━━━━━━━━━━━━╇━━━━━━━━━━━━━━━┩\n",
       "│ input_layer (<span style=\"color: #0087ff; text-decoration-color: #0087ff\">InputLayer</span>)        │ (<span style=\"color: #00d7ff; text-decoration-color: #00d7ff\">None</span>, <span style=\"color: #00af00; text-decoration-color: #00af00\">4</span>)              │             <span style=\"color: #00af00; text-decoration-color: #00af00\">0</span> │\n",
       "├─────────────────────────────────┼────────────────────────┼───────────────┤\n",
       "│ mul_bias_dense (<span style=\"color: #0087ff; text-decoration-color: #0087ff\">MulBiasDense</span>)   │ (<span style=\"color: #00d7ff; text-decoration-color: #00d7ff\">None</span>, <span style=\"color: #00af00; text-decoration-color: #00af00\">384</span>)            │         <span style=\"color: #00af00; text-decoration-color: #00af00\">2,304</span> │\n",
       "├─────────────────────────────────┼────────────────────────┼───────────────┤\n",
       "│ mul_bias_dense_1 (<span style=\"color: #0087ff; text-decoration-color: #0087ff\">MulBiasDense</span>) │ (<span style=\"color: #00d7ff; text-decoration-color: #00d7ff\">None</span>, <span style=\"color: #00af00; text-decoration-color: #00af00\">136</span>)            │        <span style=\"color: #00af00; text-decoration-color: #00af00\">52,496</span> │\n",
       "├─────────────────────────────────┼────────────────────────┼───────────────┤\n",
       "│ mul_bias_dense_2 (<span style=\"color: #0087ff; text-decoration-color: #0087ff\">MulBiasDense</span>) │ (<span style=\"color: #00d7ff; text-decoration-color: #00d7ff\">None</span>, <span style=\"color: #00af00; text-decoration-color: #00af00\">384</span>)            │        <span style=\"color: #00af00; text-decoration-color: #00af00\">52,992</span> │\n",
       "├─────────────────────────────────┼────────────────────────┼───────────────┤\n",
       "│ mul_bias_dense_3 (<span style=\"color: #0087ff; text-decoration-color: #0087ff\">MulBiasDense</span>) │ (<span style=\"color: #00d7ff; text-decoration-color: #00d7ff\">None</span>, <span style=\"color: #00af00; text-decoration-color: #00af00\">136</span>)            │        <span style=\"color: #00af00; text-decoration-color: #00af00\">52,496</span> │\n",
       "├─────────────────────────────────┼────────────────────────┼───────────────┤\n",
       "│ mul_bias_dense_4 (<span style=\"color: #0087ff; text-decoration-color: #0087ff\">MulBiasDense</span>) │ (<span style=\"color: #00d7ff; text-decoration-color: #00d7ff\">None</span>, <span style=\"color: #00af00; text-decoration-color: #00af00\">384</span>)            │        <span style=\"color: #00af00; text-decoration-color: #00af00\">52,992</span> │\n",
       "├─────────────────────────────────┼────────────────────────┼───────────────┤\n",
       "│ mul_bias_dense_5 (<span style=\"color: #0087ff; text-decoration-color: #0087ff\">MulBiasDense</span>) │ (<span style=\"color: #00d7ff; text-decoration-color: #00d7ff\">None</span>, <span style=\"color: #00af00; text-decoration-color: #00af00\">136</span>)            │        <span style=\"color: #00af00; text-decoration-color: #00af00\">52,496</span> │\n",
       "├─────────────────────────────────┼────────────────────────┼───────────────┤\n",
       "│ mul_bias_dense_6 (<span style=\"color: #0087ff; text-decoration-color: #0087ff\">MulBiasDense</span>) │ (<span style=\"color: #00d7ff; text-decoration-color: #00d7ff\">None</span>, <span style=\"color: #00af00; text-decoration-color: #00af00\">384</span>)            │        <span style=\"color: #00af00; text-decoration-color: #00af00\">52,992</span> │\n",
       "├─────────────────────────────────┼────────────────────────┼───────────────┤\n",
       "│ mul_bias_dense_7 (<span style=\"color: #0087ff; text-decoration-color: #0087ff\">MulBiasDense</span>) │ (<span style=\"color: #00d7ff; text-decoration-color: #00d7ff\">None</span>, <span style=\"color: #00af00; text-decoration-color: #00af00\">136</span>)            │        <span style=\"color: #00af00; text-decoration-color: #00af00\">52,496</span> │\n",
       "├─────────────────────────────────┼────────────────────────┼───────────────┤\n",
       "│ mul_bias_dense_8 (<span style=\"color: #0087ff; text-decoration-color: #0087ff\">MulBiasDense</span>) │ (<span style=\"color: #00d7ff; text-decoration-color: #00d7ff\">None</span>, <span style=\"color: #00af00; text-decoration-color: #00af00\">384</span>)            │        <span style=\"color: #00af00; text-decoration-color: #00af00\">52,992</span> │\n",
       "├─────────────────────────────────┼────────────────────────┼───────────────┤\n",
       "│ mul_bias_dense_9 (<span style=\"color: #0087ff; text-decoration-color: #0087ff\">MulBiasDense</span>) │ (<span style=\"color: #00d7ff; text-decoration-color: #00d7ff\">None</span>, <span style=\"color: #00af00; text-decoration-color: #00af00\">136</span>)            │        <span style=\"color: #00af00; text-decoration-color: #00af00\">52,496</span> │\n",
       "├─────────────────────────────────┼────────────────────────┼───────────────┤\n",
       "│ dense (<span style=\"color: #0087ff; text-decoration-color: #0087ff\">Dense</span>)                   │ (<span style=\"color: #00d7ff; text-decoration-color: #00d7ff\">None</span>, <span style=\"color: #00af00; text-decoration-color: #00af00\">2</span>)              │           <span style=\"color: #00af00; text-decoration-color: #00af00\">274</span> │\n",
       "└─────────────────────────────────┴────────────────────────┴───────────────┘\n",
       "</pre>\n"
      ],
      "text/plain": [
       "┏━━━━━━━━━━━━━━━━━━━━━━━━━━━━━━━━━┳━━━━━━━━━━━━━━━━━━━━━━━━┳━━━━━━━━━━━━━━━┓\n",
       "┃\u001b[1m \u001b[0m\u001b[1mLayer (type)                   \u001b[0m\u001b[1m \u001b[0m┃\u001b[1m \u001b[0m\u001b[1mOutput Shape          \u001b[0m\u001b[1m \u001b[0m┃\u001b[1m \u001b[0m\u001b[1m      Param #\u001b[0m\u001b[1m \u001b[0m┃\n",
       "┡━━━━━━━━━━━━━━━━━━━━━━━━━━━━━━━━━╇━━━━━━━━━━━━━━━━━━━━━━━━╇━━━━━━━━━━━━━━━┩\n",
       "│ input_layer (\u001b[38;5;33mInputLayer\u001b[0m)        │ (\u001b[38;5;45mNone\u001b[0m, \u001b[38;5;34m4\u001b[0m)              │             \u001b[38;5;34m0\u001b[0m │\n",
       "├─────────────────────────────────┼────────────────────────┼───────────────┤\n",
       "│ mul_bias_dense (\u001b[38;5;33mMulBiasDense\u001b[0m)   │ (\u001b[38;5;45mNone\u001b[0m, \u001b[38;5;34m384\u001b[0m)            │         \u001b[38;5;34m2,304\u001b[0m │\n",
       "├─────────────────────────────────┼────────────────────────┼───────────────┤\n",
       "│ mul_bias_dense_1 (\u001b[38;5;33mMulBiasDense\u001b[0m) │ (\u001b[38;5;45mNone\u001b[0m, \u001b[38;5;34m136\u001b[0m)            │        \u001b[38;5;34m52,496\u001b[0m │\n",
       "├─────────────────────────────────┼────────────────────────┼───────────────┤\n",
       "│ mul_bias_dense_2 (\u001b[38;5;33mMulBiasDense\u001b[0m) │ (\u001b[38;5;45mNone\u001b[0m, \u001b[38;5;34m384\u001b[0m)            │        \u001b[38;5;34m52,992\u001b[0m │\n",
       "├─────────────────────────────────┼────────────────────────┼───────────────┤\n",
       "│ mul_bias_dense_3 (\u001b[38;5;33mMulBiasDense\u001b[0m) │ (\u001b[38;5;45mNone\u001b[0m, \u001b[38;5;34m136\u001b[0m)            │        \u001b[38;5;34m52,496\u001b[0m │\n",
       "├─────────────────────────────────┼────────────────────────┼───────────────┤\n",
       "│ mul_bias_dense_4 (\u001b[38;5;33mMulBiasDense\u001b[0m) │ (\u001b[38;5;45mNone\u001b[0m, \u001b[38;5;34m384\u001b[0m)            │        \u001b[38;5;34m52,992\u001b[0m │\n",
       "├─────────────────────────────────┼────────────────────────┼───────────────┤\n",
       "│ mul_bias_dense_5 (\u001b[38;5;33mMulBiasDense\u001b[0m) │ (\u001b[38;5;45mNone\u001b[0m, \u001b[38;5;34m136\u001b[0m)            │        \u001b[38;5;34m52,496\u001b[0m │\n",
       "├─────────────────────────────────┼────────────────────────┼───────────────┤\n",
       "│ mul_bias_dense_6 (\u001b[38;5;33mMulBiasDense\u001b[0m) │ (\u001b[38;5;45mNone\u001b[0m, \u001b[38;5;34m384\u001b[0m)            │        \u001b[38;5;34m52,992\u001b[0m │\n",
       "├─────────────────────────────────┼────────────────────────┼───────────────┤\n",
       "│ mul_bias_dense_7 (\u001b[38;5;33mMulBiasDense\u001b[0m) │ (\u001b[38;5;45mNone\u001b[0m, \u001b[38;5;34m136\u001b[0m)            │        \u001b[38;5;34m52,496\u001b[0m │\n",
       "├─────────────────────────────────┼────────────────────────┼───────────────┤\n",
       "│ mul_bias_dense_8 (\u001b[38;5;33mMulBiasDense\u001b[0m) │ (\u001b[38;5;45mNone\u001b[0m, \u001b[38;5;34m384\u001b[0m)            │        \u001b[38;5;34m52,992\u001b[0m │\n",
       "├─────────────────────────────────┼────────────────────────┼───────────────┤\n",
       "│ mul_bias_dense_9 (\u001b[38;5;33mMulBiasDense\u001b[0m) │ (\u001b[38;5;45mNone\u001b[0m, \u001b[38;5;34m136\u001b[0m)            │        \u001b[38;5;34m52,496\u001b[0m │\n",
       "├─────────────────────────────────┼────────────────────────┼───────────────┤\n",
       "│ dense (\u001b[38;5;33mDense\u001b[0m)                   │ (\u001b[38;5;45mNone\u001b[0m, \u001b[38;5;34m2\u001b[0m)              │           \u001b[38;5;34m274\u001b[0m │\n",
       "└─────────────────────────────────┴────────────────────────┴───────────────┘\n"
      ]
     },
     "metadata": {},
     "output_type": "display_data"
    },
    {
     "data": {
      "text/html": [
       "<pre style=\"white-space:pre;overflow-x:auto;line-height:normal;font-family:Menlo,'DejaVu Sans Mono',consolas,'Courier New',monospace\"><span style=\"font-weight: bold\"> Total params: </span><span style=\"color: #00af00; text-decoration-color: #00af00\">477,026</span> (1.82 MB)\n",
       "</pre>\n"
      ],
      "text/plain": [
       "\u001b[1m Total params: \u001b[0m\u001b[38;5;34m477,026\u001b[0m (1.82 MB)\n"
      ]
     },
     "metadata": {},
     "output_type": "display_data"
    },
    {
     "data": {
      "text/html": [
       "<pre style=\"white-space:pre;overflow-x:auto;line-height:normal;font-family:Menlo,'DejaVu Sans Mono',consolas,'Courier New',monospace\"><span style=\"font-weight: bold\"> Trainable params: </span><span style=\"color: #00af00; text-decoration-color: #00af00\">477,026</span> (1.82 MB)\n",
       "</pre>\n"
      ],
      "text/plain": [
       "\u001b[1m Trainable params: \u001b[0m\u001b[38;5;34m477,026\u001b[0m (1.82 MB)\n"
      ]
     },
     "metadata": {},
     "output_type": "display_data"
    },
    {
     "data": {
      "text/html": [
       "<pre style=\"white-space:pre;overflow-x:auto;line-height:normal;font-family:Menlo,'DejaVu Sans Mono',consolas,'Courier New',monospace\"><span style=\"font-weight: bold\"> Non-trainable params: </span><span style=\"color: #00af00; text-decoration-color: #00af00\">0</span> (0.00 B)\n",
       "</pre>\n"
      ],
      "text/plain": [
       "\u001b[1m Non-trainable params: \u001b[0m\u001b[38;5;34m0\u001b[0m (0.00 B)\n"
      ]
     },
     "metadata": {},
     "output_type": "display_data"
    },
    {
     "name": "stderr",
     "output_type": "stream",
     "text": [
      "[D 241022 09:33:42 1443250203:29] Model_name: iris_subclassed\n"
     ]
    },
    {
     "name": "stdout",
     "output_type": "stream",
     "text": [
      "Epoch 1/20\n",
      "1/1 ━━━━━━━━━━━━━━━━━━━━ 0s 5s/step - acc: 0.6190 - loss: 0.4543INFO:tensorflow:Assets written to: models/iris/iris-functional_api\\assets\n"
     ]
    },
    {
     "name": "stderr",
     "output_type": "stream",
     "text": [
      "INFO:tensorflow:Assets written to: models/iris/iris-functional_api\\assets\n"
     ]
    },
    {
     "name": "stdout",
     "output_type": "stream",
     "text": [
      "1/1 ━━━━━━━━━━━━━━━━━━━━ 6s 6s/step - acc: 0.6190 - loss: 0.4543 - val_acc: 0.8095 - val_loss: 0.4282\n",
      "Epoch 2/20\n",
      "1/1 ━━━━━━━━━━━━━━━━━━━━ 0s 55ms/step - acc: 0.6190 - loss: 0.45 ━━━━━━━━━━━━━━━━━━━━ 0s 112ms/step - acc: 0.6190 - loss: 0.4542 - val_acc: 0.8095 - val_loss: 0.4283\n",
      "Epoch 3/20\n",
      "1/1 ━━━━━━━━━━━━━━━━━━━━ 0s 46ms/step - acc: 0.6190 - loss: 0.45 ━━━━━━━━━━━━━━━━━━━━ 0s 100ms/step - acc: 0.6190 - loss: 0.4542 - val_acc: 0.8095 - val_loss: 0.4284\n",
      "Epoch 4/20\n",
      "1/1 ━━━━━━━━━━━━━━━━━━━━ 0s 26ms/step - acc: 0.6190 - loss: 0.45 ━━━━━━━━━━━━━━━━━━━━ 0s 76ms/step - acc: 0.6190 - loss: 0.4542 - val_acc: 0.8095 - val_loss: 0.4285\n",
      "Epoch 5/20\n",
      "1/1 ━━━━━━━━━━━━━━━━━━━━ 0s 22ms/step - acc: 0.6190 - loss: 0.45 ━━━━━━━━━━━━━━━━━━━━ 0s 70ms/step - acc: 0.6190 - loss: 0.4541 - val_acc: 0.8095 - val_loss: 0.4285\n",
      "Epoch 6/20\n",
      "1/1 ━━━━━━━━━━━━━━━━━━━━ 0s 25ms/step - acc: 0.6190 - loss: 0.45 ━━━━━━━━━━━━━━━━━━━━ 0s 56ms/step - acc: 0.6190 - loss: 0.4541 - val_acc: 0.8095 - val_loss: 0.4286\n",
      "Epoch 7/20\n",
      "1/1 ━━━━━━━━━━━━━━━━━━━━ 0s 34ms/step - acc: 0.6190 - loss: 0.45 ━━━━━━━━━━━━━━━━━━━━ 0s 67ms/step - acc: 0.6190 - loss: 0.4541 - val_acc: 0.8095 - val_loss: 0.4287\n",
      "Epoch 8/20\n",
      "1/1 ━━━━━━━━━━━━━━━━━━━━ 0s 21ms/step - acc: 0.6190 - loss: 0.45 ━━━━━━━━━━━━━━━━━━━━ 0s 69ms/step - acc: 0.6190 - loss: 0.4540 - val_acc: 0.8095 - val_loss: 0.4288\n",
      "Epoch 9/20\n",
      "1/1 ━━━━━━━━━━━━━━━━━━━━ 0s 68ms/step - acc: 0.6190 - loss: 0.45 ━━━━━━━━━━━━━━━━━━━━ 0s 137ms/step - acc: 0.6190 - loss: 0.4540 - val_acc: 0.8095 - val_loss: 0.4288\n",
      "Epoch 10/20\n",
      "1/1 ━━━━━━━━━━━━━━━━━━━━ 0s 41ms/step - acc: 0.6190 - loss: 0.45 ━━━━━━━━━━━━━━━━━━━━ 0s 84ms/step - acc: 0.6190 - loss: 0.4540 - val_acc: 0.8095 - val_loss: 0.4289\n",
      "Epoch 11/20\n",
      "1/1 ━━━━━━━━━━━━━━━━━━━━ 0s 31ms/step - acc: 0.6190 - loss: 0.45 ━━━━━━━━━━━━━━━━━━━━ 0s 83ms/step - acc: 0.6190 - loss: 0.4539 - val_acc: 0.8095 - val_loss: 0.4290\n",
      "Epoch 12/20\n",
      "1/1 ━━━━━━━━━━━━━━━━━━━━ 0s 39ms/step - acc: 0.6190 - loss: 0.45 ━━━━━━━━━━━━━━━━━━━━ 0s 97ms/step - acc: 0.6190 - loss: 0.4539 - val_acc: 0.8095 - val_loss: 0.4291\n",
      "Epoch 13/20\n",
      "1/1 ━━━━━━━━━━━━━━━━━━━━ 0s 37ms/step - acc: 0.6190 - loss: 0.45 ━━━━━━━━━━━━━━━━━━━━ 0s 82ms/step - acc: 0.6190 - loss: 0.4539 - val_acc: 0.1905 - val_loss: 0.4291\n",
      "Epoch 14/20\n",
      "1/1 ━━━━━━━━━━━━━━━━━━━━ 0s 36ms/step - acc: 0.3810 - loss: 0.45 ━━━━━━━━━━━━━━━━━━━━ 0s 74ms/step - acc: 0.3810 - loss: 0.4538 - val_acc: 0.1905 - val_loss: 0.4292\n",
      "Epoch 15/20\n",
      "1/1 ━━━━━━━━━━━━━━━━━━━━ 0s 28ms/step - acc: 0.3810 - loss: 0.45 ━━━━━━━━━━━━━━━━━━━━ 0s 78ms/step - acc: 0.3810 - loss: 0.4538 - val_acc: 0.1905 - val_loss: 0.4293\n",
      "Epoch 16/20\n",
      "1/1 ━━━━━━━━━━━━━━━━━━━━ 0s 38ms/step - acc: 0.3810 - loss: 0.45 ━━━━━━━━━━━━━━━━━━━━ 0s 75ms/step - acc: 0.3810 - loss: 0.4538 - val_acc: 0.1905 - val_loss: 0.4294\n",
      "Epoch 17/20\n",
      "1/1 ━━━━━━━━━━━━━━━━━━━━ 0s 35ms/step - acc: 0.3810 - loss: 0.45 ━━━━━━━━━━━━━━━━━━━━ 0s 72ms/step - acc: 0.3810 - loss: 0.4537 - val_acc: 0.1905 - val_loss: 0.4294\n",
      "Epoch 18/20\n",
      "1/1 ━━━━━━━━━━━━━━━━━━━━ 0s 33ms/step - acc: 0.3810 - loss: 0.45 ━━━━━━━━━━━━━━━━━━━━ 0s 80ms/step - acc: 0.3810 - loss: 0.4537 - val_acc: 0.1905 - val_loss: 0.4295\n",
      "Epoch 19/20\n",
      "1/1 ━━━━━━━━━━━━━━━━━━━━ 0s 25ms/step - acc: 0.3810 - loss: 0.45 ━━━━━━━━━━━━━━━━━━━━ 0s 60ms/step - acc: 0.3810 - loss: 0.4537 - val_acc: 0.1905 - val_loss: 0.4296\n",
      "Epoch 20/20\n",
      "1/1 ━━━━━━━━━━━━━━━━━━━━ 0s 38ms/step - acc: 0.3810 - loss: 0.45 ━━━━━━━━━━━━━━━━━━━━ 0s 70ms/step - acc: 0.3810 - loss: 0.4536 - val_acc: 0.1905 - val_loss: 0.4297\n"
     ]
    },
    {
     "name": "stderr",
     "output_type": "stream",
     "text": [
      "wandb: Adding directory to artifact (.\\models\\iris\\iris-functional_api)... Done. 0.0s\n"
     ]
    },
    {
     "data": {
      "text/html": [
       "<style>\n",
       "    table.wandb td:nth-child(1) { padding: 0 10px; text-align: left ; width: auto;} td:nth-child(2) {text-align: left ; width: 100%}\n",
       "    .wandb-row { display: flex; flex-direction: row; flex-wrap: wrap; justify-content: flex-start; width: 100% }\n",
       "    .wandb-col { display: flex; flex-direction: column; flex-basis: 100%; flex: 1; padding: 10px; }\n",
       "    </style>\n",
       "<div class=\"wandb-row\"><div class=\"wandb-col\"><h3>Run history:</h3><br/><table class=\"wandb\"><tr><td>acc</td><td>█████████████▁▁▁▁▁▁▁</td></tr><tr><td>loss</td><td>██▇▇▆▆▆▅▅▅▄▄▄▃▃▂▂▂▁▁</td></tr><tr><td>val_acc</td><td>████████████▁▁▁▁▁▁▁▁</td></tr><tr><td>val_loss</td><td>▁▁▂▂▂▃▃▄▄▄▅▅▅▆▆▇▇▇██</td></tr></table><br/></div><div class=\"wandb-col\"><h3>Run summary:</h3><br/><table class=\"wandb\"><tr><td>acc</td><td>0.38095</td></tr><tr><td>loss</td><td>0.45363</td></tr><tr><td>val_acc</td><td>0.19048</td></tr><tr><td>val_loss</td><td>0.42966</td></tr></table><br/></div></div>"
      ],
      "text/plain": [
       "<IPython.core.display.HTML object>"
      ]
     },
     "metadata": {},
     "output_type": "display_data"
    },
    {
     "data": {
      "text/html": [
       " View run <strong style=\"color:#cdcd00\">zany-sweep-8</strong> at: <a href='https://wandb.ai/praptipatil01/Iris-Species-Classification/runs/w2kqpmt9' target=\"_blank\">https://wandb.ai/praptipatil01/Iris-Species-Classification/runs/w2kqpmt9</a><br/> View project at: <a href='https://wandb.ai/praptipatil01/Iris-Species-Classification' target=\"_blank\">https://wandb.ai/praptipatil01/Iris-Species-Classification</a><br/>Synced 5 W&B file(s), 0 media file(s), 5 artifact file(s) and 0 other file(s)"
      ],
      "text/plain": [
       "<IPython.core.display.HTML object>"
      ]
     },
     "metadata": {},
     "output_type": "display_data"
    },
    {
     "data": {
      "text/html": [
       "Find logs at: <code>.\\wandb\\run-20241022_093341-w2kqpmt9\\logs</code>"
      ],
      "text/plain": [
       "<IPython.core.display.HTML object>"
      ]
     },
     "metadata": {},
     "output_type": "display_data"
    },
    {
     "name": "stderr",
     "output_type": "stream",
     "text": [
      "wandb: Agent Starting Run: q19geks4 with config:\n",
      "wandb: \tlearning_rate: 0.001020389839529679\n",
      "wandb: \tnum_blocks: 6\n",
      "wandb: \toptimizer: sgd\n",
      "wandb: \tunits_1: 272\n",
      "wandb: \tunits_2: 8\n",
      "wandb: WARNING Ignored wandb.init() arg project when running a sweep.\n"
     ]
    },
    {
     "data": {
      "text/html": [
       "Tracking run with wandb version 0.18.5"
      ],
      "text/plain": [
       "<IPython.core.display.HTML object>"
      ]
     },
     "metadata": {},
     "output_type": "display_data"
    },
    {
     "data": {
      "text/html": [
       "Run data is saved locally in <code>c:\\Users\\prapt\\Desktop\\Deep Learning\\DL_Basics\\TensorFlow in Action\\wandb\\run-20241022_093407-q19geks4</code>"
      ],
      "text/plain": [
       "<IPython.core.display.HTML object>"
      ]
     },
     "metadata": {},
     "output_type": "display_data"
    },
    {
     "data": {
      "text/html": [
       "Syncing run <strong><a href='https://wandb.ai/praptipatil01/Iris-Species-Classification/runs/q19geks4' target=\"_blank\">electric-sweep-9</a></strong> to <a href='https://wandb.ai/praptipatil01/Iris-Species-Classification' target=\"_blank\">Weights & Biases</a> (<a href='https://wandb.me/run' target=\"_blank\">docs</a>)<br/>Sweep page: <a href='https://wandb.ai/praptipatil01/Iris-Species-Classification/sweeps/9re2wssu' target=\"_blank\">https://wandb.ai/praptipatil01/Iris-Species-Classification/sweeps/9re2wssu</a>"
      ],
      "text/plain": [
       "<IPython.core.display.HTML object>"
      ]
     },
     "metadata": {},
     "output_type": "display_data"
    },
    {
     "data": {
      "text/html": [
       " View project at <a href='https://wandb.ai/praptipatil01/Iris-Species-Classification' target=\"_blank\">https://wandb.ai/praptipatil01/Iris-Species-Classification</a>"
      ],
      "text/plain": [
       "<IPython.core.display.HTML object>"
      ]
     },
     "metadata": {},
     "output_type": "display_data"
    },
    {
     "data": {
      "text/html": [
       " View sweep at <a href='https://wandb.ai/praptipatil01/Iris-Species-Classification/sweeps/9re2wssu' target=\"_blank\">https://wandb.ai/praptipatil01/Iris-Species-Classification/sweeps/9re2wssu</a>"
      ],
      "text/plain": [
       "<IPython.core.display.HTML object>"
      ]
     },
     "metadata": {},
     "output_type": "display_data"
    },
    {
     "data": {
      "text/html": [
       " View run at <a href='https://wandb.ai/praptipatil01/Iris-Species-Classification/runs/q19geks4' target=\"_blank\">https://wandb.ai/praptipatil01/Iris-Species-Classification/runs/q19geks4</a>"
      ],
      "text/plain": [
       "<IPython.core.display.HTML object>"
      ]
     },
     "metadata": {},
     "output_type": "display_data"
    },
    {
     "name": "stderr",
     "output_type": "stream",
     "text": [
      "[D 241022 09:34:09 1443250203:23] Number of records: Train -  84, Val - 21\n"
     ]
    },
    {
     "data": {
      "text/html": [
       "<pre style=\"white-space:pre;overflow-x:auto;line-height:normal;font-family:Menlo,'DejaVu Sans Mono',consolas,'Courier New',monospace\"><span style=\"font-weight: bold\">Model: \"iris_subclassed\"</span>\n",
       "</pre>\n"
      ],
      "text/plain": [
       "\u001b[1mModel: \"iris_subclassed\"\u001b[0m\n"
      ]
     },
     "metadata": {},
     "output_type": "display_data"
    },
    {
     "data": {
      "text/html": [
       "<pre style=\"white-space:pre;overflow-x:auto;line-height:normal;font-family:Menlo,'DejaVu Sans Mono',consolas,'Courier New',monospace\">┏━━━━━━━━━━━━━━━━━━━━━━━━━━━━━━━━━┳━━━━━━━━━━━━━━━━━━━━━━━━┳━━━━━━━━━━━━━━━┓\n",
       "┃<span style=\"font-weight: bold\"> Layer (type)                    </span>┃<span style=\"font-weight: bold\"> Output Shape           </span>┃<span style=\"font-weight: bold\">       Param # </span>┃\n",
       "┡━━━━━━━━━━━━━━━━━━━━━━━━━━━━━━━━━╇━━━━━━━━━━━━━━━━━━━━━━━━╇━━━━━━━━━━━━━━━┩\n",
       "│ input_layer (<span style=\"color: #0087ff; text-decoration-color: #0087ff\">InputLayer</span>)        │ (<span style=\"color: #00d7ff; text-decoration-color: #00d7ff\">None</span>, <span style=\"color: #00af00; text-decoration-color: #00af00\">4</span>)              │             <span style=\"color: #00af00; text-decoration-color: #00af00\">0</span> │\n",
       "├─────────────────────────────────┼────────────────────────┼───────────────┤\n",
       "│ mul_bias_dense (<span style=\"color: #0087ff; text-decoration-color: #0087ff\">MulBiasDense</span>)   │ (<span style=\"color: #00d7ff; text-decoration-color: #00d7ff\">None</span>, <span style=\"color: #00af00; text-decoration-color: #00af00\">272</span>)            │         <span style=\"color: #00af00; text-decoration-color: #00af00\">1,632</span> │\n",
       "├─────────────────────────────────┼────────────────────────┼───────────────┤\n",
       "│ mul_bias_dense_1 (<span style=\"color: #0087ff; text-decoration-color: #0087ff\">MulBiasDense</span>) │ (<span style=\"color: #00d7ff; text-decoration-color: #00d7ff\">None</span>, <span style=\"color: #00af00; text-decoration-color: #00af00\">8</span>)              │         <span style=\"color: #00af00; text-decoration-color: #00af00\">2,192</span> │\n",
       "├─────────────────────────────────┼────────────────────────┼───────────────┤\n",
       "│ mul_bias_dense_2 (<span style=\"color: #0087ff; text-decoration-color: #0087ff\">MulBiasDense</span>) │ (<span style=\"color: #00d7ff; text-decoration-color: #00d7ff\">None</span>, <span style=\"color: #00af00; text-decoration-color: #00af00\">272</span>)            │         <span style=\"color: #00af00; text-decoration-color: #00af00\">2,720</span> │\n",
       "├─────────────────────────────────┼────────────────────────┼───────────────┤\n",
       "│ mul_bias_dense_3 (<span style=\"color: #0087ff; text-decoration-color: #0087ff\">MulBiasDense</span>) │ (<span style=\"color: #00d7ff; text-decoration-color: #00d7ff\">None</span>, <span style=\"color: #00af00; text-decoration-color: #00af00\">8</span>)              │         <span style=\"color: #00af00; text-decoration-color: #00af00\">2,192</span> │\n",
       "├─────────────────────────────────┼────────────────────────┼───────────────┤\n",
       "│ mul_bias_dense_4 (<span style=\"color: #0087ff; text-decoration-color: #0087ff\">MulBiasDense</span>) │ (<span style=\"color: #00d7ff; text-decoration-color: #00d7ff\">None</span>, <span style=\"color: #00af00; text-decoration-color: #00af00\">272</span>)            │         <span style=\"color: #00af00; text-decoration-color: #00af00\">2,720</span> │\n",
       "├─────────────────────────────────┼────────────────────────┼───────────────┤\n",
       "│ mul_bias_dense_5 (<span style=\"color: #0087ff; text-decoration-color: #0087ff\">MulBiasDense</span>) │ (<span style=\"color: #00d7ff; text-decoration-color: #00d7ff\">None</span>, <span style=\"color: #00af00; text-decoration-color: #00af00\">8</span>)              │         <span style=\"color: #00af00; text-decoration-color: #00af00\">2,192</span> │\n",
       "├─────────────────────────────────┼────────────────────────┼───────────────┤\n",
       "│ mul_bias_dense_6 (<span style=\"color: #0087ff; text-decoration-color: #0087ff\">MulBiasDense</span>) │ (<span style=\"color: #00d7ff; text-decoration-color: #00d7ff\">None</span>, <span style=\"color: #00af00; text-decoration-color: #00af00\">272</span>)            │         <span style=\"color: #00af00; text-decoration-color: #00af00\">2,720</span> │\n",
       "├─────────────────────────────────┼────────────────────────┼───────────────┤\n",
       "│ mul_bias_dense_7 (<span style=\"color: #0087ff; text-decoration-color: #0087ff\">MulBiasDense</span>) │ (<span style=\"color: #00d7ff; text-decoration-color: #00d7ff\">None</span>, <span style=\"color: #00af00; text-decoration-color: #00af00\">8</span>)              │         <span style=\"color: #00af00; text-decoration-color: #00af00\">2,192</span> │\n",
       "├─────────────────────────────────┼────────────────────────┼───────────────┤\n",
       "│ mul_bias_dense_8 (<span style=\"color: #0087ff; text-decoration-color: #0087ff\">MulBiasDense</span>) │ (<span style=\"color: #00d7ff; text-decoration-color: #00d7ff\">None</span>, <span style=\"color: #00af00; text-decoration-color: #00af00\">272</span>)            │         <span style=\"color: #00af00; text-decoration-color: #00af00\">2,720</span> │\n",
       "├─────────────────────────────────┼────────────────────────┼───────────────┤\n",
       "│ mul_bias_dense_9 (<span style=\"color: #0087ff; text-decoration-color: #0087ff\">MulBiasDense</span>) │ (<span style=\"color: #00d7ff; text-decoration-color: #00d7ff\">None</span>, <span style=\"color: #00af00; text-decoration-color: #00af00\">8</span>)              │         <span style=\"color: #00af00; text-decoration-color: #00af00\">2,192</span> │\n",
       "├─────────────────────────────────┼────────────────────────┼───────────────┤\n",
       "│ mul_bias_dense_10               │ (<span style=\"color: #00d7ff; text-decoration-color: #00d7ff\">None</span>, <span style=\"color: #00af00; text-decoration-color: #00af00\">272</span>)            │         <span style=\"color: #00af00; text-decoration-color: #00af00\">2,720</span> │\n",
       "│ (<span style=\"color: #0087ff; text-decoration-color: #0087ff\">MulBiasDense</span>)                  │                        │               │\n",
       "├─────────────────────────────────┼────────────────────────┼───────────────┤\n",
       "│ mul_bias_dense_11               │ (<span style=\"color: #00d7ff; text-decoration-color: #00d7ff\">None</span>, <span style=\"color: #00af00; text-decoration-color: #00af00\">8</span>)              │         <span style=\"color: #00af00; text-decoration-color: #00af00\">2,192</span> │\n",
       "│ (<span style=\"color: #0087ff; text-decoration-color: #0087ff\">MulBiasDense</span>)                  │                        │               │\n",
       "├─────────────────────────────────┼────────────────────────┼───────────────┤\n",
       "│ dense (<span style=\"color: #0087ff; text-decoration-color: #0087ff\">Dense</span>)                   │ (<span style=\"color: #00d7ff; text-decoration-color: #00d7ff\">None</span>, <span style=\"color: #00af00; text-decoration-color: #00af00\">2</span>)              │            <span style=\"color: #00af00; text-decoration-color: #00af00\">18</span> │\n",
       "└─────────────────────────────────┴────────────────────────┴───────────────┘\n",
       "</pre>\n"
      ],
      "text/plain": [
       "┏━━━━━━━━━━━━━━━━━━━━━━━━━━━━━━━━━┳━━━━━━━━━━━━━━━━━━━━━━━━┳━━━━━━━━━━━━━━━┓\n",
       "┃\u001b[1m \u001b[0m\u001b[1mLayer (type)                   \u001b[0m\u001b[1m \u001b[0m┃\u001b[1m \u001b[0m\u001b[1mOutput Shape          \u001b[0m\u001b[1m \u001b[0m┃\u001b[1m \u001b[0m\u001b[1m      Param #\u001b[0m\u001b[1m \u001b[0m┃\n",
       "┡━━━━━━━━━━━━━━━━━━━━━━━━━━━━━━━━━╇━━━━━━━━━━━━━━━━━━━━━━━━╇━━━━━━━━━━━━━━━┩\n",
       "│ input_layer (\u001b[38;5;33mInputLayer\u001b[0m)        │ (\u001b[38;5;45mNone\u001b[0m, \u001b[38;5;34m4\u001b[0m)              │             \u001b[38;5;34m0\u001b[0m │\n",
       "├─────────────────────────────────┼────────────────────────┼───────────────┤\n",
       "│ mul_bias_dense (\u001b[38;5;33mMulBiasDense\u001b[0m)   │ (\u001b[38;5;45mNone\u001b[0m, \u001b[38;5;34m272\u001b[0m)            │         \u001b[38;5;34m1,632\u001b[0m │\n",
       "├─────────────────────────────────┼────────────────────────┼───────────────┤\n",
       "│ mul_bias_dense_1 (\u001b[38;5;33mMulBiasDense\u001b[0m) │ (\u001b[38;5;45mNone\u001b[0m, \u001b[38;5;34m8\u001b[0m)              │         \u001b[38;5;34m2,192\u001b[0m │\n",
       "├─────────────────────────────────┼────────────────────────┼───────────────┤\n",
       "│ mul_bias_dense_2 (\u001b[38;5;33mMulBiasDense\u001b[0m) │ (\u001b[38;5;45mNone\u001b[0m, \u001b[38;5;34m272\u001b[0m)            │         \u001b[38;5;34m2,720\u001b[0m │\n",
       "├─────────────────────────────────┼────────────────────────┼───────────────┤\n",
       "│ mul_bias_dense_3 (\u001b[38;5;33mMulBiasDense\u001b[0m) │ (\u001b[38;5;45mNone\u001b[0m, \u001b[38;5;34m8\u001b[0m)              │         \u001b[38;5;34m2,192\u001b[0m │\n",
       "├─────────────────────────────────┼────────────────────────┼───────────────┤\n",
       "│ mul_bias_dense_4 (\u001b[38;5;33mMulBiasDense\u001b[0m) │ (\u001b[38;5;45mNone\u001b[0m, \u001b[38;5;34m272\u001b[0m)            │         \u001b[38;5;34m2,720\u001b[0m │\n",
       "├─────────────────────────────────┼────────────────────────┼───────────────┤\n",
       "│ mul_bias_dense_5 (\u001b[38;5;33mMulBiasDense\u001b[0m) │ (\u001b[38;5;45mNone\u001b[0m, \u001b[38;5;34m8\u001b[0m)              │         \u001b[38;5;34m2,192\u001b[0m │\n",
       "├─────────────────────────────────┼────────────────────────┼───────────────┤\n",
       "│ mul_bias_dense_6 (\u001b[38;5;33mMulBiasDense\u001b[0m) │ (\u001b[38;5;45mNone\u001b[0m, \u001b[38;5;34m272\u001b[0m)            │         \u001b[38;5;34m2,720\u001b[0m │\n",
       "├─────────────────────────────────┼────────────────────────┼───────────────┤\n",
       "│ mul_bias_dense_7 (\u001b[38;5;33mMulBiasDense\u001b[0m) │ (\u001b[38;5;45mNone\u001b[0m, \u001b[38;5;34m8\u001b[0m)              │         \u001b[38;5;34m2,192\u001b[0m │\n",
       "├─────────────────────────────────┼────────────────────────┼───────────────┤\n",
       "│ mul_bias_dense_8 (\u001b[38;5;33mMulBiasDense\u001b[0m) │ (\u001b[38;5;45mNone\u001b[0m, \u001b[38;5;34m272\u001b[0m)            │         \u001b[38;5;34m2,720\u001b[0m │\n",
       "├─────────────────────────────────┼────────────────────────┼───────────────┤\n",
       "│ mul_bias_dense_9 (\u001b[38;5;33mMulBiasDense\u001b[0m) │ (\u001b[38;5;45mNone\u001b[0m, \u001b[38;5;34m8\u001b[0m)              │         \u001b[38;5;34m2,192\u001b[0m │\n",
       "├─────────────────────────────────┼────────────────────────┼───────────────┤\n",
       "│ mul_bias_dense_10               │ (\u001b[38;5;45mNone\u001b[0m, \u001b[38;5;34m272\u001b[0m)            │         \u001b[38;5;34m2,720\u001b[0m │\n",
       "│ (\u001b[38;5;33mMulBiasDense\u001b[0m)                  │                        │               │\n",
       "├─────────────────────────────────┼────────────────────────┼───────────────┤\n",
       "│ mul_bias_dense_11               │ (\u001b[38;5;45mNone\u001b[0m, \u001b[38;5;34m8\u001b[0m)              │         \u001b[38;5;34m2,192\u001b[0m │\n",
       "│ (\u001b[38;5;33mMulBiasDense\u001b[0m)                  │                        │               │\n",
       "├─────────────────────────────────┼────────────────────────┼───────────────┤\n",
       "│ dense (\u001b[38;5;33mDense\u001b[0m)                   │ (\u001b[38;5;45mNone\u001b[0m, \u001b[38;5;34m2\u001b[0m)              │            \u001b[38;5;34m18\u001b[0m │\n",
       "└─────────────────────────────────┴────────────────────────┴───────────────┘\n"
      ]
     },
     "metadata": {},
     "output_type": "display_data"
    },
    {
     "data": {
      "text/html": [
       "<pre style=\"white-space:pre;overflow-x:auto;line-height:normal;font-family:Menlo,'DejaVu Sans Mono',consolas,'Courier New',monospace\"><span style=\"font-weight: bold\"> Total params: </span><span style=\"color: #00af00; text-decoration-color: #00af00\">28,402</span> (110.95 KB)\n",
       "</pre>\n"
      ],
      "text/plain": [
       "\u001b[1m Total params: \u001b[0m\u001b[38;5;34m28,402\u001b[0m (110.95 KB)\n"
      ]
     },
     "metadata": {},
     "output_type": "display_data"
    },
    {
     "data": {
      "text/html": [
       "<pre style=\"white-space:pre;overflow-x:auto;line-height:normal;font-family:Menlo,'DejaVu Sans Mono',consolas,'Courier New',monospace\"><span style=\"font-weight: bold\"> Trainable params: </span><span style=\"color: #00af00; text-decoration-color: #00af00\">28,402</span> (110.95 KB)\n",
       "</pre>\n"
      ],
      "text/plain": [
       "\u001b[1m Trainable params: \u001b[0m\u001b[38;5;34m28,402\u001b[0m (110.95 KB)\n"
      ]
     },
     "metadata": {},
     "output_type": "display_data"
    },
    {
     "data": {
      "text/html": [
       "<pre style=\"white-space:pre;overflow-x:auto;line-height:normal;font-family:Menlo,'DejaVu Sans Mono',consolas,'Courier New',monospace\"><span style=\"font-weight: bold\"> Non-trainable params: </span><span style=\"color: #00af00; text-decoration-color: #00af00\">0</span> (0.00 B)\n",
       "</pre>\n"
      ],
      "text/plain": [
       "\u001b[1m Non-trainable params: \u001b[0m\u001b[38;5;34m0\u001b[0m (0.00 B)\n"
      ]
     },
     "metadata": {},
     "output_type": "display_data"
    },
    {
     "name": "stderr",
     "output_type": "stream",
     "text": [
      "[D 241022 09:34:09 1443250203:29] Model_name: iris_subclassed\n"
     ]
    },
    {
     "name": "stdout",
     "output_type": "stream",
     "text": [
      "Epoch 1/20\n",
      "1/1 ━━━━━━━━━━━━━━━━━━━━ 0s 1s/step - acc: 0.6190 - loss: 0.4569INFO:tensorflow:Assets written to: models/iris/iris-functional_api\\assets\n"
     ]
    },
    {
     "name": "stderr",
     "output_type": "stream",
     "text": [
      "INFO:tensorflow:Assets written to: models/iris/iris-functional_api\\assets\n"
     ]
    },
    {
     "name": "stdout",
     "output_type": "stream",
     "text": [
      "1/1 ━━━━━━━━━━━━━━━━━━━━ 2s 2s/step - acc: 0.6190 - loss: 0.4569 - val_acc: 0.8095 - val_loss: 0.4233\n",
      "Epoch 2/20\n",
      "1/1 ━━━━━━━━━━━━━━━━━━━━ 0s 36ms/step - acc: 0.6190 - loss: 0.45 ━━━━━━━━━━━━━━━━━━━━ 0s 72ms/step - acc: 0.6190 - loss: 0.4567 - val_acc: 0.8095 - val_loss: 0.4235\n",
      "Epoch 3/20\n",
      "1/1 ━━━━━━━━━━━━━━━━━━━━ 0s 27ms/step - acc: 0.6190 - loss: 0.45 ━━━━━━━━━━━━━━━━━━━━ 0s 66ms/step - acc: 0.6190 - loss: 0.4566 - val_acc: 0.8095 - val_loss: 0.4237\n",
      "Epoch 4/20\n",
      "1/1 ━━━━━━━━━━━━━━━━━━━━ 0s 23ms/step - acc: 0.6190 - loss: 0.45 ━━━━━━━━━━━━━━━━━━━━ 0s 63ms/step - acc: 0.6190 - loss: 0.4566 - val_acc: 0.8095 - val_loss: 0.4238\n",
      "Epoch 5/20\n",
      "1/1 ━━━━━━━━━━━━━━━━━━━━ 0s 29ms/step - acc: 0.6190 - loss: 0.45 ━━━━━━━━━━━━━━━━━━━━ 0s 64ms/step - acc: 0.6190 - loss: 0.4565 - val_acc: 0.8095 - val_loss: 0.4240\n",
      "Epoch 6/20\n",
      "1/1 ━━━━━━━━━━━━━━━━━━━━ 0s 26ms/step - acc: 0.6190 - loss: 0.45 ━━━━━━━━━━━━━━━━━━━━ 0s 66ms/step - acc: 0.6190 - loss: 0.4564 - val_acc: 0.8095 - val_loss: 0.4242\n",
      "Epoch 7/20\n",
      "1/1 ━━━━━━━━━━━━━━━━━━━━ 0s 37ms/step - acc: 0.6190 - loss: 0.45 ━━━━━━━━━━━━━━━━━━━━ 0s 82ms/step - acc: 0.6190 - loss: 0.4563 - val_acc: 0.8095 - val_loss: 0.4244\n",
      "Epoch 8/20\n",
      "1/1 ━━━━━━━━━━━━━━━━━━━━ 0s 28ms/step - acc: 0.6190 - loss: 0.45 ━━━━━━━━━━━━━━━━━━━━ 0s 63ms/step - acc: 0.6190 - loss: 0.4562 - val_acc: 0.8095 - val_loss: 0.4245\n",
      "Epoch 9/20\n",
      "1/1 ━━━━━━━━━━━━━━━━━━━━ 0s 25ms/step - acc: 0.6190 - loss: 0.45 ━━━━━━━━━━━━━━━━━━━━ 0s 56ms/step - acc: 0.6190 - loss: 0.4561 - val_acc: 0.8095 - val_loss: 0.4247\n",
      "Epoch 10/20\n",
      "1/1 ━━━━━━━━━━━━━━━━━━━━ 0s 19ms/step - acc: 0.6190 - loss: 0.45 ━━━━━━━━━━━━━━━━━━━━ 0s 61ms/step - acc: 0.6190 - loss: 0.4560 - val_acc: 0.8095 - val_loss: 0.4249\n",
      "Epoch 11/20\n",
      "1/1 ━━━━━━━━━━━━━━━━━━━━ 0s 29ms/step - acc: 0.6190 - loss: 0.45 ━━━━━━━━━━━━━━━━━━━━ 0s 66ms/step - acc: 0.6190 - loss: 0.4559 - val_acc: 0.8095 - val_loss: 0.4251\n",
      "Epoch 12/20\n",
      "1/1 ━━━━━━━━━━━━━━━━━━━━ 0s 33ms/step - acc: 0.6190 - loss: 0.45 ━━━━━━━━━━━━━━━━━━━━ 0s 66ms/step - acc: 0.6190 - loss: 0.4558 - val_acc: 0.8095 - val_loss: 0.4252\n",
      "Epoch 13/20\n",
      "1/1 ━━━━━━━━━━━━━━━━━━━━ 0s 26ms/step - acc: 0.6190 - loss: 0.45 ━━━━━━━━━━━━━━━━━━━━ 0s 61ms/step - acc: 0.6190 - loss: 0.4557 - val_acc: 0.8095 - val_loss: 0.4254\n",
      "Epoch 14/20\n",
      "1/1 ━━━━━━━━━━━━━━━━━━━━ 0s 19ms/step - acc: 0.6190 - loss: 0.45 ━━━━━━━━━━━━━━━━━━━━ 0s 66ms/step - acc: 0.6190 - loss: 0.4556 - val_acc: 0.8095 - val_loss: 0.4256\n",
      "Epoch 15/20\n",
      "1/1 ━━━━━━━━━━━━━━━━━━━━ 0s 28ms/step - acc: 0.6190 - loss: 0.45 ━━━━━━━━━━━━━━━━━━━━ 0s 64ms/step - acc: 0.6190 - loss: 0.4555 - val_acc: 0.8095 - val_loss: 0.4258\n",
      "Epoch 16/20\n",
      "1/1 ━━━━━━━━━━━━━━━━━━━━ 0s 19ms/step - acc: 0.6190 - loss: 0.45 ━━━━━━━━━━━━━━━━━━━━ 0s 64ms/step - acc: 0.6190 - loss: 0.4554 - val_acc: 0.8095 - val_loss: 0.4259\n",
      "Epoch 17/20\n",
      "1/1 ━━━━━━━━━━━━━━━━━━━━ 0s 26ms/step - acc: 0.6190 - loss: 0.45 ━━━━━━━━━━━━━━━━━━━━ 0s 59ms/step - acc: 0.6190 - loss: 0.4554 - val_acc: 0.8095 - val_loss: 0.4261\n",
      "Epoch 18/20\n",
      "1/1 ━━━━━━━━━━━━━━━━━━━━ 0s 33ms/step - acc: 0.6190 - loss: 0.45 ━━━━━━━━━━━━━━━━━━━━ 0s 65ms/step - acc: 0.6190 - loss: 0.4553 - val_acc: 0.8095 - val_loss: 0.4263\n",
      "Epoch 19/20\n",
      "1/1 ━━━━━━━━━━━━━━━━━━━━ 0s 28ms/step - acc: 0.6190 - loss: 0.45 ━━━━━━━━━━━━━━━━━━━━ 0s 83ms/step - acc: 0.6190 - loss: 0.4552 - val_acc: 0.8095 - val_loss: 0.4264\n",
      "Epoch 20/20\n",
      "1/1 ━━━━━━━━━━━━━━━━━━━━ 0s 35ms/step - acc: 0.6190 - loss: 0.45 ━━━━━━━━━━━━━━━━━━━━ 0s 83ms/step - acc: 0.6190 - loss: 0.4551 - val_acc: 0.8095 - val_loss: 0.4266\n"
     ]
    },
    {
     "name": "stderr",
     "output_type": "stream",
     "text": [
      "wandb: Adding directory to artifact (.\\models\\iris\\iris-functional_api)... Done. 0.0s\n"
     ]
    },
    {
     "data": {
      "text/html": [
       "<style>\n",
       "    table.wandb td:nth-child(1) { padding: 0 10px; text-align: left ; width: auto;} td:nth-child(2) {text-align: left ; width: 100%}\n",
       "    .wandb-row { display: flex; flex-direction: row; flex-wrap: wrap; justify-content: flex-start; width: 100% }\n",
       "    .wandb-col { display: flex; flex-direction: column; flex-basis: 100%; flex: 1; padding: 10px; }\n",
       "    </style>\n",
       "<div class=\"wandb-row\"><div class=\"wandb-col\"><h3>Run history:</h3><br/><table class=\"wandb\"><tr><td>acc</td><td>▁▁▁▁▁▁▁▁▁▁▁▁▁▁▁▁▁▁▁▁</td></tr><tr><td>loss</td><td>██▇▇▆▆▆▅▅▅▄▄▃▃▃▂▂▂▁▁</td></tr><tr><td>val_acc</td><td>▁▁▁▁▁▁▁▁▁▁▁▁▁▁▁▁▁▁▁▁</td></tr><tr><td>val_loss</td><td>▁▁▂▂▃▃▃▄▄▄▅▅▅▆▆▇▇▇██</td></tr></table><br/></div><div class=\"wandb-col\"><h3>Run summary:</h3><br/><table class=\"wandb\"><tr><td>acc</td><td>0.61905</td></tr><tr><td>loss</td><td>0.45511</td></tr><tr><td>val_acc</td><td>0.80952</td></tr><tr><td>val_loss</td><td>0.42659</td></tr></table><br/></div></div>"
      ],
      "text/plain": [
       "<IPython.core.display.HTML object>"
      ]
     },
     "metadata": {},
     "output_type": "display_data"
    },
    {
     "data": {
      "text/html": [
       " View run <strong style=\"color:#cdcd00\">electric-sweep-9</strong> at: <a href='https://wandb.ai/praptipatil01/Iris-Species-Classification/runs/q19geks4' target=\"_blank\">https://wandb.ai/praptipatil01/Iris-Species-Classification/runs/q19geks4</a><br/> View project at: <a href='https://wandb.ai/praptipatil01/Iris-Species-Classification' target=\"_blank\">https://wandb.ai/praptipatil01/Iris-Species-Classification</a><br/>Synced 5 W&B file(s), 0 media file(s), 5 artifact file(s) and 0 other file(s)"
      ],
      "text/plain": [
       "<IPython.core.display.HTML object>"
      ]
     },
     "metadata": {},
     "output_type": "display_data"
    },
    {
     "data": {
      "text/html": [
       "Find logs at: <code>.\\wandb\\run-20241022_093407-q19geks4\\logs</code>"
      ],
      "text/plain": [
       "<IPython.core.display.HTML object>"
      ]
     },
     "metadata": {},
     "output_type": "display_data"
    },
    {
     "name": "stderr",
     "output_type": "stream",
     "text": [
      "wandb: Agent Starting Run: m9yocjsg with config:\n",
      "wandb: \tlearning_rate: 0.03461129595670747\n",
      "wandb: \tnum_blocks: 6\n",
      "wandb: \toptimizer: sgd\n",
      "wandb: \tunits_1: 80\n",
      "wandb: \tunits_2: 168\n",
      "wandb: WARNING Ignored wandb.init() arg project when running a sweep.\n"
     ]
    },
    {
     "data": {
      "text/html": [
       "Tracking run with wandb version 0.18.5"
      ],
      "text/plain": [
       "<IPython.core.display.HTML object>"
      ]
     },
     "metadata": {},
     "output_type": "display_data"
    },
    {
     "data": {
      "text/html": [
       "Run data is saved locally in <code>c:\\Users\\prapt\\Desktop\\Deep Learning\\DL_Basics\\TensorFlow in Action\\wandb\\run-20241022_093428-m9yocjsg</code>"
      ],
      "text/plain": [
       "<IPython.core.display.HTML object>"
      ]
     },
     "metadata": {},
     "output_type": "display_data"
    },
    {
     "data": {
      "text/html": [
       "Syncing run <strong><a href='https://wandb.ai/praptipatil01/Iris-Species-Classification/runs/m9yocjsg' target=\"_blank\">colorful-sweep-10</a></strong> to <a href='https://wandb.ai/praptipatil01/Iris-Species-Classification' target=\"_blank\">Weights & Biases</a> (<a href='https://wandb.me/run' target=\"_blank\">docs</a>)<br/>Sweep page: <a href='https://wandb.ai/praptipatil01/Iris-Species-Classification/sweeps/9re2wssu' target=\"_blank\">https://wandb.ai/praptipatil01/Iris-Species-Classification/sweeps/9re2wssu</a>"
      ],
      "text/plain": [
       "<IPython.core.display.HTML object>"
      ]
     },
     "metadata": {},
     "output_type": "display_data"
    },
    {
     "data": {
      "text/html": [
       " View project at <a href='https://wandb.ai/praptipatil01/Iris-Species-Classification' target=\"_blank\">https://wandb.ai/praptipatil01/Iris-Species-Classification</a>"
      ],
      "text/plain": [
       "<IPython.core.display.HTML object>"
      ]
     },
     "metadata": {},
     "output_type": "display_data"
    },
    {
     "data": {
      "text/html": [
       " View sweep at <a href='https://wandb.ai/praptipatil01/Iris-Species-Classification/sweeps/9re2wssu' target=\"_blank\">https://wandb.ai/praptipatil01/Iris-Species-Classification/sweeps/9re2wssu</a>"
      ],
      "text/plain": [
       "<IPython.core.display.HTML object>"
      ]
     },
     "metadata": {},
     "output_type": "display_data"
    },
    {
     "data": {
      "text/html": [
       " View run at <a href='https://wandb.ai/praptipatil01/Iris-Species-Classification/runs/m9yocjsg' target=\"_blank\">https://wandb.ai/praptipatil01/Iris-Species-Classification/runs/m9yocjsg</a>"
      ],
      "text/plain": [
       "<IPython.core.display.HTML object>"
      ]
     },
     "metadata": {},
     "output_type": "display_data"
    },
    {
     "name": "stderr",
     "output_type": "stream",
     "text": [
      "[D 241022 09:34:30 1443250203:23] Number of records: Train -  84, Val - 21\n"
     ]
    },
    {
     "data": {
      "text/html": [
       "<pre style=\"white-space:pre;overflow-x:auto;line-height:normal;font-family:Menlo,'DejaVu Sans Mono',consolas,'Courier New',monospace\"><span style=\"font-weight: bold\">Model: \"iris_subclassed\"</span>\n",
       "</pre>\n"
      ],
      "text/plain": [
       "\u001b[1mModel: \"iris_subclassed\"\u001b[0m\n"
      ]
     },
     "metadata": {},
     "output_type": "display_data"
    },
    {
     "data": {
      "text/html": [
       "<pre style=\"white-space:pre;overflow-x:auto;line-height:normal;font-family:Menlo,'DejaVu Sans Mono',consolas,'Courier New',monospace\">┏━━━━━━━━━━━━━━━━━━━━━━━━━━━━━━━━━┳━━━━━━━━━━━━━━━━━━━━━━━━┳━━━━━━━━━━━━━━━┓\n",
       "┃<span style=\"font-weight: bold\"> Layer (type)                    </span>┃<span style=\"font-weight: bold\"> Output Shape           </span>┃<span style=\"font-weight: bold\">       Param # </span>┃\n",
       "┡━━━━━━━━━━━━━━━━━━━━━━━━━━━━━━━━━╇━━━━━━━━━━━━━━━━━━━━━━━━╇━━━━━━━━━━━━━━━┩\n",
       "│ input_layer (<span style=\"color: #0087ff; text-decoration-color: #0087ff\">InputLayer</span>)        │ (<span style=\"color: #00d7ff; text-decoration-color: #00d7ff\">None</span>, <span style=\"color: #00af00; text-decoration-color: #00af00\">4</span>)              │             <span style=\"color: #00af00; text-decoration-color: #00af00\">0</span> │\n",
       "├─────────────────────────────────┼────────────────────────┼───────────────┤\n",
       "│ mul_bias_dense (<span style=\"color: #0087ff; text-decoration-color: #0087ff\">MulBiasDense</span>)   │ (<span style=\"color: #00d7ff; text-decoration-color: #00d7ff\">None</span>, <span style=\"color: #00af00; text-decoration-color: #00af00\">80</span>)             │           <span style=\"color: #00af00; text-decoration-color: #00af00\">480</span> │\n",
       "├─────────────────────────────────┼────────────────────────┼───────────────┤\n",
       "│ mul_bias_dense_1 (<span style=\"color: #0087ff; text-decoration-color: #0087ff\">MulBiasDense</span>) │ (<span style=\"color: #00d7ff; text-decoration-color: #00d7ff\">None</span>, <span style=\"color: #00af00; text-decoration-color: #00af00\">168</span>)            │        <span style=\"color: #00af00; text-decoration-color: #00af00\">13,776</span> │\n",
       "├─────────────────────────────────┼────────────────────────┼───────────────┤\n",
       "│ mul_bias_dense_2 (<span style=\"color: #0087ff; text-decoration-color: #0087ff\">MulBiasDense</span>) │ (<span style=\"color: #00d7ff; text-decoration-color: #00d7ff\">None</span>, <span style=\"color: #00af00; text-decoration-color: #00af00\">80</span>)             │        <span style=\"color: #00af00; text-decoration-color: #00af00\">13,600</span> │\n",
       "├─────────────────────────────────┼────────────────────────┼───────────────┤\n",
       "│ mul_bias_dense_3 (<span style=\"color: #0087ff; text-decoration-color: #0087ff\">MulBiasDense</span>) │ (<span style=\"color: #00d7ff; text-decoration-color: #00d7ff\">None</span>, <span style=\"color: #00af00; text-decoration-color: #00af00\">168</span>)            │        <span style=\"color: #00af00; text-decoration-color: #00af00\">13,776</span> │\n",
       "├─────────────────────────────────┼────────────────────────┼───────────────┤\n",
       "│ mul_bias_dense_4 (<span style=\"color: #0087ff; text-decoration-color: #0087ff\">MulBiasDense</span>) │ (<span style=\"color: #00d7ff; text-decoration-color: #00d7ff\">None</span>, <span style=\"color: #00af00; text-decoration-color: #00af00\">80</span>)             │        <span style=\"color: #00af00; text-decoration-color: #00af00\">13,600</span> │\n",
       "├─────────────────────────────────┼────────────────────────┼───────────────┤\n",
       "│ mul_bias_dense_5 (<span style=\"color: #0087ff; text-decoration-color: #0087ff\">MulBiasDense</span>) │ (<span style=\"color: #00d7ff; text-decoration-color: #00d7ff\">None</span>, <span style=\"color: #00af00; text-decoration-color: #00af00\">168</span>)            │        <span style=\"color: #00af00; text-decoration-color: #00af00\">13,776</span> │\n",
       "├─────────────────────────────────┼────────────────────────┼───────────────┤\n",
       "│ mul_bias_dense_6 (<span style=\"color: #0087ff; text-decoration-color: #0087ff\">MulBiasDense</span>) │ (<span style=\"color: #00d7ff; text-decoration-color: #00d7ff\">None</span>, <span style=\"color: #00af00; text-decoration-color: #00af00\">80</span>)             │        <span style=\"color: #00af00; text-decoration-color: #00af00\">13,600</span> │\n",
       "├─────────────────────────────────┼────────────────────────┼───────────────┤\n",
       "│ mul_bias_dense_7 (<span style=\"color: #0087ff; text-decoration-color: #0087ff\">MulBiasDense</span>) │ (<span style=\"color: #00d7ff; text-decoration-color: #00d7ff\">None</span>, <span style=\"color: #00af00; text-decoration-color: #00af00\">168</span>)            │        <span style=\"color: #00af00; text-decoration-color: #00af00\">13,776</span> │\n",
       "├─────────────────────────────────┼────────────────────────┼───────────────┤\n",
       "│ mul_bias_dense_8 (<span style=\"color: #0087ff; text-decoration-color: #0087ff\">MulBiasDense</span>) │ (<span style=\"color: #00d7ff; text-decoration-color: #00d7ff\">None</span>, <span style=\"color: #00af00; text-decoration-color: #00af00\">80</span>)             │        <span style=\"color: #00af00; text-decoration-color: #00af00\">13,600</span> │\n",
       "├─────────────────────────────────┼────────────────────────┼───────────────┤\n",
       "│ mul_bias_dense_9 (<span style=\"color: #0087ff; text-decoration-color: #0087ff\">MulBiasDense</span>) │ (<span style=\"color: #00d7ff; text-decoration-color: #00d7ff\">None</span>, <span style=\"color: #00af00; text-decoration-color: #00af00\">168</span>)            │        <span style=\"color: #00af00; text-decoration-color: #00af00\">13,776</span> │\n",
       "├─────────────────────────────────┼────────────────────────┼───────────────┤\n",
       "│ mul_bias_dense_10               │ (<span style=\"color: #00d7ff; text-decoration-color: #00d7ff\">None</span>, <span style=\"color: #00af00; text-decoration-color: #00af00\">80</span>)             │        <span style=\"color: #00af00; text-decoration-color: #00af00\">13,600</span> │\n",
       "│ (<span style=\"color: #0087ff; text-decoration-color: #0087ff\">MulBiasDense</span>)                  │                        │               │\n",
       "├─────────────────────────────────┼────────────────────────┼───────────────┤\n",
       "│ mul_bias_dense_11               │ (<span style=\"color: #00d7ff; text-decoration-color: #00d7ff\">None</span>, <span style=\"color: #00af00; text-decoration-color: #00af00\">168</span>)            │        <span style=\"color: #00af00; text-decoration-color: #00af00\">13,776</span> │\n",
       "│ (<span style=\"color: #0087ff; text-decoration-color: #0087ff\">MulBiasDense</span>)                  │                        │               │\n",
       "├─────────────────────────────────┼────────────────────────┼───────────────┤\n",
       "│ dense (<span style=\"color: #0087ff; text-decoration-color: #0087ff\">Dense</span>)                   │ (<span style=\"color: #00d7ff; text-decoration-color: #00d7ff\">None</span>, <span style=\"color: #00af00; text-decoration-color: #00af00\">2</span>)              │           <span style=\"color: #00af00; text-decoration-color: #00af00\">338</span> │\n",
       "└─────────────────────────────────┴────────────────────────┴───────────────┘\n",
       "</pre>\n"
      ],
      "text/plain": [
       "┏━━━━━━━━━━━━━━━━━━━━━━━━━━━━━━━━━┳━━━━━━━━━━━━━━━━━━━━━━━━┳━━━━━━━━━━━━━━━┓\n",
       "┃\u001b[1m \u001b[0m\u001b[1mLayer (type)                   \u001b[0m\u001b[1m \u001b[0m┃\u001b[1m \u001b[0m\u001b[1mOutput Shape          \u001b[0m\u001b[1m \u001b[0m┃\u001b[1m \u001b[0m\u001b[1m      Param #\u001b[0m\u001b[1m \u001b[0m┃\n",
       "┡━━━━━━━━━━━━━━━━━━━━━━━━━━━━━━━━━╇━━━━━━━━━━━━━━━━━━━━━━━━╇━━━━━━━━━━━━━━━┩\n",
       "│ input_layer (\u001b[38;5;33mInputLayer\u001b[0m)        │ (\u001b[38;5;45mNone\u001b[0m, \u001b[38;5;34m4\u001b[0m)              │             \u001b[38;5;34m0\u001b[0m │\n",
       "├─────────────────────────────────┼────────────────────────┼───────────────┤\n",
       "│ mul_bias_dense (\u001b[38;5;33mMulBiasDense\u001b[0m)   │ (\u001b[38;5;45mNone\u001b[0m, \u001b[38;5;34m80\u001b[0m)             │           \u001b[38;5;34m480\u001b[0m │\n",
       "├─────────────────────────────────┼────────────────────────┼───────────────┤\n",
       "│ mul_bias_dense_1 (\u001b[38;5;33mMulBiasDense\u001b[0m) │ (\u001b[38;5;45mNone\u001b[0m, \u001b[38;5;34m168\u001b[0m)            │        \u001b[38;5;34m13,776\u001b[0m │\n",
       "├─────────────────────────────────┼────────────────────────┼───────────────┤\n",
       "│ mul_bias_dense_2 (\u001b[38;5;33mMulBiasDense\u001b[0m) │ (\u001b[38;5;45mNone\u001b[0m, \u001b[38;5;34m80\u001b[0m)             │        \u001b[38;5;34m13,600\u001b[0m │\n",
       "├─────────────────────────────────┼────────────────────────┼───────────────┤\n",
       "│ mul_bias_dense_3 (\u001b[38;5;33mMulBiasDense\u001b[0m) │ (\u001b[38;5;45mNone\u001b[0m, \u001b[38;5;34m168\u001b[0m)            │        \u001b[38;5;34m13,776\u001b[0m │\n",
       "├─────────────────────────────────┼────────────────────────┼───────────────┤\n",
       "│ mul_bias_dense_4 (\u001b[38;5;33mMulBiasDense\u001b[0m) │ (\u001b[38;5;45mNone\u001b[0m, \u001b[38;5;34m80\u001b[0m)             │        \u001b[38;5;34m13,600\u001b[0m │\n",
       "├─────────────────────────────────┼────────────────────────┼───────────────┤\n",
       "│ mul_bias_dense_5 (\u001b[38;5;33mMulBiasDense\u001b[0m) │ (\u001b[38;5;45mNone\u001b[0m, \u001b[38;5;34m168\u001b[0m)            │        \u001b[38;5;34m13,776\u001b[0m │\n",
       "├─────────────────────────────────┼────────────────────────┼───────────────┤\n",
       "│ mul_bias_dense_6 (\u001b[38;5;33mMulBiasDense\u001b[0m) │ (\u001b[38;5;45mNone\u001b[0m, \u001b[38;5;34m80\u001b[0m)             │        \u001b[38;5;34m13,600\u001b[0m │\n",
       "├─────────────────────────────────┼────────────────────────┼───────────────┤\n",
       "│ mul_bias_dense_7 (\u001b[38;5;33mMulBiasDense\u001b[0m) │ (\u001b[38;5;45mNone\u001b[0m, \u001b[38;5;34m168\u001b[0m)            │        \u001b[38;5;34m13,776\u001b[0m │\n",
       "├─────────────────────────────────┼────────────────────────┼───────────────┤\n",
       "│ mul_bias_dense_8 (\u001b[38;5;33mMulBiasDense\u001b[0m) │ (\u001b[38;5;45mNone\u001b[0m, \u001b[38;5;34m80\u001b[0m)             │        \u001b[38;5;34m13,600\u001b[0m │\n",
       "├─────────────────────────────────┼────────────────────────┼───────────────┤\n",
       "│ mul_bias_dense_9 (\u001b[38;5;33mMulBiasDense\u001b[0m) │ (\u001b[38;5;45mNone\u001b[0m, \u001b[38;5;34m168\u001b[0m)            │        \u001b[38;5;34m13,776\u001b[0m │\n",
       "├─────────────────────────────────┼────────────────────────┼───────────────┤\n",
       "│ mul_bias_dense_10               │ (\u001b[38;5;45mNone\u001b[0m, \u001b[38;5;34m80\u001b[0m)             │        \u001b[38;5;34m13,600\u001b[0m │\n",
       "│ (\u001b[38;5;33mMulBiasDense\u001b[0m)                  │                        │               │\n",
       "├─────────────────────────────────┼────────────────────────┼───────────────┤\n",
       "│ mul_bias_dense_11               │ (\u001b[38;5;45mNone\u001b[0m, \u001b[38;5;34m168\u001b[0m)            │        \u001b[38;5;34m13,776\u001b[0m │\n",
       "│ (\u001b[38;5;33mMulBiasDense\u001b[0m)                  │                        │               │\n",
       "├─────────────────────────────────┼────────────────────────┼───────────────┤\n",
       "│ dense (\u001b[38;5;33mDense\u001b[0m)                   │ (\u001b[38;5;45mNone\u001b[0m, \u001b[38;5;34m2\u001b[0m)              │           \u001b[38;5;34m338\u001b[0m │\n",
       "└─────────────────────────────────┴────────────────────────┴───────────────┘\n"
      ]
     },
     "metadata": {},
     "output_type": "display_data"
    },
    {
     "data": {
      "text/html": [
       "<pre style=\"white-space:pre;overflow-x:auto;line-height:normal;font-family:Menlo,'DejaVu Sans Mono',consolas,'Courier New',monospace\"><span style=\"font-weight: bold\"> Total params: </span><span style=\"color: #00af00; text-decoration-color: #00af00\">151,474</span> (591.70 KB)\n",
       "</pre>\n"
      ],
      "text/plain": [
       "\u001b[1m Total params: \u001b[0m\u001b[38;5;34m151,474\u001b[0m (591.70 KB)\n"
      ]
     },
     "metadata": {},
     "output_type": "display_data"
    },
    {
     "data": {
      "text/html": [
       "<pre style=\"white-space:pre;overflow-x:auto;line-height:normal;font-family:Menlo,'DejaVu Sans Mono',consolas,'Courier New',monospace\"><span style=\"font-weight: bold\"> Trainable params: </span><span style=\"color: #00af00; text-decoration-color: #00af00\">151,474</span> (591.70 KB)\n",
       "</pre>\n"
      ],
      "text/plain": [
       "\u001b[1m Trainable params: \u001b[0m\u001b[38;5;34m151,474\u001b[0m (591.70 KB)\n"
      ]
     },
     "metadata": {},
     "output_type": "display_data"
    },
    {
     "data": {
      "text/html": [
       "<pre style=\"white-space:pre;overflow-x:auto;line-height:normal;font-family:Menlo,'DejaVu Sans Mono',consolas,'Courier New',monospace\"><span style=\"font-weight: bold\"> Non-trainable params: </span><span style=\"color: #00af00; text-decoration-color: #00af00\">0</span> (0.00 B)\n",
       "</pre>\n"
      ],
      "text/plain": [
       "\u001b[1m Non-trainable params: \u001b[0m\u001b[38;5;34m0\u001b[0m (0.00 B)\n"
      ]
     },
     "metadata": {},
     "output_type": "display_data"
    },
    {
     "name": "stderr",
     "output_type": "stream",
     "text": [
      "[D 241022 09:34:30 1443250203:29] Model_name: iris_subclassed\n"
     ]
    },
    {
     "name": "stdout",
     "output_type": "stream",
     "text": [
      "Epoch 1/20\n",
      "1/1 ━━━━━━━━━━━━━━━━━━━━ 0s 1s/step - acc: 0.6190 - loss: 0.4544INFO:tensorflow:Assets written to: models/iris/iris-functional_api\\assets\n"
     ]
    },
    {
     "name": "stderr",
     "output_type": "stream",
     "text": [
      "INFO:tensorflow:Assets written to: models/iris/iris-functional_api\\assets\n"
     ]
    },
    {
     "name": "stdout",
     "output_type": "stream",
     "text": [
      "1/1 ━━━━━━━━━━━━━━━━━━━━ 2s 2s/step - acc: 0.6190 - loss: 0.4544 - val_acc: 0.8095 - val_loss: 0.4280\n",
      "Epoch 2/20\n",
      "1/1 ━━━━━━━━━━━━━━━━━━━━ 0s 31ms/step - acc: 0.6190 - loss: 0.45 ━━━━━━━━━━━━━━━━━━━━ 0s 62ms/step - acc: 0.6190 - loss: 0.4543 - val_acc: 0.8095 - val_loss: 0.4282\n",
      "Epoch 3/20\n",
      "1/1 ━━━━━━━━━━━━━━━━━━━━ 0s 29ms/step - acc: 0.6190 - loss: 0.45 ━━━━━━━━━━━━━━━━━━━━ 0s 59ms/step - acc: 0.6190 - loss: 0.4543 - val_acc: 0.8095 - val_loss: 0.4283\n",
      "Epoch 4/20\n",
      "1/1 ━━━━━━━━━━━━━━━━━━━━ 0s 28ms/step - acc: 0.6190 - loss: 0.45 ━━━━━━━━━━━━━━━━━━━━ 0s 59ms/step - acc: 0.6190 - loss: 0.4542 - val_acc: 0.8095 - val_loss: 0.4284\n",
      "Epoch 5/20\n",
      "1/1 ━━━━━━━━━━━━━━━━━━━━ 0s 24ms/step - acc: 0.6190 - loss: 0.45 ━━━━━━━━━━━━━━━━━━━━ 0s 56ms/step - acc: 0.6190 - loss: 0.4541 - val_acc: 0.8095 - val_loss: 0.4286\n",
      "Epoch 6/20\n",
      "1/1 ━━━━━━━━━━━━━━━━━━━━ 0s 26ms/step - acc: 0.6190 - loss: 0.45 ━━━━━━━━━━━━━━━━━━━━ 0s 57ms/step - acc: 0.6190 - loss: 0.4541 - val_acc: 0.8095 - val_loss: 0.4287\n",
      "Epoch 7/20\n",
      "1/1 ━━━━━━━━━━━━━━━━━━━━ 0s 26ms/step - acc: 0.6190 - loss: 0.45 ━━━━━━━━━━━━━━━━━━━━ 0s 58ms/step - acc: 0.6190 - loss: 0.4540 - val_acc: 0.8095 - val_loss: 0.4288\n",
      "Epoch 8/20\n",
      "1/1 ━━━━━━━━━━━━━━━━━━━━ 0s 22ms/step - acc: 0.6190 - loss: 0.45 ━━━━━━━━━━━━━━━━━━━━ 0s 75ms/step - acc: 0.6190 - loss: 0.4540 - val_acc: 0.8095 - val_loss: 0.4290\n",
      "Epoch 9/20\n",
      "1/1 ━━━━━━━━━━━━━━━━━━━━ 0s 34ms/step - acc: 0.6190 - loss: 0.45 ━━━━━━━━━━━━━━━━━━━━ 0s 66ms/step - acc: 0.6190 - loss: 0.4539 - val_acc: 0.8095 - val_loss: 0.4291\n",
      "Epoch 10/20\n",
      "1/1 ━━━━━━━━━━━━━━━━━━━━ 0s 22ms/step - acc: 0.6190 - loss: 0.45 ━━━━━━━━━━━━━━━━━━━━ 0s 61ms/step - acc: 0.6190 - loss: 0.4539 - val_acc: 0.1905 - val_loss: 0.4292\n",
      "Epoch 11/20\n",
      "1/1 ━━━━━━━━━━━━━━━━━━━━ 0s 19ms/step - acc: 0.3810 - loss: 0.45 ━━━━━━━━━━━━━━━━━━━━ 0s 61ms/step - acc: 0.3810 - loss: 0.4538 - val_acc: 0.1905 - val_loss: 0.4293\n",
      "Epoch 12/20\n",
      "1/1 ━━━━━━━━━━━━━━━━━━━━ 0s 28ms/step - acc: 0.3810 - loss: 0.45 ━━━━━━━━━━━━━━━━━━━━ 0s 61ms/step - acc: 0.3810 - loss: 0.4537 - val_acc: 0.1905 - val_loss: 0.4295\n",
      "Epoch 13/20\n",
      "1/1 ━━━━━━━━━━━━━━━━━━━━ 0s 23ms/step - acc: 0.3810 - loss: 0.45 ━━━━━━━━━━━━━━━━━━━━ 0s 56ms/step - acc: 0.3810 - loss: 0.4537 - val_acc: 0.1905 - val_loss: 0.4296\n",
      "Epoch 14/20\n",
      "1/1 ━━━━━━━━━━━━━━━━━━━━ 0s 31ms/step - acc: 0.3810 - loss: 0.45 ━━━━━━━━━━━━━━━━━━━━ 0s 77ms/step - acc: 0.3810 - loss: 0.4536 - val_acc: 0.1905 - val_loss: 0.4297\n",
      "Epoch 15/20\n",
      "1/1 ━━━━━━━━━━━━━━━━━━━━ 0s 34ms/step - acc: 0.3810 - loss: 0.45 ━━━━━━━━━━━━━━━━━━━━ 0s 87ms/step - acc: 0.3810 - loss: 0.4536 - val_acc: 0.1905 - val_loss: 0.4299\n",
      "Epoch 16/20\n",
      "1/1 ━━━━━━━━━━━━━━━━━━━━ 0s 20ms/step - acc: 0.3810 - loss: 0.45 ━━━━━━━━━━━━━━━━━━━━ 0s 68ms/step - acc: 0.3810 - loss: 0.4535 - val_acc: 0.1905 - val_loss: 0.4300\n",
      "Epoch 17/20\n",
      "1/1 ━━━━━━━━━━━━━━━━━━━━ 0s 27ms/step - acc: 0.3810 - loss: 0.45 ━━━━━━━━━━━━━━━━━━━━ 0s 65ms/step - acc: 0.3810 - loss: 0.4535 - val_acc: 0.1905 - val_loss: 0.4301\n",
      "Epoch 18/20\n",
      "1/1 ━━━━━━━━━━━━━━━━━━━━ 0s 24ms/step - acc: 0.3810 - loss: 0.45 ━━━━━━━━━━━━━━━━━━━━ 0s 62ms/step - acc: 0.3810 - loss: 0.4534 - val_acc: 0.1905 - val_loss: 0.4302\n",
      "Epoch 19/20\n",
      "1/1 ━━━━━━━━━━━━━━━━━━━━ 0s 29ms/step - acc: 0.3810 - loss: 0.45 ━━━━━━━━━━━━━━━━━━━━ 0s 58ms/step - acc: 0.3810 - loss: 0.4533 - val_acc: 0.1905 - val_loss: 0.4304\n",
      "Epoch 20/20\n",
      "1/1 ━━━━━━━━━━━━━━━━━━━━ 0s 31ms/step - acc: 0.3810 - loss: 0.45 ━━━━━━━━━━━━━━━━━━━━ 0s 63ms/step - acc: 0.3810 - loss: 0.4533 - val_acc: 0.1905 - val_loss: 0.4305\n"
     ]
    },
    {
     "name": "stderr",
     "output_type": "stream",
     "text": [
      "wandb: Adding directory to artifact (.\\models\\iris\\iris-functional_api)... Done. 0.0s\n"
     ]
    },
    {
     "data": {
      "text/html": [
       "<style>\n",
       "    table.wandb td:nth-child(1) { padding: 0 10px; text-align: left ; width: auto;} td:nth-child(2) {text-align: left ; width: 100%}\n",
       "    .wandb-row { display: flex; flex-direction: row; flex-wrap: wrap; justify-content: flex-start; width: 100% }\n",
       "    .wandb-col { display: flex; flex-direction: column; flex-basis: 100%; flex: 1; padding: 10px; }\n",
       "    </style>\n",
       "<div class=\"wandb-row\"><div class=\"wandb-col\"><h3>Run history:</h3><br/><table class=\"wandb\"><tr><td>acc</td><td>██████████▁▁▁▁▁▁▁▁▁▁</td></tr><tr><td>loss</td><td>██▇▇▆▆▆▅▅▅▄▄▃▃▃▂▂▂▁▁</td></tr><tr><td>val_acc</td><td>█████████▁▁▁▁▁▁▁▁▁▁▁</td></tr><tr><td>val_loss</td><td>▁▁▂▂▃▃▃▄▄▄▅▅▅▆▆▇▇▇██</td></tr></table><br/></div><div class=\"wandb-col\"><h3>Run summary:</h3><br/><table class=\"wandb\"><tr><td>acc</td><td>0.38095</td></tr><tr><td>loss</td><td>0.45329</td></tr><tr><td>val_acc</td><td>0.19048</td></tr><tr><td>val_loss</td><td>0.43048</td></tr></table><br/></div></div>"
      ],
      "text/plain": [
       "<IPython.core.display.HTML object>"
      ]
     },
     "metadata": {},
     "output_type": "display_data"
    },
    {
     "data": {
      "text/html": [
       " View run <strong style=\"color:#cdcd00\">colorful-sweep-10</strong> at: <a href='https://wandb.ai/praptipatil01/Iris-Species-Classification/runs/m9yocjsg' target=\"_blank\">https://wandb.ai/praptipatil01/Iris-Species-Classification/runs/m9yocjsg</a><br/> View project at: <a href='https://wandb.ai/praptipatil01/Iris-Species-Classification' target=\"_blank\">https://wandb.ai/praptipatil01/Iris-Species-Classification</a><br/>Synced 5 W&B file(s), 0 media file(s), 5 artifact file(s) and 0 other file(s)"
      ],
      "text/plain": [
       "<IPython.core.display.HTML object>"
      ]
     },
     "metadata": {},
     "output_type": "display_data"
    },
    {
     "data": {
      "text/html": [
       "Find logs at: <code>.\\wandb\\run-20241022_093428-m9yocjsg\\logs</code>"
      ],
      "text/plain": [
       "<IPython.core.display.HTML object>"
      ]
     },
     "metadata": {},
     "output_type": "display_data"
    }
   ],
   "source": [
    "training_pipeline = TrainingPipeline()\n",
    "training_pipeline.run(train_config, train_dataset, SubclassedModel)"
   ]
  },
  {
   "cell_type": "markdown",
   "metadata": {},
   "source": [
    "### Model Comparision\n",
    "This section compares the best models of the above 3 architectures"
   ]
  },
  {
   "cell_type": "code",
   "execution_count": 9,
   "metadata": {},
   "outputs": [
    {
     "name": "stderr",
     "output_type": "stream",
     "text": [
      "[I 241022 19:40:54 3612683814:4] Training Pipeline set up\n"
     ]
    }
   ],
   "source": [
    "pca_model = PCA(n_components=2).fit(train_dataset[[\"sepal_length\",\t\"sepal_width\",\t\"petal_length\",\t\"petal_width\"]])\n",
    "training_pipeline = TrainingPipeline()"
   ]
  },
  {
   "cell_type": "code",
   "execution_count": 16,
   "metadata": {},
   "outputs": [
    {
     "data": {
      "text/html": [
       "Tracking run with wandb version 0.18.5"
      ],
      "text/plain": [
       "<IPython.core.display.HTML object>"
      ]
     },
     "metadata": {},
     "output_type": "display_data"
    },
    {
     "data": {
      "text/html": [
       "Run data is saved locally in <code>c:\\Users\\prapt\\Desktop\\Deep Learning\\DL_Basics\\TensorFlow in Action\\wandb\\run-20241022_194948-8zck9dqb</code>"
      ],
      "text/plain": [
       "<IPython.core.display.HTML object>"
      ]
     },
     "metadata": {},
     "output_type": "display_data"
    },
    {
     "data": {
      "text/html": [
       "Syncing run <strong><a href='https://wandb.ai/praptipatil01/TensorFlow%20in%20Action/runs/8zck9dqb' target=\"_blank\">young-durian-13</a></strong> to <a href='https://wandb.ai/praptipatil01/TensorFlow%20in%20Action' target=\"_blank\">Weights & Biases</a> (<a href='https://wandb.me/run' target=\"_blank\">docs</a>)<br/>"
      ],
      "text/plain": [
       "<IPython.core.display.HTML object>"
      ]
     },
     "metadata": {},
     "output_type": "display_data"
    },
    {
     "data": {
      "text/html": [
       " View project at <a href='https://wandb.ai/praptipatil01/TensorFlow%20in%20Action' target=\"_blank\">https://wandb.ai/praptipatil01/TensorFlow%20in%20Action</a>"
      ],
      "text/plain": [
       "<IPython.core.display.HTML object>"
      ]
     },
     "metadata": {},
     "output_type": "display_data"
    },
    {
     "data": {
      "text/html": [
       " View run at <a href='https://wandb.ai/praptipatil01/TensorFlow%20in%20Action/runs/8zck9dqb' target=\"_blank\">https://wandb.ai/praptipatil01/TensorFlow%20in%20Action/runs/8zck9dqb</a>"
      ],
      "text/plain": [
       "<IPython.core.display.HTML object>"
      ]
     },
     "metadata": {},
     "output_type": "display_data"
    },
    {
     "name": "stderr",
     "output_type": "stream",
     "text": [
      "wandb:   4 of 4 files downloaded.  \n",
      "[I 241022 19:49:53 630104989:24] Sequential_Best: Loss - 0.3991064429283142, Accuracy - 93.33333373069763%\n",
      "[D 241022 19:49:53 630104989:26] \n",
      "wandb:   4 of 4 files downloaded.  \n",
      "[I 241022 19:49:55 630104989:24] Functional_Api_Best: Loss - 0.4742332100868225, Accuracy - 71.11111283302307%\n",
      "[D 241022 19:49:55 630104989:26] \n",
      "wandb:   4 of 4 files downloaded.  \n",
      "[I 241022 19:49:58 630104989:24] Subclassed_Best: Loss - 0.5057439804077148, Accuracy - 68.88889074325562%\n",
      "[D 241022 19:49:58 630104989:26] \n"
     ]
    },
    {
     "data": {
      "text/html": [
       " View run <strong style=\"color:#cdcd00\">young-durian-13</strong> at: <a href='https://wandb.ai/praptipatil01/TensorFlow%20in%20Action/runs/8zck9dqb' target=\"_blank\">https://wandb.ai/praptipatil01/TensorFlow%20in%20Action/runs/8zck9dqb</a><br/> View project at: <a href='https://wandb.ai/praptipatil01/TensorFlow%20in%20Action' target=\"_blank\">https://wandb.ai/praptipatil01/TensorFlow%20in%20Action</a><br/>Synced 5 W&B file(s), 0 media file(s), 0 artifact file(s) and 0 other file(s)"
      ],
      "text/plain": [
       "<IPython.core.display.HTML object>"
      ]
     },
     "metadata": {},
     "output_type": "display_data"
    },
    {
     "data": {
      "text/html": [
       "Find logs at: <code>.\\wandb\\run-20241022_194948-8zck9dqb\\logs</code>"
      ],
      "text/plain": [
       "<IPython.core.display.HTML object>"
      ]
     },
     "metadata": {},
     "output_type": "display_data"
    }
   ],
   "source": [
    "model_registry_path = \"praptipatil01/model-registry/Iris\"\n",
    "run = wandb.init()\n",
    "\n",
    "inputs = {\n",
    "    \"sequential_best\": tf.convert_to_tensor(test_dataset[[\"sepal_length\",\t\"sepal_width\",\t\"petal_length\",\t\"petal_width\"]].values, dtype=tf.float32),\n",
    "    \"functional_api_best\": [tf.convert_to_tensor(test_dataset[[\"sepal_length\",\t\"sepal_width\",\t\"petal_length\",\t\"petal_width\"]].values, dtype=tf.float32), tf.convert_to_tensor(pca_model.transform(test_dataset[[\"sepal_length\",\t\"sepal_width\",\t\"petal_length\",\t\"petal_width\"]]), dtype=tf.float32)],\n",
    "    \"subclassed_best\": tf.convert_to_tensor(test_dataset[[\"sepal_length\",\t\"sepal_width\",\t\"petal_length\",\t\"petal_width\"]].values, dtype=tf.float32),\n",
    "}\n",
    "y_true = tf.convert_to_tensor(test_dataset[[\"species_1\", \"species_2\"]].values, dtype=tf.float32)\n",
    "accuracy_metric, loss_metric = tf.keras.metrics.CategoricalAccuracy(), tf.keras.losses.CategoricalCrossentropy()\n",
    "\n",
    "# \n",
    "for aliases in [ \"sequential_best\", \"functional_api_best\", \"subclassed_best\" ]:\n",
    "    artifact = run.use_artifact(f'{model_registry_path}:{aliases}', type='Models')\n",
    "    artifact_dir = artifact.download()\n",
    "    model = tf.saved_model.load(artifact_dir).signatures['serving_default']\n",
    "\n",
    "    if aliases == \"functional_api_best\":\n",
    "        y_pred = model(inputs=inputs[aliases][0], inputs_1=inputs[aliases][1])[\"output_0\"]\n",
    "    else:\n",
    "        y_pred = model(inputs[aliases])[\"output_0\"]\n",
    "    accuracy_metric.update_state(y_true, y_pred)\n",
    "    loss = loss_metric(y_true, y_pred)\n",
    "    logger.info(f\"{aliases.title()}: Loss - {loss}, Accuracy - {accuracy_metric.result().numpy()*100}%\")\n",
    "    accuracy_metric.reset_state()\n",
    "    logger.debug(\"\")\n",
    "\n",
    "run.finish()"
   ]
  }
 ],
 "metadata": {
  "kernelspec": {
   "display_name": "DL_WS",
   "language": "python",
   "name": "python3"
  },
  "language_info": {
   "codemirror_mode": {
    "name": "ipython",
    "version": 3
   },
   "file_extension": ".py",
   "mimetype": "text/x-python",
   "name": "python",
   "nbconvert_exporter": "python",
   "pygments_lexer": "ipython3",
   "version": "3.11.4"
  }
 },
 "nbformat": 4,
 "nbformat_minor": 2
}
